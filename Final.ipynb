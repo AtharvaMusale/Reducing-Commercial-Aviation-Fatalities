{
  "nbformat": 4,
  "nbformat_minor": 0,
  "metadata": {
    "colab": {
      "name": "Final.ipynb",
      "provenance": [],
      "collapsed_sections": []
    },
    "kernelspec": {
      "name": "python3",
      "display_name": "Python 3"
    }
  },
  "cells": [
    {
      "cell_type": "code",
      "metadata": {
        "id": "VaUI9tHMWFF5",
        "colab_type": "code",
        "colab": {
          "base_uri": "https://localhost:8080/",
          "height": 224
        },
        "outputId": "02209434-0ca0-4de8-9c2a-b6488d49e0c3"
      },
      "source": [
        "!wget --header=\"Host: storage.googleapis.com\" --header=\"User-Agent: Mozilla/5.0 (X11; Linux x86_64) AppleWebKit/537.36 (KHTML, like Gecko) Chrome/84.0.4147.105 Safari/537.36\" --header=\"Accept: text/html,application/xhtml+xml,application/xml;q=0.9,image/webp,image/apng,*/*;q=0.8,application/signed-exchange;v=b3;q=0.9\" --header=\"Accept-Language: en-GB,en-US;q=0.9,en;q=0.8\" --header=\"Referer: https://www.kaggle.com/\" \"https://storage.googleapis.com/kaggle-competitions-data/kaggle-v2/11835/224935/compressed/train.csv.zip?GoogleAccessId=web-data@kaggle-161607.iam.gserviceaccount.com&Expires=1597640517&Signature=QRdQpSVbTEc2jGyNRotvi7hYO%2BEuWfNLBjmfVggVHIOPykxBu8QENQovyEOEeUCF7C7Nuu2FjpI2jKhLYCuh18NSR1iAC4iGcTWKYG9oBkqA3G0cnjm2vQWnI820mboarvJoyU8rU5%2BTwm4qTdLq9g3a77J3yH%2FwOstZ53cjhnzPTM2O8EjyLzFPZTOqzqieEIlWZB9GKBbFXIjsn6CAFpod437PNHiPRyoLbVOi3kJ8BruAI6gDu0pXf8jCaCSQCJGml0oYPGqVss15NkrwlJcGUHvyVhfKt7S7V%2Fcp%2Br0MZ7p1puJW2F7IYO%2BuQi%2BMJvHxOclbnKRJmaszqiM7gw%3D%3D&response-content-disposition=attachment%3B+filename%3Dtrain.csv.zip\" -c -O 'train.csv.zip'"
      ],
      "execution_count": 3,
      "outputs": [
        {
          "output_type": "stream",
          "text": [
            "--2020-08-14 23:24:07--  https://storage.googleapis.com/kaggle-competitions-data/kaggle-v2/11835/224935/compressed/train.csv.zip?GoogleAccessId=web-data@kaggle-161607.iam.gserviceaccount.com&Expires=1597640517&Signature=QRdQpSVbTEc2jGyNRotvi7hYO%2BEuWfNLBjmfVggVHIOPykxBu8QENQovyEOEeUCF7C7Nuu2FjpI2jKhLYCuh18NSR1iAC4iGcTWKYG9oBkqA3G0cnjm2vQWnI820mboarvJoyU8rU5%2BTwm4qTdLq9g3a77J3yH%2FwOstZ53cjhnzPTM2O8EjyLzFPZTOqzqieEIlWZB9GKBbFXIjsn6CAFpod437PNHiPRyoLbVOi3kJ8BruAI6gDu0pXf8jCaCSQCJGml0oYPGqVss15NkrwlJcGUHvyVhfKt7S7V%2Fcp%2Br0MZ7p1puJW2F7IYO%2BuQi%2BMJvHxOclbnKRJmaszqiM7gw%3D%3D&response-content-disposition=attachment%3B+filename%3Dtrain.csv.zip\n",
            "Resolving storage.googleapis.com (storage.googleapis.com)... 74.125.142.128, 74.125.195.128, 74.125.20.128, ...\n",
            "Connecting to storage.googleapis.com (storage.googleapis.com)|74.125.142.128|:443... connected.\n",
            "HTTP request sent, awaiting response... 200 OK\n",
            "Length: 456337398 (435M) [application/zip]\n",
            "Saving to: ‘train.csv.zip’\n",
            "\n",
            "train.csv.zip       100%[===================>] 435.20M  61.9MB/s    in 7.0s    \n",
            "\n",
            "2020-08-14 23:24:14 (61.8 MB/s) - ‘train.csv.zip’ saved [456337398/456337398]\n",
            "\n"
          ],
          "name": "stdout"
        }
      ]
    },
    {
      "cell_type": "code",
      "metadata": {
        "id": "__h24Zk2WQtk",
        "colab_type": "code",
        "colab": {
          "base_uri": "https://localhost:8080/",
          "height": 51
        },
        "outputId": "be994d3d-9870-49c0-da64-71de9438ee2c"
      },
      "source": [
        "!unzip train.csv.zip"
      ],
      "execution_count": 4,
      "outputs": [
        {
          "output_type": "stream",
          "text": [
            "Archive:  train.csv.zip\n",
            "  inflating: train.csv               \n"
          ],
          "name": "stdout"
        }
      ]
    },
    {
      "cell_type": "code",
      "metadata": {
        "id": "ut8lY0jmihkB",
        "colab_type": "code",
        "colab": {}
      },
      "source": [
        "# Improting required libraries.\n",
        "import warnings\n",
        "import itertools\n",
        "import numpy as np \n",
        "import pandas as pd\n",
        "import seaborn as sns\n",
        "import lightgbm as lgb\n",
        "import matplotlib.pyplot as plt\n",
        "from tqdm import tqdm_notebook as tqdm\n",
        "from sklearn.preprocessing import MinMaxScaler\n",
        "from sklearn.model_selection import train_test_split\n",
        "from sklearn.metrics import confusion_matrix, log_loss\n",
        "import dask.dataframe as dd\n",
        "import dask\n",
        "import gc\n",
        "warnings.filterwarnings(action='ignore')\n",
        "sns.set_style('whitegrid')"
      ],
      "execution_count": 31,
      "outputs": []
    },
    {
      "cell_type": "code",
      "metadata": {
        "id": "JFrXwZEPi6pK",
        "colab_type": "code",
        "colab": {}
      },
      "source": [
        "# This is to be used for memory optimization because the data is very large.\n",
        "# For more information about iinfo refer- https://numpy.org/doc/stable/reference/generated/numpy.iinfo.html\n",
        "# np.iinfo gives machine gives machine limits for integer types, so based on max and minimum value  of that feature we can \\\n",
        "# convert the feature values into best suitable optimum datatype to reduce memory usage.\n",
        "def reduce_mem_usage(df):\n",
        "\n",
        "    start_mem = df.memory_usage().sum() / 1024**2\n",
        "    print('Memory usage of dataframe is {:.2f} MB'.format(start_mem))\n",
        "    \n",
        "    for col in df.columns:\n",
        "        col_type = df[col].dtype\n",
        "        \n",
        "        if col_type != object:\n",
        "            c_min = df[col].min()\n",
        "            c_max = df[col].max()\n",
        "            if str(col_type)[:3] == 'int':\n",
        "                if c_min > np.iinfo(np.int8).min and c_max < np.iinfo(np.int8).max:\n",
        "                    df[col] = df[col].astype(np.int8)\n",
        "                elif c_min > np.iinfo(np.int16).min and c_max < np.iinfo(np.int16).max:\n",
        "                    df[col] = df[col].astype(np.int16)\n",
        "                elif c_min > np.iinfo(np.int32).min and c_max < np.iinfo(np.int32).max:\n",
        "                    df[col] = df[col].astype(np.int32)\n",
        "                elif c_min > np.iinfo(np.int64).min and c_max < np.iinfo(np.int64).max:\n",
        "                    df[col] = df[col].astype(np.int64)  \n",
        "            else:\n",
        "                if c_min > np.finfo(np.float16).min and c_max < np.finfo(np.float16).max:\n",
        "                    df[col] = df[col].astype(np.float16)\n",
        "                elif c_min > np.finfo(np.float32).min and c_max < np.finfo(np.float32).max:\n",
        "                    df[col] = df[col].astype(np.float32)\n",
        "                else:\n",
        "                    df[col] = df[col].astype(np.float64)\n",
        "        else:\n",
        "            df[col] = df[col].astype('category')\n",
        "\n",
        "    end_mem = df.memory_usage().sum() / 1024**2\n",
        "    print('Memory usage after optimization is: {:.2f} MB'.format(end_mem))\n",
        "    print('Decreased by {:.1f}%'.format(100 * (start_mem - end_mem) / start_mem))\n",
        "    \n",
        "    return df\n",
        "\n",
        "\n",
        "\n",
        "# In featureModify I encoded the output event of a pilot's state\\\n",
        "# while going through certain experiment.\n",
        "\n",
        "def featureModify(isTrain, numRows):\n",
        "\n",
        "    if isTrain:\n",
        "        df = dd.read_csv('train.csv',nrows=numRows) \n",
        "        df = df.compute()\n",
        "        df = reduce_mem_usage(df)\n",
        "        df['event'] = df['event'].map({\n",
        "            'A':0,\n",
        "            'B':1,\n",
        "            'C':2,\n",
        "            'D':3\n",
        "        })\n",
        "    else:\n",
        "        df = dd.read_csv('test.csv',nrows=numRows)\n",
        "        df = df.compute()\n",
        "        df = reduce_mem_usage(df)\n",
        "    \n",
        "    return df \n"
      ],
      "execution_count": 32,
      "outputs": []
    },
    {
      "cell_type": "code",
      "metadata": {
        "id": "JbG0WRQOj-bc",
        "colab_type": "code",
        "colab": {
          "base_uri": "https://localhost:8080/",
          "height": 170
        },
        "outputId": "ecb916f3-c27e-4c5f-a3fb-da0dfbab3fee"
      },
      "source": [
        "# Here we can see the 1.076 GB memory usage was reduced to 278.52 MB so its good for better usage.\n",
        "train = featureModify(True, None)\n",
        "y = train['event']\n",
        "train = train.drop('event',axis=1)\n",
        "print(train.shape)\n",
        "print(train.columns)"
      ],
      "execution_count": 35,
      "outputs": [
        {
          "output_type": "stream",
          "text": [
            "Memory usage of dataframe is 1076.93 MB\n",
            "Memory usage after optimization is: 278.52 MB\n",
            "Decreased by 74.1%\n",
            "(4867421, 27)\n",
            "Index(['crew', 'experiment', 'time', 'seat', 'eeg_fp1', 'eeg_f7', 'eeg_f8',\n",
            "       'eeg_t4', 'eeg_t6', 'eeg_t5', 'eeg_t3', 'eeg_fp2', 'eeg_o1', 'eeg_p3',\n",
            "       'eeg_pz', 'eeg_f3', 'eeg_fz', 'eeg_f4', 'eeg_c4', 'eeg_p4', 'eeg_poz',\n",
            "       'eeg_c3', 'eeg_cz', 'eeg_o2', 'ecg', 'r', 'gsr'],\n",
            "      dtype='object')\n"
          ],
          "name": "stdout"
        }
      ]
    },
    {
      "cell_type": "code",
      "metadata": {
        "id": "rLOoKCYgjCih",
        "colab_type": "code",
        "colab": {
          "base_uri": "https://localhost:8080/",
          "height": 170
        },
        "outputId": "c87bb2de-65e5-4f7d-d6a1-21b6d86b45cf"
      },
      "source": [
        "# Test data's memory usage was reduced from 3.974 GB to 1.079 GB\n",
        "test = featureModify(False,None)\n",
        "print(test.shape)\n",
        "print(test.columns)"
      ],
      "execution_count": null,
      "outputs": [
        {
          "output_type": "stream",
          "text": [
            "Memory usage of dataframe is 3974.83 MB\n",
            "Memory usage after optimization is: 1079.37 MB\n",
            "Decreased by 72.8%\n",
            "(17965143, 28)\n",
            "Index(['id', 'crew', 'experiment', 'time', 'seat', 'eeg_fp1', 'eeg_f7',\n",
            "       'eeg_f8', 'eeg_t4', 'eeg_t6', 'eeg_t5', 'eeg_t3', 'eeg_fp2', 'eeg_o1',\n",
            "       'eeg_p3', 'eeg_pz', 'eeg_f3', 'eeg_fz', 'eeg_f4', 'eeg_c4', 'eeg_p4',\n",
            "       'eeg_poz', 'eeg_c3', 'eeg_cz', 'eeg_o2', 'ecg', 'r', 'gsr'],\n",
            "      dtype='object')\n"
          ],
          "name": "stdout"
        }
      ]
    },
    {
      "cell_type": "markdown",
      "metadata": {
        "id": "ufx3S5vwXHgM",
        "colab_type": "text"
      },
      "source": [
        "Training on the model with best results: LightGBM"
      ]
    },
    {
      "cell_type": "code",
      "metadata": {
        "id": "3vl46eGdkDPp",
        "colab_type": "code",
        "colab": {
          "base_uri": "https://localhost:8080/",
          "height": 527
        },
        "outputId": "f5e930fc-8313-4340-875f-e273eb620137"
      },
      "source": [
        "def pipeline(train,test):\n",
        " \n",
        "\n",
        "\n",
        "  print('Splitting the data into train and cross _validation')\n",
        "  X_train, X_cv, y_train, y_cv = train_test_split(train, y, test_size=0.25, shuffle=False)\n",
        "  train = lgb.Dataset(X_train, label = y_train, categorical_feature = [1])\n",
        "  print('Done')\n",
        "\n",
        "\n",
        "\n",
        "  print('Making the train and cv data from LightGBM model')\n",
        "  del y_train\n",
        "  # gc is garbage collector it returns how many objects it has collected and deallocated.\n",
        "  gc.collect()\n",
        "  cv = lgb.Dataset(X_cv, label = y_cv, categorical_feature = [1])\n",
        "  del y_cv\n",
        "  gc.collect()\n",
        "  print('Done')\n",
        "\n",
        "\n",
        "\n",
        "  # Declaring the hyperparameter values. \n",
        "  params = {\n",
        "          \"objective\" : \"multiclass\", # used for multiclass softmax classifier\n",
        "          \"metric\" : \"multi_error\",   # Error rate for multiclass classification \n",
        "          \"boosting\" :'gbdt',         # Using Gardient Boosted Decision Trees\n",
        "          'num_class':4,              # Number of desired output classes is 4 \n",
        "          \"num_leaves\" : 30,          # Number of leaves in Tree based algorithms\n",
        "          \"learning_rate\" : 0.01,     \n",
        "          \"bagging_fraction\" : 0.9,   # This is randomly select 90% of data without resampling\\\n",
        "                                      # it will decrease impact of high variance on data\n",
        "          \"bagging_seed\" : 0,         # Random seeds for bagging\n",
        "          \"num_threads\" : 4,\n",
        "          \"colsample_bytree\" : 0.5,   # Subsampling fraction for feature\n",
        "          'min_data_in_leaf':100,     # Threshold on Data in a leaf\n",
        "          'min_split_gain':0.00019    # Minmimum gain threshold for splitting the node\n",
        "            }\n",
        "\n",
        "\n",
        "\n",
        "\n",
        "  # Training Stage:\n",
        "  print('Training Started:')\n",
        "  model = lgb.train(  params, \n",
        "                      train_set = train,\n",
        "                      num_boost_round=2000,\n",
        "                      early_stopping_rounds=200,\n",
        "                      verbose_eval=100, \n",
        "                      valid_sets=[train,cv]\n",
        "                    )\n",
        "  print('Training Done!')\n",
        "\n",
        "\n",
        "\n",
        "  # Exporting the trained model.\n",
        "  import joblib\n",
        "  joblib.dump(model,'final_model.pkl')\n",
        "\n",
        "\n",
        "\n",
        "  print('Predicting the output probabilities for each event for test data:')\n",
        "  # Saving the ids for further merging of features in csv.\n",
        "  df_sub = pd.DataFrame()\n",
        "  df_sub['id'] = test['id']\n",
        "  test = test.drop('id',axis=1)\n",
        "\n",
        "\n",
        "\n",
        "  # Predicting the probability values for each event.\n",
        "  y_pred = model.predict(test,num_iteration=model.best_iteration)\n",
        "  df_sub = pd.DataFrame(np.concatenate((np.arange(len(test))[:, np.newaxis], y_pred), axis=1), columns=['id', 'A', 'B', 'C', 'D'])\n",
        "  print('Predictions Done')\n",
        "  \n",
        "\n",
        "\n",
        "  # Creating the submission csv file.\n",
        "  df_sub['id'] = df_sub['id'].astype(int)\n",
        "  print(df_sub)\n",
        "  df_sub.to_csv(\"predictions.csv\", index=False)\n",
        "  \n",
        "  return y_pred\n",
        "\n",
        "\n",
        "predictions = pipeline(train,test)\n"
      ],
      "execution_count": null,
      "outputs": [
        {
          "output_type": "stream",
          "text": [
            "Splitting the data into train and cross _validation\n",
            "Done\n",
            "Making the train and cv data from LightGBM model\n",
            "Done\n",
            "Training Started:\n",
            "Training until validation scores don't improve for 200 rounds.\n",
            "[100]\ttraining's multi_error: 0.0732298\tvalid_1's multi_error: 0.150007\n",
            "[200]\ttraining's multi_error: 0.0513315\tvalid_1's multi_error: 0.0836788\n",
            "[300]\ttraining's multi_error: 0.0446361\tvalid_1's multi_error: 0.0819834\n",
            "[400]\ttraining's multi_error: 0.0376761\tvalid_1's multi_error: 0.0810803\n",
            "[500]\ttraining's multi_error: 0.0339035\tvalid_1's multi_error: 0.0818256\n",
            "Early stopping, best iteration is:\n",
            "[392]\ttraining's multi_error: 0.0380341\tvalid_1's multi_error: 0.08098\n",
            "Training Done!\n",
            "Predicting the output probabilities for each event for test data:\n",
            "Predictions Done\n",
            "                id         A         B         C         D\n",
            "0                0  0.973573  0.002153  0.020307  0.003967\n",
            "1                1  0.969859  0.002878  0.023126  0.004137\n",
            "2                2  0.973605  0.002191  0.020116  0.004088\n",
            "3                3  0.969847  0.002912  0.023105  0.004136\n",
            "4                4  0.974038  0.002179  0.019839  0.003944\n",
            "...            ...       ...       ...       ...       ...\n",
            "17965138  17965138  0.882729  0.003132  0.106111  0.008028\n",
            "17965139  17965139  0.941786  0.002305  0.048648  0.007261\n",
            "17965140  17965140  0.882740  0.003190  0.106061  0.008009\n",
            "17965141  17965141  0.941543  0.002313  0.048936  0.007208\n",
            "17965142  17965142  0.883312  0.003137  0.105549  0.008002\n",
            "\n",
            "[17965143 rows x 5 columns]\n"
          ],
          "name": "stdout"
        }
      ]
    },
    {
      "cell_type": "markdown",
      "metadata": {
        "id": "PDayhMDvYjPC",
        "colab_type": "text"
      },
      "source": [
        "This is the kaggle score which I got.I got the public score of 0.31120 and orivate score of 0.55509"
      ]
    },
    {
      "cell_type": "markdown",
      "metadata": {
        "id": "UVloi9nyYhsd",
        "colab_type": "text"
      },
      "source": [
        "![image.png](data:image/png;base64,iVBORw0KGgoAAAANSUhEUgAAA10AAABQCAIAAABtb4hLAAAgAElEQVR4Ae2dX0waWfvHvfTSS2+99NJLb700Jk0maUxMTJqQTdaYmGw0e2Hf5DVvus12UWNdYltFJ0wrSouWFiWiwE51xEUKQrVgRWf9R6BlRdFSQCTnlzN/YEDwX+v+tvgQUmfmzDnnOZ+D9OvznOdMCYIXEAACQAAIAAEgAASAABBAqAQgAAEgAASAABAAAkAACAABBLoQPgRAAAgAASAABIAAEAACPAHwF8InAQgAASAABIAAEAACQAATAF0InwMgAASAABAAAkAACAABTAB0IXwOgAAQAAJAAAgAASDwTxBI7m+5GbNhQn/uy2BZcG9Fkv+EUVl9gC7MwgEnQAAIAAEgAASAABC4DgJx/6KOfIJfSqVy6Jw3vq2f1DmC/7A0BF14HVMPbQIBIAAEgAAQAAJAQEIgFVzQPHlC6hbYC3kBk/ssM658otQuhiSNXP8h6MLrZww9AAEgAASAABAAAjecQGhR2/9EbQ1eHENyh6H6lTpn+OJVvv7OArowdXD3salEbr2Xa/+JeYIueWCqXvhyib5Th/cGTGW6j2dVSQYa5Kbquc+F7tl3OUrlNsVl4DjnbOV97rEjhAo3HltZKpXbOv9GCH1WjtDlmk22kAXnXbfOMCUPTJn3GdaG2Wq5qfZtPE+TqS9m23LtwGxZl6Wsz9bwR4BNe5C5Wun2yxRW4k0okMrTxre6FNvwVPYwrRsn36pBaAcIAIHvmEBimx7qaGokiHpZ22+jrkLfxraH9XXSFyGfSwijPjJ2ENKiusbHrvOLEEIh++ivLY31BHGnpUM1HxDbw3XDrvGuNlkDQTTI2nvGvZHvGPDFTT96Py5vldXfJhp/bH80sy3lIW0ksUkP/o/j1tjU/ti4nvP/9knY/qy9kagjfps/1UJie26wraGuTvbIlf0/QMA2ev8nseup9SNJfxe0SlLjhh36GXW/Uue6zGd0z6Htf6L5M1eKXSu4M3XhA1PlzF5W97FAQw+WPt+FLmSd7pqRNXPsgrowPjZlr5kKBLIGfPGTk0mdpXRgWfHOPyy8Q55Tv2pCcwV14Zfh8dmSB5bKkeW7c+t3dbZyuansKevhpSFXq2piE7fv2r732lr2wFJjK6ikL256oTtjfpZQLXUGsr8VCt0N14EAEChmAkf232XE7ab7I0bj68H2O3VE6+h6vq+4o5kOgmgbnKHTL286CrYz2kbUdzxLl9Dza6K6PKMo4aVaCELWMThpnHh2v4kgmh67BDmS8FI/EXV32gdf0/SZVhXVzOyMt9fXNbY/Gp8xjna11N9qlNMiRuk4w7T8Tl19i3x0ijaOPWxpqGvsms/cF7IP/txYV9/YWH9KFya26R7cbGMjkaMLE+8HWwii6RfKaDaO/95Wf6vxvlls8oJWSS28acfFoQtLFB5z2l+F0L5rqYxziX0XujDzkbuQvzBz+5WO4ophU6k2ELtI5QK6cP+9u/yBpWbuIN0I61rCV3jxl1vr871BU+nTzasK2YsYCvcAASAABDgCO+NtBNH2fJvHkXA+kt2qv09LvUUCqO2RFuKUk0kocz+SES2jm8JZ1o/CReGZjvpbTYPvBRG6/qyFuN0+wTlQEnPy+luyR06hKOEebCLq5XN5rMrq6/s+Sdh7GuvuPJwXRhmY+A9R10ytn/r7PTzZThACKITQ9vM24vZ9WvRVJej7svbB+R0v1XxKFwYn2n/sGHUH7L83ZutCrusfB71CX2HjfwniPxOcMLyoVd83+6+0vgh0YflTe5WclnmPRRRflMOWsqf2annGX7j/FytTMeVdljKFteGPj2w6rBk7ULy2VXRbSnttza7AXWkc+eDjPS1X1MPUTGxao1zzhaUb3zsfR77n3WwYoEu7LJVPPcNB/rPJCbKR7X3+vtReq8JUMYXdnJ431tIu91gy11/IetdqB+hSuaVSsz65mI4jS9r5y1Mht7a+25SRs2VyS/mgW5n2mWWN6+O9QTE+njq4O2CqMHLu1TQEEVzuz1yFx5cfD7+wlDxetUqEOEodKl5Yqw0BPLrcWl8UTyW6MPl5bMZRpbCUdtGVw8tKvzBrGEKPW/l+taYPF1W9WJs8zDUHxfyEXBIBf2AqHVz3IIQwh9nWLYQQB0fDTs45KnsspT1MrdGfCXCfag8uAAEgUGQEckQGOvEO/lBX32U/7TF09TUSraNYP55SKgn6PkF0GEVpIkVUuCgx/1t9lu7BnkWiYwbLou3nLcRteSYIemJ/2FAnS8empR0UzfGJ65GsrvF3V5o876Ad3TlnhIHX7cRtCfxI+OgEoZP1PLowEQ5zotPVl6MLUXjD5doQHYQoQf9KEO3j2DdxVavOMbrIiotAF1YYtjtVpjKtX5Bcf7PVckuDc5NI68LgenWXqXx4Vfk+MDy3VCk3VU6FOF9XfPgFXdLFNMxtD7tYmWq2vFvUT4m91n5TucqjWPk4+W69od9SNswt6buILnxgKe+3ty76h9+uEX2mEsXyJNaUEj2HEDpPF8b8a1VyU/lTj+KdX2l2VCnoEmF9oaQdrIcs5QNL9959nHy3VqswlQ6sObHaiw9rJeMiJeNKfZT1mCpUjmqFpeSBqXxgqfOvfMsH+U95rsLjrqb2Wh9jSmlnYe5vhFDrC0ohlIw7ne5KOU24+AUj8THdbEmXVTbvH1vZbFbRJd12JffLi3Wh3FKhWlZ8CJlX1ok+rPmcUumJoX0xv9seduG3csZe/sBUNbOHzcjWhSXddLWWHdsIjdnclV3puc41E86BABAoPgLeAVldw0N7RupxvqKfOU2QNdoj+hei7sf2jp8aiVt1xJ22h1OZaHPgZTtBtHT8r6WRqKu7LWsfoNMrBQsXbY+2EsQvEs9kYl5eX9ekWsd/LGOXWNu4X7QgONFO1BG/0GnNJBYU0c+IEcfpX0oCRe8HZbcaH9oLjjHx5SjwfkL+AyH7TRJH5m/PqwvFlk7rQrGE+xmc6GggWkbwRKDLW5XV1A05KQZdOBVinY7SLoeS8zBhhdG7PHmEfUtcHPlkcoIu6XVPCkLmxGpmSrocyiOEsII0Vc+LS9/CbI1c0IX775bKuh3Dops/xnnm7gVyXXqnPyTYX/jAQrwTxFZsZ7VSbql1xi+pC08mX0ttPp6cmM2vC3FfgsuNtdlK5XbFIfbY1eDkGNHhxg1TyKdJ7nW+sNdoV7HeXWFlA5aSbofy4PQ4uCv5dWGouVfwdPLVYrHjfe4dS3BfxlytdN5JyQNL1YTotOMNSwM/2ia6hbWhnjfWEjlzd0f4Oo953eVyutmX+XbPMjGxd3fQUkquCcIxRxf2Lk8KX7cnViNT0r00zPt6s5qAEyAABIqQgOtUSJH+hSB+4vyCWcM9sqs62v8rH52at9vp0V+biFuyh1Yx5Ek/6mjvePjcOG+3G1UdsltE04CX/1IJFCo6LVxOXA8bRadg0NjRUNf431GX/+jIbx/9j4wg6oj/GcX/YbIsK5ITrH2J9qm00w6hNarpFiG3FhDDm6MtXK5PfeugXVJJoHEarwTTWbowsT76cz3x4yM7z/qyVkl6uUGHRaEL91DUT3SbamxfUOqg9bGpYioUS6R14edO0lSqEb2JCKGN5XL5bPNfCH1wl8mZ1rRbO3Vwt1/QhVbjrETZ8LFLi+zDyRkpw/yHJjcfORnC/jkct5X4+c73F/I2i0FnhGLvCsWR+fgp7ly4J4zQh+UyIa7KGcVlbefPs84Rajkf/Py6cK+1T+IvPNisScd2FR5rSogjV5tDTv+B079ndq3W9JjKtX78Z6MXA7+b/qMZcSHmYbz0EKv5bvdk2kF4tF0r5yY0xyR8ejxpYEq77Z2fxLJsXViaDtYjFON7lPzJKtaBn0AACBQhgQv7C7PHnuDClPmFWsL+O+eDzKNnpEVn+Quxy9A22NbI5TjfamwbmqB+Juq7MoHlbGuK4ix8SX9hIrzu9brmxh/+VE/88HA+J4h/NV14EqB/kxH1baNr4uRd1qqimIpLD6JIdCE6ntTROPLo81RgtxNCObrwxcV0IRchRQhhXdizpAwceoLi+9NnHEq4SBxZbutM/7mT5OK2X60LebnJ7VMj0ZcZPYTnPaMLc+SXRO/mfj5SoWZxmWNuUZ6Vgvwt/PpCj7C+MBl3bu2Z/wp1jlhK+ldxFPuUmgws2vEmO+HzdGHXEl5kyb8OsdzEQv/UK/BuqUJO1zolRRkOHBxOaPL1Yu+XSuXMXdCFpzDCBSBQlAT49YXj6e0yCq8vzB5+Yv63vG5FfBfXZocx/a0uqSkpSsz/mp1XIVlfKNRIhLc31rfDCZRwPbqTSY6RtFdEhyeuR3fqGn/PrOwMT+HA8rnrCxF2HBLtk9m4r6ILj1yPcVLyI5ukqStbVUQzc/5QikUXotjGcoV8tmrAUjqw5klJdWFOTPbEmRNHzhdv5XSYFQeO+Vc4NLyyx15QFz6wEC4xjryVjiMfD2vEPAmE0OF2bdcZeSeCzWNCAPQYh5Xzry/M5y/8tF4tFVUHmzVdgh8UBdmaPka2IubocCHmvPILj/uUwuNhCPnIbzL5yOgw0KAwlfOLDk/VCry1l/J7TOYE7o+wl7eSS4LBceQHs83iHoQ4jv+ATp8Ks4AQ+nuztttUMc55H9NXs3VhSU86cHxiNsxCHDnNCQ6AQPET4NRYbj6y+VTA9sRL/SRrGRKzIhLewea6+l/51YEJe1+T7D+jYubsEZdX+4i79YwihHVPJh85gfORiXZ+TWHC/qjphzZKTFUOz8kbiZbRjeKejcR8V2PdHbno+SuUj5xwDbU1tVPiTCC0QbXc+npdmFh/3o63p5lK/y/O076gVcU9NeeNrmh0IUrifAhuz0JuvWDGX4hQAOedVJyZdzLmYmXS/IxYqPmxqbSfS+ng1uGVPvaYL6oL6fJ+e7NNzDvpW+aXNnrmrKUP6JqpzWEX2zzMlJ+lC1Fs54J5J/l0IfqiHLGU9Nia3wYmvdutT2fL0rowddhJckXz28Nv1xr6LSUKbkvtvJ8TTuFVvd5UcqkeOOHjXYhL5c7av/DejLu611TS41DgbbcFNSnsX/huWzm3XN1jKu3n1wKKeScLOO+klcs74WtxeSd0xaDjrtM/bPPU9JhKB7kqqcN7gxa8OSJCKHlwj7SUyBnZgpB9MvxuD//S5+pCunJ4lc/XqcjkGOUdIVwEAkCgyAgczffI6m433VdNGF8+wvsXtlDC2sCgsaORaFLxZwnvUBPebHBogjZPDP5XRhBNg24h2nhkfYjXFP5KGc30+OP2xltE23MuawGhM4rQF9dgM0HI2gdfGieGOmQEIesTVrWJRR2DYxMTz+Qt9XWyHnH/liLDLx3O5mhbfV3jz4/GJyeo35qIzCaCCddQE9F438htGHlkfyS7RcjaH41OGY1jgx0/EHWN9+n0XpJ8g5f0FwZm7jfeqqv/6eH4lNHIv2dcgkIsaJXU9Jt9XDy6ECHnH0xJl13IopDqQoS4fWo4eaSwEn98zOxdEjtQ6GwV3SZunxrJfi5Y33y8p7Xioi66SrM69jeXAyGJI6fzLfisi/3YcSyFOEejQ+Hj9qmRS/epQShxqNRZy7tMZX321hV/a98Z/kL8oWS9q7X9wj41Zqe77OL+QoRQdK9znDO+1yp768/af+dor/O1DW/j0o3HNfyJG1dCyB3JjCUpKLysdZbypTH+mzP9vBO5qayXqdGtC3xEXZiuVdo9W/VibSwsZpAkPw/POKp68+1T0+VW+tZqH3P71GjWJvlsmNRh51O6fIRLBg+uV6XXMvKPbOGXJGbrwtJhdtK2VNVjKu1maqb8wm7bN/vXHEYPBG4QgcQ2PSA876Tl11F7WmGEaLmssW3EK6A4Cdufy9tk9cTtelmrfNQudSzhp2jc5x7AUf9j+8OX4vbUuOYZRQgF7dQvLY23CaKxqWNoPuv5HsF5XFRP1N9pua/KLireuQm7ueedEET9j+2PMhnfCe+zlvof0rtcJwK2UfnPTZhbg6zt10F6R1wOmCZzOV3IJZtnPbCmru62fF78X6iAVenObvzB960L/x+nj9OdafXDH1xuG+1rNT51vJ/+zUrhTJFyQ/rb8XTHOP8jZyyl0hWZp2t86yvYX8hv4vhVLUsWX35VO1AZCAABIAAEgMCNJBBc0PQ/0Wb+oroAhCtUuUCrZ99S4Dl4Z1e63tK4B+dbZL2dh+LfI9fb9bmtf+5UWcoGljvfh8wbAcWEtUw+K/sgrinMU/skEMgaiPmvPWuw8L6GeVr42kugC7+WINQHAkAACAABIPD1BOKsmXryZMTsEze7O6fJZMQ7o37ST9Fb6dTRc2p8k+J/oS78JuO6rkZi4cDdFziOXCK3VAw6Wlc+F9yG+rpMuFy7oAsvxwvuBgJAAAgAASBwPQTC7w1U/5MnpFo3YTBMnfk26LVq5ZMnTyijN2dzoesxLdMq6MIMCzgCAkAACAABIAAEgMC1EUiGfQvTWkrZ/+ScV7+SVGun7WzkH/UV4nGDLry22YeGgQAQAAJAAAgAASDwXREAXfhdTRcYCwSAABAAAkAACACBayMAuvDa0ELDQAAIAAEgAASAABD4rgiALvyupguMBQJAAAgAASAABIDAtREAXXhtaKFhIAAEgAAQAAJAAAh8VwRAF35X0wXGAgEgAASAABAAAkDg2giALrw2tNAwEAACQAAIAAEgAAS+KwIFdWHYqcP76/DvIb2bf6hu3rGlQotanXs/b9n/58XIsl5jDV7JguOxcbpUxbLpytE95WJIeMzn4WZtn8ecSpd964PAWpV8tnkj+xEvB5s1XSbiXfbFy/dsnpqtXfxy+XpQAwgAASAABIAAECh+AgV14e6c2uCJXghA8enCqL/hsa1mwNb5SQTw93p1/6qV14L/hC40lY8HpErbM2ctfQC6UJwO+AkEgAAQAAJAAAhcA4FCujDunaLorTM6TIZ9jH6EJFUag2OFEf2FkY0Fw3OKUlFqPePDuibOmqiMvgwuaLSLoRSKB93mcTVFUeqXtHc/dzPvU40ghJIRSXcLLwX3ZHLfx+jVJElS49MOf+5zh7G/8I3bbdRQJKl+xXj3koXsyRnnvmupyrjnWbBXv+GeYhjerO21lMotZb3Wu1sIYV3o7pxzVPZYSnutMtdnvnossC1TMeXdlvJ+e6uX88kdbtY+dt+dslX02u7thpr7rPdE96Vn3lZhCMXQCbviqe2ny7vpCtXy8N+cOzCwVtVvrVY4lOlHKKb2Wvut1YM07y+U+vzYBVvlDOfLPQrd0zAVvXR5n631Pe8R/DL5h6NKQZf1zFbrNp0JbKakbtw8t1TVaynrZWqNAfb63J85cOEUCAABIAAEgAAQ+LcSKKALU2HHOKXV69QqJakxLLCnns4XcmhHplf2kigVDzr01BAn1I53Fyam3cE4lnHvDeoZXxyhuM9MTXl5yRayabW2EEJhx0sNvYmdkdENZtoRzBKG+RpBIYdObVgJxYXuSK67ZHDhucb8AT8kJupf1I9Me4+yMEeW9UqVftEfRSgZXjWrtYvBZF57smohFFdqrHcDCB1s1g6uOXnBlOMv7JolbAf7KRTY8FT1Lo3hZyTHx17bZc7DGEKxwHp137I5ySnIrtkGF/8M5RPrFFM9x2u9z50qpvmvExQLtT5d6tw5RuiEXXRUaP1YSwfWqlRrSgNTsyAqTt9y5TCr0J2lC61Ts1Uze/sIxT5tysY3PSkU86/XjqyZjxBKxcfGZ2tsWCymdWHgraPi6Zr1CKHYgUIzm+4rhwWcAgEgAASAABAAAjeHQAFdiOKhDS8bjMSTycjWgo7SufeymGCFZw8Jl5Jb9LOs9YXJWCS0alaPO8IpThiqp30xhFIhx7h2EUdmw45XaoNrN5qlB7Paxx5CSSMhu6S7Y9ZMcd3tMGr9iqhYk7tv1PrlrMB3ZFlPmVixEyxGFwJ57cnu+mCzVrXuwdfiwy+sd3e40hxd2Ls8ybebOrg7kPEC4lsTcXaHre21Kw45XahYzqxE3FqtJLmW/2ZrHnusomUIodjRF6fLXTG45knxupD1+NeqBnhVejysnSXefZl8faYuNDKV49vOo9MLEE/2Dw7HpqwVU3i+RF34RfGUaf1LHPjOauVTyWJK8TL8BAJAAAgAASAABG4UgUK6UAohuTun1rlEAcaVbNGUYVWM26ZCi+OcUEtF2D+ntRqNVm+YntGpxx0h7GyL+0xq80Yc7Tl0XBAZa75938KMTk1RGgPjDUn0EUIoXyN5u4t/mKYsmVB32KXjnJEZy7PzTpK+GcqME0ny2JOpgxBrs5U+MJWI7wojp4hzdGEm7+TwHsnrwhOP01M7MFs5aK8dd1T12BUHfMRZkqGCw8G2zr8Ru2Cv5JtNfR6bcVQ9ZqpUDuKFrYIXgthfyLIp7FNs/esEuy37licTJ2frQhQ7UE7hqHHFoOPue85DeRi6p7VV9jHVw0sNT2crDBJdmDpofWwq66HLe4V3WdozKmUBx0AACAABIAAEgMBNIlBAF6Yiu77dtPNtl8nVhVn+wuMtM+cvTLJm6pUjzMu80KJW0IUo7ptWW9jQKd2GUvGwZ1r90hGWEM/bSPBPjTZ9V9o9uUOrJyT+wrk8/kKSi2VzzXP+Qm55X0F78H2fO1W2e+l0k6if6PfgiPC5uvBou7bXoeRHkgo1K/LpQoScZmvNfKjzKdPKuSFjXne5at3DEwusVfHijNeFCAWcjgpdwDpv40RkRhdajQwfFEYIed5YhfWFIsP9nfWaXrvyEFmNs1VGHFnGoWmbPUsXoi+dTxnBFSpWhJ9AAAgAASAABIDADSdQSBeGHOPq6eVQPJWMBhx6dW4cGYUWs9YXcgv+klu0+pUjFEfoOOKjNUot7y/EHrrpEb3+JR9ERuh4l9EaHNhNmIx8MKtfubN0Yb5GksEF7YiZy1CJB50GYTmjZH1hHK8vNJxeX0ieWl+I5zvHHulH4NN6tRC95a/GlSOzzT7stKvpXVKGuShtVj6y6C+M+gmFQ/HpBKFjp81R3pVfF+K1g4+Zyv5VftlizLdcQa45YwglPg+/Zkql/kIcXQ40KJhKIVslowsDi/byp+vOGIr97Zf1WzhdGB/WMsRb7CaMBdlahUN5hJxmpmoqtJ9CsYOPrYOWbF2I2LeOyhHWenSCUnHzH46aN2dsRCQFBMdAAAgAASAABIBA0RIooAu5UC9O9R1SUs8Ni1yOSDaDZPgDo1Nz+chOr5AgnIqw+JqSVOsZJ5P2F2IhNkM+eY4zkflXZGNBP0KRJKl+Sa98OhVHztNIMrzK6HD6s1qa/pzcOycfWWv1CvnIL2kuH5nvP9ee9NCcb6xChFe8xNrsFa8/xlB8csZe0U1jjZhXF6ITz1t3Va+ltIepNa819BXQhanDewOmSrMowlJfxgy2im5LmcLWPLec4y9E6MRsmC19uslto5jRhShxoNAy5d105dNVxYyQjxwLbsvI2bJuS3mfvfkdF0c++nh3eLasy1I+6O405vgLsToW8pG76aoXa5Pp3Gdx4PATCAABIAAEgAAQuGkECurCbwsCJ47gTORv8UoFF56fuc/2BTr5lvZcoDu4BQgAASAABIAAEAAC/34C168LU8n4IUs/1zq+RhburxgmFrbwNjTJyAatGWF2s52MlwD9Tey5RH9wKxAAAkAACAABIAAEvg8C164Lk1s0RaoNTryr4Ve84rvOae0zEoeeX5lXPl29sW9kz1cMBaoCASAABIAAEAACQOBfSeDadeG/ctRgFBAAAkAACAABIAAEgEAuAdCFuUTgHAgAASAABIAAEAACN5MA6MKbOe8waiAABIAAEAACQAAI5BIAXZhLBM6BABAAAkAACAABIHAzCYAuvJnzDqMGAkAACAABIAAEgEAuAdCFuUTgHAgAASAABIAAEAACN5MA6MKbOe8waiAABIAAEAACQAAI5BIAXZhLBM6BABAAAkAACAABIHAzCYAuvJnzDqMGAkAACAABIAAEgEAuAdCFuUTgHAgAASAABIAAEAACN5MA6MKbOe8waiAABIAAEAACQAAI5BIAXZhLBM6BABAAAkAACAABIHAzCYAuvJnzDqMGAkAACAABIAAEgEAuAdCFuUTgHAgAASAABIAAEAACN5PAV+rCuHeK1LkjedgFFzQUvZXKU3KJS0l2mtQ69i5RQ3pryKGlxh2hS9pwtVrSfvMeR1w60uiL5y271MWoz6xWm7mWou/15MRK9FLV4WYgAASAABAAAkAACBQgUMy6MLrjXnDtXlY2Xa1WAbyZyxfShXsOLTnNJjO18hwlwz7bom8P3wS6MA8fuAQEgAAQAAJAAAhclUAx68KrMrmWet9MF0qsA10ogQGHQAAIAAEgAASAwNcSKKwLD9nFGZ2aUipJtZ5eCaYjoMmwj9FrVEqlSjPt2lqRxJGjfof5pZocItWvGJ+vQBw5HlyhdWoVblZHr4SO8QBy9M3uHKWxBnEBF0de3PDSLyklbtbsDvB2JFkTqbN7HVMackhJvaS9e5Etm0FDcVa5BWOlzUbYBYOWUiqV5HPD4pboQzzXmKNdh4mzltIYGC9vLTYL9+5zm7TUEB4H8yGcz8cXD72ndSOkcojS0l7WIYkjpyKsfVr7jFSq1NqpBd8+V3vTTD4RXiS9hYd/HPZZDVo1qRwiNROMl/MRotQuo1Yz/lxu+QeI74IXEAACQAAIAAEgAAQuRKCALkyFHS9JjcUbPIzHD3cdE6TausuJl/jWGzX5kvEFI5H9oJdTeML6wn23XqWedu+GDyOhzUWDhiLzrC9Mbr1RUwbH7kE8fhR0TFBae+gcXThEUtppx1Y4chjachgolX7lgBOMJiU5Mu3wR+LxsNek5kRqMJ5MRjYZ7ZDOsY8Hn9GFB269Ssv4QtF4POyjNc+mfTHcyDnGJEOL46TGsrK7H4l8YhcnKGrGxynKJGtSkmrD4mYknoyHV83qITiYtnUAAAXsSURBVP3KYS7u6Oo09Uy/yIYih+Fd17SWIpXC+sLkLqNRTyyynyLRgxD7p47SMLucPk6GcBzZF08ivCYyuWvVkOOM71M0Hg1vWbXkuCOcQvl1Yf4B5poE50AACAABIAAEgAAQOINAAV2InVXxuJixEV81kK+47JIjr0GaCHK8RT9T8rpwl1FTJjbtVYy4dMo8ujDqNSi1DqwF8SuZ5N1sGQHHXc7yFw4pDR7RvYeiuHssJbEyU1t3+WbQDk2pzFt8W6nQopY0c2v0Ms0GFtSUmdOCfLd8vXOMSbJmSi0oNlzhcEUvjJ3rneGFMkJ8jxt894JFCIUd46T+vcTyKVEXRr0GyuBNl+DqFL3JVc9ZX5iKxzm9iBvdd+tIgzdeQBfmH2DaGDgAAkAACAABIAAEgMD5BM7QheHdVfciQ08bdDg+O+4II4T8OIa5K+pFxAk1ThdGVyakMgghrFTy5CNHNxkNSWomzAtO79aeICMzAo4zOEsXkhkZiRAKO7XkjC/JRXK1nEW4xg5DPUtbhQWZmVNpmWaTIfcEpXymm36zuOILRkUJd7YxYQffVxoibnnal+TjyJneUcT9ipz+kJbE3P1J1kxqF0UBLFjO+wv9jLpfSarI9FvZrxQU5CldGNr0Ov5kzEa9boR8ouTUZN44coEBpk2HAyAABIAAEAACQAAInEuggC6M7zLPSc3UgsPj2/KHwu+ncRCT14UZBYZDtV4Dv08NpwuXJRvW+PPrQuwljIa2Vt0LFr2apAzLuNWMgOPs3X1DqaXrC6XqStBqeIVfRpmdqwtxs/GIn12xM9PjFPmc2cJxZPw6w5hr1IWU2XcQiRym39Eo7xfM0oVRn0lNaqcX3F52KxgKOPRkYV2Ih5J/gPww4V8gAASAABAAAkAACJxLoIAu9DPqZ+lAKYq4dYK/kAvkLn4Smz1mzZQYR7aqyZnM/nxhZ944MoofhCNibDT6Xo+DyimE49Qv094/HN7N6MIh0ZeG+8TqU4wjX0YXHkfD+6I/L7nLqAWHYl5j0iIVx5FHJHHkI2kcWdJ7Xn8hjiMr9RmhHPVOKYX1hTzDjNiNhvwhwYW5z60v5Plgj6Mmgzq4qBkqrAsLDFCcJ/gJBIAAEAACQAAIAIHzCRTQhQduPamhPwQjR5EQu2gYEePIKCvvZMWiV4vrCxGfd+Li8k7YRcNzdb68Ey6d5Y0vdBiN7uE0EsrESck9h3ZIbfYEI4fhLZdZq5LqQko9Luad2PWUyuDFGR6X8xfGWTNFGRw74Wg0ElyltUKEN78xaV2IpHknoZy8k3N1IYp+mKYoSd6JmhLzTuJbc2pSS3sD4ehhaMuup6hp7xE3VVgyYg7haBIvW3xO6qxs6DAaCfoW9JSycBy5wADPn364AwgAASAABIAAEAACaQIFdCHid6MhlUpSY1jwucQ4MpZk4j41lHbaves1ZZ53EvU7cJR2iFTrF9jNRe2zPOsLk/u+hQkNNfREqVLraHdQiOcmQ8tmvI2MSqP/k/W+ke5To3fv+IR9al6axS1oLqcLEYrvusw6NalUKimtYWEjwq8wzGtMRhcihCT71Oiz96nJRLHz+wtxYBfvU4N3maF0tHfXrc887yQZYW3TeAMapXTzHQw39N6sfaYkTThxJhlaoV/hm3BG9urimXHk/ANMTzMcAAEgAASAABAAAkDgXAKFdOG5FeEGIAAEgAAQAAJAAAgAgaIiALqwqKYTBgMEgAAQAAJAAAgAgSsTAF14ZXRQEQgAASAABIAAEAACRUUAdGFRTScMBggAASAABIAAEAACVyYAuvDK6KAiEAACQAAIAAEgAASKigDowqKaThgMEAACQAAIAAEgAASuTAB04ZXRQUUgAASAABAAAkAACBQVAdCFRTWdMBggAASAABAAAkAACFyZAOjCK6ODikAACAABIAAEgAAQKCoCoAuLajphMEAACAABIAAEgAAQuDIB0IVXRgcVgQAQAAJAAAgAASBQVARAFxbVdMJggAAQAAJAAAgAASBwZQL/B+sWfF0k27inAAAAAElFTkSuQmCC)"
      ]
    },
    {
      "cell_type": "markdown",
      "metadata": {
        "id": "UNY7A6bWtA-k",
        "colab_type": "text"
      },
      "source": [
        "# **Predictions-**"
      ]
    },
    {
      "cell_type": "code",
      "metadata": {
        "id": "D0uo8DNFVsAk",
        "colab_type": "code",
        "colab": {}
      },
      "source": [
        "import joblib\n",
        "model = joblib.load('/content/drive/My Drive/ML case study/models/final_model_cs.pkl')"
      ],
      "execution_count": 4,
      "outputs": []
    },
    {
      "cell_type": "code",
      "metadata": {
        "id": "lLv7u20qWeFQ",
        "colab_type": "code",
        "colab": {}
      },
      "source": [
        "def function1(X):\n",
        "  pred = model.predict(X,num_iteration=model.best_iteration)\n",
        "  return pred"
      ],
      "execution_count": 22,
      "outputs": []
    },
    {
      "cell_type": "code",
      "metadata": {
        "id": "e0m02kbQYQ2D",
        "colab_type": "code",
        "colab": {
          "base_uri": "https://localhost:8080/",
          "height": 765
        },
        "outputId": "f9453afc-45b4-434b-f168-cb2d432be311"
      },
      "source": [
        "from sklearn.preprocessing import LabelEncoder\n",
        "from sklearn.metrics import accuracy_score,log_loss,confusion_matrix\n",
        "lb = LabelEncoder()\n",
        "def function2(train,y):\n",
        "  print('Testing the model for Set of Datapoints:')\n",
        "  print('#'*40)\n",
        "  X_train,X_cv,y_train,y_cv = train_test_split(train,y,test_size=0.2,random_state=30)\n",
        "  y_pred = function1(X_cv)\n",
        "  y_pred = np.argmax(y_pred, axis=1)\n",
        "  print('Accuracy score of a model is:',accuracy_score(y_cv,y_pred))\n",
        "  print('Confusion Matrix of a predictions is:\\n',confusion_matrix(y_cv,y_pred))\n",
        "  print('*'*100)\n",
        "\n",
        "  print('Testing the model for single input:')\n",
        "  print('#'*35)\n",
        "  train['experiment'] = lb.fit_transform(train['experiment'])\n",
        "  index = np.random.randint(0,30000)\n",
        "  data = train.iloc[index,:]\n",
        "  print('Data to be used for prediction is:\\n',data)\n",
        "  print('#'*35)\n",
        "  y_pred = function1(np.array(data).reshape(1,-1))\n",
        "  print('Predicted output event is:',np.argmax(y_pred, axis=1))\n",
        "  ytrue =(y.iloc[index])\n",
        "  print('Actual output event is:',ytrue)\n",
        "\n",
        "  print('*'*100)\n",
        "\n",
        "\n",
        "function2(train,y)"
      ],
      "execution_count": 36,
      "outputs": [
        {
          "output_type": "stream",
          "text": [
            "Testing the model for Set of Datapoints:\n",
            "########################################\n",
            "Accuracy score of a model is: 0.9512565678978104\n",
            "Confusion Matrix of a predictions is:\n",
            " [[567721    181    375   1015]\n",
            " [  9692  16371      0      0]\n",
            " [    72      0 330813      0]\n",
            " [ 36116      0      0  11129]]\n",
            "****************************************************************************************************\n",
            "Testing the model for single input:\n",
            "###################################\n",
            "Data to be used for prediction is:\n",
            " crew              1.000000\n",
            "experiment        0.000000\n",
            "time             10.328125\n",
            "seat              0.000000\n",
            "eeg_fp1           4.082031\n",
            "eeg_f7           -5.148438\n",
            "eeg_f8           -2.011719\n",
            "eeg_t4           -0.316162\n",
            "eeg_t6            2.355469\n",
            "eeg_t5           -9.617188\n",
            "eeg_t3            6.359375\n",
            "eeg_fp2          11.187500\n",
            "eeg_o1           -1.160156\n",
            "eeg_p3           -9.742188\n",
            "eeg_pz           -7.375000\n",
            "eeg_f3           -8.859375\n",
            "eeg_fz           -3.935547\n",
            "eeg_f4           -2.685547\n",
            "eeg_c4           -3.185547\n",
            "eeg_p4           -4.679688\n",
            "eeg_poz          -3.886719\n",
            "eeg_c3          -15.039062\n",
            "eeg_cz           -9.382812\n",
            "eeg_o2            1.080078\n",
            "ecg          -18352.000000\n",
            "r               666.000000\n",
            "gsr             835.000000\n",
            "Name: 1144, dtype: float64\n",
            "###################################\n",
            "Predicted output event is: [2]\n",
            "Actual output event is: 2\n",
            "****************************************************************************************************\n"
          ],
          "name": "stdout"
        }
      ]
    },
    {
      "cell_type": "code",
      "metadata": {
        "id": "17FaP0lNYa5m",
        "colab_type": "code",
        "colab": {}
      },
      "source": [
        ""
      ],
      "execution_count": null,
      "outputs": []
    }
  ]
}
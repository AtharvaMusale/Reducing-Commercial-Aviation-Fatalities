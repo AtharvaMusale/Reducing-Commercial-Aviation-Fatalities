{
  "nbformat": 4,
  "nbformat_minor": 0,
  "metadata": {
    "colab": {
      "name": "Model_Building_1(Training_on_created_features).ipynb",
      "provenance": [],
      "collapsed_sections": [],
      "toc_visible": true
    },
    "kernelspec": {
      "name": "python3",
      "display_name": "Python 3"
    },
    "accelerator": "GPU"
  },
  "cells": [
    {
      "cell_type": "markdown",
      "metadata": {
        "id": "VS6n9OB_1LHF",
        "colab_type": "text"
      },
      "source": [
        "**In this ipynb I have tried to use difference between various eegs as a feature and tried some models on it.**\n",
        "***The data used in this file is same as that of EDA and FE notebook where I have created these features and took care of data imbalance and normalization.***"
      ]
    },
    {
      "cell_type": "code",
      "metadata": {
        "id": "SZfunUJElXBv",
        "colab_type": "code",
        "colab": {
          "base_uri": "https://localhost:8080/",
          "height": 122
        },
        "outputId": "6735aaad-cfc1-466b-fb2e-1434529732b5"
      },
      "source": [
        "# mounting the drive.\n",
        "from google.colab import drive\n",
        "drive.mount('/content/drive')"
      ],
      "execution_count": null,
      "outputs": [
        {
          "output_type": "stream",
          "text": [
            "Go to this URL in a browser: https://accounts.google.com/o/oauth2/auth?client_id=947318989803-6bn6qk8qdgf4n4g3pfee6491hc0brc4i.apps.googleusercontent.com&redirect_uri=urn%3aietf%3awg%3aoauth%3a2.0%3aoob&response_type=code&scope=email%20https%3a%2f%2fwww.googleapis.com%2fauth%2fdocs.test%20https%3a%2f%2fwww.googleapis.com%2fauth%2fdrive%20https%3a%2f%2fwww.googleapis.com%2fauth%2fdrive.photos.readonly%20https%3a%2f%2fwww.googleapis.com%2fauth%2fpeopleapi.readonly\n",
            "\n",
            "Enter your authorization code:\n",
            "··········\n",
            "Mounted at /content/drive\n"
          ],
          "name": "stdout"
        }
      ]
    },
    {
      "cell_type": "code",
      "metadata": {
        "id": "GNbHPmFzmuuZ",
        "colab_type": "code",
        "colab": {}
      },
      "source": [
        "# Loading the stored data.\n",
        "import joblib\n",
        "train_n=joblib.load('/content/drive/My Drive/train_data.pkl')\n",
        "y=joblib.load('/content/drive/My Drive/y.pkl')"
      ],
      "execution_count": null,
      "outputs": []
    },
    {
      "cell_type": "code",
      "metadata": {
        "id": "5Qrdi9uyJZGd",
        "colab_type": "code",
        "colab": {
          "base_uri": "https://localhost:8080/",
          "height": 105
        },
        "outputId": "5d49fbbf-51d1-4075-c962-9c111dd9d92e"
      },
      "source": [
        "# Importing the required libraries.\n",
        "import warnings\n",
        "import itertools\n",
        "import numpy as np \n",
        "import pandas as pd\n",
        "import seaborn as sns\n",
        "import lightgbm as lgb\n",
        "import matplotlib.pyplot as plt\n",
        "from tqdm import tqdm_notebook as tqdm\n",
        "from sklearn.preprocessing import MinMaxScaler\n",
        "from sklearn.model_selection import train_test_split\n",
        "from sklearn.metrics import confusion_matrix, log_loss\n",
        "import dask.dataframe as dd\n",
        "import dask\n",
        "import gc\n",
        "\n",
        "warnings.filterwarnings(action='ignore')\n",
        "sns.set_style('whitegrid')"
      ],
      "execution_count": null,
      "outputs": [
        {
          "output_type": "stream",
          "text": [
            "/usr/local/lib/python3.6/dist-packages/statsmodels/tools/_testing.py:19: FutureWarning: pandas.util.testing is deprecated. Use the functions in the public API at pandas.testing instead.\n",
            "  import pandas.util.testing as tm\n",
            "/usr/local/lib/python3.6/dist-packages/sklearn/utils/deprecation.py:144: FutureWarning: The sklearn.metrics.classification module is  deprecated in version 0.22 and will be removed in version 0.24. The corresponding classes / functions should instead be imported from sklearn.metrics. Anything that cannot be imported from sklearn.metrics is now part of the private API.\n",
            "  warnings.warn(message, FutureWarning)\n"
          ],
          "name": "stderr"
        }
      ]
    },
    {
      "cell_type": "code",
      "metadata": {
        "id": "A_n3deJuJfuI",
        "colab_type": "code",
        "colab": {}
      },
      "source": [
        "# This is mentioned in EDA notebook its used to convert the datatypes\\\n",
        "# of all the features into desired datatypes.\n",
        "def gc():\n",
        "    print(gc.collect())\n",
        "\n",
        "dtypes = {\"crew\": \"int8\",\n",
        "          \"experiment\": \"category\",\n",
        "          \"time\": \"float32\",\n",
        "          \"seat\": \"int8\",\n",
        "          \"eeg_fp1\": \"float32\",\n",
        "          \"eeg_f7\": \"float32\",\n",
        "          \"eeg_f8\": \"float32\",\n",
        "          \"eeg_t4\": \"float32\",\n",
        "          \"eeg_t6\": \"float32\",\n",
        "          \"eeg_t5\": \"float32\",\n",
        "          \"eeg_t3\": \"float32\",\n",
        "          \"eeg_fp2\": \"float32\",\n",
        "          \"eeg_o1\": \"float32\",\n",
        "          \"eeg_p3\": \"float32\",\n",
        "          \"eeg_pz\": \"float32\",\n",
        "          \"eeg_f3\": \"float32\",\n",
        "          \"eeg_fz\": \"float32\",\n",
        "          \"eeg_f4\": \"float32\",\n",
        "          \"eeg_c4\": \"float32\",\n",
        "          \"eeg_p4\": \"float32\",\n",
        "          \"eeg_poz\": \"float32\",\n",
        "          \"eeg_c3\": \"float32\",\n",
        "          \"eeg_cz\": \"float32\",\n",
        "          \"eeg_o2\": \"float32\",\n",
        "          \"ecg\": \"float32\",\n",
        "          \"r\": \"float32\",\n",
        "          \"gsr\": \"float32\",\n",
        "          \"event\": \"category\",\n",
        "         }\n",
        "\n",
        "import matplotlib.pyplot as plt\n",
        "import itertools\n"
      ],
      "execution_count": null,
      "outputs": []
    },
    {
      "cell_type": "code",
      "metadata": {
        "id": "s9vAVnzGJ47X",
        "colab_type": "code",
        "colab": {}
      },
      "source": [
        "# Used to split the data into train and cross_validation\n",
        "# Here I am keeping the cross_validation size only 20% and train data size as 80%.\n",
        "from sklearn.model_selection import train_test_split\n",
        "X_train,X_cv,y_train,y_cv = train_test_split(train_n, y, test_size=0.2,random_state = 40)"
      ],
      "execution_count": null,
      "outputs": []
    },
    {
      "cell_type": "code",
      "metadata": {
        "id": "Gw-2yYg2sgif",
        "colab_type": "code",
        "colab": {
          "base_uri": "https://localhost:8080/",
          "height": 85
        },
        "outputId": "d366b0b5-4bb2-4e73-d501-258859c67d4b"
      },
      "source": [
        "# Checking the shapes of train and cv data\n",
        "print(X_train.shape)\n",
        "print(X_cv.shape)\n",
        "print(y_train.shape)\n",
        "print(y_cv.shape)"
      ],
      "execution_count": null,
      "outputs": [
        {
          "output_type": "stream",
          "text": [
            "(6068506, 25)\n",
            "(1517127, 25)\n",
            "(6068506, 1)\n",
            "(1517127, 1)\n"
          ],
          "name": "stdout"
        }
      ]
    },
    {
      "cell_type": "markdown",
      "metadata": {
        "id": "mIe9zlMVKJru",
        "colab_type": "text"
      },
      "source": [
        "# **Naive Bayes**"
      ]
    },
    {
      "cell_type": "markdown",
      "metadata": {
        "id": "ATCpb0m3A_Si",
        "colab_type": "text"
      },
      "source": [
        "# Key features of naive bayes-\n",
        "\n",
        "*   Naive bayes works fairly well if some of the features if not all are dependent on each other\n",
        "*   It works well for high dimensional data\n",
        "*   works well with categorical features\n",
        "*   Naive bayes is not used very well when numerical features are there.\n",
        "*   Super interpretable\n",
        "*   Runtime Complexity is very low. Runtime space complexity is also very low.Good for low latency.\n",
        "*   We can easily overfit if we dont do laplace smoothing.\n",
        "\n",
        "\n"
      ]
    },
    {
      "cell_type": "code",
      "metadata": {
        "id": "HzcSPV7dhr6n",
        "colab_type": "code",
        "colab": {
          "base_uri": "https://localhost:8080/",
          "height": 1000
        },
        "outputId": "d8785c2e-7e9d-4142-c3ff-144521a1f2b9"
      },
      "source": [
        "# Note that multinomial naive bayes dont take negative values as input\\\n",
        "# So I have already normalized it before using it.\n",
        "## Using the RandomizedSearchCV for hyperparameter tuning.\n",
        "from sklearn.naive_bayes import MultinomialNB\n",
        "from sklearn.model_selection import RandomizedSearchCV \n",
        "param_dist = {\"alpha\" :[0.0000001,0.000001,0.00001,0.0001,0.001,0.01,0.1,1]} \n",
        "nb = MultinomialNB()\n",
        "rsc = RandomizedSearchCV(nb,param_dist,cv=5,verbose=500)\n",
        "rsc.fit(X_train,y_train)\n",
        "print(\"Tuned Multinomial Niave Bayes Parameters: {}\".format(rsc.best_params_)) \n",
        "print(\"Best score is {}\".format(rsc.best_score_)) "
      ],
      "execution_count": null,
      "outputs": [
        {
          "output_type": "stream",
          "text": [
            "Fitting 5 folds for each of 8 candidates, totalling 40 fits\n",
            "[Parallel(n_jobs=1)]: Using backend SequentialBackend with 1 concurrent workers.\n",
            "[CV] alpha=1e-07 .....................................................\n",
            "[CV] ......................... alpha=1e-07, score=0.427, total=   2.1s\n",
            "[Parallel(n_jobs=1)]: Done   1 out of   1 | elapsed:    2.1s remaining:    0.0s\n",
            "[CV] alpha=1e-07 .....................................................\n",
            "[CV] ......................... alpha=1e-07, score=0.427, total=   1.8s\n",
            "[Parallel(n_jobs=1)]: Done   2 out of   2 | elapsed:    3.9s remaining:    0.0s\n",
            "[CV] alpha=1e-07 .....................................................\n",
            "[CV] ......................... alpha=1e-07, score=0.424, total=   1.8s\n",
            "[Parallel(n_jobs=1)]: Done   3 out of   3 | elapsed:    5.8s remaining:    0.0s\n",
            "[CV] alpha=1e-07 .....................................................\n",
            "[CV] ......................... alpha=1e-07, score=0.427, total=   1.8s\n",
            "[Parallel(n_jobs=1)]: Done   4 out of   4 | elapsed:    7.6s remaining:    0.0s\n",
            "[CV] alpha=1e-07 .....................................................\n",
            "[CV] ......................... alpha=1e-07, score=0.423, total=   1.8s\n",
            "[Parallel(n_jobs=1)]: Done   5 out of   5 | elapsed:    9.4s remaining:    0.0s\n",
            "[CV] alpha=1e-06 .....................................................\n",
            "[CV] ......................... alpha=1e-06, score=0.427, total=   1.8s\n",
            "[Parallel(n_jobs=1)]: Done   6 out of   6 | elapsed:   11.3s remaining:    0.0s\n",
            "[CV] alpha=1e-06 .....................................................\n",
            "[CV] ......................... alpha=1e-06, score=0.427, total=   1.9s\n",
            "[Parallel(n_jobs=1)]: Done   7 out of   7 | elapsed:   13.1s remaining:    0.0s\n",
            "[CV] alpha=1e-06 .....................................................\n",
            "[CV] ......................... alpha=1e-06, score=0.424, total=   1.8s\n",
            "[Parallel(n_jobs=1)]: Done   8 out of   8 | elapsed:   14.9s remaining:    0.0s\n",
            "[CV] alpha=1e-06 .....................................................\n",
            "[CV] ......................... alpha=1e-06, score=0.427, total=   1.8s\n",
            "[Parallel(n_jobs=1)]: Done   9 out of   9 | elapsed:   16.8s remaining:    0.0s\n",
            "[CV] alpha=1e-06 .....................................................\n",
            "[CV] ......................... alpha=1e-06, score=0.423, total=   1.8s\n",
            "[Parallel(n_jobs=1)]: Done  10 out of  10 | elapsed:   18.6s remaining:    0.0s\n",
            "[CV] alpha=1e-05 .....................................................\n",
            "[CV] ......................... alpha=1e-05, score=0.427, total=   1.8s\n",
            "[Parallel(n_jobs=1)]: Done  11 out of  11 | elapsed:   20.4s remaining:    0.0s\n",
            "[CV] alpha=1e-05 .....................................................\n",
            "[CV] ......................... alpha=1e-05, score=0.427, total=   1.8s\n",
            "[Parallel(n_jobs=1)]: Done  12 out of  12 | elapsed:   22.3s remaining:    0.0s\n",
            "[CV] alpha=1e-05 .....................................................\n",
            "[CV] ......................... alpha=1e-05, score=0.424, total=   1.8s\n",
            "[Parallel(n_jobs=1)]: Done  13 out of  13 | elapsed:   24.1s remaining:    0.0s\n",
            "[CV] alpha=1e-05 .....................................................\n",
            "[CV] ......................... alpha=1e-05, score=0.427, total=   1.9s\n",
            "[Parallel(n_jobs=1)]: Done  14 out of  14 | elapsed:   25.9s remaining:    0.0s\n",
            "[CV] alpha=1e-05 .....................................................\n",
            "[CV] ......................... alpha=1e-05, score=0.423, total=   1.8s\n",
            "[Parallel(n_jobs=1)]: Done  15 out of  15 | elapsed:   27.8s remaining:    0.0s\n",
            "[CV] alpha=0.0001 ....................................................\n",
            "[CV] ........................ alpha=0.0001, score=0.427, total=   1.8s\n",
            "[Parallel(n_jobs=1)]: Done  16 out of  16 | elapsed:   29.6s remaining:    0.0s\n",
            "[CV] alpha=0.0001 ....................................................\n",
            "[CV] ........................ alpha=0.0001, score=0.427, total=   1.8s\n",
            "[Parallel(n_jobs=1)]: Done  17 out of  17 | elapsed:   31.4s remaining:    0.0s\n",
            "[CV] alpha=0.0001 ....................................................\n",
            "[CV] ........................ alpha=0.0001, score=0.424, total=   1.8s\n",
            "[Parallel(n_jobs=1)]: Done  18 out of  18 | elapsed:   33.3s remaining:    0.0s\n",
            "[CV] alpha=0.0001 ....................................................\n",
            "[CV] ........................ alpha=0.0001, score=0.427, total=   1.8s\n",
            "[Parallel(n_jobs=1)]: Done  19 out of  19 | elapsed:   35.1s remaining:    0.0s\n",
            "[CV] alpha=0.0001 ....................................................\n",
            "[CV] ........................ alpha=0.0001, score=0.423, total=   1.8s\n",
            "[Parallel(n_jobs=1)]: Done  20 out of  20 | elapsed:   36.9s remaining:    0.0s\n",
            "[CV] alpha=0.001 .....................................................\n",
            "[CV] ......................... alpha=0.001, score=0.427, total=   1.8s\n",
            "[Parallel(n_jobs=1)]: Done  21 out of  21 | elapsed:   38.7s remaining:    0.0s\n",
            "[CV] alpha=0.001 .....................................................\n",
            "[CV] ......................... alpha=0.001, score=0.427, total=   1.8s\n",
            "[Parallel(n_jobs=1)]: Done  22 out of  22 | elapsed:   40.6s remaining:    0.0s\n",
            "[CV] alpha=0.001 .....................................................\n",
            "[CV] ......................... alpha=0.001, score=0.424, total=   1.8s\n",
            "[Parallel(n_jobs=1)]: Done  23 out of  23 | elapsed:   42.4s remaining:    0.0s\n",
            "[CV] alpha=0.001 .....................................................\n",
            "[CV] ......................... alpha=0.001, score=0.427, total=   1.9s\n",
            "[Parallel(n_jobs=1)]: Done  24 out of  24 | elapsed:   44.2s remaining:    0.0s\n",
            "[CV] alpha=0.001 .....................................................\n",
            "[CV] ......................... alpha=0.001, score=0.423, total=   1.8s\n",
            "[Parallel(n_jobs=1)]: Done  25 out of  25 | elapsed:   46.1s remaining:    0.0s\n",
            "[CV] alpha=0.01 ......................................................\n",
            "[CV] .......................... alpha=0.01, score=0.427, total=   1.8s\n",
            "[Parallel(n_jobs=1)]: Done  26 out of  26 | elapsed:   47.9s remaining:    0.0s\n",
            "[CV] alpha=0.01 ......................................................\n",
            "[CV] .......................... alpha=0.01, score=0.427, total=   1.8s\n",
            "[Parallel(n_jobs=1)]: Done  27 out of  27 | elapsed:   49.7s remaining:    0.0s\n",
            "[CV] alpha=0.01 ......................................................\n",
            "[CV] .......................... alpha=0.01, score=0.424, total=   1.8s\n",
            "[Parallel(n_jobs=1)]: Done  28 out of  28 | elapsed:   51.5s remaining:    0.0s\n",
            "[CV] alpha=0.01 ......................................................\n",
            "[CV] .......................... alpha=0.01, score=0.427, total=   1.8s\n",
            "[Parallel(n_jobs=1)]: Done  29 out of  29 | elapsed:   53.4s remaining:    0.0s\n",
            "[CV] alpha=0.01 ......................................................\n"
          ],
          "name": "stdout"
        }
      ]
    },
    {
      "cell_type": "code",
      "metadata": {
        "id": "l4GYFsQwj6RZ",
        "colab_type": "code",
        "colab": {}
      },
      "source": [
        "pred = rsc.predict_proba(X_cv)"
      ],
      "execution_count": null,
      "outputs": []
    },
    {
      "cell_type": "code",
      "metadata": {
        "id": "NbTF8aI7JnCc",
        "colab_type": "code",
        "colab": {
          "base_uri": "https://localhost:8080/",
          "height": 34
        },
        "outputId": "a7a2530c-fd97-4b09-f8b2-4ac007202c5e"
      },
      "source": [
        "round(log_loss(y_cv,pred),3)"
      ],
      "execution_count": null,
      "outputs": [
        {
          "output_type": "execute_result",
          "data": {
            "text/plain": [
              "1.173"
            ]
          },
          "metadata": {
            "tags": []
          },
          "execution_count": 15
        }
      ]
    },
    {
      "cell_type": "markdown",
      "metadata": {
        "id": "IlcP4VoXBG5q",
        "colab_type": "text"
      },
      "source": [
        "# Summary For Naive Bayes-\n",
        "\n",
        "\n",
        "*   We have 25 dimensions in our train data so dimesionality was not a very big problem.\n",
        "*   The optimum value of alpha hyperparameter after tuning was found out to be 1e-07.\n",
        "*   The multiclass log-loss for naive bayes turned out to be 1.173 on cross validation dataset.\n",
        "\n",
        "\n"
      ]
    },
    {
      "cell_type": "markdown",
      "metadata": {
        "id": "Nfo1aYUFBX2y",
        "colab_type": "text"
      },
      "source": [
        "# ***Decision Tree***"
      ]
    },
    {
      "cell_type": "markdown",
      "metadata": {
        "id": "eFimp4vcBgLV",
        "colab_type": "text"
      },
      "source": [
        "# Key features of Decision Trees-\n",
        "\n",
        "\n",
        "---\n",
        "\n",
        "\n",
        "\n",
        "\n",
        "*   Imbalance data must be balanced.Because it will impact entropy calculations.\n",
        "*   For large dimesionality it doesnt work well because for each feature we have to find the entropy. So training time increases.Avoid OneHotEncoding.\n",
        "*   Works well on numerical data but not that well on categorical data.\n",
        "*   Super Interpretable just by using the reduction in the entropy.\n"
      ]
    },
    {
      "cell_type": "code",
      "metadata": {
        "id": "dbZYsyeiJtpI",
        "colab_type": "code",
        "colab": {
          "base_uri": "https://localhost:8080/",
          "height": 1000
        },
        "outputId": "038f1ba1-bb9d-4095-b0ca-9797b174f870"
      },
      "source": [
        "# Using the RandomizedSearchCV for hyperparameter tuning.\n",
        "from sklearn.tree import DecisionTreeClassifier\n",
        "from sklearn.model_selection import RandomizedSearchCV \n",
        "param_dist = {\"max_depth\" : [10,100,200], \n",
        "              \"criterion\" : ['gini', 'entropy'],\n",
        "              \"random_state\" : [40],\n",
        "              \"max_features\" : ['auto'],\n",
        "              \"max_leaf_nodes\" : [10,100,200]\n",
        "              } \n",
        "dtc = DecisionTreeClassifier()\n",
        "rsc = RandomizedSearchCV(dtc,param_dist,cv=3,verbose=500)\n",
        "rsc.fit(X_train,y_train)\n",
        "print(\"Tuned Decision Tree Parameters: {}\".format(rsc.best_params_)) \n",
        "print(\"Best score is {}\".format(rsc.best_score_)) "
      ],
      "execution_count": null,
      "outputs": [
        {
          "output_type": "stream",
          "text": [
            "Fitting 3 folds for each of 10 candidates, totalling 30 fits\n",
            "[Parallel(n_jobs=1)]: Using backend SequentialBackend with 1 concurrent workers.\n",
            "[CV] random_state=40, max_leaf_nodes=200, max_features=auto, max_depth=200, criterion=entropy \n",
            "[CV]  random_state=40, max_leaf_nodes=200, max_features=auto, max_depth=200, criterion=entropy, score=0.739, total=  49.4s\n",
            "[Parallel(n_jobs=1)]: Done   1 out of   1 | elapsed:   49.4s remaining:    0.0s\n",
            "[CV] random_state=40, max_leaf_nodes=200, max_features=auto, max_depth=200, criterion=entropy \n",
            "[CV]  random_state=40, max_leaf_nodes=200, max_features=auto, max_depth=200, criterion=entropy, score=0.736, total=  51.8s\n",
            "[Parallel(n_jobs=1)]: Done   2 out of   2 | elapsed:  1.7min remaining:    0.0s\n",
            "[CV] random_state=40, max_leaf_nodes=200, max_features=auto, max_depth=200, criterion=entropy \n",
            "[CV]  random_state=40, max_leaf_nodes=200, max_features=auto, max_depth=200, criterion=entropy, score=0.745, total=  52.6s\n",
            "[Parallel(n_jobs=1)]: Done   3 out of   3 | elapsed:  2.6min remaining:    0.0s\n",
            "[CV] random_state=40, max_leaf_nodes=10, max_features=auto, max_depth=10, criterion=entropy \n",
            "[CV]  random_state=40, max_leaf_nodes=10, max_features=auto, max_depth=10, criterion=entropy, score=0.437, total=  11.8s\n",
            "[Parallel(n_jobs=1)]: Done   4 out of   4 | elapsed:  2.8min remaining:    0.0s\n",
            "[CV] random_state=40, max_leaf_nodes=10, max_features=auto, max_depth=10, criterion=entropy \n",
            "[CV]  random_state=40, max_leaf_nodes=10, max_features=auto, max_depth=10, criterion=entropy, score=0.437, total=  11.6s\n",
            "[Parallel(n_jobs=1)]: Done   5 out of   5 | elapsed:  3.0min remaining:    0.0s\n",
            "[CV] random_state=40, max_leaf_nodes=10, max_features=auto, max_depth=10, criterion=entropy \n",
            "[CV]  random_state=40, max_leaf_nodes=10, max_features=auto, max_depth=10, criterion=entropy, score=0.436, total=  11.7s\n",
            "[Parallel(n_jobs=1)]: Done   6 out of   6 | elapsed:  3.1min remaining:    0.0s\n",
            "[CV] random_state=40, max_leaf_nodes=200, max_features=auto, max_depth=200, criterion=gini \n",
            "[CV]  random_state=40, max_leaf_nodes=200, max_features=auto, max_depth=200, criterion=gini, score=0.737, total=  44.2s\n",
            "[Parallel(n_jobs=1)]: Done   7 out of   7 | elapsed:  3.9min remaining:    0.0s\n",
            "[CV] random_state=40, max_leaf_nodes=200, max_features=auto, max_depth=200, criterion=gini \n",
            "[CV]  random_state=40, max_leaf_nodes=200, max_features=auto, max_depth=200, criterion=gini, score=0.761, total=  45.4s\n",
            "[Parallel(n_jobs=1)]: Done   8 out of   8 | elapsed:  4.6min remaining:    0.0s\n",
            "[CV] random_state=40, max_leaf_nodes=200, max_features=auto, max_depth=200, criterion=gini \n",
            "[CV]  random_state=40, max_leaf_nodes=200, max_features=auto, max_depth=200, criterion=gini, score=0.715, total=  44.8s\n",
            "[Parallel(n_jobs=1)]: Done   9 out of   9 | elapsed:  5.4min remaining:    0.0s\n",
            "[CV] random_state=40, max_leaf_nodes=10, max_features=auto, max_depth=200, criterion=gini \n",
            "[CV]  random_state=40, max_leaf_nodes=10, max_features=auto, max_depth=200, criterion=gini, score=0.437, total=  10.8s\n",
            "[Parallel(n_jobs=1)]: Done  10 out of  10 | elapsed:  5.6min remaining:    0.0s\n",
            "[CV] random_state=40, max_leaf_nodes=10, max_features=auto, max_depth=200, criterion=gini \n",
            "[CV]  random_state=40, max_leaf_nodes=10, max_features=auto, max_depth=200, criterion=gini, score=0.437, total=  10.9s\n",
            "[Parallel(n_jobs=1)]: Done  11 out of  11 | elapsed:  5.8min remaining:    0.0s\n",
            "[CV] random_state=40, max_leaf_nodes=10, max_features=auto, max_depth=200, criterion=gini \n",
            "[CV]  random_state=40, max_leaf_nodes=10, max_features=auto, max_depth=200, criterion=gini, score=0.437, total=  11.1s\n",
            "[Parallel(n_jobs=1)]: Done  12 out of  12 | elapsed:  5.9min remaining:    0.0s\n",
            "[CV] random_state=40, max_leaf_nodes=200, max_features=auto, max_depth=10, criterion=entropy \n",
            "[CV]  random_state=40, max_leaf_nodes=200, max_features=auto, max_depth=10, criterion=entropy, score=0.541, total=  29.3s\n",
            "[Parallel(n_jobs=1)]: Done  13 out of  13 | elapsed:  6.4min remaining:    0.0s\n",
            "[CV] random_state=40, max_leaf_nodes=200, max_features=auto, max_depth=10, criterion=entropy \n",
            "[CV]  random_state=40, max_leaf_nodes=200, max_features=auto, max_depth=10, criterion=entropy, score=0.542, total=  29.7s\n",
            "[Parallel(n_jobs=1)]: Done  14 out of  14 | elapsed:  6.9min remaining:    0.0s\n",
            "[CV] random_state=40, max_leaf_nodes=200, max_features=auto, max_depth=10, criterion=entropy \n",
            "[CV]  random_state=40, max_leaf_nodes=200, max_features=auto, max_depth=10, criterion=entropy, score=0.537, total=  29.6s\n",
            "[Parallel(n_jobs=1)]: Done  15 out of  15 | elapsed:  7.4min remaining:    0.0s\n",
            "[CV] random_state=40, max_leaf_nodes=200, max_features=auto, max_depth=100, criterion=entropy \n",
            "[CV]  random_state=40, max_leaf_nodes=200, max_features=auto, max_depth=100, criterion=entropy, score=0.739, total=  50.0s\n",
            "[Parallel(n_jobs=1)]: Done  16 out of  16 | elapsed:  8.2min remaining:    0.0s\n",
            "[CV] random_state=40, max_leaf_nodes=200, max_features=auto, max_depth=100, criterion=entropy \n",
            "[CV]  random_state=40, max_leaf_nodes=200, max_features=auto, max_depth=100, criterion=entropy, score=0.736, total=  51.1s\n",
            "[Parallel(n_jobs=1)]: Done  17 out of  17 | elapsed:  9.1min remaining:    0.0s\n",
            "[CV] random_state=40, max_leaf_nodes=200, max_features=auto, max_depth=100, criterion=entropy \n",
            "[CV]  random_state=40, max_leaf_nodes=200, max_features=auto, max_depth=100, criterion=entropy, score=0.745, total=  52.8s\n",
            "[Parallel(n_jobs=1)]: Done  18 out of  18 | elapsed: 10.0min remaining:    0.0s\n",
            "[CV] random_state=40, max_leaf_nodes=100, max_features=auto, max_depth=10, criterion=entropy \n",
            "[CV]  random_state=40, max_leaf_nodes=100, max_features=auto, max_depth=10, criterion=entropy, score=0.532, total=  28.4s\n",
            "[Parallel(n_jobs=1)]: Done  19 out of  19 | elapsed: 10.5min remaining:    0.0s\n",
            "[CV] random_state=40, max_leaf_nodes=100, max_features=auto, max_depth=10, criterion=entropy \n",
            "[CV]  random_state=40, max_leaf_nodes=100, max_features=auto, max_depth=10, criterion=entropy, score=0.536, total=  28.5s\n",
            "[Parallel(n_jobs=1)]: Done  20 out of  20 | elapsed: 10.9min remaining:    0.0s\n",
            "[CV] random_state=40, max_leaf_nodes=100, max_features=auto, max_depth=10, criterion=entropy \n",
            "[CV]  random_state=40, max_leaf_nodes=100, max_features=auto, max_depth=10, criterion=entropy, score=0.531, total=  28.8s\n",
            "[Parallel(n_jobs=1)]: Done  21 out of  21 | elapsed: 11.4min remaining:    0.0s\n",
            "[CV] random_state=40, max_leaf_nodes=10, max_features=auto, max_depth=100, criterion=entropy \n",
            "[CV]  random_state=40, max_leaf_nodes=10, max_features=auto, max_depth=100, criterion=entropy, score=0.437, total=  11.8s\n",
            "[Parallel(n_jobs=1)]: Done  22 out of  22 | elapsed: 11.6min remaining:    0.0s\n",
            "[CV] random_state=40, max_leaf_nodes=10, max_features=auto, max_depth=100, criterion=entropy \n",
            "[CV]  random_state=40, max_leaf_nodes=10, max_features=auto, max_depth=100, criterion=entropy, score=0.437, total=  12.1s\n",
            "[Parallel(n_jobs=1)]: Done  23 out of  23 | elapsed: 11.8min remaining:    0.0s\n",
            "[CV] random_state=40, max_leaf_nodes=10, max_features=auto, max_depth=100, criterion=entropy \n",
            "[CV]  random_state=40, max_leaf_nodes=10, max_features=auto, max_depth=100, criterion=entropy, score=0.436, total=  11.9s\n",
            "[Parallel(n_jobs=1)]: Done  24 out of  24 | elapsed: 12.0min remaining:    0.0s\n",
            "[CV] random_state=40, max_leaf_nodes=200, max_features=auto, max_depth=10, criterion=gini \n",
            "[CV]  random_state=40, max_leaf_nodes=200, max_features=auto, max_depth=10, criterion=gini, score=0.508, total=  26.2s\n",
            "[Parallel(n_jobs=1)]: Done  25 out of  25 | elapsed: 12.4min remaining:    0.0s\n",
            "[CV] random_state=40, max_leaf_nodes=200, max_features=auto, max_depth=10, criterion=gini \n",
            "[CV]  random_state=40, max_leaf_nodes=200, max_features=auto, max_depth=10, criterion=gini, score=0.502, total=  26.3s\n",
            "[Parallel(n_jobs=1)]: Done  26 out of  26 | elapsed: 12.9min remaining:    0.0s\n",
            "[CV] random_state=40, max_leaf_nodes=200, max_features=auto, max_depth=10, criterion=gini \n",
            "[CV]  random_state=40, max_leaf_nodes=200, max_features=auto, max_depth=10, criterion=gini, score=0.505, total=  26.1s\n",
            "[Parallel(n_jobs=1)]: Done  27 out of  27 | elapsed: 13.3min remaining:    0.0s\n",
            "[CV] random_state=40, max_leaf_nodes=100, max_features=auto, max_depth=10, criterion=gini \n",
            "[CV]  random_state=40, max_leaf_nodes=100, max_features=auto, max_depth=10, criterion=gini, score=0.506, total=  25.9s\n",
            "[Parallel(n_jobs=1)]: Done  28 out of  28 | elapsed: 13.7min remaining:    0.0s\n",
            "[CV] random_state=40, max_leaf_nodes=100, max_features=auto, max_depth=10, criterion=gini \n",
            "[CV]  random_state=40, max_leaf_nodes=100, max_features=auto, max_depth=10, criterion=gini, score=0.500, total=  26.0s\n",
            "[Parallel(n_jobs=1)]: Done  29 out of  29 | elapsed: 14.2min remaining:    0.0s\n",
            "[CV] random_state=40, max_leaf_nodes=100, max_features=auto, max_depth=10, criterion=gini \n",
            "[CV]  random_state=40, max_leaf_nodes=100, max_features=auto, max_depth=10, criterion=gini, score=0.503, total=  25.9s\n",
            "[Parallel(n_jobs=1)]: Done  30 out of  30 | elapsed: 14.6min remaining:    0.0s\n",
            "[Parallel(n_jobs=1)]: Done  30 out of  30 | elapsed: 14.6min finished\n",
            "Tuned Decision Tree Parameters: {'random_state': 40, 'max_leaf_nodes': 200, 'max_features': 'auto', 'max_depth': 200, 'criterion': 'entropy'}\n",
            "Best score is 0.7400388169496571\n"
          ],
          "name": "stdout"
        }
      ]
    },
    {
      "cell_type": "markdown",
      "metadata": {
        "id": "H94-ABXuRx-1",
        "colab_type": "text"
      },
      "source": [
        "So as we can see from this hyperparameter tuning we can see that the  max_leaf_nodes=200 and max_depth=200 and criterion as entropy . But this was the max value provided so there might be a chance that this can be even better if we further increase these two parameters ahead so lets try that out by doing hyperparameter tuning again with some different values."
      ]
    },
    {
      "cell_type": "code",
      "metadata": {
        "id": "foXc5LCBNc9E",
        "colab_type": "code",
        "colab": {
          "base_uri": "https://localhost:8080/",
          "height": 1000
        },
        "outputId": "c566b7cf-ce8f-4132-8409-b6b487b47992"
      },
      "source": [
        "param_dist = {\"max_depth\" : [200,500,1000], \n",
        "              \"criterion\" : ['entropy'],\n",
        "              \"random_state\" : [40],\n",
        "              \"max_features\" : ['auto'],\n",
        "              \"max_leaf_nodes\" : [200,500,1000]\n",
        "              } \n",
        "dtc = DecisionTreeClassifier()\n",
        "rsc = RandomizedSearchCV(dtc,param_dist,cv=2,verbose=500)\n",
        "rsc.fit(X_train,y_train)\n",
        "print(\"Tuned Decision Tree Parameters: {}\".format(rsc.best_params_)) \n",
        "print(\"Best score is {}\".format(rsc.best_score_)) "
      ],
      "execution_count": null,
      "outputs": [
        {
          "output_type": "stream",
          "text": [
            "Fitting 2 folds for each of 9 candidates, totalling 18 fits\n",
            "[Parallel(n_jobs=1)]: Using backend SequentialBackend with 1 concurrent workers.\n",
            "[CV] random_state=40, max_leaf_nodes=200, max_features=auto, max_depth=200, criterion=entropy \n",
            "[CV]  random_state=40, max_leaf_nodes=200, max_features=auto, max_depth=200, criterion=entropy, score=0.740, total=  39.6s\n",
            "[Parallel(n_jobs=1)]: Done   1 out of   1 | elapsed:   39.6s remaining:    0.0s\n",
            "[CV] random_state=40, max_leaf_nodes=200, max_features=auto, max_depth=200, criterion=entropy \n",
            "[CV]  random_state=40, max_leaf_nodes=200, max_features=auto, max_depth=200, criterion=entropy, score=0.749, total=  40.8s\n",
            "[Parallel(n_jobs=1)]: Done   2 out of   2 | elapsed:  1.3min remaining:    0.0s\n",
            "[CV] random_state=40, max_leaf_nodes=500, max_features=auto, max_depth=200, criterion=entropy \n",
            "[CV]  random_state=40, max_leaf_nodes=500, max_features=auto, max_depth=200, criterion=entropy, score=0.794, total=  46.3s\n",
            "[Parallel(n_jobs=1)]: Done   3 out of   3 | elapsed:  2.1min remaining:    0.0s\n",
            "[CV] random_state=40, max_leaf_nodes=500, max_features=auto, max_depth=200, criterion=entropy \n",
            "[CV]  random_state=40, max_leaf_nodes=500, max_features=auto, max_depth=200, criterion=entropy, score=0.805, total=  46.9s\n",
            "[Parallel(n_jobs=1)]: Done   4 out of   4 | elapsed:  2.9min remaining:    0.0s\n",
            "[CV] random_state=40, max_leaf_nodes=1000, max_features=auto, max_depth=200, criterion=entropy \n",
            "[CV]  random_state=40, max_leaf_nodes=1000, max_features=auto, max_depth=200, criterion=entropy, score=0.831, total=  50.6s\n",
            "[Parallel(n_jobs=1)]: Done   5 out of   5 | elapsed:  3.7min remaining:    0.0s\n",
            "[CV] random_state=40, max_leaf_nodes=1000, max_features=auto, max_depth=200, criterion=entropy \n",
            "[CV]  random_state=40, max_leaf_nodes=1000, max_features=auto, max_depth=200, criterion=entropy, score=0.845, total=  51.6s\n",
            "[Parallel(n_jobs=1)]: Done   6 out of   6 | elapsed:  4.6min remaining:    0.0s\n",
            "[CV] random_state=40, max_leaf_nodes=200, max_features=auto, max_depth=500, criterion=entropy \n",
            "[CV]  random_state=40, max_leaf_nodes=200, max_features=auto, max_depth=500, criterion=entropy, score=0.740, total=  39.7s\n",
            "[Parallel(n_jobs=1)]: Done   7 out of   7 | elapsed:  5.3min remaining:    0.0s\n",
            "[CV] random_state=40, max_leaf_nodes=200, max_features=auto, max_depth=500, criterion=entropy \n",
            "[CV]  random_state=40, max_leaf_nodes=200, max_features=auto, max_depth=500, criterion=entropy, score=0.749, total=  41.9s\n",
            "[Parallel(n_jobs=1)]: Done   8 out of   8 | elapsed:  6.0min remaining:    0.0s\n",
            "[CV] random_state=40, max_leaf_nodes=500, max_features=auto, max_depth=500, criterion=entropy \n",
            "[CV]  random_state=40, max_leaf_nodes=500, max_features=auto, max_depth=500, criterion=entropy, score=0.794, total=  46.3s\n",
            "[Parallel(n_jobs=1)]: Done   9 out of   9 | elapsed:  6.7min remaining:    0.0s\n",
            "[CV] random_state=40, max_leaf_nodes=500, max_features=auto, max_depth=500, criterion=entropy \n",
            "[CV]  random_state=40, max_leaf_nodes=500, max_features=auto, max_depth=500, criterion=entropy, score=0.805, total=  46.7s\n",
            "[Parallel(n_jobs=1)]: Done  10 out of  10 | elapsed:  7.5min remaining:    0.0s\n",
            "[CV] random_state=40, max_leaf_nodes=1000, max_features=auto, max_depth=500, criterion=entropy \n",
            "[CV]  random_state=40, max_leaf_nodes=1000, max_features=auto, max_depth=500, criterion=entropy, score=0.831, total=  50.3s\n",
            "[Parallel(n_jobs=1)]: Done  11 out of  11 | elapsed:  8.3min remaining:    0.0s\n",
            "[CV] random_state=40, max_leaf_nodes=1000, max_features=auto, max_depth=500, criterion=entropy \n",
            "[CV]  random_state=40, max_leaf_nodes=1000, max_features=auto, max_depth=500, criterion=entropy, score=0.845, total=  51.2s\n",
            "[Parallel(n_jobs=1)]: Done  12 out of  12 | elapsed:  9.2min remaining:    0.0s\n",
            "[CV] random_state=40, max_leaf_nodes=200, max_features=auto, max_depth=1000, criterion=entropy \n",
            "[CV]  random_state=40, max_leaf_nodes=200, max_features=auto, max_depth=1000, criterion=entropy, score=0.740, total=  40.0s\n",
            "[Parallel(n_jobs=1)]: Done  13 out of  13 | elapsed:  9.9min remaining:    0.0s\n",
            "[CV] random_state=40, max_leaf_nodes=200, max_features=auto, max_depth=1000, criterion=entropy \n",
            "[CV]  random_state=40, max_leaf_nodes=200, max_features=auto, max_depth=1000, criterion=entropy, score=0.749, total=  41.9s\n",
            "[Parallel(n_jobs=1)]: Done  14 out of  14 | elapsed: 10.6min remaining:    0.0s\n",
            "[CV] random_state=40, max_leaf_nodes=500, max_features=auto, max_depth=1000, criterion=entropy \n",
            "[CV]  random_state=40, max_leaf_nodes=500, max_features=auto, max_depth=1000, criterion=entropy, score=0.794, total=  47.2s\n",
            "[Parallel(n_jobs=1)]: Done  15 out of  15 | elapsed: 11.4min remaining:    0.0s\n",
            "[CV] random_state=40, max_leaf_nodes=500, max_features=auto, max_depth=1000, criterion=entropy \n",
            "[CV]  random_state=40, max_leaf_nodes=500, max_features=auto, max_depth=1000, criterion=entropy, score=0.805, total=  47.2s\n",
            "[Parallel(n_jobs=1)]: Done  16 out of  16 | elapsed: 12.1min remaining:    0.0s\n",
            "[CV] random_state=40, max_leaf_nodes=1000, max_features=auto, max_depth=1000, criterion=entropy \n",
            "[CV]  random_state=40, max_leaf_nodes=1000, max_features=auto, max_depth=1000, criterion=entropy, score=0.831, total=  50.8s\n",
            "[Parallel(n_jobs=1)]: Done  17 out of  17 | elapsed: 13.0min remaining:    0.0s\n",
            "[CV] random_state=40, max_leaf_nodes=1000, max_features=auto, max_depth=1000, criterion=entropy \n",
            "[CV]  random_state=40, max_leaf_nodes=1000, max_features=auto, max_depth=1000, criterion=entropy, score=0.845, total=  51.7s\n",
            "[Parallel(n_jobs=1)]: Done  18 out of  18 | elapsed: 13.8min remaining:    0.0s\n",
            "[Parallel(n_jobs=1)]: Done  18 out of  18 | elapsed: 13.8min finished\n",
            "Tuned Decision Tree Parameters: {'random_state': 40, 'max_leaf_nodes': 1000, 'max_features': 'auto', 'max_depth': 200, 'criterion': 'entropy'}\n",
            "Best score is 0.8379863182140712\n"
          ],
          "name": "stdout"
        }
      ]
    },
    {
      "cell_type": "markdown",
      "metadata": {
        "id": "WNg5-Ei-WH_O",
        "colab_type": "text"
      },
      "source": [
        "So as we can see the max depth is 200.But max_leaf_nodes can be even better so lets traget that now"
      ]
    },
    {
      "cell_type": "code",
      "metadata": {
        "id": "1h-8W75iSgGz",
        "colab_type": "code",
        "colab": {
          "base_uri": "https://localhost:8080/",
          "height": 428
        },
        "outputId": "5399fa3e-0c25-4f6b-f2b1-23c6b2ff2ec1"
      },
      "source": [
        "from sklearn.tree import DecisionTreeClassifier\n",
        "from sklearn.model_selection import RandomizedSearchCV \n",
        "param_dist = {\"max_depth\" : [200], \n",
        "              \"criterion\" : ['entropy'],\n",
        "              \"random_state\" : [40],\n",
        "              \"max_features\" : ['auto'],\n",
        "              \"max_leaf_nodes\" : [1000,1500,2000]\n",
        "              } \n",
        "dtc = DecisionTreeClassifier()\n",
        "rsc = RandomizedSearchCV(dtc,param_dist,cv=2,verbose=500)\n",
        "rsc.fit(X_train,y_train)\n",
        "print(\"Tuned Decision Tree Parameters: {}\".format(rsc.best_params_)) \n",
        "print(\"Best score is {}\".format(rsc.best_score_)) "
      ],
      "execution_count": null,
      "outputs": [
        {
          "output_type": "stream",
          "text": [
            "Fitting 2 folds for each of 3 candidates, totalling 6 fits\n",
            "[Parallel(n_jobs=1)]: Using backend SequentialBackend with 1 concurrent workers.\n",
            "[CV] random_state=40, max_leaf_nodes=1000, max_features=auto, max_depth=200, criterion=entropy \n",
            "[CV]  random_state=40, max_leaf_nodes=1000, max_features=auto, max_depth=200, criterion=entropy, score=0.831, total=  49.3s\n",
            "[Parallel(n_jobs=1)]: Done   1 out of   1 | elapsed:   49.3s remaining:    0.0s\n",
            "[CV] random_state=40, max_leaf_nodes=1000, max_features=auto, max_depth=200, criterion=entropy \n",
            "[CV]  random_state=40, max_leaf_nodes=1000, max_features=auto, max_depth=200, criterion=entropy, score=0.845, total=  49.9s\n",
            "[Parallel(n_jobs=1)]: Done   2 out of   2 | elapsed:  1.7min remaining:    0.0s\n",
            "[CV] random_state=40, max_leaf_nodes=1500, max_features=auto, max_depth=200, criterion=entropy \n",
            "[CV]  random_state=40, max_leaf_nodes=1500, max_features=auto, max_depth=200, criterion=entropy, score=0.852, total=  51.4s\n",
            "[Parallel(n_jobs=1)]: Done   3 out of   3 | elapsed:  2.5min remaining:    0.0s\n",
            "[CV] random_state=40, max_leaf_nodes=1500, max_features=auto, max_depth=200, criterion=entropy \n",
            "[CV]  random_state=40, max_leaf_nodes=1500, max_features=auto, max_depth=200, criterion=entropy, score=0.862, total=  51.7s\n",
            "[Parallel(n_jobs=1)]: Done   4 out of   4 | elapsed:  3.4min remaining:    0.0s\n",
            "[CV] random_state=40, max_leaf_nodes=2000, max_features=auto, max_depth=200, criterion=entropy \n",
            "[CV]  random_state=40, max_leaf_nodes=2000, max_features=auto, max_depth=200, criterion=entropy, score=0.869, total=  53.2s\n",
            "[Parallel(n_jobs=1)]: Done   5 out of   5 | elapsed:  4.3min remaining:    0.0s\n",
            "[CV] random_state=40, max_leaf_nodes=2000, max_features=auto, max_depth=200, criterion=entropy \n",
            "[CV]  random_state=40, max_leaf_nodes=2000, max_features=auto, max_depth=200, criterion=entropy, score=0.876, total=  53.6s\n",
            "[Parallel(n_jobs=1)]: Done   6 out of   6 | elapsed:  5.2min remaining:    0.0s\n",
            "[Parallel(n_jobs=1)]: Done   6 out of   6 | elapsed:  5.2min finished\n",
            "Tuned Decision Tree Parameters: {'random_state': 40, 'max_leaf_nodes': 2000, 'max_features': 'auto', 'max_depth': 200, 'criterion': 'entropy'}\n",
            "Best score is 0.8724178570475172\n"
          ],
          "name": "stdout"
        }
      ]
    },
    {
      "cell_type": "code",
      "metadata": {
        "id": "MU6E88DGWcBv",
        "colab_type": "code",
        "colab": {}
      },
      "source": [
        "# Creating model with best paramters.\n",
        "clf = DecisionTreeClassifier(max_depth = 200, criterion= 'entropy',max_leaf_nodes = None, random_state = 40)\n",
        "clf = clf.fit(X_train,y_train)"
      ],
      "execution_count": null,
      "outputs": []
    },
    {
      "cell_type": "code",
      "metadata": {
        "id": "XG7DXTHxcb_r",
        "colab_type": "code",
        "colab": {}
      },
      "source": [
        "# Directory adjustments\n",
        "import os\n",
        "os.chdir('/content/drive/My Drive')"
      ],
      "execution_count": null,
      "outputs": []
    },
    {
      "cell_type": "code",
      "metadata": {
        "id": "fQOXQrv2cQG1",
        "colab_type": "code",
        "colab": {
          "base_uri": "https://localhost:8080/",
          "height": 34
        },
        "outputId": "c45f3c49-5a92-4d66-cb1a-9a92fd90f6d2"
      },
      "source": [
        "# Joblib is used to export the model/results \n",
        "import joblib \n",
        "joblib.dump(clf,'decision_tree.pkl')"
      ],
      "execution_count": null,
      "outputs": [
        {
          "output_type": "execute_result",
          "data": {
            "text/plain": [
              "['decision_tree.pkl']"
            ]
          },
          "metadata": {
            "tags": []
          },
          "execution_count": 12
        }
      ]
    },
    {
      "cell_type": "code",
      "metadata": {
        "id": "s0xX-60_Y2un",
        "colab_type": "code",
        "colab": {
          "base_uri": "https://localhost:8080/",
          "height": 34
        },
        "outputId": "c6993269-6b55-4695-bd9e-89cf53117311"
      },
      "source": [
        "from sklearn.metrics import log_loss\n",
        "pred = clf.predict_proba(X_cv)\n",
        "print(log_loss(y_cv,pred))"
      ],
      "execution_count": null,
      "outputs": [
        {
          "output_type": "stream",
          "text": [
            "0.3494794809124612\n"
          ],
          "name": "stdout"
        }
      ]
    },
    {
      "cell_type": "markdown",
      "metadata": {
        "id": "aKfE2HJCC_G0",
        "colab_type": "text"
      },
      "source": [
        "# Summary for Decision Tree -\n",
        "\n",
        "---\n",
        "\n",
        "\n",
        "\n",
        "\n",
        "*   Since our data has very few categorical features so we were not required to use OneHotEncoding.Since OHE was not used number of features were not very high.So we an expect good results from Decision trees.\n",
        "\n",
        "---\n",
        "\n",
        "\n",
        "*   List of hyperparameters used for tuning is as follows-\n",
        "* max_depth - It is the depth of trees. If it is too high then model tends to overfit and if it is very low then model tends to underfit.\n",
        "* criterion - two choices(gini impurity or entropy).From Hyperparamter tuning we found that entropy is the one which gave us better result.\n",
        "* max_features- features to be considered for looking at best split.\n",
        "* max_leaf_nodes - This trains the model with best feature first manner. That means for whichever feature the difference between entropy or gini value is max it is given more importance.\n",
        "* random_state- controls randomness of estimator.\n",
        "\n",
        "\n",
        "---\n",
        "* The multiclass log loss which was found is 0.3494 which is significantly lower than the naive bayes.\n",
        "* So based on this result we can try next ensemble tree based model which is randomforest.\n",
        "\n",
        "\n",
        "\n",
        "\n"
      ]
    },
    {
      "cell_type": "markdown",
      "metadata": {
        "id": "fHE3FZFqbXCF",
        "colab_type": "text"
      },
      "source": [
        "# **Random Forest**"
      ]
    },
    {
      "cell_type": "markdown",
      "metadata": {
        "id": "3f_tnjw2Gtcj",
        "colab_type": "text"
      },
      "source": [
        "# Key features of Random Forest-\n",
        "\n",
        "---\n",
        "* It is a bagging technique based algorithm. Bagging techniques are used whenever we want to lower the variance and keep the bias unchanged.\n",
        "* It uses decision trees as base learners, So basically it is collection of trees.\n",
        "*It does the Decision Trees+ Bagging+ Column Sampling+aggregation. So as it has seen different variety of data the model gets less impacted by variance in data.So it reduces the variance impact.\n",
        "*As the number of n_estimators increases the variance gets low and if n_estimators are low then it tends to overfit.\n",
        "*Since it has decision tree as base model it works very similar to decision trees.\n",
        "\n",
        "---\n",
        "* We will use the tuned parameters of decision tree to find  n_estimators \n",
        "\n"
      ]
    },
    {
      "cell_type": "code",
      "metadata": {
        "id": "brCGPANaZOWj",
        "colab_type": "code",
        "colab": {
          "base_uri": "https://localhost:8080/",
          "height": 428
        },
        "outputId": "d97fc9cc-83ed-4c98-bf21-e5885960369b"
      },
      "source": [
        "# Using the RandomizedSearchCV for hyperparameter tuning.\n",
        "from sklearn.ensemble import RandomForestClassifier\n",
        "from sklearn.model_selection import RandomizedSearchCV \n",
        "param_dist = {\"n_estimators\":[1,5,10],\n",
        "              \"max_depth\" : [200], \n",
        "              \"criterion\" : ['entropy'],\n",
        "              \"random_state\" : [40],\n",
        "              \"max_features\" : ['auto'],\n",
        "              } \n",
        "rfc = RandomForestClassifier()\n",
        "rsc = RandomizedSearchCV(rfc,param_dist,cv=2,verbose=500)\n",
        "rsc.fit(X_train,y_train)\n",
        "print(\"Tuned Decision Tree Parameters: {}\".format(rsc.best_params_)) \n",
        "print(\"Best score is {}\".format(rsc.best_score_)) "
      ],
      "execution_count": null,
      "outputs": [
        {
          "output_type": "stream",
          "text": [
            "Fitting 2 folds for each of 3 candidates, totalling 6 fits\n",
            "[Parallel(n_jobs=1)]: Using backend SequentialBackend with 1 concurrent workers.\n",
            "[CV] random_state=40, n_estimators=1, max_features=auto, max_depth=200, criterion=entropy \n",
            "[CV]  random_state=40, n_estimators=1, max_features=auto, max_depth=200, criterion=entropy, score=0.951, total=  50.0s\n",
            "[Parallel(n_jobs=1)]: Done   1 out of   1 | elapsed:   50.0s remaining:    0.0s\n",
            "[CV] random_state=40, n_estimators=1, max_features=auto, max_depth=200, criterion=entropy \n",
            "[CV]  random_state=40, n_estimators=1, max_features=auto, max_depth=200, criterion=entropy, score=0.952, total=  50.2s\n",
            "[Parallel(n_jobs=1)]: Done   2 out of   2 | elapsed:  1.7min remaining:    0.0s\n",
            "[CV] random_state=40, n_estimators=5, max_features=auto, max_depth=200, criterion=entropy \n",
            "[CV]  random_state=40, n_estimators=5, max_features=auto, max_depth=200, criterion=entropy, score=0.979, total= 4.0min\n",
            "[Parallel(n_jobs=1)]: Done   3 out of   3 | elapsed:  5.7min remaining:    0.0s\n",
            "[CV] random_state=40, n_estimators=5, max_features=auto, max_depth=200, criterion=entropy \n",
            "[CV]  random_state=40, n_estimators=5, max_features=auto, max_depth=200, criterion=entropy, score=0.980, total= 3.9min\n",
            "[Parallel(n_jobs=1)]: Done   4 out of   4 | elapsed:  9.6min remaining:    0.0s\n",
            "[CV] random_state=40, n_estimators=10, max_features=auto, max_depth=200, criterion=entropy \n",
            "[CV]  random_state=40, n_estimators=10, max_features=auto, max_depth=200, criterion=entropy, score=0.981, total= 8.4min\n",
            "[Parallel(n_jobs=1)]: Done   5 out of   5 | elapsed: 18.0min remaining:    0.0s\n",
            "[CV] random_state=40, n_estimators=10, max_features=auto, max_depth=200, criterion=entropy \n",
            "[CV]  random_state=40, n_estimators=10, max_features=auto, max_depth=200, criterion=entropy, score=0.982, total= 8.3min\n",
            "[Parallel(n_jobs=1)]: Done   6 out of   6 | elapsed: 26.3min remaining:    0.0s\n",
            "[Parallel(n_jobs=1)]: Done   6 out of   6 | elapsed: 26.3min finished\n",
            "Tuned Decision Tree Parameters: {'random_state': 40, 'n_estimators': 10, 'max_features': 'auto', 'max_depth': 200, 'criterion': 'entropy'}\n",
            "Best score is 0.9814133824700841\n"
          ],
          "name": "stdout"
        }
      ]
    },
    {
      "cell_type": "code",
      "metadata": {
        "id": "LqE3gs22pwWN",
        "colab_type": "code",
        "colab": {}
      },
      "source": [
        "# Fitting the model with optimum hyperparamter values\n",
        "clf = RandomForestClassifier(n_estimators = 10,max_depth = 200, criterion= 'entropy', random_state = 40,max_features = 'auto')\n",
        "clf = clf.fit(X_train,y_train)"
      ],
      "execution_count": null,
      "outputs": []
    },
    {
      "cell_type": "code",
      "metadata": {
        "id": "X7MDDGBowVCx",
        "colab_type": "code",
        "colab": {}
      },
      "source": [
        "import os\n",
        "os.chdir('/content/drive/My Drive')"
      ],
      "execution_count": null,
      "outputs": []
    },
    {
      "cell_type": "code",
      "metadata": {
        "id": "0LNoOXzAs1ox",
        "colab_type": "code",
        "colab": {
          "base_uri": "https://localhost:8080/",
          "height": 34
        },
        "outputId": "23d170e1-d900-474c-82f5-2bc92bfb90dd"
      },
      "source": [
        "joblib.dump(clf,'random_forest.pkl')"
      ],
      "execution_count": null,
      "outputs": [
        {
          "output_type": "execute_result",
          "data": {
            "text/plain": [
              "['random_forest.pkl']"
            ]
          },
          "metadata": {
            "tags": []
          },
          "execution_count": 13
        }
      ]
    },
    {
      "cell_type": "code",
      "metadata": {
        "id": "KfwixY5iwMSw",
        "colab_type": "code",
        "colab": {
          "base_uri": "https://localhost:8080/",
          "height": 34
        },
        "outputId": "b40b0f00-eac8-4c84-96c6-2916143ce37b"
      },
      "source": [
        "pred = clf.predict_proba(X_cv)\n",
        "from sklearn.metrics import log_loss\n",
        "print(log_loss(y_cv,pred))"
      ],
      "execution_count": null,
      "outputs": [
        {
          "output_type": "stream",
          "text": [
            "0.05912170634946324\n"
          ],
          "name": "stdout"
        }
      ]
    },
    {
      "cell_type": "markdown",
      "metadata": {
        "id": "mu_GftnyKAPa",
        "colab_type": "text"
      },
      "source": [
        "# Summary Of Random Forest-\n",
        "\n",
        "\n",
        "---\n",
        "\n",
        "\n",
        "\n",
        "\n",
        "*   Random forest is an ensemble technique which reduces variance while keeping bias unimpacted.\n",
        "*   The n_estimators paramter is the total number of trees used for the prediction. Optimum n_estimators were found out to be 10.\n",
        "*   Since it reduces the variance it is expected that it will give better result than decision trees\n",
        "*   Here we have reduced the multiclass log loss to 0.05912 which is very low as compared to that of decision tres.\n",
        "*   This Random Forest is bagging technique but can we use boosting technique which can reduce bias while keeping the variance undisturbed?. One model to try is LightGBM.\n",
        "\n"
      ]
    },
    {
      "cell_type": "markdown",
      "metadata": {
        "id": "bOHoLzlOCWIM",
        "colab_type": "text"
      },
      "source": [
        "# **LightGBM**"
      ]
    },
    {
      "cell_type": "markdown",
      "metadata": {
        "id": "Hkc6JcWPL41a",
        "colab_type": "text"
      },
      "source": [
        "# Key features of LightGBM-\n",
        "\n",
        "\n",
        "---\n",
        "\n",
        "\n",
        "*   This is the model which is light version of XGBoost and basically implements Gradient Boosted Decision Trees.\n",
        "*   LightGBM is boosting based algorithm.Boosting algorithms tend to lower the bias while keeping the variance unchanged.\n",
        "*   Boosting based algorithms basically trains on pseudo residuals of loss function.\n",
        "*   For this to compute the gradients of the function need to be calculated.It is computationally very expensive and takes long time to train.\n",
        "\n",
        "\n"
      ]
    },
    {
      "cell_type": "code",
      "metadata": {
        "id": "YXNbC22rE64a",
        "colab_type": "code",
        "colab": {
          "base_uri": "https://localhost:8080/",
          "height": 238
        },
        "outputId": "1fafb7d8-fa2b-47d3-f7b0-8d3a13fd3773"
      },
      "source": [
        "import lightgbm as lgb\n",
        "params = {\"objective\" : \"multiclass\",\n",
        "              \"num_class\": 4,\n",
        "              \"metric\" : \"multi_error\",\n",
        "              \"num_leaves\" : 30,\n",
        "              \"min_child_weight\" : 50,\n",
        "              \"learning_rate\" : 0.1,\n",
        "              \"bagging_fraction\" : 0.7,\n",
        "              \"feature_fraction\" : 0.7,\n",
        "              \"bagging_seed\" : 420,\n",
        "              \"verbosity\" : -1\n",
        "             }\n",
        "\n",
        "lg_train = lgb.Dataset(X_train,label=y_train)\n",
        "lg_test = lgb.Dataset(X_cv,y_cv)\n",
        "model = lgb.train(params, lg_train, 1000, valid_sets=[lg_test], early_stopping_rounds=50, verbose_eval=100)"
      ],
      "execution_count": null,
      "outputs": [
        {
          "output_type": "stream",
          "text": [
            "Training until validation scores don't improve for 50 rounds.\n",
            "[100]\tvalid_0's multi_error: 0.0909904\n",
            "[200]\tvalid_0's multi_error: 0.0685236\n",
            "[300]\tvalid_0's multi_error: 0.0571356\n",
            "[400]\tvalid_0's multi_error: 0.0505765\n",
            "[500]\tvalid_0's multi_error: 0.0456712\n",
            "[600]\tvalid_0's multi_error: 0.0423893\n",
            "[700]\tvalid_0's multi_error: 0.0395827\n",
            "[800]\tvalid_0's multi_error: 0.0374174\n",
            "[900]\tvalid_0's multi_error: 0.0356463\n",
            "[1000]\tvalid_0's multi_error: 0.0341237\n",
            "Did not meet early stopping. Best iteration is:\n",
            "[1000]\tvalid_0's multi_error: 0.0341237\n"
          ],
          "name": "stdout"
        }
      ]
    },
    {
      "cell_type": "code",
      "metadata": {
        "id": "G8kx1ygScas_",
        "colab_type": "code",
        "colab": {
          "base_uri": "https://localhost:8080/",
          "height": 34
        },
        "outputId": "ea2ec335-1c1a-400f-f1cb-13573cd611b6"
      },
      "source": [
        "import os\n",
        "os.chdir('/content/drive/My Drive/ML case study')\n",
        "import joblib\n",
        "joblib.dump(model,'lgb_models_from all_models_file.pkl')"
      ],
      "execution_count": null,
      "outputs": [
        {
          "output_type": "execute_result",
          "data": {
            "text/plain": [
              "['lgb_models_from all_models_file.pkl']"
            ]
          },
          "metadata": {
            "tags": []
          },
          "execution_count": 14
        }
      ]
    },
    {
      "cell_type": "code",
      "metadata": {
        "id": "_TkPxxKpquWE",
        "colab_type": "code",
        "colab": {}
      },
      "source": [
        "0.1142"
      ],
      "execution_count": null,
      "outputs": []
    },
    {
      "cell_type": "code",
      "metadata": {
        "id": "atDw9lN0PyFT",
        "colab_type": "code",
        "colab": {
          "base_uri": "https://localhost:8080/",
          "height": 34
        },
        "outputId": "8e12e2e4-e426-4806-986f-eb5fd920769b"
      },
      "source": [
        "pred_val = model.predict(X_cv, num_iteration= model.best_iteration )\n",
        "print('multiclass log loss',round(log_loss(y_cv['event'].to_numpy(),pred_val),5))"
      ],
      "execution_count": null,
      "outputs": [
        {
          "output_type": "stream",
          "text": [
            "multiclass log loss 0.10595\n"
          ],
          "name": "stdout"
        }
      ]
    },
    {
      "cell_type": "code",
      "metadata": {
        "id": "lV1V2UmqdGmL",
        "colab_type": "code",
        "colab": {
          "base_uri": "https://localhost:8080/",
          "height": 666
        },
        "outputId": "36a6f493-d0cd-4326-ed16-ffa5139ea125"
      },
      "source": [
        "#Checking out the Feature Importance of each feature in descending order.\n",
        "fig, ax = plt.subplots(figsize=(12,10))\n",
        "lgb.plot_importance(model, height=0.8, ax=ax)\n",
        "ax.grid(False)\n",
        "plt.ylabel('Feature', size=12)\n",
        "plt.xlabel('Importance', size=12)\n",
        "plt.title(\"Importance of the Features of our LightGBM Model\", fontsize=15)\n",
        "plt.show()"
      ],
      "execution_count": null,
      "outputs": [
        {
          "output_type": "display_data",
          "data": {
            "image/png": "[encoded data removed]",
            "text/plain": [
              "<Figure size 864x720 with 1 Axes>"
            ]
          },
          "metadata": {
            "tags": []
          }
        }
      ]
    },
    {
      "cell_type": "code",
      "metadata": {
        "id": "YJmkp5cdeW2k",
        "colab_type": "code",
        "colab": {
          "base_uri": "https://localhost:8080/",
          "height": 374
        },
        "outputId": "8fafd5c4-eb5f-461e-e6fd-31e1c2404dd1"
      },
      "source": [
        "conf_mat_val = confusion_matrix(np.argmax(pred_val, axis=1), y_cv.values)\n",
        "plot_confusion_matrix(conf_mat_val, [\"A\", \"B\", \"C\", \"D\"], title='Confusion matrix on Validation data', normalize=True)"
      ],
      "execution_count": null,
      "outputs": [
        {
          "output_type": "stream",
          "text": [
            "Normalized confusion matrix\n",
            "[[9.40048031e-01 2.95104321e-03 5.37971785e-03 5.16212082e-02]\n",
            " [1.94359809e-02 9.79226697e-01 1.33732232e-03 0.00000000e+00]\n",
            " [8.65653908e-03 8.24432293e-04 9.90131060e-01 3.87968138e-04]\n",
            " [6.14425131e-02 0.00000000e+00 2.71409598e-03 9.35843391e-01]]\n"
          ],
          "name": "stdout"
        },
        {
          "output_type": "display_data",
          "data": {
            "image/png": "[encoded data removed]",
            "text/plain": [
              "<Figure size 432x288 with 2 Axes>"
            ]
          },
          "metadata": {
            "tags": []
          }
        }
      ]
    },
    {
      "cell_type": "markdown",
      "metadata": {
        "id": "gIG1gyBmOcvp",
        "colab_type": "text"
      },
      "source": [
        "# Summary of LightGBM- \n",
        "\n",
        "\n",
        "*   There are too many hyperparamters to be tuned But the documentation for lightgbm has explaination for all of them https://lightgbm.readthedocs.io/en/latest/Parameters.html\n",
        "*   We found that the multiclass log loss is found out to be 0.1143.\n",
        "*   It is way to computationally expensive to hyperparameter tune this model so I have used few reference kernels and tuned model to get the results. I found one library which can be used for this HPT named optuna.\n",
        "* We can see from the confusion matrix that it was able to classify event A(94%),B(98%),C(99%),D(94%).\n",
        "\n"
      ]
    },
    {
      "cell_type": "markdown",
      "metadata": {
        "id": "2xy9_aKse4oE",
        "colab_type": "text"
      },
      "source": [
        "# ***Support Vector Machine***"
      ]
    },
    {
      "cell_type": "markdown",
      "metadata": {
        "id": "JxhORr7uLZdK",
        "colab_type": "text"
      },
      "source": [
        "SVMs dont work very well when you have large datapoints. Here we have about 4 million points in train. But if we look at the application then we will realize that to know if pilot is not losing the sense or not getting distracted we need super low latency. But SVMs dont work well in low letancy requirements.So we should rather try logistic regression which is super fast algorithm.Even for fitting model for one set of parameters SVM was taking way to long (since data is to large and SVM needs to calculate distance for each point in that rbf kernel function, so it was taking it forever so I didnt Hyper Parameter Tune it.)"
      ]
    },
    {
      "cell_type": "code",
      "metadata": {
        "id": "vQurQLnGevZZ",
        "colab_type": "code",
        "colab": {}
      },
      "source": [
        "# from sklearn.svm import SVC\n",
        "# from sklearn.model_selection import RandomizedSearchCV \n",
        "# param_dist = {\"C\":[0.001,0.01,0.1,1,10,100]} \n",
        "# svc = SVC()\n",
        "# rsc = RandomizedSearchCV(svc,param_dist,cv=2,verbose=500,n_jobs=-1)\n",
        "# rsc.fit(X_train,y_train)\n",
        "# print(\"Tuned Decision Tree Parameters: {}\".format(rsc.best_params_)) \n",
        "# print(\"Best score is {}\".format(rsc.best_score_)) "
      ],
      "execution_count": null,
      "outputs": []
    },
    {
      "cell_type": "code",
      "metadata": {
        "id": "3ErhI5OgB1_w",
        "colab_type": "code",
        "colab": {}
      },
      "source": [
        "# C = [0.01,0.1,1,10]\n",
        "# from sklearn.svm import SVC\n",
        "# from tqdm.auto import tqdm\n",
        "# from sklearn.calibration import CalibratedClassifierCV\n",
        "# from sklearn.metrics import log_loss\n",
        "# for c in tqdm(C):\n",
        "#   print('value of c is:',c)\n",
        "#   svm = SVC(C = c,kernel = 'rbf',decision_function_shape='ovo',)\n",
        "#   clf = CalibratedClassifierCV(svm,method='sigmoid',cv=2)\n",
        "#   clf = clf.fit(X_train.sample(50C = [0.01,0.1,1,10]\n",
        "                               \n",
        "\n",
        "\n",
        "\n",
        "# from sklearn.svm import SVC\n",
        "# from tqdm.auto import tqdm\n",
        "# from sklearn.calibration import CalibratedClassifierCV\n",
        "# from sklearn.metrics import log_loss\n",
        "# for c in tqdm(C):\n",
        "#   print('value of c is:',c)\n",
        "#   svm = SVC(C = c,kernel = 'rbf',decision_function_shape='ovo',)\n",
        "#   clf = CalibratedClassifierCV(svm,method='sigmoid',cv=2)\n",
        "#   clf = clf.fit(X_train.sample(5000),y_train.sample(5000))\n",
        "#   probs = clf.predict_proba(X_cv)\n",
        "#   print(log_loss(y_cv,probs))00),y_train.sample(5000))\n",
        "#   probs = clf.predict_proba(X_cv)\n",
        "#   print(log_loss(y_cv,probs))"
      ],
      "execution_count": null,
      "outputs": []
    },
    {
      "cell_type": "code",
      "metadata": {
        "id": "69tA7BQe3YAc",
        "colab_type": "code",
        "colab": {}
      },
      "source": [
        "# import os\n",
        "# os.chdir('/content/drive/My Drive')\n",
        "# import joblib\n",
        "# joblib.dump(model,'SVC.pkl')"
      ],
      "execution_count": null,
      "outputs": []
    },
    {
      "cell_type": "markdown",
      "metadata": {
        "id": "ri2dmsrJSS81",
        "colab_type": "text"
      },
      "source": [
        "# **Logistic regression**"
      ]
    },
    {
      "cell_type": "markdown",
      "metadata": {
        "id": "r_r72sqhP7cM",
        "colab_type": "text"
      },
      "source": [
        "\n",
        "# Key features of Logistic Regression-\n",
        "\n",
        "\n",
        "---\n",
        "\n",
        "\n",
        "\n",
        "\n",
        "*   Logistic regression has very few HPT to tune so it works super fast.\n",
        "*   It gives low latency since it has fewer HP to tune.\n",
        "*   Logistic regression uses sigmoid function so we cant use that directly for multiclass classification. \n",
        "\n",
        "*  For that we use one vs rest method.\n",
        "\n",
        "\n",
        "\n",
        "\n"
      ]
    },
    {
      "cell_type": "code",
      "metadata": {
        "id": "fBpnImitMr6h",
        "colab_type": "code",
        "colab": {
          "base_uri": "https://localhost:8080/",
          "height": 612
        },
        "outputId": "a17ba299-d69a-47ce-f24f-af02d183de19"
      },
      "source": [
        "from sklearn.linear_model import LogisticRegression\n",
        "from tqdm.auto import tqdm\n",
        "from sklearn.model_selection import RandomizedSearchCV \n",
        "# from sklearn.multiclass import OneVsRestClassifier\n",
        "param_dist = {\"C\" : [0.001,0.01,0.1,1,10]}\n",
        "lr = LogisticRegression(multi_class='ovr')\n",
        "rsc = RandomizedSearchCV(lr,param_dist,cv=2,verbose=500,n_jobs=1)\n",
        "rsc.fit(X_train,y_train)\n",
        "print(\"Tuned Logistic Regression Parameters: {}\".format(rsc.best_params_)) \n",
        "print(\"Best score is {}\".format(rsc.best_score_)) "
      ],
      "execution_count": null,
      "outputs": [
        {
          "output_type": "stream",
          "text": [
            "Fitting 2 folds for each of 5 candidates, totalling 10 fits\n",
            "[Parallel(n_jobs=1)]: Using backend SequentialBackend with 1 concurrent workers.\n",
            "[CV] C=0.001 .........................................................\n",
            "[CV] ............................. C=0.001, score=0.411, total= 2.1min\n",
            "[Parallel(n_jobs=1)]: Done   1 out of   1 | elapsed:  2.1min remaining:    0.0s\n",
            "[CV] C=0.001 .........................................................\n",
            "[CV] ............................. C=0.001, score=0.412, total= 2.1min\n",
            "[Parallel(n_jobs=1)]: Done   2 out of   2 | elapsed:  4.2min remaining:    0.0s\n",
            "[CV] C=0.01 ..........................................................\n",
            "[CV] .............................. C=0.01, score=0.415, total= 3.1min\n",
            "[Parallel(n_jobs=1)]: Done   3 out of   3 | elapsed:  7.3min remaining:    0.0s\n",
            "[CV] C=0.01 ..........................................................\n",
            "[CV] .............................. C=0.01, score=0.415, total= 2.9min\n",
            "[Parallel(n_jobs=1)]: Done   4 out of   4 | elapsed: 10.2min remaining:    0.0s\n",
            "[CV] C=0.1 ...........................................................\n",
            "[CV] ............................... C=0.1, score=0.415, total= 3.0min\n",
            "[Parallel(n_jobs=1)]: Done   5 out of   5 | elapsed: 13.2min remaining:    0.0s\n",
            "[CV] C=0.1 ...........................................................\n",
            "[CV] ............................... C=0.1, score=0.415, total= 3.1min\n",
            "[Parallel(n_jobs=1)]: Done   6 out of   6 | elapsed: 16.3min remaining:    0.0s\n",
            "[CV] C=1 .............................................................\n",
            "[CV] ................................. C=1, score=0.415, total= 3.3min\n",
            "[Parallel(n_jobs=1)]: Done   7 out of   7 | elapsed: 19.6min remaining:    0.0s\n",
            "[CV] C=1 .............................................................\n",
            "[CV] ................................. C=1, score=0.415, total= 3.3min\n",
            "[Parallel(n_jobs=1)]: Done   8 out of   8 | elapsed: 22.8min remaining:    0.0s\n",
            "[CV] C=10 ............................................................\n",
            "[CV] ................................ C=10, score=0.415, total= 3.3min\n",
            "[Parallel(n_jobs=1)]: Done   9 out of   9 | elapsed: 26.1min remaining:    0.0s\n",
            "[CV] C=10 ............................................................\n",
            "[CV] ................................ C=10, score=0.416, total= 3.3min\n",
            "[Parallel(n_jobs=1)]: Done  10 out of  10 | elapsed: 29.4min remaining:    0.0s\n",
            "[Parallel(n_jobs=1)]: Done  10 out of  10 | elapsed: 29.4min finished\n",
            "Tuned Logistic Regression Parameters: {'C': 10}\n",
            "Best score is 0.4155935579531437\n"
          ],
          "name": "stdout"
        }
      ]
    },
    {
      "cell_type": "code",
      "metadata": {
        "id": "oRmHfpSXVaqm",
        "colab_type": "code",
        "colab": {
          "base_uri": "https://localhost:8080/",
          "height": 34
        },
        "outputId": "6d8e3605-798a-4436-eef7-f2e933a7b4db"
      },
      "source": [
        "clf = LogisticRegression(multi_class='ovr',C = 100)\n",
        "clf = clf.fit(X_train,y_train)\n",
        "pred= clf.predict_proba(X_cv)\n",
        "print(log_loss(y_cv,pred))"
      ],
      "execution_count": null,
      "outputs": [
        {
          "output_type": "stream",
          "text": [
            "1.1631779425000497\n"
          ],
          "name": "stdout"
        }
      ]
    },
    {
      "cell_type": "code",
      "metadata": {
        "id": "H0b3gBswNgcN",
        "colab_type": "code",
        "colab": {
          "base_uri": "https://localhost:8080/",
          "height": 34
        },
        "outputId": "da2711c5-b54a-4202-a4e2-bdf54bac17ea"
      },
      "source": [
        "import os\n",
        "os.chdir('/content/drive/My Drive')\n",
        "import joblib\n",
        "joblib.dump(clf,'Logistic_Regression.pkl')"
      ],
      "execution_count": null,
      "outputs": [
        {
          "output_type": "execute_result",
          "data": {
            "text/plain": [
              "['Logistic_Regression.pkl']"
            ]
          },
          "metadata": {
            "tags": []
          },
          "execution_count": 13
        }
      ]
    },
    {
      "cell_type": "markdown",
      "metadata": {
        "id": "u9kQVDheQ4vv",
        "colab_type": "text"
      },
      "source": [
        "# Sumamry of Logistic regression-\n",
        "\n",
        "\n",
        "*   We tuned the regularization parameter of logistic regression and found out that best C is 10\n",
        "*   Multiclass log loss is 1.16 which is not very well.\n",
        "\n"
      ]
    },
    {
      "cell_type": "markdown",
      "metadata": {
        "id": "lse2kMmYSj-r",
        "colab_type": "text"
      },
      "source": [
        "# **Summary of all the Model Building**\n",
        "\n",
        "\n",
        "*   Naive Bayes gave the log loss of 1.173.\n",
        "*   Decision Trees gave the log loss of 0.3494.\n",
        "*   Random Forest gave the least log loss which is 0.05912.\n",
        "*   LightGBM gave the log loss of 0.11423.\n",
        "*   SVMs were to hard to train and since competition expects us to make the model work in real time it is of no use to use SVMs since there are way too many number of points.\n",
        "*  Logistic regression gave us the log loss of 1.1631.\n",
        "* So to sum up everything the best to worst models for this case study can be considered as-\n",
        "* **Random Forest >LightGBM >DecisionTree >Logistic regression >Naive bayes.**\n",
        "* **The model which should be used for testing is random forest**\n"
      ]
    },
    {
      "cell_type": "markdown",
      "metadata": {
        "id": "kuofOGSPTKph",
        "colab_type": "text"
      },
      "source": [
        "# **Testing the model**"
      ]
    },
    {
      "cell_type": "code",
      "metadata": {
        "id": "6UCk3G3G-Av-",
        "colab_type": "code",
        "colab": {}
      },
      "source": [
        "import os\n",
        "os.chdir('/content/drive/My Drive/ML case study')"
      ],
      "execution_count": null,
      "outputs": []
    },
    {
      "cell_type": "code",
      "metadata": {
        "id": "712g9vOFRkZS",
        "colab_type": "code",
        "colab": {}
      },
      "source": [
        "# Loading the model and Test IDs\n",
        "import joblib\n",
        "model = joblib.load('lgb_models_for_CS_modified.pkl')\n",
        "os.chdir('/content/drive/My Drive')\n",
        "id = joblib.load('ids.pkl')"
      ],
      "execution_count": null,
      "outputs": []
    },
    {
      "cell_type": "code",
      "metadata": {
        "id": "sl9lmtN0LD35",
        "colab_type": "code",
        "colab": {}
      },
      "source": [
        "test_n = joblib.load('test_data.pkl')"
      ],
      "execution_count": null,
      "outputs": []
    },
    {
      "cell_type": "code",
      "metadata": {
        "id": "cJqV-GVrLDdO",
        "colab_type": "code",
        "colab": {}
      },
      "source": [
        "pred = model.predict(test_n)"
      ],
      "execution_count": null,
      "outputs": []
    },
    {
      "cell_type": "code",
      "metadata": {
        "id": "33toS9gOL2Ej",
        "colab_type": "code",
        "colab": {
          "base_uri": "https://localhost:8080/",
          "height": 136
        },
        "outputId": "d800bc06-8ec8-425c-bc47-7f56e44e6f35"
      },
      "source": [
        "pred"
      ],
      "execution_count": null,
      "outputs": [
        {
          "output_type": "execute_result",
          "data": {
            "text/plain": [
              "array([[9.97549362e-01, 2.49403851e-05, 8.02148769e-05, 2.34548237e-03],\n",
              "       [9.99976216e-01, 2.06544691e-05, 2.88779084e-07, 2.84081093e-06],\n",
              "       [9.98100360e-01, 2.15223661e-05, 4.70924999e-05, 1.83102470e-03],\n",
              "       ...,\n",
              "       [8.11437705e-01, 2.06647929e-02, 1.63616275e-01, 4.28122710e-03],\n",
              "       [9.57440558e-01, 3.85126675e-04, 9.01185618e-06, 4.21653031e-02],\n",
              "       [8.16466415e-01, 2.78624457e-02, 1.52582206e-01, 3.08893310e-03]])"
            ]
          },
          "metadata": {
            "tags": []
          },
          "execution_count": 8
        }
      ]
    },
    {
      "cell_type": "code",
      "metadata": {
        "id": "ve9iKm18Xc88",
        "colab_type": "code",
        "colab": {}
      },
      "source": [
        "submission = pd.DataFrame(np.concatenate((np.arange(len(test_n))[:, np.newaxis], pred), axis=1), columns=['id', 'A', 'B', 'C', 'D'],)\n",
        "submission['id'] = submission['id'].astype(int)"
      ],
      "execution_count": null,
      "outputs": []
    },
    {
      "cell_type": "code",
      "metadata": {
        "id": "phpwfQt6Vx7e",
        "colab_type": "code",
        "colab": {
          "base_uri": "https://localhost:8080/",
          "height": 419
        },
        "outputId": "ded8605e-b365-4e28-f394-037dcec77fd0"
      },
      "source": [
        "submission"
      ],
      "execution_count": null,
      "outputs": [
        {
          "output_type": "execute_result",
          "data": {
            "text/html": [
              "<div>\n",
              "<style scoped>\n",
              "    .dataframe tbody tr th:only-of-type {\n",
              "        vertical-align: middle;\n",
              "    }\n",
              "\n",
              "    .dataframe tbody tr th {\n",
              "        vertical-align: top;\n",
              "    }\n",
              "\n",
              "    .dataframe thead th {\n",
              "        text-align: right;\n",
              "    }\n",
              "</style>\n",
              "<table border=\"1\" class=\"dataframe\">\n",
              "  <thead>\n",
              "    <tr style=\"text-align: right;\">\n",
              "      <th></th>\n",
              "      <th>id</th>\n",
              "      <th>A</th>\n",
              "      <th>B</th>\n",
              "      <th>C</th>\n",
              "      <th>D</th>\n",
              "    </tr>\n",
              "  </thead>\n",
              "  <tbody>\n",
              "    <tr>\n",
              "      <th>0</th>\n",
              "      <td>0</td>\n",
              "      <td>0.997549</td>\n",
              "      <td>0.000025</td>\n",
              "      <td>8.021488e-05</td>\n",
              "      <td>0.002345</td>\n",
              "    </tr>\n",
              "    <tr>\n",
              "      <th>1</th>\n",
              "      <td>1</td>\n",
              "      <td>0.999976</td>\n",
              "      <td>0.000021</td>\n",
              "      <td>2.887791e-07</td>\n",
              "      <td>0.000003</td>\n",
              "    </tr>\n",
              "    <tr>\n",
              "      <th>2</th>\n",
              "      <td>2</td>\n",
              "      <td>0.998100</td>\n",
              "      <td>0.000022</td>\n",
              "      <td>4.709250e-05</td>\n",
              "      <td>0.001831</td>\n",
              "    </tr>\n",
              "    <tr>\n",
              "      <th>3</th>\n",
              "      <td>3</td>\n",
              "      <td>0.999975</td>\n",
              "      <td>0.000022</td>\n",
              "      <td>4.246338e-07</td>\n",
              "      <td>0.000003</td>\n",
              "    </tr>\n",
              "    <tr>\n",
              "      <th>4</th>\n",
              "      <td>4</td>\n",
              "      <td>0.999031</td>\n",
              "      <td>0.000011</td>\n",
              "      <td>4.318537e-04</td>\n",
              "      <td>0.000526</td>\n",
              "    </tr>\n",
              "    <tr>\n",
              "      <th>...</th>\n",
              "      <td>...</td>\n",
              "      <td>...</td>\n",
              "      <td>...</td>\n",
              "      <td>...</td>\n",
              "      <td>...</td>\n",
              "    </tr>\n",
              "    <tr>\n",
              "      <th>17965138</th>\n",
              "      <td>17965138</td>\n",
              "      <td>0.795748</td>\n",
              "      <td>0.020911</td>\n",
              "      <td>1.788592e-01</td>\n",
              "      <td>0.004482</td>\n",
              "    </tr>\n",
              "    <tr>\n",
              "      <th>17965139</th>\n",
              "      <td>17965139</td>\n",
              "      <td>0.963100</td>\n",
              "      <td>0.000610</td>\n",
              "      <td>9.829393e-06</td>\n",
              "      <td>0.036280</td>\n",
              "    </tr>\n",
              "    <tr>\n",
              "      <th>17965140</th>\n",
              "      <td>17965140</td>\n",
              "      <td>0.811438</td>\n",
              "      <td>0.020665</td>\n",
              "      <td>1.636163e-01</td>\n",
              "      <td>0.004281</td>\n",
              "    </tr>\n",
              "    <tr>\n",
              "      <th>17965141</th>\n",
              "      <td>17965141</td>\n",
              "      <td>0.957441</td>\n",
              "      <td>0.000385</td>\n",
              "      <td>9.011856e-06</td>\n",
              "      <td>0.042165</td>\n",
              "    </tr>\n",
              "    <tr>\n",
              "      <th>17965142</th>\n",
              "      <td>17965142</td>\n",
              "      <td>0.816466</td>\n",
              "      <td>0.027862</td>\n",
              "      <td>1.525822e-01</td>\n",
              "      <td>0.003089</td>\n",
              "    </tr>\n",
              "  </tbody>\n",
              "</table>\n",
              "<p>17965143 rows × 5 columns</p>\n",
              "</div>"
            ],
            "text/plain": [
              "                id         A         B             C         D\n",
              "0                0  0.997549  0.000025  8.021488e-05  0.002345\n",
              "1                1  0.999976  0.000021  2.887791e-07  0.000003\n",
              "2                2  0.998100  0.000022  4.709250e-05  0.001831\n",
              "3                3  0.999975  0.000022  4.246338e-07  0.000003\n",
              "4                4  0.999031  0.000011  4.318537e-04  0.000526\n",
              "...            ...       ...       ...           ...       ...\n",
              "17965138  17965138  0.795748  0.020911  1.788592e-01  0.004482\n",
              "17965139  17965139  0.963100  0.000610  9.829393e-06  0.036280\n",
              "17965140  17965140  0.811438  0.020665  1.636163e-01  0.004281\n",
              "17965141  17965141  0.957441  0.000385  9.011856e-06  0.042165\n",
              "17965142  17965142  0.816466  0.027862  1.525822e-01  0.003089\n",
              "\n",
              "[17965143 rows x 5 columns]"
            ]
          },
          "metadata": {
            "tags": []
          },
          "execution_count": 11
        }
      ]
    },
    {
      "cell_type": "code",
      "metadata": {
        "id": "bEEZLV_9Vpc_",
        "colab_type": "code",
        "colab": {}
      },
      "source": [
        "submission.to_csv('final_submission1.csv', index=False)"
      ],
      "execution_count": null,
      "outputs": []
    },
    {
      "cell_type": "code",
      "metadata": {
        "id": "9SaZW5xbLQn3",
        "colab_type": "code",
        "colab": {}
      },
      "source": [
        "import joblib \n",
        "joblib.dump(submission,'LightGBM_test_op.pkl')"
      ],
      "execution_count": null,
      "outputs": []
    },
    {
      "cell_type": "markdown",
      "metadata": {
        "id": "ruTcuPb-5bPh",
        "colab_type": "text"
      },
      "source": [
        "# **Results on Submission-**"
      ]
    },
    {
      "cell_type": "markdown",
      "metadata": {
        "id": "uU4_fJQe5fyc",
        "colab_type": "text"
      },
      "source": [
        "***I have tried prediction using both RandomForestClassifier and LightGBM as it can be seen in the cell below my LightGBM gave me public score of 0.742 and private score of 1.224 for LightGBM model.***\n",
        "**For RandomForestClassifier Model I got public score of 1.353 and private score of 2.328. ***"
      ]
    },
    {
      "cell_type": "markdown",
      "metadata": {
        "id": "HBL79xFe5Zku",
        "colab_type": "text"
      },
      "source": [
        "![image.png](data:image/png;base64,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)"
      ]
    },
    {
      "cell_type": "code",
      "metadata": {
        "id": "0l1WI4Bp5alK",
        "colab_type": "code",
        "colab": {}
      },
      "source": [
        ""
      ],
      "execution_count": null,
      "outputs": []
    }
  ]
}
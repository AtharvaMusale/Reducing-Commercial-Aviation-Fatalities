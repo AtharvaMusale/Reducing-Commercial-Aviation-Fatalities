{
  "nbformat": 4,
  "nbformat_minor": 0,
  "metadata": {
    "colab": {
      "name": "Model_building3(Training_on_all_features_with_pilot).ipynb",
      "provenance": [],
      "collapsed_sections": [],
      "toc_visible": true
    },
    "kernelspec": {
      "name": "python3",
      "display_name": "Python 3"
    },
    "accelerator": "GPU"
  },
  "cells": [
    {
      "cell_type": "markdown",
      "metadata": {
        "id": "u9wuT7_aO0dG",
        "colab_type": "text"
      },
      "source": [
        "**In this notebook based on the previous notebook's results I am trying to use all the features and also adding pilot feature in it and trying out the models.**"
      ]
    },
    {
      "cell_type": "code",
      "metadata": {
        "id": "TlrWflB42JrP",
        "colab_type": "code",
        "colab": {
          "base_uri": "https://localhost:8080/",
          "height": 224
        },
        "outputId": "e19207f0-f549-4107-9197-aa59261854ba"
      },
      "source": [
        "!wget --header=\"Host: storage.googleapis.com\" --header=\"User-Agent: Mozilla/5.0 (X11; Linux x86_64) AppleWebKit/537.36 (KHTML, like Gecko) Chrome/84.0.4147.105 Safari/537.36\" --header=\"Accept: text/html,application/xhtml+xml,application/xml;q=0.9,image/webp,image/apng,*/*;q=0.8,application/signed-exchange;v=b3;q=0.9\" --header=\"Accept-Language: en-GB,en-US;q=0.9,en;q=0.8\" --header=\"Referer: https://www.kaggle.com/\" \"https://storage.googleapis.com/kaggle-competitions-data/kaggle-v2/11835/224935/compressed/train.csv.zip?GoogleAccessId=web-data@kaggle-161607.iam.gserviceaccount.com&Expires=1597542972&Signature=pJwkpuWjRxVEL%2F0vyManv3qHj5dPZ35W75c3ZwCzo47KhBhdAPqrk5K5FCBtD12Rs9wlkaEhgvFwDXhaR00w9wauMYY0jr%2BVnzG85DF%2F0mQ52xpD7RD8qjebQxsKHTyojKwGUMjM87qYGQDZid4xIs9djE15BY3zmkDsQLE8sagMYYW9%2Bqr2gKvkVnM5FxW4NOtjkVEATINLCSBBUOD3L8y%2BZdXWtBDu9iUxKF4r9voOUZJfAQZiTRITrxX%2F1O8iqZRPCXe6Ca0CoNXj9nyWB9GH4AcSGTIGop9r4YVDZOxQ9TIc8J8sNaw%2Br7F19C5R0R1Y338zEkqkFoGarVAAEw%3D%3D&response-content-disposition=attachment%3B+filename%3Dtrain.csv.zip\" -c -O 'train.csv.zip'"
      ],
      "execution_count": null,
      "outputs": [
        {
          "output_type": "stream",
          "text": [
            "--2020-08-13 01:56:45--  https://storage.googleapis.com/kaggle-competitions-data/kaggle-v2/11835/224935/compressed/train.csv.zip?GoogleAccessId=web-data@kaggle-161607.iam.gserviceaccount.com&Expires=1597542972&Signature=pJwkpuWjRxVEL%2F0vyManv3qHj5dPZ35W75c3ZwCzo47KhBhdAPqrk5K5FCBtD12Rs9wlkaEhgvFwDXhaR00w9wauMYY0jr%2BVnzG85DF%2F0mQ52xpD7RD8qjebQxsKHTyojKwGUMjM87qYGQDZid4xIs9djE15BY3zmkDsQLE8sagMYYW9%2Bqr2gKvkVnM5FxW4NOtjkVEATINLCSBBUOD3L8y%2BZdXWtBDu9iUxKF4r9voOUZJfAQZiTRITrxX%2F1O8iqZRPCXe6Ca0CoNXj9nyWB9GH4AcSGTIGop9r4YVDZOxQ9TIc8J8sNaw%2Br7F19C5R0R1Y338zEkqkFoGarVAAEw%3D%3D&response-content-disposition=attachment%3B+filename%3Dtrain.csv.zip\n",
            "Resolving storage.googleapis.com (storage.googleapis.com)... 74.125.203.128, 74.125.204.128, 64.233.189.128, ...\n",
            "Connecting to storage.googleapis.com (storage.googleapis.com)|74.125.203.128|:443... connected.\n",
            "HTTP request sent, awaiting response... 200 OK\n",
            "Length: 456337398 (435M) [application/zip]\n",
            "Saving to: ‘train.csv.zip’\n",
            "\n",
            "train.csv.zip       100%[===================>] 435.20M  24.5MB/s    in 20s     \n",
            "\n",
            "2020-08-13 01:57:05 (22.1 MB/s) - ‘train.csv.zip’ saved [456337398/456337398]\n",
            "\n"
          ],
          "name": "stdout"
        }
      ]
    },
    {
      "cell_type": "code",
      "metadata": {
        "id": "0ZXPWXLB2cwi",
        "colab_type": "code",
        "colab": {
          "base_uri": "https://localhost:8080/",
          "height": 51
        },
        "outputId": "09b6d645-7d8d-44f7-b595-d400871e18f0"
      },
      "source": [
        "!unzip train.csv.zip"
      ],
      "execution_count": null,
      "outputs": [
        {
          "output_type": "stream",
          "text": [
            "Archive:  train.csv.zip\n",
            "  inflating: train.csv               \n"
          ],
          "name": "stdout"
        }
      ]
    },
    {
      "cell_type": "code",
      "metadata": {
        "id": "4H9aJHmg2gJz",
        "colab_type": "code",
        "colab": {
          "base_uri": "https://localhost:8080/",
          "height": 224
        },
        "outputId": "4ddd119d-826e-4cac-9fc7-e8c27993dd83"
      },
      "source": [
        "!wget --header=\"Host: storage.googleapis.com\" --header=\"User-Agent: Mozilla/5.0 (X11; Linux x86_64) AppleWebKit/537.36 (KHTML, like Gecko) Chrome/84.0.4147.105 Safari/537.36\" --header=\"Accept: text/html,application/xhtml+xml,application/xml;q=0.9,image/webp,image/apng,*/*;q=0.8,application/signed-exchange;v=b3;q=0.9\" --header=\"Accept-Language: en-GB,en-US;q=0.9,en;q=0.8\" --header=\"Referer: https://www.kaggle.com/\" \"https://storage.googleapis.com/kaggle-competitions-data/kaggle-v2/11835/224935/compressed/test.csv.zip?GoogleAccessId=web-data@kaggle-161607.iam.gserviceaccount.com&Expires=1596891757&Signature=bjWisHQtx8jjPi2pj6S4wSnRT%2FhKcPZW4wjJWGbh8gYHBeSqI1jKA0B4DYZuf7VfkaiRAzUcUcPIBJjOrzPVU3pvPHjrwzYU9VgWOcWfQF4vm7zHnjxpnfcwCWO8BenLgGLwK9%2B9BmNCHKBV5R6DE%2BwZvfaraCVHKM5mUwne9MXhR7VoaFVAHAh4T%2B3W7ibgqgzaU2ycBxSA8eE3nWZBCuPcXts9XyLAE8ZKqvQhCATBjE3hsz8eKDCwTUtbBU9oxc8e5WE%2Fn0ZkLw6pd9OYFXZSDlNj5Rje%2BVTSJIiH9Vuln7AihRSObRvFRoIfd2V0fAgQz3LncqEukE1bGAkXuA%3D%3D&response-content-disposition=attachment%3B+filename%3Dtest.csv.zip\" -c -O 'test.csv.zip'"
      ],
      "execution_count": null,
      "outputs": [
        {
          "output_type": "stream",
          "text": [
            "--2020-08-05 13:03:02--  https://storage.googleapis.com/kaggle-competitions-data/kaggle-v2/11835/224935/compressed/test.csv.zip?GoogleAccessId=web-data@kaggle-161607.iam.gserviceaccount.com&Expires=1596891757&Signature=bjWisHQtx8jjPi2pj6S4wSnRT%2FhKcPZW4wjJWGbh8gYHBeSqI1jKA0B4DYZuf7VfkaiRAzUcUcPIBJjOrzPVU3pvPHjrwzYU9VgWOcWfQF4vm7zHnjxpnfcwCWO8BenLgGLwK9%2B9BmNCHKBV5R6DE%2BwZvfaraCVHKM5mUwne9MXhR7VoaFVAHAh4T%2B3W7ibgqgzaU2ycBxSA8eE3nWZBCuPcXts9XyLAE8ZKqvQhCATBjE3hsz8eKDCwTUtbBU9oxc8e5WE%2Fn0ZkLw6pd9OYFXZSDlNj5Rje%2BVTSJIiH9Vuln7AihRSObRvFRoIfd2V0fAgQz3LncqEukE1bGAkXuA%3D%3D&response-content-disposition=attachment%3B+filename%3Dtest.csv.zip\n",
            "Resolving storage.googleapis.com (storage.googleapis.com)... 173.194.202.128, 74.125.20.128, 74.125.197.128, ...\n",
            "Connecting to storage.googleapis.com (storage.googleapis.com)|173.194.202.128|:443... connected.\n",
            "HTTP request sent, awaiting response... 200 OK\n",
            "Length: 1791131386 (1.7G) [application/zip]\n",
            "Saving to: ‘test.csv.zip’\n",
            "\n",
            "test.csv.zip        100%[===================>]   1.67G  65.5MB/s    in 26s     \n",
            "\n",
            "2020-08-05 13:03:29 (64.6 MB/s) - ‘test.csv.zip’ saved [1791131386/1791131386]\n",
            "\n"
          ],
          "name": "stdout"
        }
      ]
    },
    {
      "cell_type": "code",
      "metadata": {
        "id": "wPiSvv2w2hsP",
        "colab_type": "code",
        "colab": {
          "base_uri": "https://localhost:8080/",
          "height": 51
        },
        "outputId": "52f3a126-e7b0-4237-bdbc-c7fe522c20ee"
      },
      "source": [
        "! unzip test.csv"
      ],
      "execution_count": null,
      "outputs": [
        {
          "output_type": "stream",
          "text": [
            "Archive:  test.csv.zip\n",
            "  inflating: test.csv                \n"
          ],
          "name": "stdout"
        }
      ]
    },
    {
      "cell_type": "code",
      "metadata": {
        "id": "m6PlsBiB2kRL",
        "colab_type": "code",
        "colab": {
          "base_uri": "https://localhost:8080/",
          "height": 105
        },
        "outputId": "9b8e4295-b39b-47ba-9e08-e4216bda21af"
      },
      "source": [
        "import warnings\n",
        "import itertools\n",
        "import numpy as np \n",
        "import pandas as pd\n",
        "import seaborn as sns\n",
        "import lightgbm as lgb\n",
        "import matplotlib.pyplot as plt\n",
        "from tqdm import tqdm_notebook as tqdm\n",
        "from sklearn.preprocessing import MinMaxScaler\n",
        "from sklearn.model_selection import train_test_split\n",
        "from sklearn.metrics import confusion_matrix, log_loss\n",
        "import dask.dataframe as dd\n",
        "import dask\n",
        "import gc\n",
        "\n",
        "from yellowbrick.text import TSNEVisualizer\n",
        "\n",
        "%matplotlib inline\n",
        "plt.style.use(\"fivethirtyeight\")\n",
        "\n",
        "# import os\n",
        "# print(os.listdir(\"../input\"))\n",
        "\n",
        "warnings.filterwarnings(action='ignore')\n",
        "sns.set_style('whitegrid')"
      ],
      "execution_count": null,
      "outputs": [
        {
          "output_type": "stream",
          "text": [
            "/usr/local/lib/python3.6/dist-packages/statsmodels/tools/_testing.py:19: FutureWarning: pandas.util.testing is deprecated. Use the functions in the public API at pandas.testing instead.\n",
            "  import pandas.util.testing as tm\n",
            "/usr/local/lib/python3.6/dist-packages/sklearn/utils/deprecation.py:144: FutureWarning: The sklearn.metrics.classification module is  deprecated in version 0.22 and will be removed in version 0.24. The corresponding classes / functions should instead be imported from sklearn.metrics. Anything that cannot be imported from sklearn.metrics is now part of the private API.\n",
            "  warnings.warn(message, FutureWarning)\n"
          ],
          "name": "stderr"
        }
      ]
    },
    {
      "cell_type": "code",
      "metadata": {
        "id": "BvJeCwht3xr2",
        "colab_type": "code",
        "colab": {}
      },
      "source": [
        "# This is to be used for memory optimization because the data is very large.\n",
        "def reduce_mem_usage(df):\n",
        "    \"\"\" iterate through all the columns of a dataframe and modify the data type\n",
        "        to reduce memory usage.        \n",
        "    \"\"\"\n",
        "    start_mem = df.memory_usage().sum() / 1024**2\n",
        "    print('Memory usage of dataframe is {:.2f} MB'.format(start_mem))\n",
        "    \n",
        "    for col in df.columns:\n",
        "        col_type = df[col].dtype\n",
        "        \n",
        "        if col_type != object:\n",
        "            c_min = df[col].min()\n",
        "            c_max = df[col].max()\n",
        "            if str(col_type)[:3] == 'int':\n",
        "                if c_min > np.iinfo(np.int8).min and c_max < np.iinfo(np.int8).max:\n",
        "                    df[col] = df[col].astype(np.int8)\n",
        "                elif c_min > np.iinfo(np.int16).min and c_max < np.iinfo(np.int16).max:\n",
        "                    df[col] = df[col].astype(np.int16)\n",
        "                elif c_min > np.iinfo(np.int32).min and c_max < np.iinfo(np.int32).max:\n",
        "                    df[col] = df[col].astype(np.int32)\n",
        "                elif c_min > np.iinfo(np.int64).min and c_max < np.iinfo(np.int64).max:\n",
        "                    df[col] = df[col].astype(np.int64)  \n",
        "            else:\n",
        "                if c_min > np.finfo(np.float16).min and c_max < np.finfo(np.float16).max:\n",
        "                    df[col] = df[col].astype(np.float16)\n",
        "                elif c_min > np.finfo(np.float32).min and c_max < np.finfo(np.float32).max:\n",
        "                    df[col] = df[col].astype(np.float32)\n",
        "                else:\n",
        "                    df[col] = df[col].astype(np.float64)\n",
        "        else:\n",
        "            df[col] = df[col].astype('category')\n",
        "\n",
        "    end_mem = df.memory_usage().sum() / 1024**2\n",
        "    print('Memory usage after optimization is: {:.2f} MB'.format(end_mem))\n",
        "    print('Decreased by {:.1f}%'.format(100 * (start_mem - end_mem) / start_mem))\n",
        "    \n",
        "    return df\n",
        "def featureModify(isTrain, numRows):\n",
        "    if isTrain:\n",
        "        df = dd.read_csv('train.csv',nrows=numRows) \n",
        "        df = df.compute()\n",
        "        # df['pilot'] = 100*df['crew']+df['seat']\n",
        "        df = reduce_mem_usage(df)\n",
        "        df['event'] = df['event'].map({\n",
        "            'A':0,\n",
        "            'B':1,\n",
        "            'C':2,\n",
        "            'D':3\n",
        "        })\n",
        "    else:\n",
        "        df = dd.read_csv('test.csv',nrows=numRows)\n",
        "        df = df.compute()\n",
        "        # df['pilot'] = 100*df['crew']+df['seat']\n",
        "        df = reduce_mem_usage(df)\n",
        "    \n",
        "    return df \n",
        "train = featureModify(True, None)\n",
        "y = train['event']\n",
        "# train = train.drop('event',axis=1)\n",
        "print(train.shape)\n",
        "print(train.columns)"
      ],
      "execution_count": null,
      "outputs": []
    },
    {
      "cell_type": "code",
      "metadata": {
        "id": "Glkw5Yks2L-W",
        "colab_type": "code",
        "colab": {}
      },
      "source": [
        "train['pilot'] = 100*train['seat']+train['crew']"
      ],
      "execution_count": null,
      "outputs": []
    },
    {
      "cell_type": "code",
      "metadata": {
        "id": "zJLBwINt4P9w",
        "colab_type": "code",
        "colab": {}
      },
      "source": [
        "train = train[['crew', 'experiment', 'time', 'seat', 'eeg_fp1', 'eeg_f7', 'eeg_f8',\n",
        "       'eeg_t4', 'eeg_t6', 'eeg_t5', 'eeg_t3', 'eeg_fp2', 'eeg_o1', 'eeg_p3',\n",
        "       'eeg_pz', 'eeg_f3', 'eeg_fz', 'eeg_f4', 'eeg_c4', 'eeg_p4', 'eeg_poz',\n",
        "       'eeg_c3', 'eeg_cz', 'eeg_o2', 'ecg', 'r', 'gsr','pilot']]"
      ],
      "execution_count": null,
      "outputs": []
    },
    {
      "cell_type": "code",
      "metadata": {
        "id": "iuaxucaN6qsA",
        "colab_type": "code",
        "colab": {
          "base_uri": "https://localhost:8080/",
          "height": 34
        },
        "outputId": "55e2f478-4380-4364-db23-c8d1bac8cc9d"
      },
      "source": [
        "train, train_test, y, y_test = train_test_split(train, y, test_size=0.2, shuffle=True)\n",
        "train = lgb.Dataset(train, label=y,categorical_feature=[1])\n",
        "del y\n",
        "gc.collect()\n",
        "\n",
        "train_test = lgb.Dataset(train_test, label=y_test,categorical_feature=[1])\n",
        "del y_test\n",
        "gc.collect()"
      ],
      "execution_count": null,
      "outputs": [
        {
          "output_type": "execute_result",
          "data": {
            "text/plain": [
              "0"
            ]
          },
          "metadata": {
            "tags": []
          },
          "execution_count": 28
        }
      ]
    },
    {
      "cell_type": "code",
      "metadata": {
        "id": "jMYPffWn7Ozw",
        "colab_type": "code",
        "colab": {
          "base_uri": "https://localhost:8080/",
          "height": 238
        },
        "outputId": "eb63cd3c-4bde-4766-d306-8cc127edc7fa"
      },
      "source": [
        "params = {\n",
        "        \"objective\" : \"multiclass\", \n",
        "        \"metric\" : \"multi_error\", \n",
        "        'num_class':4,\n",
        "        \"num_leaves\" : 30, \n",
        "        \"learning_rate\" : 0.01, \n",
        "        \"bagging_fraction\" : 0.9,\n",
        "        \"bagging_seed\" : 0, \n",
        "        \"num_threads\" : 4,\n",
        "        'min_data_in_leaf':100, \n",
        "        'min_split_gain':0.00019\n",
        "}\n",
        "\n",
        "model = lgb.train(  params, \n",
        "                    train_set = train,\n",
        "                    num_boost_round=1000,\n",
        "                    early_stopping_rounds=200,\n",
        "                    verbose_eval=100, \n",
        "                    valid_sets=[train,train_test]\n",
        "                  )"
      ],
      "execution_count": null,
      "outputs": [
        {
          "output_type": "stream",
          "text": [
            "Training until validation scores don't improve for 200 rounds.\n",
            "[100]\ttraining's multi_error: 0.0499315\tvalid_1's multi_error: 0.0505062\n",
            "[200]\ttraining's multi_error: 0.0404403\tvalid_1's multi_error: 0.040618\n",
            "[300]\ttraining's multi_error: 0.0342679\tvalid_1's multi_error: 0.0343549\n",
            "[400]\ttraining's multi_error: 0.0262159\tvalid_1's multi_error: 0.0262089\n",
            "[500]\ttraining's multi_error: 0.0204462\tvalid_1's multi_error: 0.0205386\n",
            "[600]\ttraining's multi_error: 0.0170064\tvalid_1's multi_error: 0.0170316\n",
            "[700]\ttraining's multi_error: 0.0141571\tvalid_1's multi_error: 0.0142529\n",
            "[800]\ttraining's multi_error: 0.0126792\tvalid_1's multi_error: 0.0127829\n",
            "[900]\ttraining's multi_error: 0.0115937\tvalid_1's multi_error: 0.0116633\n",
            "[1000]\ttraining's multi_error: 0.0106848\tvalid_1's multi_error: 0.0108086\n",
            "Did not meet early stopping. Best iteration is:\n",
            "[1000]\ttraining's multi_error: 0.0106848\tvalid_1's multi_error: 0.0108086\n"
          ],
          "name": "stdout"
        }
      ]
    },
    {
      "cell_type": "code",
      "metadata": {
        "id": "z_txddvHSCEH",
        "colab_type": "code",
        "colab": {
          "base_uri": "https://localhost:8080/",
          "height": 341
        },
        "outputId": "db9368aa-1394-491b-9b78-f75180e59cdd"
      },
      "source": [
        "lgb.plot_importance(model)"
      ],
      "execution_count": null,
      "outputs": [
        {
          "output_type": "execute_result",
          "data": {
            "text/plain": [
              "<matplotlib.axes._subplots.AxesSubplot at 0x7f9cca670860>"
            ]
          },
          "metadata": {
            "tags": []
          },
          "execution_count": 30
        },
        {
          "output_type": "display_data",
          "data": {
            "image/png": "[encoded data removed]",
            "text/plain": [
              "<Figure size 432x288 with 1 Axes>"
            ]
          },
          "metadata": {
            "tags": []
          }
        }
      ]
    },
    {
      "cell_type": "code",
      "metadata": {
        "id": "DZNSkrzucjDS",
        "colab_type": "code",
        "colab": {
          "base_uri": "https://localhost:8080/",
          "height": 1000
        },
        "outputId": "e9e5c006-2912-4649-f1f0-43a9263eac53"
      },
      "source": [
        "lgb.create_tree_digraph(model)"
      ],
      "execution_count": null,
      "outputs": [
        {
          "output_type": "execute_result",
          "data": {
            "text/plain": [
              "<graphviz.dot.Digraph at 0x7f9cc5d707f0>"
            ],
            "image/svg+xml": "<?xml version=\"1.0\" encoding=\"UTF-8\" standalone=\"no\"?>\n<!DOCTYPE svg PUBLIC \"-//W3C//DTD SVG 1.1//EN\"\n \"http://www.w3.org/Graphics/SVG/1.1/DTD/svg11.dtd\">\n<!-- Generated by graphviz version 2.40.1 (20161225.0304)\n -->\n<!-- Title: %3 Pages: 1 -->\n<svg width=\"3897pt\" height=\"1528pt\"\n viewBox=\"0.00 0.00 3897.30 1528.10\" xmlns=\"http://www.w3.org/2000/svg\" xmlns:xlink=\"http://www.w3.org/1999/xlink\">\n<g id=\"graph0\" class=\"graph\" transform=\"scale(1 1) rotate(0) translate(4 1524.1017)\">\n<title>%3</title>\n<polygon fill=\"#ffffff\" stroke=\"transparent\" points=\"-4,4 -4,-1524.1017 3893.2986,-1524.1017 3893.2986,4 -4,4\"/>\n<!-- split0 -->\n<g id=\"node1\" class=\"node\">\n<title>split0</title>\n<ellipse fill=\"none\" stroke=\"#000000\" cx=\"691.1493\" cy=\"-1493.2317\" rx=\"138.6859\" ry=\"26.7407\"/>\n<text text-anchor=\"middle\" x=\"691.1493\" y=\"-1497.0317\" font-family=\"Times,serif\" font-size=\"14.00\" fill=\"#000000\">split_feature_name: experiment</text>\n<text text-anchor=\"middle\" x=\"691.1493\" y=\"-1482.0317\" font-family=\"Times,serif\" font-size=\"14.00\" fill=\"#000000\">threshold: 0</text>\n</g>\n<!-- split19 -->\n<g id=\"node2\" class=\"node\">\n<title>split19</title>\n<ellipse fill=\"none\" stroke=\"#000000\" cx=\"536.1493\" cy=\"-1388.4916\" rx=\"147.5709\" ry=\"26.7407\"/>\n<text text-anchor=\"middle\" x=\"536.1493\" y=\"-1392.2916\" font-family=\"Times,serif\" font-size=\"14.00\" fill=\"#000000\">split_feature_name: time</text>\n<text text-anchor=\"middle\" x=\"536.1493\" y=\"-1377.2916\" font-family=\"Times,serif\" font-size=\"14.00\" fill=\"#000000\">threshold: 1.4589843750000002</text>\n</g>\n<!-- split0&#45;&gt;split19 -->\n<g id=\"edge3\" class=\"edge\">\n<title>split0&#45;&gt;split19</title>\n<path fill=\"none\" stroke=\"#000000\" d=\"M652.8347,-1467.3409C631.6896,-1453.0522 605.2632,-1435.1948 582.9089,-1420.089\"/>\n<polygon fill=\"#000000\" stroke=\"#000000\" points=\"584.8056,-1417.1466 574.5603,-1414.4475 580.8863,-1422.9465 584.8056,-1417.1466\"/>\n<text text-anchor=\"middle\" x=\"628.1493\" y=\"-1437.1616\" font-family=\"Times,serif\" font-size=\"14.00\" fill=\"#000000\">is</text>\n</g>\n<!-- split1 -->\n<g id=\"node5\" class=\"node\">\n<title>split1</title>\n<ellipse fill=\"none\" stroke=\"#000000\" cx=\"847.1493\" cy=\"-1388.4916\" rx=\"142.257\" ry=\"26.7407\"/>\n<text text-anchor=\"middle\" x=\"847.1493\" y=\"-1392.2916\" font-family=\"Times,serif\" font-size=\"14.00\" fill=\"#000000\">split_feature_name: time</text>\n<text text-anchor=\"middle\" x=\"847.1493\" y=\"-1377.2916\" font-family=\"Times,serif\" font-size=\"14.00\" fill=\"#000000\">threshold: 67.53125000000001</text>\n</g>\n<!-- split0&#45;&gt;split1 -->\n<g id=\"edge58\" class=\"edge\">\n<title>split0&#45;&gt;split1</title>\n<path fill=\"none\" stroke=\"#000000\" d=\"M729.7111,-1467.3409C750.9926,-1453.0522 777.5895,-1435.1948 800.088,-1420.089\"/>\n<polygon fill=\"#000000\" stroke=\"#000000\" points=\"802.1391,-1422.9276 808.4904,-1414.4475 798.2371,-1417.116 802.1391,-1422.9276\"/>\n<text text-anchor=\"middle\" x=\"790.6493\" y=\"-1437.1616\" font-family=\"Times,serif\" font-size=\"14.00\" fill=\"#000000\">isn&#39;t</text>\n</g>\n<!-- leaf0 -->\n<g id=\"node3\" class=\"node\">\n<title>leaf0</title>\n<ellipse fill=\"none\" stroke=\"#000000\" cx=\"210.1493\" cy=\"-1283.7514\" rx=\"154.2987\" ry=\"26.7407\"/>\n<text text-anchor=\"middle\" x=\"210.1493\" y=\"-1287.5514\" font-family=\"Times,serif\" font-size=\"14.00\" fill=\"#000000\">leaf_index: 0</text>\n<text text-anchor=\"middle\" x=\"210.1493\" y=\"-1272.5514\" font-family=\"Times,serif\" font-size=\"14.00\" fill=\"#000000\">leaf_value: &#45;0.5380242066608525</text>\n</g>\n<!-- split19&#45;&gt;leaf0 -->\n<g id=\"edge1\" class=\"edge\">\n<title>split19&#45;&gt;leaf0</title>\n<path fill=\"none\" stroke=\"#000000\" d=\"M462.9885,-1364.9858C412.7099,-1348.8319 345.8465,-1327.3494 293.5078,-1310.5336\"/>\n<polygon fill=\"#000000\" stroke=\"#000000\" points=\"294.5026,-1307.1771 283.9113,-1307.4503 292.3613,-1313.8415 294.5026,-1307.1771\"/>\n<text text-anchor=\"middle\" x=\"401.6493\" y=\"-1332.4215\" font-family=\"Times,serif\" font-size=\"14.00\" fill=\"#000000\">&lt;=</text>\n</g>\n<!-- leaf20 -->\n<g id=\"node4\" class=\"node\">\n<title>leaf20</title>\n<ellipse fill=\"none\" stroke=\"#000000\" cx=\"536.1493\" cy=\"-1283.7514\" rx=\"154.2987\" ry=\"26.7407\"/>\n<text text-anchor=\"middle\" x=\"536.1493\" y=\"-1287.5514\" font-family=\"Times,serif\" font-size=\"14.00\" fill=\"#000000\">leaf_index: 20</text>\n<text text-anchor=\"middle\" x=\"536.1493\" y=\"-1272.5514\" font-family=\"Times,serif\" font-size=\"14.00\" fill=\"#000000\">leaf_value: &#45;0.5474339985027722</text>\n</g>\n<!-- split19&#45;&gt;leaf20 -->\n<g id=\"edge2\" class=\"edge\">\n<title>split19&#45;&gt;leaf20</title>\n<path fill=\"none\" stroke=\"#000000\" d=\"M536.1493,-1361.5184C536.1493,-1349.1789 536.1493,-1334.3575 536.1493,-1320.9786\"/>\n<polygon fill=\"#000000\" stroke=\"#000000\" points=\"539.6494,-1320.6332 536.1493,-1310.6332 532.6494,-1320.6333 539.6494,-1320.6332\"/>\n<text text-anchor=\"middle\" x=\"540.6493\" y=\"-1332.4215\" font-family=\"Times,serif\" font-size=\"14.00\" fill=\"#000000\">&gt;</text>\n</g>\n<!-- split26 -->\n<g id=\"node6\" class=\"node\">\n<title>split26</title>\n<ellipse fill=\"none\" stroke=\"#000000\" cx=\"847.1493\" cy=\"-1283.7514\" rx=\"138.6859\" ry=\"26.7407\"/>\n<text text-anchor=\"middle\" x=\"847.1493\" y=\"-1287.5514\" font-family=\"Times,serif\" font-size=\"14.00\" fill=\"#000000\">split_feature_name: experiment</text>\n<text text-anchor=\"middle\" x=\"847.1493\" y=\"-1272.5514\" font-family=\"Times,serif\" font-size=\"14.00\" fill=\"#000000\">threshold: 1</text>\n</g>\n<!-- split1&#45;&gt;split26 -->\n<g id=\"edge10\" class=\"edge\">\n<title>split1&#45;&gt;split26</title>\n<path fill=\"none\" stroke=\"#000000\" d=\"M847.1493,-1361.5184C847.1493,-1349.1789 847.1493,-1334.3575 847.1493,-1320.9786\"/>\n<polygon fill=\"#000000\" stroke=\"#000000\" points=\"850.6494,-1320.6332 847.1493,-1310.6332 843.6494,-1320.6333 850.6494,-1320.6332\"/>\n<text text-anchor=\"middle\" x=\"855.6493\" y=\"-1332.4215\" font-family=\"Times,serif\" font-size=\"14.00\" fill=\"#000000\">&lt;=</text>\n</g>\n<!-- split2 -->\n<g id=\"node13\" class=\"node\">\n<title>split2</title>\n<ellipse fill=\"none\" stroke=\"#000000\" cx=\"1253.1493\" cy=\"-1283.7514\" rx=\"146.2423\" ry=\"26.7407\"/>\n<text text-anchor=\"middle\" x=\"1253.1493\" y=\"-1287.5514\" font-family=\"Times,serif\" font-size=\"14.00\" fill=\"#000000\">split_feature_name: time</text>\n<text text-anchor=\"middle\" x=\"1253.1493\" y=\"-1272.5514\" font-family=\"Times,serif\" font-size=\"14.00\" fill=\"#000000\">threshold: 111.59375000000001</text>\n</g>\n<!-- split1&#45;&gt;split2 -->\n<g id=\"edge57\" class=\"edge\">\n<title>split1&#45;&gt;split2</title>\n<path fill=\"none\" stroke=\"#000000\" d=\"M931.2727,-1366.7893C997.3541,-1349.7416 1089.3842,-1325.9996 1158.1202,-1308.2671\"/>\n<polygon fill=\"#000000\" stroke=\"#000000\" points=\"1159.278,-1311.5831 1168.0867,-1305.6959 1157.5294,-1304.805 1159.278,-1311.5831\"/>\n<text text-anchor=\"middle\" x=\"1079.6493\" y=\"-1332.4215\" font-family=\"Times,serif\" font-size=\"14.00\" fill=\"#000000\">&gt;</text>\n</g>\n<!-- split27 -->\n<g id=\"node7\" class=\"node\">\n<title>split27</title>\n<ellipse fill=\"none\" stroke=\"#000000\" cx=\"480.1493\" cy=\"-1179.0113\" rx=\"147.5709\" ry=\"26.7407\"/>\n<text text-anchor=\"middle\" x=\"480.1493\" y=\"-1182.8113\" font-family=\"Times,serif\" font-size=\"14.00\" fill=\"#000000\">split_feature_name: time</text>\n<text text-anchor=\"middle\" x=\"480.1493\" y=\"-1167.8113\" font-family=\"Times,serif\" font-size=\"14.00\" fill=\"#000000\">threshold: 30.960937500000004</text>\n</g>\n<!-- split26&#45;&gt;split27 -->\n<g id=\"edge8\" class=\"edge\">\n<title>split26&#45;&gt;split27</title>\n<path fill=\"none\" stroke=\"#000000\" d=\"M768.8687,-1261.4105C710.3199,-1244.701 630.1862,-1221.8312 569.1937,-1204.4242\"/>\n<polygon fill=\"#000000\" stroke=\"#000000\" points=\"570.1519,-1201.058 559.5753,-1201.6792 568.2308,-1207.7892 570.1519,-1201.058\"/>\n<text text-anchor=\"middle\" x=\"691.1493\" y=\"-1227.6814\" font-family=\"Times,serif\" font-size=\"14.00\" fill=\"#000000\">is</text>\n</g>\n<!-- leaf27 -->\n<g id=\"node12\" class=\"node\">\n<title>leaf27</title>\n<ellipse fill=\"none\" stroke=\"#000000\" cx=\"847.1493\" cy=\"-1179.0113\" rx=\"154.2987\" ry=\"26.7407\"/>\n<text text-anchor=\"middle\" x=\"847.1493\" y=\"-1182.8113\" font-family=\"Times,serif\" font-size=\"14.00\" fill=\"#000000\">leaf_index: 27</text>\n<text text-anchor=\"middle\" x=\"847.1493\" y=\"-1167.8113\" font-family=\"Times,serif\" font-size=\"14.00\" fill=\"#000000\">leaf_value: &#45;0.5268666023940008</text>\n</g>\n<!-- split26&#45;&gt;leaf27 -->\n<g id=\"edge9\" class=\"edge\">\n<title>split26&#45;&gt;leaf27</title>\n<path fill=\"none\" stroke=\"#000000\" d=\"M847.1493,-1256.7783C847.1493,-1244.4388 847.1493,-1229.6174 847.1493,-1216.2385\"/>\n<polygon fill=\"#000000\" stroke=\"#000000\" points=\"850.6494,-1215.8931 847.1493,-1205.8931 843.6494,-1215.8931 850.6494,-1215.8931\"/>\n<text text-anchor=\"middle\" x=\"858.6493\" y=\"-1227.6814\" font-family=\"Times,serif\" font-size=\"14.00\" fill=\"#000000\">isn&#39;t</text>\n</g>\n<!-- leaf1 -->\n<g id=\"node8\" class=\"node\">\n<title>leaf1</title>\n<ellipse fill=\"none\" stroke=\"#000000\" cx=\"171.1493\" cy=\"-1074.2712\" rx=\"149.3993\" ry=\"26.7407\"/>\n<text text-anchor=\"middle\" x=\"171.1493\" y=\"-1078.0712\" font-family=\"Times,serif\" font-size=\"14.00\" fill=\"#000000\">leaf_index: 1</text>\n<text text-anchor=\"middle\" x=\"171.1493\" y=\"-1063.0712\" font-family=\"Times,serif\" font-size=\"14.00\" fill=\"#000000\">leaf_value: &#45;0.526880681931943</text>\n</g>\n<!-- split27&#45;&gt;leaf1 -->\n<g id=\"edge4\" class=\"edge\">\n<title>split27&#45;&gt;leaf1</title>\n<path fill=\"none\" stroke=\"#000000\" d=\"M410.0324,-1155.2442C362.7067,-1139.2024 300.1434,-1117.9957 250.915,-1101.309\"/>\n<polygon fill=\"#000000\" stroke=\"#000000\" points=\"251.8499,-1097.9303 241.2556,-1098.0348 249.6027,-1104.5598 251.8499,-1097.9303\"/>\n<text text-anchor=\"middle\" x=\"353.6493\" y=\"-1122.9413\" font-family=\"Times,serif\" font-size=\"14.00\" fill=\"#000000\">&lt;=</text>\n</g>\n<!-- split28 -->\n<g id=\"node9\" class=\"node\">\n<title>split28</title>\n<ellipse fill=\"none\" stroke=\"#000000\" cx=\"480.1493\" cy=\"-1074.2712\" rx=\"142.257\" ry=\"26.7407\"/>\n<text text-anchor=\"middle\" x=\"480.1493\" y=\"-1078.0712\" font-family=\"Times,serif\" font-size=\"14.00\" fill=\"#000000\">split_feature_name: time</text>\n<text text-anchor=\"middle\" x=\"480.1493\" y=\"-1063.0712\" font-family=\"Times,serif\" font-size=\"14.00\" fill=\"#000000\">threshold: 37.89062500000001</text>\n</g>\n<!-- split27&#45;&gt;split28 -->\n<g id=\"edge7\" class=\"edge\">\n<title>split27&#45;&gt;split28</title>\n<path fill=\"none\" stroke=\"#000000\" d=\"M480.1493,-1152.0381C480.1493,-1139.6987 480.1493,-1124.8772 480.1493,-1111.4983\"/>\n<polygon fill=\"#000000\" stroke=\"#000000\" points=\"483.6494,-1111.153 480.1493,-1101.153 476.6494,-1111.153 483.6494,-1111.153\"/>\n<text text-anchor=\"middle\" x=\"484.6493\" y=\"-1122.9413\" font-family=\"Times,serif\" font-size=\"14.00\" fill=\"#000000\">&gt;</text>\n</g>\n<!-- leaf28 -->\n<g id=\"node10\" class=\"node\">\n<title>leaf28</title>\n<ellipse fill=\"none\" stroke=\"#000000\" cx=\"154.1493\" cy=\"-969.5311\" rx=\"154.2987\" ry=\"26.7407\"/>\n<text text-anchor=\"middle\" x=\"154.1493\" y=\"-973.3311\" font-family=\"Times,serif\" font-size=\"14.00\" fill=\"#000000\">leaf_index: 28</text>\n<text text-anchor=\"middle\" x=\"154.1493\" y=\"-958.3311\" font-family=\"Times,serif\" font-size=\"14.00\" fill=\"#000000\">leaf_value: &#45;0.5406642707067881</text>\n</g>\n<!-- split28&#45;&gt;leaf28 -->\n<g id=\"edge5\" class=\"edge\">\n<title>split28&#45;&gt;leaf28</title>\n<path fill=\"none\" stroke=\"#000000\" d=\"M407.7993,-1051.026C357.3825,-1034.8276 290.0002,-1013.1785 237.3576,-996.265\"/>\n<polygon fill=\"#000000\" stroke=\"#000000\" points=\"238.2983,-992.8911 227.707,-993.1644 236.157,-999.5555 238.2983,-992.8911\"/>\n<text text-anchor=\"middle\" x=\"345.6493\" y=\"-1018.2012\" font-family=\"Times,serif\" font-size=\"14.00\" fill=\"#000000\">&lt;=</text>\n</g>\n<!-- leaf29 -->\n<g id=\"node11\" class=\"node\">\n<title>leaf29</title>\n<ellipse fill=\"none\" stroke=\"#000000\" cx=\"480.1493\" cy=\"-969.5311\" rx=\"154.2987\" ry=\"26.7407\"/>\n<text text-anchor=\"middle\" x=\"480.1493\" y=\"-973.3311\" font-family=\"Times,serif\" font-size=\"14.00\" fill=\"#000000\">leaf_index: 29</text>\n<text text-anchor=\"middle\" x=\"480.1493\" y=\"-958.3311\" font-family=\"Times,serif\" font-size=\"14.00\" fill=\"#000000\">leaf_value: &#45;0.5271396438793764</text>\n</g>\n<!-- split28&#45;&gt;leaf29 -->\n<g id=\"edge6\" class=\"edge\">\n<title>split28&#45;&gt;leaf29</title>\n<path fill=\"none\" stroke=\"#000000\" d=\"M480.1493,-1047.298C480.1493,-1034.9586 480.1493,-1020.1371 480.1493,-1006.7582\"/>\n<polygon fill=\"#000000\" stroke=\"#000000\" points=\"483.6494,-1006.4128 480.1493,-996.4129 476.6494,-1006.4129 483.6494,-1006.4128\"/>\n<text text-anchor=\"middle\" x=\"484.6493\" y=\"-1018.2012\" font-family=\"Times,serif\" font-size=\"14.00\" fill=\"#000000\">&gt;</text>\n</g>\n<!-- split6 -->\n<g id=\"node14\" class=\"node\">\n<title>split6</title>\n<ellipse fill=\"none\" stroke=\"#000000\" cx=\"1253.1493\" cy=\"-1179.0113\" rx=\"142.257\" ry=\"26.7407\"/>\n<text text-anchor=\"middle\" x=\"1253.1493\" y=\"-1182.8113\" font-family=\"Times,serif\" font-size=\"14.00\" fill=\"#000000\">split_feature_name: time</text>\n<text text-anchor=\"middle\" x=\"1253.1493\" y=\"-1167.8113\" font-family=\"Times,serif\" font-size=\"14.00\" fill=\"#000000\">threshold: 84.71875000000001</text>\n</g>\n<!-- split2&#45;&gt;split6 -->\n<g id=\"edge23\" class=\"edge\">\n<title>split2&#45;&gt;split6</title>\n<path fill=\"none\" stroke=\"#000000\" d=\"M1253.1493,-1256.7783C1253.1493,-1244.4388 1253.1493,-1229.6174 1253.1493,-1216.2385\"/>\n<polygon fill=\"#000000\" stroke=\"#000000\" points=\"1256.6494,-1215.8931 1253.1493,-1205.8931 1249.6494,-1215.8931 1256.6494,-1215.8931\"/>\n<text text-anchor=\"middle\" x=\"1261.6493\" y=\"-1227.6814\" font-family=\"Times,serif\" font-size=\"14.00\" fill=\"#000000\">&lt;=</text>\n</g>\n<!-- split3 -->\n<g id=\"node27\" class=\"node\">\n<title>split3</title>\n<ellipse fill=\"none\" stroke=\"#000000\" cx=\"2181.1493\" cy=\"-1179.0113\" rx=\"138.6859\" ry=\"26.7407\"/>\n<text text-anchor=\"middle\" x=\"2181.1493\" y=\"-1182.8113\" font-family=\"Times,serif\" font-size=\"14.00\" fill=\"#000000\">split_feature_name: experiment</text>\n<text text-anchor=\"middle\" x=\"2181.1493\" y=\"-1167.8113\" font-family=\"Times,serif\" font-size=\"14.00\" fill=\"#000000\">threshold: 1</text>\n</g>\n<!-- split2&#45;&gt;split3 -->\n<g id=\"edge56\" class=\"edge\">\n<title>split2&#45;&gt;split3</title>\n<path fill=\"none\" stroke=\"#000000\" d=\"M1378.3035,-1269.6257C1554.1959,-1249.7734 1872.9279,-1213.7992 2051.3145,-1193.6653\"/>\n<polygon fill=\"#000000\" stroke=\"#000000\" points=\"2051.7352,-1197.1402 2061.2795,-1192.5406 2050.95,-1190.1843 2051.7352,-1197.1402\"/>\n<text text-anchor=\"middle\" x=\"1777.6493\" y=\"-1227.6814\" font-family=\"Times,serif\" font-size=\"14.00\" fill=\"#000000\">&gt;</text>\n</g>\n<!-- split10 -->\n<g id=\"node15\" class=\"node\">\n<title>split10</title>\n<ellipse fill=\"none\" stroke=\"#000000\" cx=\"1117.1493\" cy=\"-1074.2712\" rx=\"138.6859\" ry=\"26.7407\"/>\n<text text-anchor=\"middle\" x=\"1117.1493\" y=\"-1078.0712\" font-family=\"Times,serif\" font-size=\"14.00\" fill=\"#000000\">split_feature_name: experiment</text>\n<text text-anchor=\"middle\" x=\"1117.1493\" y=\"-1063.0712\" font-family=\"Times,serif\" font-size=\"14.00\" fill=\"#000000\">threshold: 1</text>\n</g>\n<!-- split6&#45;&gt;split10 -->\n<g id=\"edge15\" class=\"edge\">\n<title>split6&#45;&gt;split10</title>\n<path fill=\"none\" stroke=\"#000000\" d=\"M1219.1816,-1152.8512C1201.0073,-1138.8543 1178.4632,-1121.492 1159.1918,-1106.6502\"/>\n<polygon fill=\"#000000\" stroke=\"#000000\" points=\"1161.2137,-1103.7896 1151.1553,-1100.4609 1156.9425,-1109.3356 1161.2137,-1103.7896\"/>\n<text text-anchor=\"middle\" x=\"1202.6493\" y=\"-1122.9413\" font-family=\"Times,serif\" font-size=\"14.00\" fill=\"#000000\">&lt;=</text>\n</g>\n<!-- split7 -->\n<g id=\"node20\" class=\"node\">\n<title>split7</title>\n<ellipse fill=\"none\" stroke=\"#000000\" cx=\"1441.1493\" cy=\"-1074.2712\" rx=\"138.6859\" ry=\"26.7407\"/>\n<text text-anchor=\"middle\" x=\"1441.1493\" y=\"-1078.0712\" font-family=\"Times,serif\" font-size=\"14.00\" fill=\"#000000\">split_feature_name: experiment</text>\n<text text-anchor=\"middle\" x=\"1441.1493\" y=\"-1063.0712\" font-family=\"Times,serif\" font-size=\"14.00\" fill=\"#000000\">threshold: 1</text>\n</g>\n<!-- split6&#45;&gt;split7 -->\n<g id=\"edge22\" class=\"edge\">\n<title>split6&#45;&gt;split7</title>\n<path fill=\"none\" stroke=\"#000000\" d=\"M1299.1393,-1153.389C1325.5254,-1138.6886 1358.8105,-1120.1445 1386.5228,-1104.7052\"/>\n<polygon fill=\"#000000\" stroke=\"#000000\" points=\"1388.2764,-1107.7348 1395.3087,-1099.8103 1384.8695,-1101.6198 1388.2764,-1107.7348\"/>\n<text text-anchor=\"middle\" x=\"1363.6493\" y=\"-1122.9413\" font-family=\"Times,serif\" font-size=\"14.00\" fill=\"#000000\">&gt;</text>\n</g>\n<!-- split11 -->\n<g id=\"node16\" class=\"node\">\n<title>split11</title>\n<ellipse fill=\"none\" stroke=\"#000000\" cx=\"794.1493\" cy=\"-969.5311\" rx=\"142.257\" ry=\"26.7407\"/>\n<text text-anchor=\"middle\" x=\"794.1493\" y=\"-973.3311\" font-family=\"Times,serif\" font-size=\"14.00\" fill=\"#000000\">split_feature_name: time</text>\n<text text-anchor=\"middle\" x=\"794.1493\" y=\"-958.3311\" font-family=\"Times,serif\" font-size=\"14.00\" fill=\"#000000\">threshold: 76.15625000000001</text>\n</g>\n<!-- split10&#45;&gt;split11 -->\n<g id=\"edge13\" class=\"edge\">\n<title>split10&#45;&gt;split11</title>\n<path fill=\"none\" stroke=\"#000000\" d=\"M1045.8657,-1051.1559C995.4957,-1034.8223 927.887,-1012.8986 875.4211,-995.8853\"/>\n<polygon fill=\"#000000\" stroke=\"#000000\" points=\"876.4004,-992.5235 865.8084,-992.7682 874.2411,-999.1822 876.4004,-992.5235\"/>\n<text text-anchor=\"middle\" x=\"980.1493\" y=\"-1018.2012\" font-family=\"Times,serif\" font-size=\"14.00\" fill=\"#000000\">is</text>\n</g>\n<!-- leaf11 -->\n<g id=\"node19\" class=\"node\">\n<title>leaf11</title>\n<ellipse fill=\"none\" stroke=\"#000000\" cx=\"1117.1493\" cy=\"-969.5311\" rx=\"154.2987\" ry=\"26.7407\"/>\n<text text-anchor=\"middle\" x=\"1117.1493\" y=\"-973.3311\" font-family=\"Times,serif\" font-size=\"14.00\" fill=\"#000000\">leaf_index: 11</text>\n<text text-anchor=\"middle\" x=\"1117.1493\" y=\"-958.3311\" font-family=\"Times,serif\" font-size=\"14.00\" fill=\"#000000\">leaf_value: &#45;0.5271875658012642</text>\n</g>\n<!-- split10&#45;&gt;leaf11 -->\n<g id=\"edge14\" class=\"edge\">\n<title>split10&#45;&gt;leaf11</title>\n<path fill=\"none\" stroke=\"#000000\" d=\"M1117.1493,-1047.298C1117.1493,-1034.9586 1117.1493,-1020.1371 1117.1493,-1006.7582\"/>\n<polygon fill=\"#000000\" stroke=\"#000000\" points=\"1120.6494,-1006.4128 1117.1493,-996.4129 1113.6494,-1006.4129 1120.6494,-1006.4128\"/>\n<text text-anchor=\"middle\" x=\"1128.6493\" y=\"-1018.2012\" font-family=\"Times,serif\" font-size=\"14.00\" fill=\"#000000\">isn&#39;t</text>\n</g>\n<!-- leaf2 -->\n<g id=\"node17\" class=\"node\">\n<title>leaf2</title>\n<ellipse fill=\"none\" stroke=\"#000000\" cx=\"465.1493\" cy=\"-864.791\" rx=\"154.2987\" ry=\"26.7407\"/>\n<text text-anchor=\"middle\" x=\"465.1493\" y=\"-868.591\" font-family=\"Times,serif\" font-size=\"14.00\" fill=\"#000000\">leaf_index: 2</text>\n<text text-anchor=\"middle\" x=\"465.1493\" y=\"-853.591\" font-family=\"Times,serif\" font-size=\"14.00\" fill=\"#000000\">leaf_value: &#45;0.5406339714156962</text>\n</g>\n<!-- split11&#45;&gt;leaf2 -->\n<g id=\"edge11\" class=\"edge\">\n<title>split11&#45;&gt;leaf2</title>\n<path fill=\"none\" stroke=\"#000000\" d=\"M721.5415,-946.4158C670.5922,-930.1956 602.3269,-908.4627 549.0464,-891.5004\"/>\n<polygon fill=\"#000000\" stroke=\"#000000\" points=\"549.8702,-888.0896 539.2797,-888.3911 547.7467,-894.7598 549.8702,-888.0896\"/>\n<text text-anchor=\"middle\" x=\"658.6493\" y=\"-913.461\" font-family=\"Times,serif\" font-size=\"14.00\" fill=\"#000000\">&lt;=</text>\n</g>\n<!-- leaf12 -->\n<g id=\"node18\" class=\"node\">\n<title>leaf12</title>\n<ellipse fill=\"none\" stroke=\"#000000\" cx=\"791.1493\" cy=\"-864.791\" rx=\"154.2987\" ry=\"26.7407\"/>\n<text text-anchor=\"middle\" x=\"791.1493\" y=\"-868.591\" font-family=\"Times,serif\" font-size=\"14.00\" fill=\"#000000\">leaf_index: 12</text>\n<text text-anchor=\"middle\" x=\"791.1493\" y=\"-853.591\" font-family=\"Times,serif\" font-size=\"14.00\" fill=\"#000000\">leaf_value: &#45;0.5278269886600819</text>\n</g>\n<!-- split11&#45;&gt;leaf12 -->\n<g id=\"edge12\" class=\"edge\">\n<title>split11&#45;&gt;leaf12</title>\n<path fill=\"none\" stroke=\"#000000\" d=\"M793.3767,-942.5579C793.0233,-930.2185 792.5988,-915.397 792.2155,-902.0181\"/>\n<polygon fill=\"#000000\" stroke=\"#000000\" points=\"795.7042,-901.5684 791.9192,-891.6728 788.7071,-901.7689 795.7042,-901.5684\"/>\n<text text-anchor=\"middle\" x=\"797.6493\" y=\"-913.461\" font-family=\"Times,serif\" font-size=\"14.00\" fill=\"#000000\">&gt;</text>\n</g>\n<!-- split9 -->\n<g id=\"node21\" class=\"node\">\n<title>split9</title>\n<ellipse fill=\"none\" stroke=\"#000000\" cx=\"1441.1493\" cy=\"-969.5311\" rx=\"147.5709\" ry=\"26.7407\"/>\n<text text-anchor=\"middle\" x=\"1441.1493\" y=\"-973.3311\" font-family=\"Times,serif\" font-size=\"14.00\" fill=\"#000000\">split_feature_name: time</text>\n<text text-anchor=\"middle\" x=\"1441.1493\" y=\"-958.3311\" font-family=\"Times,serif\" font-size=\"14.00\" fill=\"#000000\">threshold: 103.15625000000001</text>\n</g>\n<!-- split7&#45;&gt;split9 -->\n<g id=\"edge18\" class=\"edge\">\n<title>split7&#45;&gt;split9</title>\n<path fill=\"none\" stroke=\"#000000\" d=\"M1441.1493,-1047.298C1441.1493,-1034.9586 1441.1493,-1020.1371 1441.1493,-1006.7582\"/>\n<polygon fill=\"#000000\" stroke=\"#000000\" points=\"1444.6494,-1006.4128 1441.1493,-996.4129 1437.6494,-1006.4129 1444.6494,-1006.4128\"/>\n<text text-anchor=\"middle\" x=\"1446.1493\" y=\"-1018.2012\" font-family=\"Times,serif\" font-size=\"14.00\" fill=\"#000000\">is</text>\n</g>\n<!-- split8 -->\n<g id=\"node24\" class=\"node\">\n<title>split8</title>\n<ellipse fill=\"none\" stroke=\"#000000\" cx=\"1769.1493\" cy=\"-969.5311\" rx=\"147.5709\" ry=\"26.7407\"/>\n<text text-anchor=\"middle\" x=\"1769.1493\" y=\"-973.3311\" font-family=\"Times,serif\" font-size=\"14.00\" fill=\"#000000\">split_feature_name: time</text>\n<text text-anchor=\"middle\" x=\"1769.1493\" y=\"-958.3311\" font-family=\"Times,serif\" font-size=\"14.00\" fill=\"#000000\">threshold: 100.34375000000001</text>\n</g>\n<!-- split7&#45;&gt;split8 -->\n<g id=\"edge21\" class=\"edge\">\n<title>split7&#45;&gt;split8</title>\n<path fill=\"none\" stroke=\"#000000\" d=\"M1513.1303,-1051.2855C1564.1698,-1034.9871 1632.7903,-1013.0745 1686.1419,-996.0378\"/>\n<polygon fill=\"#000000\" stroke=\"#000000\" points=\"1687.4571,-999.292 1695.9184,-992.9159 1685.3276,-992.6238 1687.4571,-999.292\"/>\n<text text-anchor=\"middle\" x=\"1636.6493\" y=\"-1018.2012\" font-family=\"Times,serif\" font-size=\"14.00\" fill=\"#000000\">isn&#39;t</text>\n</g>\n<!-- leaf7 -->\n<g id=\"node22\" class=\"node\">\n<title>leaf7</title>\n<ellipse fill=\"none\" stroke=\"#000000\" cx=\"1117.1493\" cy=\"-864.791\" rx=\"154.2987\" ry=\"26.7407\"/>\n<text text-anchor=\"middle\" x=\"1117.1493\" y=\"-868.591\" font-family=\"Times,serif\" font-size=\"14.00\" fill=\"#000000\">leaf_index: 7</text>\n<text text-anchor=\"middle\" x=\"1117.1493\" y=\"-853.591\" font-family=\"Times,serif\" font-size=\"14.00\" fill=\"#000000\">leaf_value: &#45;0.5270941504636922</text>\n</g>\n<!-- split9&#45;&gt;leaf7 -->\n<g id=\"edge16\" class=\"edge\">\n<title>split9&#45;&gt;leaf7</title>\n<path fill=\"none\" stroke=\"#000000\" d=\"M1368.4374,-946.0254C1318.4672,-929.8714 1252.014,-908.389 1199.9964,-891.5731\"/>\n<polygon fill=\"#000000\" stroke=\"#000000\" points=\"1201.0505,-888.2356 1190.4588,-888.4899 1198.8973,-894.8962 1201.0505,-888.2356\"/>\n<text text-anchor=\"middle\" x=\"1307.6493\" y=\"-913.461\" font-family=\"Times,serif\" font-size=\"14.00\" fill=\"#000000\">&lt;=</text>\n</g>\n<!-- leaf10 -->\n<g id=\"node23\" class=\"node\">\n<title>leaf10</title>\n<ellipse fill=\"none\" stroke=\"#000000\" cx=\"1443.1493\" cy=\"-864.791\" rx=\"154.2987\" ry=\"26.7407\"/>\n<text text-anchor=\"middle\" x=\"1443.1493\" y=\"-868.591\" font-family=\"Times,serif\" font-size=\"14.00\" fill=\"#000000\">leaf_index: 10</text>\n<text text-anchor=\"middle\" x=\"1443.1493\" y=\"-853.591\" font-family=\"Times,serif\" font-size=\"14.00\" fill=\"#000000\">leaf_value: &#45;0.5372168333935469</text>\n</g>\n<!-- split9&#45;&gt;leaf10 -->\n<g id=\"edge17\" class=\"edge\">\n<title>split9&#45;&gt;leaf10</title>\n<path fill=\"none\" stroke=\"#000000\" d=\"M1441.6643,-942.5579C1441.8999,-930.2185 1442.183,-915.397 1442.4384,-902.0181\"/>\n<polygon fill=\"#000000\" stroke=\"#000000\" points=\"1445.9443,-901.7378 1442.636,-891.6728 1438.9456,-901.6041 1445.9443,-901.7378\"/>\n<text text-anchor=\"middle\" x=\"1447.6493\" y=\"-913.461\" font-family=\"Times,serif\" font-size=\"14.00\" fill=\"#000000\">&gt;</text>\n</g>\n<!-- leaf8 -->\n<g id=\"node25\" class=\"node\">\n<title>leaf8</title>\n<ellipse fill=\"none\" stroke=\"#000000\" cx=\"1769.1493\" cy=\"-864.791\" rx=\"154.2987\" ry=\"26.7407\"/>\n<text text-anchor=\"middle\" x=\"1769.1493\" y=\"-868.591\" font-family=\"Times,serif\" font-size=\"14.00\" fill=\"#000000\">leaf_index: 8</text>\n<text text-anchor=\"middle\" x=\"1769.1493\" y=\"-853.591\" font-family=\"Times,serif\" font-size=\"14.00\" fill=\"#000000\">leaf_value: &#45;0.5460012928984432</text>\n</g>\n<!-- split8&#45;&gt;leaf8 -->\n<g id=\"edge19\" class=\"edge\">\n<title>split8&#45;&gt;leaf8</title>\n<path fill=\"none\" stroke=\"#000000\" d=\"M1769.1493,-942.5579C1769.1493,-930.2185 1769.1493,-915.397 1769.1493,-902.0181\"/>\n<polygon fill=\"#000000\" stroke=\"#000000\" points=\"1772.6494,-901.6727 1769.1493,-891.6728 1765.6494,-901.6728 1772.6494,-901.6727\"/>\n<text text-anchor=\"middle\" x=\"1777.6493\" y=\"-913.461\" font-family=\"Times,serif\" font-size=\"14.00\" fill=\"#000000\">&lt;=</text>\n</g>\n<!-- leaf9 -->\n<g id=\"node26\" class=\"node\">\n<title>leaf9</title>\n<ellipse fill=\"none\" stroke=\"#000000\" cx=\"2095.1493\" cy=\"-864.791\" rx=\"154.2987\" ry=\"26.7407\"/>\n<text text-anchor=\"middle\" x=\"2095.1493\" y=\"-868.591\" font-family=\"Times,serif\" font-size=\"14.00\" fill=\"#000000\">leaf_index: 9</text>\n<text text-anchor=\"middle\" x=\"2095.1493\" y=\"-853.591\" font-family=\"Times,serif\" font-size=\"14.00\" fill=\"#000000\">leaf_value: &#45;0.5272546354397918</text>\n</g>\n<!-- split8&#45;&gt;leaf9 -->\n<g id=\"edge20\" class=\"edge\">\n<title>split8&#45;&gt;leaf9</title>\n<path fill=\"none\" stroke=\"#000000\" d=\"M1842.31,-946.0254C1892.5887,-929.8714 1959.452,-908.389 2011.7908,-891.5731\"/>\n<polygon fill=\"#000000\" stroke=\"#000000\" points=\"2012.9372,-894.8811 2021.3873,-888.4899 2010.796,-888.2166 2012.9372,-894.8811\"/>\n<text text-anchor=\"middle\" x=\"1956.6493\" y=\"-913.461\" font-family=\"Times,serif\" font-size=\"14.00\" fill=\"#000000\">&gt;</text>\n</g>\n<!-- split13 -->\n<g id=\"node28\" class=\"node\">\n<title>split13</title>\n<ellipse fill=\"none\" stroke=\"#000000\" cx=\"2181.1493\" cy=\"-1074.2712\" rx=\"147.5709\" ry=\"26.7407\"/>\n<text text-anchor=\"middle\" x=\"2181.1493\" y=\"-1078.0712\" font-family=\"Times,serif\" font-size=\"14.00\" fill=\"#000000\">split_feature_name: time</text>\n<text text-anchor=\"middle\" x=\"2181.1493\" y=\"-1063.0712\" font-family=\"Times,serif\" font-size=\"14.00\" fill=\"#000000\">threshold: 134.56250000000003</text>\n</g>\n<!-- split3&#45;&gt;split13 -->\n<g id=\"edge48\" class=\"edge\">\n<title>split3&#45;&gt;split13</title>\n<path fill=\"none\" stroke=\"#000000\" d=\"M2181.1493,-1152.0381C2181.1493,-1139.6987 2181.1493,-1124.8772 2181.1493,-1111.4983\"/>\n<polygon fill=\"#000000\" stroke=\"#000000\" points=\"2184.6494,-1111.153 2181.1493,-1101.153 2177.6494,-1111.153 2184.6494,-1111.153\"/>\n<text text-anchor=\"middle\" x=\"2186.1493\" y=\"-1122.9413\" font-family=\"Times,serif\" font-size=\"14.00\" fill=\"#000000\">is</text>\n</g>\n<!-- split4 -->\n<g id=\"node53\" class=\"node\">\n<title>split4</title>\n<ellipse fill=\"none\" stroke=\"#000000\" cx=\"2731.1493\" cy=\"-1074.2712\" rx=\"147.5709\" ry=\"26.7407\"/>\n<text text-anchor=\"middle\" x=\"2731.1493\" y=\"-1078.0712\" font-family=\"Times,serif\" font-size=\"14.00\" fill=\"#000000\">split_feature_name: time</text>\n<text text-anchor=\"middle\" x=\"2731.1493\" y=\"-1063.0712\" font-family=\"Times,serif\" font-size=\"14.00\" fill=\"#000000\">threshold: 273.12500000000006</text>\n</g>\n<!-- split3&#45;&gt;split4 -->\n<g id=\"edge55\" class=\"edge\">\n<title>split3&#45;&gt;split4</title>\n<path fill=\"none\" stroke=\"#000000\" d=\"M2280.1135,-1160.1649C2375.3467,-1142.029 2519.1704,-1114.6397 2618.6925,-1095.6871\"/>\n<polygon fill=\"#000000\" stroke=\"#000000\" points=\"2619.6171,-1099.074 2628.7858,-1093.765 2618.3076,-1092.1976 2619.6171,-1099.074\"/>\n<text text-anchor=\"middle\" x=\"2500.6493\" y=\"-1122.9413\" font-family=\"Times,serif\" font-size=\"14.00\" fill=\"#000000\">isn&#39;t</text>\n</g>\n<!-- leaf3 -->\n<g id=\"node29\" class=\"node\">\n<title>leaf3</title>\n<ellipse fill=\"none\" stroke=\"#000000\" cx=\"2091.1493\" cy=\"-969.5311\" rx=\"154.2987\" ry=\"26.7407\"/>\n<text text-anchor=\"middle\" x=\"2091.1493\" y=\"-973.3311\" font-family=\"Times,serif\" font-size=\"14.00\" fill=\"#000000\">leaf_index: 3</text>\n<text text-anchor=\"middle\" x=\"2091.1493\" y=\"-958.3311\" font-family=\"Times,serif\" font-size=\"14.00\" fill=\"#000000\">leaf_value: &#45;0.5273892752159977</text>\n</g>\n<!-- split13&#45;&gt;leaf3 -->\n<g id=\"edge24\" class=\"edge\">\n<title>split13&#45;&gt;leaf3</title>\n<path fill=\"none\" stroke=\"#000000\" d=\"M2158.2056,-1047.5699C2146.7806,-1034.2737 2132.8357,-1018.0448 2120.6276,-1003.8373\"/>\n<polygon fill=\"#000000\" stroke=\"#000000\" points=\"2123.2229,-1001.4873 2114.0511,-996.1837 2117.9137,-1006.0493 2123.2229,-1001.4873\"/>\n<text text-anchor=\"middle\" x=\"2150.6493\" y=\"-1018.2012\" font-family=\"Times,serif\" font-size=\"14.00\" fill=\"#000000\">&lt;=</text>\n</g>\n<!-- split14 -->\n<g id=\"node30\" class=\"node\">\n<title>split14</title>\n<ellipse fill=\"none\" stroke=\"#000000\" cx=\"2411.1493\" cy=\"-969.5311\" rx=\"147.5709\" ry=\"26.7407\"/>\n<text text-anchor=\"middle\" x=\"2411.1493\" y=\"-973.3311\" font-family=\"Times,serif\" font-size=\"14.00\" fill=\"#000000\">split_feature_name: time</text>\n<text text-anchor=\"middle\" x=\"2411.1493\" y=\"-958.3311\" font-family=\"Times,serif\" font-size=\"14.00\" fill=\"#000000\">threshold: 147.43750000000003</text>\n</g>\n<!-- split13&#45;&gt;split14 -->\n<g id=\"edge47\" class=\"edge\">\n<title>split13&#45;&gt;split14</title>\n<path fill=\"none\" stroke=\"#000000\" d=\"M2235.9478,-1049.3164C2269.2457,-1034.1528 2311.9212,-1014.7188 2346.817,-998.8275\"/>\n<polygon fill=\"#000000\" stroke=\"#000000\" points=\"2348.3232,-1001.9875 2355.9734,-994.6577 2345.4221,-995.6169 2348.3232,-1001.9875\"/>\n<text text-anchor=\"middle\" x=\"2314.6493\" y=\"-1018.2012\" font-family=\"Times,serif\" font-size=\"14.00\" fill=\"#000000\">&gt;</text>\n</g>\n<!-- leaf14 -->\n<g id=\"node31\" class=\"node\">\n<title>leaf14</title>\n<ellipse fill=\"none\" stroke=\"#000000\" cx=\"2411.1493\" cy=\"-864.791\" rx=\"143.5854\" ry=\"26.7407\"/>\n<text text-anchor=\"middle\" x=\"2411.1493\" y=\"-868.591\" font-family=\"Times,serif\" font-size=\"14.00\" fill=\"#000000\">leaf_index: 14</text>\n<text text-anchor=\"middle\" x=\"2411.1493\" y=\"-853.591\" font-family=\"Times,serif\" font-size=\"14.00\" fill=\"#000000\">leaf_value: &#45;0.53510613400392</text>\n</g>\n<!-- split14&#45;&gt;leaf14 -->\n<g id=\"edge25\" class=\"edge\">\n<title>split14&#45;&gt;leaf14</title>\n<path fill=\"none\" stroke=\"#000000\" d=\"M2411.1493,-942.5579C2411.1493,-930.2185 2411.1493,-915.397 2411.1493,-902.0181\"/>\n<polygon fill=\"#000000\" stroke=\"#000000\" points=\"2414.6494,-901.6727 2411.1493,-891.6728 2407.6494,-901.6728 2414.6494,-901.6727\"/>\n<text text-anchor=\"middle\" x=\"2419.6493\" y=\"-913.461\" font-family=\"Times,serif\" font-size=\"14.00\" fill=\"#000000\">&lt;=</text>\n</g>\n<!-- split15 -->\n<g id=\"node32\" class=\"node\">\n<title>split15</title>\n<ellipse fill=\"none\" stroke=\"#000000\" cx=\"2720.1493\" cy=\"-864.791\" rx=\"147.5709\" ry=\"26.7407\"/>\n<text text-anchor=\"middle\" x=\"2720.1493\" y=\"-868.591\" font-family=\"Times,serif\" font-size=\"14.00\" fill=\"#000000\">split_feature_name: time</text>\n<text text-anchor=\"middle\" x=\"2720.1493\" y=\"-853.591\" font-family=\"Times,serif\" font-size=\"14.00\" fill=\"#000000\">threshold: 172.18750000000003</text>\n</g>\n<!-- split14&#45;&gt;split15 -->\n<g id=\"edge46\" class=\"edge\">\n<title>split14&#45;&gt;split15</title>\n<path fill=\"none\" stroke=\"#000000\" d=\"M2481.2662,-945.7639C2528.5918,-929.7222 2591.1552,-908.5154 2640.3835,-891.8288\"/>\n<polygon fill=\"#000000\" stroke=\"#000000\" points=\"2641.6958,-895.0796 2650.043,-888.5546 2639.4486,-888.4501 2641.6958,-895.0796\"/>\n<text text-anchor=\"middle\" x=\"2589.6493\" y=\"-913.461\" font-family=\"Times,serif\" font-size=\"14.00\" fill=\"#000000\">&gt;</text>\n</g>\n<!-- leaf15 -->\n<g id=\"node33\" class=\"node\">\n<title>leaf15</title>\n<ellipse fill=\"none\" stroke=\"#000000\" cx=\"2406.1493\" cy=\"-760.0509\" rx=\"154.2987\" ry=\"26.7407\"/>\n<text text-anchor=\"middle\" x=\"2406.1493\" y=\"-763.8509\" font-family=\"Times,serif\" font-size=\"14.00\" fill=\"#000000\">leaf_index: 15</text>\n<text text-anchor=\"middle\" x=\"2406.1493\" y=\"-748.8509\" font-family=\"Times,serif\" font-size=\"14.00\" fill=\"#000000\">leaf_value: &#45;0.5270358087069823</text>\n</g>\n<!-- split15&#45;&gt;leaf15 -->\n<g id=\"edge26\" class=\"edge\">\n<title>split15&#45;&gt;leaf15</title>\n<path fill=\"none\" stroke=\"#000000\" d=\"M2649.29,-841.1547C2601.1151,-825.0851 2537.2678,-803.7877 2487.089,-787.0497\"/>\n<polygon fill=\"#000000\" stroke=\"#000000\" points=\"2488.159,-783.7171 2477.5653,-783.8729 2485.9439,-790.3574 2488.159,-783.7171\"/>\n<text text-anchor=\"middle\" x=\"2590.6493\" y=\"-808.7209\" font-family=\"Times,serif\" font-size=\"14.00\" fill=\"#000000\">&lt;=</text>\n</g>\n<!-- split16 -->\n<g id=\"node34\" class=\"node\">\n<title>split16</title>\n<ellipse fill=\"none\" stroke=\"#000000\" cx=\"2726.1493\" cy=\"-760.0509\" rx=\"147.5709\" ry=\"26.7407\"/>\n<text text-anchor=\"middle\" x=\"2726.1493\" y=\"-763.8509\" font-family=\"Times,serif\" font-size=\"14.00\" fill=\"#000000\">split_feature_name: time</text>\n<text text-anchor=\"middle\" x=\"2726.1493\" y=\"-748.8509\" font-family=\"Times,serif\" font-size=\"14.00\" fill=\"#000000\">threshold: 185.31250000000003</text>\n</g>\n<!-- split15&#45;&gt;split16 -->\n<g id=\"edge45\" class=\"edge\">\n<title>split15&#45;&gt;split16</title>\n<path fill=\"none\" stroke=\"#000000\" d=\"M2721.6944,-837.8178C2722.4013,-825.4784 2723.2503,-810.6569 2724.0167,-797.278\"/>\n<polygon fill=\"#000000\" stroke=\"#000000\" points=\"2727.5316,-797.1165 2724.6094,-786.9326 2720.5431,-796.7161 2727.5316,-797.1165\"/>\n<text text-anchor=\"middle\" x=\"2728.6493\" y=\"-808.7209\" font-family=\"Times,serif\" font-size=\"14.00\" fill=\"#000000\">&gt;</text>\n</g>\n<!-- leaf16 -->\n<g id=\"node35\" class=\"node\">\n<title>leaf16</title>\n<ellipse fill=\"none\" stroke=\"#000000\" cx=\"2636.1493\" cy=\"-655.3107\" rx=\"154.2987\" ry=\"26.7407\"/>\n<text text-anchor=\"middle\" x=\"2636.1493\" y=\"-659.1107\" font-family=\"Times,serif\" font-size=\"14.00\" fill=\"#000000\">leaf_index: 16</text>\n<text text-anchor=\"middle\" x=\"2636.1493\" y=\"-644.1107\" font-family=\"Times,serif\" font-size=\"14.00\" fill=\"#000000\">leaf_value: &#45;0.5344075795484895</text>\n</g>\n<!-- split16&#45;&gt;leaf16 -->\n<g id=\"edge27\" class=\"edge\">\n<title>split16&#45;&gt;leaf16</title>\n<path fill=\"none\" stroke=\"#000000\" d=\"M2703.2056,-733.3495C2691.7806,-720.0534 2677.8357,-703.8245 2665.6276,-689.617\"/>\n<polygon fill=\"#000000\" stroke=\"#000000\" points=\"2668.2229,-687.2669 2659.0511,-681.9634 2662.9137,-691.829 2668.2229,-687.2669\"/>\n<text text-anchor=\"middle\" x=\"2695.6493\" y=\"-703.9808\" font-family=\"Times,serif\" font-size=\"14.00\" fill=\"#000000\">&lt;=</text>\n</g>\n<!-- split17 -->\n<g id=\"node36\" class=\"node\">\n<title>split17</title>\n<ellipse fill=\"none\" stroke=\"#000000\" cx=\"2956.1493\" cy=\"-655.3107\" rx=\"147.5709\" ry=\"26.7407\"/>\n<text text-anchor=\"middle\" x=\"2956.1493\" y=\"-659.1107\" font-family=\"Times,serif\" font-size=\"14.00\" fill=\"#000000\">split_feature_name: time</text>\n<text text-anchor=\"middle\" x=\"2956.1493\" y=\"-644.1107\" font-family=\"Times,serif\" font-size=\"14.00\" fill=\"#000000\">threshold: 205.56250000000003</text>\n</g>\n<!-- split16&#45;&gt;split17 -->\n<g id=\"edge44\" class=\"edge\">\n<title>split16&#45;&gt;split17</title>\n<path fill=\"none\" stroke=\"#000000\" d=\"M2780.9478,-735.0961C2814.2457,-719.9325 2856.9212,-700.4984 2891.817,-684.6071\"/>\n<polygon fill=\"#000000\" stroke=\"#000000\" points=\"2893.3232,-687.7671 2900.9734,-680.4374 2890.4221,-681.3966 2893.3232,-687.7671\"/>\n<text text-anchor=\"middle\" x=\"2859.6493\" y=\"-703.9808\" font-family=\"Times,serif\" font-size=\"14.00\" fill=\"#000000\">&gt;</text>\n</g>\n<!-- leaf17 -->\n<g id=\"node37\" class=\"node\">\n<title>leaf17</title>\n<ellipse fill=\"none\" stroke=\"#000000\" cx=\"2866.1493\" cy=\"-550.5706\" rx=\"154.2987\" ry=\"26.7407\"/>\n<text text-anchor=\"middle\" x=\"2866.1493\" y=\"-554.3706\" font-family=\"Times,serif\" font-size=\"14.00\" fill=\"#000000\">leaf_index: 17</text>\n<text text-anchor=\"middle\" x=\"2866.1493\" y=\"-539.3706\" font-family=\"Times,serif\" font-size=\"14.00\" fill=\"#000000\">leaf_value: &#45;0.5271101057452907</text>\n</g>\n<!-- split17&#45;&gt;leaf17 -->\n<g id=\"edge28\" class=\"edge\">\n<title>split17&#45;&gt;leaf17</title>\n<path fill=\"none\" stroke=\"#000000\" d=\"M2933.2056,-628.6094C2921.7806,-615.3133 2907.8357,-599.0844 2895.6276,-584.8769\"/>\n<polygon fill=\"#000000\" stroke=\"#000000\" points=\"2898.2229,-582.5268 2889.0511,-577.2232 2892.9137,-587.0889 2898.2229,-582.5268\"/>\n<text text-anchor=\"middle\" x=\"2925.6493\" y=\"-599.2407\" font-family=\"Times,serif\" font-size=\"14.00\" fill=\"#000000\">&lt;=</text>\n</g>\n<!-- split18 -->\n<g id=\"node38\" class=\"node\">\n<title>split18</title>\n<ellipse fill=\"none\" stroke=\"#000000\" cx=\"3186.1493\" cy=\"-550.5706\" rx=\"147.5709\" ry=\"26.7407\"/>\n<text text-anchor=\"middle\" x=\"3186.1493\" y=\"-554.3706\" font-family=\"Times,serif\" font-size=\"14.00\" fill=\"#000000\">split_feature_name: time</text>\n<text text-anchor=\"middle\" x=\"3186.1493\" y=\"-539.3706\" font-family=\"Times,serif\" font-size=\"14.00\" fill=\"#000000\">threshold: 220.06250000000003</text>\n</g>\n<!-- split17&#45;&gt;split18 -->\n<g id=\"edge43\" class=\"edge\">\n<title>split17&#45;&gt;split18</title>\n<path fill=\"none\" stroke=\"#000000\" d=\"M3010.9478,-630.356C3044.2457,-615.1924 3086.9212,-595.7583 3121.817,-579.867\"/>\n<polygon fill=\"#000000\" stroke=\"#000000\" points=\"3123.3232,-583.027 3130.9734,-575.6973 3120.4221,-576.6565 3123.3232,-583.027\"/>\n<text text-anchor=\"middle\" x=\"3089.6493\" y=\"-599.2407\" font-family=\"Times,serif\" font-size=\"14.00\" fill=\"#000000\">&gt;</text>\n</g>\n<!-- split20 -->\n<g id=\"node39\" class=\"node\">\n<title>split20</title>\n<ellipse fill=\"none\" stroke=\"#000000\" cx=\"2956.1493\" cy=\"-445.8305\" rx=\"147.5709\" ry=\"26.7407\"/>\n<text text-anchor=\"middle\" x=\"2956.1493\" y=\"-449.6305\" font-family=\"Times,serif\" font-size=\"14.00\" fill=\"#000000\">split_feature_name: time</text>\n<text text-anchor=\"middle\" x=\"2956.1493\" y=\"-434.6305\" font-family=\"Times,serif\" font-size=\"14.00\" fill=\"#000000\">threshold: 214.18750000000003</text>\n</g>\n<!-- split18&#45;&gt;split20 -->\n<g id=\"edge41\" class=\"edge\">\n<title>split18&#45;&gt;split20</title>\n<path fill=\"none\" stroke=\"#000000\" d=\"M3131.3508,-525.6158C3098.0529,-510.4523 3055.3774,-491.0182 3020.4816,-475.1269\"/>\n<polygon fill=\"#000000\" stroke=\"#000000\" points=\"3021.8765,-471.9164 3011.3251,-470.9572 3018.9753,-478.2869 3021.8765,-471.9164\"/>\n<text text-anchor=\"middle\" x=\"3093.6493\" y=\"-494.5006\" font-family=\"Times,serif\" font-size=\"14.00\" fill=\"#000000\">&lt;=</text>\n</g>\n<!-- leaf19 -->\n<g id=\"node52\" class=\"node\">\n<title>leaf19</title>\n<ellipse fill=\"none\" stroke=\"#000000\" cx=\"3276.1493\" cy=\"-445.8305\" rx=\"154.2987\" ry=\"26.7407\"/>\n<text text-anchor=\"middle\" x=\"3276.1493\" y=\"-449.6305\" font-family=\"Times,serif\" font-size=\"14.00\" fill=\"#000000\">leaf_index: 19</text>\n<text text-anchor=\"middle\" x=\"3276.1493\" y=\"-434.6305\" font-family=\"Times,serif\" font-size=\"14.00\" fill=\"#000000\">leaf_value: &#45;0.5296219370460502</text>\n</g>\n<!-- split18&#45;&gt;leaf19 -->\n<g id=\"edge42\" class=\"edge\">\n<title>split18&#45;&gt;leaf19</title>\n<path fill=\"none\" stroke=\"#000000\" d=\"M3209.0929,-523.8693C3220.5179,-510.5731 3234.4629,-494.3443 3246.671,-480.1368\"/>\n<polygon fill=\"#000000\" stroke=\"#000000\" points=\"3249.3849,-482.3488 3253.2475,-472.4831 3244.0756,-477.7867 3249.3849,-482.3488\"/>\n<text text-anchor=\"middle\" x=\"3241.6493\" y=\"-494.5006\" font-family=\"Times,serif\" font-size=\"14.00\" fill=\"#000000\">&gt;</text>\n</g>\n<!-- split22 -->\n<g id=\"node40\" class=\"node\">\n<title>split22</title>\n<ellipse fill=\"none\" stroke=\"#000000\" cx=\"2793.1493\" cy=\"-341.0904\" rx=\"145.8282\" ry=\"26.7407\"/>\n<text text-anchor=\"middle\" x=\"2793.1493\" y=\"-344.8904\" font-family=\"Times,serif\" font-size=\"14.00\" fill=\"#000000\">split_feature_name: pilot</text>\n<text text-anchor=\"middle\" x=\"2793.1493\" y=\"-329.8904\" font-family=\"Times,serif\" font-size=\"14.00\" fill=\"#000000\">threshold: &#45;33.49999999999999</text>\n</g>\n<!-- split20&#45;&gt;split22 -->\n<g id=\"edge33\" class=\"edge\">\n<title>split20&#45;&gt;split22</title>\n<path fill=\"none\" stroke=\"#000000\" d=\"M2915.8571,-419.9397C2893.5227,-405.5881 2865.5854,-387.6362 2842.0119,-372.4884\"/>\n<polygon fill=\"#000000\" stroke=\"#000000\" points=\"2843.8478,-369.5078 2833.5428,-367.0464 2840.0636,-375.3968 2843.8478,-369.5078\"/>\n<text text-anchor=\"middle\" x=\"2893.6493\" y=\"-389.7605\" font-family=\"Times,serif\" font-size=\"14.00\" fill=\"#000000\">&lt;=</text>\n</g>\n<!-- split21 -->\n<g id=\"node45\" class=\"node\">\n<title>split21</title>\n<ellipse fill=\"none\" stroke=\"#000000\" cx=\"3119.1493\" cy=\"-341.0904\" rx=\"145.8282\" ry=\"26.7407\"/>\n<text text-anchor=\"middle\" x=\"3119.1493\" y=\"-344.8904\" font-family=\"Times,serif\" font-size=\"14.00\" fill=\"#000000\">split_feature_name: pilot</text>\n<text text-anchor=\"middle\" x=\"3119.1493\" y=\"-329.8904\" font-family=\"Times,serif\" font-size=\"14.00\" fill=\"#000000\">threshold: &#45;33.49999999999999</text>\n</g>\n<!-- split20&#45;&gt;split21 -->\n<g id=\"edge40\" class=\"edge\">\n<title>split20&#45;&gt;split21</title>\n<path fill=\"none\" stroke=\"#000000\" d=\"M2996.4414,-419.9397C3018.7758,-405.5881 3046.7132,-387.6362 3070.2867,-372.4884\"/>\n<polygon fill=\"#000000\" stroke=\"#000000\" points=\"3072.2349,-375.3968 3078.7557,-367.0464 3068.4508,-369.5078 3072.2349,-375.3968\"/>\n<text text-anchor=\"middle\" x=\"3052.6493\" y=\"-389.7605\" font-family=\"Times,serif\" font-size=\"14.00\" fill=\"#000000\">&gt;</text>\n</g>\n<!-- split23 -->\n<g id=\"node41\" class=\"node\">\n<title>split23</title>\n<ellipse fill=\"none\" stroke=\"#000000\" cx=\"2474.1493\" cy=\"-236.3503\" rx=\"147.1565\" ry=\"26.7407\"/>\n<text text-anchor=\"middle\" x=\"2474.1493\" y=\"-240.1503\" font-family=\"Times,serif\" font-size=\"14.00\" fill=\"#000000\">split_feature_name: time</text>\n<text text-anchor=\"middle\" x=\"2474.1493\" y=\"-225.1503\" font-family=\"Times,serif\" font-size=\"14.00\" fill=\"#000000\">threshold: 211.31250000000003</text>\n</g>\n<!-- split22&#45;&gt;split23 -->\n<g id=\"edge31\" class=\"edge\">\n<title>split22&#45;&gt;split23</title>\n<path fill=\"none\" stroke=\"#000000\" d=\"M2721.5595,-317.5847C2672.2899,-301.4076 2606.7452,-279.8867 2555.4978,-263.0602\"/>\n<polygon fill=\"#000000\" stroke=\"#000000\" points=\"2556.3684,-259.6623 2545.7756,-259.868 2554.1847,-266.3129 2556.3684,-259.6623\"/>\n<text text-anchor=\"middle\" x=\"2661.6493\" y=\"-285.0203\" font-family=\"Times,serif\" font-size=\"14.00\" fill=\"#000000\">&lt;=</text>\n</g>\n<!-- leaf23 -->\n<g id=\"node44\" class=\"node\">\n<title>leaf23</title>\n<ellipse fill=\"none\" stroke=\"#000000\" cx=\"2793.1493\" cy=\"-236.3503\" rx=\"154.2987\" ry=\"26.7407\"/>\n<text text-anchor=\"middle\" x=\"2793.1493\" y=\"-240.1503\" font-family=\"Times,serif\" font-size=\"14.00\" fill=\"#000000\">leaf_index: 23</text>\n<text text-anchor=\"middle\" x=\"2793.1493\" y=\"-225.1503\" font-family=\"Times,serif\" font-size=\"14.00\" fill=\"#000000\">leaf_value: &#45;0.5297704658501593</text>\n</g>\n<!-- split22&#45;&gt;leaf23 -->\n<g id=\"edge32\" class=\"edge\">\n<title>split22&#45;&gt;leaf23</title>\n<path fill=\"none\" stroke=\"#000000\" d=\"M2793.1493,-314.1172C2793.1493,-301.7778 2793.1493,-286.9563 2793.1493,-273.5774\"/>\n<polygon fill=\"#000000\" stroke=\"#000000\" points=\"2796.6494,-273.232 2793.1493,-263.2321 2789.6494,-273.2321 2796.6494,-273.232\"/>\n<text text-anchor=\"middle\" x=\"2797.6493\" y=\"-285.0203\" font-family=\"Times,serif\" font-size=\"14.00\" fill=\"#000000\">&gt;</text>\n</g>\n<!-- leaf18 -->\n<g id=\"node42\" class=\"node\">\n<title>leaf18</title>\n<ellipse fill=\"none\" stroke=\"#000000\" cx=\"2471.1493\" cy=\"-131.6102\" rx=\"154.2987\" ry=\"26.7407\"/>\n<text text-anchor=\"middle\" x=\"2471.1493\" y=\"-135.4102\" font-family=\"Times,serif\" font-size=\"14.00\" fill=\"#000000\">leaf_index: 18</text>\n<text text-anchor=\"middle\" x=\"2471.1493\" y=\"-120.4102\" font-family=\"Times,serif\" font-size=\"14.00\" fill=\"#000000\">leaf_value: &#45;0.5445570255513801</text>\n</g>\n<!-- split23&#45;&gt;leaf18 -->\n<g id=\"edge29\" class=\"edge\">\n<title>split23&#45;&gt;leaf18</title>\n<path fill=\"none\" stroke=\"#000000\" d=\"M2473.3767,-209.3771C2473.0233,-197.0377 2472.5988,-182.2162 2472.2155,-168.8373\"/>\n<polygon fill=\"#000000\" stroke=\"#000000\" points=\"2475.7042,-168.3876 2471.9192,-158.4919 2468.7071,-168.5881 2475.7042,-168.3876\"/>\n<text text-anchor=\"middle\" x=\"2481.6493\" y=\"-180.2802\" font-family=\"Times,serif\" font-size=\"14.00\" fill=\"#000000\">&lt;=</text>\n</g>\n<!-- leaf24 -->\n<g id=\"node43\" class=\"node\">\n<title>leaf24</title>\n<ellipse fill=\"none\" stroke=\"#000000\" cx=\"2797.1493\" cy=\"-131.6102\" rx=\"154.2987\" ry=\"26.7407\"/>\n<text text-anchor=\"middle\" x=\"2797.1493\" y=\"-135.4102\" font-family=\"Times,serif\" font-size=\"14.00\" fill=\"#000000\">leaf_index: 24</text>\n<text text-anchor=\"middle\" x=\"2797.1493\" y=\"-120.4102\" font-family=\"Times,serif\" font-size=\"14.00\" fill=\"#000000\">leaf_value: &#45;0.5280180152235145</text>\n</g>\n<!-- split23&#45;&gt;leaf24 -->\n<g id=\"edge30\" class=\"edge\">\n<title>split23&#45;&gt;leaf24</title>\n<path fill=\"none\" stroke=\"#000000\" d=\"M2546.6368,-212.8446C2596.3494,-196.7241 2662.426,-175.2973 2714.2349,-158.497\"/>\n<polygon fill=\"#000000\" stroke=\"#000000\" points=\"2715.6333,-161.7231 2724.0661,-155.3091 2713.4741,-155.0644 2715.6333,-161.7231\"/>\n<text text-anchor=\"middle\" x=\"2659.6493\" y=\"-180.2802\" font-family=\"Times,serif\" font-size=\"14.00\" fill=\"#000000\">&gt;</text>\n</g>\n<!-- leaf21 -->\n<g id=\"node46\" class=\"node\">\n<title>leaf21</title>\n<ellipse fill=\"none\" stroke=\"#000000\" cx=\"3119.1493\" cy=\"-236.3503\" rx=\"154.2987\" ry=\"26.7407\"/>\n<text text-anchor=\"middle\" x=\"3119.1493\" y=\"-240.1503\" font-family=\"Times,serif\" font-size=\"14.00\" fill=\"#000000\">leaf_index: 21</text>\n<text text-anchor=\"middle\" x=\"3119.1493\" y=\"-225.1503\" font-family=\"Times,serif\" font-size=\"14.00\" fill=\"#000000\">leaf_value: &#45;0.5268666023940008</text>\n</g>\n<!-- split21&#45;&gt;leaf21 -->\n<g id=\"edge34\" class=\"edge\">\n<title>split21&#45;&gt;leaf21</title>\n<path fill=\"none\" stroke=\"#000000\" d=\"M3119.1493,-314.1172C3119.1493,-301.7778 3119.1493,-286.9563 3119.1493,-273.5774\"/>\n<polygon fill=\"#000000\" stroke=\"#000000\" points=\"3122.6494,-273.232 3119.1493,-263.2321 3115.6494,-273.2321 3122.6494,-273.232\"/>\n<text text-anchor=\"middle\" x=\"3127.6493\" y=\"-285.0203\" font-family=\"Times,serif\" font-size=\"14.00\" fill=\"#000000\">&lt;=</text>\n</g>\n<!-- split24 -->\n<g id=\"node47\" class=\"node\">\n<title>split24</title>\n<ellipse fill=\"none\" stroke=\"#000000\" cx=\"3433.1493\" cy=\"-236.3503\" rx=\"142.257\" ry=\"26.7407\"/>\n<text text-anchor=\"middle\" x=\"3433.1493\" y=\"-240.1503\" font-family=\"Times,serif\" font-size=\"14.00\" fill=\"#000000\">split_feature_name: r</text>\n<text text-anchor=\"middle\" x=\"3433.1493\" y=\"-225.1503\" font-family=\"Times,serif\" font-size=\"14.00\" fill=\"#000000\">threshold: 642.2500000000001</text>\n</g>\n<!-- split21&#45;&gt;split24 -->\n<g id=\"edge39\" class=\"edge\">\n<title>split21&#45;&gt;split24</title>\n<path fill=\"none\" stroke=\"#000000\" d=\"M3190.0085,-317.4541C3238.5233,-301.2711 3302.9324,-279.7864 3353.2695,-262.9956\"/>\n<polygon fill=\"#000000\" stroke=\"#000000\" points=\"3354.44,-266.2948 3362.8186,-259.8103 3352.225,-259.6545 3354.44,-266.2948\"/>\n<text text-anchor=\"middle\" x=\"3299.6493\" y=\"-285.0203\" font-family=\"Times,serif\" font-size=\"14.00\" fill=\"#000000\">&gt;</text>\n</g>\n<!-- leaf22 -->\n<g id=\"node48\" class=\"node\">\n<title>leaf22</title>\n<ellipse fill=\"none\" stroke=\"#000000\" cx=\"3258.1493\" cy=\"-131.6102\" rx=\"154.2987\" ry=\"26.7407\"/>\n<text text-anchor=\"middle\" x=\"3258.1493\" y=\"-135.4102\" font-family=\"Times,serif\" font-size=\"14.00\" fill=\"#000000\">leaf_index: 22</text>\n<text text-anchor=\"middle\" x=\"3258.1493\" y=\"-120.4102\" font-family=\"Times,serif\" font-size=\"14.00\" fill=\"#000000\">leaf_value: &#45;0.5268666023940008</text>\n</g>\n<!-- split24&#45;&gt;leaf22 -->\n<g id=\"edge35\" class=\"edge\">\n<title>split24&#45;&gt;leaf22</title>\n<path fill=\"none\" stroke=\"#000000\" d=\"M3390.3395,-210.728C3366.1716,-196.2632 3335.786,-178.0769 3310.2428,-162.7889\"/>\n<polygon fill=\"#000000\" stroke=\"#000000\" points=\"3311.8059,-159.6455 3301.4279,-157.5131 3308.211,-165.6519 3311.8059,-159.6455\"/>\n<text text-anchor=\"middle\" x=\"3364.6493\" y=\"-180.2802\" font-family=\"Times,serif\" font-size=\"14.00\" fill=\"#000000\">&lt;=</text>\n</g>\n<!-- split25 -->\n<g id=\"node49\" class=\"node\">\n<title>split25</title>\n<ellipse fill=\"none\" stroke=\"#000000\" cx=\"3572.1493\" cy=\"-131.6102\" rx=\"142.257\" ry=\"26.7407\"/>\n<text text-anchor=\"middle\" x=\"3572.1493\" y=\"-135.4102\" font-family=\"Times,serif\" font-size=\"14.00\" fill=\"#000000\">split_feature_name: r</text>\n<text text-anchor=\"middle\" x=\"3572.1493\" y=\"-120.4102\" font-family=\"Times,serif\" font-size=\"14.00\" fill=\"#000000\">threshold: 817.7500000000001</text>\n</g>\n<!-- split24&#45;&gt;split25 -->\n<g id=\"edge38\" class=\"edge\">\n<title>split24&#45;&gt;split25</title>\n<path fill=\"none\" stroke=\"#000000\" d=\"M3467.8663,-210.1901C3486.4414,-196.1933 3509.4828,-178.831 3529.1793,-163.9892\"/>\n<polygon fill=\"#000000\" stroke=\"#000000\" points=\"3531.5129,-166.6132 3537.3931,-157.7999 3527.3003,-161.0226 3531.5129,-166.6132\"/>\n<text text-anchor=\"middle\" x=\"3515.6493\" y=\"-180.2802\" font-family=\"Times,serif\" font-size=\"14.00\" fill=\"#000000\">&gt;</text>\n</g>\n<!-- leaf25 -->\n<g id=\"node50\" class=\"node\">\n<title>leaf25</title>\n<ellipse fill=\"none\" stroke=\"#000000\" cx=\"3409.1493\" cy=\"-26.8701\" rx=\"154.2987\" ry=\"26.7407\"/>\n<text text-anchor=\"middle\" x=\"3409.1493\" y=\"-30.6701\" font-family=\"Times,serif\" font-size=\"14.00\" fill=\"#000000\">leaf_index: 25</text>\n<text text-anchor=\"middle\" x=\"3409.1493\" y=\"-15.6701\" font-family=\"Times,serif\" font-size=\"14.00\" fill=\"#000000\">leaf_value: &#45;0.5464180408615944</text>\n</g>\n<!-- split25&#45;&gt;leaf25 -->\n<g id=\"edge36\" class=\"edge\">\n<title>split25&#45;&gt;leaf25</title>\n<path fill=\"none\" stroke=\"#000000\" d=\"M3531.8571,-105.7194C3509.5227,-91.3678 3481.5854,-73.4159 3458.0119,-58.2681\"/>\n<polygon fill=\"#000000\" stroke=\"#000000\" points=\"3459.8478,-55.2875 3449.5428,-52.826 3456.0636,-61.1765 3459.8478,-55.2875\"/>\n<text text-anchor=\"middle\" x=\"3509.6493\" y=\"-75.5401\" font-family=\"Times,serif\" font-size=\"14.00\" fill=\"#000000\">&lt;=</text>\n</g>\n<!-- leaf26 -->\n<g id=\"node51\" class=\"node\">\n<title>leaf26</title>\n<ellipse fill=\"none\" stroke=\"#000000\" cx=\"3735.1493\" cy=\"-26.8701\" rx=\"154.2987\" ry=\"26.7407\"/>\n<text text-anchor=\"middle\" x=\"3735.1493\" y=\"-30.6701\" font-family=\"Times,serif\" font-size=\"14.00\" fill=\"#000000\">leaf_index: 26</text>\n<text text-anchor=\"middle\" x=\"3735.1493\" y=\"-15.6701\" font-family=\"Times,serif\" font-size=\"14.00\" fill=\"#000000\">leaf_value: &#45;0.5268666023940008</text>\n</g>\n<!-- split25&#45;&gt;leaf26 -->\n<g id=\"edge37\" class=\"edge\">\n<title>split25&#45;&gt;leaf26</title>\n<path fill=\"none\" stroke=\"#000000\" d=\"M3612.4414,-105.7194C3634.7758,-91.3678 3662.7132,-73.4159 3686.2867,-58.2681\"/>\n<polygon fill=\"#000000\" stroke=\"#000000\" points=\"3688.2349,-61.1765 3694.7557,-52.826 3684.4508,-55.2875 3688.2349,-61.1765\"/>\n<text text-anchor=\"middle\" x=\"3668.6493\" y=\"-75.5401\" font-family=\"Times,serif\" font-size=\"14.00\" fill=\"#000000\">&gt;</text>\n</g>\n<!-- leaf4 -->\n<g id=\"node54\" class=\"node\">\n<title>leaf4</title>\n<ellipse fill=\"none\" stroke=\"#000000\" cx=\"2731.1493\" cy=\"-969.5311\" rx=\"154.2987\" ry=\"26.7407\"/>\n<text text-anchor=\"middle\" x=\"2731.1493\" y=\"-973.3311\" font-family=\"Times,serif\" font-size=\"14.00\" fill=\"#000000\">leaf_index: 4</text>\n<text text-anchor=\"middle\" x=\"2731.1493\" y=\"-958.3311\" font-family=\"Times,serif\" font-size=\"14.00\" fill=\"#000000\">leaf_value: &#45;0.5268695763570556</text>\n</g>\n<!-- split4&#45;&gt;leaf4 -->\n<g id=\"edge49\" class=\"edge\">\n<title>split4&#45;&gt;leaf4</title>\n<path fill=\"none\" stroke=\"#000000\" d=\"M2731.1493,-1047.298C2731.1493,-1034.9586 2731.1493,-1020.1371 2731.1493,-1006.7582\"/>\n<polygon fill=\"#000000\" stroke=\"#000000\" points=\"2734.6494,-1006.4128 2731.1493,-996.4129 2727.6494,-1006.4129 2734.6494,-1006.4128\"/>\n<text text-anchor=\"middle\" x=\"2739.6493\" y=\"-1018.2012\" font-family=\"Times,serif\" font-size=\"14.00\" fill=\"#000000\">&lt;=</text>\n</g>\n<!-- split5 -->\n<g id=\"node55\" class=\"node\">\n<title>split5</title>\n<ellipse fill=\"none\" stroke=\"#000000\" cx=\"3051.1493\" cy=\"-969.5311\" rx=\"147.5709\" ry=\"26.7407\"/>\n<text text-anchor=\"middle\" x=\"3051.1493\" y=\"-973.3311\" font-family=\"Times,serif\" font-size=\"14.00\" fill=\"#000000\">split_feature_name: time</text>\n<text text-anchor=\"middle\" x=\"3051.1493\" y=\"-958.3311\" font-family=\"Times,serif\" font-size=\"14.00\" fill=\"#000000\">threshold: 289.62500000000006</text>\n</g>\n<!-- split4&#45;&gt;split5 -->\n<g id=\"edge54\" class=\"edge\">\n<title>split4&#45;&gt;split5</title>\n<path fill=\"none\" stroke=\"#000000\" d=\"M2802.9635,-1050.7655C2852.3875,-1034.5884 2918.1377,-1013.0675 2969.5458,-996.241\"/>\n<polygon fill=\"#000000\" stroke=\"#000000\" points=\"2970.8834,-999.486 2979.2984,-993.0488 2968.7058,-992.8333 2970.8834,-999.486\"/>\n<text text-anchor=\"middle\" x=\"2915.6493\" y=\"-1018.2012\" font-family=\"Times,serif\" font-size=\"14.00\" fill=\"#000000\">&gt;</text>\n</g>\n<!-- split12 -->\n<g id=\"node56\" class=\"node\">\n<title>split12</title>\n<ellipse fill=\"none\" stroke=\"#000000\" cx=\"3049.1493\" cy=\"-864.791\" rx=\"147.5709\" ry=\"26.7407\"/>\n<text text-anchor=\"middle\" x=\"3049.1493\" y=\"-868.591\" font-family=\"Times,serif\" font-size=\"14.00\" fill=\"#000000\">split_feature_name: time</text>\n<text text-anchor=\"middle\" x=\"3049.1493\" y=\"-853.591\" font-family=\"Times,serif\" font-size=\"14.00\" fill=\"#000000\">threshold: 274.62500000000006</text>\n</g>\n<!-- split5&#45;&gt;split12 -->\n<g id=\"edge52\" class=\"edge\">\n<title>split5&#45;&gt;split12</title>\n<path fill=\"none\" stroke=\"#000000\" d=\"M3050.6342,-942.5579C3050.3986,-930.2185 3050.1156,-915.397 3049.8601,-902.0181\"/>\n<polygon fill=\"#000000\" stroke=\"#000000\" points=\"3053.353,-901.6041 3049.6626,-891.6728 3046.3542,-901.7378 3053.353,-901.6041\"/>\n<text text-anchor=\"middle\" x=\"3059.6493\" y=\"-913.461\" font-family=\"Times,serif\" font-size=\"14.00\" fill=\"#000000\">&lt;=</text>\n</g>\n<!-- leaf6 -->\n<g id=\"node59\" class=\"node\">\n<title>leaf6</title>\n<ellipse fill=\"none\" stroke=\"#000000\" cx=\"3369.1493\" cy=\"-864.791\" rx=\"154.2987\" ry=\"26.7407\"/>\n<text text-anchor=\"middle\" x=\"3369.1493\" y=\"-868.591\" font-family=\"Times,serif\" font-size=\"14.00\" fill=\"#000000\">leaf_index: 6</text>\n<text text-anchor=\"middle\" x=\"3369.1493\" y=\"-853.591\" font-family=\"Times,serif\" font-size=\"14.00\" fill=\"#000000\">leaf_value: &#45;0.5269380429478215</text>\n</g>\n<!-- split5&#45;&gt;leaf6 -->\n<g id=\"edge53\" class=\"edge\">\n<title>split5&#45;&gt;leaf6</title>\n<path fill=\"none\" stroke=\"#000000\" d=\"M3122.9112,-945.8948C3171.6998,-929.8252 3236.3604,-908.5278 3287.1785,-891.7898\"/>\n<polygon fill=\"#000000\" stroke=\"#000000\" points=\"3288.4204,-895.0658 3296.8235,-888.613 3286.2305,-888.4171 3288.4204,-895.0658\"/>\n<text text-anchor=\"middle\" x=\"3234.6493\" y=\"-913.461\" font-family=\"Times,serif\" font-size=\"14.00\" fill=\"#000000\">&gt;</text>\n</g>\n<!-- leaf5 -->\n<g id=\"node57\" class=\"node\">\n<title>leaf5</title>\n<ellipse fill=\"none\" stroke=\"#000000\" cx=\"3049.1493\" cy=\"-760.0509\" rx=\"154.2987\" ry=\"26.7407\"/>\n<text text-anchor=\"middle\" x=\"3049.1493\" y=\"-763.8509\" font-family=\"Times,serif\" font-size=\"14.00\" fill=\"#000000\">leaf_index: 5</text>\n<text text-anchor=\"middle\" x=\"3049.1493\" y=\"-748.8509\" font-family=\"Times,serif\" font-size=\"14.00\" fill=\"#000000\">leaf_value: &#45;0.5339752835125544</text>\n</g>\n<!-- split12&#45;&gt;leaf5 -->\n<g id=\"edge50\" class=\"edge\">\n<title>split12&#45;&gt;leaf5</title>\n<path fill=\"none\" stroke=\"#000000\" d=\"M3049.1493,-837.8178C3049.1493,-825.4784 3049.1493,-810.6569 3049.1493,-797.278\"/>\n<polygon fill=\"#000000\" stroke=\"#000000\" points=\"3052.6494,-796.9326 3049.1493,-786.9326 3045.6494,-796.9327 3052.6494,-796.9326\"/>\n<text text-anchor=\"middle\" x=\"3057.6493\" y=\"-808.7209\" font-family=\"Times,serif\" font-size=\"14.00\" fill=\"#000000\">&lt;=</text>\n</g>\n<!-- leaf13 -->\n<g id=\"node58\" class=\"node\">\n<title>leaf13</title>\n<ellipse fill=\"none\" stroke=\"#000000\" cx=\"3375.1493\" cy=\"-760.0509\" rx=\"154.2987\" ry=\"26.7407\"/>\n<text text-anchor=\"middle\" x=\"3375.1493\" y=\"-763.8509\" font-family=\"Times,serif\" font-size=\"14.00\" fill=\"#000000\">leaf_index: 13</text>\n<text text-anchor=\"middle\" x=\"3375.1493\" y=\"-748.8509\" font-family=\"Times,serif\" font-size=\"14.00\" fill=\"#000000\">leaf_value: &#45;0.5463728018270213</text>\n</g>\n<!-- split12&#45;&gt;leaf13 -->\n<g id=\"edge51\" class=\"edge\">\n<title>split12&#45;&gt;leaf13</title>\n<path fill=\"none\" stroke=\"#000000\" d=\"M3122.31,-841.2853C3172.5887,-825.1313 3239.452,-803.6489 3291.7908,-786.833\"/>\n<polygon fill=\"#000000\" stroke=\"#000000\" points=\"3292.9372,-790.141 3301.3873,-783.7498 3290.796,-783.4765 3292.9372,-790.141\"/>\n<text text-anchor=\"middle\" x=\"3236.6493\" y=\"-808.7209\" font-family=\"Times,serif\" font-size=\"14.00\" fill=\"#000000\">&gt;</text>\n</g>\n</g>\n</svg>\n"
          },
          "metadata": {
            "tags": []
          },
          "execution_count": 31
        }
      ]
    },
    {
      "cell_type": "code",
      "metadata": {
        "id": "zPOwBW1mcmAi",
        "colab_type": "code",
        "colab": {
          "base_uri": "https://localhost:8080/",
          "height": 195
        },
        "outputId": "d69b59ea-b138-4d98-ac12-b5f7518d91b9"
      },
      "source": [
        "lgb.plot_tree(model)"
      ],
      "execution_count": null,
      "outputs": [
        {
          "output_type": "execute_result",
          "data": {
            "text/plain": [
              "<matplotlib.axes._subplots.AxesSubplot at 0x7f9cca62f518>"
            ]
          },
          "metadata": {
            "tags": []
          },
          "execution_count": 32
        },
        {
          "output_type": "display_data",
          "data": {
            "image/png": "[encoded data removed]",
            "text/plain": [
              "<Figure size 432x288 with 1 Axes>"
            ]
          },
          "metadata": {
            "tags": []
          }
        }
      ]
    },
    {
      "cell_type": "code",
      "metadata": {
        "id": "z0donhQ3JPDr",
        "colab_type": "code",
        "colab": {}
      },
      "source": [
        "import os\n",
        "os.chdir('/content/drive/My Drive/ML case study/models')\n",
        "import joblib\n",
        "model = joblib.load('all_feature_model_with_pilot.pkl')"
      ],
      "execution_count": null,
      "outputs": []
    },
    {
      "cell_type": "code",
      "metadata": {
        "id": "jL8ooFH8GflK",
        "colab_type": "code",
        "colab": {}
      },
      "source": [
        "import os\n",
        "\n",
        "os.chdir('/content')"
      ],
      "execution_count": null,
      "outputs": []
    },
    {
      "cell_type": "code",
      "metadata": {
        "id": "y6Lb0aoSGY5F",
        "colab_type": "code",
        "colab": {
          "base_uri": "https://localhost:8080/",
          "height": 85
        },
        "outputId": "6bd46967-19a2-478d-9dce-f9b218482e0d"
      },
      "source": [
        "test = featureModify(False, None)\n",
        "print(\"Done test read\")"
      ],
      "execution_count": null,
      "outputs": [
        {
          "output_type": "stream",
          "text": [
            "Memory usage of dataframe is 3974.83 MB\n",
            "Memory usage after optimization is: 1079.37 MB\n",
            "Decreased by 72.8%\n",
            "Done test read\n"
          ],
          "name": "stdout"
        }
      ]
    },
    {
      "cell_type": "code",
      "metadata": {
        "id": "S4AxQ3laLG0x",
        "colab_type": "code",
        "colab": {
          "base_uri": "https://localhost:8080/",
          "height": 224
        },
        "outputId": "890fae2b-53de-4d0e-8eaf-edfb7929f6d8"
      },
      "source": [
        "test.head()"
      ],
      "execution_count": null,
      "outputs": [
        {
          "output_type": "execute_result",
          "data": {
            "text/html": [
              "<div>\n",
              "<style scoped>\n",
              "    .dataframe tbody tr th:only-of-type {\n",
              "        vertical-align: middle;\n",
              "    }\n",
              "\n",
              "    .dataframe tbody tr th {\n",
              "        vertical-align: top;\n",
              "    }\n",
              "\n",
              "    .dataframe thead th {\n",
              "        text-align: right;\n",
              "    }\n",
              "</style>\n",
              "<table border=\"1\" class=\"dataframe\">\n",
              "  <thead>\n",
              "    <tr style=\"text-align: right;\">\n",
              "      <th></th>\n",
              "      <th>id</th>\n",
              "      <th>crew</th>\n",
              "      <th>experiment</th>\n",
              "      <th>time</th>\n",
              "      <th>seat</th>\n",
              "      <th>eeg_fp1</th>\n",
              "      <th>eeg_f7</th>\n",
              "      <th>eeg_f8</th>\n",
              "      <th>eeg_t4</th>\n",
              "      <th>eeg_t6</th>\n",
              "      <th>eeg_t5</th>\n",
              "      <th>eeg_t3</th>\n",
              "      <th>eeg_fp2</th>\n",
              "      <th>eeg_o1</th>\n",
              "      <th>eeg_p3</th>\n",
              "      <th>eeg_pz</th>\n",
              "      <th>eeg_f3</th>\n",
              "      <th>eeg_fz</th>\n",
              "      <th>eeg_f4</th>\n",
              "      <th>eeg_c4</th>\n",
              "      <th>eeg_p4</th>\n",
              "      <th>eeg_poz</th>\n",
              "      <th>eeg_c3</th>\n",
              "      <th>eeg_cz</th>\n",
              "      <th>eeg_o2</th>\n",
              "      <th>ecg</th>\n",
              "      <th>r</th>\n",
              "      <th>gsr</th>\n",
              "    </tr>\n",
              "  </thead>\n",
              "  <tbody>\n",
              "    <tr>\n",
              "      <th>0</th>\n",
              "      <td>0</td>\n",
              "      <td>1</td>\n",
              "      <td>LOFT</td>\n",
              "      <td>0.000000</td>\n",
              "      <td>0</td>\n",
              "      <td>17.906250</td>\n",
              "      <td>6.128906</td>\n",
              "      <td>0.994629</td>\n",
              "      <td>-28.203125</td>\n",
              "      <td>-47.687500</td>\n",
              "      <td>-187.125000</td>\n",
              "      <td>-33.187500</td>\n",
              "      <td>-4.222656</td>\n",
              "      <td>8.179688</td>\n",
              "      <td>33.156250</td>\n",
              "      <td>33.812500</td>\n",
              "      <td>21.750000</td>\n",
              "      <td>16.296875</td>\n",
              "      <td>-7.042969</td>\n",
              "      <td>-14.406250</td>\n",
              "      <td>-4.035156</td>\n",
              "      <td>-0.393799</td>\n",
              "      <td>31.843750</td>\n",
              "      <td>17.078125</td>\n",
              "      <td>-8.140625</td>\n",
              "      <td>-7324.0</td>\n",
              "      <td>643.0</td>\n",
              "      <td>595.00</td>\n",
              "    </tr>\n",
              "    <tr>\n",
              "      <th>1</th>\n",
              "      <td>1</td>\n",
              "      <td>1</td>\n",
              "      <td>LOFT</td>\n",
              "      <td>0.000000</td>\n",
              "      <td>1</td>\n",
              "      <td>45.875000</td>\n",
              "      <td>94.750000</td>\n",
              "      <td>23.296875</td>\n",
              "      <td>1.391602</td>\n",
              "      <td>2.060547</td>\n",
              "      <td>-5.144531</td>\n",
              "      <td>6.394531</td>\n",
              "      <td>33.406250</td>\n",
              "      <td>-295.000000</td>\n",
              "      <td>8.375000</td>\n",
              "      <td>29.640625</td>\n",
              "      <td>16.218750</td>\n",
              "      <td>850.500000</td>\n",
              "      <td>19.890625</td>\n",
              "      <td>-215.125000</td>\n",
              "      <td>2.119141</td>\n",
              "      <td>7.339844</td>\n",
              "      <td>9.664062</td>\n",
              "      <td>1169.000000</td>\n",
              "      <td>-0.024414</td>\n",
              "      <td>-3336.0</td>\n",
              "      <td>826.5</td>\n",
              "      <td>136.25</td>\n",
              "    </tr>\n",
              "    <tr>\n",
              "      <th>2</th>\n",
              "      <td>2</td>\n",
              "      <td>1</td>\n",
              "      <td>LOFT</td>\n",
              "      <td>0.003906</td>\n",
              "      <td>0</td>\n",
              "      <td>33.125000</td>\n",
              "      <td>28.359375</td>\n",
              "      <td>-7.238281</td>\n",
              "      <td>-7.691406</td>\n",
              "      <td>-25.828125</td>\n",
              "      <td>-107.250000</td>\n",
              "      <td>12.843750</td>\n",
              "      <td>1.214844</td>\n",
              "      <td>13.320312</td>\n",
              "      <td>44.437500</td>\n",
              "      <td>37.593750</td>\n",
              "      <td>29.078125</td>\n",
              "      <td>22.312500</td>\n",
              "      <td>-7.640625</td>\n",
              "      <td>-10.367188</td>\n",
              "      <td>10.953125</td>\n",
              "      <td>6.511719</td>\n",
              "      <td>36.031250</td>\n",
              "      <td>24.359375</td>\n",
              "      <td>0.956055</td>\n",
              "      <td>-7324.0</td>\n",
              "      <td>643.0</td>\n",
              "      <td>595.00</td>\n",
              "    </tr>\n",
              "    <tr>\n",
              "      <th>3</th>\n",
              "      <td>3</td>\n",
              "      <td>1</td>\n",
              "      <td>LOFT</td>\n",
              "      <td>0.003906</td>\n",
              "      <td>1</td>\n",
              "      <td>43.281250</td>\n",
              "      <td>95.875000</td>\n",
              "      <td>18.703125</td>\n",
              "      <td>-1.432617</td>\n",
              "      <td>-4.234375</td>\n",
              "      <td>-8.023438</td>\n",
              "      <td>7.425781</td>\n",
              "      <td>27.343750</td>\n",
              "      <td>-310.250000</td>\n",
              "      <td>5.390625</td>\n",
              "      <td>27.734375</td>\n",
              "      <td>7.218750</td>\n",
              "      <td>816.500000</td>\n",
              "      <td>13.828125</td>\n",
              "      <td>-214.250000</td>\n",
              "      <td>-4.914062</td>\n",
              "      <td>3.503906</td>\n",
              "      <td>3.878906</td>\n",
              "      <td>1159.000000</td>\n",
              "      <td>-0.047607</td>\n",
              "      <td>-3336.0</td>\n",
              "      <td>826.5</td>\n",
              "      <td>136.25</td>\n",
              "    </tr>\n",
              "    <tr>\n",
              "      <th>4</th>\n",
              "      <td>4</td>\n",
              "      <td>1</td>\n",
              "      <td>LOFT</td>\n",
              "      <td>0.007812</td>\n",
              "      <td>0</td>\n",
              "      <td>7.929688</td>\n",
              "      <td>3.460938</td>\n",
              "      <td>-10.859375</td>\n",
              "      <td>-26.359375</td>\n",
              "      <td>-25.890625</td>\n",
              "      <td>37.000000</td>\n",
              "      <td>-50.343750</td>\n",
              "      <td>-11.679688</td>\n",
              "      <td>-1.143555</td>\n",
              "      <td>-17.593750</td>\n",
              "      <td>34.062500</td>\n",
              "      <td>22.906250</td>\n",
              "      <td>19.031250</td>\n",
              "      <td>2.044922</td>\n",
              "      <td>-20.781250</td>\n",
              "      <td>-3.613281</td>\n",
              "      <td>-7.539062</td>\n",
              "      <td>3.083984</td>\n",
              "      <td>13.648438</td>\n",
              "      <td>1.473633</td>\n",
              "      <td>-7324.0</td>\n",
              "      <td>643.0</td>\n",
              "      <td>595.00</td>\n",
              "    </tr>\n",
              "  </tbody>\n",
              "</table>\n",
              "</div>"
            ],
            "text/plain": [
              "   id  crew experiment      time  ...    eeg_o2     ecg      r     gsr\n",
              "0   0     1       LOFT  0.000000  ... -8.140625 -7324.0  643.0  595.00\n",
              "1   1     1       LOFT  0.000000  ... -0.024414 -3336.0  826.5  136.25\n",
              "2   2     1       LOFT  0.003906  ...  0.956055 -7324.0  643.0  595.00\n",
              "3   3     1       LOFT  0.003906  ... -0.047607 -3336.0  826.5  136.25\n",
              "4   4     1       LOFT  0.007812  ...  1.473633 -7324.0  643.0  595.00\n",
              "\n",
              "[5 rows x 28 columns]"
            ]
          },
          "metadata": {
            "tags": []
          },
          "execution_count": 7
        }
      ]
    },
    {
      "cell_type": "code",
      "metadata": {
        "id": "UsXfmHy_KmgW",
        "colab_type": "code",
        "colab": {}
      },
      "source": [
        "df_sub = pd.DataFrame()\n",
        "df_sub['id'] = test['id']\n",
        "test = test.drop('id',axis=1)"
      ],
      "execution_count": null,
      "outputs": []
    },
    {
      "cell_type": "code",
      "metadata": {
        "id": "9ZEuBlkMeYPW",
        "colab_type": "code",
        "colab": {}
      },
      "source": [
        "test['pilot']= 100*test['seat']+test['crew']"
      ],
      "execution_count": null,
      "outputs": []
    },
    {
      "cell_type": "code",
      "metadata": {
        "id": "vEoGXIpWGdVV",
        "colab_type": "code",
        "colab": {}
      },
      "source": [
        "test = test[['crew', 'experiment', 'time', 'seat', 'eeg_fp1', 'eeg_f7', 'eeg_f8',\n",
        "       'eeg_t4', 'eeg_t6', 'eeg_t5', 'eeg_t3', 'eeg_fp2', 'eeg_o1', 'eeg_p3',\n",
        "       'eeg_pz', 'eeg_f3', 'eeg_fz', 'eeg_f4', 'eeg_c4', 'eeg_p4', 'eeg_poz',\n",
        "       'eeg_c3', 'eeg_cz', 'eeg_o2', 'ecg', 'r', 'gsr','pilot']]"
      ],
      "execution_count": null,
      "outputs": []
    },
    {
      "cell_type": "code",
      "metadata": {
        "id": "4vrSP76JmGfF",
        "colab_type": "code",
        "colab": {
          "base_uri": "https://localhost:8080/",
          "height": 224
        },
        "outputId": "1a2d5a3a-1a87-4721-af42-74e1fae95d2b"
      },
      "source": [
        "test.head()"
      ],
      "execution_count": null,
      "outputs": [
        {
          "output_type": "execute_result",
          "data": {
            "text/html": [
              "<div>\n",
              "<style scoped>\n",
              "    .dataframe tbody tr th:only-of-type {\n",
              "        vertical-align: middle;\n",
              "    }\n",
              "\n",
              "    .dataframe tbody tr th {\n",
              "        vertical-align: top;\n",
              "    }\n",
              "\n",
              "    .dataframe thead th {\n",
              "        text-align: right;\n",
              "    }\n",
              "</style>\n",
              "<table border=\"1\" class=\"dataframe\">\n",
              "  <thead>\n",
              "    <tr style=\"text-align: right;\">\n",
              "      <th></th>\n",
              "      <th>crew</th>\n",
              "      <th>experiment</th>\n",
              "      <th>time</th>\n",
              "      <th>seat</th>\n",
              "      <th>eeg_fp1</th>\n",
              "      <th>eeg_f7</th>\n",
              "      <th>eeg_f8</th>\n",
              "      <th>eeg_t4</th>\n",
              "      <th>eeg_t6</th>\n",
              "      <th>eeg_t5</th>\n",
              "      <th>eeg_t3</th>\n",
              "      <th>eeg_fp2</th>\n",
              "      <th>eeg_o1</th>\n",
              "      <th>eeg_p3</th>\n",
              "      <th>eeg_pz</th>\n",
              "      <th>eeg_f3</th>\n",
              "      <th>eeg_fz</th>\n",
              "      <th>eeg_f4</th>\n",
              "      <th>eeg_c4</th>\n",
              "      <th>eeg_p4</th>\n",
              "      <th>eeg_poz</th>\n",
              "      <th>eeg_c3</th>\n",
              "      <th>eeg_cz</th>\n",
              "      <th>eeg_o2</th>\n",
              "      <th>ecg</th>\n",
              "      <th>r</th>\n",
              "      <th>gsr</th>\n",
              "      <th>pilot</th>\n",
              "    </tr>\n",
              "  </thead>\n",
              "  <tbody>\n",
              "    <tr>\n",
              "      <th>0</th>\n",
              "      <td>1</td>\n",
              "      <td>LOFT</td>\n",
              "      <td>0.000000</td>\n",
              "      <td>0</td>\n",
              "      <td>17.906250</td>\n",
              "      <td>6.128906</td>\n",
              "      <td>0.994629</td>\n",
              "      <td>-28.203125</td>\n",
              "      <td>-47.687500</td>\n",
              "      <td>-187.125000</td>\n",
              "      <td>-33.187500</td>\n",
              "      <td>-4.222656</td>\n",
              "      <td>8.179688</td>\n",
              "      <td>33.156250</td>\n",
              "      <td>33.812500</td>\n",
              "      <td>21.750000</td>\n",
              "      <td>16.296875</td>\n",
              "      <td>-7.042969</td>\n",
              "      <td>-14.406250</td>\n",
              "      <td>-4.035156</td>\n",
              "      <td>-0.393799</td>\n",
              "      <td>31.843750</td>\n",
              "      <td>17.078125</td>\n",
              "      <td>-8.140625</td>\n",
              "      <td>-7324.0</td>\n",
              "      <td>643.0</td>\n",
              "      <td>595.00</td>\n",
              "      <td>100</td>\n",
              "    </tr>\n",
              "    <tr>\n",
              "      <th>1</th>\n",
              "      <td>1</td>\n",
              "      <td>LOFT</td>\n",
              "      <td>0.000000</td>\n",
              "      <td>1</td>\n",
              "      <td>45.875000</td>\n",
              "      <td>94.750000</td>\n",
              "      <td>23.296875</td>\n",
              "      <td>1.391602</td>\n",
              "      <td>2.060547</td>\n",
              "      <td>-5.144531</td>\n",
              "      <td>6.394531</td>\n",
              "      <td>33.406250</td>\n",
              "      <td>-295.000000</td>\n",
              "      <td>8.375000</td>\n",
              "      <td>29.640625</td>\n",
              "      <td>16.218750</td>\n",
              "      <td>850.500000</td>\n",
              "      <td>19.890625</td>\n",
              "      <td>-215.125000</td>\n",
              "      <td>2.119141</td>\n",
              "      <td>7.339844</td>\n",
              "      <td>9.664062</td>\n",
              "      <td>1169.000000</td>\n",
              "      <td>-0.024414</td>\n",
              "      <td>-3336.0</td>\n",
              "      <td>826.5</td>\n",
              "      <td>136.25</td>\n",
              "      <td>101</td>\n",
              "    </tr>\n",
              "    <tr>\n",
              "      <th>2</th>\n",
              "      <td>1</td>\n",
              "      <td>LOFT</td>\n",
              "      <td>0.003906</td>\n",
              "      <td>0</td>\n",
              "      <td>33.125000</td>\n",
              "      <td>28.359375</td>\n",
              "      <td>-7.238281</td>\n",
              "      <td>-7.691406</td>\n",
              "      <td>-25.828125</td>\n",
              "      <td>-107.250000</td>\n",
              "      <td>12.843750</td>\n",
              "      <td>1.214844</td>\n",
              "      <td>13.320312</td>\n",
              "      <td>44.437500</td>\n",
              "      <td>37.593750</td>\n",
              "      <td>29.078125</td>\n",
              "      <td>22.312500</td>\n",
              "      <td>-7.640625</td>\n",
              "      <td>-10.367188</td>\n",
              "      <td>10.953125</td>\n",
              "      <td>6.511719</td>\n",
              "      <td>36.031250</td>\n",
              "      <td>24.359375</td>\n",
              "      <td>0.956055</td>\n",
              "      <td>-7324.0</td>\n",
              "      <td>643.0</td>\n",
              "      <td>595.00</td>\n",
              "      <td>100</td>\n",
              "    </tr>\n",
              "    <tr>\n",
              "      <th>3</th>\n",
              "      <td>1</td>\n",
              "      <td>LOFT</td>\n",
              "      <td>0.003906</td>\n",
              "      <td>1</td>\n",
              "      <td>43.281250</td>\n",
              "      <td>95.875000</td>\n",
              "      <td>18.703125</td>\n",
              "      <td>-1.432617</td>\n",
              "      <td>-4.234375</td>\n",
              "      <td>-8.023438</td>\n",
              "      <td>7.425781</td>\n",
              "      <td>27.343750</td>\n",
              "      <td>-310.250000</td>\n",
              "      <td>5.390625</td>\n",
              "      <td>27.734375</td>\n",
              "      <td>7.218750</td>\n",
              "      <td>816.500000</td>\n",
              "      <td>13.828125</td>\n",
              "      <td>-214.250000</td>\n",
              "      <td>-4.914062</td>\n",
              "      <td>3.503906</td>\n",
              "      <td>3.878906</td>\n",
              "      <td>1159.000000</td>\n",
              "      <td>-0.047607</td>\n",
              "      <td>-3336.0</td>\n",
              "      <td>826.5</td>\n",
              "      <td>136.25</td>\n",
              "      <td>101</td>\n",
              "    </tr>\n",
              "    <tr>\n",
              "      <th>4</th>\n",
              "      <td>1</td>\n",
              "      <td>LOFT</td>\n",
              "      <td>0.007812</td>\n",
              "      <td>0</td>\n",
              "      <td>7.929688</td>\n",
              "      <td>3.460938</td>\n",
              "      <td>-10.859375</td>\n",
              "      <td>-26.359375</td>\n",
              "      <td>-25.890625</td>\n",
              "      <td>37.000000</td>\n",
              "      <td>-50.343750</td>\n",
              "      <td>-11.679688</td>\n",
              "      <td>-1.143555</td>\n",
              "      <td>-17.593750</td>\n",
              "      <td>34.062500</td>\n",
              "      <td>22.906250</td>\n",
              "      <td>19.031250</td>\n",
              "      <td>2.044922</td>\n",
              "      <td>-20.781250</td>\n",
              "      <td>-3.613281</td>\n",
              "      <td>-7.539062</td>\n",
              "      <td>3.083984</td>\n",
              "      <td>13.648438</td>\n",
              "      <td>1.473633</td>\n",
              "      <td>-7324.0</td>\n",
              "      <td>643.0</td>\n",
              "      <td>595.00</td>\n",
              "      <td>100</td>\n",
              "    </tr>\n",
              "  </tbody>\n",
              "</table>\n",
              "</div>"
            ],
            "text/plain": [
              "   crew experiment      time  seat  ...     ecg      r     gsr  pilot\n",
              "0     1       LOFT  0.000000     0  ... -7324.0  643.0  595.00    100\n",
              "1     1       LOFT  0.000000     1  ... -3336.0  826.5  136.25    101\n",
              "2     1       LOFT  0.003906     0  ... -7324.0  643.0  595.00    100\n",
              "3     1       LOFT  0.003906     1  ... -3336.0  826.5  136.25    101\n",
              "4     1       LOFT  0.007812     0  ... -7324.0  643.0  595.00    100\n",
              "\n",
              "[5 rows x 28 columns]"
            ]
          },
          "metadata": {
            "tags": []
          },
          "execution_count": 11
        }
      ]
    },
    {
      "cell_type": "code",
      "metadata": {
        "id": "vnnL86jMKwU4",
        "colab_type": "code",
        "colab": {}
      },
      "source": [
        "y_pred = model.predict(test, num_iteration=model.best_iteration)"
      ],
      "execution_count": null,
      "outputs": []
    },
    {
      "cell_type": "code",
      "metadata": {
        "id": "ES4OGk9gkeb8",
        "colab_type": "code",
        "colab": {
          "base_uri": "https://localhost:8080/",
          "height": 136
        },
        "outputId": "e28b706b-cb6a-4d4a-c06f-7b7b7bd7e2cd"
      },
      "source": [
        "y_pred"
      ],
      "execution_count": null,
      "outputs": [
        {
          "output_type": "execute_result",
          "data": {
            "text/plain": [
              "array([[9.99926747e-01, 5.67305914e-06, 5.64473263e-05, 1.11321791e-05],\n",
              "       [9.99926818e-01, 5.65439506e-06, 5.62616175e-05, 1.12658535e-05],\n",
              "       [9.99925448e-01, 5.77371003e-06, 5.74488096e-05, 1.13296852e-05],\n",
              "       ...,\n",
              "       [9.99862109e-01, 1.06516382e-05, 1.05984529e-04, 2.12546447e-05],\n",
              "       [9.99822433e-01, 1.37691356e-05, 1.37003840e-04, 2.67943210e-05],\n",
              "       [9.99862623e-01, 1.06223633e-05, 1.05693241e-04, 2.10615035e-05]])"
            ]
          },
          "metadata": {
            "tags": []
          },
          "execution_count": 13
        }
      ]
    },
    {
      "cell_type": "code",
      "metadata": {
        "id": "L5Nw9yX5z5eq",
        "colab_type": "code",
        "colab": {}
      },
      "source": [
        "import os\n",
        "os.chdir('/content/drive/My Drive/ML case study/results')"
      ],
      "execution_count": null,
      "outputs": []
    },
    {
      "cell_type": "code",
      "metadata": {
        "id": "BDjjXCOekoWv",
        "colab_type": "code",
        "colab": {
          "base_uri": "https://localhost:8080/",
          "height": 34
        },
        "outputId": "370e89ab-0519-4647-ad12-16cfd3cfc6eb"
      },
      "source": [
        "import joblib\n",
        "joblib.dump(y_pred,'all_feature_model_with_pilot_output.pkl')"
      ],
      "execution_count": null,
      "outputs": [
        {
          "output_type": "execute_result",
          "data": {
            "text/plain": [
              "['all_feature_model_with_pilot_output.pkl']"
            ]
          },
          "metadata": {
            "tags": []
          },
          "execution_count": 15
        }
      ]
    },
    {
      "cell_type": "code",
      "metadata": {
        "id": "kgQ3o9Wqz3_t",
        "colab_type": "code",
        "colab": {
          "base_uri": "https://localhost:8080/",
          "height": 255
        },
        "outputId": "22692fb7-3400-4f9e-dd7b-17491718b23e"
      },
      "source": [
        "df_sub = pd.DataFrame(np.concatenate((np.arange(len(test))[:, np.newaxis], y_pred), axis=1), columns=['id', 'A', 'B', 'C', 'D'])\n",
        "df_sub['id'] = df_sub['id'].astype(int)\n",
        "print(df_sub)\n",
        "df_sub.to_csv(\"all_feature_model_with_pilot_output.csv\", index=False)"
      ],
      "execution_count": null,
      "outputs": [
        {
          "output_type": "stream",
          "text": [
            "                id         A         B         C         D\n",
            "0                0  0.999927  0.000006  0.000056  0.000011\n",
            "1                1  0.999927  0.000006  0.000056  0.000011\n",
            "2                2  0.999925  0.000006  0.000057  0.000011\n",
            "3                3  0.999927  0.000006  0.000056  0.000011\n",
            "4                4  0.999928  0.000006  0.000055  0.000011\n",
            "...            ...       ...       ...       ...       ...\n",
            "17965138  17965138  0.999863  0.000011  0.000105  0.000021\n",
            "17965139  17965139  0.999822  0.000014  0.000137  0.000027\n",
            "17965140  17965140  0.999862  0.000011  0.000106  0.000021\n",
            "17965141  17965141  0.999822  0.000014  0.000137  0.000027\n",
            "17965142  17965142  0.999863  0.000011  0.000106  0.000021\n",
            "\n",
            "[17965143 rows x 5 columns]\n"
          ],
          "name": "stdout"
        }
      ]
    },
    {
      "cell_type": "markdown",
      "metadata": {
        "id": "QuYpTZrKOJ7Q",
        "colab_type": "text"
      },
      "source": [
        "After creating pilot feature"
      ]
    },
    {
      "cell_type": "markdown",
      "metadata": {
        "id": "HnP2q4gAOIg6",
        "colab_type": "text"
      },
      "source": [
        "![image.png](data:image/png;base64,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)"
      ]
    },
    {
      "cell_type": "code",
      "metadata": {
        "id": "Fv_se51S0Wlh",
        "colab_type": "code",
        "colab": {}
      },
      "source": [
        ""
      ],
      "execution_count": null,
      "outputs": []
    }
  ]
}
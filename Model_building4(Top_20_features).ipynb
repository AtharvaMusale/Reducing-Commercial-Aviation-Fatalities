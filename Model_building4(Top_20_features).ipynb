{
  "nbformat": 4,
  "nbformat_minor": 0,
  "metadata": {
    "colab": {
      "name": "Model_building4(Top_20_features).ipynb",
      "provenance": [],
      "collapsed_sections": [],
      "toc_visible": true
    },
    "kernelspec": {
      "name": "python3",
      "display_name": "Python 3"
    },
    "accelerator": "GPU"
  },
  "cells": [
    {
      "cell_type": "markdown",
      "metadata": {
        "id": "OLz44B1FQOXh",
        "colab_type": "text"
      },
      "source": [
        "**In this notebook I am trying to pick top 20 features after using 12 features in one of my previous notebook since results were not very bad in the previous notebook I thought that I should try picking out 20 top features with pilot feature making 21 in total and see what are the results using those**"
      ]
    },
    {
      "cell_type": "code",
      "metadata": {
        "id": "TlrWflB42JrP",
        "colab_type": "code",
        "colab": {
          "base_uri": "https://localhost:8080/",
          "height": 224
        },
        "outputId": "ea158dc8-d367-4822-f17a-f9dba2f45684"
      },
      "source": [
        "!wget --header=\"Host: storage.googleapis.com\" --header=\"User-Agent: Mozilla/5.0 (X11; Linux x86_64) AppleWebKit/537.36 (KHTML, like Gecko) Chrome/84.0.4147.105 Safari/537.36\" --header=\"Accept: text/html,application/xhtml+xml,application/xml;q=0.9,image/webp,image/apng,*/*;q=0.8,application/signed-exchange;v=b3;q=0.9\" --header=\"Accept-Language: en-GB,en-US;q=0.9,en;q=0.8\" --header=\"Referer: https://www.kaggle.com/\" \"https://storage.googleapis.com/kaggle-competitions-data/kaggle-v2/11835/224935/compressed/train.csv.zip?GoogleAccessId=web-data@kaggle-161607.iam.gserviceaccount.com&Expires=1596891716&Signature=MCKpY0KXos%2BWUBwZUS7riqVdW4b7GiykWFS%2BQz3bnMxj8o4KMtv1ieGQZgx2Mtmo1waGXOZxsLdjhdIvRUjVUAGhv6WceEUwRNkfcgdL0c%2BorfGNFEFHekdIEIM6sUtc7dBMyq29aWK%2F0h1V0QN9Uw62kRNHaxO7A8xgXdL9AfBCJCSMwJ2QuqMGduy0wnrOE4WXHiEE99BJhR51kw5bUUi7JAzSSO9g3NapGYJsh%2BXXmLcjONGz%2BrKYZ4vwl49jHpEGKaiO%2B3yfDqW5kLNhCK8GKglxB10Z2ZU091Ltx9SIVhkfGjekgZyOIBpN2x%2F6iS9M0ZDCSOgPbAIFflPGhg%3D%3D&response-content-disposition=attachment%3B+filename%3Dtrain.csv.zip\" -c -O 'train.csv.zip'"
      ],
      "execution_count": null,
      "outputs": [
        {
          "output_type": "stream",
          "text": [
            "--2020-08-06 04:11:26--  https://storage.googleapis.com/kaggle-competitions-data/kaggle-v2/11835/224935/compressed/train.csv.zip?GoogleAccessId=web-data@kaggle-161607.iam.gserviceaccount.com&Expires=1596891716&Signature=MCKpY0KXos%2BWUBwZUS7riqVdW4b7GiykWFS%2BQz3bnMxj8o4KMtv1ieGQZgx2Mtmo1waGXOZxsLdjhdIvRUjVUAGhv6WceEUwRNkfcgdL0c%2BorfGNFEFHekdIEIM6sUtc7dBMyq29aWK%2F0h1V0QN9Uw62kRNHaxO7A8xgXdL9AfBCJCSMwJ2QuqMGduy0wnrOE4WXHiEE99BJhR51kw5bUUi7JAzSSO9g3NapGYJsh%2BXXmLcjONGz%2BrKYZ4vwl49jHpEGKaiO%2B3yfDqW5kLNhCK8GKglxB10Z2ZU091Ltx9SIVhkfGjekgZyOIBpN2x%2F6iS9M0ZDCSOgPbAIFflPGhg%3D%3D&response-content-disposition=attachment%3B+filename%3Dtrain.csv.zip\n",
            "Resolving storage.googleapis.com (storage.googleapis.com)... 173.194.69.128, 173.194.79.128, 108.177.119.128, ...\n",
            "Connecting to storage.googleapis.com (storage.googleapis.com)|173.194.69.128|:443... connected.\n",
            "HTTP request sent, awaiting response... 200 OK\n",
            "Length: 456337398 (435M) [application/zip]\n",
            "Saving to: ‘train.csv.zip’\n",
            "\n",
            "train.csv.zip       100%[===================>] 435.20M  70.6MB/s    in 7.2s    \n",
            "\n",
            "2020-08-06 04:11:34 (60.8 MB/s) - ‘train.csv.zip’ saved [456337398/456337398]\n",
            "\n"
          ],
          "name": "stdout"
        }
      ]
    },
    {
      "cell_type": "code",
      "metadata": {
        "id": "0ZXPWXLB2cwi",
        "colab_type": "code",
        "colab": {
          "base_uri": "https://localhost:8080/",
          "height": 51
        },
        "outputId": "079a947e-20d2-4636-a05d-7869c087d80d"
      },
      "source": [
        "!unzip train.csv.zip"
      ],
      "execution_count": null,
      "outputs": [
        {
          "output_type": "stream",
          "text": [
            "Archive:  train.csv.zip\n",
            "  inflating: train.csv               \n"
          ],
          "name": "stdout"
        }
      ]
    },
    {
      "cell_type": "code",
      "metadata": {
        "id": "4H9aJHmg2gJz",
        "colab_type": "code",
        "colab": {
          "base_uri": "https://localhost:8080/",
          "height": 224
        },
        "outputId": "122681f8-d666-4236-e1c3-f13ec116f9a8"
      },
      "source": [
        "!wget --header=\"Host: storage.googleapis.com\" --header=\"User-Agent: Mozilla/5.0 (X11; Linux x86_64) AppleWebKit/537.36 (KHTML, like Gecko) Chrome/84.0.4147.105 Safari/537.36\" --header=\"Accept: text/html,application/xhtml+xml,application/xml;q=0.9,image/webp,image/apng,*/*;q=0.8,application/signed-exchange;v=b3;q=0.9\" --header=\"Accept-Language: en-GB,en-US;q=0.9,en;q=0.8\" --header=\"Referer: https://www.kaggle.com/\" \"https://storage.googleapis.com/kaggle-competitions-data/kaggle-v2/11835/224935/compressed/test.csv.zip?GoogleAccessId=web-data@kaggle-161607.iam.gserviceaccount.com&Expires=1596891757&Signature=bjWisHQtx8jjPi2pj6S4wSnRT%2FhKcPZW4wjJWGbh8gYHBeSqI1jKA0B4DYZuf7VfkaiRAzUcUcPIBJjOrzPVU3pvPHjrwzYU9VgWOcWfQF4vm7zHnjxpnfcwCWO8BenLgGLwK9%2B9BmNCHKBV5R6DE%2BwZvfaraCVHKM5mUwne9MXhR7VoaFVAHAh4T%2B3W7ibgqgzaU2ycBxSA8eE3nWZBCuPcXts9XyLAE8ZKqvQhCATBjE3hsz8eKDCwTUtbBU9oxc8e5WE%2Fn0ZkLw6pd9OYFXZSDlNj5Rje%2BVTSJIiH9Vuln7AihRSObRvFRoIfd2V0fAgQz3LncqEukE1bGAkXuA%3D%3D&response-content-disposition=attachment%3B+filename%3Dtest.csv.zip\" -c -O 'test.csv.zip'"
      ],
      "execution_count": null,
      "outputs": [
        {
          "output_type": "stream",
          "text": [
            "--2020-08-06 04:11:53--  https://storage.googleapis.com/kaggle-competitions-data/kaggle-v2/11835/224935/compressed/test.csv.zip?GoogleAccessId=web-data@kaggle-161607.iam.gserviceaccount.com&Expires=1596891757&Signature=bjWisHQtx8jjPi2pj6S4wSnRT%2FhKcPZW4wjJWGbh8gYHBeSqI1jKA0B4DYZuf7VfkaiRAzUcUcPIBJjOrzPVU3pvPHjrwzYU9VgWOcWfQF4vm7zHnjxpnfcwCWO8BenLgGLwK9%2B9BmNCHKBV5R6DE%2BwZvfaraCVHKM5mUwne9MXhR7VoaFVAHAh4T%2B3W7ibgqgzaU2ycBxSA8eE3nWZBCuPcXts9XyLAE8ZKqvQhCATBjE3hsz8eKDCwTUtbBU9oxc8e5WE%2Fn0ZkLw6pd9OYFXZSDlNj5Rje%2BVTSJIiH9Vuln7AihRSObRvFRoIfd2V0fAgQz3LncqEukE1bGAkXuA%3D%3D&response-content-disposition=attachment%3B+filename%3Dtest.csv.zip\n",
            "Resolving storage.googleapis.com (storage.googleapis.com)... 108.177.126.128, 108.177.127.128, 2a00:1450:4013:c01::80, ...\n",
            "Connecting to storage.googleapis.com (storage.googleapis.com)|108.177.126.128|:443... connected.\n",
            "HTTP request sent, awaiting response... 200 OK\n",
            "Length: 1791131386 (1.7G) [application/zip]\n",
            "Saving to: ‘test.csv.zip’\n",
            "\n",
            "test.csv.zip        100%[===================>]   1.67G  18.3MB/s    in 37s     \n",
            "\n",
            "2020-08-06 04:12:31 (46.8 MB/s) - ‘test.csv.zip’ saved [1791131386/1791131386]\n",
            "\n"
          ],
          "name": "stdout"
        }
      ]
    },
    {
      "cell_type": "code",
      "metadata": {
        "id": "wPiSvv2w2hsP",
        "colab_type": "code",
        "colab": {
          "base_uri": "https://localhost:8080/",
          "height": 51
        },
        "outputId": "e099685c-c5b4-4700-988b-9d3adcc7d775"
      },
      "source": [
        "! unzip test.csv"
      ],
      "execution_count": null,
      "outputs": [
        {
          "output_type": "stream",
          "text": [
            "Archive:  test.csv.zip\n",
            "  inflating: test.csv                \n"
          ],
          "name": "stdout"
        }
      ]
    },
    {
      "cell_type": "code",
      "metadata": {
        "id": "m6PlsBiB2kRL",
        "colab_type": "code",
        "colab": {
          "base_uri": "https://localhost:8080/",
          "height": 105
        },
        "outputId": "ba0f999a-041d-42cc-af9d-dcb0483890b7"
      },
      "source": [
        "import warnings\n",
        "import itertools\n",
        "import numpy as np \n",
        "import pandas as pd\n",
        "import seaborn as sns\n",
        "import lightgbm as lgb\n",
        "import matplotlib.pyplot as plt\n",
        "from tqdm import tqdm_notebook as tqdm\n",
        "from sklearn.preprocessing import MinMaxScaler\n",
        "from sklearn.model_selection import train_test_split\n",
        "from sklearn.metrics import confusion_matrix, log_loss\n",
        "import dask.dataframe as dd\n",
        "import dask\n",
        "import gc\n",
        "\n",
        "from yellowbrick.text import TSNEVisualizer\n",
        "\n",
        "%matplotlib inline\n",
        "plt.style.use(\"fivethirtyeight\")\n",
        "\n",
        "# import os\n",
        "# print(os.listdir(\"../input\"))\n",
        "\n",
        "warnings.filterwarnings(action='ignore')\n",
        "sns.set_style('whitegrid')"
      ],
      "execution_count": null,
      "outputs": [
        {
          "output_type": "stream",
          "text": [
            "/usr/local/lib/python3.6/dist-packages/statsmodels/tools/_testing.py:19: FutureWarning: pandas.util.testing is deprecated. Use the functions in the public API at pandas.testing instead.\n",
            "  import pandas.util.testing as tm\n",
            "/usr/local/lib/python3.6/dist-packages/sklearn/utils/deprecation.py:144: FutureWarning: The sklearn.metrics.classification module is  deprecated in version 0.22 and will be removed in version 0.24. The corresponding classes / functions should instead be imported from sklearn.metrics. Anything that cannot be imported from sklearn.metrics is now part of the private API.\n",
            "  warnings.warn(message, FutureWarning)\n"
          ],
          "name": "stderr"
        }
      ]
    },
    {
      "cell_type": "code",
      "metadata": {
        "id": "BvJeCwht3xr2",
        "colab_type": "code",
        "colab": {}
      },
      "source": [
        "# This is to be used for memory optimization because the data is very large.\n",
        "def reduce_mem_usage(df):\n",
        "    \"\"\" iterate through all the columns of a dataframe and modify the data type\n",
        "        to reduce memory usage.        \n",
        "    \"\"\"\n",
        "    start_mem = df.memory_usage().sum() / 1024**2\n",
        "    print('Memory usage of dataframe is {:.2f} MB'.format(start_mem))\n",
        "    \n",
        "    for col in df.columns:\n",
        "        col_type = df[col].dtype\n",
        "        \n",
        "        if col_type != object:\n",
        "            c_min = df[col].min()\n",
        "            c_max = df[col].max()\n",
        "            if str(col_type)[:3] == 'int':\n",
        "                if c_min > np.iinfo(np.int8).min and c_max < np.iinfo(np.int8).max:\n",
        "                    df[col] = df[col].astype(np.int8)\n",
        "                elif c_min > np.iinfo(np.int16).min and c_max < np.iinfo(np.int16).max:\n",
        "                    df[col] = df[col].astype(np.int16)\n",
        "                elif c_min > np.iinfo(np.int32).min and c_max < np.iinfo(np.int32).max:\n",
        "                    df[col] = df[col].astype(np.int32)\n",
        "                elif c_min > np.iinfo(np.int64).min and c_max < np.iinfo(np.int64).max:\n",
        "                    df[col] = df[col].astype(np.int64)  \n",
        "            else:\n",
        "                if c_min > np.finfo(np.float16).min and c_max < np.finfo(np.float16).max:\n",
        "                    df[col] = df[col].astype(np.float16)\n",
        "                elif c_min > np.finfo(np.float32).min and c_max < np.finfo(np.float32).max:\n",
        "                    df[col] = df[col].astype(np.float32)\n",
        "                else:\n",
        "                    df[col] = df[col].astype(np.float64)\n",
        "        else:\n",
        "              df[col] = df[col].astype('category')\n",
        "\n",
        "    end_mem = df.memory_usage().sum() / 1024**2\n",
        "    print('Memory usage after optimization is: {:.2f} MB'.format(end_mem))\n",
        "    print('Decreased by {:.1f}%'.format(100 * (start_mem - end_mem) / start_mem))\n",
        "    \n",
        "    return df\n",
        "def featureModify(isTrain, numRows):\n",
        "    if isTrain:\n",
        "        df = dd.read_csv('train.csv',nrows=numRows) \n",
        "        df = df.compute()\n",
        "        # df['pilot'] = 100*df['crew']+df['seat']\n",
        "        df = reduce_mem_usage(df)\n",
        "        df['event'] = df['event'].map({\n",
        "            'A':0,\n",
        "            'B':1,\n",
        "            'C':2,\n",
        "            'D':3\n",
        "        })\n",
        "    else:\n",
        "        df = dd.read_csv('test.csv',nrows=numRows)\n",
        "        df = df.compute()\n",
        "        # df['pilot'] = 100*df['crew']+df['seat']\n",
        "        df = reduce_mem_usage(df)\n",
        "    \n",
        "    return df \n",
        "train = featureModify(True, None)\n",
        "y = train['event']\n",
        "train = train.drop('event',axis=1)\n",
        "print(train.shape)\n",
        "print(train.columns)"
      ],
      "execution_count": null,
      "outputs": []
    },
    {
      "cell_type": "code",
      "metadata": {
        "id": "bamSsNAD39zt",
        "colab_type": "code",
        "colab": {
          "base_uri": "https://localhost:8080/",
          "height": 224
        },
        "outputId": "014c909b-f7df-4354-c647-390b7722a41a"
      },
      "source": [
        "train.head()"
      ],
      "execution_count": null,
      "outputs": [
        {
          "output_type": "execute_result",
          "data": {
            "text/html": [
              "<div>\n",
              "<style scoped>\n",
              "    .dataframe tbody tr th:only-of-type {\n",
              "        vertical-align: middle;\n",
              "    }\n",
              "\n",
              "    .dataframe tbody tr th {\n",
              "        vertical-align: top;\n",
              "    }\n",
              "\n",
              "    .dataframe thead th {\n",
              "        text-align: right;\n",
              "    }\n",
              "</style>\n",
              "<table border=\"1\" class=\"dataframe\">\n",
              "  <thead>\n",
              "    <tr style=\"text-align: right;\">\n",
              "      <th></th>\n",
              "      <th>crew</th>\n",
              "      <th>experiment</th>\n",
              "      <th>time</th>\n",
              "      <th>seat</th>\n",
              "      <th>eeg_fp1</th>\n",
              "      <th>eeg_f7</th>\n",
              "      <th>eeg_f8</th>\n",
              "      <th>eeg_t4</th>\n",
              "      <th>eeg_t6</th>\n",
              "      <th>eeg_t5</th>\n",
              "      <th>eeg_t3</th>\n",
              "      <th>eeg_fp2</th>\n",
              "      <th>eeg_o1</th>\n",
              "      <th>eeg_p3</th>\n",
              "      <th>eeg_pz</th>\n",
              "      <th>eeg_f3</th>\n",
              "      <th>eeg_fz</th>\n",
              "      <th>eeg_f4</th>\n",
              "      <th>eeg_c4</th>\n",
              "      <th>eeg_p4</th>\n",
              "      <th>eeg_poz</th>\n",
              "      <th>eeg_c3</th>\n",
              "      <th>eeg_cz</th>\n",
              "      <th>eeg_o2</th>\n",
              "      <th>ecg</th>\n",
              "      <th>r</th>\n",
              "      <th>gsr</th>\n",
              "    </tr>\n",
              "  </thead>\n",
              "  <tbody>\n",
              "    <tr>\n",
              "      <th>0</th>\n",
              "      <td>1</td>\n",
              "      <td>CA</td>\n",
              "      <td>0.011719</td>\n",
              "      <td>1</td>\n",
              "      <td>-5.285156</td>\n",
              "      <td>26.781250</td>\n",
              "      <td>-9.523438</td>\n",
              "      <td>-12.796875</td>\n",
              "      <td>16.718750</td>\n",
              "      <td>33.75000</td>\n",
              "      <td>23.718750</td>\n",
              "      <td>-6.695312</td>\n",
              "      <td>29.234375</td>\n",
              "      <td>24.843750</td>\n",
              "      <td>3.921875</td>\n",
              "      <td>18.453125</td>\n",
              "      <td>1.075195</td>\n",
              "      <td>3.089844</td>\n",
              "      <td>37.375000</td>\n",
              "      <td>17.437500</td>\n",
              "      <td>19.203125</td>\n",
              "      <td>20.593750</td>\n",
              "      <td>-3.951172</td>\n",
              "      <td>14.507812</td>\n",
              "      <td>-4520.0</td>\n",
              "      <td>817.5</td>\n",
              "      <td>388.75</td>\n",
              "    </tr>\n",
              "    <tr>\n",
              "      <th>1</th>\n",
              "      <td>1</td>\n",
              "      <td>CA</td>\n",
              "      <td>0.015625</td>\n",
              "      <td>1</td>\n",
              "      <td>-2.427734</td>\n",
              "      <td>28.437500</td>\n",
              "      <td>-9.320312</td>\n",
              "      <td>-3.757812</td>\n",
              "      <td>15.968750</td>\n",
              "      <td>30.43750</td>\n",
              "      <td>21.015625</td>\n",
              "      <td>-6.476562</td>\n",
              "      <td>26.640625</td>\n",
              "      <td>24.140625</td>\n",
              "      <td>5.468750</td>\n",
              "      <td>20.515625</td>\n",
              "      <td>2.833984</td>\n",
              "      <td>7.101562</td>\n",
              "      <td>31.171875</td>\n",
              "      <td>19.406250</td>\n",
              "      <td>19.687500</td>\n",
              "      <td>21.359375</td>\n",
              "      <td>1.332031</td>\n",
              "      <td>17.750000</td>\n",
              "      <td>-4520.0</td>\n",
              "      <td>817.5</td>\n",
              "      <td>388.75</td>\n",
              "    </tr>\n",
              "    <tr>\n",
              "      <th>2</th>\n",
              "      <td>1</td>\n",
              "      <td>CA</td>\n",
              "      <td>0.019531</td>\n",
              "      <td>1</td>\n",
              "      <td>10.671875</td>\n",
              "      <td>30.421875</td>\n",
              "      <td>15.351562</td>\n",
              "      <td>24.718750</td>\n",
              "      <td>16.140625</td>\n",
              "      <td>32.15625</td>\n",
              "      <td>25.437500</td>\n",
              "      <td>-0.088684</td>\n",
              "      <td>28.125000</td>\n",
              "      <td>26.890625</td>\n",
              "      <td>8.578125</td>\n",
              "      <td>23.156250</td>\n",
              "      <td>4.519531</td>\n",
              "      <td>12.703125</td>\n",
              "      <td>-12.015625</td>\n",
              "      <td>19.390625</td>\n",
              "      <td>23.171875</td>\n",
              "      <td>22.406250</td>\n",
              "      <td>1.538086</td>\n",
              "      <td>22.250000</td>\n",
              "      <td>-4520.0</td>\n",
              "      <td>817.5</td>\n",
              "      <td>388.75</td>\n",
              "    </tr>\n",
              "    <tr>\n",
              "      <th>3</th>\n",
              "      <td>1</td>\n",
              "      <td>CA</td>\n",
              "      <td>0.023438</td>\n",
              "      <td>1</td>\n",
              "      <td>11.453125</td>\n",
              "      <td>25.609375</td>\n",
              "      <td>2.433594</td>\n",
              "      <td>12.414062</td>\n",
              "      <td>20.531250</td>\n",
              "      <td>31.50000</td>\n",
              "      <td>19.140625</td>\n",
              "      <td>-0.256592</td>\n",
              "      <td>30.656250</td>\n",
              "      <td>24.250000</td>\n",
              "      <td>8.640625</td>\n",
              "      <td>19.968750</td>\n",
              "      <td>7.277344</td>\n",
              "      <td>11.460938</td>\n",
              "      <td>18.578125</td>\n",
              "      <td>23.156250</td>\n",
              "      <td>22.640625</td>\n",
              "      <td>19.343750</td>\n",
              "      <td>2.544922</td>\n",
              "      <td>19.000000</td>\n",
              "      <td>-4520.0</td>\n",
              "      <td>817.5</td>\n",
              "      <td>388.75</td>\n",
              "    </tr>\n",
              "    <tr>\n",
              "      <th>4</th>\n",
              "      <td>1</td>\n",
              "      <td>CA</td>\n",
              "      <td>0.027344</td>\n",
              "      <td>1</td>\n",
              "      <td>7.285156</td>\n",
              "      <td>25.937500</td>\n",
              "      <td>0.113586</td>\n",
              "      <td>5.746094</td>\n",
              "      <td>19.828125</td>\n",
              "      <td>28.75000</td>\n",
              "      <td>20.578125</td>\n",
              "      <td>-1.953125</td>\n",
              "      <td>31.718750</td>\n",
              "      <td>25.156250</td>\n",
              "      <td>12.500000</td>\n",
              "      <td>18.750000</td>\n",
              "      <td>7.308594</td>\n",
              "      <td>8.007812</td>\n",
              "      <td>6.554688</td>\n",
              "      <td>22.750000</td>\n",
              "      <td>22.671875</td>\n",
              "      <td>20.296875</td>\n",
              "      <td>1.699219</td>\n",
              "      <td>22.812500</td>\n",
              "      <td>-4520.0</td>\n",
              "      <td>817.5</td>\n",
              "      <td>388.75</td>\n",
              "    </tr>\n",
              "  </tbody>\n",
              "</table>\n",
              "</div>"
            ],
            "text/plain": [
              "   crew experiment      time  seat  ...     eeg_o2     ecg      r     gsr\n",
              "0     1         CA  0.011719     1  ...  14.507812 -4520.0  817.5  388.75\n",
              "1     1         CA  0.015625     1  ...  17.750000 -4520.0  817.5  388.75\n",
              "2     1         CA  0.019531     1  ...  22.250000 -4520.0  817.5  388.75\n",
              "3     1         CA  0.023438     1  ...  19.000000 -4520.0  817.5  388.75\n",
              "4     1         CA  0.027344     1  ...  22.812500 -4520.0  817.5  388.75\n",
              "\n",
              "[5 rows x 27 columns]"
            ]
          },
          "metadata": {
            "tags": []
          },
          "execution_count": 3
        }
      ]
    },
    {
      "cell_type": "code",
      "metadata": {
        "id": "Glkw5Yks2L-W",
        "colab_type": "code",
        "colab": {}
      },
      "source": [
        "train['pilot'] = 100*train['crew']+train['seat']"
      ],
      "execution_count": null,
      "outputs": []
    },
    {
      "cell_type": "code",
      "metadata": {
        "id": "zJLBwINt4P9w",
        "colab_type": "code",
        "colab": {}
      },
      "source": [
        "train = train[['crew', 'eeg_fp1', 'eeg_f7', 'eeg_f8',\n",
        "       'eeg_t6', 'eeg_t3', 'eeg_fp2', 'eeg_o1','eeg_c3',\n",
        "       'eeg_pz', 'eeg_f3', 'eeg_fz', 'eeg_f4', 'eeg_c4', 'eeg_poz',\n",
        "       'eeg_cz', 'eeg_o2', 'ecg', 'r', 'gsr','pilot']]"
      ],
      "execution_count": null,
      "outputs": []
    },
    {
      "cell_type": "code",
      "metadata": {
        "id": "BoWTMq3uus8y",
        "colab_type": "code",
        "colab": {}
      },
      "source": [
        "# from sklearn.preprocessing import MinMaxScaler\n",
        "# ms = MinMaxScaler()\n",
        "# train['pilot'] = ms.fit_transform(np.array(train['pilot']).reshape(-1,1))"
      ],
      "execution_count": null,
      "outputs": []
    },
    {
      "cell_type": "code",
      "metadata": {
        "id": "iuaxucaN6qsA",
        "colab_type": "code",
        "colab": {
          "base_uri": "https://localhost:8080/",
          "height": 34
        },
        "outputId": "ab7cca2c-08ad-4dab-d484-c497a4879d64"
      },
      "source": [
        "train, train_test, y, y_test = train_test_split(train, y, test_size=0.2, shuffle=True)\n",
        "train = lgb.Dataset(train, label=y,categorical_feature=[1])\n",
        "del y\n",
        "gc.collect()\n",
        "\n",
        "train_test = lgb.Dataset(train_test, label=y_test,categorical_feature=[1])\n",
        "del y_test\n",
        "gc.collect()"
      ],
      "execution_count": null,
      "outputs": [
        {
          "output_type": "execute_result",
          "data": {
            "text/plain": [
              "0"
            ]
          },
          "metadata": {
            "tags": []
          },
          "execution_count": 6
        }
      ]
    },
    {
      "cell_type": "code",
      "metadata": {
        "id": "jMYPffWn7Ozw",
        "colab_type": "code",
        "colab": {
          "base_uri": "https://localhost:8080/",
          "height": 238
        },
        "outputId": "29662d6c-1673-4f19-e49c-9e836530a7a4"
      },
      "source": [
        "params = {\n",
        "        \"objective\" : \"multiclass\", \n",
        "        \"metric\" : \"multi_error\", \n",
        "        'num_class':4,\n",
        "        \"num_leaves\" : 30, \n",
        "        \"learning_rate\" : 0.01, \n",
        "        \"bagging_fraction\" : 0.9,\n",
        "        \"bagging_seed\" : 0, \n",
        "        \"num_threads\" : 4,\n",
        "        'min_data_in_leaf':100, \n",
        "        'min_split_gain':0.00019\n",
        "}\n",
        "\n",
        "model = lgb.train(  params, \n",
        "                    train_set = train,\n",
        "                    num_boost_round=1000,\n",
        "                    early_stopping_rounds=200,\n",
        "                    verbose_eval=100, \n",
        "                    valid_sets=[train,train_test]\n",
        "                  )"
      ],
      "execution_count": null,
      "outputs": [
        {
          "output_type": "stream",
          "text": [
            "Training until validation scores don't improve for 200 rounds.\n",
            "[100]\ttraining's multi_error: 0.128614\tvalid_1's multi_error: 0.129043\n",
            "[200]\ttraining's multi_error: 0.105809\tvalid_1's multi_error: 0.106007\n",
            "[300]\ttraining's multi_error: 0.100033\tvalid_1's multi_error: 0.100435\n",
            "[400]\ttraining's multi_error: 0.0960992\tvalid_1's multi_error: 0.0965582\n",
            "[500]\ttraining's multi_error: 0.0933051\tvalid_1's multi_error: 0.0938659\n",
            "[600]\ttraining's multi_error: 0.0898893\tvalid_1's multi_error: 0.0904328\n",
            "[700]\ttraining's multi_error: 0.0863255\tvalid_1's multi_error: 0.0868498\n",
            "[800]\ttraining's multi_error: 0.0836259\tvalid_1's multi_error: 0.0842098\n",
            "[900]\ttraining's multi_error: 0.0813986\tvalid_1's multi_error: 0.0819674\n",
            "[1000]\ttraining's multi_error: 0.0787329\tvalid_1's multi_error: 0.0793222\n",
            "Did not meet early stopping. Best iteration is:\n",
            "[1000]\ttraining's multi_error: 0.0787329\tvalid_1's multi_error: 0.0793222\n"
          ],
          "name": "stdout"
        }
      ]
    },
    {
      "cell_type": "code",
      "metadata": {
        "id": "z_txddvHSCEH",
        "colab_type": "code",
        "colab": {
          "base_uri": "https://localhost:8080/",
          "height": 316
        },
        "outputId": "19b685f8-0b9e-45d3-e02b-10d78e749d39"
      },
      "source": [
        "lgb.plot_importance(model)"
      ],
      "execution_count": null,
      "outputs": [
        {
          "output_type": "execute_result",
          "data": {
            "text/plain": [
              "<matplotlib.axes._subplots.AxesSubplot at 0x7f958feaa438>"
            ]
          },
          "metadata": {
            "tags": []
          },
          "execution_count": 8
        },
        {
          "output_type": "display_data",
          "data": {
            "image/png": "[encoded data removed]",
            "text/plain": [
              "<Figure size 432x288 with 1 Axes>"
            ]
          },
          "metadata": {
            "tags": [],
            "needs_background": "light"
          }
        }
      ]
    },
    {
      "cell_type": "code",
      "metadata": {
        "id": "DZNSkrzucjDS",
        "colab_type": "code",
        "colab": {
          "base_uri": "https://localhost:8080/",
          "height": 1000
        },
        "outputId": "29cc0f89-5f48-47d1-af02-a1640cb36e70"
      },
      "source": [
        "lgb.create_tree_digraph(model)"
      ],
      "execution_count": null,
      "outputs": [
        {
          "output_type": "execute_result",
          "data": {
            "text/plain": [
              "<graphviz.dot.Digraph at 0x7f956ec47208>"
            ],
            "image/svg+xml": "<?xml version=\"1.0\" encoding=\"UTF-8\" standalone=\"no\"?>\n<!DOCTYPE svg PUBLIC \"-//W3C//DTD SVG 1.1//EN\"\n \"http://www.w3.org/Graphics/SVG/1.1/DTD/svg11.dtd\">\n<!-- Generated by graphviz version 2.40.1 (20161225.0304)\n -->\n<!-- Title: %3 Pages: 1 -->\n<svg width=\"3101pt\" height=\"1528pt\"\n viewBox=\"0.00 0.00 3101.35 1528.10\" xmlns=\"http://www.w3.org/2000/svg\" xmlns:xlink=\"http://www.w3.org/1999/xlink\">\n<g id=\"graph0\" class=\"graph\" transform=\"scale(1 1) rotate(0) translate(4 1524.1017)\">\n<title>%3</title>\n<polygon fill=\"#ffffff\" stroke=\"transparent\" points=\"-4,4 -4,-1524.1017 3097.3488,-1524.1017 3097.3488,4 -4,4\"/>\n<!-- split0 -->\n<g id=\"node1\" class=\"node\">\n<title>split0</title>\n<ellipse fill=\"none\" stroke=\"#000000\" cx=\"1341.1493\" cy=\"-1493.2317\" rx=\"150.7276\" ry=\"26.7407\"/>\n<text text-anchor=\"middle\" x=\"1341.1493\" y=\"-1497.0317\" font-family=\"Times,serif\" font-size=\"14.00\" fill=\"#000000\">split_feature_name: ecg</text>\n<text text-anchor=\"middle\" x=\"1341.1493\" y=\"-1482.0317\" font-family=\"Times,serif\" font-size=\"14.00\" fill=\"#000000\">threshold: &#45;16307.999999999998</text>\n</g>\n<!-- split1 -->\n<g id=\"node2\" class=\"node\">\n<title>split1</title>\n<ellipse fill=\"none\" stroke=\"#000000\" cx=\"1184.1493\" cy=\"-1388.4916\" rx=\"147.5709\" ry=\"26.7407\"/>\n<text text-anchor=\"middle\" x=\"1184.1493\" y=\"-1392.2916\" font-family=\"Times,serif\" font-size=\"14.00\" fill=\"#000000\">split_feature_name: gsr</text>\n<text text-anchor=\"middle\" x=\"1184.1493\" y=\"-1377.2916\" font-family=\"Times,serif\" font-size=\"14.00\" fill=\"#000000\">threshold: 475.12500000000006</text>\n</g>\n<!-- split0&#45;&gt;split1 -->\n<g id=\"edge3\" class=\"edge\">\n<title>split0&#45;&gt;split1</title>\n<path fill=\"none\" stroke=\"#000000\" d=\"M1301.9365,-1467.0715C1280.5945,-1452.8335 1254.0324,-1435.113 1231.5371,-1420.1056\"/>\n<polygon fill=\"#000000\" stroke=\"#000000\" points=\"1233.3951,-1417.1378 1223.134,-1414.4996 1229.5103,-1422.9609 1233.3951,-1417.1378\"/>\n<text text-anchor=\"middle\" x=\"1280.6493\" y=\"-1437.1616\" font-family=\"Times,serif\" font-size=\"14.00\" fill=\"#000000\">&lt;=</text>\n</g>\n<!-- split2 -->\n<g id=\"node5\" class=\"node\">\n<title>split2</title>\n<ellipse fill=\"none\" stroke=\"#000000\" cx=\"1498.1493\" cy=\"-1388.4916\" rx=\"147.5709\" ry=\"26.7407\"/>\n<text text-anchor=\"middle\" x=\"1498.1493\" y=\"-1392.2916\" font-family=\"Times,serif\" font-size=\"14.00\" fill=\"#000000\">split_feature_name: gsr</text>\n<text text-anchor=\"middle\" x=\"1498.1493\" y=\"-1377.2916\" font-family=\"Times,serif\" font-size=\"14.00\" fill=\"#000000\">threshold: 1526.5000000000002</text>\n</g>\n<!-- split0&#45;&gt;split2 -->\n<g id=\"edge58\" class=\"edge\">\n<title>split0&#45;&gt;split2</title>\n<path fill=\"none\" stroke=\"#000000\" d=\"M1380.362,-1467.0715C1401.7041,-1452.8335 1428.2661,-1435.113 1450.7615,-1420.1056\"/>\n<polygon fill=\"#000000\" stroke=\"#000000\" points=\"1452.7883,-1422.9609 1459.1646,-1414.4996 1448.9035,-1417.1378 1452.7883,-1422.9609\"/>\n<text text-anchor=\"middle\" x=\"1433.6493\" y=\"-1437.1616\" font-family=\"Times,serif\" font-size=\"14.00\" fill=\"#000000\">&gt;</text>\n</g>\n<!-- leaf0 -->\n<g id=\"node3\" class=\"node\">\n<title>leaf0</title>\n<ellipse fill=\"none\" stroke=\"#000000\" cx=\"863.1493\" cy=\"-1283.7514\" rx=\"149.3993\" ry=\"26.7407\"/>\n<text text-anchor=\"middle\" x=\"863.1493\" y=\"-1287.5514\" font-family=\"Times,serif\" font-size=\"14.00\" fill=\"#000000\">leaf_index: 0</text>\n<text text-anchor=\"middle\" x=\"863.1493\" y=\"-1272.5514\" font-family=\"Times,serif\" font-size=\"14.00\" fill=\"#000000\">leaf_value: &#45;0.530364870153028</text>\n</g>\n<!-- split1&#45;&gt;leaf0 -->\n<g id=\"edge1\" class=\"edge\">\n<title>split1&#45;&gt;leaf0</title>\n<path fill=\"none\" stroke=\"#000000\" d=\"M1112.1106,-1364.9858C1062.619,-1348.8371 996.8075,-1327.3632 945.2789,-1310.5498\"/>\n<polygon fill=\"#000000\" stroke=\"#000000\" points=\"946.0946,-1307.1344 935.5021,-1307.3597 943.9232,-1313.7891 946.0946,-1307.1344\"/>\n<text text-anchor=\"middle\" x=\"1051.6493\" y=\"-1332.4215\" font-family=\"Times,serif\" font-size=\"14.00\" fill=\"#000000\">&lt;=</text>\n</g>\n<!-- leaf2 -->\n<g id=\"node4\" class=\"node\">\n<title>leaf2</title>\n<ellipse fill=\"none\" stroke=\"#000000\" cx=\"1184.1493\" cy=\"-1283.7514\" rx=\"154.2987\" ry=\"26.7407\"/>\n<text text-anchor=\"middle\" x=\"1184.1493\" y=\"-1287.5514\" font-family=\"Times,serif\" font-size=\"14.00\" fill=\"#000000\">leaf_index: 2</text>\n<text text-anchor=\"middle\" x=\"1184.1493\" y=\"-1272.5514\" font-family=\"Times,serif\" font-size=\"14.00\" fill=\"#000000\">leaf_value: &#45;0.5473857463512651</text>\n</g>\n<!-- split1&#45;&gt;leaf2 -->\n<g id=\"edge2\" class=\"edge\">\n<title>split1&#45;&gt;leaf2</title>\n<path fill=\"none\" stroke=\"#000000\" d=\"M1184.1493,-1361.5184C1184.1493,-1349.1789 1184.1493,-1334.3575 1184.1493,-1320.9786\"/>\n<polygon fill=\"#000000\" stroke=\"#000000\" points=\"1187.6494,-1320.6332 1184.1493,-1310.6332 1180.6494,-1320.6333 1187.6494,-1320.6332\"/>\n<text text-anchor=\"middle\" x=\"1188.6493\" y=\"-1332.4215\" font-family=\"Times,serif\" font-size=\"14.00\" fill=\"#000000\">&gt;</text>\n</g>\n<!-- split7 -->\n<g id=\"node6\" class=\"node\">\n<title>split7</title>\n<ellipse fill=\"none\" stroke=\"#000000\" cx=\"1498.1493\" cy=\"-1283.7514\" rx=\"142.257\" ry=\"26.7407\"/>\n<text text-anchor=\"middle\" x=\"1498.1493\" y=\"-1287.5514\" font-family=\"Times,serif\" font-size=\"14.00\" fill=\"#000000\">split_feature_name: r</text>\n<text text-anchor=\"middle\" x=\"1498.1493\" y=\"-1272.5514\" font-family=\"Times,serif\" font-size=\"14.00\" fill=\"#000000\">threshold: 572.2500000000001</text>\n</g>\n<!-- split2&#45;&gt;split7 -->\n<g id=\"edge48\" class=\"edge\">\n<title>split2&#45;&gt;split7</title>\n<path fill=\"none\" stroke=\"#000000\" d=\"M1498.1493,-1361.5184C1498.1493,-1349.1789 1498.1493,-1334.3575 1498.1493,-1320.9786\"/>\n<polygon fill=\"#000000\" stroke=\"#000000\" points=\"1501.6494,-1320.6332 1498.1493,-1310.6332 1494.6494,-1320.6333 1501.6494,-1320.6332\"/>\n<text text-anchor=\"middle\" x=\"1506.6493\" y=\"-1332.4215\" font-family=\"Times,serif\" font-size=\"14.00\" fill=\"#000000\">&lt;=</text>\n</g>\n<!-- split3 -->\n<g id=\"node51\" class=\"node\">\n<title>split3</title>\n<ellipse fill=\"none\" stroke=\"#000000\" cx=\"1965.1493\" cy=\"-1283.7514\" rx=\"142.257\" ry=\"26.7407\"/>\n<text text-anchor=\"middle\" x=\"1965.1493\" y=\"-1287.5514\" font-family=\"Times,serif\" font-size=\"14.00\" fill=\"#000000\">split_feature_name: r</text>\n<text text-anchor=\"middle\" x=\"1965.1493\" y=\"-1272.5514\" font-family=\"Times,serif\" font-size=\"14.00\" fill=\"#000000\">threshold: 795.2500000000001</text>\n</g>\n<!-- split2&#45;&gt;split3 -->\n<g id=\"edge57\" class=\"edge\">\n<title>split2&#45;&gt;split3</title>\n<path fill=\"none\" stroke=\"#000000\" d=\"M1591.2514,-1367.6103C1669.8451,-1349.9831 1782.1927,-1324.7855 1863.1936,-1306.6184\"/>\n<polygon fill=\"#000000\" stroke=\"#000000\" points=\"1864.4181,-1309.9308 1873.4097,-1304.3271 1862.8861,-1303.1004 1864.4181,-1309.9308\"/>\n<text text-anchor=\"middle\" x=\"1764.6493\" y=\"-1332.4215\" font-family=\"Times,serif\" font-size=\"14.00\" fill=\"#000000\">&gt;</text>\n</g>\n<!-- leaf1 -->\n<g id=\"node7\" class=\"node\">\n<title>leaf1</title>\n<ellipse fill=\"none\" stroke=\"#000000\" cx=\"1189.1493\" cy=\"-1179.0113\" rx=\"149.3993\" ry=\"26.7407\"/>\n<text text-anchor=\"middle\" x=\"1189.1493\" y=\"-1182.8113\" font-family=\"Times,serif\" font-size=\"14.00\" fill=\"#000000\">leaf_index: 1</text>\n<text text-anchor=\"middle\" x=\"1189.1493\" y=\"-1167.8113\" font-family=\"Times,serif\" font-size=\"14.00\" fill=\"#000000\">leaf_value: &#45;0.529779795170543</text>\n</g>\n<!-- split7&#45;&gt;leaf1 -->\n<g id=\"edge4\" class=\"edge\">\n<title>split7&#45;&gt;leaf1</title>\n<path fill=\"none\" stroke=\"#000000\" d=\"M1428.8036,-1260.2457C1381.4281,-1244.1871 1318.5175,-1222.8626 1269.0403,-1206.0916\"/>\n<polygon fill=\"#000000\" stroke=\"#000000\" points=\"1269.9269,-1202.6965 1259.3326,-1202.801 1267.6797,-1209.326 1269.9269,-1202.6965\"/>\n<text text-anchor=\"middle\" x=\"1371.6493\" y=\"-1227.6814\" font-family=\"Times,serif\" font-size=\"14.00\" fill=\"#000000\">&lt;=</text>\n</g>\n<!-- split8 -->\n<g id=\"node8\" class=\"node\">\n<title>split8</title>\n<ellipse fill=\"none\" stroke=\"#000000\" cx=\"1498.1493\" cy=\"-1179.0113\" rx=\"142.257\" ry=\"26.7407\"/>\n<text text-anchor=\"middle\" x=\"1498.1493\" y=\"-1182.8113\" font-family=\"Times,serif\" font-size=\"14.00\" fill=\"#000000\">split_feature_name: r</text>\n<text text-anchor=\"middle\" x=\"1498.1493\" y=\"-1167.8113\" font-family=\"Times,serif\" font-size=\"14.00\" fill=\"#000000\">threshold: 587.2500000000001</text>\n</g>\n<!-- split7&#45;&gt;split8 -->\n<g id=\"edge47\" class=\"edge\">\n<title>split7&#45;&gt;split8</title>\n<path fill=\"none\" stroke=\"#000000\" d=\"M1498.1493,-1256.7783C1498.1493,-1244.4388 1498.1493,-1229.6174 1498.1493,-1216.2385\"/>\n<polygon fill=\"#000000\" stroke=\"#000000\" points=\"1501.6494,-1215.8931 1498.1493,-1205.8931 1494.6494,-1215.8931 1501.6494,-1215.8931\"/>\n<text text-anchor=\"middle\" x=\"1502.6493\" y=\"-1227.6814\" font-family=\"Times,serif\" font-size=\"14.00\" fill=\"#000000\">&gt;</text>\n</g>\n<!-- leaf8 -->\n<g id=\"node9\" class=\"node\">\n<title>leaf8</title>\n<ellipse fill=\"none\" stroke=\"#000000\" cx=\"1194.1493\" cy=\"-1074.2712\" rx=\"143.5854\" ry=\"26.7407\"/>\n<text text-anchor=\"middle\" x=\"1194.1493\" y=\"-1078.0712\" font-family=\"Times,serif\" font-size=\"14.00\" fill=\"#000000\">leaf_index: 8</text>\n<text text-anchor=\"middle\" x=\"1194.1493\" y=\"-1063.0712\" font-family=\"Times,serif\" font-size=\"14.00\" fill=\"#000000\">leaf_value: &#45;0.54627782477004</text>\n</g>\n<!-- split8&#45;&gt;leaf8 -->\n<g id=\"edge5\" class=\"edge\">\n<title>split8&#45;&gt;leaf8</title>\n<path fill=\"none\" stroke=\"#000000\" d=\"M1429.5467,-1155.375C1382.8388,-1139.2823 1320.9139,-1117.9467 1272.3014,-1101.1977\"/>\n<polygon fill=\"#000000\" stroke=\"#000000\" points=\"1273.3595,-1097.8604 1262.7648,-1097.912 1271.0793,-1104.4786 1273.3595,-1097.8604\"/>\n<text text-anchor=\"middle\" x=\"1373.6493\" y=\"-1122.9413\" font-family=\"Times,serif\" font-size=\"14.00\" fill=\"#000000\">&lt;=</text>\n</g>\n<!-- split9 -->\n<g id=\"node10\" class=\"node\">\n<title>split9</title>\n<ellipse fill=\"none\" stroke=\"#000000\" cx=\"1498.1493\" cy=\"-1074.2712\" rx=\"142.257\" ry=\"26.7407\"/>\n<text text-anchor=\"middle\" x=\"1498.1493\" y=\"-1078.0712\" font-family=\"Times,serif\" font-size=\"14.00\" fill=\"#000000\">split_feature_name: r</text>\n<text text-anchor=\"middle\" x=\"1498.1493\" y=\"-1063.0712\" font-family=\"Times,serif\" font-size=\"14.00\" fill=\"#000000\">threshold: 830.2500000000001</text>\n</g>\n<!-- split8&#45;&gt;split9 -->\n<g id=\"edge46\" class=\"edge\">\n<title>split8&#45;&gt;split9</title>\n<path fill=\"none\" stroke=\"#000000\" d=\"M1498.1493,-1152.0381C1498.1493,-1139.6987 1498.1493,-1124.8772 1498.1493,-1111.4983\"/>\n<polygon fill=\"#000000\" stroke=\"#000000\" points=\"1501.6494,-1111.153 1498.1493,-1101.153 1494.6494,-1111.153 1501.6494,-1111.153\"/>\n<text text-anchor=\"middle\" x=\"1502.6493\" y=\"-1122.9413\" font-family=\"Times,serif\" font-size=\"14.00\" fill=\"#000000\">&gt;</text>\n</g>\n<!-- split10 -->\n<g id=\"node11\" class=\"node\">\n<title>split10</title>\n<ellipse fill=\"none\" stroke=\"#000000\" cx=\"1272.1493\" cy=\"-969.5311\" rx=\"142.257\" ry=\"26.7407\"/>\n<text text-anchor=\"middle\" x=\"1272.1493\" y=\"-973.3311\" font-family=\"Times,serif\" font-size=\"14.00\" fill=\"#000000\">split_feature_name: ecg</text>\n<text text-anchor=\"middle\" x=\"1272.1493\" y=\"-958.3311\" font-family=\"Times,serif\" font-size=\"14.00\" fill=\"#000000\">threshold: 4558.000000000001</text>\n</g>\n<!-- split9&#45;&gt;split10 -->\n<g id=\"edge44\" class=\"edge\">\n<title>split9&#45;&gt;split10</title>\n<path fill=\"none\" stroke=\"#000000\" d=\"M1444.3038,-1049.3164C1411.6049,-1034.1621 1369.7026,-1014.7424 1335.4253,-998.8565\"/>\n<polygon fill=\"#000000\" stroke=\"#000000\" points=\"1336.5182,-995.5054 1325.9735,-994.476 1333.5747,-1001.8565 1336.5182,-995.5054\"/>\n<text text-anchor=\"middle\" x=\"1407.6493\" y=\"-1018.2012\" font-family=\"Times,serif\" font-size=\"14.00\" fill=\"#000000\">&lt;=</text>\n</g>\n<!-- leaf10 -->\n<g id=\"node50\" class=\"node\">\n<title>leaf10</title>\n<ellipse fill=\"none\" stroke=\"#000000\" cx=\"1586.1493\" cy=\"-969.5311\" rx=\"154.2987\" ry=\"26.7407\"/>\n<text text-anchor=\"middle\" x=\"1586.1493\" y=\"-973.3311\" font-family=\"Times,serif\" font-size=\"14.00\" fill=\"#000000\">leaf_index: 10</text>\n<text text-anchor=\"middle\" x=\"1586.1493\" y=\"-958.3311\" font-family=\"Times,serif\" font-size=\"14.00\" fill=\"#000000\">leaf_value: &#45;0.5422139156261534</text>\n</g>\n<!-- split9&#45;&gt;leaf10 -->\n<g id=\"edge45\" class=\"edge\">\n<title>split9&#45;&gt;leaf10</title>\n<path fill=\"none\" stroke=\"#000000\" d=\"M1520.5831,-1047.5699C1531.6507,-1034.3968 1545.137,-1018.3451 1556.994,-1004.2325\"/>\n<polygon fill=\"#000000\" stroke=\"#000000\" points=\"1560.0034,-1006.0916 1563.7564,-996.1837 1554.644,-1001.5887 1560.0034,-1006.0916\"/>\n<text text-anchor=\"middle\" x=\"1552.6493\" y=\"-1018.2012\" font-family=\"Times,serif\" font-size=\"14.00\" fill=\"#000000\">&gt;</text>\n</g>\n<!-- split11 -->\n<g id=\"node12\" class=\"node\">\n<title>split11</title>\n<ellipse fill=\"none\" stroke=\"#000000\" cx=\"1110.1493\" cy=\"-864.791\" rx=\"145.8282\" ry=\"26.7407\"/>\n<text text-anchor=\"middle\" x=\"1110.1493\" y=\"-868.591\" font-family=\"Times,serif\" font-size=\"14.00\" fill=\"#000000\">split_feature_name: ecg</text>\n<text text-anchor=\"middle\" x=\"1110.1493\" y=\"-853.591\" font-family=\"Times,serif\" font-size=\"14.00\" fill=\"#000000\">threshold: &#45;8731.999999999998</text>\n</g>\n<!-- split10&#45;&gt;split11 -->\n<g id=\"edge30\" class=\"edge\">\n<title>split10&#45;&gt;split11</title>\n<path fill=\"none\" stroke=\"#000000\" d=\"M1232.1043,-943.6403C1209.9069,-929.2887 1182.141,-911.3368 1158.7121,-896.189\"/>\n<polygon fill=\"#000000\" stroke=\"#000000\" points=\"1160.593,-893.2373 1150.295,-890.747 1156.7924,-899.1157 1160.593,-893.2373\"/>\n<text text-anchor=\"middle\" x=\"1209.6493\" y=\"-913.461\" font-family=\"Times,serif\" font-size=\"14.00\" fill=\"#000000\">&lt;=</text>\n</g>\n<!-- split12 -->\n<g id=\"node37\" class=\"node\">\n<title>split12</title>\n<ellipse fill=\"none\" stroke=\"#000000\" cx=\"1522.1493\" cy=\"-864.791\" rx=\"142.257\" ry=\"26.7407\"/>\n<text text-anchor=\"middle\" x=\"1522.1493\" y=\"-868.591\" font-family=\"Times,serif\" font-size=\"14.00\" fill=\"#000000\">split_feature_name: gsr</text>\n<text text-anchor=\"middle\" x=\"1522.1493\" y=\"-853.591\" font-family=\"Times,serif\" font-size=\"14.00\" fill=\"#000000\">threshold: 560.2500000000001</text>\n</g>\n<!-- split10&#45;&gt;split12 -->\n<g id=\"edge43\" class=\"edge\">\n<title>split10&#45;&gt;split12</title>\n<path fill=\"none\" stroke=\"#000000\" d=\"M1330.7632,-944.9742C1367.617,-929.5339 1415.3165,-909.5497 1453.8759,-893.3948\"/>\n<polygon fill=\"#000000\" stroke=\"#000000\" points=\"1455.5992,-896.4676 1463.47,-889.3753 1452.8943,-890.0114 1455.5992,-896.4676\"/>\n<text text-anchor=\"middle\" x=\"1416.6493\" y=\"-913.461\" font-family=\"Times,serif\" font-size=\"14.00\" fill=\"#000000\">&gt;</text>\n</g>\n<!-- leaf9 -->\n<g id=\"node13\" class=\"node\">\n<title>leaf9</title>\n<ellipse fill=\"none\" stroke=\"#000000\" cx=\"792.1493\" cy=\"-760.0509\" rx=\"154.2987\" ry=\"26.7407\"/>\n<text text-anchor=\"middle\" x=\"792.1493\" y=\"-763.8509\" font-family=\"Times,serif\" font-size=\"14.00\" fill=\"#000000\">leaf_index: 9</text>\n<text text-anchor=\"middle\" x=\"792.1493\" y=\"-748.8509\" font-family=\"Times,serif\" font-size=\"14.00\" fill=\"#000000\">leaf_value: &#45;0.5306258086509139</text>\n</g>\n<!-- split11&#45;&gt;leaf9 -->\n<g id=\"edge6\" class=\"edge\">\n<title>split11&#45;&gt;leaf9</title>\n<path fill=\"none\" stroke=\"#000000\" d=\"M1038.7839,-841.2853C989.9268,-825.1931 925.0157,-803.8133 874.0492,-787.0264\"/>\n<polygon fill=\"#000000\" stroke=\"#000000\" points=\"874.9698,-783.6447 864.3767,-783.8405 872.7798,-790.2933 874.9698,-783.6447\"/>\n<text text-anchor=\"middle\" x=\"979.6493\" y=\"-808.7209\" font-family=\"Times,serif\" font-size=\"14.00\" fill=\"#000000\">&lt;=</text>\n</g>\n<!-- split18 -->\n<g id=\"node14\" class=\"node\">\n<title>split18</title>\n<ellipse fill=\"none\" stroke=\"#000000\" cx=\"1110.1493\" cy=\"-760.0509\" rx=\"145.8282\" ry=\"26.7407\"/>\n<text text-anchor=\"middle\" x=\"1110.1493\" y=\"-763.8509\" font-family=\"Times,serif\" font-size=\"14.00\" fill=\"#000000\">split_feature_name: pilot</text>\n<text text-anchor=\"middle\" x=\"1110.1493\" y=\"-748.8509\" font-family=\"Times,serif\" font-size=\"14.00\" fill=\"#000000\">threshold: &#45;61.49999999999999</text>\n</g>\n<!-- split11&#45;&gt;split18 -->\n<g id=\"edge29\" class=\"edge\">\n<title>split11&#45;&gt;split18</title>\n<path fill=\"none\" stroke=\"#000000\" d=\"M1110.1493,-837.8178C1110.1493,-825.4784 1110.1493,-810.6569 1110.1493,-797.278\"/>\n<polygon fill=\"#000000\" stroke=\"#000000\" points=\"1113.6494,-796.9326 1110.1493,-786.9326 1106.6494,-796.9327 1113.6494,-796.9326\"/>\n<text text-anchor=\"middle\" x=\"1114.6493\" y=\"-808.7209\" font-family=\"Times,serif\" font-size=\"14.00\" fill=\"#000000\">&gt;</text>\n</g>\n<!-- split19 -->\n<g id=\"node15\" class=\"node\">\n<title>split19</title>\n<ellipse fill=\"none\" stroke=\"#000000\" cx=\"791.1493\" cy=\"-655.3107\" rx=\"142.257\" ry=\"26.7407\"/>\n<text text-anchor=\"middle\" x=\"791.1493\" y=\"-659.1107\" font-family=\"Times,serif\" font-size=\"14.00\" fill=\"#000000\">split_feature_name: r</text>\n<text text-anchor=\"middle\" x=\"791.1493\" y=\"-644.1107\" font-family=\"Times,serif\" font-size=\"14.00\" fill=\"#000000\">threshold: 719.2500000000001</text>\n</g>\n<!-- split18&#45;&gt;split19 -->\n<g id=\"edge11\" class=\"edge\">\n<title>split18&#45;&gt;split19</title>\n<path fill=\"none\" stroke=\"#000000\" d=\"M1038.5595,-736.5451C989.1173,-720.3114 923.2859,-698.6963 871.9598,-681.844\"/>\n<polygon fill=\"#000000\" stroke=\"#000000\" points=\"872.8179,-678.442 862.2251,-678.6477 870.6342,-685.0927 872.8179,-678.442\"/>\n<text text-anchor=\"middle\" x=\"978.6493\" y=\"-703.9808\" font-family=\"Times,serif\" font-size=\"14.00\" fill=\"#000000\">&lt;=</text>\n</g>\n<!-- split21 -->\n<g id=\"node20\" class=\"node\">\n<title>split21</title>\n<ellipse fill=\"none\" stroke=\"#000000\" cx=\"1110.1493\" cy=\"-655.3107\" rx=\"150.7276\" ry=\"26.7407\"/>\n<text text-anchor=\"middle\" x=\"1110.1493\" y=\"-659.1107\" font-family=\"Times,serif\" font-size=\"14.00\" fill=\"#000000\">split_feature_name: ecg</text>\n<text text-anchor=\"middle\" x=\"1110.1493\" y=\"-644.1107\" font-family=\"Times,serif\" font-size=\"14.00\" fill=\"#000000\">threshold: &#45;1805.4999999999998</text>\n</g>\n<!-- split18&#45;&gt;split21 -->\n<g id=\"edge28\" class=\"edge\">\n<title>split18&#45;&gt;split21</title>\n<path fill=\"none\" stroke=\"#000000\" d=\"M1110.1493,-733.0777C1110.1493,-720.7382 1110.1493,-705.9168 1110.1493,-692.5379\"/>\n<polygon fill=\"#000000\" stroke=\"#000000\" points=\"1113.6494,-692.1925 1110.1493,-682.1925 1106.6494,-692.1926 1113.6494,-692.1925\"/>\n<text text-anchor=\"middle\" x=\"1114.6493\" y=\"-703.9808\" font-family=\"Times,serif\" font-size=\"14.00\" fill=\"#000000\">&gt;</text>\n</g>\n<!-- split20 -->\n<g id=\"node16\" class=\"node\">\n<title>split20</title>\n<ellipse fill=\"none\" stroke=\"#000000\" cx=\"480.1493\" cy=\"-550.5706\" rx=\"142.257\" ry=\"26.7407\"/>\n<text text-anchor=\"middle\" x=\"480.1493\" y=\"-554.3706\" font-family=\"Times,serif\" font-size=\"14.00\" fill=\"#000000\">split_feature_name: gsr</text>\n<text text-anchor=\"middle\" x=\"480.1493\" y=\"-539.3706\" font-family=\"Times,serif\" font-size=\"14.00\" fill=\"#000000\">threshold: 933.2500000000001</text>\n</g>\n<!-- split19&#45;&gt;split20 -->\n<g id=\"edge9\" class=\"edge\">\n<title>split19&#45;&gt;split20</title>\n<path fill=\"none\" stroke=\"#000000\" d=\"M721.3548,-631.805C673.3209,-615.6279 609.4199,-594.107 559.4577,-577.2805\"/>\n<polygon fill=\"#000000\" stroke=\"#000000\" points=\"560.5734,-573.9632 549.9793,-574.0883 558.3392,-580.5971 560.5734,-573.9632\"/>\n<text text-anchor=\"middle\" x=\"663.6493\" y=\"-599.2407\" font-family=\"Times,serif\" font-size=\"14.00\" fill=\"#000000\">&lt;=</text>\n</g>\n<!-- leaf20 -->\n<g id=\"node19\" class=\"node\">\n<title>leaf20</title>\n<ellipse fill=\"none\" stroke=\"#000000\" cx=\"791.1493\" cy=\"-550.5706\" rx=\"149.3993\" ry=\"26.7407\"/>\n<text text-anchor=\"middle\" x=\"791.1493\" y=\"-554.3706\" font-family=\"Times,serif\" font-size=\"14.00\" fill=\"#000000\">leaf_index: 20</text>\n<text text-anchor=\"middle\" x=\"791.1493\" y=\"-539.3706\" font-family=\"Times,serif\" font-size=\"14.00\" fill=\"#000000\">leaf_value: &#45;0.547004413055416</text>\n</g>\n<!-- split19&#45;&gt;leaf20 -->\n<g id=\"edge10\" class=\"edge\">\n<title>split19&#45;&gt;leaf20</title>\n<path fill=\"none\" stroke=\"#000000\" d=\"M791.1493,-628.3376C791.1493,-615.9981 791.1493,-601.1767 791.1493,-587.7978\"/>\n<polygon fill=\"#000000\" stroke=\"#000000\" points=\"794.6494,-587.4524 791.1493,-577.4524 787.6494,-587.4524 794.6494,-587.4524\"/>\n<text text-anchor=\"middle\" x=\"795.6493\" y=\"-599.2407\" font-family=\"Times,serif\" font-size=\"14.00\" fill=\"#000000\">&gt;</text>\n</g>\n<!-- leaf12 -->\n<g id=\"node17\" class=\"node\">\n<title>leaf12</title>\n<ellipse fill=\"none\" stroke=\"#000000\" cx=\"154.1493\" cy=\"-445.8305\" rx=\"154.2987\" ry=\"26.7407\"/>\n<text text-anchor=\"middle\" x=\"154.1493\" y=\"-449.6305\" font-family=\"Times,serif\" font-size=\"14.00\" fill=\"#000000\">leaf_index: 12</text>\n<text text-anchor=\"middle\" x=\"154.1493\" y=\"-434.6305\" font-family=\"Times,serif\" font-size=\"14.00\" fill=\"#000000\">leaf_value: &#45;0.5325411435585397</text>\n</g>\n<!-- split20&#45;&gt;leaf12 -->\n<g id=\"edge7\" class=\"edge\">\n<title>split20&#45;&gt;leaf12</title>\n<path fill=\"none\" stroke=\"#000000\" d=\"M407.7993,-527.3254C357.3825,-511.1271 290.0002,-489.4779 237.3576,-472.5644\"/>\n<polygon fill=\"#000000\" stroke=\"#000000\" points=\"238.2983,-469.1905 227.707,-469.4638 236.157,-475.855 238.2983,-469.1905\"/>\n<text text-anchor=\"middle\" x=\"345.6493\" y=\"-494.5006\" font-family=\"Times,serif\" font-size=\"14.00\" fill=\"#000000\">&lt;=</text>\n</g>\n<!-- leaf21 -->\n<g id=\"node18\" class=\"node\">\n<title>leaf21</title>\n<ellipse fill=\"none\" stroke=\"#000000\" cx=\"480.1493\" cy=\"-445.8305\" rx=\"154.2987\" ry=\"26.7407\"/>\n<text text-anchor=\"middle\" x=\"480.1493\" y=\"-449.6305\" font-family=\"Times,serif\" font-size=\"14.00\" fill=\"#000000\">leaf_index: 21</text>\n<text text-anchor=\"middle\" x=\"480.1493\" y=\"-434.6305\" font-family=\"Times,serif\" font-size=\"14.00\" fill=\"#000000\">leaf_value: &#45;0.5471589119071932</text>\n</g>\n<!-- split20&#45;&gt;leaf21 -->\n<g id=\"edge8\" class=\"edge\">\n<title>split20&#45;&gt;leaf21</title>\n<path fill=\"none\" stroke=\"#000000\" d=\"M480.1493,-523.5975C480.1493,-511.258 480.1493,-496.4365 480.1493,-483.0577\"/>\n<polygon fill=\"#000000\" stroke=\"#000000\" points=\"483.6494,-482.7123 480.1493,-472.7123 476.6494,-482.7123 483.6494,-482.7123\"/>\n<text text-anchor=\"middle\" x=\"484.6493\" y=\"-494.5006\" font-family=\"Times,serif\" font-size=\"14.00\" fill=\"#000000\">&gt;</text>\n</g>\n<!-- split23 -->\n<g id=\"node21\" class=\"node\">\n<title>split23</title>\n<ellipse fill=\"none\" stroke=\"#000000\" cx=\"1108.1493\" cy=\"-550.5706\" rx=\"147.5709\" ry=\"26.7407\"/>\n<text text-anchor=\"middle\" x=\"1108.1493\" y=\"-554.3706\" font-family=\"Times,serif\" font-size=\"14.00\" fill=\"#000000\">split_feature_name: gsr</text>\n<text text-anchor=\"middle\" x=\"1108.1493\" y=\"-539.3706\" font-family=\"Times,serif\" font-size=\"14.00\" fill=\"#000000\">threshold: 1319.5000000000002</text>\n</g>\n<!-- split21&#45;&gt;split23 -->\n<g id=\"edge22\" class=\"edge\">\n<title>split21&#45;&gt;split23</title>\n<path fill=\"none\" stroke=\"#000000\" d=\"M1109.6342,-628.3376C1109.3986,-615.9981 1109.1156,-601.1767 1108.8601,-587.7978\"/>\n<polygon fill=\"#000000\" stroke=\"#000000\" points=\"1112.353,-587.3837 1108.6626,-577.4524 1105.3542,-587.5174 1112.353,-587.3837\"/>\n<text text-anchor=\"middle\" x=\"1118.6493\" y=\"-599.2407\" font-family=\"Times,serif\" font-size=\"14.00\" fill=\"#000000\">&lt;=</text>\n</g>\n<!-- split22 -->\n<g id=\"node32\" class=\"node\">\n<title>split22</title>\n<ellipse fill=\"none\" stroke=\"#000000\" cx=\"1433.1493\" cy=\"-550.5706\" rx=\"142.257\" ry=\"26.7407\"/>\n<text text-anchor=\"middle\" x=\"1433.1493\" y=\"-554.3706\" font-family=\"Times,serif\" font-size=\"14.00\" fill=\"#000000\">split_feature_name: r</text>\n<text text-anchor=\"middle\" x=\"1433.1493\" y=\"-539.3706\" font-family=\"Times,serif\" font-size=\"14.00\" fill=\"#000000\">threshold: 805.2500000000001</text>\n</g>\n<!-- split21&#45;&gt;split22 -->\n<g id=\"edge27\" class=\"edge\">\n<title>split21&#45;&gt;split22</title>\n<path fill=\"none\" stroke=\"#000000\" d=\"M1183.0395,-631.6744C1233.1197,-615.4348 1299.6644,-593.8562 1351.5235,-577.0397\"/>\n<polygon fill=\"#000000\" stroke=\"#000000\" points=\"1352.9262,-580.2643 1361.359,-573.8503 1350.767,-573.6056 1352.9262,-580.2643\"/>\n<text text-anchor=\"middle\" x=\"1295.6493\" y=\"-599.2407\" font-family=\"Times,serif\" font-size=\"14.00\" fill=\"#000000\">&gt;</text>\n</g>\n<!-- split24 -->\n<g id=\"node22\" class=\"node\">\n<title>split24</title>\n<ellipse fill=\"none\" stroke=\"#000000\" cx=\"794.1493\" cy=\"-445.8305\" rx=\"142.257\" ry=\"26.7407\"/>\n<text text-anchor=\"middle\" x=\"794.1493\" y=\"-449.6305\" font-family=\"Times,serif\" font-size=\"14.00\" fill=\"#000000\">split_feature_name: r</text>\n<text text-anchor=\"middle\" x=\"794.1493\" y=\"-434.6305\" font-family=\"Times,serif\" font-size=\"14.00\" fill=\"#000000\">threshold: 816.7500000000001</text>\n</g>\n<!-- split23&#45;&gt;split24 -->\n<g id=\"edge20\" class=\"edge\">\n<title>split23&#45;&gt;split24</title>\n<path fill=\"none\" stroke=\"#000000\" d=\"M1037.29,-526.9343C988.7752,-510.7514 924.3662,-489.2666 874.0291,-472.4758\"/>\n<polygon fill=\"#000000\" stroke=\"#000000\" points=\"875.0736,-469.1347 864.4799,-469.2905 872.8586,-475.775 875.0736,-469.1347\"/>\n<text text-anchor=\"middle\" x=\"978.6493\" y=\"-494.5006\" font-family=\"Times,serif\" font-size=\"14.00\" fill=\"#000000\">&lt;=</text>\n</g>\n<!-- leaf24 -->\n<g id=\"node31\" class=\"node\">\n<title>leaf24</title>\n<ellipse fill=\"none\" stroke=\"#000000\" cx=\"1108.1493\" cy=\"-445.8305\" rx=\"154.2987\" ry=\"26.7407\"/>\n<text text-anchor=\"middle\" x=\"1108.1493\" y=\"-449.6305\" font-family=\"Times,serif\" font-size=\"14.00\" fill=\"#000000\">leaf_index: 24</text>\n<text text-anchor=\"middle\" x=\"1108.1493\" y=\"-434.6305\" font-family=\"Times,serif\" font-size=\"14.00\" fill=\"#000000\">leaf_value: &#45;0.5463586413158684</text>\n</g>\n<!-- split23&#45;&gt;leaf24 -->\n<g id=\"edge21\" class=\"edge\">\n<title>split23&#45;&gt;leaf24</title>\n<path fill=\"none\" stroke=\"#000000\" d=\"M1108.1493,-523.5975C1108.1493,-511.258 1108.1493,-496.4365 1108.1493,-483.0577\"/>\n<polygon fill=\"#000000\" stroke=\"#000000\" points=\"1111.6494,-482.7123 1108.1493,-472.7123 1104.6494,-482.7123 1111.6494,-482.7123\"/>\n<text text-anchor=\"middle\" x=\"1112.6493\" y=\"-494.5006\" font-family=\"Times,serif\" font-size=\"14.00\" fill=\"#000000\">&gt;</text>\n</g>\n<!-- split25 -->\n<g id=\"node23\" class=\"node\">\n<title>split25</title>\n<ellipse fill=\"none\" stroke=\"#000000\" cx=\"721.1493\" cy=\"-341.0904\" rx=\"142.257\" ry=\"26.7407\"/>\n<text text-anchor=\"middle\" x=\"721.1493\" y=\"-344.8904\" font-family=\"Times,serif\" font-size=\"14.00\" fill=\"#000000\">split_feature_name: r</text>\n<text text-anchor=\"middle\" x=\"721.1493\" y=\"-329.8904\" font-family=\"Times,serif\" font-size=\"14.00\" fill=\"#000000\">threshold: 801.7500000000001</text>\n</g>\n<!-- split24&#45;&gt;split25 -->\n<g id=\"edge18\" class=\"edge\">\n<title>split24&#45;&gt;split25</title>\n<path fill=\"none\" stroke=\"#000000\" d=\"M775.5394,-419.1292C766.4441,-406.0793 755.3798,-390.2042 745.611,-376.188\"/>\n<polygon fill=\"#000000\" stroke=\"#000000\" points=\"748.3145,-373.9458 739.7252,-367.743 742.5717,-377.9483 748.3145,-373.9458\"/>\n<text text-anchor=\"middle\" x=\"770.6493\" y=\"-389.7605\" font-family=\"Times,serif\" font-size=\"14.00\" fill=\"#000000\">&lt;=</text>\n</g>\n<!-- leaf25 -->\n<g id=\"node30\" class=\"node\">\n<title>leaf25</title>\n<ellipse fill=\"none\" stroke=\"#000000\" cx=\"1035.1493\" cy=\"-341.0904\" rx=\"154.2987\" ry=\"26.7407\"/>\n<text text-anchor=\"middle\" x=\"1035.1493\" y=\"-344.8904\" font-family=\"Times,serif\" font-size=\"14.00\" fill=\"#000000\">leaf_index: 25</text>\n<text text-anchor=\"middle\" x=\"1035.1493\" y=\"-329.8904\" font-family=\"Times,serif\" font-size=\"14.00\" fill=\"#000000\">leaf_value: &#45;0.5417206377265689</text>\n</g>\n<!-- split24&#45;&gt;leaf25 -->\n<g id=\"edge19\" class=\"edge\">\n<title>split24&#45;&gt;leaf25</title>\n<path fill=\"none\" stroke=\"#000000\" d=\"M850.9577,-421.1412C886.1088,-405.8643 931.4071,-386.1774 968.285,-370.15\"/>\n<polygon fill=\"#000000\" stroke=\"#000000\" points=\"969.6918,-373.3549 977.4681,-366.159 966.9017,-366.935 969.6918,-373.3549\"/>\n<text text-anchor=\"middle\" x=\"933.6493\" y=\"-389.7605\" font-family=\"Times,serif\" font-size=\"14.00\" fill=\"#000000\">&gt;</text>\n</g>\n<!-- split26 -->\n<g id=\"node24\" class=\"node\">\n<title>split26</title>\n<ellipse fill=\"none\" stroke=\"#000000\" cx=\"564.1493\" cy=\"-236.3503\" rx=\"142.257\" ry=\"26.7407\"/>\n<text text-anchor=\"middle\" x=\"564.1493\" y=\"-240.1503\" font-family=\"Times,serif\" font-size=\"14.00\" fill=\"#000000\">split_feature_name: r</text>\n<text text-anchor=\"middle\" x=\"564.1493\" y=\"-225.1503\" font-family=\"Times,serif\" font-size=\"14.00\" fill=\"#000000\">threshold: 794.7500000000001</text>\n</g>\n<!-- split25&#45;&gt;split26 -->\n<g id=\"edge16\" class=\"edge\">\n<title>split25&#45;&gt;split26</title>\n<path fill=\"none\" stroke=\"#000000\" d=\"M682.3403,-315.1996C660.9223,-300.9109 634.155,-283.0535 611.5123,-267.9478\"/>\n<polygon fill=\"#000000\" stroke=\"#000000\" points=\"613.3171,-264.9445 603.0559,-262.3063 609.4323,-270.7676 613.3171,-264.9445\"/>\n<text text-anchor=\"middle\" x=\"660.6493\" y=\"-285.0203\" font-family=\"Times,serif\" font-size=\"14.00\" fill=\"#000000\">&lt;=</text>\n</g>\n<!-- leaf26 -->\n<g id=\"node29\" class=\"node\">\n<title>leaf26</title>\n<ellipse fill=\"none\" stroke=\"#000000\" cx=\"878.1493\" cy=\"-236.3503\" rx=\"154.2987\" ry=\"26.7407\"/>\n<text text-anchor=\"middle\" x=\"878.1493\" y=\"-240.1503\" font-family=\"Times,serif\" font-size=\"14.00\" fill=\"#000000\">leaf_index: 26</text>\n<text text-anchor=\"middle\" x=\"878.1493\" y=\"-225.1503\" font-family=\"Times,serif\" font-size=\"14.00\" fill=\"#000000\">leaf_value: &#45;0.5299257761943761</text>\n</g>\n<!-- split25&#45;&gt;leaf26 -->\n<g id=\"edge17\" class=\"edge\">\n<title>split25&#45;&gt;leaf26</title>\n<path fill=\"none\" stroke=\"#000000\" d=\"M759.9583,-315.1996C781.2957,-300.9647 807.9424,-283.1877 830.5307,-268.1183\"/>\n<polygon fill=\"#000000\" stroke=\"#000000\" points=\"832.5934,-270.9496 838.9697,-262.4883 828.7086,-265.1265 832.5934,-270.9496\"/>\n<text text-anchor=\"middle\" x=\"813.6493\" y=\"-285.0203\" font-family=\"Times,serif\" font-size=\"14.00\" fill=\"#000000\">&gt;</text>\n</g>\n<!-- split27 -->\n<g id=\"node25\" class=\"node\">\n<title>split27</title>\n<ellipse fill=\"none\" stroke=\"#000000\" cx=\"404.1493\" cy=\"-131.6102\" rx=\"147.1565\" ry=\"26.7407\"/>\n<text text-anchor=\"middle\" x=\"404.1493\" y=\"-135.4102\" font-family=\"Times,serif\" font-size=\"14.00\" fill=\"#000000\">split_feature_name: gsr</text>\n<text text-anchor=\"middle\" x=\"404.1493\" y=\"-120.4102\" font-family=\"Times,serif\" font-size=\"14.00\" fill=\"#000000\">threshold: 1149.5000000000002</text>\n</g>\n<!-- split26&#45;&gt;split27 -->\n<g id=\"edge14\" class=\"edge\">\n<title>split26&#45;&gt;split27</title>\n<path fill=\"none\" stroke=\"#000000\" d=\"M524.5987,-210.4595C502.7715,-196.1708 475.4926,-178.3134 452.4173,-163.2077\"/>\n<polygon fill=\"#000000\" stroke=\"#000000\" points=\"454.0831,-160.1149 443.7994,-157.5662 450.2491,-165.9716 454.0831,-160.1149\"/>\n<text text-anchor=\"middle\" x=\"502.6493\" y=\"-180.2802\" font-family=\"Times,serif\" font-size=\"14.00\" fill=\"#000000\">&lt;=</text>\n</g>\n<!-- leaf27 -->\n<g id=\"node28\" class=\"node\">\n<title>leaf27</title>\n<ellipse fill=\"none\" stroke=\"#000000\" cx=\"723.1493\" cy=\"-131.6102\" rx=\"154.2987\" ry=\"26.7407\"/>\n<text text-anchor=\"middle\" x=\"723.1493\" y=\"-135.4102\" font-family=\"Times,serif\" font-size=\"14.00\" fill=\"#000000\">leaf_index: 27</text>\n<text text-anchor=\"middle\" x=\"723.1493\" y=\"-120.4102\" font-family=\"Times,serif\" font-size=\"14.00\" fill=\"#000000\">leaf_value: &#45;0.5474356616763215</text>\n</g>\n<!-- split26&#45;&gt;leaf27 -->\n<g id=\"edge15\" class=\"edge\">\n<title>split26&#45;&gt;leaf27</title>\n<path fill=\"none\" stroke=\"#000000\" d=\"M603.4527,-210.4595C625.0619,-196.2245 652.0481,-178.4476 674.9241,-163.3781\"/>\n<polygon fill=\"#000000\" stroke=\"#000000\" points=\"677.0451,-166.1722 683.4706,-157.7482 673.1943,-160.3265 677.0451,-166.1722\"/>\n<text text-anchor=\"middle\" x=\"658.6493\" y=\"-180.2802\" font-family=\"Times,serif\" font-size=\"14.00\" fill=\"#000000\">&gt;</text>\n</g>\n<!-- leaf19 -->\n<g id=\"node26\" class=\"node\">\n<title>leaf19</title>\n<ellipse fill=\"none\" stroke=\"#000000\" cx=\"241.1493\" cy=\"-26.8701\" rx=\"154.2987\" ry=\"26.7407\"/>\n<text text-anchor=\"middle\" x=\"241.1493\" y=\"-30.6701\" font-family=\"Times,serif\" font-size=\"14.00\" fill=\"#000000\">leaf_index: 19</text>\n<text text-anchor=\"middle\" x=\"241.1493\" y=\"-15.6701\" font-family=\"Times,serif\" font-size=\"14.00\" fill=\"#000000\">leaf_value: &#45;0.5294812606999969</text>\n</g>\n<!-- split27&#45;&gt;leaf19 -->\n<g id=\"edge12\" class=\"edge\">\n<title>split27&#45;&gt;leaf19</title>\n<path fill=\"none\" stroke=\"#000000\" d=\"M363.8571,-105.7194C341.5227,-91.3678 313.5854,-73.4159 290.0119,-58.2681\"/>\n<polygon fill=\"#000000\" stroke=\"#000000\" points=\"291.8478,-55.2875 281.5428,-52.826 288.0636,-61.1765 291.8478,-55.2875\"/>\n<text text-anchor=\"middle\" x=\"341.6493\" y=\"-75.5401\" font-family=\"Times,serif\" font-size=\"14.00\" fill=\"#000000\">&lt;=</text>\n</g>\n<!-- leaf28 -->\n<g id=\"node27\" class=\"node\">\n<title>leaf28</title>\n<ellipse fill=\"none\" stroke=\"#000000\" cx=\"567.1493\" cy=\"-26.8701\" rx=\"154.2987\" ry=\"26.7407\"/>\n<text text-anchor=\"middle\" x=\"567.1493\" y=\"-30.6701\" font-family=\"Times,serif\" font-size=\"14.00\" fill=\"#000000\">leaf_index: 28</text>\n<text text-anchor=\"middle\" x=\"567.1493\" y=\"-15.6701\" font-family=\"Times,serif\" font-size=\"14.00\" fill=\"#000000\">leaf_value: &#45;0.5376936121397724</text>\n</g>\n<!-- split27&#45;&gt;leaf28 -->\n<g id=\"edge13\" class=\"edge\">\n<title>split27&#45;&gt;leaf28</title>\n<path fill=\"none\" stroke=\"#000000\" d=\"M444.4414,-105.7194C466.7758,-91.3678 494.7132,-73.4159 518.2867,-58.2681\"/>\n<polygon fill=\"#000000\" stroke=\"#000000\" points=\"520.2349,-61.1765 526.7557,-52.826 516.4508,-55.2875 520.2349,-61.1765\"/>\n<text text-anchor=\"middle\" x=\"500.6493\" y=\"-75.5401\" font-family=\"Times,serif\" font-size=\"14.00\" fill=\"#000000\">&gt;</text>\n</g>\n<!-- leaf22 -->\n<g id=\"node33\" class=\"node\">\n<title>leaf22</title>\n<ellipse fill=\"none\" stroke=\"#000000\" cx=\"1434.1493\" cy=\"-445.8305\" rx=\"154.2987\" ry=\"26.7407\"/>\n<text text-anchor=\"middle\" x=\"1434.1493\" y=\"-449.6305\" font-family=\"Times,serif\" font-size=\"14.00\" fill=\"#000000\">leaf_index: 22</text>\n<text text-anchor=\"middle\" x=\"1434.1493\" y=\"-434.6305\" font-family=\"Times,serif\" font-size=\"14.00\" fill=\"#000000\">leaf_value: &#45;0.5296847034376448</text>\n</g>\n<!-- split22&#45;&gt;leaf22 -->\n<g id=\"edge23\" class=\"edge\">\n<title>split22&#45;&gt;leaf22</title>\n<path fill=\"none\" stroke=\"#000000\" d=\"M1433.4068,-523.5975C1433.5246,-511.258 1433.6661,-496.4365 1433.7939,-483.0577\"/>\n<polygon fill=\"#000000\" stroke=\"#000000\" points=\"1437.2969,-482.7453 1433.8926,-472.7123 1430.2972,-482.6784 1437.2969,-482.7453\"/>\n<text text-anchor=\"middle\" x=\"1442.6493\" y=\"-494.5006\" font-family=\"Times,serif\" font-size=\"14.00\" fill=\"#000000\">&lt;=</text>\n</g>\n<!-- split28 -->\n<g id=\"node34\" class=\"node\">\n<title>split28</title>\n<ellipse fill=\"none\" stroke=\"#000000\" cx=\"1748.1493\" cy=\"-445.8305\" rx=\"142.257\" ry=\"26.7407\"/>\n<text text-anchor=\"middle\" x=\"1748.1493\" y=\"-449.6305\" font-family=\"Times,serif\" font-size=\"14.00\" fill=\"#000000\">split_feature_name: crew</text>\n<text text-anchor=\"middle\" x=\"1748.1493\" y=\"-434.6305\" font-family=\"Times,serif\" font-size=\"14.00\" fill=\"#000000\">threshold: 7.500000000000001</text>\n</g>\n<!-- split22&#45;&gt;split28 -->\n<g id=\"edge26\" class=\"edge\">\n<title>split22&#45;&gt;split28</title>\n<path fill=\"none\" stroke=\"#000000\" d=\"M1503.4494,-527.1953C1552.2532,-510.9676 1617.3685,-489.3162 1668.1587,-472.428\"/>\n<polygon fill=\"#000000\" stroke=\"#000000\" points=\"1669.4074,-475.7013 1677.7922,-469.2248 1667.1987,-469.0589 1669.4074,-475.7013\"/>\n<text text-anchor=\"middle\" x=\"1614.6493\" y=\"-494.5006\" font-family=\"Times,serif\" font-size=\"14.00\" fill=\"#000000\">&gt;</text>\n</g>\n<!-- leaf23 -->\n<g id=\"node35\" class=\"node\">\n<title>leaf23</title>\n<ellipse fill=\"none\" stroke=\"#000000\" cx=\"1496.1493\" cy=\"-341.0904\" rx=\"154.2987\" ry=\"26.7407\"/>\n<text text-anchor=\"middle\" x=\"1496.1493\" y=\"-344.8904\" font-family=\"Times,serif\" font-size=\"14.00\" fill=\"#000000\">leaf_index: 23</text>\n<text text-anchor=\"middle\" x=\"1496.1493\" y=\"-329.8904\" font-family=\"Times,serif\" font-size=\"14.00\" fill=\"#000000\">leaf_value: &#45;0.5298723725737402</text>\n</g>\n<!-- split28&#45;&gt;leaf23 -->\n<g id=\"edge24\" class=\"edge\">\n<title>split28&#45;&gt;leaf23</title>\n<path fill=\"none\" stroke=\"#000000\" d=\"M1689.0665,-421.2736C1652.1861,-405.9448 1604.5304,-386.1374 1565.8122,-370.0448\"/>\n<polygon fill=\"#000000\" stroke=\"#000000\" points=\"1566.7506,-366.6446 1556.1732,-366.0384 1564.064,-373.1085 1566.7506,-366.6446\"/>\n<text text-anchor=\"middle\" x=\"1646.6493\" y=\"-389.7605\" font-family=\"Times,serif\" font-size=\"14.00\" fill=\"#000000\">&lt;=</text>\n</g>\n<!-- leaf29 -->\n<g id=\"node36\" class=\"node\">\n<title>leaf29</title>\n<ellipse fill=\"none\" stroke=\"#000000\" cx=\"1817.1493\" cy=\"-341.0904\" rx=\"148.4848\" ry=\"26.7407\"/>\n<text text-anchor=\"middle\" x=\"1817.1493\" y=\"-344.8904\" font-family=\"Times,serif\" font-size=\"14.00\" fill=\"#000000\">leaf_index: 29</text>\n<text text-anchor=\"middle\" x=\"1817.1493\" y=\"-329.8904\" font-family=\"Times,serif\" font-size=\"14.00\" fill=\"#000000\">leaf_value: &#45;0.547531448986711</text>\n</g>\n<!-- split28&#45;&gt;leaf29 -->\n<g id=\"edge25\" class=\"edge\">\n<title>split28&#45;&gt;leaf29</title>\n<path fill=\"none\" stroke=\"#000000\" d=\"M1765.7394,-419.1292C1774.2702,-406.1796 1784.6336,-390.4483 1793.8146,-376.5118\"/>\n<polygon fill=\"#000000\" stroke=\"#000000\" points=\"1796.7728,-378.3835 1799.3513,-368.1072 1790.9272,-374.5325 1796.7728,-378.3835\"/>\n<text text-anchor=\"middle\" x=\"1791.6493\" y=\"-389.7605\" font-family=\"Times,serif\" font-size=\"14.00\" fill=\"#000000\">&gt;</text>\n</g>\n<!-- split13 -->\n<g id=\"node38\" class=\"node\">\n<title>split13</title>\n<ellipse fill=\"none\" stroke=\"#000000\" cx=\"1522.1493\" cy=\"-760.0509\" rx=\"142.257\" ry=\"26.7407\"/>\n<text text-anchor=\"middle\" x=\"1522.1493\" y=\"-763.8509\" font-family=\"Times,serif\" font-size=\"14.00\" fill=\"#000000\">split_feature_name: r</text>\n<text text-anchor=\"middle\" x=\"1522.1493\" y=\"-748.8509\" font-family=\"Times,serif\" font-size=\"14.00\" fill=\"#000000\">threshold: 804.7500000000001</text>\n</g>\n<!-- split12&#45;&gt;split13 -->\n<g id=\"edge37\" class=\"edge\">\n<title>split12&#45;&gt;split13</title>\n<path fill=\"none\" stroke=\"#000000\" d=\"M1522.1493,-837.8178C1522.1493,-825.4784 1522.1493,-810.6569 1522.1493,-797.278\"/>\n<polygon fill=\"#000000\" stroke=\"#000000\" points=\"1525.6494,-796.9326 1522.1493,-786.9326 1518.6494,-796.9327 1525.6494,-796.9326\"/>\n<text text-anchor=\"middle\" x=\"1530.6493\" y=\"-808.7209\" font-family=\"Times,serif\" font-size=\"14.00\" fill=\"#000000\">&lt;=</text>\n</g>\n<!-- split14 -->\n<g id=\"node45\" class=\"node\">\n<title>split14</title>\n<ellipse fill=\"none\" stroke=\"#000000\" cx=\"2065.1493\" cy=\"-760.0509\" rx=\"147.1565\" ry=\"26.7407\"/>\n<text text-anchor=\"middle\" x=\"2065.1493\" y=\"-763.8509\" font-family=\"Times,serif\" font-size=\"14.00\" fill=\"#000000\">split_feature_name: ecg</text>\n<text text-anchor=\"middle\" x=\"2065.1493\" y=\"-748.8509\" font-family=\"Times,serif\" font-size=\"14.00\" fill=\"#000000\">threshold: 31160.000000000004</text>\n</g>\n<!-- split12&#45;&gt;split14 -->\n<g id=\"edge42\" class=\"edge\">\n<title>split12&#45;&gt;split14</title>\n<path fill=\"none\" stroke=\"#000000\" d=\"M1621.7438,-845.58C1715.7255,-827.4518 1856.3925,-800.3183 1953.9866,-781.4932\"/>\n<polygon fill=\"#000000\" stroke=\"#000000\" points=\"1954.7296,-784.9145 1963.8857,-779.5838 1953.4037,-778.0412 1954.7296,-784.9145\"/>\n<text text-anchor=\"middle\" x=\"1831.6493\" y=\"-808.7209\" font-family=\"Times,serif\" font-size=\"14.00\" fill=\"#000000\">&gt;</text>\n</g>\n<!-- leaf11 -->\n<g id=\"node39\" class=\"node\">\n<title>leaf11</title>\n<ellipse fill=\"none\" stroke=\"#000000\" cx=\"1434.1493\" cy=\"-655.3107\" rx=\"154.2987\" ry=\"26.7407\"/>\n<text text-anchor=\"middle\" x=\"1434.1493\" y=\"-659.1107\" font-family=\"Times,serif\" font-size=\"14.00\" fill=\"#000000\">leaf_index: 11</text>\n<text text-anchor=\"middle\" x=\"1434.1493\" y=\"-644.1107\" font-family=\"Times,serif\" font-size=\"14.00\" fill=\"#000000\">leaf_value: &#45;0.5468763277735044</text>\n</g>\n<!-- split13&#45;&gt;leaf11 -->\n<g id=\"edge31\" class=\"edge\">\n<title>split13&#45;&gt;leaf11</title>\n<path fill=\"none\" stroke=\"#000000\" d=\"M1499.7155,-733.3495C1488.6478,-720.1765 1475.1616,-704.1248 1463.3045,-690.0122\"/>\n<polygon fill=\"#000000\" stroke=\"#000000\" points=\"1465.6546,-687.3683 1456.5421,-681.9634 1460.2951,-691.8712 1465.6546,-687.3683\"/>\n<text text-anchor=\"middle\" x=\"1492.6493\" y=\"-703.9808\" font-family=\"Times,serif\" font-size=\"14.00\" fill=\"#000000\">&lt;=</text>\n</g>\n<!-- split16 -->\n<g id=\"node40\" class=\"node\">\n<title>split16</title>\n<ellipse fill=\"none\" stroke=\"#000000\" cx=\"1748.1493\" cy=\"-655.3107\" rx=\"142.257\" ry=\"26.7407\"/>\n<text text-anchor=\"middle\" x=\"1748.1493\" y=\"-659.1107\" font-family=\"Times,serif\" font-size=\"14.00\" fill=\"#000000\">split_feature_name: r</text>\n<text text-anchor=\"middle\" x=\"1748.1493\" y=\"-644.1107\" font-family=\"Times,serif\" font-size=\"14.00\" fill=\"#000000\">threshold: 824.2500000000001</text>\n</g>\n<!-- split13&#45;&gt;split16 -->\n<g id=\"edge36\" class=\"edge\">\n<title>split13&#45;&gt;split16</title>\n<path fill=\"none\" stroke=\"#000000\" d=\"M1575.9948,-735.0961C1608.6937,-719.9417 1650.5959,-700.522 1684.8733,-684.6361\"/>\n<polygon fill=\"#000000\" stroke=\"#000000\" points=\"1686.7238,-687.6362 1694.3251,-680.2557 1683.7804,-681.2851 1686.7238,-687.6362\"/>\n<text text-anchor=\"middle\" x=\"1653.6493\" y=\"-703.9808\" font-family=\"Times,serif\" font-size=\"14.00\" fill=\"#000000\">&gt;</text>\n</g>\n<!-- leaf14 -->\n<g id=\"node41\" class=\"node\">\n<title>leaf14</title>\n<ellipse fill=\"none\" stroke=\"#000000\" cx=\"1747.1493\" cy=\"-550.5706\" rx=\"154.2987\" ry=\"26.7407\"/>\n<text text-anchor=\"middle\" x=\"1747.1493\" y=\"-554.3706\" font-family=\"Times,serif\" font-size=\"14.00\" fill=\"#000000\">leaf_index: 14</text>\n<text text-anchor=\"middle\" x=\"1747.1493\" y=\"-539.3706\" font-family=\"Times,serif\" font-size=\"14.00\" fill=\"#000000\">leaf_value: &#45;0.5319477022306024</text>\n</g>\n<!-- split16&#45;&gt;leaf14 -->\n<g id=\"edge32\" class=\"edge\">\n<title>split16&#45;&gt;leaf14</title>\n<path fill=\"none\" stroke=\"#000000\" d=\"M1747.8918,-628.3376C1747.7739,-615.9981 1747.6324,-601.1767 1747.5047,-587.7978\"/>\n<polygon fill=\"#000000\" stroke=\"#000000\" points=\"1751.0013,-587.4185 1747.4059,-577.4524 1744.0017,-587.4854 1751.0013,-587.4185\"/>\n<text text-anchor=\"middle\" x=\"1756.6493\" y=\"-599.2407\" font-family=\"Times,serif\" font-size=\"14.00\" fill=\"#000000\">&lt;=</text>\n</g>\n<!-- split17 -->\n<g id=\"node42\" class=\"node\">\n<title>split17</title>\n<ellipse fill=\"none\" stroke=\"#000000\" cx=\"2067.1493\" cy=\"-550.5706\" rx=\"147.5709\" ry=\"26.7407\"/>\n<text text-anchor=\"middle\" x=\"2067.1493\" y=\"-554.3706\" font-family=\"Times,serif\" font-size=\"14.00\" fill=\"#000000\">split_feature_name: gsr</text>\n<text text-anchor=\"middle\" x=\"2067.1493\" y=\"-539.3706\" font-family=\"Times,serif\" font-size=\"14.00\" fill=\"#000000\">threshold: 455.62500000000006</text>\n</g>\n<!-- split16&#45;&gt;split17 -->\n<g id=\"edge35\" class=\"edge\">\n<title>split16&#45;&gt;split17</title>\n<path fill=\"none\" stroke=\"#000000\" d=\"M1819.3421,-631.9354C1868.5931,-615.7643 1934.2476,-594.2074 1985.6039,-577.3452\"/>\n<polygon fill=\"#000000\" stroke=\"#000000\" points=\"1986.938,-580.591 1995.3471,-574.1461 1984.7542,-573.9404 1986.938,-580.591\"/>\n<text text-anchor=\"middle\" x=\"1931.6493\" y=\"-599.2407\" font-family=\"Times,serif\" font-size=\"14.00\" fill=\"#000000\">&gt;</text>\n</g>\n<!-- leaf17 -->\n<g id=\"node43\" class=\"node\">\n<title>leaf17</title>\n<ellipse fill=\"none\" stroke=\"#000000\" cx=\"2065.1493\" cy=\"-445.8305\" rx=\"154.2987\" ry=\"26.7407\"/>\n<text text-anchor=\"middle\" x=\"2065.1493\" y=\"-449.6305\" font-family=\"Times,serif\" font-size=\"14.00\" fill=\"#000000\">leaf_index: 17</text>\n<text text-anchor=\"middle\" x=\"2065.1493\" y=\"-434.6305\" font-family=\"Times,serif\" font-size=\"14.00\" fill=\"#000000\">leaf_value: &#45;0.5283901092880443</text>\n</g>\n<!-- split17&#45;&gt;leaf17 -->\n<g id=\"edge33\" class=\"edge\">\n<title>split17&#45;&gt;leaf17</title>\n<path fill=\"none\" stroke=\"#000000\" d=\"M2066.6342,-523.5975C2066.3986,-511.258 2066.1156,-496.4365 2065.8601,-483.0577\"/>\n<polygon fill=\"#000000\" stroke=\"#000000\" points=\"2069.353,-482.6436 2065.6626,-472.7123 2062.3542,-482.7773 2069.353,-482.6436\"/>\n<text text-anchor=\"middle\" x=\"2075.6493\" y=\"-494.5006\" font-family=\"Times,serif\" font-size=\"14.00\" fill=\"#000000\">&lt;=</text>\n</g>\n<!-- leaf18 -->\n<g id=\"node44\" class=\"node\">\n<title>leaf18</title>\n<ellipse fill=\"none\" stroke=\"#000000\" cx=\"2391.1493\" cy=\"-445.8305\" rx=\"154.2987\" ry=\"26.7407\"/>\n<text text-anchor=\"middle\" x=\"2391.1493\" y=\"-449.6305\" font-family=\"Times,serif\" font-size=\"14.00\" fill=\"#000000\">leaf_index: 18</text>\n<text text-anchor=\"middle\" x=\"2391.1493\" y=\"-434.6305\" font-family=\"Times,serif\" font-size=\"14.00\" fill=\"#000000\">leaf_value: &#45;0.5457616033785094</text>\n</g>\n<!-- split17&#45;&gt;leaf18 -->\n<g id=\"edge34\" class=\"edge\">\n<title>split17&#45;&gt;leaf18</title>\n<path fill=\"none\" stroke=\"#000000\" d=\"M2139.8612,-527.0649C2189.8314,-510.911 2256.2845,-489.4285 2308.3022,-472.6127\"/>\n<polygon fill=\"#000000\" stroke=\"#000000\" points=\"2309.4012,-475.9358 2317.8398,-469.5294 2307.248,-469.2752 2309.4012,-475.9358\"/>\n<text text-anchor=\"middle\" x=\"2253.6493\" y=\"-494.5006\" font-family=\"Times,serif\" font-size=\"14.00\" fill=\"#000000\">&gt;</text>\n</g>\n<!-- leaf13 -->\n<g id=\"node46\" class=\"node\">\n<title>leaf13</title>\n<ellipse fill=\"none\" stroke=\"#000000\" cx=\"2065.1493\" cy=\"-655.3107\" rx=\"154.2987\" ry=\"26.7407\"/>\n<text text-anchor=\"middle\" x=\"2065.1493\" y=\"-659.1107\" font-family=\"Times,serif\" font-size=\"14.00\" fill=\"#000000\">leaf_index: 13</text>\n<text text-anchor=\"middle\" x=\"2065.1493\" y=\"-644.1107\" font-family=\"Times,serif\" font-size=\"14.00\" fill=\"#000000\">leaf_value: &#45;0.5309034873297706</text>\n</g>\n<!-- split14&#45;&gt;leaf13 -->\n<g id=\"edge38\" class=\"edge\">\n<title>split14&#45;&gt;leaf13</title>\n<path fill=\"none\" stroke=\"#000000\" d=\"M2065.1493,-733.0777C2065.1493,-720.7382 2065.1493,-705.9168 2065.1493,-692.5379\"/>\n<polygon fill=\"#000000\" stroke=\"#000000\" points=\"2068.6494,-692.1925 2065.1493,-682.1925 2061.6494,-692.1926 2068.6494,-692.1925\"/>\n<text text-anchor=\"middle\" x=\"2073.6493\" y=\"-703.9808\" font-family=\"Times,serif\" font-size=\"14.00\" fill=\"#000000\">&lt;=</text>\n</g>\n<!-- split15 -->\n<g id=\"node47\" class=\"node\">\n<title>split15</title>\n<ellipse fill=\"none\" stroke=\"#000000\" cx=\"2387.1493\" cy=\"-655.3107\" rx=\"147.5709\" ry=\"26.7407\"/>\n<text text-anchor=\"middle\" x=\"2387.1493\" y=\"-659.1107\" font-family=\"Times,serif\" font-size=\"14.00\" fill=\"#000000\">split_feature_name: gsr</text>\n<text text-anchor=\"middle\" x=\"2387.1493\" y=\"-644.1107\" font-family=\"Times,serif\" font-size=\"14.00\" fill=\"#000000\">threshold: 1090.5000000000002</text>\n</g>\n<!-- split14&#45;&gt;split15 -->\n<g id=\"edge41\" class=\"edge\">\n<title>split14&#45;&gt;split15</title>\n<path fill=\"none\" stroke=\"#000000\" d=\"M2137.4124,-736.5451C2187.1452,-720.368 2253.3063,-698.8472 2305.0357,-682.0206\"/>\n<polygon fill=\"#000000\" stroke=\"#000000\" points=\"2306.4225,-685.2501 2314.8494,-678.8285 2304.2571,-678.5934 2306.4225,-685.2501\"/>\n<text text-anchor=\"middle\" x=\"2250.6493\" y=\"-703.9808\" font-family=\"Times,serif\" font-size=\"14.00\" fill=\"#000000\">&gt;</text>\n</g>\n<!-- leaf15 -->\n<g id=\"node48\" class=\"node\">\n<title>leaf15</title>\n<ellipse fill=\"none\" stroke=\"#000000\" cx=\"2387.1493\" cy=\"-550.5706\" rx=\"154.2987\" ry=\"26.7407\"/>\n<text text-anchor=\"middle\" x=\"2387.1493\" y=\"-554.3706\" font-family=\"Times,serif\" font-size=\"14.00\" fill=\"#000000\">leaf_index: 15</text>\n<text text-anchor=\"middle\" x=\"2387.1493\" y=\"-539.3706\" font-family=\"Times,serif\" font-size=\"14.00\" fill=\"#000000\">leaf_value: &#45;0.5298821402707778</text>\n</g>\n<!-- split15&#45;&gt;leaf15 -->\n<g id=\"edge39\" class=\"edge\">\n<title>split15&#45;&gt;leaf15</title>\n<path fill=\"none\" stroke=\"#000000\" d=\"M2387.1493,-628.3376C2387.1493,-615.9981 2387.1493,-601.1767 2387.1493,-587.7978\"/>\n<polygon fill=\"#000000\" stroke=\"#000000\" points=\"2390.6494,-587.4524 2387.1493,-577.4524 2383.6494,-587.4524 2390.6494,-587.4524\"/>\n<text text-anchor=\"middle\" x=\"2395.6493\" y=\"-599.2407\" font-family=\"Times,serif\" font-size=\"14.00\" fill=\"#000000\">&lt;=</text>\n</g>\n<!-- leaf16 -->\n<g id=\"node49\" class=\"node\">\n<title>leaf16</title>\n<ellipse fill=\"none\" stroke=\"#000000\" cx=\"2713.1493\" cy=\"-550.5706\" rx=\"154.2987\" ry=\"26.7407\"/>\n<text text-anchor=\"middle\" x=\"2713.1493\" y=\"-554.3706\" font-family=\"Times,serif\" font-size=\"14.00\" fill=\"#000000\">leaf_index: 16</text>\n<text text-anchor=\"middle\" x=\"2713.1493\" y=\"-539.3706\" font-family=\"Times,serif\" font-size=\"14.00\" fill=\"#000000\">leaf_value: &#45;0.5475637463191142</text>\n</g>\n<!-- split15&#45;&gt;leaf16 -->\n<g id=\"edge40\" class=\"edge\">\n<title>split15&#45;&gt;leaf16</title>\n<path fill=\"none\" stroke=\"#000000\" d=\"M2460.31,-631.805C2510.5887,-615.6511 2577.452,-594.1686 2629.7908,-577.3528\"/>\n<polygon fill=\"#000000\" stroke=\"#000000\" points=\"2630.9372,-580.6607 2639.3873,-574.2695 2628.796,-573.9963 2630.9372,-580.6607\"/>\n<text text-anchor=\"middle\" x=\"2574.6493\" y=\"-599.2407\" font-family=\"Times,serif\" font-size=\"14.00\" fill=\"#000000\">&gt;</text>\n</g>\n<!-- split4 -->\n<g id=\"node52\" class=\"node\">\n<title>split4</title>\n<ellipse fill=\"none\" stroke=\"#000000\" cx=\"1965.1493\" cy=\"-1179.0113\" rx=\"147.5709\" ry=\"26.7407\"/>\n<text text-anchor=\"middle\" x=\"1965.1493\" y=\"-1182.8113\" font-family=\"Times,serif\" font-size=\"14.00\" fill=\"#000000\">split_feature_name: ecg</text>\n<text text-anchor=\"middle\" x=\"1965.1493\" y=\"-1167.8113\" font-family=\"Times,serif\" font-size=\"14.00\" fill=\"#000000\">threshold: 27432.000000000004</text>\n</g>\n<!-- split3&#45;&gt;split4 -->\n<g id=\"edge51\" class=\"edge\">\n<title>split3&#45;&gt;split4</title>\n<path fill=\"none\" stroke=\"#000000\" d=\"M1965.1493,-1256.7783C1965.1493,-1244.4388 1965.1493,-1229.6174 1965.1493,-1216.2385\"/>\n<polygon fill=\"#000000\" stroke=\"#000000\" points=\"1968.6494,-1215.8931 1965.1493,-1205.8931 1961.6494,-1215.8931 1968.6494,-1215.8931\"/>\n<text text-anchor=\"middle\" x=\"1973.6493\" y=\"-1227.6814\" font-family=\"Times,serif\" font-size=\"14.00\" fill=\"#000000\">&lt;=</text>\n</g>\n<!-- split5 -->\n<g id=\"node55\" class=\"node\">\n<title>split5</title>\n<ellipse fill=\"none\" stroke=\"#000000\" cx=\"2464.1493\" cy=\"-1179.0113\" rx=\"142.257\" ry=\"26.7407\"/>\n<text text-anchor=\"middle\" x=\"2464.1493\" y=\"-1182.8113\" font-family=\"Times,serif\" font-size=\"14.00\" fill=\"#000000\">split_feature_name: crew</text>\n<text text-anchor=\"middle\" x=\"2464.1493\" y=\"-1167.8113\" font-family=\"Times,serif\" font-size=\"14.00\" fill=\"#000000\">threshold: 5.500000000000001</text>\n</g>\n<!-- split3&#45;&gt;split5 -->\n<g id=\"edge56\" class=\"edge\">\n<title>split3&#45;&gt;split5</title>\n<path fill=\"none\" stroke=\"#000000\" d=\"M2060.4763,-1263.7423C2145.7335,-1245.8468 2270.4912,-1219.6602 2358.7046,-1201.1442\"/>\n<polygon fill=\"#000000\" stroke=\"#000000\" points=\"2359.6688,-1204.5181 2368.7365,-1199.0385 2358.2307,-1197.6674 2359.6688,-1204.5181\"/>\n<text text-anchor=\"middle\" x=\"2249.6493\" y=\"-1227.6814\" font-family=\"Times,serif\" font-size=\"14.00\" fill=\"#000000\">&gt;</text>\n</g>\n<!-- leaf3 -->\n<g id=\"node53\" class=\"node\">\n<title>leaf3</title>\n<ellipse fill=\"none\" stroke=\"#000000\" cx=\"1812.1493\" cy=\"-1074.2712\" rx=\"154.2987\" ry=\"26.7407\"/>\n<text text-anchor=\"middle\" x=\"1812.1493\" y=\"-1078.0712\" font-family=\"Times,serif\" font-size=\"14.00\" fill=\"#000000\">leaf_index: 3</text>\n<text text-anchor=\"middle\" x=\"1812.1493\" y=\"-1063.0712\" font-family=\"Times,serif\" font-size=\"14.00\" fill=\"#000000\">leaf_value: &#45;0.5332279660237202</text>\n</g>\n<!-- split4&#45;&gt;leaf3 -->\n<g id=\"edge49\" class=\"edge\">\n<title>split4&#45;&gt;leaf3</title>\n<path fill=\"none\" stroke=\"#000000\" d=\"M1926.9356,-1152.8512C1906.307,-1138.7293 1880.6742,-1121.1817 1858.8673,-1106.2533\"/>\n<polygon fill=\"#000000\" stroke=\"#000000\" points=\"1860.6349,-1103.2217 1850.4061,-1100.4609 1856.6806,-1108.9979 1860.6349,-1103.2217\"/>\n<text text-anchor=\"middle\" x=\"1906.6493\" y=\"-1122.9413\" font-family=\"Times,serif\" font-size=\"14.00\" fill=\"#000000\">&lt;=</text>\n</g>\n<!-- leaf5 -->\n<g id=\"node54\" class=\"node\">\n<title>leaf5</title>\n<ellipse fill=\"none\" stroke=\"#000000\" cx=\"2138.1493\" cy=\"-1074.2712\" rx=\"154.2987\" ry=\"26.7407\"/>\n<text text-anchor=\"middle\" x=\"2138.1493\" y=\"-1078.0712\" font-family=\"Times,serif\" font-size=\"14.00\" fill=\"#000000\">leaf_index: 5</text>\n<text text-anchor=\"middle\" x=\"2138.1493\" y=\"-1063.0712\" font-family=\"Times,serif\" font-size=\"14.00\" fill=\"#000000\">leaf_value: &#45;0.5460681015423396</text>\n</g>\n<!-- split4&#45;&gt;leaf5 -->\n<g id=\"edge50\" class=\"edge\">\n<title>split4&#45;&gt;leaf5</title>\n<path fill=\"none\" stroke=\"#000000\" d=\"M2007.9133,-1153.1205C2031.7219,-1138.706 2061.5295,-1120.6595 2086.6179,-1105.4701\"/>\n<polygon fill=\"#000000\" stroke=\"#000000\" points=\"2088.5359,-1108.4004 2095.2776,-1100.2272 2084.9105,-1102.4123 2088.5359,-1108.4004\"/>\n<text text-anchor=\"middle\" x=\"2066.6493\" y=\"-1122.9413\" font-family=\"Times,serif\" font-size=\"14.00\" fill=\"#000000\">&gt;</text>\n</g>\n<!-- leaf4 -->\n<g id=\"node56\" class=\"node\">\n<title>leaf4</title>\n<ellipse fill=\"none\" stroke=\"#000000\" cx=\"2464.1493\" cy=\"-1074.2712\" rx=\"154.2987\" ry=\"26.7407\"/>\n<text text-anchor=\"middle\" x=\"2464.1493\" y=\"-1078.0712\" font-family=\"Times,serif\" font-size=\"14.00\" fill=\"#000000\">leaf_index: 4</text>\n<text text-anchor=\"middle\" x=\"2464.1493\" y=\"-1063.0712\" font-family=\"Times,serif\" font-size=\"14.00\" fill=\"#000000\">leaf_value: &#45;0.5472097995433328</text>\n</g>\n<!-- split5&#45;&gt;leaf4 -->\n<g id=\"edge52\" class=\"edge\">\n<title>split5&#45;&gt;leaf4</title>\n<path fill=\"none\" stroke=\"#000000\" d=\"M2464.1493,-1152.0381C2464.1493,-1139.6987 2464.1493,-1124.8772 2464.1493,-1111.4983\"/>\n<polygon fill=\"#000000\" stroke=\"#000000\" points=\"2467.6494,-1111.153 2464.1493,-1101.153 2460.6494,-1111.153 2467.6494,-1111.153\"/>\n<text text-anchor=\"middle\" x=\"2472.6493\" y=\"-1122.9413\" font-family=\"Times,serif\" font-size=\"14.00\" fill=\"#000000\">&lt;=</text>\n</g>\n<!-- split6 -->\n<g id=\"node57\" class=\"node\">\n<title>split6</title>\n<ellipse fill=\"none\" stroke=\"#000000\" cx=\"2784.1493\" cy=\"-1074.2712\" rx=\"147.5709\" ry=\"26.7407\"/>\n<text text-anchor=\"middle\" x=\"2784.1493\" y=\"-1078.0712\" font-family=\"Times,serif\" font-size=\"14.00\" fill=\"#000000\">split_feature_name: gsr</text>\n<text text-anchor=\"middle\" x=\"2784.1493\" y=\"-1063.0712\" font-family=\"Times,serif\" font-size=\"14.00\" fill=\"#000000\">threshold: 1782.5000000000002</text>\n</g>\n<!-- split5&#45;&gt;split6 -->\n<g id=\"edge55\" class=\"edge\">\n<title>split5&#45;&gt;split6</title>\n<path fill=\"none\" stroke=\"#000000\" d=\"M2535.5652,-1155.636C2584.9707,-1139.4649 2650.831,-1117.908 2702.3482,-1101.0457\"/>\n<polygon fill=\"#000000\" stroke=\"#000000\" points=\"2703.7069,-1104.2838 2712.122,-1097.8467 2701.5293,-1097.6311 2703.7069,-1104.2838\"/>\n<text text-anchor=\"middle\" x=\"2648.6493\" y=\"-1122.9413\" font-family=\"Times,serif\" font-size=\"14.00\" fill=\"#000000\">&gt;</text>\n</g>\n<!-- leaf6 -->\n<g id=\"node58\" class=\"node\">\n<title>leaf6</title>\n<ellipse fill=\"none\" stroke=\"#000000\" cx=\"2623.1493\" cy=\"-969.5311\" rx=\"154.2987\" ry=\"26.7407\"/>\n<text text-anchor=\"middle\" x=\"2623.1493\" y=\"-973.3311\" font-family=\"Times,serif\" font-size=\"14.00\" fill=\"#000000\">leaf_index: 6</text>\n<text text-anchor=\"middle\" x=\"2623.1493\" y=\"-958.3311\" font-family=\"Times,serif\" font-size=\"14.00\" fill=\"#000000\">leaf_value: &#45;0.5466970632779911</text>\n</g>\n<!-- split6&#45;&gt;leaf6 -->\n<g id=\"edge53\" class=\"edge\">\n<title>split6&#45;&gt;leaf6</title>\n<path fill=\"none\" stroke=\"#000000\" d=\"M2744.3515,-1048.3804C2722.3879,-1034.0917 2694.9385,-1016.2343 2671.719,-1001.1286\"/>\n<polygon fill=\"#000000\" stroke=\"#000000\" points=\"2673.3381,-998.0065 2663.0472,-995.4871 2669.5209,-1003.8741 2673.3381,-998.0065\"/>\n<text text-anchor=\"middle\" x=\"2722.6493\" y=\"-1018.2012\" font-family=\"Times,serif\" font-size=\"14.00\" fill=\"#000000\">&lt;=</text>\n</g>\n<!-- leaf7 -->\n<g id=\"node59\" class=\"node\">\n<title>leaf7</title>\n<ellipse fill=\"none\" stroke=\"#000000\" cx=\"2944.1493\" cy=\"-969.5311\" rx=\"149.3993\" ry=\"26.7407\"/>\n<text text-anchor=\"middle\" x=\"2944.1493\" y=\"-973.3311\" font-family=\"Times,serif\" font-size=\"14.00\" fill=\"#000000\">leaf_index: 7</text>\n<text text-anchor=\"middle\" x=\"2944.1493\" y=\"-958.3311\" font-family=\"Times,serif\" font-size=\"14.00\" fill=\"#000000\">leaf_value: &#45;0.528376441226526</text>\n</g>\n<!-- split6&#45;&gt;leaf7 -->\n<g id=\"edge54\" class=\"edge\">\n<title>split6&#45;&gt;leaf7</title>\n<path fill=\"none\" stroke=\"#000000\" d=\"M2823.6998,-1048.3804C2845.527,-1034.0917 2872.8059,-1016.2343 2895.8813,-1001.1286\"/>\n<polygon fill=\"#000000\" stroke=\"#000000\" points=\"2898.0494,-1003.8925 2904.4992,-995.4871 2894.2155,-998.0358 2898.0494,-1003.8925\"/>\n<text text-anchor=\"middle\" x=\"2878.6493\" y=\"-1018.2012\" font-family=\"Times,serif\" font-size=\"14.00\" fill=\"#000000\">&gt;</text>\n</g>\n</g>\n</svg>\n"
          },
          "metadata": {
            "tags": []
          },
          "execution_count": 9
        }
      ]
    },
    {
      "cell_type": "code",
      "metadata": {
        "id": "zPOwBW1mcmAi",
        "colab_type": "code",
        "colab": {
          "base_uri": "https://localhost:8080/",
          "height": 233
        },
        "outputId": "73d1f339-57c2-4d55-8cbb-ee64269b80fd"
      },
      "source": [
        "lgb.plot_tree(model)"
      ],
      "execution_count": null,
      "outputs": [
        {
          "output_type": "execute_result",
          "data": {
            "text/plain": [
              "<matplotlib.axes._subplots.AxesSubplot at 0x7f9573457588>"
            ]
          },
          "metadata": {
            "tags": []
          },
          "execution_count": 10
        },
        {
          "output_type": "display_data",
          "data": {
            "image/png": "[encoded data removed]",
            "text/plain": [
              "<Figure size 432x288 with 1 Axes>"
            ]
          },
          "metadata": {
            "tags": [],
            "needs_background": "light"
          }
        }
      ]
    },
    {
      "cell_type": "code",
      "metadata": {
        "id": "y6Lb0aoSGY5F",
        "colab_type": "code",
        "colab": {
          "base_uri": "https://localhost:8080/",
          "height": 85
        },
        "outputId": "1ced8856-97c0-4b40-8380-9091c95db0c7"
      },
      "source": [
        "test = featureModify(False, None)\n",
        "print(\"Done test read\")"
      ],
      "execution_count": null,
      "outputs": [
        {
          "output_type": "stream",
          "text": [
            "Memory usage of dataframe is 3974.83 MB\n",
            "Memory usage after optimization is: 1079.37 MB\n",
            "Decreased by 72.8%\n",
            "Done test read\n"
          ],
          "name": "stdout"
        }
      ]
    },
    {
      "cell_type": "code",
      "metadata": {
        "id": "S4AxQ3laLG0x",
        "colab_type": "code",
        "colab": {
          "base_uri": "https://localhost:8080/",
          "height": 224
        },
        "outputId": "ef949c32-3279-4581-cbe3-8591fb9e8f9f"
      },
      "source": [
        "test.head()"
      ],
      "execution_count": null,
      "outputs": [
        {
          "output_type": "execute_result",
          "data": {
            "text/html": [
              "<div>\n",
              "<style scoped>\n",
              "    .dataframe tbody tr th:only-of-type {\n",
              "        vertical-align: middle;\n",
              "    }\n",
              "\n",
              "    .dataframe tbody tr th {\n",
              "        vertical-align: top;\n",
              "    }\n",
              "\n",
              "    .dataframe thead th {\n",
              "        text-align: right;\n",
              "    }\n",
              "</style>\n",
              "<table border=\"1\" class=\"dataframe\">\n",
              "  <thead>\n",
              "    <tr style=\"text-align: right;\">\n",
              "      <th></th>\n",
              "      <th>id</th>\n",
              "      <th>crew</th>\n",
              "      <th>experiment</th>\n",
              "      <th>time</th>\n",
              "      <th>seat</th>\n",
              "      <th>eeg_fp1</th>\n",
              "      <th>eeg_f7</th>\n",
              "      <th>eeg_f8</th>\n",
              "      <th>eeg_t4</th>\n",
              "      <th>eeg_t6</th>\n",
              "      <th>eeg_t5</th>\n",
              "      <th>eeg_t3</th>\n",
              "      <th>eeg_fp2</th>\n",
              "      <th>eeg_o1</th>\n",
              "      <th>eeg_p3</th>\n",
              "      <th>eeg_pz</th>\n",
              "      <th>eeg_f3</th>\n",
              "      <th>eeg_fz</th>\n",
              "      <th>eeg_f4</th>\n",
              "      <th>eeg_c4</th>\n",
              "      <th>eeg_p4</th>\n",
              "      <th>eeg_poz</th>\n",
              "      <th>eeg_c3</th>\n",
              "      <th>eeg_cz</th>\n",
              "      <th>eeg_o2</th>\n",
              "      <th>ecg</th>\n",
              "      <th>r</th>\n",
              "      <th>gsr</th>\n",
              "    </tr>\n",
              "  </thead>\n",
              "  <tbody>\n",
              "    <tr>\n",
              "      <th>0</th>\n",
              "      <td>0</td>\n",
              "      <td>1</td>\n",
              "      <td>LOFT</td>\n",
              "      <td>0.000000</td>\n",
              "      <td>0</td>\n",
              "      <td>17.906250</td>\n",
              "      <td>6.128906</td>\n",
              "      <td>0.994629</td>\n",
              "      <td>-28.203125</td>\n",
              "      <td>-47.687500</td>\n",
              "      <td>-187.125000</td>\n",
              "      <td>-33.187500</td>\n",
              "      <td>-4.222656</td>\n",
              "      <td>8.179688</td>\n",
              "      <td>33.156250</td>\n",
              "      <td>33.812500</td>\n",
              "      <td>21.750000</td>\n",
              "      <td>16.296875</td>\n",
              "      <td>-7.042969</td>\n",
              "      <td>-14.406250</td>\n",
              "      <td>-4.035156</td>\n",
              "      <td>-0.393799</td>\n",
              "      <td>31.843750</td>\n",
              "      <td>17.078125</td>\n",
              "      <td>-8.140625</td>\n",
              "      <td>-7324.0</td>\n",
              "      <td>643.0</td>\n",
              "      <td>595.00</td>\n",
              "    </tr>\n",
              "    <tr>\n",
              "      <th>1</th>\n",
              "      <td>1</td>\n",
              "      <td>1</td>\n",
              "      <td>LOFT</td>\n",
              "      <td>0.000000</td>\n",
              "      <td>1</td>\n",
              "      <td>45.875000</td>\n",
              "      <td>94.750000</td>\n",
              "      <td>23.296875</td>\n",
              "      <td>1.391602</td>\n",
              "      <td>2.060547</td>\n",
              "      <td>-5.144531</td>\n",
              "      <td>6.394531</td>\n",
              "      <td>33.406250</td>\n",
              "      <td>-295.000000</td>\n",
              "      <td>8.375000</td>\n",
              "      <td>29.640625</td>\n",
              "      <td>16.218750</td>\n",
              "      <td>850.500000</td>\n",
              "      <td>19.890625</td>\n",
              "      <td>-215.125000</td>\n",
              "      <td>2.119141</td>\n",
              "      <td>7.339844</td>\n",
              "      <td>9.664062</td>\n",
              "      <td>1169.000000</td>\n",
              "      <td>-0.024414</td>\n",
              "      <td>-3336.0</td>\n",
              "      <td>826.5</td>\n",
              "      <td>136.25</td>\n",
              "    </tr>\n",
              "    <tr>\n",
              "      <th>2</th>\n",
              "      <td>2</td>\n",
              "      <td>1</td>\n",
              "      <td>LOFT</td>\n",
              "      <td>0.003906</td>\n",
              "      <td>0</td>\n",
              "      <td>33.125000</td>\n",
              "      <td>28.359375</td>\n",
              "      <td>-7.238281</td>\n",
              "      <td>-7.691406</td>\n",
              "      <td>-25.828125</td>\n",
              "      <td>-107.250000</td>\n",
              "      <td>12.843750</td>\n",
              "      <td>1.214844</td>\n",
              "      <td>13.320312</td>\n",
              "      <td>44.437500</td>\n",
              "      <td>37.593750</td>\n",
              "      <td>29.078125</td>\n",
              "      <td>22.312500</td>\n",
              "      <td>-7.640625</td>\n",
              "      <td>-10.367188</td>\n",
              "      <td>10.953125</td>\n",
              "      <td>6.511719</td>\n",
              "      <td>36.031250</td>\n",
              "      <td>24.359375</td>\n",
              "      <td>0.956055</td>\n",
              "      <td>-7324.0</td>\n",
              "      <td>643.0</td>\n",
              "      <td>595.00</td>\n",
              "    </tr>\n",
              "    <tr>\n",
              "      <th>3</th>\n",
              "      <td>3</td>\n",
              "      <td>1</td>\n",
              "      <td>LOFT</td>\n",
              "      <td>0.003906</td>\n",
              "      <td>1</td>\n",
              "      <td>43.281250</td>\n",
              "      <td>95.875000</td>\n",
              "      <td>18.703125</td>\n",
              "      <td>-1.432617</td>\n",
              "      <td>-4.234375</td>\n",
              "      <td>-8.023438</td>\n",
              "      <td>7.425781</td>\n",
              "      <td>27.343750</td>\n",
              "      <td>-310.250000</td>\n",
              "      <td>5.390625</td>\n",
              "      <td>27.734375</td>\n",
              "      <td>7.218750</td>\n",
              "      <td>816.500000</td>\n",
              "      <td>13.828125</td>\n",
              "      <td>-214.250000</td>\n",
              "      <td>-4.914062</td>\n",
              "      <td>3.503906</td>\n",
              "      <td>3.878906</td>\n",
              "      <td>1159.000000</td>\n",
              "      <td>-0.047607</td>\n",
              "      <td>-3336.0</td>\n",
              "      <td>826.5</td>\n",
              "      <td>136.25</td>\n",
              "    </tr>\n",
              "    <tr>\n",
              "      <th>4</th>\n",
              "      <td>4</td>\n",
              "      <td>1</td>\n",
              "      <td>LOFT</td>\n",
              "      <td>0.007812</td>\n",
              "      <td>0</td>\n",
              "      <td>7.929688</td>\n",
              "      <td>3.460938</td>\n",
              "      <td>-10.859375</td>\n",
              "      <td>-26.359375</td>\n",
              "      <td>-25.890625</td>\n",
              "      <td>37.000000</td>\n",
              "      <td>-50.343750</td>\n",
              "      <td>-11.679688</td>\n",
              "      <td>-1.143555</td>\n",
              "      <td>-17.593750</td>\n",
              "      <td>34.062500</td>\n",
              "      <td>22.906250</td>\n",
              "      <td>19.031250</td>\n",
              "      <td>2.044922</td>\n",
              "      <td>-20.781250</td>\n",
              "      <td>-3.613281</td>\n",
              "      <td>-7.539062</td>\n",
              "      <td>3.083984</td>\n",
              "      <td>13.648438</td>\n",
              "      <td>1.473633</td>\n",
              "      <td>-7324.0</td>\n",
              "      <td>643.0</td>\n",
              "      <td>595.00</td>\n",
              "    </tr>\n",
              "  </tbody>\n",
              "</table>\n",
              "</div>"
            ],
            "text/plain": [
              "   id  crew experiment      time  ...    eeg_o2     ecg      r     gsr\n",
              "0   0     1       LOFT  0.000000  ... -8.140625 -7324.0  643.0  595.00\n",
              "1   1     1       LOFT  0.000000  ... -0.024414 -3336.0  826.5  136.25\n",
              "2   2     1       LOFT  0.003906  ...  0.956055 -7324.0  643.0  595.00\n",
              "3   3     1       LOFT  0.003906  ... -0.047607 -3336.0  826.5  136.25\n",
              "4   4     1       LOFT  0.007812  ...  1.473633 -7324.0  643.0  595.00\n",
              "\n",
              "[5 rows x 28 columns]"
            ]
          },
          "metadata": {
            "tags": []
          },
          "execution_count": 6
        }
      ]
    },
    {
      "cell_type": "code",
      "metadata": {
        "id": "9ZEuBlkMeYPW",
        "colab_type": "code",
        "colab": {}
      },
      "source": [
        "test['pilot']= 100*test['crew']+test['seat']"
      ],
      "execution_count": null,
      "outputs": []
    },
    {
      "cell_type": "code",
      "metadata": {
        "id": "vEoGXIpWGdVV",
        "colab_type": "code",
        "colab": {}
      },
      "source": [
        "test = test[['crew', 'eeg_fp1', 'eeg_f7', 'eeg_f8',\n",
        "       'eeg_t6', 'eeg_t3', 'eeg_fp2', 'eeg_o1','eeg_c3',\n",
        "       'eeg_pz', 'eeg_f3', 'eeg_fz', 'eeg_ f4', 'eeg_c4', 'eeg_poz',\n",
        "       'eeg_cz', 'eeg_o2', 'ecg', 'r', 'gsr','pilot']]"
      ],
      "execution_count": null,
      "outputs": []
    },
    {
      "cell_type": "code",
      "metadata": {
        "id": "vnnL86jMKwU4",
        "colab_type": "code",
        "colab": {}
      },
      "source": [
        "y_pred = model.predict(test, num_iteration=model.best_iteration)"
      ],
      "execution_count": null,
      "outputs": []
    },
    {
      "cell_type": "code",
      "metadata": {
        "id": "ES4OGk9gkeb8",
        "colab_type": "code",
        "colab": {
          "base_uri": "https://localhost:8080/",
          "height": 136
        },
        "outputId": "797b448e-6832-4467-ec98-19219a5522e2"
      },
      "source": [
        "y_pred"
      ],
      "execution_count": null,
      "outputs": [
        {
          "output_type": "execute_result",
          "data": {
            "text/plain": [
              "array([[0.95652104, 0.00418882, 0.01537454, 0.0239156 ],\n",
              "       [0.96050908, 0.02607144, 0.00779653, 0.00562294],\n",
              "       [0.93161329, 0.00342408, 0.01731141, 0.04765123],\n",
              "       ...,\n",
              "       [0.42482424, 0.02867457, 0.50875497, 0.03774623],\n",
              "       [0.93230396, 0.0043076 , 0.00275002, 0.06063842],\n",
              "       [0.42629844, 0.02877407, 0.51052042, 0.03440707]])"
            ]
          },
          "metadata": {
            "tags": []
          },
          "execution_count": 12
        }
      ]
    },
    {
      "cell_type": "code",
      "metadata": {
        "id": "kgQ3o9Wqz3_t",
        "colab_type": "code",
        "colab": {
          "base_uri": "https://localhost:8080/",
          "height": 255
        },
        "outputId": "70edc70e-496f-472b-d2b4-4689fc2aef58"
      },
      "source": [
        "df_sub = pd.DataFrame(np.concatenate((np.arange(len(test))[:, np.newaxis], y_pred), axis=1), columns=['id', 'A', 'B', 'C', 'D'])\n",
        "df_sub['id'] = df_sub['id'].astype(int)\n",
        "print(df_sub)\n",
        "df_sub.to_csv(\"Model_building4.csv\", index=False)"
      ],
      "execution_count": null,
      "outputs": [
        {
          "output_type": "stream",
          "text": [
            "                id         A         B         C         D\n",
            "0                0  0.956521  0.004189  0.015375  0.023916\n",
            "1                1  0.960509  0.026071  0.007797  0.005623\n",
            "2                2  0.931613  0.003424  0.017311  0.047651\n",
            "3                3  0.960632  0.026075  0.007798  0.005496\n",
            "4                4  0.955304  0.003959  0.018107  0.022630\n",
            "...            ...       ...       ...       ...       ...\n",
            "17965138  17965138  0.461766  0.026809  0.475994  0.035431\n",
            "17965139  17965139  0.930125  0.005662  0.003405  0.060808\n",
            "17965140  17965140  0.424824  0.028675  0.508755  0.037746\n",
            "17965141  17965141  0.932304  0.004308  0.002750  0.060638\n",
            "17965142  17965142  0.426298  0.028774  0.510520  0.034407\n",
            "\n",
            "[17965143 rows x 5 columns]\n"
          ],
          "name": "stdout"
        }
      ]
    },
    {
      "cell_type": "markdown",
      "metadata": {
        "id": "yY9nJ5wqQBin",
        "colab_type": "text"
      },
      "source": [
        "# **Conclusion-**"
      ]
    },
    {
      "cell_type": "markdown",
      "metadata": {
        "id": "ryVH_EvuP0gf",
        "colab_type": "text"
      },
      "source": [
        "**I have submitted this file and I got the result on kaggle which is public score of 0.597 and private score of 0.784**"
      ]
    },
    {
      "cell_type": "markdown",
      "metadata": {
        "id": "6dDi0QN8PzGi",
        "colab_type": "text"
      },
      "source": [
        "![image.png](data:image/png;base64,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)"
      ]
    },
    {
      "cell_type": "code",
      "metadata": {
        "id": "Fv_se51S0Wlh",
        "colab_type": "code",
        "colab": {}
      },
      "source": [
        "  "
      ],
      "execution_count": null,
      "outputs": []
    }
  ]
}
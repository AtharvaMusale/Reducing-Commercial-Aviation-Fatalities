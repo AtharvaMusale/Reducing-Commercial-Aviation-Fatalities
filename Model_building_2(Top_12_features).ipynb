{
  "nbformat": 4,
  "nbformat_minor": 0,
  "metadata": {
    "colab": {
      "name": "Model_building_2(Top_12_features).ipynb",
      "provenance": [],
      "collapsed_sections": [],
      "toc_visible": true
    },
    "kernelspec": {
      "name": "python3",
      "display_name": "Python 3"
    },
    "accelerator": "GPU"
  },
  "cells": [
    {
      "cell_type": "markdown",
      "metadata": {
        "id": "gHjca3IMLh6v",
        "colab_type": "text"
      },
      "source": [
        "**In this file I tried to pick the best 12 features and train  my model on those and see if the results which I will get are good enough or not. The reason to do this is :**\n",
        " **1)It helps to train model faster and Keeping the pilot's real time data processing in mind if we can reduce the number of features and still get best result then that will be very beneficial.\n",
        "2)It reduces model complexity.\n",
        "3)It improves model accuracy if proper features are chosen.**"
      ]
    },
    {
      "cell_type": "code",
      "metadata": {
        "id": "TlrWflB42JrP",
        "colab_type": "code",
        "colab": {
          "base_uri": "https://localhost:8080/",
          "height": 224
        },
        "outputId": "9d3beedc-6403-474b-f1df-b68fc527ad12"
      },
      "source": [
        "!wget --header=\"Host: storage.googleapis.com\" --header=\"User-Agent: Mozilla/5.0 (X11; Linux x86_64) AppleWebKit/537.36 (KHTML, like Gecko) Chrome/84.0.4147.105 Safari/537.36\" --header=\"Accept: text/html,application/xhtml+xml,application/xml;q=0.9,image/webp,image/apng,*/*;q=0.8,application/signed-exchange;v=b3;q=0.9\" --header=\"Accept-Language: en-GB,en-US;q=0.9,en;q=0.8\" --header=\"Referer: https://www.kaggle.com/\" \"https://storage.googleapis.com/kaggle-competitions-data/kaggle-v2/11835/224935/compressed/train.csv.zip?GoogleAccessId=web-data@kaggle-161607.iam.gserviceaccount.com&Expires=1596623187&Signature=doLtiDv5Dhc5VY2IffVsHC14bXwc%2B82Kt9BPSLU%2B3MsBqmC3C5Bx93D%2FNkZ4DhkbkwodBG3wEGRfR4aYcl2oxTaz2dXVQ4D5a3H3dIkddAXBj554IN4%2F0sWol8CtZrdxIVTzYiyPjTsjhw%2FZu0okgowsXCLZ1lIlxp5g%2BTEiJTxJnQbwKzCO4kWmbRnpoQCWN1FUJZ2veJPPISPrF0FluI%2BUKzGqwIHnM3A6rOQ6H2Oi0oazUBps9KcZI4moL6Qs0Lbv4dsFLE%2BtsBpa3IHGxPJIUfqPDfqx0hFMk875%2FB3N8sBvs2IYdYMzZZpR0WN559bpgu3%2Fq%2Bx7DPcs4mf7Og%3D%3D&response-content-disposition=attachment%3B+filename%3Dtrain.csv.zip\" -c -O 'train.csv.zip'"
      ],
      "execution_count": null,
      "outputs": [
        {
          "output_type": "stream",
          "text": [
            "--2020-08-04 10:53:00--  https://storage.googleapis.com/kaggle-competitions-data/kaggle-v2/11835/224935/compressed/train.csv.zip?GoogleAccessId=web-data@kaggle-161607.iam.gserviceaccount.com&Expires=1596623187&Signature=doLtiDv5Dhc5VY2IffVsHC14bXwc%2B82Kt9BPSLU%2B3MsBqmC3C5Bx93D%2FNkZ4DhkbkwodBG3wEGRfR4aYcl2oxTaz2dXVQ4D5a3H3dIkddAXBj554IN4%2F0sWol8CtZrdxIVTzYiyPjTsjhw%2FZu0okgowsXCLZ1lIlxp5g%2BTEiJTxJnQbwKzCO4kWmbRnpoQCWN1FUJZ2veJPPISPrF0FluI%2BUKzGqwIHnM3A6rOQ6H2Oi0oazUBps9KcZI4moL6Qs0Lbv4dsFLE%2BtsBpa3IHGxPJIUfqPDfqx0hFMk875%2FB3N8sBvs2IYdYMzZZpR0WN559bpgu3%2Fq%2Bx7DPcs4mf7Og%3D%3D&response-content-disposition=attachment%3B+filename%3Dtrain.csv.zip\n",
            "Resolving storage.googleapis.com (storage.googleapis.com)... 74.125.28.128, 74.125.142.128, 74.125.195.128, ...\n",
            "Connecting to storage.googleapis.com (storage.googleapis.com)|74.125.28.128|:443... connected.\n",
            "HTTP request sent, awaiting response... 200 OK\n",
            "Length: 456337398 (435M) [application/zip]\n",
            "Saving to: ‘train.csv.zip’\n",
            "\n",
            "\rtrain.csv.zip         0%[                    ]       0  --.-KB/s               \rtrain.csv.zip        12%[=>                  ]  52.61M   263MB/s               \rtrain.csv.zip        29%[====>               ] 130.37M   326MB/s               \rtrain.csv.zip        41%[=======>            ] 182.51M   304MB/s               \rtrain.csv.zip        55%[==========>         ] 239.69M   300MB/s               \rtrain.csv.zip        68%[============>       ] 297.90M   298MB/s               \rtrain.csv.zip        81%[===============>    ] 354.30M   295MB/s               \rtrain.csv.zip        95%[==================> ] 415.58M   297MB/s               \rtrain.csv.zip       100%[===================>] 435.20M   299MB/s    in 1.5s    \n",
            "\n",
            "2020-08-04 10:53:02 (299 MB/s) - ‘train.csv.zip’ saved [456337398/456337398]\n",
            "\n"
          ],
          "name": "stdout"
        }
      ]
    },
    {
      "cell_type": "code",
      "metadata": {
        "id": "0ZXPWXLB2cwi",
        "colab_type": "code",
        "colab": {
          "base_uri": "https://localhost:8080/",
          "height": 51
        },
        "outputId": "6ba36245-7bad-4a80-e8c6-3e7bf3a928e9"
      },
      "source": [
        "!unzip train.csv.zip"
      ],
      "execution_count": null,
      "outputs": [
        {
          "output_type": "stream",
          "text": [
            "Archive:  train.csv.zip\n",
            "  inflating: train.csv               \n"
          ],
          "name": "stdout"
        }
      ]
    },
    {
      "cell_type": "code",
      "metadata": {
        "id": "4H9aJHmg2gJz",
        "colab_type": "code",
        "colab": {
          "base_uri": "https://localhost:8080/",
          "height": 224
        },
        "outputId": "c1843a31-250b-49bc-dbfc-88b620076502"
      },
      "source": [
        "!wget --header=\"Host: storage.googleapis.com\" --header=\"User-Agent: Mozilla/5.0 (X11; Linux x86_64) AppleWebKit/537.36 (KHTML, like Gecko) Chrome/84.0.4147.105 Safari/537.36\" --header=\"Accept: text/html,application/xhtml+xml,application/xml;q=0.9,image/webp,image/apng,*/*;q=0.8,application/signed-exchange;v=b3;q=0.9\" --header=\"Accept-Language: en-GB,en-US;q=0.9,en;q=0.8\" --header=\"Referer: https://www.kaggle.com/\" \"https://storage.googleapis.com/kaggle-competitions-data/kaggle-v2/11835/224935/compressed/test.csv.zip?GoogleAccessId=web-data@kaggle-161607.iam.gserviceaccount.com&Expires=1596623324&Signature=Jh3PPYb9pRvKZEhcxQC04c0wCuhcialw85rMmtsEvJLWvxNX97iA%2BLVAlbstk19TV4HPqMq99YUL%2BFlxzLeapjc5lLtjL2OjmPZfm9B9prFKkfxvpn88txS%2FedMxPJEkMhHdUVpDNVaLf0Yks3jmaCN3lKcIflmteHphPDnOwLkakEQsynXuC%2FpAB9%2F6kIw5XAKUUvIfJgMnSHxbFNf3iqjNZKPr3wBL%2F4T4EUM0Tv9W2wcG69Vb5iMuZMND8z3fXaQRcNgctSYaE1%2FcOtZJU20nX%2F%2B9VO8AVoGi4j4mjU%2FCUckXak0PmdiFMr9mQosYdEMUg9LodKerKNS4KyzsgQ%3D%3D&response-content-disposition=attachment%3B+filename%3Dtest.csv.zip\" -c -O 'test.csv.zip'"
      ],
      "execution_count": null,
      "outputs": [
        {
          "output_type": "stream",
          "text": [
            "--2020-08-04 12:30:41--  https://storage.googleapis.com/kaggle-competitions-data/kaggle-v2/11835/224935/compressed/test.csv.zip?GoogleAccessId=web-data@kaggle-161607.iam.gserviceaccount.com&Expires=1596623324&Signature=Jh3PPYb9pRvKZEhcxQC04c0wCuhcialw85rMmtsEvJLWvxNX97iA%2BLVAlbstk19TV4HPqMq99YUL%2BFlxzLeapjc5lLtjL2OjmPZfm9B9prFKkfxvpn88txS%2FedMxPJEkMhHdUVpDNVaLf0Yks3jmaCN3lKcIflmteHphPDnOwLkakEQsynXuC%2FpAB9%2F6kIw5XAKUUvIfJgMnSHxbFNf3iqjNZKPr3wBL%2F4T4EUM0Tv9W2wcG69Vb5iMuZMND8z3fXaQRcNgctSYaE1%2FcOtZJU20nX%2F%2B9VO8AVoGi4j4mjU%2FCUckXak0PmdiFMr9mQosYdEMUg9LodKerKNS4KyzsgQ%3D%3D&response-content-disposition=attachment%3B+filename%3Dtest.csv.zip\n",
            "Resolving storage.googleapis.com (storage.googleapis.com)... 74.125.142.128, 74.125.195.128, 173.194.202.128, ...\n",
            "Connecting to storage.googleapis.com (storage.googleapis.com)|74.125.142.128|:443... connected.\n",
            "HTTP request sent, awaiting response... 200 OK\n",
            "Length: 1791131386 (1.7G) [application/zip]\n",
            "Saving to: ‘test.csv.zip’\n",
            "\n",
            "test.csv.zip        100%[===================>]   1.67G  70.6MB/s    in 23s     \n",
            "\n",
            "2020-08-04 12:31:04 (73.2 MB/s) - ‘test.csv.zip’ saved [1791131386/1791131386]\n",
            "\n"
          ],
          "name": "stdout"
        }
      ]
    },
    {
      "cell_type": "code",
      "metadata": {
        "id": "wPiSvv2w2hsP",
        "colab_type": "code",
        "colab": {
          "base_uri": "https://localhost:8080/",
          "height": 51
        },
        "outputId": "8fe2e5a3-3d63-4eb8-d874-5fc33287dc20"
      },
      "source": [
        "! unzip test.csv"
      ],
      "execution_count": null,
      "outputs": [
        {
          "output_type": "stream",
          "text": [
            "Archive:  test.csv.zip\n",
            "  inflating: test.csv                \n"
          ],
          "name": "stdout"
        }
      ]
    },
    {
      "cell_type": "code",
      "metadata": {
        "id": "m6PlsBiB2kRL",
        "colab_type": "code",
        "colab": {
          "base_uri": "https://localhost:8080/",
          "height": 105
        },
        "outputId": "7b283b80-6f85-4cd6-9019-3f6d20445954"
      },
      "source": [
        "import warnings\n",
        "import itertools\n",
        "import numpy as np \n",
        "import pandas as pd\n",
        "import seaborn as sns\n",
        "import lightgbm as lgb\n",
        "import matplotlib.pyplot as plt\n",
        "from tqdm import tqdm_notebook as tqdm\n",
        "from sklearn.preprocessing import MinMaxScaler\n",
        "from sklearn.model_selection import train_test_split\n",
        "from sklearn.metrics import confusion_matrix, log_loss\n",
        "import dask.dataframe as dd\n",
        "import dask\n",
        "import gc\n",
        "\n",
        "from yellowbrick.text import TSNEVisualizer\n",
        "\n",
        "%matplotlib inline\n",
        "plt.style.use(\"fivethirtyeight\")\n",
        "\n",
        "# import os\n",
        "# print(os.listdir(\"../input\"))\n",
        "\n",
        "warnings.filterwarnings(action='ignore')\n",
        "sns.set_style('whitegrid')"
      ],
      "execution_count": null,
      "outputs": [
        {
          "output_type": "stream",
          "text": [
            "/usr/local/lib/python3.6/dist-packages/statsmodels/tools/_testing.py:19: FutureWarning: pandas.util.testing is deprecated. Use the functions in the public API at pandas.testing instead.\n",
            "  import pandas.util.testing as tm\n",
            "/usr/local/lib/python3.6/dist-packages/sklearn/utils/deprecation.py:144: FutureWarning: The sklearn.metrics.classification module is  deprecated in version 0.22 and will be removed in version 0.24. The corresponding classes / functions should instead be imported from sklearn.metrics. Anything that cannot be imported from sklearn.metrics is now part of the private API.\n",
            "  warnings.warn(message, FutureWarning)\n"
          ],
          "name": "stderr"
        }
      ]
    },
    {
      "cell_type": "code",
      "metadata": {
        "id": "BvJeCwht3xr2",
        "colab_type": "code",
        "colab": {
          "base_uri": "https://localhost:8080/",
          "height": 170
        },
        "outputId": "6904fd53-ec83-4d6d-9dfe-8a6fc0def0f4"
      },
      "source": [
        "# This is to be used for memory optimization because the data is very large.\n",
        "# For the working of iinfo function refer- https://numpy.org/doc/stable/reference/generated/numpy.iinfo.html\n",
        "# So in this we typically take the max and min value of each feature and convert it into respective size to reduce memory usage\n",
        "\n",
        "def reduce_mem_usage(df):\n",
        "    \"\"\" iterate through all the columns of a dataframe and modify the data type\n",
        "        to reduce memory usage.        \n",
        "    \"\"\"\n",
        "    start_mem = df.memory_usage().sum() / 1024**2\n",
        "    print('Memory usage of dataframe is {:.2f} MB'.format(start_mem))\n",
        "    \n",
        "    for col in df.columns:\n",
        "        col_type = df[col].dtype\n",
        "        \n",
        "        if col_type != object:\n",
        "            c_min = df[col].min()\n",
        "            c_max = df[col].max()\n",
        "            if str(col_type)[:3] == 'int':\n",
        "                if c_min > np.iinfo(np.int8).min and c_max < np.iinfo(np.int8).max:\n",
        "                    df[col] = df[col].astype(np.int8)\n",
        "                elif c_min > np.iinfo(np.int16).min and c_max < np.iinfo(np.int16).max:\n",
        "                    df[col] = df[col].astype(np.int16)\n",
        "                elif c_min > np.iinfo(np.int32).min and c_max < np.iinfo(np.int32).max:\n",
        "                    df[col] = df[col].astype(np.int32)\n",
        "                elif c_min > np.iinfo(np.int64).min and c_max < np.iinfo(np.int64).max:\n",
        "                    df[col] = df[col].astype(np.int64)  \n",
        "            else:\n",
        "                if c_min > np.finfo(np.float16).min and c_max < np.finfo(np.float16).max:\n",
        "                    df[col] = df[col].astype(np.float16)\n",
        "                elif c_min > np.finfo(np.float32).min and c_max < np.finfo(np.float32).max:\n",
        "                    df[col] = df[col].astype(np.float32)\n",
        "                else:\n",
        "                    df[col] = df[col].astype(np.float64)\n",
        "        else:\n",
        "            df[col] = df[col].astype('category')\n",
        "\n",
        "    end_mem = df.memory_usage().sum() / 1024**2\n",
        "    print('Memory usage after optimization is: {:.2f} MB'.format(end_mem))\n",
        "    print('Decreased by {:.1f}%'.format(100 * (start_mem - end_mem) / start_mem))\n",
        "    \n",
        "    return df\n",
        "# FeatureModify function encodes the categorical feature into numeric form.\n",
        "def featureModify(isTrain, numRows):\n",
        "    if isTrain:\n",
        "        df = dd.read_csv('train.csv',nrows=numRows) \n",
        "        df = df.compute()\n",
        "        df = reduce_mem_usage(df)\n",
        "        df['event'] = df['event'].map({\n",
        "            'A':0,\n",
        "            'B':1,\n",
        "            'C':2,\n",
        "            'D':3\n",
        "        })\n",
        "    else:\n",
        "        df = dd.read_csv('test.csv',nrows=numRows)\n",
        "        df = df.compute()\n",
        "        df = reduce_mem_usage(df)\n",
        "    \n",
        "    return df \n",
        "train = featureModify(True, None)\n",
        "y = train['event']\n",
        "# train = train.drop('event',axis=1)\n",
        "print(train.shape)\n",
        "print(train.columns)"
      ],
      "execution_count": null,
      "outputs": [
        {
          "output_type": "stream",
          "text": [
            "Memory usage of dataframe is 1076.93 MB\n",
            "Memory usage after optimization is: 278.52 MB\n",
            "Decreased by 74.1%\n",
            "(4867421, 28)\n",
            "Index(['crew', 'experiment', 'time', 'seat', 'eeg_fp1', 'eeg_f7', 'eeg_f8',\n",
            "       'eeg_t4', 'eeg_t6', 'eeg_t5', 'eeg_t3', 'eeg_fp2', 'eeg_o1', 'eeg_p3',\n",
            "       'eeg_pz', 'eeg_f3', 'eeg_fz', 'eeg_f4', 'eeg_c4', 'eeg_p4', 'eeg_poz',\n",
            "       'eeg_c3', 'eeg_cz', 'eeg_o2', 'ecg', 'r', 'gsr', 'event'],\n",
            "      dtype='object')\n"
          ],
          "name": "stdout"
        }
      ]
    },
    {
      "cell_type": "code",
      "metadata": {
        "id": "bamSsNAD39zt",
        "colab_type": "code",
        "colab": {
          "base_uri": "https://localhost:8080/",
          "height": 224
        },
        "outputId": "3e1c2c16-c7f9-40aa-f2ce-81c013bb6cf9"
      },
      "source": [
        "train.head()"
      ],
      "execution_count": null,
      "outputs": [
        {
          "output_type": "execute_result",
          "data": {
            "text/html": [
              "<div>\n",
              "<style scoped>\n",
              "    .dataframe tbody tr th:only-of-type {\n",
              "        vertical-align: middle;\n",
              "    }\n",
              "\n",
              "    .dataframe tbody tr th {\n",
              "        vertical-align: top;\n",
              "    }\n",
              "\n",
              "    .dataframe thead th {\n",
              "        text-align: right;\n",
              "    }\n",
              "</style>\n",
              "<table border=\"1\" class=\"dataframe\">\n",
              "  <thead>\n",
              "    <tr style=\"text-align: right;\">\n",
              "      <th></th>\n",
              "      <th>crew</th>\n",
              "      <th>experiment</th>\n",
              "      <th>time</th>\n",
              "      <th>seat</th>\n",
              "      <th>eeg_fp1</th>\n",
              "      <th>eeg_f7</th>\n",
              "      <th>eeg_f8</th>\n",
              "      <th>eeg_t4</th>\n",
              "      <th>eeg_t6</th>\n",
              "      <th>eeg_t5</th>\n",
              "      <th>eeg_t3</th>\n",
              "      <th>eeg_fp2</th>\n",
              "      <th>eeg_o1</th>\n",
              "      <th>eeg_p3</th>\n",
              "      <th>eeg_pz</th>\n",
              "      <th>eeg_f3</th>\n",
              "      <th>eeg_fz</th>\n",
              "      <th>eeg_f4</th>\n",
              "      <th>eeg_c4</th>\n",
              "      <th>eeg_p4</th>\n",
              "      <th>eeg_poz</th>\n",
              "      <th>eeg_c3</th>\n",
              "      <th>eeg_cz</th>\n",
              "      <th>eeg_o2</th>\n",
              "      <th>ecg</th>\n",
              "      <th>r</th>\n",
              "      <th>gsr</th>\n",
              "      <th>event</th>\n",
              "    </tr>\n",
              "  </thead>\n",
              "  <tbody>\n",
              "    <tr>\n",
              "      <th>0</th>\n",
              "      <td>1</td>\n",
              "      <td>CA</td>\n",
              "      <td>0.011719</td>\n",
              "      <td>1</td>\n",
              "      <td>-5.285156</td>\n",
              "      <td>26.781250</td>\n",
              "      <td>-9.523438</td>\n",
              "      <td>-12.796875</td>\n",
              "      <td>16.718750</td>\n",
              "      <td>33.75000</td>\n",
              "      <td>23.718750</td>\n",
              "      <td>-6.695312</td>\n",
              "      <td>29.234375</td>\n",
              "      <td>24.843750</td>\n",
              "      <td>3.921875</td>\n",
              "      <td>18.453125</td>\n",
              "      <td>1.075195</td>\n",
              "      <td>3.089844</td>\n",
              "      <td>37.375000</td>\n",
              "      <td>17.437500</td>\n",
              "      <td>19.203125</td>\n",
              "      <td>20.593750</td>\n",
              "      <td>-3.951172</td>\n",
              "      <td>14.507812</td>\n",
              "      <td>-4520.0</td>\n",
              "      <td>817.5</td>\n",
              "      <td>388.75</td>\n",
              "      <td>0</td>\n",
              "    </tr>\n",
              "    <tr>\n",
              "      <th>1</th>\n",
              "      <td>1</td>\n",
              "      <td>CA</td>\n",
              "      <td>0.015625</td>\n",
              "      <td>1</td>\n",
              "      <td>-2.427734</td>\n",
              "      <td>28.437500</td>\n",
              "      <td>-9.320312</td>\n",
              "      <td>-3.757812</td>\n",
              "      <td>15.968750</td>\n",
              "      <td>30.43750</td>\n",
              "      <td>21.015625</td>\n",
              "      <td>-6.476562</td>\n",
              "      <td>26.640625</td>\n",
              "      <td>24.140625</td>\n",
              "      <td>5.468750</td>\n",
              "      <td>20.515625</td>\n",
              "      <td>2.833984</td>\n",
              "      <td>7.101562</td>\n",
              "      <td>31.171875</td>\n",
              "      <td>19.406250</td>\n",
              "      <td>19.687500</td>\n",
              "      <td>21.359375</td>\n",
              "      <td>1.332031</td>\n",
              "      <td>17.750000</td>\n",
              "      <td>-4520.0</td>\n",
              "      <td>817.5</td>\n",
              "      <td>388.75</td>\n",
              "      <td>0</td>\n",
              "    </tr>\n",
              "    <tr>\n",
              "      <th>2</th>\n",
              "      <td>1</td>\n",
              "      <td>CA</td>\n",
              "      <td>0.019531</td>\n",
              "      <td>1</td>\n",
              "      <td>10.671875</td>\n",
              "      <td>30.421875</td>\n",
              "      <td>15.351562</td>\n",
              "      <td>24.718750</td>\n",
              "      <td>16.140625</td>\n",
              "      <td>32.15625</td>\n",
              "      <td>25.437500</td>\n",
              "      <td>-0.088684</td>\n",
              "      <td>28.125000</td>\n",
              "      <td>26.890625</td>\n",
              "      <td>8.578125</td>\n",
              "      <td>23.156250</td>\n",
              "      <td>4.519531</td>\n",
              "      <td>12.703125</td>\n",
              "      <td>-12.015625</td>\n",
              "      <td>19.390625</td>\n",
              "      <td>23.171875</td>\n",
              "      <td>22.406250</td>\n",
              "      <td>1.538086</td>\n",
              "      <td>22.250000</td>\n",
              "      <td>-4520.0</td>\n",
              "      <td>817.5</td>\n",
              "      <td>388.75</td>\n",
              "      <td>0</td>\n",
              "    </tr>\n",
              "    <tr>\n",
              "      <th>3</th>\n",
              "      <td>1</td>\n",
              "      <td>CA</td>\n",
              "      <td>0.023438</td>\n",
              "      <td>1</td>\n",
              "      <td>11.453125</td>\n",
              "      <td>25.609375</td>\n",
              "      <td>2.433594</td>\n",
              "      <td>12.414062</td>\n",
              "      <td>20.531250</td>\n",
              "      <td>31.50000</td>\n",
              "      <td>19.140625</td>\n",
              "      <td>-0.256592</td>\n",
              "      <td>30.656250</td>\n",
              "      <td>24.250000</td>\n",
              "      <td>8.640625</td>\n",
              "      <td>19.968750</td>\n",
              "      <td>7.277344</td>\n",
              "      <td>11.460938</td>\n",
              "      <td>18.578125</td>\n",
              "      <td>23.156250</td>\n",
              "      <td>22.640625</td>\n",
              "      <td>19.343750</td>\n",
              "      <td>2.544922</td>\n",
              "      <td>19.000000</td>\n",
              "      <td>-4520.0</td>\n",
              "      <td>817.5</td>\n",
              "      <td>388.75</td>\n",
              "      <td>0</td>\n",
              "    </tr>\n",
              "    <tr>\n",
              "      <th>4</th>\n",
              "      <td>1</td>\n",
              "      <td>CA</td>\n",
              "      <td>0.027344</td>\n",
              "      <td>1</td>\n",
              "      <td>7.285156</td>\n",
              "      <td>25.937500</td>\n",
              "      <td>0.113586</td>\n",
              "      <td>5.746094</td>\n",
              "      <td>19.828125</td>\n",
              "      <td>28.75000</td>\n",
              "      <td>20.578125</td>\n",
              "      <td>-1.953125</td>\n",
              "      <td>31.718750</td>\n",
              "      <td>25.156250</td>\n",
              "      <td>12.500000</td>\n",
              "      <td>18.750000</td>\n",
              "      <td>7.308594</td>\n",
              "      <td>8.007812</td>\n",
              "      <td>6.554688</td>\n",
              "      <td>22.750000</td>\n",
              "      <td>22.671875</td>\n",
              "      <td>20.296875</td>\n",
              "      <td>1.699219</td>\n",
              "      <td>22.812500</td>\n",
              "      <td>-4520.0</td>\n",
              "      <td>817.5</td>\n",
              "      <td>388.75</td>\n",
              "      <td>0</td>\n",
              "    </tr>\n",
              "  </tbody>\n",
              "</table>\n",
              "</div>"
            ],
            "text/plain": [
              "   crew experiment      time  seat  ...     ecg      r     gsr  event\n",
              "0     1         CA  0.011719     1  ... -4520.0  817.5  388.75      0\n",
              "1     1         CA  0.015625     1  ... -4520.0  817.5  388.75      0\n",
              "2     1         CA  0.019531     1  ... -4520.0  817.5  388.75      0\n",
              "3     1         CA  0.023438     1  ... -4520.0  817.5  388.75      0\n",
              "4     1         CA  0.027344     1  ... -4520.0  817.5  388.75      0\n",
              "\n",
              "[5 rows x 28 columns]"
            ]
          },
          "metadata": {
            "tags": []
          },
          "execution_count": 7
        }
      ]
    },
    {
      "cell_type": "code",
      "metadata": {
        "id": "tnuRO1a76s6D",
        "colab_type": "code",
        "colab": {}
      },
      "source": [
        "train['pilot'] = 100*train['seat']+train['crew']"
      ],
      "execution_count": null,
      "outputs": []
    },
    {
      "cell_type": "code",
      "metadata": {
        "id": "zJLBwINt4P9w",
        "colab_type": "code",
        "colab": {}
      },
      "source": [
        "train = train[['gsr','r','ecg','crew','eeg_fp2','pilot','eeg_f7','eeg_f8','eeg_fp1','eeg_pz','eeg_f4','eeg_f3']]"
      ],
      "execution_count": null,
      "outputs": []
    },
    {
      "cell_type": "code",
      "metadata": {
        "id": "iuaxucaN6qsA",
        "colab_type": "code",
        "colab": {
          "base_uri": "https://localhost:8080/",
          "height": 34
        },
        "outputId": "98ef981f-a0c7-46a7-e966-3febe7a25858"
      },
      "source": [
        "# splitiing the data into train and test \n",
        "# gc is used to collect the garbage\n",
        "train, train_test, y, y_test = train_test_split(train, y, test_size=0.25, shuffle=True)\n",
        "train = lgb.Dataset(train, label=y,categorical_feature=[1])\n",
        "del y\n",
        "gc.collect()\n",
        "\n",
        "\n",
        "train_test = lgb.Dataset(train_test, label=y_test,categorical_feature=[1])\n",
        "del y_test\n",
        "gc.collect()"
      ],
      "execution_count": null,
      "outputs": [
        {
          "output_type": "execute_result",
          "data": {
            "text/plain": [
              "0"
            ]
          },
          "metadata": {
            "tags": []
          },
          "execution_count": 10
        }
      ]
    },
    {
      "cell_type": "code",
      "metadata": {
        "id": "jMYPffWn7Ozw",
        "colab_type": "code",
        "colab": {
          "base_uri": "https://localhost:8080/",
          "height": 238
        },
        "outputId": "960a7131-2b26-42d1-ffe6-a75d91958620"
      },
      "source": [
        "params = {\n",
        "        \"objective\" : \"multiclass\", \n",
        "        \"metric\" : \"multi_error\", \n",
        "        'num_class':4,\n",
        "        \"num_leaves\" : 30, \n",
        "        \"learning_rate\" : 0.01, \n",
        "        \"bagging_fraction\" : 0.9,\n",
        "        \"bagging_seed\" : 0, \n",
        "        \"num_threads\" : 4,\n",
        "        'min_data_in_leaf':100, \n",
        "        'min_split_gain':0.00019\n",
        "}\n",
        "\n",
        "model = lgb.train(  params, \n",
        "                    train_set = train,\n",
        "                    num_boost_round=1000,\n",
        "                    early_stopping_rounds=200,\n",
        "                    verbose_eval=100, \n",
        "                    valid_sets=[train,train_test]\n",
        "                  )"
      ],
      "execution_count": null,
      "outputs": [
        {
          "output_type": "stream",
          "text": [
            "Training until validation scores don't improve for 200 rounds.\n",
            "[100]\ttraining's multi_error: 0.139957\tvalid_1's multi_error: 0.140022\n",
            "[200]\ttraining's multi_error: 0.121732\tvalid_1's multi_error: 0.121863\n",
            "[300]\ttraining's multi_error: 0.111193\tvalid_1's multi_error: 0.111311\n",
            "[400]\ttraining's multi_error: 0.0988633\tvalid_1's multi_error: 0.0991539\n",
            "[500]\ttraining's multi_error: 0.0939383\tvalid_1's multi_error: 0.0942264\n",
            "[600]\ttraining's multi_error: 0.0894708\tvalid_1's multi_error: 0.0897312\n",
            "[700]\ttraining's multi_error: 0.0849679\tvalid_1's multi_error: 0.0852689\n",
            "[800]\ttraining's multi_error: 0.0816068\tvalid_1's multi_error: 0.0818371\n",
            "[900]\ttraining's multi_error: 0.0789856\tvalid_1's multi_error: 0.079269\n",
            "[1000]\ttraining's multi_error: 0.0767895\tvalid_1's multi_error: 0.0770905\n",
            "Did not meet early stopping. Best iteration is:\n",
            "[1000]\ttraining's multi_error: 0.0767895\tvalid_1's multi_error: 0.0770905\n"
          ],
          "name": "stdout"
        }
      ]
    },
    {
      "cell_type": "code",
      "metadata": {
        "id": "z_txddvHSCEH",
        "colab_type": "code",
        "colab": {
          "base_uri": "https://localhost:8080/",
          "height": 341
        },
        "outputId": "8c5a1489-a74d-41a5-c556-492635825f63"
      },
      "source": [
        "# Checking the feature importance.\n",
        "lgb.plot_importance(model)"
      ],
      "execution_count": null,
      "outputs": [
        {
          "output_type": "execute_result",
          "data": {
            "text/plain": [
              "<matplotlib.axes._subplots.AxesSubplot at 0x7f4701813710>"
            ]
          },
          "metadata": {
            "tags": []
          },
          "execution_count": 12
        },
        {
          "output_type": "display_data",
          "data": {
            "image/png": "[encoded data removed]",
            "text/plain": [
              "<Figure size 432x288 with 1 Axes>"
            ]
          },
          "metadata": {
            "tags": []
          }
        }
      ]
    },
    {
      "cell_type": "code",
      "metadata": {
        "id": "DZNSkrzucjDS",
        "colab_type": "code",
        "colab": {
          "base_uri": "https://localhost:8080/",
          "height": 1000
        },
        "outputId": "de922785-ffcf-4de7-d4eb-6c9b79419026"
      },
      "source": [
        "lgb.create_tree_digraph(model)"
      ],
      "execution_count": null,
      "outputs": [
        {
          "output_type": "execute_result",
          "data": {
            "text/plain": [
              "<graphviz.dot.Digraph at 0x7f46f80cfe48>"
            ],
            "image/svg+xml": "<?xml version=\"1.0\" encoding=\"UTF-8\" standalone=\"no\"?>\n<!DOCTYPE svg PUBLIC \"-//W3C//DTD SVG 1.1//EN\"\n \"http://www.w3.org/Graphics/SVG/1.1/DTD/svg11.dtd\">\n<!-- Generated by graphviz version 2.40.1 (20161225.0304)\n -->\n<!-- Title: %3 Pages: 1 -->\n<svg width=\"3342pt\" height=\"1109pt\"\n viewBox=\"0.00 0.00 3342.30 1109.14\" xmlns=\"http://www.w3.org/2000/svg\" xmlns:xlink=\"http://www.w3.org/1999/xlink\">\n<g id=\"graph0\" class=\"graph\" transform=\"scale(1 1) rotate(0) translate(4 1105.1413)\">\n<title>%3</title>\n<polygon fill=\"#ffffff\" stroke=\"transparent\" points=\"-4,4 -4,-1105.1413 3338.2986,-1105.1413 3338.2986,4 -4,4\"/>\n<!-- split0 -->\n<g id=\"node1\" class=\"node\">\n<title>split0</title>\n<ellipse fill=\"none\" stroke=\"#000000\" cx=\"899.1493\" cy=\"-1074.2712\" rx=\"695.1719\" ry=\"26.7407\"/>\n<text text-anchor=\"middle\" x=\"899.1493\" y=\"-1078.0712\" font-family=\"Times,serif\" font-size=\"14.00\" fill=\"#000000\">split_feature_name: r</text>\n<text text-anchor=\"middle\" x=\"899.1493\" y=\"-1063.0712\" font-family=\"Times,serif\" font-size=\"14.00\" fill=\"#000000\">threshold: 574||575||576||577||578||579||580||581||582||583||584||585||586||587||588||604||605||606||607||664||665||666||726||727||796||798||799||800||801||825||826||831</text>\n</g>\n<!-- split16 -->\n<g id=\"node2\" class=\"node\">\n<title>split16</title>\n<ellipse fill=\"none\" stroke=\"#000000\" cx=\"472.1493\" cy=\"-969.5311\" rx=\"142.257\" ry=\"26.7407\"/>\n<text text-anchor=\"middle\" x=\"472.1493\" y=\"-973.3311\" font-family=\"Times,serif\" font-size=\"14.00\" fill=\"#000000\">split_feature_name: gsr</text>\n<text text-anchor=\"middle\" x=\"472.1493\" y=\"-958.3311\" font-family=\"Times,serif\" font-size=\"14.00\" fill=\"#000000\">threshold: 982.2500000000001</text>\n</g>\n<!-- split0&#45;&gt;split16 -->\n<g id=\"edge9\" class=\"edge\">\n<title>split0&#45;&gt;split16</title>\n<path fill=\"none\" stroke=\"#000000\" d=\"M790.8472,-1047.7055C722.5761,-1030.959 635.1722,-1009.5195 569.1708,-993.3298\"/>\n<polygon fill=\"#000000\" stroke=\"#000000\" points=\"569.7269,-989.8625 559.181,-990.8794 568.0592,-996.661 569.7269,-989.8625\"/>\n<text text-anchor=\"middle\" x=\"717.1493\" y=\"-1018.2012\" font-family=\"Times,serif\" font-size=\"14.00\" fill=\"#000000\">is</text>\n</g>\n<!-- split1 -->\n<g id=\"node11\" class=\"node\">\n<title>split1</title>\n<ellipse fill=\"none\" stroke=\"#000000\" cx=\"1327.1493\" cy=\"-969.5311\" rx=\"695.1719\" ry=\"26.7407\"/>\n<text text-anchor=\"middle\" x=\"1327.1493\" y=\"-973.3311\" font-family=\"Times,serif\" font-size=\"14.00\" fill=\"#000000\">split_feature_name: r</text>\n<text text-anchor=\"middle\" x=\"1327.1493\" y=\"-958.3311\" font-family=\"Times,serif\" font-size=\"14.00\" fill=\"#000000\">threshold: 573||601||602||603||609||654||655||656||657||658||663||667||672||673||674||675||676||677||679||724||725||728||737||738||739||740||795||797||812||814||818||832</text>\n</g>\n<!-- split0&#45;&gt;split1 -->\n<g id=\"edge58\" class=\"edge\">\n<title>split0&#45;&gt;split1</title>\n<path fill=\"none\" stroke=\"#000000\" d=\"M1007.705,-1047.7055C1068.9431,-1032.7193 1145.5391,-1013.9747 1208.3754,-998.5974\"/>\n<polygon fill=\"#000000\" stroke=\"#000000\" points=\"1209.4563,-1001.9363 1218.3377,-996.1595 1207.7923,-995.1369 1209.4563,-1001.9363\"/>\n<text text-anchor=\"middle\" x=\"1150.6493\" y=\"-1018.2012\" font-family=\"Times,serif\" font-size=\"14.00\" fill=\"#000000\">isn&#39;t</text>\n</g>\n<!-- leaf0 -->\n<g id=\"node3\" class=\"node\">\n<title>leaf0</title>\n<ellipse fill=\"none\" stroke=\"#000000\" cx=\"154.1493\" cy=\"-864.791\" rx=\"154.2987\" ry=\"26.7407\"/>\n<text text-anchor=\"middle\" x=\"154.1493\" y=\"-868.591\" font-family=\"Times,serif\" font-size=\"14.00\" fill=\"#000000\">leaf_index: 0</text>\n<text text-anchor=\"middle\" x=\"154.1493\" y=\"-853.591\" font-family=\"Times,serif\" font-size=\"14.00\" fill=\"#000000\">leaf_value: &#45;0.5455340907855429</text>\n</g>\n<!-- split16&#45;&gt;leaf0 -->\n<g id=\"edge1\" class=\"edge\">\n<title>split16&#45;&gt;leaf0</title>\n<path fill=\"none\" stroke=\"#000000\" d=\"M401.1797,-946.1557C352.255,-930.0413 287.0926,-908.5787 235.9775,-891.7429\"/>\n<polygon fill=\"#000000\" stroke=\"#000000\" points=\"236.8708,-888.3522 226.2777,-888.548 234.6808,-895.0008 236.8708,-888.3522\"/>\n<text text-anchor=\"middle\" x=\"341.6493\" y=\"-913.461\" font-family=\"Times,serif\" font-size=\"14.00\" fill=\"#000000\">&lt;=</text>\n</g>\n<!-- split17 -->\n<g id=\"node4\" class=\"node\">\n<title>split17</title>\n<ellipse fill=\"none\" stroke=\"#000000\" cx=\"474.1493\" cy=\"-864.791\" rx=\"147.5709\" ry=\"26.7407\"/>\n<text text-anchor=\"middle\" x=\"474.1493\" y=\"-868.591\" font-family=\"Times,serif\" font-size=\"14.00\" fill=\"#000000\">split_feature_name: gsr</text>\n<text text-anchor=\"middle\" x=\"474.1493\" y=\"-853.591\" font-family=\"Times,serif\" font-size=\"14.00\" fill=\"#000000\">threshold: 1501.5000000000002</text>\n</g>\n<!-- split16&#45;&gt;split17 -->\n<g id=\"edge8\" class=\"edge\">\n<title>split16&#45;&gt;split17</title>\n<path fill=\"none\" stroke=\"#000000\" d=\"M472.6643,-942.5579C472.8999,-930.2185 473.183,-915.397 473.4384,-902.0181\"/>\n<polygon fill=\"#000000\" stroke=\"#000000\" points=\"476.9443,-901.7378 473.636,-891.6728 469.9456,-901.6041 476.9443,-901.7378\"/>\n<text text-anchor=\"middle\" x=\"478.6493\" y=\"-913.461\" font-family=\"Times,serif\" font-size=\"14.00\" fill=\"#000000\">&gt;</text>\n</g>\n<!-- leaf17 -->\n<g id=\"node5\" class=\"node\">\n<title>leaf17</title>\n<ellipse fill=\"none\" stroke=\"#000000\" cx=\"161.1493\" cy=\"-760.0509\" rx=\"154.2987\" ry=\"26.7407\"/>\n<text text-anchor=\"middle\" x=\"161.1493\" y=\"-763.8509\" font-family=\"Times,serif\" font-size=\"14.00\" fill=\"#000000\">leaf_index: 17</text>\n<text text-anchor=\"middle\" x=\"161.1493\" y=\"-748.8509\" font-family=\"Times,serif\" font-size=\"14.00\" fill=\"#000000\">leaf_value: &#45;0.5285298368064972</text>\n</g>\n<!-- split17&#45;&gt;leaf17 -->\n<g id=\"edge2\" class=\"edge\">\n<title>split17&#45;&gt;leaf17</title>\n<path fill=\"none\" stroke=\"#000000\" d=\"M403.5157,-841.1547C355.5789,-825.1134 292.0747,-803.8628 242.096,-787.1383\"/>\n<polygon fill=\"#000000\" stroke=\"#000000\" points=\"243.203,-783.818 232.6091,-783.9637 240.9815,-790.4562 243.203,-783.818\"/>\n<text text-anchor=\"middle\" x=\"345.6493\" y=\"-808.7209\" font-family=\"Times,serif\" font-size=\"14.00\" fill=\"#000000\">&lt;=</text>\n</g>\n<!-- split18 -->\n<g id=\"node6\" class=\"node\">\n<title>split18</title>\n<ellipse fill=\"none\" stroke=\"#000000\" cx=\"475.1493\" cy=\"-760.0509\" rx=\"142.257\" ry=\"26.7407\"/>\n<text text-anchor=\"middle\" x=\"475.1493\" y=\"-763.8509\" font-family=\"Times,serif\" font-size=\"14.00\" fill=\"#000000\">split_feature_name: crew</text>\n<text text-anchor=\"middle\" x=\"475.1493\" y=\"-748.8509\" font-family=\"Times,serif\" font-size=\"14.00\" fill=\"#000000\">threshold: 5.500000000000001</text>\n</g>\n<!-- split17&#45;&gt;split18 -->\n<g id=\"edge7\" class=\"edge\">\n<title>split17&#45;&gt;split18</title>\n<path fill=\"none\" stroke=\"#000000\" d=\"M474.4068,-837.8178C474.5246,-825.4784 474.6661,-810.6569 474.7939,-797.278\"/>\n<polygon fill=\"#000000\" stroke=\"#000000\" points=\"478.2969,-796.9656 474.8926,-786.9326 471.2972,-796.8987 478.2969,-796.9656\"/>\n<text text-anchor=\"middle\" x=\"479.6493\" y=\"-808.7209\" font-family=\"Times,serif\" font-size=\"14.00\" fill=\"#000000\">&gt;</text>\n</g>\n<!-- leaf18 -->\n<g id=\"node7\" class=\"node\">\n<title>leaf18</title>\n<ellipse fill=\"none\" stroke=\"#000000\" cx=\"160.1493\" cy=\"-655.3107\" rx=\"154.2987\" ry=\"26.7407\"/>\n<text text-anchor=\"middle\" x=\"160.1493\" y=\"-659.1107\" font-family=\"Times,serif\" font-size=\"14.00\" fill=\"#000000\">leaf_index: 18</text>\n<text text-anchor=\"middle\" x=\"160.1493\" y=\"-644.1107\" font-family=\"Times,serif\" font-size=\"14.00\" fill=\"#000000\">leaf_value: &#45;0.5479814413714458</text>\n</g>\n<!-- split18&#45;&gt;leaf18 -->\n<g id=\"edge3\" class=\"edge\">\n<title>split18&#45;&gt;leaf18</title>\n<path fill=\"none\" stroke=\"#000000\" d=\"M404.8492,-736.6755C356.4712,-720.5894 292.0652,-699.1739 241.4727,-682.3514\"/>\n<polygon fill=\"#000000\" stroke=\"#000000\" points=\"242.4644,-678.9928 231.8708,-679.1588 240.2557,-685.6353 242.4644,-678.9928\"/>\n<text text-anchor=\"middle\" x=\"345.6493\" y=\"-703.9808\" font-family=\"Times,serif\" font-size=\"14.00\" fill=\"#000000\">&lt;=</text>\n</g>\n<!-- split19 -->\n<g id=\"node8\" class=\"node\">\n<title>split19</title>\n<ellipse fill=\"none\" stroke=\"#000000\" cx=\"480.1493\" cy=\"-655.3107\" rx=\"147.5709\" ry=\"26.7407\"/>\n<text text-anchor=\"middle\" x=\"480.1493\" y=\"-659.1107\" font-family=\"Times,serif\" font-size=\"14.00\" fill=\"#000000\">split_feature_name: gsr</text>\n<text text-anchor=\"middle\" x=\"480.1493\" y=\"-644.1107\" font-family=\"Times,serif\" font-size=\"14.00\" fill=\"#000000\">threshold: 1781.5000000000002</text>\n</g>\n<!-- split18&#45;&gt;split19 -->\n<g id=\"edge6\" class=\"edge\">\n<title>split18&#45;&gt;split19</title>\n<path fill=\"none\" stroke=\"#000000\" d=\"M476.4369,-733.0777C477.026,-720.7382 477.7335,-705.9168 478.3722,-692.5379\"/>\n<polygon fill=\"#000000\" stroke=\"#000000\" points=\"481.8851,-692.3481 478.866,-682.1925 474.8931,-692.0142 481.8851,-692.3481\"/>\n<text text-anchor=\"middle\" x=\"482.6493\" y=\"-703.9808\" font-family=\"Times,serif\" font-size=\"14.00\" fill=\"#000000\">&gt;</text>\n</g>\n<!-- leaf19 -->\n<g id=\"node9\" class=\"node\">\n<title>leaf19</title>\n<ellipse fill=\"none\" stroke=\"#000000\" cx=\"154.1493\" cy=\"-550.5706\" rx=\"154.2987\" ry=\"26.7407\"/>\n<text text-anchor=\"middle\" x=\"154.1493\" y=\"-554.3706\" font-family=\"Times,serif\" font-size=\"14.00\" fill=\"#000000\">leaf_index: 19</text>\n<text text-anchor=\"middle\" x=\"154.1493\" y=\"-539.3706\" font-family=\"Times,serif\" font-size=\"14.00\" fill=\"#000000\">leaf_value: &#45;0.5473782504379415</text>\n</g>\n<!-- split19&#45;&gt;leaf19 -->\n<g id=\"edge4\" class=\"edge\">\n<title>split19&#45;&gt;leaf19</title>\n<path fill=\"none\" stroke=\"#000000\" d=\"M406.9885,-631.805C356.7099,-615.6511 289.8465,-594.1686 237.5078,-577.3528\"/>\n<polygon fill=\"#000000\" stroke=\"#000000\" points=\"238.5026,-573.9963 227.9113,-574.2695 236.3613,-580.6607 238.5026,-573.9963\"/>\n<text text-anchor=\"middle\" x=\"345.6493\" y=\"-599.2407\" font-family=\"Times,serif\" font-size=\"14.00\" fill=\"#000000\">&lt;=</text>\n</g>\n<!-- leaf20 -->\n<g id=\"node10\" class=\"node\">\n<title>leaf20</title>\n<ellipse fill=\"none\" stroke=\"#000000\" cx=\"480.1493\" cy=\"-550.5706\" rx=\"154.2987\" ry=\"26.7407\"/>\n<text text-anchor=\"middle\" x=\"480.1493\" y=\"-554.3706\" font-family=\"Times,serif\" font-size=\"14.00\" fill=\"#000000\">leaf_index: 20</text>\n<text text-anchor=\"middle\" x=\"480.1493\" y=\"-539.3706\" font-family=\"Times,serif\" font-size=\"14.00\" fill=\"#000000\">leaf_value: &#45;0.5280756221095699</text>\n</g>\n<!-- split19&#45;&gt;leaf20 -->\n<g id=\"edge5\" class=\"edge\">\n<title>split19&#45;&gt;leaf20</title>\n<path fill=\"none\" stroke=\"#000000\" d=\"M480.1493,-628.3376C480.1493,-615.9981 480.1493,-601.1767 480.1493,-587.7978\"/>\n<polygon fill=\"#000000\" stroke=\"#000000\" points=\"483.6494,-587.4524 480.1493,-577.4524 476.6494,-587.4524 483.6494,-587.4524\"/>\n<text text-anchor=\"middle\" x=\"484.6493\" y=\"-599.2407\" font-family=\"Times,serif\" font-size=\"14.00\" fill=\"#000000\">&gt;</text>\n</g>\n<!-- split3 -->\n<g id=\"node12\" class=\"node\">\n<title>split3</title>\n<ellipse fill=\"none\" stroke=\"#000000\" cx=\"1310.1493\" cy=\"-864.791\" rx=\"147.5709\" ry=\"26.7407\"/>\n<text text-anchor=\"middle\" x=\"1310.1493\" y=\"-868.591\" font-family=\"Times,serif\" font-size=\"14.00\" fill=\"#000000\">split_feature_name: ecg</text>\n<text text-anchor=\"middle\" x=\"1310.1493\" y=\"-853.591\" font-family=\"Times,serif\" font-size=\"14.00\" fill=\"#000000\">threshold: 27736.000000000004</text>\n</g>\n<!-- split1&#45;&gt;split3 -->\n<g id=\"edge32\" class=\"edge\">\n<title>split1&#45;&gt;split3</title>\n<path fill=\"none\" stroke=\"#000000\" d=\"M1315.8829,-942.3926C1313.9441,-936.6325 1312.2131,-930.5199 1311.1493,-924.661 1309.8214,-917.3478 1309.1573,-909.4494 1308.8897,-901.8632\"/>\n<polygon fill=\"#000000\" stroke=\"#000000\" points=\"1312.3884,-901.745 1308.7455,-891.7962 1305.3892,-901.8453 1312.3884,-901.745\"/>\n<text text-anchor=\"middle\" x=\"1316.1493\" y=\"-913.461\" font-family=\"Times,serif\" font-size=\"14.00\" fill=\"#000000\">is</text>\n</g>\n<!-- split2 -->\n<g id=\"node35\" class=\"node\">\n<title>split2</title>\n<ellipse fill=\"none\" stroke=\"#000000\" cx=\"2110.1493\" cy=\"-864.791\" rx=\"634.0496\" ry=\"26.7407\"/>\n<text text-anchor=\"middle\" x=\"2110.1493\" y=\"-868.591\" font-family=\"Times,serif\" font-size=\"14.00\" fill=\"#000000\">split_feature_name: r</text>\n<text text-anchor=\"middle\" x=\"2110.1493\" y=\"-853.591\" font-family=\"Times,serif\" font-size=\"14.00\" fill=\"#000000\">threshold: 596||597||598||599||600||652||653||659||660||668||671||678||680||722||723||735||736||776||777||782||794||802||803||811||813||815||817||829||830</text>\n</g>\n<!-- split1&#45;&gt;split2 -->\n<g id=\"edge57\" class=\"edge\">\n<title>split1&#45;&gt;split2</title>\n<path fill=\"none\" stroke=\"#000000\" d=\"M1520.1975,-943.7075C1638.2402,-927.9172 1789.0062,-907.7496 1908.5774,-891.7548\"/>\n<polygon fill=\"#000000\" stroke=\"#000000\" points=\"1909.1387,-895.211 1918.5864,-890.4159 1908.2106,-888.2728 1909.1387,-895.211\"/>\n<text text-anchor=\"middle\" x=\"1777.6493\" y=\"-913.461\" font-family=\"Times,serif\" font-size=\"14.00\" fill=\"#000000\">isn&#39;t</text>\n</g>\n<!-- split4 -->\n<g id=\"node13\" class=\"node\">\n<title>split4</title>\n<ellipse fill=\"none\" stroke=\"#000000\" cx=\"1185.1493\" cy=\"-760.0509\" rx=\"142.257\" ry=\"26.7407\"/>\n<text text-anchor=\"middle\" x=\"1185.1493\" y=\"-763.8509\" font-family=\"Times,serif\" font-size=\"14.00\" fill=\"#000000\">split_feature_name: ecg</text>\n<text text-anchor=\"middle\" x=\"1185.1493\" y=\"-748.8509\" font-family=\"Times,serif\" font-size=\"14.00\" fill=\"#000000\">threshold: 5222.000000000001</text>\n</g>\n<!-- split3&#45;&gt;split4 -->\n<g id=\"edge30\" class=\"edge\">\n<title>split3&#45;&gt;split4</title>\n<path fill=\"none\" stroke=\"#000000\" d=\"M1278.6065,-838.3606C1262.1741,-824.5916 1241.9221,-807.622 1224.4763,-793.0038\"/>\n<polygon fill=\"#000000\" stroke=\"#000000\" points=\"1226.5948,-790.2127 1216.682,-786.4728 1222.099,-795.5781 1226.5948,-790.2127\"/>\n<text text-anchor=\"middle\" x=\"1263.6493\" y=\"-808.7209\" font-family=\"Times,serif\" font-size=\"14.00\" fill=\"#000000\">&lt;=</text>\n</g>\n<!-- leaf4 -->\n<g id=\"node34\" class=\"node\">\n<title>leaf4</title>\n<ellipse fill=\"none\" stroke=\"#000000\" cx=\"1499.1493\" cy=\"-760.0509\" rx=\"154.2987\" ry=\"26.7407\"/>\n<text text-anchor=\"middle\" x=\"1499.1493\" y=\"-763.8509\" font-family=\"Times,serif\" font-size=\"14.00\" fill=\"#000000\">leaf_index: 4</text>\n<text text-anchor=\"middle\" x=\"1499.1493\" y=\"-748.8509\" font-family=\"Times,serif\" font-size=\"14.00\" fill=\"#000000\">leaf_value: &#45;0.5479197855359644</text>\n</g>\n<!-- split3&#45;&gt;leaf4 -->\n<g id=\"edge31\" class=\"edge\">\n<title>split3&#45;&gt;leaf4</title>\n<path fill=\"none\" stroke=\"#000000\" d=\"M1356.3839,-839.1687C1382.8117,-824.5229 1416.1238,-806.062 1443.9213,-790.6571\"/>\n<polygon fill=\"#000000\" stroke=\"#000000\" points=\"1445.6868,-793.6803 1452.7369,-785.7717 1442.2937,-787.5576 1445.6868,-793.6803\"/>\n<text text-anchor=\"middle\" x=\"1420.6493\" y=\"-808.7209\" font-family=\"Times,serif\" font-size=\"14.00\" fill=\"#000000\">&gt;</text>\n</g>\n<!-- split5 -->\n<g id=\"node14\" class=\"node\">\n<title>split5</title>\n<ellipse fill=\"none\" stroke=\"#000000\" cx=\"1121.1493\" cy=\"-655.3107\" rx=\"251.9602\" ry=\"26.7407\"/>\n<text text-anchor=\"middle\" x=\"1121.1493\" y=\"-659.1107\" font-family=\"Times,serif\" font-size=\"14.00\" fill=\"#000000\">split_feature_name: r</text>\n<text text-anchor=\"middle\" x=\"1121.1493\" y=\"-644.1107\" font-family=\"Times,serif\" font-size=\"14.00\" fill=\"#000000\">threshold: 609||663||724||725||728||795||797||812||814||818</text>\n</g>\n<!-- split4&#45;&gt;split5 -->\n<g id=\"edge24\" class=\"edge\">\n<title>split4&#45;&gt;split5</title>\n<path fill=\"none\" stroke=\"#000000\" d=\"M1168.8338,-733.3495C1160.9958,-720.5221 1151.4899,-704.9652 1143.0343,-691.127\"/>\n<polygon fill=\"#000000\" stroke=\"#000000\" points=\"1145.8582,-689.0357 1137.6575,-682.3275 1139.885,-692.6856 1145.8582,-689.0357\"/>\n<text text-anchor=\"middle\" x=\"1165.6493\" y=\"-703.9808\" font-family=\"Times,serif\" font-size=\"14.00\" fill=\"#000000\">&lt;=</text>\n</g>\n<!-- split8 -->\n<g id=\"node29\" class=\"node\">\n<title>split8</title>\n<ellipse fill=\"none\" stroke=\"#000000\" cx=\"1542.1493\" cy=\"-655.3107\" rx=\"151.1419\" ry=\"26.7407\"/>\n<text text-anchor=\"middle\" x=\"1542.1493\" y=\"-659.1107\" font-family=\"Times,serif\" font-size=\"14.00\" fill=\"#000000\">split_feature_name: r</text>\n<text text-anchor=\"middle\" x=\"1542.1493\" y=\"-644.1107\" font-family=\"Times,serif\" font-size=\"14.00\" fill=\"#000000\">threshold: 573||795||797||814||832</text>\n</g>\n<!-- split4&#45;&gt;split8 -->\n<g id=\"edge29\" class=\"edge\">\n<title>split4&#45;&gt;split8</title>\n<path fill=\"none\" stroke=\"#000000\" d=\"M1262.1734,-737.4528C1318.5791,-720.9039 1395.2284,-698.4158 1454.0672,-681.1531\"/>\n<polygon fill=\"#000000\" stroke=\"#000000\" points=\"1455.1115,-684.4943 1463.7217,-678.3206 1453.1408,-677.7774 1455.1115,-684.4943\"/>\n<text text-anchor=\"middle\" x=\"1389.6493\" y=\"-703.9808\" font-family=\"Times,serif\" font-size=\"14.00\" fill=\"#000000\">&gt;</text>\n</g>\n<!-- leaf1 -->\n<g id=\"node15\" class=\"node\">\n<title>leaf1</title>\n<ellipse fill=\"none\" stroke=\"#000000\" cx=\"815.1493\" cy=\"-550.5706\" rx=\"154.2987\" ry=\"26.7407\"/>\n<text text-anchor=\"middle\" x=\"815.1493\" y=\"-554.3706\" font-family=\"Times,serif\" font-size=\"14.00\" fill=\"#000000\">leaf_index: 1</text>\n<text text-anchor=\"middle\" x=\"815.1493\" y=\"-539.3706\" font-family=\"Times,serif\" font-size=\"14.00\" fill=\"#000000\">leaf_value: &#45;0.5463737425237767</text>\n</g>\n<!-- split5&#45;&gt;leaf1 -->\n<g id=\"edge10\" class=\"edge\">\n<title>split5&#45;&gt;leaf1</title>\n<path fill=\"none\" stroke=\"#000000\" d=\"M1045.9013,-629.5543C999.9599,-613.8291 941.2801,-593.7437 894.5921,-577.763\"/>\n<polygon fill=\"#000000\" stroke=\"#000000\" points=\"895.716,-574.4484 885.1214,-574.5213 893.4491,-581.0711 895.716,-574.4484\"/>\n<text text-anchor=\"middle\" x=\"992.1493\" y=\"-599.2407\" font-family=\"Times,serif\" font-size=\"14.00\" fill=\"#000000\">is</text>\n</g>\n<!-- split6 -->\n<g id=\"node16\" class=\"node\">\n<title>split6</title>\n<ellipse fill=\"none\" stroke=\"#000000\" cx=\"1134.1493\" cy=\"-550.5706\" rx=\"147.1565\" ry=\"26.7407\"/>\n<text text-anchor=\"middle\" x=\"1134.1493\" y=\"-554.3706\" font-family=\"Times,serif\" font-size=\"14.00\" fill=\"#000000\">split_feature_name: gsr</text>\n<text text-anchor=\"middle\" x=\"1134.1493\" y=\"-539.3706\" font-family=\"Times,serif\" font-size=\"14.00\" fill=\"#000000\">threshold: 1175.5000000000002</text>\n</g>\n<!-- split5&#45;&gt;split6 -->\n<g id=\"edge23\" class=\"edge\">\n<title>split5&#45;&gt;split6</title>\n<path fill=\"none\" stroke=\"#000000\" d=\"M1124.4971,-628.3376C1126.0438,-615.876 1127.9047,-600.8829 1129.578,-587.4008\"/>\n<polygon fill=\"#000000\" stroke=\"#000000\" points=\"1133.0543,-587.8074 1130.8128,-577.4524 1126.1076,-586.9451 1133.0543,-587.8074\"/>\n<text text-anchor=\"middle\" x=\"1140.6493\" y=\"-599.2407\" font-family=\"Times,serif\" font-size=\"14.00\" fill=\"#000000\">isn&#39;t</text>\n</g>\n<!-- split7 -->\n<g id=\"node17\" class=\"node\">\n<title>split7</title>\n<ellipse fill=\"none\" stroke=\"#000000\" cx=\"870.1493\" cy=\"-445.8305\" rx=\"150.7276\" ry=\"26.7407\"/>\n<text text-anchor=\"middle\" x=\"870.1493\" y=\"-449.6305\" font-family=\"Times,serif\" font-size=\"14.00\" fill=\"#000000\">split_feature_name: ecg</text>\n<text text-anchor=\"middle\" x=\"870.1493\" y=\"-434.6305\" font-family=\"Times,serif\" font-size=\"14.00\" fill=\"#000000\">threshold: &#45;16219.999999999998</text>\n</g>\n<!-- split6&#45;&gt;split7 -->\n<g id=\"edge19\" class=\"edge\">\n<title>split6&#45;&gt;split7</title>\n<path fill=\"none\" stroke=\"#000000\" d=\"M1072.5862,-526.1459C1033.4316,-510.6116 982.5834,-490.438 941.6441,-474.1956\"/>\n<polygon fill=\"#000000\" stroke=\"#000000\" points=\"942.8537,-470.9101 932.2678,-470.4756 940.2722,-477.4168 942.8537,-470.9101\"/>\n<text text-anchor=\"middle\" x=\"1026.6493\" y=\"-494.5006\" font-family=\"Times,serif\" font-size=\"14.00\" fill=\"#000000\">&lt;=</text>\n</g>\n<!-- split12 -->\n<g id=\"node26\" class=\"node\">\n<title>split12</title>\n<ellipse fill=\"none\" stroke=\"#000000\" cx=\"1189.1493\" cy=\"-445.8305\" rx=\"150.7276\" ry=\"26.7407\"/>\n<text text-anchor=\"middle\" x=\"1189.1493\" y=\"-449.6305\" font-family=\"Times,serif\" font-size=\"14.00\" fill=\"#000000\">split_feature_name: ecg</text>\n<text text-anchor=\"middle\" x=\"1189.1493\" y=\"-434.6305\" font-family=\"Times,serif\" font-size=\"14.00\" fill=\"#000000\">threshold: &#45;1506.4999999999998</text>\n</g>\n<!-- split6&#45;&gt;split12 -->\n<g id=\"edge22\" class=\"edge\">\n<title>split6&#45;&gt;split12</title>\n<path fill=\"none\" stroke=\"#000000\" d=\"M1148.3131,-523.5975C1154.9852,-510.8915 1163.0391,-495.5539 1170.2249,-481.8694\"/>\n<polygon fill=\"#000000\" stroke=\"#000000\" points=\"1173.483,-483.1931 1175.0334,-472.7123 1167.2855,-479.9387 1173.483,-483.1931\"/>\n<text text-anchor=\"middle\" x=\"1169.6493\" y=\"-494.5006\" font-family=\"Times,serif\" font-size=\"14.00\" fill=\"#000000\">&gt;</text>\n</g>\n<!-- split10 -->\n<g id=\"node18\" class=\"node\">\n<title>split10</title>\n<ellipse fill=\"none\" stroke=\"#000000\" cx=\"567.1493\" cy=\"-341.0904\" rx=\"147.5709\" ry=\"26.7407\"/>\n<text text-anchor=\"middle\" x=\"567.1493\" y=\"-344.8904\" font-family=\"Times,serif\" font-size=\"14.00\" fill=\"#000000\">split_feature_name: gsr</text>\n<text text-anchor=\"middle\" x=\"567.1493\" y=\"-329.8904\" font-family=\"Times,serif\" font-size=\"14.00\" fill=\"#000000\">threshold: 475.62500000000006</text>\n</g>\n<!-- split7&#45;&gt;split10 -->\n<g id=\"edge13\" class=\"edge\">\n<title>split7&#45;&gt;split10</title>\n<path fill=\"none\" stroke=\"#000000\" d=\"M801.0148,-421.9323C754.771,-405.9469 693.8174,-384.8766 645.7327,-368.2549\"/>\n<polygon fill=\"#000000\" stroke=\"#000000\" points=\"646.5816,-364.8452 635.9868,-364.886 644.2946,-371.461 646.5816,-364.8452\"/>\n<text text-anchor=\"middle\" x=\"745.6493\" y=\"-389.7605\" font-family=\"Times,serif\" font-size=\"14.00\" fill=\"#000000\">&lt;=</text>\n</g>\n<!-- split27 -->\n<g id=\"node21\" class=\"node\">\n<title>split27</title>\n<ellipse fill=\"none\" stroke=\"#000000\" cx=\"881.1493\" cy=\"-341.0904\" rx=\"111.0315\" ry=\"26.7407\"/>\n<text text-anchor=\"middle\" x=\"881.1493\" y=\"-344.8904\" font-family=\"Times,serif\" font-size=\"14.00\" fill=\"#000000\">split_feature_name: r</text>\n<text text-anchor=\"middle\" x=\"881.1493\" y=\"-329.8904\" font-family=\"Times,serif\" font-size=\"14.00\" fill=\"#000000\">threshold: 601||602||603</text>\n</g>\n<!-- split7&#45;&gt;split27 -->\n<g id=\"edge18\" class=\"edge\">\n<title>split7&#45;&gt;split27</title>\n<path fill=\"none\" stroke=\"#000000\" d=\"M872.9821,-418.8573C874.2908,-406.3957 875.8654,-391.4027 877.2813,-377.9206\"/>\n<polygon fill=\"#000000\" stroke=\"#000000\" points=\"880.7624,-378.2831 878.3261,-367.9722 873.8007,-377.5519 880.7624,-378.2831\"/>\n<text text-anchor=\"middle\" x=\"881.6493\" y=\"-389.7605\" font-family=\"Times,serif\" font-size=\"14.00\" fill=\"#000000\">&gt;</text>\n</g>\n<!-- leaf6 -->\n<g id=\"node19\" class=\"node\">\n<title>leaf6</title>\n<ellipse fill=\"none\" stroke=\"#000000\" cx=\"241.1493\" cy=\"-236.3503\" rx=\"154.2987\" ry=\"26.7407\"/>\n<text text-anchor=\"middle\" x=\"241.1493\" y=\"-240.1503\" font-family=\"Times,serif\" font-size=\"14.00\" fill=\"#000000\">leaf_index: 6</text>\n<text text-anchor=\"middle\" x=\"241.1493\" y=\"-225.1503\" font-family=\"Times,serif\" font-size=\"14.00\" fill=\"#000000\">leaf_value: &#45;0.5305680512119365</text>\n</g>\n<!-- split10&#45;&gt;leaf6 -->\n<g id=\"edge11\" class=\"edge\">\n<title>split10&#45;&gt;leaf6</title>\n<path fill=\"none\" stroke=\"#000000\" d=\"M493.9885,-317.5847C443.7099,-301.4307 376.8465,-279.9483 324.5078,-263.1324\"/>\n<polygon fill=\"#000000\" stroke=\"#000000\" points=\"325.5026,-259.7759 314.9113,-260.0492 323.3613,-266.4404 325.5026,-259.7759\"/>\n<text text-anchor=\"middle\" x=\"432.6493\" y=\"-285.0203\" font-family=\"Times,serif\" font-size=\"14.00\" fill=\"#000000\">&lt;=</text>\n</g>\n<!-- leaf11 -->\n<g id=\"node20\" class=\"node\">\n<title>leaf11</title>\n<ellipse fill=\"none\" stroke=\"#000000\" cx=\"567.1493\" cy=\"-236.3503\" rx=\"154.2987\" ry=\"26.7407\"/>\n<text text-anchor=\"middle\" x=\"567.1493\" y=\"-240.1503\" font-family=\"Times,serif\" font-size=\"14.00\" fill=\"#000000\">leaf_index: 11</text>\n<text text-anchor=\"middle\" x=\"567.1493\" y=\"-225.1503\" font-family=\"Times,serif\" font-size=\"14.00\" fill=\"#000000\">leaf_value: &#45;0.5481859427315512</text>\n</g>\n<!-- split10&#45;&gt;leaf11 -->\n<g id=\"edge12\" class=\"edge\">\n<title>split10&#45;&gt;leaf11</title>\n<path fill=\"none\" stroke=\"#000000\" d=\"M567.1493,-314.1172C567.1493,-301.7778 567.1493,-286.9563 567.1493,-273.5774\"/>\n<polygon fill=\"#000000\" stroke=\"#000000\" points=\"570.6494,-273.232 567.1493,-263.2321 563.6494,-273.2321 570.6494,-273.232\"/>\n<text text-anchor=\"middle\" x=\"571.6493\" y=\"-285.0203\" font-family=\"Times,serif\" font-size=\"14.00\" fill=\"#000000\">&gt;</text>\n</g>\n<!-- split28 -->\n<g id=\"node22\" class=\"node\">\n<title>split28</title>\n<ellipse fill=\"none\" stroke=\"#000000\" cx=\"881.1493\" cy=\"-236.3503\" rx=\"142.257\" ry=\"26.7407\"/>\n<text text-anchor=\"middle\" x=\"881.1493\" y=\"-240.1503\" font-family=\"Times,serif\" font-size=\"14.00\" fill=\"#000000\">split_feature_name: gsr</text>\n<text text-anchor=\"middle\" x=\"881.1493\" y=\"-225.1503\" font-family=\"Times,serif\" font-size=\"14.00\" fill=\"#000000\">threshold: 892.7500000000001</text>\n</g>\n<!-- split27&#45;&gt;split28 -->\n<g id=\"edge16\" class=\"edge\">\n<title>split27&#45;&gt;split28</title>\n<path fill=\"none\" stroke=\"#000000\" d=\"M881.1493,-314.1172C881.1493,-301.7778 881.1493,-286.9563 881.1493,-273.5774\"/>\n<polygon fill=\"#000000\" stroke=\"#000000\" points=\"884.6494,-273.232 881.1493,-263.2321 877.6494,-273.2321 884.6494,-273.232\"/>\n<text text-anchor=\"middle\" x=\"886.1493\" y=\"-285.0203\" font-family=\"Times,serif\" font-size=\"14.00\" fill=\"#000000\">is</text>\n</g>\n<!-- leaf28 -->\n<g id=\"node25\" class=\"node\">\n<title>leaf28</title>\n<ellipse fill=\"none\" stroke=\"#000000\" cx=\"1195.1493\" cy=\"-236.3503\" rx=\"154.2987\" ry=\"26.7407\"/>\n<text text-anchor=\"middle\" x=\"1195.1493\" y=\"-240.1503\" font-family=\"Times,serif\" font-size=\"14.00\" fill=\"#000000\">leaf_index: 28</text>\n<text text-anchor=\"middle\" x=\"1195.1493\" y=\"-225.1503\" font-family=\"Times,serif\" font-size=\"14.00\" fill=\"#000000\">leaf_value: &#45;0.5310017310915116</text>\n</g>\n<!-- split27&#45;&gt;leaf28 -->\n<g id=\"edge17\" class=\"edge\">\n<title>split27&#45;&gt;leaf28</title>\n<path fill=\"none\" stroke=\"#000000\" d=\"M946.5918,-319.2609C995.2378,-303.0342 1061.9103,-280.7944 1113.9572,-263.4333\"/>\n<polygon fill=\"#000000\" stroke=\"#000000\" points=\"1115.119,-266.7354 1123.4976,-260.2509 1112.9039,-260.0951 1115.119,-266.7354\"/>\n<text text-anchor=\"middle\" x=\"1068.6493\" y=\"-285.0203\" font-family=\"Times,serif\" font-size=\"14.00\" fill=\"#000000\">isn&#39;t</text>\n</g>\n<!-- leaf8 -->\n<g id=\"node23\" class=\"node\">\n<title>leaf8</title>\n<ellipse fill=\"none\" stroke=\"#000000\" cx=\"718.1493\" cy=\"-131.6102\" rx=\"154.2987\" ry=\"26.7407\"/>\n<text text-anchor=\"middle\" x=\"718.1493\" y=\"-135.4102\" font-family=\"Times,serif\" font-size=\"14.00\" fill=\"#000000\">leaf_index: 8</text>\n<text text-anchor=\"middle\" x=\"718.1493\" y=\"-120.4102\" font-family=\"Times,serif\" font-size=\"14.00\" fill=\"#000000\">leaf_value: &#45;0.5316451512377088</text>\n</g>\n<!-- split28&#45;&gt;leaf8 -->\n<g id=\"edge14\" class=\"edge\">\n<title>split28&#45;&gt;leaf8</title>\n<path fill=\"none\" stroke=\"#000000\" d=\"M840.8571,-210.4595C818.5227,-196.1079 790.5854,-178.156 767.0119,-163.0082\"/>\n<polygon fill=\"#000000\" stroke=\"#000000\" points=\"768.8478,-160.0276 758.5428,-157.5662 765.0636,-165.9166 768.8478,-160.0276\"/>\n<text text-anchor=\"middle\" x=\"818.6493\" y=\"-180.2802\" font-family=\"Times,serif\" font-size=\"14.00\" fill=\"#000000\">&lt;=</text>\n</g>\n<!-- leaf29 -->\n<g id=\"node24\" class=\"node\">\n<title>leaf29</title>\n<ellipse fill=\"none\" stroke=\"#000000\" cx=\"1044.1493\" cy=\"-131.6102\" rx=\"154.2987\" ry=\"26.7407\"/>\n<text text-anchor=\"middle\" x=\"1044.1493\" y=\"-135.4102\" font-family=\"Times,serif\" font-size=\"14.00\" fill=\"#000000\">leaf_index: 29</text>\n<text text-anchor=\"middle\" x=\"1044.1493\" y=\"-120.4102\" font-family=\"Times,serif\" font-size=\"14.00\" fill=\"#000000\">leaf_value: &#45;0.5475582931565227</text>\n</g>\n<!-- split28&#45;&gt;leaf29 -->\n<g id=\"edge15\" class=\"edge\">\n<title>split28&#45;&gt;leaf29</title>\n<path fill=\"none\" stroke=\"#000000\" d=\"M921.4414,-210.4595C943.7758,-196.1079 971.7132,-178.156 995.2867,-163.0082\"/>\n<polygon fill=\"#000000\" stroke=\"#000000\" points=\"997.2349,-165.9166 1003.7557,-157.5662 993.4508,-160.0276 997.2349,-165.9166\"/>\n<text text-anchor=\"middle\" x=\"977.6493\" y=\"-180.2802\" font-family=\"Times,serif\" font-size=\"14.00\" fill=\"#000000\">&gt;</text>\n</g>\n<!-- leaf7 -->\n<g id=\"node27\" class=\"node\">\n<title>leaf7</title>\n<ellipse fill=\"none\" stroke=\"#000000\" cx=\"1169.1493\" cy=\"-341.0904\" rx=\"149.3993\" ry=\"26.7407\"/>\n<text text-anchor=\"middle\" x=\"1169.1493\" y=\"-344.8904\" font-family=\"Times,serif\" font-size=\"14.00\" fill=\"#000000\">leaf_index: 7</text>\n<text text-anchor=\"middle\" x=\"1169.1493\" y=\"-329.8904\" font-family=\"Times,serif\" font-size=\"14.00\" fill=\"#000000\">leaf_value: &#45;0.546409978938316</text>\n</g>\n<!-- split12&#45;&gt;leaf7 -->\n<g id=\"edge20\" class=\"edge\">\n<title>split12&#45;&gt;leaf7</title>\n<path fill=\"none\" stroke=\"#000000\" d=\"M1183.9988,-418.8573C1181.6193,-406.3957 1178.7564,-391.4027 1176.182,-377.9206\"/>\n<polygon fill=\"#000000\" stroke=\"#000000\" points=\"1179.5959,-377.1382 1174.2823,-367.9722 1172.7201,-378.4512 1179.5959,-377.1382\"/>\n<text text-anchor=\"middle\" x=\"1189.6493\" y=\"-389.7605\" font-family=\"Times,serif\" font-size=\"14.00\" fill=\"#000000\">&lt;=</text>\n</g>\n<!-- leaf13 -->\n<g id=\"node28\" class=\"node\">\n<title>leaf13</title>\n<ellipse fill=\"none\" stroke=\"#000000\" cx=\"1490.1493\" cy=\"-341.0904\" rx=\"154.2987\" ry=\"26.7407\"/>\n<text text-anchor=\"middle\" x=\"1490.1493\" y=\"-344.8904\" font-family=\"Times,serif\" font-size=\"14.00\" fill=\"#000000\">leaf_index: 13</text>\n<text text-anchor=\"middle\" x=\"1490.1493\" y=\"-329.8904\" font-family=\"Times,serif\" font-size=\"14.00\" fill=\"#000000\">leaf_value: &#45;0.5316035371135087</text>\n</g>\n<!-- split12&#45;&gt;leaf13 -->\n<g id=\"edge21\" class=\"edge\">\n<title>split12&#45;&gt;leaf13</title>\n<path fill=\"none\" stroke=\"#000000\" d=\"M1258.2048,-421.801C1303.8331,-405.9235 1363.7541,-385.0726 1411.2613,-368.5414\"/>\n<polygon fill=\"#000000\" stroke=\"#000000\" points=\"1412.6003,-371.7813 1420.8946,-365.1892 1410.2998,-365.1702 1412.6003,-371.7813\"/>\n<text text-anchor=\"middle\" x=\"1362.6493\" y=\"-389.7605\" font-family=\"Times,serif\" font-size=\"14.00\" fill=\"#000000\">&gt;</text>\n</g>\n<!-- split11 -->\n<g id=\"node30\" class=\"node\">\n<title>split11</title>\n<ellipse fill=\"none\" stroke=\"#000000\" cx=\"1537.1493\" cy=\"-550.5706\" rx=\"142.257\" ry=\"26.7407\"/>\n<text text-anchor=\"middle\" x=\"1537.1493\" y=\"-554.3706\" font-family=\"Times,serif\" font-size=\"14.00\" fill=\"#000000\">split_feature_name: ecg</text>\n<text text-anchor=\"middle\" x=\"1537.1493\" y=\"-539.3706\" font-family=\"Times,serif\" font-size=\"14.00\" fill=\"#000000\">threshold: 9372.000000000002</text>\n</g>\n<!-- split8&#45;&gt;split11 -->\n<g id=\"edge27\" class=\"edge\">\n<title>split8&#45;&gt;split11</title>\n<path fill=\"none\" stroke=\"#000000\" d=\"M1540.8617,-628.3376C1540.2726,-615.9981 1539.5651,-601.1767 1538.9264,-587.7978\"/>\n<polygon fill=\"#000000\" stroke=\"#000000\" points=\"1542.4055,-587.2741 1538.4325,-577.4524 1535.4134,-587.608 1542.4055,-587.2741\"/>\n<text text-anchor=\"middle\" x=\"1545.1493\" y=\"-599.2407\" font-family=\"Times,serif\" font-size=\"14.00\" fill=\"#000000\">is</text>\n</g>\n<!-- leaf9 -->\n<g id=\"node33\" class=\"node\">\n<title>leaf9</title>\n<ellipse fill=\"none\" stroke=\"#000000\" cx=\"1851.1493\" cy=\"-550.5706\" rx=\"154.2987\" ry=\"26.7407\"/>\n<text text-anchor=\"middle\" x=\"1851.1493\" y=\"-554.3706\" font-family=\"Times,serif\" font-size=\"14.00\" fill=\"#000000\">leaf_index: 9</text>\n<text text-anchor=\"middle\" x=\"1851.1493\" y=\"-539.3706\" font-family=\"Times,serif\" font-size=\"14.00\" fill=\"#000000\">leaf_value: &#45;0.5312182623126407</text>\n</g>\n<!-- split8&#45;&gt;leaf9 -->\n<g id=\"edge28\" class=\"edge\">\n<title>split8&#45;&gt;leaf9</title>\n<path fill=\"none\" stroke=\"#000000\" d=\"M1612.6528,-631.4125C1659.7437,-615.4504 1721.7923,-594.4181 1770.7959,-577.8076\"/>\n<polygon fill=\"#000000\" stroke=\"#000000\" points=\"1772.0672,-581.0723 1780.4144,-574.5473 1769.82,-574.4428 1772.0672,-581.0723\"/>\n<text text-anchor=\"middle\" x=\"1727.6493\" y=\"-599.2407\" font-family=\"Times,serif\" font-size=\"14.00\" fill=\"#000000\">isn&#39;t</text>\n</g>\n<!-- leaf5 -->\n<g id=\"node31\" class=\"node\">\n<title>leaf5</title>\n<ellipse fill=\"none\" stroke=\"#000000\" cx=\"1536.1493\" cy=\"-445.8305\" rx=\"154.2987\" ry=\"26.7407\"/>\n<text text-anchor=\"middle\" x=\"1536.1493\" y=\"-449.6305\" font-family=\"Times,serif\" font-size=\"14.00\" fill=\"#000000\">leaf_index: 5</text>\n<text text-anchor=\"middle\" x=\"1536.1493\" y=\"-434.6305\" font-family=\"Times,serif\" font-size=\"14.00\" fill=\"#000000\">leaf_value: &#45;0.5327194107228526</text>\n</g>\n<!-- split11&#45;&gt;leaf5 -->\n<g id=\"edge25\" class=\"edge\">\n<title>split11&#45;&gt;leaf5</title>\n<path fill=\"none\" stroke=\"#000000\" d=\"M1536.8918,-523.5975C1536.7739,-511.258 1536.6324,-496.4365 1536.5047,-483.0577\"/>\n<polygon fill=\"#000000\" stroke=\"#000000\" points=\"1540.0013,-482.6784 1536.4059,-472.7123 1533.0017,-482.7453 1540.0013,-482.6784\"/>\n<text text-anchor=\"middle\" x=\"1545.6493\" y=\"-494.5006\" font-family=\"Times,serif\" font-size=\"14.00\" fill=\"#000000\">&lt;=</text>\n</g>\n<!-- leaf12 -->\n<g id=\"node32\" class=\"node\">\n<title>leaf12</title>\n<ellipse fill=\"none\" stroke=\"#000000\" cx=\"1862.1493\" cy=\"-445.8305\" rx=\"154.2987\" ry=\"26.7407\"/>\n<text text-anchor=\"middle\" x=\"1862.1493\" y=\"-449.6305\" font-family=\"Times,serif\" font-size=\"14.00\" fill=\"#000000\">leaf_index: 12</text>\n<text text-anchor=\"middle\" x=\"1862.1493\" y=\"-434.6305\" font-family=\"Times,serif\" font-size=\"14.00\" fill=\"#000000\">leaf_value: &#45;0.5423078455424809</text>\n</g>\n<!-- split11&#45;&gt;leaf12 -->\n<g id=\"edge26\" class=\"edge\">\n<title>split11&#45;&gt;leaf12</title>\n<path fill=\"none\" stroke=\"#000000\" d=\"M1609.2773,-527.3254C1659.4515,-511.1554 1726.4798,-489.5537 1778.9203,-472.6533\"/>\n<polygon fill=\"#000000\" stroke=\"#000000\" points=\"1780.0907,-475.9535 1788.535,-469.5547 1777.9435,-469.2909 1780.0907,-475.9535\"/>\n<text text-anchor=\"middle\" x=\"1723.6493\" y=\"-494.5006\" font-family=\"Times,serif\" font-size=\"14.00\" fill=\"#000000\">&gt;</text>\n</g>\n<!-- split9 -->\n<g id=\"node36\" class=\"node\">\n<title>split9</title>\n<ellipse fill=\"none\" stroke=\"#000000\" cx=\"2105.1493\" cy=\"-760.0509\" rx=\"150.7276\" ry=\"26.7407\"/>\n<text text-anchor=\"middle\" x=\"2105.1493\" y=\"-763.8509\" font-family=\"Times,serif\" font-size=\"14.00\" fill=\"#000000\">split_feature_name: ecg</text>\n<text text-anchor=\"middle\" x=\"2105.1493\" y=\"-748.8509\" font-family=\"Times,serif\" font-size=\"14.00\" fill=\"#000000\">threshold: &#45;16307.999999999998</text>\n</g>\n<!-- split2&#45;&gt;split9 -->\n<g id=\"edge55\" class=\"edge\">\n<title>split2&#45;&gt;split9</title>\n<path fill=\"none\" stroke=\"#000000\" d=\"M2108.8617,-837.8178C2108.2726,-825.4784 2107.5651,-810.6569 2106.9264,-797.278\"/>\n<polygon fill=\"#000000\" stroke=\"#000000\" points=\"2110.4055,-796.7543 2106.4325,-786.9326 2103.4134,-797.0882 2110.4055,-796.7543\"/>\n<text text-anchor=\"middle\" x=\"2113.1493\" y=\"-808.7209\" font-family=\"Times,serif\" font-size=\"14.00\" fill=\"#000000\">is</text>\n</g>\n<!-- leaf3 -->\n<g id=\"node59\" class=\"node\">\n<title>leaf3</title>\n<ellipse fill=\"none\" stroke=\"#000000\" cx=\"2428.1493\" cy=\"-760.0509\" rx=\"154.2987\" ry=\"26.7407\"/>\n<text text-anchor=\"middle\" x=\"2428.1493\" y=\"-763.8509\" font-family=\"Times,serif\" font-size=\"14.00\" fill=\"#000000\">leaf_index: 3</text>\n<text text-anchor=\"middle\" x=\"2428.1493\" y=\"-748.8509\" font-family=\"Times,serif\" font-size=\"14.00\" fill=\"#000000\">leaf_value: &#45;0.5309037071891992</text>\n</g>\n<!-- split2&#45;&gt;leaf3 -->\n<g id=\"edge56\" class=\"edge\">\n<title>split2&#45;&gt;leaf3</title>\n<path fill=\"none\" stroke=\"#000000\" d=\"M2191.2169,-838.0896C2238.7315,-822.4397 2298.5818,-802.7267 2346.2408,-787.0292\"/>\n<polygon fill=\"#000000\" stroke=\"#000000\" points=\"2347.5063,-790.2974 2355.9094,-783.8446 2345.3164,-783.6488 2347.5063,-790.2974\"/>\n<text text-anchor=\"middle\" x=\"2300.6493\" y=\"-808.7209\" font-family=\"Times,serif\" font-size=\"14.00\" fill=\"#000000\">isn&#39;t</text>\n</g>\n<!-- leaf2 -->\n<g id=\"node37\" class=\"node\">\n<title>leaf2</title>\n<ellipse fill=\"none\" stroke=\"#000000\" cx=\"2100.1493\" cy=\"-655.3107\" rx=\"154.2987\" ry=\"26.7407\"/>\n<text text-anchor=\"middle\" x=\"2100.1493\" y=\"-659.1107\" font-family=\"Times,serif\" font-size=\"14.00\" fill=\"#000000\">leaf_index: 2</text>\n<text text-anchor=\"middle\" x=\"2100.1493\" y=\"-644.1107\" font-family=\"Times,serif\" font-size=\"14.00\" fill=\"#000000\">leaf_value: &#45;0.5454327480162028</text>\n</g>\n<!-- split9&#45;&gt;leaf2 -->\n<g id=\"edge33\" class=\"edge\">\n<title>split9&#45;&gt;leaf2</title>\n<path fill=\"none\" stroke=\"#000000\" d=\"M2103.8617,-733.0777C2103.2726,-720.7382 2102.5651,-705.9168 2101.9264,-692.5379\"/>\n<polygon fill=\"#000000\" stroke=\"#000000\" points=\"2105.4055,-692.0142 2101.4325,-682.1925 2098.4134,-692.3481 2105.4055,-692.0142\"/>\n<text text-anchor=\"middle\" x=\"2111.6493\" y=\"-703.9808\" font-family=\"Times,serif\" font-size=\"14.00\" fill=\"#000000\">&lt;=</text>\n</g>\n<!-- split13 -->\n<g id=\"node38\" class=\"node\">\n<title>split13</title>\n<ellipse fill=\"none\" stroke=\"#000000\" cx=\"2420.1493\" cy=\"-655.3107\" rx=\"147.5709\" ry=\"26.7407\"/>\n<text text-anchor=\"middle\" x=\"2420.1493\" y=\"-659.1107\" font-family=\"Times,serif\" font-size=\"14.00\" fill=\"#000000\">split_feature_name: ecg</text>\n<text text-anchor=\"middle\" x=\"2420.1493\" y=\"-644.1107\" font-family=\"Times,serif\" font-size=\"14.00\" fill=\"#000000\">threshold: 27912.000000000004</text>\n</g>\n<!-- split9&#45;&gt;split13 -->\n<g id=\"edge54\" class=\"edge\">\n<title>split9&#45;&gt;split13</title>\n<path fill=\"none\" stroke=\"#000000\" d=\"M2176.6277,-736.2837C2225.1433,-720.1519 2289.3675,-698.7968 2339.6792,-682.0677\"/>\n<polygon fill=\"#000000\" stroke=\"#000000\" points=\"2340.8407,-685.37 2349.2255,-678.8935 2338.632,-678.7276 2340.8407,-685.37\"/>\n<text text-anchor=\"middle\" x=\"2286.6493\" y=\"-703.9808\" font-family=\"Times,serif\" font-size=\"14.00\" fill=\"#000000\">&gt;</text>\n</g>\n<!-- split14 -->\n<g id=\"node39\" class=\"node\">\n<title>split14</title>\n<ellipse fill=\"none\" stroke=\"#000000\" cx=\"2418.1493\" cy=\"-550.5706\" rx=\"147.5709\" ry=\"26.7407\"/>\n<text text-anchor=\"middle\" x=\"2418.1493\" y=\"-554.3706\" font-family=\"Times,serif\" font-size=\"14.00\" fill=\"#000000\">split_feature_name: ecg</text>\n<text text-anchor=\"middle\" x=\"2418.1493\" y=\"-539.3706\" font-family=\"Times,serif\" font-size=\"14.00\" fill=\"#000000\">threshold: 17784.000000000004</text>\n</g>\n<!-- split13&#45;&gt;split14 -->\n<g id=\"edge50\" class=\"edge\">\n<title>split13&#45;&gt;split14</title>\n<path fill=\"none\" stroke=\"#000000\" d=\"M2419.6342,-628.3376C2419.3986,-615.9981 2419.1156,-601.1767 2418.8601,-587.7978\"/>\n<polygon fill=\"#000000\" stroke=\"#000000\" points=\"2422.353,-587.3837 2418.6626,-577.4524 2415.3542,-587.5174 2422.353,-587.3837\"/>\n<text text-anchor=\"middle\" x=\"2428.6493\" y=\"-599.2407\" font-family=\"Times,serif\" font-size=\"14.00\" fill=\"#000000\">&lt;=</text>\n</g>\n<!-- split26 -->\n<g id=\"node56\" class=\"node\">\n<title>split26</title>\n<ellipse fill=\"none\" stroke=\"#000000\" cx=\"2744.1493\" cy=\"-550.5706\" rx=\"147.5709\" ry=\"26.7407\"/>\n<text text-anchor=\"middle\" x=\"2744.1493\" y=\"-554.3706\" font-family=\"Times,serif\" font-size=\"14.00\" fill=\"#000000\">split_feature_name: gsr</text>\n<text text-anchor=\"middle\" x=\"2744.1493\" y=\"-539.3706\" font-family=\"Times,serif\" font-size=\"14.00\" fill=\"#000000\">threshold: 1091.5000000000002</text>\n</g>\n<!-- split13&#45;&gt;split26 -->\n<g id=\"edge53\" class=\"edge\">\n<title>split13&#45;&gt;split26</title>\n<path fill=\"none\" stroke=\"#000000\" d=\"M2492.8612,-631.805C2543.0948,-615.5659 2609.9857,-593.9419 2662.1237,-577.0872\"/>\n<polygon fill=\"#000000\" stroke=\"#000000\" points=\"2663.2415,-580.4043 2671.68,-573.9979 2661.0882,-573.7437 2663.2415,-580.4043\"/>\n<text text-anchor=\"middle\" x=\"2606.6493\" y=\"-599.2407\" font-family=\"Times,serif\" font-size=\"14.00\" fill=\"#000000\">&gt;</text>\n</g>\n<!-- split15 -->\n<g id=\"node40\" class=\"node\">\n<title>split15</title>\n<ellipse fill=\"none\" stroke=\"#000000\" cx=\"2149.1493\" cy=\"-445.8305\" rx=\"96.7474\" ry=\"26.7407\"/>\n<text text-anchor=\"middle\" x=\"2149.1493\" y=\"-449.6305\" font-family=\"Times,serif\" font-size=\"14.00\" fill=\"#000000\">split_feature_name: r</text>\n<text text-anchor=\"middle\" x=\"2149.1493\" y=\"-434.6305\" font-family=\"Times,serif\" font-size=\"14.00\" fill=\"#000000\">threshold: 829||830</text>\n</g>\n<!-- split14&#45;&gt;split15 -->\n<g id=\"edge48\" class=\"edge\">\n<title>split14&#45;&gt;split15</title>\n<path fill=\"none\" stroke=\"#000000\" d=\"M2355.4202,-526.1459C2313.275,-509.7359 2257.8337,-488.1488 2215.0438,-471.4878\"/>\n<polygon fill=\"#000000\" stroke=\"#000000\" points=\"2216.152,-468.1634 2205.5635,-467.7965 2213.6121,-474.6864 2216.152,-468.1634\"/>\n<text text-anchor=\"middle\" x=\"2308.6493\" y=\"-494.5006\" font-family=\"Times,serif\" font-size=\"14.00\" fill=\"#000000\">&lt;=</text>\n</g>\n<!-- leaf15 -->\n<g id=\"node55\" class=\"node\">\n<title>leaf15</title>\n<ellipse fill=\"none\" stroke=\"#000000\" cx=\"2418.1493\" cy=\"-445.8305\" rx=\"154.2987\" ry=\"26.7407\"/>\n<text text-anchor=\"middle\" x=\"2418.1493\" y=\"-449.6305\" font-family=\"Times,serif\" font-size=\"14.00\" fill=\"#000000\">leaf_index: 15</text>\n<text text-anchor=\"middle\" x=\"2418.1493\" y=\"-434.6305\" font-family=\"Times,serif\" font-size=\"14.00\" fill=\"#000000\">leaf_value: &#45;0.5300497070447957</text>\n</g>\n<!-- split14&#45;&gt;leaf15 -->\n<g id=\"edge49\" class=\"edge\">\n<title>split14&#45;&gt;leaf15</title>\n<path fill=\"none\" stroke=\"#000000\" d=\"M2418.1493,-523.5975C2418.1493,-511.258 2418.1493,-496.4365 2418.1493,-483.0577\"/>\n<polygon fill=\"#000000\" stroke=\"#000000\" points=\"2421.6494,-482.7123 2418.1493,-472.7123 2414.6494,-482.7123 2421.6494,-482.7123\"/>\n<text text-anchor=\"middle\" x=\"2422.6493\" y=\"-494.5006\" font-family=\"Times,serif\" font-size=\"14.00\" fill=\"#000000\">&gt;</text>\n</g>\n<!-- leaf10 -->\n<g id=\"node41\" class=\"node\">\n<title>leaf10</title>\n<ellipse fill=\"none\" stroke=\"#000000\" cx=\"1966.1493\" cy=\"-341.0904\" rx=\"154.2987\" ry=\"26.7407\"/>\n<text text-anchor=\"middle\" x=\"1966.1493\" y=\"-344.8904\" font-family=\"Times,serif\" font-size=\"14.00\" fill=\"#000000\">leaf_index: 10</text>\n<text text-anchor=\"middle\" x=\"1966.1493\" y=\"-329.8904\" font-family=\"Times,serif\" font-size=\"14.00\" fill=\"#000000\">leaf_value: &#45;0.5460726557351212</text>\n</g>\n<!-- split15&#45;&gt;leaf10 -->\n<g id=\"edge34\" class=\"edge\">\n<title>split15&#45;&gt;leaf10</title>\n<path fill=\"none\" stroke=\"#000000\" d=\"M2106.7054,-421.5378C2080.8859,-406.76 2047.6675,-387.7474 2020.0073,-371.9161\"/>\n<polygon fill=\"#000000\" stroke=\"#000000\" points=\"2021.6561,-368.827 2011.2385,-366.8972 2018.1789,-374.9023 2021.6561,-368.827\"/>\n<text text-anchor=\"middle\" x=\"2074.1493\" y=\"-389.7605\" font-family=\"Times,serif\" font-size=\"14.00\" fill=\"#000000\">is</text>\n</g>\n<!-- split20 -->\n<g id=\"node42\" class=\"node\">\n<title>split20</title>\n<ellipse fill=\"none\" stroke=\"#000000\" cx=\"2369.1493\" cy=\"-341.0904\" rx=\"231.4481\" ry=\"26.7407\"/>\n<text text-anchor=\"middle\" x=\"2369.1493\" y=\"-344.8904\" font-family=\"Times,serif\" font-size=\"14.00\" fill=\"#000000\">split_feature_name: r</text>\n<text text-anchor=\"middle\" x=\"2369.1493\" y=\"-329.8904\" font-family=\"Times,serif\" font-size=\"14.00\" fill=\"#000000\">threshold: 597||598||599||600||722||723||811||813||817</text>\n</g>\n<!-- split15&#45;&gt;split20 -->\n<g id=\"edge47\" class=\"edge\">\n<title>split15&#45;&gt;split20</title>\n<path fill=\"none\" stroke=\"#000000\" d=\"M2197.9744,-422.5853C2229.4477,-407.6011 2270.718,-387.9527 2304.849,-371.7032\"/>\n<polygon fill=\"#000000\" stroke=\"#000000\" points=\"2306.7479,-374.6757 2314.2723,-367.2169 2303.7388,-368.3554 2306.7479,-374.6757\"/>\n<text text-anchor=\"middle\" x=\"2284.6493\" y=\"-389.7605\" font-family=\"Times,serif\" font-size=\"14.00\" fill=\"#000000\">isn&#39;t</text>\n</g>\n<!-- split22 -->\n<g id=\"node43\" class=\"node\">\n<title>split22</title>\n<ellipse fill=\"none\" stroke=\"#000000\" cx=\"2208.1493\" cy=\"-236.3503\" rx=\"142.257\" ry=\"26.7407\"/>\n<text text-anchor=\"middle\" x=\"2208.1493\" y=\"-240.1503\" font-family=\"Times,serif\" font-size=\"14.00\" fill=\"#000000\">split_feature_name: crew</text>\n<text text-anchor=\"middle\" x=\"2208.1493\" y=\"-225.1503\" font-family=\"Times,serif\" font-size=\"14.00\" fill=\"#000000\">threshold: 7.500000000000001</text>\n</g>\n<!-- split20&#45;&gt;split22 -->\n<g id=\"edge39\" class=\"edge\">\n<title>split20&#45;&gt;split22</title>\n<path fill=\"none\" stroke=\"#000000\" d=\"M2328.1056,-314.389C2306.2964,-300.2008 2279.3538,-282.6731 2256.5312,-267.8256\"/>\n<polygon fill=\"#000000\" stroke=\"#000000\" points=\"2258.2961,-264.7984 2248.0052,-262.2789 2254.4789,-270.666 2258.2961,-264.7984\"/>\n<text text-anchor=\"middle\" x=\"2304.1493\" y=\"-285.0203\" font-family=\"Times,serif\" font-size=\"14.00\" fill=\"#000000\">is</text>\n</g>\n<!-- split21 -->\n<g id=\"node48\" class=\"node\">\n<title>split21</title>\n<ellipse fill=\"none\" stroke=\"#000000\" cx=\"2529.1493\" cy=\"-236.3503\" rx=\"142.257\" ry=\"26.7407\"/>\n<text text-anchor=\"middle\" x=\"2529.1493\" y=\"-240.1503\" font-family=\"Times,serif\" font-size=\"14.00\" fill=\"#000000\">split_feature_name: ecg</text>\n<text text-anchor=\"middle\" x=\"2529.1493\" y=\"-225.1503\" font-family=\"Times,serif\" font-size=\"14.00\" fill=\"#000000\">threshold: 7230.000000000001</text>\n</g>\n<!-- split20&#45;&gt;split21 -->\n<g id=\"edge46\" class=\"edge\">\n<title>split20&#45;&gt;split21</title>\n<path fill=\"none\" stroke=\"#000000\" d=\"M2409.938,-314.389C2431.6118,-300.2008 2458.387,-282.6731 2481.0679,-267.8256\"/>\n<polygon fill=\"#000000\" stroke=\"#000000\" points=\"2483.0912,-270.6844 2489.5409,-262.2789 2479.2572,-264.8277 2483.0912,-270.6844\"/>\n<text text-anchor=\"middle\" x=\"2470.6493\" y=\"-285.0203\" font-family=\"Times,serif\" font-size=\"14.00\" fill=\"#000000\">isn&#39;t</text>\n</g>\n<!-- split23 -->\n<g id=\"node44\" class=\"node\">\n<title>split23</title>\n<ellipse fill=\"none\" stroke=\"#000000\" cx=\"1886.1493\" cy=\"-131.6102\" rx=\"147.5709\" ry=\"26.7407\"/>\n<text text-anchor=\"middle\" x=\"1886.1493\" y=\"-135.4102\" font-family=\"Times,serif\" font-size=\"14.00\" fill=\"#000000\">split_feature_name: ecg</text>\n<text text-anchor=\"middle\" x=\"1886.1493\" y=\"-120.4102\" font-family=\"Times,serif\" font-size=\"14.00\" fill=\"#000000\">threshold: 3841.0000000000005</text>\n</g>\n<!-- split22&#45;&gt;split23 -->\n<g id=\"edge37\" class=\"edge\">\n<title>split22&#45;&gt;split23</title>\n<path fill=\"none\" stroke=\"#000000\" d=\"M2136.687,-213.1051C2086.8016,-196.8783 2020.1002,-175.1817 1968.0636,-158.2552\"/>\n<polygon fill=\"#000000\" stroke=\"#000000\" points=\"1969.1174,-154.9176 1958.5252,-155.1526 1966.9521,-161.5743 1969.1174,-154.9176\"/>\n<text text-anchor=\"middle\" x=\"2075.6493\" y=\"-180.2802\" font-family=\"Times,serif\" font-size=\"14.00\" fill=\"#000000\">&lt;=</text>\n</g>\n<!-- leaf23 -->\n<g id=\"node47\" class=\"node\">\n<title>leaf23</title>\n<ellipse fill=\"none\" stroke=\"#000000\" cx=\"2208.1493\" cy=\"-131.6102\" rx=\"154.2987\" ry=\"26.7407\"/>\n<text text-anchor=\"middle\" x=\"2208.1493\" y=\"-135.4102\" font-family=\"Times,serif\" font-size=\"14.00\" fill=\"#000000\">leaf_index: 23</text>\n<text text-anchor=\"middle\" x=\"2208.1493\" y=\"-120.4102\" font-family=\"Times,serif\" font-size=\"14.00\" fill=\"#000000\">leaf_value: &#45;0.5480565202319956</text>\n</g>\n<!-- split22&#45;&gt;leaf23 -->\n<g id=\"edge38\" class=\"edge\">\n<title>split22&#45;&gt;leaf23</title>\n<path fill=\"none\" stroke=\"#000000\" d=\"M2208.1493,-209.3771C2208.1493,-197.0377 2208.1493,-182.2162 2208.1493,-168.8373\"/>\n<polygon fill=\"#000000\" stroke=\"#000000\" points=\"2211.6494,-168.4919 2208.1493,-158.4919 2204.6494,-168.492 2211.6494,-168.4919\"/>\n<text text-anchor=\"middle\" x=\"2212.6493\" y=\"-180.2802\" font-family=\"Times,serif\" font-size=\"14.00\" fill=\"#000000\">&gt;</text>\n</g>\n<!-- leaf16 -->\n<g id=\"node45\" class=\"node\">\n<title>leaf16</title>\n<ellipse fill=\"none\" stroke=\"#000000\" cx=\"1560.1493\" cy=\"-26.8701\" rx=\"154.2987\" ry=\"26.7407\"/>\n<text text-anchor=\"middle\" x=\"1560.1493\" y=\"-30.6701\" font-family=\"Times,serif\" font-size=\"14.00\" fill=\"#000000\">leaf_index: 16</text>\n<text text-anchor=\"middle\" x=\"1560.1493\" y=\"-15.6701\" font-family=\"Times,serif\" font-size=\"14.00\" fill=\"#000000\">leaf_value: &#45;0.5408308048379956</text>\n</g>\n<!-- split23&#45;&gt;leaf16 -->\n<g id=\"edge35\" class=\"edge\">\n<title>split23&#45;&gt;leaf16</title>\n<path fill=\"none\" stroke=\"#000000\" d=\"M1812.9885,-108.1044C1762.7099,-91.9505 1695.8465,-70.468 1643.5078,-53.6522\"/>\n<polygon fill=\"#000000\" stroke=\"#000000\" points=\"1644.5026,-50.2957 1633.9113,-50.569 1642.3613,-56.9601 1644.5026,-50.2957\"/>\n<text text-anchor=\"middle\" x=\"1751.6493\" y=\"-75.5401\" font-family=\"Times,serif\" font-size=\"14.00\" fill=\"#000000\">&lt;=</text>\n</g>\n<!-- leaf24 -->\n<g id=\"node46\" class=\"node\">\n<title>leaf24</title>\n<ellipse fill=\"none\" stroke=\"#000000\" cx=\"1886.1493\" cy=\"-26.8701\" rx=\"154.2987\" ry=\"26.7407\"/>\n<text text-anchor=\"middle\" x=\"1886.1493\" y=\"-30.6701\" font-family=\"Times,serif\" font-size=\"14.00\" fill=\"#000000\">leaf_index: 24</text>\n<text text-anchor=\"middle\" x=\"1886.1493\" y=\"-15.6701\" font-family=\"Times,serif\" font-size=\"14.00\" fill=\"#000000\">leaf_value: &#45;0.5334362847854363</text>\n</g>\n<!-- split23&#45;&gt;leaf24 -->\n<g id=\"edge36\" class=\"edge\">\n<title>split23&#45;&gt;leaf24</title>\n<path fill=\"none\" stroke=\"#000000\" d=\"M1886.1493,-104.637C1886.1493,-92.2976 1886.1493,-77.4761 1886.1493,-64.0972\"/>\n<polygon fill=\"#000000\" stroke=\"#000000\" points=\"1889.6494,-63.7518 1886.1493,-53.7518 1882.6494,-63.7519 1889.6494,-63.7518\"/>\n<text text-anchor=\"middle\" x=\"1890.6493\" y=\"-75.5401\" font-family=\"Times,serif\" font-size=\"14.00\" fill=\"#000000\">&gt;</text>\n</g>\n<!-- split24 -->\n<g id=\"node49\" class=\"node\">\n<title>split24</title>\n<ellipse fill=\"none\" stroke=\"#000000\" cx=\"2529.1493\" cy=\"-131.6102\" rx=\"147.1565\" ry=\"26.7407\"/>\n<text text-anchor=\"middle\" x=\"2529.1493\" y=\"-135.4102\" font-family=\"Times,serif\" font-size=\"14.00\" fill=\"#000000\">split_feature_name: gsr</text>\n<text text-anchor=\"middle\" x=\"2529.1493\" y=\"-120.4102\" font-family=\"Times,serif\" font-size=\"14.00\" fill=\"#000000\">threshold: 1150.5000000000002</text>\n</g>\n<!-- split21&#45;&gt;split24 -->\n<g id=\"edge42\" class=\"edge\">\n<title>split21&#45;&gt;split24</title>\n<path fill=\"none\" stroke=\"#000000\" d=\"M2529.1493,-209.3771C2529.1493,-197.0377 2529.1493,-182.2162 2529.1493,-168.8373\"/>\n<polygon fill=\"#000000\" stroke=\"#000000\" points=\"2532.6494,-168.4919 2529.1493,-158.4919 2525.6494,-168.492 2532.6494,-168.4919\"/>\n<text text-anchor=\"middle\" x=\"2537.6493\" y=\"-180.2802\" font-family=\"Times,serif\" font-size=\"14.00\" fill=\"#000000\">&lt;=</text>\n</g>\n<!-- split25 -->\n<g id=\"node52\" class=\"node\">\n<title>split25</title>\n<ellipse fill=\"none\" stroke=\"#000000\" cx=\"2854.1493\" cy=\"-131.6102\" rx=\"111.0315\" ry=\"26.7407\"/>\n<text text-anchor=\"middle\" x=\"2854.1493\" y=\"-135.4102\" font-family=\"Times,serif\" font-size=\"14.00\" fill=\"#000000\">split_feature_name: r</text>\n<text text-anchor=\"middle\" x=\"2854.1493\" y=\"-120.4102\" font-family=\"Times,serif\" font-size=\"14.00\" fill=\"#000000\">threshold: 736||802||803</text>\n</g>\n<!-- split21&#45;&gt;split25 -->\n<g id=\"edge45\" class=\"edge\">\n<title>split21&#45;&gt;split25</title>\n<path fill=\"none\" stroke=\"#000000\" d=\"M2601.2773,-213.1051C2653.5641,-196.2542 2724.1542,-173.5046 2777.4645,-156.3239\"/>\n<polygon fill=\"#000000\" stroke=\"#000000\" points=\"2778.765,-159.5822 2787.2093,-153.1834 2776.6177,-152.9196 2778.765,-159.5822\"/>\n<text text-anchor=\"middle\" x=\"2715.6493\" y=\"-180.2802\" font-family=\"Times,serif\" font-size=\"14.00\" fill=\"#000000\">&gt;</text>\n</g>\n<!-- leaf21 -->\n<g id=\"node50\" class=\"node\">\n<title>leaf21</title>\n<ellipse fill=\"none\" stroke=\"#000000\" cx=\"2212.1493\" cy=\"-26.8701\" rx=\"154.2987\" ry=\"26.7407\"/>\n<text text-anchor=\"middle\" x=\"2212.1493\" y=\"-30.6701\" font-family=\"Times,serif\" font-size=\"14.00\" fill=\"#000000\">leaf_index: 21</text>\n<text text-anchor=\"middle\" x=\"2212.1493\" y=\"-15.6701\" font-family=\"Times,serif\" font-size=\"14.00\" fill=\"#000000\">leaf_value: &#45;0.5309937161547708</text>\n</g>\n<!-- split24&#45;&gt;leaf21 -->\n<g id=\"edge40\" class=\"edge\">\n<title>split24&#45;&gt;leaf21</title>\n<path fill=\"none\" stroke=\"#000000\" d=\"M2457.613,-107.9738C2408.9778,-91.9043 2344.5205,-70.6069 2293.8623,-53.8689\"/>\n<polygon fill=\"#000000\" stroke=\"#000000\" points=\"2294.8408,-50.5062 2284.2476,-50.6921 2292.6446,-57.1527 2294.8408,-50.5062\"/>\n<text text-anchor=\"middle\" x=\"2398.6493\" y=\"-75.5401\" font-family=\"Times,serif\" font-size=\"14.00\" fill=\"#000000\">&lt;=</text>\n</g>\n<!-- leaf25 -->\n<g id=\"node51\" class=\"node\">\n<title>leaf25</title>\n<ellipse fill=\"none\" stroke=\"#000000\" cx=\"2533.1493\" cy=\"-26.8701\" rx=\"149.3993\" ry=\"26.7407\"/>\n<text text-anchor=\"middle\" x=\"2533.1493\" y=\"-30.6701\" font-family=\"Times,serif\" font-size=\"14.00\" fill=\"#000000\">leaf_index: 25</text>\n<text text-anchor=\"middle\" x=\"2533.1493\" y=\"-15.6701\" font-family=\"Times,serif\" font-size=\"14.00\" fill=\"#000000\">leaf_value: &#45;0.537496052808335</text>\n</g>\n<!-- split24&#45;&gt;leaf25 -->\n<g id=\"edge41\" class=\"edge\">\n<title>split24&#45;&gt;leaf25</title>\n<path fill=\"none\" stroke=\"#000000\" d=\"M2530.1794,-104.637C2530.6506,-92.2976 2531.2166,-77.4761 2531.7276,-64.0972\"/>\n<polygon fill=\"#000000\" stroke=\"#000000\" points=\"2535.2384,-63.8781 2532.1227,-53.7518 2528.2435,-63.611 2535.2384,-63.8781\"/>\n<text text-anchor=\"middle\" x=\"2536.6493\" y=\"-75.5401\" font-family=\"Times,serif\" font-size=\"14.00\" fill=\"#000000\">&gt;</text>\n</g>\n<!-- leaf22 -->\n<g id=\"node53\" class=\"node\">\n<title>leaf22</title>\n<ellipse fill=\"none\" stroke=\"#000000\" cx=\"2854.1493\" cy=\"-26.8701\" rx=\"154.2987\" ry=\"26.7407\"/>\n<text text-anchor=\"middle\" x=\"2854.1493\" y=\"-30.6701\" font-family=\"Times,serif\" font-size=\"14.00\" fill=\"#000000\">leaf_index: 22</text>\n<text text-anchor=\"middle\" x=\"2854.1493\" y=\"-15.6701\" font-family=\"Times,serif\" font-size=\"14.00\" fill=\"#000000\">leaf_value: &#45;0.5469780871246276</text>\n</g>\n<!-- split25&#45;&gt;leaf22 -->\n<g id=\"edge43\" class=\"edge\">\n<title>split25&#45;&gt;leaf22</title>\n<path fill=\"none\" stroke=\"#000000\" d=\"M2854.1493,-104.637C2854.1493,-92.2976 2854.1493,-77.4761 2854.1493,-64.0972\"/>\n<polygon fill=\"#000000\" stroke=\"#000000\" points=\"2857.6494,-63.7518 2854.1493,-53.7518 2850.6494,-63.7519 2857.6494,-63.7518\"/>\n<text text-anchor=\"middle\" x=\"2859.1493\" y=\"-75.5401\" font-family=\"Times,serif\" font-size=\"14.00\" fill=\"#000000\">is</text>\n</g>\n<!-- leaf26 -->\n<g id=\"node54\" class=\"node\">\n<title>leaf26</title>\n<ellipse fill=\"none\" stroke=\"#000000\" cx=\"3180.1493\" cy=\"-26.8701\" rx=\"154.2987\" ry=\"26.7407\"/>\n<text text-anchor=\"middle\" x=\"3180.1493\" y=\"-30.6701\" font-family=\"Times,serif\" font-size=\"14.00\" fill=\"#000000\">leaf_index: 26</text>\n<text text-anchor=\"middle\" x=\"3180.1493\" y=\"-15.6701\" font-family=\"Times,serif\" font-size=\"14.00\" fill=\"#000000\">leaf_value: &#45;0.5365632611820099</text>\n</g>\n<!-- split25&#45;&gt;leaf26 -->\n<g id=\"edge44\" class=\"edge\">\n<title>split25&#45;&gt;leaf26</title>\n<path fill=\"none\" stroke=\"#000000\" d=\"M2921.3014,-110.035C2972.2053,-93.6801 3042.4517,-71.1107 3096.9228,-53.6098\"/>\n<polygon fill=\"#000000\" stroke=\"#000000\" points=\"3098.1062,-56.9059 3106.5562,-50.5147 3095.9649,-50.2414 3098.1062,-56.9059\"/>\n<text text-anchor=\"middle\" x=\"3048.6493\" y=\"-75.5401\" font-family=\"Times,serif\" font-size=\"14.00\" fill=\"#000000\">isn&#39;t</text>\n</g>\n<!-- leaf14 -->\n<g id=\"node57\" class=\"node\">\n<title>leaf14</title>\n<ellipse fill=\"none\" stroke=\"#000000\" cx=\"2744.1493\" cy=\"-445.8305\" rx=\"154.2987\" ry=\"26.7407\"/>\n<text text-anchor=\"middle\" x=\"2744.1493\" y=\"-449.6305\" font-family=\"Times,serif\" font-size=\"14.00\" fill=\"#000000\">leaf_index: 14</text>\n<text text-anchor=\"middle\" x=\"2744.1493\" y=\"-434.6305\" font-family=\"Times,serif\" font-size=\"14.00\" fill=\"#000000\">leaf_value: &#45;0.5298818126788499</text>\n</g>\n<!-- split26&#45;&gt;leaf14 -->\n<g id=\"edge51\" class=\"edge\">\n<title>split26&#45;&gt;leaf14</title>\n<path fill=\"none\" stroke=\"#000000\" d=\"M2744.1493,-523.5975C2744.1493,-511.258 2744.1493,-496.4365 2744.1493,-483.0577\"/>\n<polygon fill=\"#000000\" stroke=\"#000000\" points=\"2747.6494,-482.7123 2744.1493,-472.7123 2740.6494,-482.7123 2747.6494,-482.7123\"/>\n<text text-anchor=\"middle\" x=\"2752.6493\" y=\"-494.5006\" font-family=\"Times,serif\" font-size=\"14.00\" fill=\"#000000\">&lt;=</text>\n</g>\n<!-- leaf27 -->\n<g id=\"node58\" class=\"node\">\n<title>leaf27</title>\n<ellipse fill=\"none\" stroke=\"#000000\" cx=\"3070.1493\" cy=\"-445.8305\" rx=\"154.2987\" ry=\"26.7407\"/>\n<text text-anchor=\"middle\" x=\"3070.1493\" y=\"-449.6305\" font-family=\"Times,serif\" font-size=\"14.00\" fill=\"#000000\">leaf_index: 27</text>\n<text text-anchor=\"middle\" x=\"3070.1493\" y=\"-434.6305\" font-family=\"Times,serif\" font-size=\"14.00\" fill=\"#000000\">leaf_value: &#45;0.5481819621905706</text>\n</g>\n<!-- split26&#45;&gt;leaf27 -->\n<g id=\"edge52\" class=\"edge\">\n<title>split26&#45;&gt;leaf27</title>\n<path fill=\"none\" stroke=\"#000000\" d=\"M2817.31,-527.0649C2867.5887,-510.911 2934.452,-489.4285 2986.7908,-472.6127\"/>\n<polygon fill=\"#000000\" stroke=\"#000000\" points=\"2987.9372,-475.9206 2996.3873,-469.5294 2985.796,-469.2561 2987.9372,-475.9206\"/>\n<text text-anchor=\"middle\" x=\"2931.6493\" y=\"-494.5006\" font-family=\"Times,serif\" font-size=\"14.00\" fill=\"#000000\">&gt;</text>\n</g>\n</g>\n</svg>\n"
          },
          "metadata": {
            "tags": []
          },
          "execution_count": 15
        }
      ]
    },
    {
      "cell_type": "code",
      "metadata": {
        "id": "zPOwBW1mcmAi",
        "colab_type": "code",
        "colab": {
          "base_uri": "https://localhost:8080/",
          "height": 173
        },
        "outputId": "d46060b3-8ad0-4418-fcd4-e18464c746de"
      },
      "source": [
        "lgb.plot_tree(model)"
      ],
      "execution_count": null,
      "outputs": [
        {
          "output_type": "execute_result",
          "data": {
            "text/plain": [
              "<matplotlib.axes._subplots.AxesSubplot at 0x7f47018242b0>"
            ]
          },
          "metadata": {
            "tags": []
          },
          "execution_count": 16
        },
        {
          "output_type": "display_data",
          "data": {
            "image/png": "[encoded data removed]",
            "text/plain": [
              "<Figure size 432x288 with 1 Axes>"
            ]
          },
          "metadata": {
            "tags": []
          }
        }
      ]
    },
    {
      "cell_type": "code",
      "metadata": {
        "id": "y6Lb0aoSGY5F",
        "colab_type": "code",
        "colab": {
          "base_uri": "https://localhost:8080/",
          "height": 85
        },
        "outputId": "68d0fba5-dfa5-4249-d28e-e3b40f2af08b"
      },
      "source": [
        "# Preparing the testing data for prediction\n",
        "test = featureModify(False, None)\n",
        "print(\"Done test read\")"
      ],
      "execution_count": null,
      "outputs": [
        {
          "output_type": "stream",
          "text": [
            "Memory usage of dataframe is 3974.83 MB\n",
            "Memory usage after optimization is: 1079.37 MB\n",
            "Decreased by 72.8%\n",
            "Done test read\n"
          ],
          "name": "stdout"
        }
      ]
    },
    {
      "cell_type": "code",
      "metadata": {
        "id": "S4AxQ3laLG0x",
        "colab_type": "code",
        "colab": {
          "base_uri": "https://localhost:8080/",
          "height": 224
        },
        "outputId": "2aa32cad-a42f-4707-8a4d-942e22efd05a"
      },
      "source": [
        "test.head()"
      ],
      "execution_count": null,
      "outputs": [
        {
          "output_type": "execute_result",
          "data": {
            "text/html": [
              "<div>\n",
              "<style scoped>\n",
              "    .dataframe tbody tr th:only-of-type {\n",
              "        vertical-align: middle;\n",
              "    }\n",
              "\n",
              "    .dataframe tbody tr th {\n",
              "        vertical-align: top;\n",
              "    }\n",
              "\n",
              "    .dataframe thead th {\n",
              "        text-align: right;\n",
              "    }\n",
              "</style>\n",
              "<table border=\"1\" class=\"dataframe\">\n",
              "  <thead>\n",
              "    <tr style=\"text-align: right;\">\n",
              "      <th></th>\n",
              "      <th>id</th>\n",
              "      <th>crew</th>\n",
              "      <th>experiment</th>\n",
              "      <th>time</th>\n",
              "      <th>seat</th>\n",
              "      <th>eeg_fp1</th>\n",
              "      <th>eeg_f7</th>\n",
              "      <th>eeg_f8</th>\n",
              "      <th>eeg_t4</th>\n",
              "      <th>eeg_t6</th>\n",
              "      <th>eeg_t5</th>\n",
              "      <th>eeg_t3</th>\n",
              "      <th>eeg_fp2</th>\n",
              "      <th>eeg_o1</th>\n",
              "      <th>eeg_p3</th>\n",
              "      <th>eeg_pz</th>\n",
              "      <th>eeg_f3</th>\n",
              "      <th>eeg_fz</th>\n",
              "      <th>eeg_f4</th>\n",
              "      <th>eeg_c4</th>\n",
              "      <th>eeg_p4</th>\n",
              "      <th>eeg_poz</th>\n",
              "      <th>eeg_c3</th>\n",
              "      <th>eeg_cz</th>\n",
              "      <th>eeg_o2</th>\n",
              "      <th>ecg</th>\n",
              "      <th>r</th>\n",
              "      <th>gsr</th>\n",
              "    </tr>\n",
              "  </thead>\n",
              "  <tbody>\n",
              "    <tr>\n",
              "      <th>0</th>\n",
              "      <td>0</td>\n",
              "      <td>1</td>\n",
              "      <td>LOFT</td>\n",
              "      <td>0.000000</td>\n",
              "      <td>0</td>\n",
              "      <td>17.906250</td>\n",
              "      <td>6.128906</td>\n",
              "      <td>0.994629</td>\n",
              "      <td>-28.203125</td>\n",
              "      <td>-47.687500</td>\n",
              "      <td>-187.125000</td>\n",
              "      <td>-33.187500</td>\n",
              "      <td>-4.222656</td>\n",
              "      <td>8.179688</td>\n",
              "      <td>33.156250</td>\n",
              "      <td>33.812500</td>\n",
              "      <td>21.750000</td>\n",
              "      <td>16.296875</td>\n",
              "      <td>-7.042969</td>\n",
              "      <td>-14.406250</td>\n",
              "      <td>-4.035156</td>\n",
              "      <td>-0.393799</td>\n",
              "      <td>31.843750</td>\n",
              "      <td>17.078125</td>\n",
              "      <td>-8.140625</td>\n",
              "      <td>-7324.0</td>\n",
              "      <td>643.0</td>\n",
              "      <td>595.00</td>\n",
              "    </tr>\n",
              "    <tr>\n",
              "      <th>1</th>\n",
              "      <td>1</td>\n",
              "      <td>1</td>\n",
              "      <td>LOFT</td>\n",
              "      <td>0.000000</td>\n",
              "      <td>1</td>\n",
              "      <td>45.875000</td>\n",
              "      <td>94.750000</td>\n",
              "      <td>23.296875</td>\n",
              "      <td>1.391602</td>\n",
              "      <td>2.060547</td>\n",
              "      <td>-5.144531</td>\n",
              "      <td>6.394531</td>\n",
              "      <td>33.406250</td>\n",
              "      <td>-295.000000</td>\n",
              "      <td>8.375000</td>\n",
              "      <td>29.640625</td>\n",
              "      <td>16.218750</td>\n",
              "      <td>850.500000</td>\n",
              "      <td>19.890625</td>\n",
              "      <td>-215.125000</td>\n",
              "      <td>2.119141</td>\n",
              "      <td>7.339844</td>\n",
              "      <td>9.664062</td>\n",
              "      <td>1169.000000</td>\n",
              "      <td>-0.024414</td>\n",
              "      <td>-3336.0</td>\n",
              "      <td>826.5</td>\n",
              "      <td>136.25</td>\n",
              "    </tr>\n",
              "    <tr>\n",
              "      <th>2</th>\n",
              "      <td>2</td>\n",
              "      <td>1</td>\n",
              "      <td>LOFT</td>\n",
              "      <td>0.003906</td>\n",
              "      <td>0</td>\n",
              "      <td>33.125000</td>\n",
              "      <td>28.359375</td>\n",
              "      <td>-7.238281</td>\n",
              "      <td>-7.691406</td>\n",
              "      <td>-25.828125</td>\n",
              "      <td>-107.250000</td>\n",
              "      <td>12.843750</td>\n",
              "      <td>1.214844</td>\n",
              "      <td>13.320312</td>\n",
              "      <td>44.437500</td>\n",
              "      <td>37.593750</td>\n",
              "      <td>29.078125</td>\n",
              "      <td>22.312500</td>\n",
              "      <td>-7.640625</td>\n",
              "      <td>-10.367188</td>\n",
              "      <td>10.953125</td>\n",
              "      <td>6.511719</td>\n",
              "      <td>36.031250</td>\n",
              "      <td>24.359375</td>\n",
              "      <td>0.956055</td>\n",
              "      <td>-7324.0</td>\n",
              "      <td>643.0</td>\n",
              "      <td>595.00</td>\n",
              "    </tr>\n",
              "    <tr>\n",
              "      <th>3</th>\n",
              "      <td>3</td>\n",
              "      <td>1</td>\n",
              "      <td>LOFT</td>\n",
              "      <td>0.003906</td>\n",
              "      <td>1</td>\n",
              "      <td>43.281250</td>\n",
              "      <td>95.875000</td>\n",
              "      <td>18.703125</td>\n",
              "      <td>-1.432617</td>\n",
              "      <td>-4.234375</td>\n",
              "      <td>-8.023438</td>\n",
              "      <td>7.425781</td>\n",
              "      <td>27.343750</td>\n",
              "      <td>-310.250000</td>\n",
              "      <td>5.390625</td>\n",
              "      <td>27.734375</td>\n",
              "      <td>7.218750</td>\n",
              "      <td>816.500000</td>\n",
              "      <td>13.828125</td>\n",
              "      <td>-214.250000</td>\n",
              "      <td>-4.914062</td>\n",
              "      <td>3.503906</td>\n",
              "      <td>3.878906</td>\n",
              "      <td>1159.000000</td>\n",
              "      <td>-0.047607</td>\n",
              "      <td>-3336.0</td>\n",
              "      <td>826.5</td>\n",
              "      <td>136.25</td>\n",
              "    </tr>\n",
              "    <tr>\n",
              "      <th>4</th>\n",
              "      <td>4</td>\n",
              "      <td>1</td>\n",
              "      <td>LOFT</td>\n",
              "      <td>0.007812</td>\n",
              "      <td>0</td>\n",
              "      <td>7.929688</td>\n",
              "      <td>3.460938</td>\n",
              "      <td>-10.859375</td>\n",
              "      <td>-26.359375</td>\n",
              "      <td>-25.890625</td>\n",
              "      <td>37.000000</td>\n",
              "      <td>-50.343750</td>\n",
              "      <td>-11.679688</td>\n",
              "      <td>-1.143555</td>\n",
              "      <td>-17.593750</td>\n",
              "      <td>34.062500</td>\n",
              "      <td>22.906250</td>\n",
              "      <td>19.031250</td>\n",
              "      <td>2.044922</td>\n",
              "      <td>-20.781250</td>\n",
              "      <td>-3.613281</td>\n",
              "      <td>-7.539062</td>\n",
              "      <td>3.083984</td>\n",
              "      <td>13.648438</td>\n",
              "      <td>1.473633</td>\n",
              "      <td>-7324.0</td>\n",
              "      <td>643.0</td>\n",
              "      <td>595.00</td>\n",
              "    </tr>\n",
              "  </tbody>\n",
              "</table>\n",
              "</div>"
            ],
            "text/plain": [
              "   id  crew experiment      time  ...    eeg_o2     ecg      r     gsr\n",
              "0   0     1       LOFT  0.000000  ... -8.140625 -7324.0  643.0  595.00\n",
              "1   1     1       LOFT  0.000000  ... -0.024414 -3336.0  826.5  136.25\n",
              "2   2     1       LOFT  0.003906  ...  0.956055 -7324.0  643.0  595.00\n",
              "3   3     1       LOFT  0.003906  ... -0.047607 -3336.0  826.5  136.25\n",
              "4   4     1       LOFT  0.007812  ...  1.473633 -7324.0  643.0  595.00\n",
              "\n",
              "[5 rows x 28 columns]"
            ]
          },
          "metadata": {
            "tags": []
          },
          "execution_count": 22
        }
      ]
    },
    {
      "cell_type": "code",
      "metadata": {
        "id": "UsXfmHy_KmgW",
        "colab_type": "code",
        "colab": {}
      },
      "source": [
        "# storing the ids column\n",
        "df_sub = pd.DataFrame()\n",
        "df_sub['id'] = test['id']\n",
        "test = test.drop('id',axis=1)"
      ],
      "execution_count": null,
      "outputs": []
    },
    {
      "cell_type": "code",
      "metadata": {
        "id": "9ZEuBlkMeYPW",
        "colab_type": "code",
        "colab": {}
      },
      "source": [
        "test['pilot']= 100*test['crew']+test['seat']"
      ],
      "execution_count": null,
      "outputs": []
    },
    {
      "cell_type": "code",
      "metadata": {
        "id": "vEoGXIpWGdVV",
        "colab_type": "code",
        "colab": {}
      },
      "source": [
        "#Selecting the top\n",
        "test = test[['gsr','r','ecg','crew','eeg_fp2','pilot','eeg_f7','eeg_f8','eeg_fp1','eeg_pz','eeg_f4','eeg_f3']]"
      ],
      "execution_count": null,
      "outputs": []
    },
    {
      "cell_type": "code",
      "metadata": {
        "id": "4vrSP76JmGfF",
        "colab_type": "code",
        "colab": {
          "base_uri": "https://localhost:8080/",
          "height": 224
        },
        "outputId": "40deda35-2c72-4edb-d23c-fa5f6d4f7c8f"
      },
      "source": [
        "test.head()"
      ],
      "execution_count": null,
      "outputs": [
        {
          "output_type": "execute_result",
          "data": {
            "text/html": [
              "<div>\n",
              "<style scoped>\n",
              "    .dataframe tbody tr th:only-of-type {\n",
              "        vertical-align: middle;\n",
              "    }\n",
              "\n",
              "    .dataframe tbody tr th {\n",
              "        vertical-align: top;\n",
              "    }\n",
              "\n",
              "    .dataframe thead th {\n",
              "        text-align: right;\n",
              "    }\n",
              "</style>\n",
              "<table border=\"1\" class=\"dataframe\">\n",
              "  <thead>\n",
              "    <tr style=\"text-align: right;\">\n",
              "      <th></th>\n",
              "      <th>gsr</th>\n",
              "      <th>r</th>\n",
              "      <th>ecg</th>\n",
              "      <th>crew</th>\n",
              "      <th>eeg_fp2</th>\n",
              "      <th>pilot</th>\n",
              "      <th>eeg_f7</th>\n",
              "      <th>eeg_f8</th>\n",
              "      <th>eeg_fp1</th>\n",
              "      <th>eeg_pz</th>\n",
              "      <th>eeg_f4</th>\n",
              "      <th>eeg_f3</th>\n",
              "    </tr>\n",
              "  </thead>\n",
              "  <tbody>\n",
              "    <tr>\n",
              "      <th>0</th>\n",
              "      <td>595.00</td>\n",
              "      <td>643.0</td>\n",
              "      <td>-7324.0</td>\n",
              "      <td>1</td>\n",
              "      <td>-4.222656</td>\n",
              "      <td>100</td>\n",
              "      <td>6.128906</td>\n",
              "      <td>0.994629</td>\n",
              "      <td>17.906250</td>\n",
              "      <td>33.812500</td>\n",
              "      <td>-7.042969</td>\n",
              "      <td>21.750000</td>\n",
              "    </tr>\n",
              "    <tr>\n",
              "      <th>1</th>\n",
              "      <td>136.25</td>\n",
              "      <td>826.5</td>\n",
              "      <td>-3336.0</td>\n",
              "      <td>1</td>\n",
              "      <td>33.406250</td>\n",
              "      <td>101</td>\n",
              "      <td>94.750000</td>\n",
              "      <td>23.296875</td>\n",
              "      <td>45.875000</td>\n",
              "      <td>29.640625</td>\n",
              "      <td>19.890625</td>\n",
              "      <td>16.218750</td>\n",
              "    </tr>\n",
              "    <tr>\n",
              "      <th>2</th>\n",
              "      <td>595.00</td>\n",
              "      <td>643.0</td>\n",
              "      <td>-7324.0</td>\n",
              "      <td>1</td>\n",
              "      <td>1.214844</td>\n",
              "      <td>100</td>\n",
              "      <td>28.359375</td>\n",
              "      <td>-7.238281</td>\n",
              "      <td>33.125000</td>\n",
              "      <td>37.593750</td>\n",
              "      <td>-7.640625</td>\n",
              "      <td>29.078125</td>\n",
              "    </tr>\n",
              "    <tr>\n",
              "      <th>3</th>\n",
              "      <td>136.25</td>\n",
              "      <td>826.5</td>\n",
              "      <td>-3336.0</td>\n",
              "      <td>1</td>\n",
              "      <td>27.343750</td>\n",
              "      <td>101</td>\n",
              "      <td>95.875000</td>\n",
              "      <td>18.703125</td>\n",
              "      <td>43.281250</td>\n",
              "      <td>27.734375</td>\n",
              "      <td>13.828125</td>\n",
              "      <td>7.218750</td>\n",
              "    </tr>\n",
              "    <tr>\n",
              "      <th>4</th>\n",
              "      <td>595.00</td>\n",
              "      <td>643.0</td>\n",
              "      <td>-7324.0</td>\n",
              "      <td>1</td>\n",
              "      <td>-11.679688</td>\n",
              "      <td>100</td>\n",
              "      <td>3.460938</td>\n",
              "      <td>-10.859375</td>\n",
              "      <td>7.929688</td>\n",
              "      <td>34.062500</td>\n",
              "      <td>2.044922</td>\n",
              "      <td>22.906250</td>\n",
              "    </tr>\n",
              "  </tbody>\n",
              "</table>\n",
              "</div>"
            ],
            "text/plain": [
              "      gsr      r     ecg  crew  ...    eeg_fp1     eeg_pz     eeg_f4     eeg_f3\n",
              "0  595.00  643.0 -7324.0     1  ...  17.906250  33.812500  -7.042969  21.750000\n",
              "1  136.25  826.5 -3336.0     1  ...  45.875000  29.640625  19.890625  16.218750\n",
              "2  595.00  643.0 -7324.0     1  ...  33.125000  37.593750  -7.640625  29.078125\n",
              "3  136.25  826.5 -3336.0     1  ...  43.281250  27.734375  13.828125   7.218750\n",
              "4  595.00  643.0 -7324.0     1  ...   7.929688  34.062500   2.044922  22.906250\n",
              "\n",
              "[5 rows x 12 columns]"
            ]
          },
          "metadata": {
            "tags": []
          },
          "execution_count": 27
        }
      ]
    },
    {
      "cell_type": "code",
      "metadata": {
        "id": "vnnL86jMKwU4",
        "colab_type": "code",
        "colab": {}
      },
      "source": [
        "y_pred = model.predict(test, num_iteration=model.best_iteration)"
      ],
      "execution_count": null,
      "outputs": []
    },
    {
      "cell_type": "code",
      "metadata": {
        "id": "ES4OGk9gkeb8",
        "colab_type": "code",
        "colab": {
          "base_uri": "https://localhost:8080/",
          "height": 136
        },
        "outputId": "2880fc71-4e97-4cd4-c151-46446af888e1"
      },
      "source": [
        "y_pred"
      ],
      "execution_count": null,
      "outputs": [
        {
          "output_type": "execute_result",
          "data": {
            "text/plain": [
              "array([[9.96882908e-01, 1.19782911e-03, 1.01123989e-03, 9.08023300e-04],\n",
              "       [9.22321676e-01, 1.97908943e-02, 4.61369559e-02, 1.17504742e-02],\n",
              "       [9.96626437e-01, 1.19752094e-03, 9.98507664e-04, 1.17753426e-03],\n",
              "       ...,\n",
              "       [5.51198553e-01, 2.29694339e-01, 1.89156421e-01, 2.99506875e-02],\n",
              "       [9.84226054e-01, 4.53610778e-04, 1.59946949e-03, 1.37208653e-02],\n",
              "       [5.50143608e-01, 2.29254725e-01, 1.88794393e-01, 3.18072743e-02]])"
            ]
          },
          "metadata": {
            "tags": []
          },
          "execution_count": 29
        }
      ]
    },
    {
      "cell_type": "code",
      "metadata": {
        "id": "kgQ3o9Wqz3_t",
        "colab_type": "code",
        "colab": {
          "base_uri": "https://localhost:8080/",
          "height": 255
        },
        "outputId": "11422288-9d5d-4b68-f6db-2b61a8f566c4"
      },
      "source": [
        "df_sub = pd.DataFrame(np.concatenate((np.arange(len(test))[:, np.newaxis], y_pred), axis=1), columns=['id', 'A', 'B', 'C', 'D'])\n",
        "df_sub['id'] = df_sub['id'].astype(int)\n",
        "print(df_sub)\n",
        "df_sub.to_csv(\"12_feature.csv\", index=False)"
      ],
      "execution_count": null,
      "outputs": [
        {
          "output_type": "stream",
          "text": [
            "                id         A         B         C         D\n",
            "0                0  0.996883  0.001198  0.001011  0.000908\n",
            "1                1  0.922322  0.019791  0.046137  0.011750\n",
            "2                2  0.996626  0.001198  0.000999  0.001178\n",
            "3                3  0.923315  0.019588  0.045663  0.011434\n",
            "4                4  0.996949  0.001173  0.000995  0.000883\n",
            "...            ...       ...       ...       ...       ...\n",
            "17965138  17965138  0.580927  0.214643  0.176043  0.028387\n",
            "17965139  17965139  0.984228  0.000454  0.001599  0.013719\n",
            "17965140  17965140  0.551199  0.229694  0.189156  0.029951\n",
            "17965141  17965141  0.984226  0.000454  0.001599  0.013721\n",
            "17965142  17965142  0.550144  0.229255  0.188794  0.031807\n",
            "\n",
            "[17965143 rows x 5 columns]\n"
          ],
          "name": "stdout"
        }
      ]
    },
    {
      "cell_type": "markdown",
      "metadata": {
        "id": "07ZP5k-cNVtg",
        "colab_type": "text"
      },
      "source": [
        "# **Conclusion-**"
      ]
    },
    {
      "cell_type": "markdown",
      "metadata": {
        "id": "lnVPVaZ6NDFF",
        "colab_type": "text"
      },
      "source": [
        "The scores after submission in kaggle which I got are as follows: \n",
        "**I got public score of 0.579 and private score of 0.841**"
      ]
    },
    {
      "cell_type": "markdown",
      "metadata": {
        "id": "UT0-JwZfM-vM",
        "colab_type": "text"
      },
      "source": [
        "![image.png](data:image/png;base64,iVBORw0KGgoAAAANSUhEUgAAA58AAABhCAIAAADeA4LfAAAgAElEQVR4Ae3dT0wa6f8H8B49evTqsUePvfZoSJpM0pCYmDQhm6wxMdlo9mC/yTabrtldVtN2jbYWO3GqKF1K2YJEFNypRVxgsbD+wRZLxUqgZUWRUlE0zy/PwMCgaOv+bLcOb0IqMP+e5/XQ9u3DZ4ZzoVcrBDcIQAACEIAABCAAAQicfYHQq5VzSLdnfxzRAwhAAAIQgAAEIAABKoB0i/cBBCAAAQhAAAIQgIB8BJBu5TOW6AkEIAABCEAAAhCAQD7dJjY2cIcABCAAAQhAAAIQgMBZF8DcLX7DgQAEIAABCEAAAhCQjwDSrXzGEj2BAAQgAAEIQAACEEC6xXsAAhCAAAQgAAEIQEA+Aki38hlL9AQCEIAABCAAAQhAAOkW7wEIQAACEIAABCAAAfkIIN3KZyzREwhAAAIQgAAEIAABpFu8ByAAAQhAAAIQgAAE5COAdCufsURPIAABCEAAAhCAAASQbvEegAAEIAABCEAAAhCQjwDSrXzGEj2BAAQgAAEIQAACEEC6xXsAAhCAAAQgAAEIQEA+Aki38hlL9AQCEIAABCAAAVkKZDfCfofdYjZ98GaZnPGHk1lZKnx0p5BuP5oKK0IAAhCAAAQgAIHPLpCJuI3sHXrTaDT3PnCnq/WxRm+skgMu0u1nf5PigBCAAAQgAAEIQOAjBfZjM7o7d1jjTOijZmSzGyGHQXNHo3fHP/IAMlwN6VaGg4ouQQACEIAABCAgE4G4W993R+uMfXx3sq8dXJ/GOJv4+E1ktuanSLe7s3/567ps5+6+mN3Pc21HV5vvO2o6bdXdTuaPN6Hjp8sT0db7U9Xqydqx+PaX4L355uoQX/WTrWF+7+Oa804zzNfoVkIftzbWggAEICBngZ1V/t61pkaGUarafh7xHfkfbirw6GbbV0rmslLVqh4p+x9zzHpNqVAw7ebSSanUS+vNFqXiUsvIyiHIZMDwo4pRMO2jpQdO+AydbaoGhmlQtd8wBJKHNpTjC6kFg7pVpbzMNH7d3juxulO+j1HDt4xCemsZWc797+dSK6Wv08cS2J3o9GBHm0rJXG5s+l+v9UVKuvuoa6TjG/HQY8vSZccsku6hch9HHNo+jdF3kvfoulffd0f35wkCscx4Tzvdbm926x1Var7mhiTdbkaYW7aagcVuX6Tb7j2vtp2fWD86tu6NGvlzXa5Wd2Q0unty7oxm2FY1tBI9+ZZlt4gGFi/csFXfOlG6zTwc81wci55WG8o2DC9CAAIQOAsCKc+vKuZyU8ew1fq4v/2KgmkdWS6XqlYftSsvNbbfNfO8lftOxVxuG3l5oH90V7lAJUm3O8uPO5ouM41XGg+n25R/5JqKYa40Ki9JQhghZCfAfcMorrT3P+b5Y1t1oAVn++lrQ7tS0djea5iwjnS2KC81qvnSxJ/r3l6g/ytG9aOBL9w8q/kwGvNZx6yFu/l2G3NJqX6aW5jy9KgYRnVtwMxPGG62KhUN18yRPNjOQn8LwzT9wFntVsOvbcpLjR32/KGPWXS2tU+x9Ui3J8c87XQbfXGh71n36/dDvxXTbcjlqVJ7urdyrdtzWh1VN+bs4rTuoTZnNEP/n3h6uul2b0g/dXEiuvhq6bz64+duD/UJL0AAAhCoTIHXhjaGaXuwmuv9zmyv6pKyg5fO3AlL9lZHvmGY7635BalpdYOi6V6gxOzlSMvlxmvftzHSudu9Za61Rf04ELV3MIfmbn09TW09/PKKoZ0pSbc7T9XKS6re2XzK3vH3NzGFlFZyTBk92fHcaFRcuTmdJ46a/8comrn8pKy0nzvT6stM+1i54CtdjaSmf25UfNXryynGze2XmZbB5fwqyWn1FYXqdm6hcOiv+wP5jz8T1u8Y5n9m4QDHLCo5WEU/Qbo9+fCfdrrdyUTpG31Xmm63E5v28LsNsXGLT5xVXf7RssUJ+/HmW7ZzP+Xv9bMZQshGOKQacFR3Tlb3uBqexqNiLI6+DKly1Q63nPUTkcUsIfubV/sKm082BPZINtqgtl14+i5/8NhynXqyYWGPkEz3kK1Kt6yxuGo7c6/szs4u1vfx1Z2Ttf3Pri68y80ub2zRNpBI+XQ7a3cUWis8kOx8eJV2+dVirdrR+nekeUCotWD9v4T/xYS0aIefEIAABM6UQGKUBktz4QNSOi+oUHZ6Ds7eCulW+fO0mDd9NxuZ0nSbsH6vZFpHAvaOknRLdhIJutEOXybdpnLLYuYD6Xb1QQtzWS0ejJA9z80GGsXOFO0JG7vn61UpGn/NZ1FCSGriGsO0jbw+tJ+4uZ1Rql3CUBxTjpf7veWR+CGlv1fFqHr9hb2lrN8zipaRVWEPiZc+38tCXN7hf2SYdkNuy2MWFfZV6Q+Qbk/+DjjtdJtvQUm6LWnVznprn636t0gh7JYsJbuh129a+21V7NJoeH0xRUhs+ULXZJ0xNPT8zUPXXF3XZN2TTZo734YudtpqdS+GnsdH3f46GmG3CNmLRt9cZW1V/Uuj4c1Qmhyfbs918nWGZc181LlJQrPemk4H82R19HlUY3XVqB3NLyUx9Ih0uxGNDvlWhXuooc927oZXQ//+CtG5kG5/mqzu8bTOxu3ByNX7/LkuT3fh73hp5/EMAhCAgMwEAndVioabnmJIEubtvs0nG2lnaWWCsq3fuZpIRD2D7crLLSMvisvppC9DZ1tpipXO3YqrlE23+YWH0q2QudsM4ufmhK6gYH7gD2Zucedy+Jm00jBbCKOEkIV+1aXGm55DnXvBNTHKtu/bmxoYxSVl0/ecp7TKWdhgx9ejUjSqxZlgQl6OtDBMx4Q4K7+3zLUoFI03fcWhFw8UM19rYFqGxVle8WX685hF0tUq7THS7clH/DOn28xD41RVl+uXwu/xZVosiYZkb9TMVw2ECqdn0XnfW4u0qmF/NxrdiuYngN/9MmCr0uUSc2llwrFzt+f6xPPehEnf8xObYnNodUS1PlIsDj4i3Yrrk6jvWY2ab5gXJnoPplvbhRlx8nhrtb7Tdv6PwoEKO8ADCEAAAjIU8P3aqFD1SiLODv8Dw3wzkq9UkPZ4b9X6gyp/NtOlxmuPJNW5e6sjrYzye2siN0f7/063JGa91qBo/G7EF0mlIp6R/6kYRlGsi5C2SjaPcxFfWm/wgmu6xKidhyL9iln9XXvHbQPv8kyP9rY1KJhv81OwRYy49ZqSaRqQJFRhjBRfdZgXoqnE6vTdtsbLTOkvNsLWO8sj3yqZr3s9Ygwu7vOYRcWVKvIR0u3Jh/1zpttd5x+uavVUw9/vj22nNN2++4UtVBqID9ReTZruYOPtG83TpWaDt56dqv7JVpWbKyUnSLfiJoSkV+vV4v7Fuogqtpiqj6pMyHfkbehil+28+Y04IS3pAq1MmGoNF3r87nq/reo3SW4uLMEDCEAAArIT+Oi528R0p4ppbOt9PO2bnTbfbW9kGjsm8p96J+wdSqaFE6ZyT2XulhCScPW3NQrn/19qbLtn5r5llJ3FUgXZjQMhiY+euy3tPMW/pOovLYFeHmxhlNesB+Z0X/P0yhXCeX+q70bMt5uYrwq1tsJO96L8zypG2Tby4lCkPmZRaXsq8RnS7clH/bOl271Ft7dGPXlxWqgrOK6hkmhIhCw4FJqNbS0W7m/fbxCy/XLxvHry/PDcddfqw+CbqwP/v3Sboun2gj1ePEpsazHx4coE2o+dzev9k1V9S5JfgCVdENJt8yuxw/tb1+8i3Yoa+AkBCMhdIFd3ayh8XndU3e0K/Vz7WnFmMcX/qFTkzkN67+v9mmn80RpNplLJVHTsGq3ZXEntlAakE1Um5NV3Eqsvl1cTO2TH13uleOqbPMdkz9d7RdH4a7HiOUEly9XdHui/MDQlU7ypaXWjQtVT3JVki53EyvJyJEUIHUHmOzrdLt5Svtv0wgm9Lslr+WXHLBK3ruSfSLcnH/3PlG6jC3Pn1ZN11rg4u3lMSyXRkOyNPubP9SzaxX/Foq8iQy/pCWr2samqniVn7gyz/c2rd0vT7X3ximDZN6ouW+3Yeu54Gwv+mp8OnfhF6OlorbdpKYLYvN3ZhchoNFdmIGx6ZGXCrn3MUdXpvB6R1hZJuvBqsfYnW90f+QtGkETootpWh8qEY8YfiyAAATkJvB4pc80E+6GPpQP9TZeYa4WqTXo+vlJxRShpeMm1XBImBEv+KC0hPeKssjzkobrbHU9v01dt3EL+v5bEU3Uj03LoAmRyGgY6EzPd2ai4op7OXzX1yGsmJCY6VF91WMVfSBITtAYhN3GeE4k+aqex+MClhZO8+mvVtUdiyUnM3K5k2kfFc87IzvIDesW3jrHCKwXeYxYV1qnsB0i3Jx//z5Fut8MvLnTaznV7r7pXNH/l7tFZobqgXIMl0ZCQ7Qjdtlb3QhN489C9eKHLVmOMbhASmnFVqR0Nrqj9ZbTb7KrpLKRbIRB3uZpnIk7672dGMzx5rsupmokMuZfq7/LVZdMtISG3p1rNX7SuPAy+0dg9NerJ+r8kFRSSdLux4K/tnGp+Tmd2o/P+2p9sNUNLmvy5ZZHR2O7hs8pqup0NT1cf+kKqu5M4q6zcoOM1CEBArgKp6RsqxeWmjgGz9VEvvd5tCxfIpcqY9Voj0zQgPNtZ5loYei3Wx/y0i6eVCZfoNRPoiu+jAb/PJ949A20M09LP+5bj4rSHIHeyudv3vv5mem3W/odm86C6RalQ3SieHyXXkSArI21KReO3vYZRM/dzE1O86OyO714T09iRrzSg46JQfqMemeCtD262NCiU31mLmXTHR6968ePhi7qlpjtzA20wP+rv+JphmvsD4v+i0YmOxksK5Tc3DYXL5U74cvs8ZpFsB+KkHUO6PakYIZ8j3c7+ceCyWbZzasfVKCE7uxvbJfdtepZYSbqlCfJl7opgtqobjouW1fwFCrNbQ2ZXbZetqstRb49cHy6kW0L+ES6/1ck3LAilBQn6tEo9WcvOaRZeXJBeESxfqptj2539a+5iH1+ttlX3uFSudXEeV1gqTbeBufM3HK30igp7Dw2TpVcEs12YflfShVxlwt/RVuGKYDX9z355JZkSPvmAYQsIQAACZ0xgZ5W/m/+uspYfR4on4Md5taqxbVis6Ez4DL+2N11RMgzT2Nx+86EvIf1ITOxz6uAVwfILTpZu6en509wPLY1KRnmlpWNg+qiv7RIPK5OfCb/wXWUMo/y6vXescN7eTmCwRflV8bsdUi+tvd81NV5mmMama7et0i8WE8pwm/rFae8Sl/fiQDfQL6UrDjRJ8T+UfvmZQqG4rJ6m43vMopJ9V/QTpNuTD/8nSrcf05D33fcPnch15JXCPmaHX+Q6B88q+yIbiUZBAAIQgAAEIPBlCsRmdH139JJfFz7czH+xyYd3epbW+A/T7V40um5/VXJ3xmQ3r4l0e5b+OqCtEIAABCAAgS9MIBOyc3fuDNuD4ik8H2hfNhmY0N7p4/hw2e/N+sDW8lj8H6ZbeQB+qBdItx8SwnIIQAACEIAABI4RSCxYuL47d1it0WyxjB17t5j0Ws2dO3c4ayB/AuEx+5XvIqRb+Y4tegYBCEAAAhCAgBwEsongzLie0/Td+cCtT8Nq9eOeULJy523peCPdyuFdjz5AAAIQgAAEIAABCOQEkG7xToAABCAAAQhAAAIQkI8A0q18xhI9gQAEIAABCEAAAhBAusV7AAIQgAAEIAABCEBAPgJIt/IZS/QEAhCAAAQgAAEIQADpFu8BCEAAAhCAAAQgAAH5CCDdymcs0RMIQAACEIAABCAAgVNOt+kFE72IcOHWp/euH4mcDY5zfPjIxf/ZgmxwgrOv/KvDx5br1LwqWPxy9O1o5JfAu/y+Fp5V66Pb/2rHH7NRyOWp6nr2MF2y7sb8s2q1qztR8uKJn2yt1Pcs2vdPvB02gAAEIAABCEAAAp9Z4JTTLW19Vry99RqH+fDukT2SX7qd/cNZN+A6b3xTiLAbs96ax2/yBJ8h3f40Wf/Xe4n4e83w5DmkW4kIHkIAAhCAAAQgIG+BT5Bu82CZMK81+Q7NGW6veSf0HMtyBj4wW5i7TYc943otxw5ojZPz8V1C4l69biaWnyzMBMa48ecZQrKJJd44zHGcVj8hrCYdnO2Y32bUciw7qB+fXcvkFm3H/IXD+QqHy6zNjusHWXZAZ3IEEwe/z0OYu/XN2/UcO8DpJ+djmaPaIz08IfubV/u9mn/eqPr8D4V4uz3vr+2yneucrOmeG80SsvCs+rflbqOzpnOy5u6z7mhuivf96B/eum6++sbUBePK7A7dp33McXHsBXOXrzFGt2Mv6noW7flGZjQ6vmF+l5AyW4Vcntp+Z+3A8mKhXf+ELvQ4L/R46NytdP51/42q2ztEZ3n3FmfnLvTwNbem6vSh3NG3o6uqAUdN12RNn6c1IGRlybbbbyPN96dquvha1v/LMb+7FNqABxCAAAQgAAEIQOAzCnyydLvhNw3z4XzGLHQoE7Rp9c5wep9kN4P8Aw0rVCZk33otY+61NCH76dCk1jSXJPtxt0E3ExM23A6Oa8eD24SkAxbteGCLEJJZc43PrJTsPbEwbnIIXz2XWZvR691v6WqhSa3ecfBw6SWL1uSObROymwhO6vR/xkrzbTY4odHoHaFUlmSToad67ZNwpmx7Ct3KPQgv1ekjG2TPPuZs+Ds/ZX1g7rbqhuf6qwzZ35196qkZWokSsh1Zrh9+YU8Rsp95aJi66KJp0j42Vc2+cKZy+9263u9oDQtROLXKdD97uF1+q5DLc966crXfcTWSb9ms3VlnX2ntOzrdbq3Udz/TJPYIydjtz1qf7xKSefjYo5rd2iZkO7p8oWeOButCut1Zb+1zqP5+t032os8X627PjRamqQ9o4CkEIAABCEAAAhD4LwQ+UbrNhp9ojbOHJm4zwXFuPCiG0oTPWFp3m82kEiGHXutYI4TEPXq9K04j6ku7dkLYKB2wDJrc4WT2mALQ/Ux6Y839O2t/mSUHDjebO1xy3qR1vBYD7RZ9tlayw2xwgjUtiOWr9KB8OFuuPSUDRkOtKiCE2sjShd9WN4SlB9JttS7/OtlcuXh70Vk87t7G5tbDMWftGO2yfSwfc3NHWHzqOm+l9csbPm+tQVq5W7IVTbcT6/RPS5xmzmy8+ban+5/1q8el29X6W66rwXfbxZaIvdrJhF6H6m95urck6TY4Vzu8Gs2vsqvRTTUHxfXxEwIQgAAEIAABCHwBAp8m3W76TcP2kJhii93c9JseFOoNSLHuNr3mtRl1Or3RMm43a3PplsTdeoM3vp8NTWqFsgS6m+SK127ScZzOxPvp5KvklonN8yad9oHRZLVbHgjptuzh9mMzD4z+XPYkhOyHeUngFvZXelbZ/ppDawlsk7LtKR4/G2/utp37Sbx3ejV0jpkcTLeFs8oKs6Fb8et61/kex4WhZw33p2ot+XRb75aUz/4TutC35MzuDv02lQ/Q5bYS0u0mSUWYHloasbHgr/1tNbq/eVy6JST0/EXDgKPmluPi45AzX6uwWH936ny/p97grbvh6d4sptsNn7eqc7LmFp+/d+XKJIoMeAQBCEAAAhCAAAT+W4FPkW6za091Ri9NaQdv5SdTScyp0zvzlbLpOTqXSjekxQBGbyzEDwtlCdJ97SZDT3RaZ65wIbcg4X2k5UO5CVc6+UrnbrcDlkF7SDytLek/ydzt3MG52+PaQ8j287nzxuKs6qzdmYunH0y3TutUnXU9F7ajLk/5dEve/XLf0fp8lbk9NyoU5pbdKp9uye7o46n6vzY1OiEKF9JtarW+ey5/3YOdaMONXN2tyLrz7uFjR+3YOkmt1t/yanLT7vvx5u6SdEuCc7W/RQq/Gogb4ycEIAABCEAAAhD4UgQ+QbrdmjcN22mZbJnbgbpbNld3G3fp9I61zD7JpsIzBk0+3eaKE8ymfFkCIeSt2/j7zNo2Lc8NO/S6P6XpNuk3ae1BGkkzUa9pQEPTLUkHrFqjS9jzVsihz5f5JhctWpP3+Lpb1uAIbeXqbnW07lboCy2WkLan2MHdh8YpRqy1pS+HF8/fD4UI2Z5/Vn0/tLgtVM1Kr5kgzt3O2h11Y/GNfbK9+aa1f/KIdEtocr3tqDXnr8ZQdisx3ZLtV4vnexy1t4Vz0Qrpdj/e3ONQLbwn+xnnU09Np5BuIy8usEt2WvGcGbU4aP1DOsJ0e7vf7hGyO+vy1nSWptudeOtdZ/PCO1qV+3ZVdd8/JExRFyXwCAIQgAAEIAABCPynAqeebrNrDp3eU27iNtfP7TWvVUevmfDIEfTb83W36bDbomPv0Qsp+J3i3C2tvXXrNGyhLIGQ9JrHQjce4PQTXhpzJbdMzD/+gO5YN+F3jwlzt4RukT9c6SUaPnTNBC0/F7Ab6N70Nj+9ZkLudrA94uvpSMMtryZ/EpjwIi1UcP3yDyHb69eHHdVdz+gFCsqlW5J6c3Voqrpzsqbf/4v1qLlbQut0OyVX0i23VSHdkv2t63dtdX8IwbOQbgmJBpYudk9W33I2uJYbbuXmbjP2P7znb0xWd/F1vy3TmEv2Fv/y192arLrhqLe/aOgpTbeEbMdWm+8LV1To8TQLJ5+JCvgJAQhAAAIQgAAE/nuBU0+3p9ql3eD44KGyhH97hMySpfQktpPv6FTbc/LDYwsIQAACEIAABCAAgQ8IfLnpNrubjvtM2skyJ6d9oE/Fxdk1h8m+EKdzr9sxr1lrWUgWF57w0Wm054SHxOoQgAAEIAABCEAAAicU+GLTbdL/Oy1UCG6esEOlq2c3gg4T/YYHdlBn+TOUPHzdq9L1j352Ou05ev9YAgEIQAACEIAABCBwCgJfbLo9hb5hFxCAAAQgAAEIQAAClSaAdFtpI47+QgACEIAABCAAATkLIN3KeXTRNwhAAAIQgAAEIFBpAki3lTbi6C8EIAABCEAAAhCQswDSrZxHF32DAAQgAAEIQAAClSaAdFtpI47+QgACEIAABCAAATkLIN3KeXTRNwhAAAIQgAAEIFBpAki3lTbi6C8EIAABCEAAAhCQswDSrZxHF32DAAQgAAEIQAAClSaAdFtpI47+QgACEIAABCAAATkLIN3KeXTRNwhAAAIQgAAEIFBpAki3lTbi6C8EIAABCEAAAhCQswDSrZxHF32DAAQgAAEIQAAClSaAdFtpI47+QgACEIAABCAAATkL/FfpNhMYY43+ZBna2IyO48P7ZZac4KVsaJzVe9dPsIV01bhXzxm88RO24d9tJT1u2cdJn5G1BjNll53oxXTQrtXahT2lF0yseT59os2xMgQgAAEIQAACEDgLAki3ZUYp/do/41s7afj7d1uVOXzpSx+Vbte9enY8lC3d8sCzbCLocgfX6UpItwds8BQCEIAABCAAAdkIIN1+6UN5aulW0lGkWwkGHkIAAhCAAAQgICuBT5But0LuCaOW02hYrYmfjxU+U88mgg6TbkCjGdCN+8LzksqEdMRrf6Rl77Ha3x3B4BGVCZnYPG/UDtDdGvn5+C4dhgMpbe0pp3PG6AKhMsH9MsA/4jR0t3Z/NNeObMjGGj0B75iOvafhHvGB9WTYZdFxQqv8+cZKd5sMzVj0nEajYR9Y3GFxPveDjUmteW1CazmdxRHItZY2ix496LfpuXu0H47niXLzrZn4Am8cZjX3OD0fCHkllQn7yZBnXD/Iaga0+rGZ4Iaw9YqdvZO/sXyYdn83EXRa9FpWc4/VmR0BYb6W7K85tFpH5KBb+Q7StXCDAAQgAAEIQAACZ0/gtNPtfsL7iNVNBmJbmczWmtfMap1rQgTLhJ9o2UeOYCyZ3IgFhJyar7vd8JsGtOP+tcRWMr7itug4tkzdbTb8RMtZvGubmUwq5jVzek/8A+n2Hsvpx73hRHIrHvZauAHT/KYQe20adnjcG0lmMomATStE7Vgmm02uOPT3jN4NOoTFdLvpNw3oHcF4OpNJBHnd4Hhwm+7kA43Jxt0GVjc5v7aRTL4Nuc0cNxEUcnE2ZNOwWot7JZnJZhJLdu090/zWwTdNemmcGzS5Q/HkVmLNN67nWE2+7ja75tBpze7Q22R6Mx7608jpHGtCys/GaWVCMJMltFY4u+bUsQZH8G06k06EnXrW4E3sk/LptnwHDzYJzyEAAQhAAAIQgMBZETjtdEsnDjMZ8XyszJKF/V04dywVsEhP89oN84OaXLpdc2g5W6gww5v0GTVl0m06YNHovTTR0ls2m5vyLMZQ4eWSudt7GsuiONVK0vTwNBDTfKl1ruV2Q17z3IA9nNvXftytZ+1C7Wpxt9EZLWcXEm3usLntPtCYbMjOafO5k26wNW/K9104uiMX9wnJHfFl7vD5FhGS8BpY04Kk5WNiuk0HLJwlUFhCN+f4FWHzA3W3+5mMkHrpTjf8RtYSyByRbst3sNAYPIAABCAAAQhAAAJnTOBTpNvE2pLf7eDHLUb6ib/BmyCEROin4mti6iVC3BTSbXreLA1zhNC8VeaaCekVh45ldWb7zGwgvJ4Pw8UYKrCXpFu2GIYJIYlZPTsRzAq1AXqhRXSL1w5usNAqGivtQtYs7jYb95s5zaBx/Il7PhhLi0H0+MYkvLljFd4KdM/jwWyuMqF4dJL0/86OPy8Ee2H9bMjO6t1ijM+3PDd3G3Fo+zTsAFu4a/o0+Rx8KN3GVwLePx12q8k4zN7RCJm4bGXCER0sNB0PIAABCEAAAhCAwNkSOO10m1lzPGB1YzPexWA4Ek8sjNOPxXPptpgj6Yf/AUvuimBCup2TXBosUj7d0hnbdDy85J+ZNGlZzjJH91qMoYL62hNOK627lWbEfOKkla/FfPnBdEt3m0lGQvMex7iBYx84wrQygd6OacwnTLecPbiZTG4V7ul0bo62JN2mgzYtqx+f8QdC4Vg86jWxR6db2pXyHcx1E39CAAIQgAAEIACBsyVw2uk24tAOFrDqMIcAAAOxSURBVD56J0m/MT93K5QGuN+KOLshOydWJji17ETxeq6J2bKVCSSzmUiKn7anF0y0TGGf0MqHR4WZWFowUEy398R5TXpMmqHFyoSTpNvddGJDnFvNrjm0+cndso0pRG1amTAsqUxISSsTJEcvO3dLKxM0pmLcTwfGNPm625xhMbKn45F4fjp5Q6i7zfnQ2V9dkTrm1t07Ot0e0UFxnPATAhCAAAQgAAEInDGB0063m34Tq+Ofx5KpZDzktgyLlQmk5Kyy+UmTVqy7JbmzynzCWWUht+WBttxZZcLJak+C8a10ep2eJMbZhEC87tXf09oXY8mtRNhn1w9I0y2nNYhnlXlM3IAlQM/fOtncbSZk5ziL93UinU7Glnh9vmagfGMK6ZZIzyqLHzir7IPplqSfj3Oc5KwyLSeeVZYJP9Wyej4QTaS34mGPiePGAynhDUeDL3VIpLO0nPcBa3SG4lvpZCw4Y+I0R1cmHNHBM/YmRnMhAAEIQAACEIBAQeC00y3JXfeL1WhYnWUm6BMrE2iwFK8IxunH/WsBW/G7ytIRL/3c/x6rNc2EVtz6wTJ1t9mN4IxZx927oxnQGnl/LF8hkI3P2ekFuwZ0pj9DgSfSK4KZ/K+D+SuCPbKLF/s6WbolJLPmsxu1rEaj4fSWmZfJXOVt2cYU0y0hRHJFMFPpFcGKdRHl525pqQC9Ihi9nhdn5ANrflPxu8qyyZBrnF7qSyO9zBnFjS/Y9YMa1kZPi8vG5/nf6Ur0qhFL7mMrE8p3sPD+wAMIQAACEIAABCBwtgROPd2ere6jtRCAAAQgAAEIQAACshJAupXVcKIzEIAABCAAAQhAoMIFkG4r/A2A7kMAAhCAAAQgAAFZCSDdymo40RkIQAACEIAABCBQ4QJItxX+BkD3IQABCEAAAhCAgKwEkG5lNZzoDAQgAAEIQAACEKhwAaTbCn8DoPsQgAAEIAABCEBAVgJIt7IaTnQGAhCAAAQgAAEIVLgA0m2FvwHQfQhAAAIQgAAEICArAaRbWQ0nOgMBCEAAAhCAAAQqXADptsLfAOg+BCAAAQhAAAIQkJUA0q2shhOdgQAEIAABCEAAAhUugHRb4W8AdB8CEIAABCAAAQjISgDpVlbDic5AAAIQgAAEIACBChdAuq3wNwC6DwEIQAACEIAABGQlgHQrq+FEZyAAAQhAAAIQgECFC+TTbWJjA3cIQAACEIAABCAAAQicdQHM3Vb4rzfoPgQgAAEIQAACEJCVQOjVyv8BIBbeL6B9E70AAAAASUVORK5CYII=)"
      ]
    }
  ]
}
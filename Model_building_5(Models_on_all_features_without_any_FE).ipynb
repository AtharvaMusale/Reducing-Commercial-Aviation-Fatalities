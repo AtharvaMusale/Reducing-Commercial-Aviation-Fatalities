{
  "nbformat": 4,
  "nbformat_minor": 0,
  "metadata": {
    "colab": {
      "name": "Model_building_5(Models_on_all_features_without_any_FE).ipynb",
      "provenance": [],
      "toc_visible": true
    },
    "kernelspec": {
      "name": "python3",
      "display_name": "Python 3"
    },
    "accelerator": "GPU",
    "widgets": {
      "application/vnd.jupyter.widget-state+json": {
        "f5ca2d7b57884318a8535416394d87a2": {
          "model_module": "@jupyter-widgets/controls",
          "model_name": "HBoxModel",
          "state": {
            "_view_name": "HBoxView",
            "_dom_classes": [],
            "_model_name": "HBoxModel",
            "_view_module": "@jupyter-widgets/controls",
            "_model_module_version": "1.5.0",
            "_view_count": null,
            "_view_module_version": "1.5.0",
            "box_style": "",
            "layout": "IPY_MODEL_31d10e9efa3a4eadb39b0e1e616749f4",
            "_model_module": "@jupyter-widgets/controls",
            "children": [
              "IPY_MODEL_d0b938ea42254c02babce75dd029504a",
              "IPY_MODEL_2330bea13a1c4ed884cc56b075c580a3"
            ]
          }
        },
        "31d10e9efa3a4eadb39b0e1e616749f4": {
          "model_module": "@jupyter-widgets/base",
          "model_name": "LayoutModel",
          "state": {
            "_view_name": "LayoutView",
            "grid_template_rows": null,
            "right": null,
            "justify_content": null,
            "_view_module": "@jupyter-widgets/base",
            "overflow": null,
            "_model_module_version": "1.2.0",
            "_view_count": null,
            "flex_flow": null,
            "width": null,
            "min_width": null,
            "border": null,
            "align_items": null,
            "bottom": null,
            "_model_module": "@jupyter-widgets/base",
            "top": null,
            "grid_column": null,
            "overflow_y": null,
            "overflow_x": null,
            "grid_auto_flow": null,
            "grid_area": null,
            "grid_template_columns": null,
            "flex": null,
            "_model_name": "LayoutModel",
            "justify_items": null,
            "grid_row": null,
            "max_height": null,
            "align_content": null,
            "visibility": null,
            "align_self": null,
            "height": null,
            "min_height": null,
            "padding": null,
            "grid_auto_rows": null,
            "grid_gap": null,
            "max_width": null,
            "order": null,
            "_view_module_version": "1.2.0",
            "grid_template_areas": null,
            "object_position": null,
            "object_fit": null,
            "grid_auto_columns": null,
            "margin": null,
            "display": null,
            "left": null
          }
        },
        "d0b938ea42254c02babce75dd029504a": {
          "model_module": "@jupyter-widgets/controls",
          "model_name": "FloatProgressModel",
          "state": {
            "_view_name": "ProgressView",
            "style": "IPY_MODEL_13f67a8701fd4a438b1e515b6744a664",
            "_dom_classes": [],
            "description": "100%",
            "_model_name": "FloatProgressModel",
            "bar_style": "success",
            "max": 4,
            "_view_module": "@jupyter-widgets/controls",
            "_model_module_version": "1.5.0",
            "value": 4,
            "_view_count": null,
            "_view_module_version": "1.5.0",
            "orientation": "horizontal",
            "min": 0,
            "description_tooltip": null,
            "_model_module": "@jupyter-widgets/controls",
            "layout": "IPY_MODEL_711f288b443c48b5b5cb676836afda9b"
          }
        },
        "2330bea13a1c4ed884cc56b075c580a3": {
          "model_module": "@jupyter-widgets/controls",
          "model_name": "HTMLModel",
          "state": {
            "_view_name": "HTMLView",
            "style": "IPY_MODEL_7eddf78b52af4d40a443b3c68c227eef",
            "_dom_classes": [],
            "description": "",
            "_model_name": "HTMLModel",
            "placeholder": "​",
            "_view_module": "@jupyter-widgets/controls",
            "_model_module_version": "1.5.0",
            "value": " 4/4 [23:02&lt;00:00, 345.51s/it]",
            "_view_count": null,
            "_view_module_version": "1.5.0",
            "description_tooltip": null,
            "_model_module": "@jupyter-widgets/controls",
            "layout": "IPY_MODEL_583b712e74ef4e0cab72881ea5fe262e"
          }
        },
        "13f67a8701fd4a438b1e515b6744a664": {
          "model_module": "@jupyter-widgets/controls",
          "model_name": "ProgressStyleModel",
          "state": {
            "_view_name": "StyleView",
            "_model_name": "ProgressStyleModel",
            "description_width": "initial",
            "_view_module": "@jupyter-widgets/base",
            "_model_module_version": "1.5.0",
            "_view_count": null,
            "_view_module_version": "1.2.0",
            "bar_color": null,
            "_model_module": "@jupyter-widgets/controls"
          }
        },
        "711f288b443c48b5b5cb676836afda9b": {
          "model_module": "@jupyter-widgets/base",
          "model_name": "LayoutModel",
          "state": {
            "_view_name": "LayoutView",
            "grid_template_rows": null,
            "right": null,
            "justify_content": null,
            "_view_module": "@jupyter-widgets/base",
            "overflow": null,
            "_model_module_version": "1.2.0",
            "_view_count": null,
            "flex_flow": null,
            "width": null,
            "min_width": null,
            "border": null,
            "align_items": null,
            "bottom": null,
            "_model_module": "@jupyter-widgets/base",
            "top": null,
            "grid_column": null,
            "overflow_y": null,
            "overflow_x": null,
            "grid_auto_flow": null,
            "grid_area": null,
            "grid_template_columns": null,
            "flex": null,
            "_model_name": "LayoutModel",
            "justify_items": null,
            "grid_row": null,
            "max_height": null,
            "align_content": null,
            "visibility": null,
            "align_self": null,
            "height": null,
            "min_height": null,
            "padding": null,
            "grid_auto_rows": null,
            "grid_gap": null,
            "max_width": null,
            "order": null,
            "_view_module_version": "1.2.0",
            "grid_template_areas": null,
            "object_position": null,
            "object_fit": null,
            "grid_auto_columns": null,
            "margin": null,
            "display": null,
            "left": null
          }
        },
        "7eddf78b52af4d40a443b3c68c227eef": {
          "model_module": "@jupyter-widgets/controls",
          "model_name": "DescriptionStyleModel",
          "state": {
            "_view_name": "StyleView",
            "_model_name": "DescriptionStyleModel",
            "description_width": "",
            "_view_module": "@jupyter-widgets/base",
            "_model_module_version": "1.5.0",
            "_view_count": null,
            "_view_module_version": "1.2.0",
            "_model_module": "@jupyter-widgets/controls"
          }
        },
        "583b712e74ef4e0cab72881ea5fe262e": {
          "model_module": "@jupyter-widgets/base",
          "model_name": "LayoutModel",
          "state": {
            "_view_name": "LayoutView",
            "grid_template_rows": null,
            "right": null,
            "justify_content": null,
            "_view_module": "@jupyter-widgets/base",
            "overflow": null,
            "_model_module_version": "1.2.0",
            "_view_count": null,
            "flex_flow": null,
            "width": null,
            "min_width": null,
            "border": null,
            "align_items": null,
            "bottom": null,
            "_model_module": "@jupyter-widgets/base",
            "top": null,
            "grid_column": null,
            "overflow_y": null,
            "overflow_x": null,
            "grid_auto_flow": null,
            "grid_area": null,
            "grid_template_columns": null,
            "flex": null,
            "_model_name": "LayoutModel",
            "justify_items": null,
            "grid_row": null,
            "max_height": null,
            "align_content": null,
            "visibility": null,
            "align_self": null,
            "height": null,
            "min_height": null,
            "padding": null,
            "grid_auto_rows": null,
            "grid_gap": null,
            "max_width": null,
            "order": null,
            "_view_module_version": "1.2.0",
            "grid_template_areas": null,
            "object_position": null,
            "object_fit": null,
            "grid_auto_columns": null,
            "margin": null,
            "display": null,
            "left": null
          }
        },
        "22abc063b727466ca33630d30366ee10": {
          "model_module": "@jupyter-widgets/controls",
          "model_name": "HBoxModel",
          "state": {
            "_view_name": "HBoxView",
            "_dom_classes": [],
            "_model_name": "HBoxModel",
            "_view_module": "@jupyter-widgets/controls",
            "_model_module_version": "1.5.0",
            "_view_count": null,
            "_view_module_version": "1.5.0",
            "box_style": "",
            "layout": "IPY_MODEL_7dbd6699685d412183752447ba9a060d",
            "_model_module": "@jupyter-widgets/controls",
            "children": [
              "IPY_MODEL_ee777e26eed64ff98478db5722ce0695",
              "IPY_MODEL_273d111c5dff4d69ab714c7691f188c0"
            ]
          }
        },
        "7dbd6699685d412183752447ba9a060d": {
          "model_module": "@jupyter-widgets/base",
          "model_name": "LayoutModel",
          "state": {
            "_view_name": "LayoutView",
            "grid_template_rows": null,
            "right": null,
            "justify_content": null,
            "_view_module": "@jupyter-widgets/base",
            "overflow": null,
            "_model_module_version": "1.2.0",
            "_view_count": null,
            "flex_flow": null,
            "width": null,
            "min_width": null,
            "border": null,
            "align_items": null,
            "bottom": null,
            "_model_module": "@jupyter-widgets/base",
            "top": null,
            "grid_column": null,
            "overflow_y": null,
            "overflow_x": null,
            "grid_auto_flow": null,
            "grid_area": null,
            "grid_template_columns": null,
            "flex": null,
            "_model_name": "LayoutModel",
            "justify_items": null,
            "grid_row": null,
            "max_height": null,
            "align_content": null,
            "visibility": null,
            "align_self": null,
            "height": null,
            "min_height": null,
            "padding": null,
            "grid_auto_rows": null,
            "grid_gap": null,
            "max_width": null,
            "order": null,
            "_view_module_version": "1.2.0",
            "grid_template_areas": null,
            "object_position": null,
            "object_fit": null,
            "grid_auto_columns": null,
            "margin": null,
            "display": null,
            "left": null
          }
        },
        "ee777e26eed64ff98478db5722ce0695": {
          "model_module": "@jupyter-widgets/controls",
          "model_name": "FloatProgressModel",
          "state": {
            "_view_name": "ProgressView",
            "style": "IPY_MODEL_1a435989ba6c43248d7636b414b6f242",
            "_dom_classes": [],
            "description": "100%",
            "_model_name": "FloatProgressModel",
            "bar_style": "success",
            "max": 3,
            "_view_module": "@jupyter-widgets/controls",
            "_model_module_version": "1.5.0",
            "value": 3,
            "_view_count": null,
            "_view_module_version": "1.5.0",
            "orientation": "horizontal",
            "min": 0,
            "description_tooltip": null,
            "_model_module": "@jupyter-widgets/controls",
            "layout": "IPY_MODEL_aa0c194b77504bfe921610281323cdc0"
          }
        },
        "273d111c5dff4d69ab714c7691f188c0": {
          "model_module": "@jupyter-widgets/controls",
          "model_name": "HTMLModel",
          "state": {
            "_view_name": "HTMLView",
            "style": "IPY_MODEL_a20d17f2c8f24f05916c491e57a578d3",
            "_dom_classes": [],
            "description": "",
            "_model_name": "HTMLModel",
            "placeholder": "​",
            "_view_module": "@jupyter-widgets/controls",
            "_model_module_version": "1.5.0",
            "value": " 3/3 [1:12:56&lt;00:00, 1458.88s/it]",
            "_view_count": null,
            "_view_module_version": "1.5.0",
            "description_tooltip": null,
            "_model_module": "@jupyter-widgets/controls",
            "layout": "IPY_MODEL_8a66b8cbf1e14b5698f6456d22ce36de"
          }
        },
        "1a435989ba6c43248d7636b414b6f242": {
          "model_module": "@jupyter-widgets/controls",
          "model_name": "ProgressStyleModel",
          "state": {
            "_view_name": "StyleView",
            "_model_name": "ProgressStyleModel",
            "description_width": "initial",
            "_view_module": "@jupyter-widgets/base",
            "_model_module_version": "1.5.0",
            "_view_count": null,
            "_view_module_version": "1.2.0",
            "bar_color": null,
            "_model_module": "@jupyter-widgets/controls"
          }
        },
        "aa0c194b77504bfe921610281323cdc0": {
          "model_module": "@jupyter-widgets/base",
          "model_name": "LayoutModel",
          "state": {
            "_view_name": "LayoutView",
            "grid_template_rows": null,
            "right": null,
            "justify_content": null,
            "_view_module": "@jupyter-widgets/base",
            "overflow": null,
            "_model_module_version": "1.2.0",
            "_view_count": null,
            "flex_flow": null,
            "width": null,
            "min_width": null,
            "border": null,
            "align_items": null,
            "bottom": null,
            "_model_module": "@jupyter-widgets/base",
            "top": null,
            "grid_column": null,
            "overflow_y": null,
            "overflow_x": null,
            "grid_auto_flow": null,
            "grid_area": null,
            "grid_template_columns": null,
            "flex": null,
            "_model_name": "LayoutModel",
            "justify_items": null,
            "grid_row": null,
            "max_height": null,
            "align_content": null,
            "visibility": null,
            "align_self": null,
            "height": null,
            "min_height": null,
            "padding": null,
            "grid_auto_rows": null,
            "grid_gap": null,
            "max_width": null,
            "order": null,
            "_view_module_version": "1.2.0",
            "grid_template_areas": null,
            "object_position": null,
            "object_fit": null,
            "grid_auto_columns": null,
            "margin": null,
            "display": null,
            "left": null
          }
        },
        "a20d17f2c8f24f05916c491e57a578d3": {
          "model_module": "@jupyter-widgets/controls",
          "model_name": "DescriptionStyleModel",
          "state": {
            "_view_name": "StyleView",
            "_model_name": "DescriptionStyleModel",
            "description_width": "",
            "_view_module": "@jupyter-widgets/base",
            "_model_module_version": "1.5.0",
            "_view_count": null,
            "_view_module_version": "1.2.0",
            "_model_module": "@jupyter-widgets/controls"
          }
        },
        "8a66b8cbf1e14b5698f6456d22ce36de": {
          "model_module": "@jupyter-widgets/base",
          "model_name": "LayoutModel",
          "state": {
            "_view_name": "LayoutView",
            "grid_template_rows": null,
            "right": null,
            "justify_content": null,
            "_view_module": "@jupyter-widgets/base",
            "overflow": null,
            "_model_module_version": "1.2.0",
            "_view_count": null,
            "flex_flow": null,
            "width": null,
            "min_width": null,
            "border": null,
            "align_items": null,
            "bottom": null,
            "_model_module": "@jupyter-widgets/base",
            "top": null,
            "grid_column": null,
            "overflow_y": null,
            "overflow_x": null,
            "grid_auto_flow": null,
            "grid_area": null,
            "grid_template_columns": null,
            "flex": null,
            "_model_name": "LayoutModel",
            "justify_items": null,
            "grid_row": null,
            "max_height": null,
            "align_content": null,
            "visibility": null,
            "align_self": null,
            "height": null,
            "min_height": null,
            "padding": null,
            "grid_auto_rows": null,
            "grid_gap": null,
            "max_width": null,
            "order": null,
            "_view_module_version": "1.2.0",
            "grid_template_areas": null,
            "object_position": null,
            "object_fit": null,
            "grid_auto_columns": null,
            "margin": null,
            "display": null,
            "left": null
          }
        }
      }
    }
  },
  "cells": [
    {
      "cell_type": "markdown",
      "metadata": {
        "id": "hs2XVl9OxsT3",
        "colab_type": "text"
      },
      "source": [
        "**So here is what I am going to try in this notebook , I am going to drop experiment feature and keep the time feature as it is. I am simply going to train my model on this data as it is and see the results on the best model.**"
      ]
    },
    {
      "cell_type": "code",
      "metadata": {
        "id": "uP3CloOdwTgu",
        "colab_type": "code",
        "colab": {
          "base_uri": "https://localhost:8080/",
          "height": 224
        },
        "outputId": "739a8c6e-7117-476c-8877-7c625ada1ce6"
      },
      "source": [
        "!wget --header=\"Host: storage.googleapis.com\" --header=\"User-Agent: Mozilla/5.0 (X11; Linux x86_64) AppleWebKit/537.36 (KHTML, like Gecko) Chrome/84.0.4147.105 Safari/537.36\" --header=\"Accept: text/html,application/xhtml+xml,application/xml;q=0.9,image/webp,image/apng,*/*;q=0.8,application/signed-exchange;v=b3;q=0.9\" --header=\"Accept-Language: en-GB,en-US;q=0.9,en;q=0.8\" --header=\"Referer: https://www.kaggle.com/\" \"https://storage.googleapis.com/kaggle-competitions-data/kaggle-v2/11835/224935/compressed/train.csv.zip?GoogleAccessId=web-data@kaggle-161607.iam.gserviceaccount.com&Expires=1597053235&Signature=LPrAGyUvFAFA7ZkkwUWyc0srI5488quzzTLdj1ThHt3H2isET80a8V6dHQQruHzZHJgRq%2FBF%2BGzLxf0DEaB0HB0iYF2AnxlKcxEU3xbWcdZF9at7J8HOfFNB9t3AezeghzCnu6FAcLvKRTHVJrCJnLBQk6wQgFHxgJPwH3dQeuhnJwEVpkj2rFqBkN2Ray3r2WZeL01xO6VZN8O7zGWg4ORaQikb3I12Vid%2BrN5ubxeljOQ3UfDJ%2B8hDMVMSVu86SHZY6xREyLN5dvMn%2BLK8j98Gzw4a5dXx3F3WdGl3t5a1%2F%2BPB2H54Ge4j6%2F15AB0gwf%2FWmcgi7%2ByDeNB9xAiMDw%3D%3D&response-content-disposition=attachment%3B+filename%3Dtrain.csv.zip\" -c -O 'train.csv.zip'"
      ],
      "execution_count": null,
      "outputs": [
        {
          "output_type": "stream",
          "text": [
            "--2020-08-08 11:48:18--  https://storage.googleapis.com/kaggle-competitions-data/kaggle-v2/11835/224935/compressed/train.csv.zip?GoogleAccessId=web-data@kaggle-161607.iam.gserviceaccount.com&Expires=1597053235&Signature=LPrAGyUvFAFA7ZkkwUWyc0srI5488quzzTLdj1ThHt3H2isET80a8V6dHQQruHzZHJgRq%2FBF%2BGzLxf0DEaB0HB0iYF2AnxlKcxEU3xbWcdZF9at7J8HOfFNB9t3AezeghzCnu6FAcLvKRTHVJrCJnLBQk6wQgFHxgJPwH3dQeuhnJwEVpkj2rFqBkN2Ray3r2WZeL01xO6VZN8O7zGWg4ORaQikb3I12Vid%2BrN5ubxeljOQ3UfDJ%2B8hDMVMSVu86SHZY6xREyLN5dvMn%2BLK8j98Gzw4a5dXx3F3WdGl3t5a1%2F%2BPB2H54Ge4j6%2F15AB0gwf%2FWmcgi7%2ByDeNB9xAiMDw%3D%3D&response-content-disposition=attachment%3B+filename%3Dtrain.csv.zip\n",
            "Resolving storage.googleapis.com (storage.googleapis.com)... 173.194.216.128, 173.194.217.128, 172.217.193.128, ...\n",
            "Connecting to storage.googleapis.com (storage.googleapis.com)|173.194.216.128|:443... connected.\n",
            "HTTP request sent, awaiting response... 200 OK\n",
            "Length: 456337398 (435M) [application/zip]\n",
            "Saving to: ‘train.csv.zip’\n",
            "\n",
            "train.csv.zip       100%[===================>] 435.20M   119MB/s    in 3.6s    \n",
            "\n",
            "2020-08-08 11:48:22 (119 MB/s) - ‘train.csv.zip’ saved [456337398/456337398]\n",
            "\n"
          ],
          "name": "stdout"
        }
      ]
    },
    {
      "cell_type": "code",
      "metadata": {
        "id": "5pFtTY5PxOJW",
        "colab_type": "code",
        "colab": {
          "base_uri": "https://localhost:8080/",
          "height": 51
        },
        "outputId": "d8604ba0-38f6-4be8-8b91-e3c9e90f547f"
      },
      "source": [
        "!unzip train.csv.zip"
      ],
      "execution_count": null,
      "outputs": [
        {
          "output_type": "stream",
          "text": [
            "Archive:  train.csv.zip\n",
            "  inflating: train.csv               \n"
          ],
          "name": "stdout"
        }
      ]
    },
    {
      "cell_type": "code",
      "metadata": {
        "id": "gaWJWqKlxhs2",
        "colab_type": "code",
        "colab": {
          "base_uri": "https://localhost:8080/",
          "height": 105
        },
        "outputId": "3e32fbbc-478f-4f00-cc63-caa53ace7564"
      },
      "source": [
        "import warnings\n",
        "import itertools\n",
        "import numpy as np \n",
        "import pandas as pd\n",
        "import seaborn as sns\n",
        "import lightgbm as lgb\n",
        "import matplotlib.pyplot as plt\n",
        "from tqdm import tqdm_notebook as tqdm\n",
        "from sklearn.preprocessing import MinMaxScaler\n",
        "from sklearn.model_selection import train_test_split\n",
        "from sklearn.metrics import confusion_matrix, log_loss\n",
        "import dask.dataframe as dd\n",
        "import dask\n",
        "import gc\n",
        "\n",
        "from yellowbrick.text import TSNEVisualizer\n",
        "\n",
        "%matplotlib inline\n",
        "plt.style.use(\"fivethirtyeight\")\n",
        "warnings.filterwarnings(action='ignore')\n",
        "sns.set_style('whitegrid')"
      ],
      "execution_count": null,
      "outputs": [
        {
          "output_type": "stream",
          "text": [
            "/usr/local/lib/python3.6/dist-packages/statsmodels/tools/_testing.py:19: FutureWarning: pandas.util.testing is deprecated. Use the functions in the public API at pandas.testing instead.\n",
            "  import pandas.util.testing as tm\n",
            "/usr/local/lib/python3.6/dist-packages/sklearn/utils/deprecation.py:144: FutureWarning: The sklearn.metrics.classification module is  deprecated in version 0.22 and will be removed in version 0.24. The corresponding classes / functions should instead be imported from sklearn.metrics. Anything that cannot be imported from sklearn.metrics is now part of the private API.\n",
            "  warnings.warn(message, FutureWarning)\n"
          ],
          "name": "stderr"
        }
      ]
    },
    {
      "cell_type": "code",
      "metadata": {
        "id": "xwrb7MM8xSOB",
        "colab_type": "code",
        "colab": {}
      },
      "source": [
        "# This is to be used for memory optimization because the data is very large.\n",
        "def reduce_mem_usage(df):\n",
        "    \"\"\" iterate through all the columns of a dataframe and modify the data type\n",
        "        to reduce memory usage.        \n",
        "    \"\"\"\n",
        "    start_mem = df.memory_usage().sum() / 1024**2\n",
        "    print('Memory usage of dataframe is {:.2f} MB'.format(start_mem))\n",
        "    \n",
        "    for col in df.columns:\n",
        "        col_type = df[col].dtype\n",
        "        \n",
        "        if col_type != object:\n",
        "            c_min = df[col].min()\n",
        "            c_max = df[col].max()\n",
        "            if str(col_type)[:3] == 'int':\n",
        "                if c_min > np.iinfo(np.int8).min and c_max < np.iinfo(np.int8).max:\n",
        "                    df[col] = df[col].astype(np.int8)\n",
        "                elif c_min > np.iinfo(np.int16).min and c_max < np.iinfo(np.int16).max:\n",
        "                    df[col] = df[col].astype(np.int16)\n",
        "                elif c_min > np.iinfo(np.int32).min and c_max < np.iinfo(np.int32).max:\n",
        "                    df[col] = df[col].astype(np.int32)\n",
        "                elif c_min > np.iinfo(np.int64).min and c_max < np.iinfo(np.int64).max:\n",
        "                    df[col] = df[col].astype(np.int64)  \n",
        "            else:\n",
        "                if c_min > np.finfo(np.float16).min and c_max < np.finfo(np.float16).max:\n",
        "                    df[col] = df[col].astype(np.float16)\n",
        "                elif c_min > np.finfo(np.float32).min and c_max < np.finfo(np.float32).max:\n",
        "                    df[col] = df[col].astype(np.float32)\n",
        "                else:\n",
        "                    df[col] = df[col].astype(np.float64)\n",
        "        else:\n",
        "              df[col] = df[col].astype('category')\n",
        "\n",
        "    end_mem = df.memory_usage().sum() / 1024**2\n",
        "    print('Memory usage after optimization is: {:.2f} MB'.format(end_mem))\n",
        "    print('Decreased by {:.1f}%'.format(100 * (start_mem - end_mem) / start_mem))\n",
        "    \n",
        "    return df\n",
        "def featureModify(isTrain, numRows):\n",
        "    if isTrain:\n",
        "        df = dd.read_csv('train.csv',nrows=numRows) \n",
        "        df = df.compute()\n",
        "        # df['pilot'] = 100*df['crew']+df['seat']\n",
        "        df = reduce_mem_usage(df)\n",
        "        df['event'] = df['event'].map({\n",
        "            'A':0,\n",
        "            'B':1,\n",
        "            'C':2,\n",
        "            'D':3\n",
        "        })\n",
        "    else:\n",
        "        df = dd.read_csv('test.csv',nrows=numRows)\n",
        "        df = df.compute()\n",
        "        # df['pilot'] = 100*df['crew']+df['seat']\n",
        "        df = reduce_mem_usage(df)\n",
        "    \n",
        "    return df \n",
        "# train = featureModify(True, None)\n",
        "# y = train['event']\n",
        "# train = train.drop('event',axis=1)\n",
        "# print(train.shape)\n",
        "# print(train.columns)"
      ],
      "execution_count": null,
      "outputs": []
    },
    {
      "cell_type": "code",
      "metadata": {
        "id": "v-kGXDMqWtY6",
        "colab_type": "code",
        "colab": {}
      },
      "source": [
        "# I didnt do this for LightGBM\n",
        "train = train.drop(columns=['experiment'],axis=1)"
      ],
      "execution_count": null,
      "outputs": []
    },
    {
      "cell_type": "code",
      "metadata": {
        "id": "Byhsar7DbZPr",
        "colab_type": "code",
        "colab": {}
      },
      "source": [
        "col = train.columns"
      ],
      "execution_count": null,
      "outputs": []
    },
    {
      "cell_type": "code",
      "metadata": {
        "id": "hj4_NaBMa6K8",
        "colab_type": "code",
        "colab": {}
      },
      "source": [
        "# I have used this normalisation only for naive bayes\n",
        "# from sklearn.preprocessing import MinMaxScaler\n",
        "# ms = MinMaxScaler()\n",
        "# train = ms.fit_transform(train)"
      ],
      "execution_count": null,
      "outputs": []
    },
    {
      "cell_type": "code",
      "metadata": {
        "id": "jkws95glbLgK",
        "colab_type": "code",
        "colab": {}
      },
      "source": [
        "train = pd.DataFrame(train)"
      ],
      "execution_count": null,
      "outputs": []
    },
    {
      "cell_type": "code",
      "metadata": {
        "id": "ksDc7_O7bfjc",
        "colab_type": "code",
        "colab": {}
      },
      "source": [
        "train.columns = col"
      ],
      "execution_count": null,
      "outputs": []
    },
    {
      "cell_type": "code",
      "metadata": {
        "id": "8hKoOIdxbTxi",
        "colab_type": "code",
        "colab": {
          "base_uri": "https://localhost:8080/",
          "height": 224
        },
        "outputId": "85879b79-f539-4399-fd3c-a70c3e2d6dfd"
      },
      "source": [
        "train.head()"
      ],
      "execution_count": null,
      "outputs": [
        {
          "output_type": "execute_result",
          "data": {
            "text/html": [
              "<div>\n",
              "<style scoped>\n",
              "    .dataframe tbody tr th:only-of-type {\n",
              "        vertical-align: middle;\n",
              "    }\n",
              "\n",
              "    .dataframe tbody tr th {\n",
              "        vertical-align: top;\n",
              "    }\n",
              "\n",
              "    .dataframe thead th {\n",
              "        text-align: right;\n",
              "    }\n",
              "</style>\n",
              "<table border=\"1\" class=\"dataframe\">\n",
              "  <thead>\n",
              "    <tr style=\"text-align: right;\">\n",
              "      <th></th>\n",
              "      <th>crew</th>\n",
              "      <th>time</th>\n",
              "      <th>seat</th>\n",
              "      <th>eeg_fp1</th>\n",
              "      <th>eeg_f7</th>\n",
              "      <th>eeg_f8</th>\n",
              "      <th>eeg_t4</th>\n",
              "      <th>eeg_t6</th>\n",
              "      <th>eeg_t5</th>\n",
              "      <th>eeg_t3</th>\n",
              "      <th>eeg_fp2</th>\n",
              "      <th>eeg_o1</th>\n",
              "      <th>eeg_p3</th>\n",
              "      <th>eeg_pz</th>\n",
              "      <th>eeg_f3</th>\n",
              "      <th>eeg_fz</th>\n",
              "      <th>eeg_f4</th>\n",
              "      <th>eeg_c4</th>\n",
              "      <th>eeg_p4</th>\n",
              "      <th>eeg_poz</th>\n",
              "      <th>eeg_c3</th>\n",
              "      <th>eeg_cz</th>\n",
              "      <th>eeg_o2</th>\n",
              "      <th>ecg</th>\n",
              "      <th>r</th>\n",
              "      <th>gsr</th>\n",
              "    </tr>\n",
              "  </thead>\n",
              "  <tbody>\n",
              "    <tr>\n",
              "      <th>0</th>\n",
              "      <td>1</td>\n",
              "      <td>0.011719</td>\n",
              "      <td>1</td>\n",
              "      <td>-5.285156</td>\n",
              "      <td>26.781250</td>\n",
              "      <td>-9.523438</td>\n",
              "      <td>-12.796875</td>\n",
              "      <td>16.718750</td>\n",
              "      <td>33.75000</td>\n",
              "      <td>23.718750</td>\n",
              "      <td>-6.695312</td>\n",
              "      <td>29.234375</td>\n",
              "      <td>24.843750</td>\n",
              "      <td>3.921875</td>\n",
              "      <td>18.453125</td>\n",
              "      <td>1.075195</td>\n",
              "      <td>3.089844</td>\n",
              "      <td>37.375000</td>\n",
              "      <td>17.437500</td>\n",
              "      <td>19.203125</td>\n",
              "      <td>20.593750</td>\n",
              "      <td>-3.951172</td>\n",
              "      <td>14.507812</td>\n",
              "      <td>-4520.0</td>\n",
              "      <td>817.5</td>\n",
              "      <td>388.75</td>\n",
              "    </tr>\n",
              "    <tr>\n",
              "      <th>1</th>\n",
              "      <td>1</td>\n",
              "      <td>0.015625</td>\n",
              "      <td>1</td>\n",
              "      <td>-2.427734</td>\n",
              "      <td>28.437500</td>\n",
              "      <td>-9.320312</td>\n",
              "      <td>-3.757812</td>\n",
              "      <td>15.968750</td>\n",
              "      <td>30.43750</td>\n",
              "      <td>21.015625</td>\n",
              "      <td>-6.476562</td>\n",
              "      <td>26.640625</td>\n",
              "      <td>24.140625</td>\n",
              "      <td>5.468750</td>\n",
              "      <td>20.515625</td>\n",
              "      <td>2.833984</td>\n",
              "      <td>7.101562</td>\n",
              "      <td>31.171875</td>\n",
              "      <td>19.406250</td>\n",
              "      <td>19.687500</td>\n",
              "      <td>21.359375</td>\n",
              "      <td>1.332031</td>\n",
              "      <td>17.750000</td>\n",
              "      <td>-4520.0</td>\n",
              "      <td>817.5</td>\n",
              "      <td>388.75</td>\n",
              "    </tr>\n",
              "    <tr>\n",
              "      <th>2</th>\n",
              "      <td>1</td>\n",
              "      <td>0.019531</td>\n",
              "      <td>1</td>\n",
              "      <td>10.671875</td>\n",
              "      <td>30.421875</td>\n",
              "      <td>15.351562</td>\n",
              "      <td>24.718750</td>\n",
              "      <td>16.140625</td>\n",
              "      <td>32.15625</td>\n",
              "      <td>25.437500</td>\n",
              "      <td>-0.088684</td>\n",
              "      <td>28.125000</td>\n",
              "      <td>26.890625</td>\n",
              "      <td>8.578125</td>\n",
              "      <td>23.156250</td>\n",
              "      <td>4.519531</td>\n",
              "      <td>12.703125</td>\n",
              "      <td>-12.015625</td>\n",
              "      <td>19.390625</td>\n",
              "      <td>23.171875</td>\n",
              "      <td>22.406250</td>\n",
              "      <td>1.538086</td>\n",
              "      <td>22.250000</td>\n",
              "      <td>-4520.0</td>\n",
              "      <td>817.5</td>\n",
              "      <td>388.75</td>\n",
              "    </tr>\n",
              "    <tr>\n",
              "      <th>3</th>\n",
              "      <td>1</td>\n",
              "      <td>0.023438</td>\n",
              "      <td>1</td>\n",
              "      <td>11.453125</td>\n",
              "      <td>25.609375</td>\n",
              "      <td>2.433594</td>\n",
              "      <td>12.414062</td>\n",
              "      <td>20.531250</td>\n",
              "      <td>31.50000</td>\n",
              "      <td>19.140625</td>\n",
              "      <td>-0.256592</td>\n",
              "      <td>30.656250</td>\n",
              "      <td>24.250000</td>\n",
              "      <td>8.640625</td>\n",
              "      <td>19.968750</td>\n",
              "      <td>7.277344</td>\n",
              "      <td>11.460938</td>\n",
              "      <td>18.578125</td>\n",
              "      <td>23.156250</td>\n",
              "      <td>22.640625</td>\n",
              "      <td>19.343750</td>\n",
              "      <td>2.544922</td>\n",
              "      <td>19.000000</td>\n",
              "      <td>-4520.0</td>\n",
              "      <td>817.5</td>\n",
              "      <td>388.75</td>\n",
              "    </tr>\n",
              "    <tr>\n",
              "      <th>4</th>\n",
              "      <td>1</td>\n",
              "      <td>0.027344</td>\n",
              "      <td>1</td>\n",
              "      <td>7.285156</td>\n",
              "      <td>25.937500</td>\n",
              "      <td>0.113586</td>\n",
              "      <td>5.746094</td>\n",
              "      <td>19.828125</td>\n",
              "      <td>28.75000</td>\n",
              "      <td>20.578125</td>\n",
              "      <td>-1.953125</td>\n",
              "      <td>31.718750</td>\n",
              "      <td>25.156250</td>\n",
              "      <td>12.500000</td>\n",
              "      <td>18.750000</td>\n",
              "      <td>7.308594</td>\n",
              "      <td>8.007812</td>\n",
              "      <td>6.554688</td>\n",
              "      <td>22.750000</td>\n",
              "      <td>22.671875</td>\n",
              "      <td>20.296875</td>\n",
              "      <td>1.699219</td>\n",
              "      <td>22.812500</td>\n",
              "      <td>-4520.0</td>\n",
              "      <td>817.5</td>\n",
              "      <td>388.75</td>\n",
              "    </tr>\n",
              "  </tbody>\n",
              "</table>\n",
              "</div>"
            ],
            "text/plain": [
              "   crew      time  seat    eeg_fp1  ...     eeg_o2     ecg      r     gsr\n",
              "0     1  0.011719     1  -5.285156  ...  14.507812 -4520.0  817.5  388.75\n",
              "1     1  0.015625     1  -2.427734  ...  17.750000 -4520.0  817.5  388.75\n",
              "2     1  0.019531     1  10.671875  ...  22.250000 -4520.0  817.5  388.75\n",
              "3     1  0.023438     1  11.453125  ...  19.000000 -4520.0  817.5  388.75\n",
              "4     1  0.027344     1   7.285156  ...  22.812500 -4520.0  817.5  388.75\n",
              "\n",
              "[5 rows x 26 columns]"
            ]
          },
          "metadata": {
            "tags": []
          },
          "execution_count": 5
        }
      ]
    },
    {
      "cell_type": "markdown",
      "metadata": {
        "id": "nIzAzJlTyXrs",
        "colab_type": "text"
      },
      "source": [
        "# ***Naive Bayes***"
      ]
    },
    {
      "cell_type": "code",
      "metadata": {
        "id": "i95F2hdQy0uj",
        "colab_type": "code",
        "colab": {}
      },
      "source": [
        "from sklearn.model_selection import train_test_split\n",
        "X_train,X_test,y_train,y_test = train_test_split(train,y,test_size =0.2, random_state=40)"
      ],
      "execution_count": null,
      "outputs": []
    },
    {
      "cell_type": "code",
      "metadata": {
        "id": "M_w3_OdtzGwy",
        "colab_type": "code",
        "colab": {
          "base_uri": "https://localhost:8080/",
          "height": 85
        },
        "outputId": "c3152467-6512-4c75-e6ad-b9109c1a87d3"
      },
      "source": [
        "print(X_train.shape)\n",
        "print(X_test.shape)\n",
        "print(y_train.shape)\n",
        "print(y_test.shape)"
      ],
      "execution_count": null,
      "outputs": [
        {
          "output_type": "stream",
          "text": [
            "(3893936, 26)\n",
            "(973485, 26)\n",
            "(3893936,)\n",
            "(973485,)\n"
          ],
          "name": "stdout"
        }
      ]
    },
    {
      "cell_type": "code",
      "metadata": {
        "id": "O2NjiI6IyUoN",
        "colab_type": "code",
        "colab": {
          "base_uri": "https://localhost:8080/",
          "height": 1000
        },
        "outputId": "cb428a92-eee2-4a95-929c-487baf034a28"
      },
      "source": [
        "from sklearn.naive_bayes import MultinomialNB\n",
        "from sklearn.model_selection import RandomizedSearchCV \n",
        "param_dist = {\"alpha\" :[0.0000001,0.000001,0.00001,0.0001,0.001,0.01,0.1,1]} \n",
        "nb = MultinomialNB()\n",
        "rsc = RandomizedSearchCV(nb,param_dist,cv=4,verbose=500)\n",
        "rsc.fit(X_train,y_train)\n",
        "print(\"Tuned Multinomial Niave Bayes Parameters: {}\".format(rsc.best_params_)) \n",
        "print(\"Best score is {}\".format(rsc.best_score_)) "
      ],
      "execution_count": null,
      "outputs": [
        {
          "output_type": "stream",
          "text": [
            "Fitting 4 folds for each of 8 candidates, totalling 32 fits\n",
            "[Parallel(n_jobs=1)]: Using backend SequentialBackend with 1 concurrent workers.\n",
            "[CV] alpha=1e-07 .....................................................\n",
            "[CV] ......................... alpha=1e-07, score=0.585, total=   2.5s\n",
            "[Parallel(n_jobs=1)]: Done   1 out of   1 | elapsed:    2.5s remaining:    0.0s\n",
            "[CV] alpha=1e-07 .....................................................\n",
            "[CV] ......................... alpha=1e-07, score=0.585, total=   2.4s\n",
            "[Parallel(n_jobs=1)]: Done   2 out of   2 | elapsed:    4.9s remaining:    0.0s\n",
            "[CV] alpha=1e-07 .....................................................\n",
            "[CV] ......................... alpha=1e-07, score=0.585, total=   2.4s\n",
            "[Parallel(n_jobs=1)]: Done   3 out of   3 | elapsed:    7.3s remaining:    0.0s\n",
            "[CV] alpha=1e-07 .....................................................\n",
            "[CV] ......................... alpha=1e-07, score=0.585, total=   2.4s\n",
            "[Parallel(n_jobs=1)]: Done   4 out of   4 | elapsed:    9.7s remaining:    0.0s\n",
            "[CV] alpha=1e-06 .....................................................\n",
            "[CV] ......................... alpha=1e-06, score=0.585, total=   2.4s\n",
            "[Parallel(n_jobs=1)]: Done   5 out of   5 | elapsed:   12.2s remaining:    0.0s\n",
            "[CV] alpha=1e-06 .....................................................\n",
            "[CV] ......................... alpha=1e-06, score=0.585, total=   2.4s\n",
            "[Parallel(n_jobs=1)]: Done   6 out of   6 | elapsed:   14.6s remaining:    0.0s\n",
            "[CV] alpha=1e-06 .....................................................\n",
            "[CV] ......................... alpha=1e-06, score=0.585, total=   2.4s\n",
            "[Parallel(n_jobs=1)]: Done   7 out of   7 | elapsed:   17.0s remaining:    0.0s\n",
            "[CV] alpha=1e-06 .....................................................\n",
            "[CV] ......................... alpha=1e-06, score=0.585, total=   2.4s\n",
            "[Parallel(n_jobs=1)]: Done   8 out of   8 | elapsed:   19.5s remaining:    0.0s\n",
            "[CV] alpha=1e-05 .....................................................\n",
            "[CV] ......................... alpha=1e-05, score=0.585, total=   2.5s\n",
            "[Parallel(n_jobs=1)]: Done   9 out of   9 | elapsed:   21.9s remaining:    0.0s\n",
            "[CV] alpha=1e-05 .....................................................\n",
            "[CV] ......................... alpha=1e-05, score=0.585, total=   2.5s\n",
            "[Parallel(n_jobs=1)]: Done  10 out of  10 | elapsed:   24.4s remaining:    0.0s\n",
            "[CV] alpha=1e-05 .....................................................\n",
            "[CV] ......................... alpha=1e-05, score=0.585, total=   2.5s\n",
            "[Parallel(n_jobs=1)]: Done  11 out of  11 | elapsed:   26.8s remaining:    0.0s\n",
            "[CV] alpha=1e-05 .....................................................\n",
            "[CV] ......................... alpha=1e-05, score=0.585, total=   2.4s\n",
            "[Parallel(n_jobs=1)]: Done  12 out of  12 | elapsed:   29.3s remaining:    0.0s\n",
            "[CV] alpha=0.0001 ....................................................\n",
            "[CV] ........................ alpha=0.0001, score=0.585, total=   2.4s\n",
            "[Parallel(n_jobs=1)]: Done  13 out of  13 | elapsed:   31.7s remaining:    0.0s\n",
            "[CV] alpha=0.0001 ....................................................\n",
            "[CV] ........................ alpha=0.0001, score=0.585, total=   2.4s\n",
            "[Parallel(n_jobs=1)]: Done  14 out of  14 | elapsed:   34.1s remaining:    0.0s\n",
            "[CV] alpha=0.0001 ....................................................\n",
            "[CV] ........................ alpha=0.0001, score=0.585, total=   2.4s\n",
            "[Parallel(n_jobs=1)]: Done  15 out of  15 | elapsed:   36.6s remaining:    0.0s\n",
            "[CV] alpha=0.0001 ....................................................\n",
            "[CV] ........................ alpha=0.0001, score=0.585, total=   2.4s\n",
            "[Parallel(n_jobs=1)]: Done  16 out of  16 | elapsed:   39.0s remaining:    0.0s\n",
            "[CV] alpha=0.001 .....................................................\n",
            "[CV] ......................... alpha=0.001, score=0.585, total=   2.4s\n",
            "[Parallel(n_jobs=1)]: Done  17 out of  17 | elapsed:   41.4s remaining:    0.0s\n",
            "[CV] alpha=0.001 .....................................................\n",
            "[CV] ......................... alpha=0.001, score=0.585, total=   2.4s\n",
            "[Parallel(n_jobs=1)]: Done  18 out of  18 | elapsed:   43.8s remaining:    0.0s\n",
            "[CV] alpha=0.001 .....................................................\n",
            "[CV] ......................... alpha=0.001, score=0.585, total=   2.4s\n",
            "[Parallel(n_jobs=1)]: Done  19 out of  19 | elapsed:   46.2s remaining:    0.0s\n",
            "[CV] alpha=0.001 .....................................................\n",
            "[CV] ......................... alpha=0.001, score=0.585, total=   2.4s\n",
            "[Parallel(n_jobs=1)]: Done  20 out of  20 | elapsed:   48.6s remaining:    0.0s\n",
            "[CV] alpha=0.01 ......................................................\n",
            "[CV] .......................... alpha=0.01, score=0.585, total=   2.4s\n",
            "[Parallel(n_jobs=1)]: Done  21 out of  21 | elapsed:   51.1s remaining:    0.0s\n",
            "[CV] alpha=0.01 ......................................................\n",
            "[CV] .......................... alpha=0.01, score=0.585, total=   2.4s\n",
            "[Parallel(n_jobs=1)]: Done  22 out of  22 | elapsed:   53.5s remaining:    0.0s\n",
            "[CV] alpha=0.01 ......................................................\n",
            "[CV] .......................... alpha=0.01, score=0.585, total=   2.4s\n",
            "[Parallel(n_jobs=1)]: Done  23 out of  23 | elapsed:   55.9s remaining:    0.0s\n",
            "[CV] alpha=0.01 ......................................................\n",
            "[CV] .......................... alpha=0.01, score=0.585, total=   2.4s\n",
            "[Parallel(n_jobs=1)]: Done  24 out of  24 | elapsed:   58.3s remaining:    0.0s\n",
            "[CV] alpha=0.1 .......................................................\n",
            "[CV] ........................... alpha=0.1, score=0.585, total=   2.4s\n",
            "[Parallel(n_jobs=1)]: Done  25 out of  25 | elapsed:  1.0min remaining:    0.0s\n",
            "[CV] alpha=0.1 .......................................................\n",
            "[CV] ........................... alpha=0.1, score=0.585, total=   2.5s\n",
            "[Parallel(n_jobs=1)]: Done  26 out of  26 | elapsed:  1.1min remaining:    0.0s\n",
            "[CV] alpha=0.1 .......................................................\n",
            "[CV] ........................... alpha=0.1, score=0.585, total=   2.4s\n",
            "[Parallel(n_jobs=1)]: Done  27 out of  27 | elapsed:  1.1min remaining:    0.0s\n",
            "[CV] alpha=0.1 .......................................................\n",
            "[CV] ........................... alpha=0.1, score=0.585, total=   2.4s\n",
            "[Parallel(n_jobs=1)]: Done  28 out of  28 | elapsed:  1.1min remaining:    0.0s\n",
            "[CV] alpha=1 .........................................................\n",
            "[CV] ............................. alpha=1, score=0.585, total=   2.4s\n",
            "[Parallel(n_jobs=1)]: Done  29 out of  29 | elapsed:  1.2min remaining:    0.0s\n",
            "[CV] alpha=1 .........................................................\n",
            "[CV] ............................. alpha=1, score=0.585, total=   2.4s\n",
            "[Parallel(n_jobs=1)]: Done  30 out of  30 | elapsed:  1.2min remaining:    0.0s\n",
            "[CV] alpha=1 .........................................................\n",
            "[CV] ............................. alpha=1, score=0.585, total=   2.4s\n",
            "[Parallel(n_jobs=1)]: Done  31 out of  31 | elapsed:  1.3min remaining:    0.0s\n",
            "[CV] alpha=1 .........................................................\n",
            "[CV] ............................. alpha=1, score=0.585, total=   2.4s\n",
            "[Parallel(n_jobs=1)]: Done  32 out of  32 | elapsed:  1.3min remaining:    0.0s\n",
            "[Parallel(n_jobs=1)]: Done  32 out of  32 | elapsed:  1.3min finished\n",
            "Tuned Multinomial Niave Bayes Parameters: {'alpha': 1e-07}\n",
            "Best score is 0.5852497318908169\n"
          ],
          "name": "stdout"
        }
      ]
    },
    {
      "cell_type": "code",
      "metadata": {
        "id": "mxwqaVS-znLq",
        "colab_type": "code",
        "colab": {
          "base_uri": "https://localhost:8080/",
          "height": 34
        },
        "outputId": "b7098eb0-f051-432f-f9a5-d11b219df506"
      },
      "source": [
        "from sklearn.metrics import accuracy_score,log_loss,confusion_matrix\n",
        "clf = MultinomialNB(alpha=1e-07)\n",
        "clf = clf.fit(X_train,y_train)\n",
        "y_pred = clf.predict_proba(X_test)\n",
        "print(log_loss(y_test,y_pred))"
      ],
      "execution_count": null,
      "outputs": [
        {
          "output_type": "stream",
          "text": [
            "0.9223443374768153\n"
          ],
          "name": "stdout"
        }
      ]
    },
    {
      "cell_type": "markdown",
      "metadata": {
        "id": "iZG7RzG8cRzb",
        "colab_type": "text"
      },
      "source": [
        "# **Logistic Regression**"
      ]
    },
    {
      "cell_type": "code",
      "metadata": {
        "id": "3mHSKHnialuS",
        "colab_type": "code",
        "colab": {
          "base_uri": "https://localhost:8080/",
          "height": 612
        },
        "outputId": "b7d537d4-5221-4b22-ce91-92e967e6dfa8"
      },
      "source": [
        "from sklearn.linear_model import LogisticRegression\n",
        "from tqdm.auto import tqdm\n",
        "from sklearn.model_selection import RandomizedSearchCV \n",
        "# from sklearn.multiclass import OneVsRestClassifier\n",
        "param_dist = {\"C\" : [0.001,0.01,0.1,1,10]}\n",
        "lr = LogisticRegression(multi_class='ovr')\n",
        "rsc = RandomizedSearchCV(lr,param_dist,cv=2,verbose=500,n_jobs=1)\n",
        "rsc.fit(X_train,y_train)\n",
        "print(\"Tuned Logistic Regression Parameters: {}\".format(rsc.best_params_)) \n",
        "print(\"Best score is {}\".format(rsc.best_score_)) "
      ],
      "execution_count": null,
      "outputs": [
        {
          "output_type": "stream",
          "text": [
            "Fitting 2 folds for each of 5 candidates, totalling 10 fits\n",
            "[Parallel(n_jobs=1)]: Using backend SequentialBackend with 1 concurrent workers.\n",
            "[CV] C=0.001 .........................................................\n",
            "[CV] ............................. C=0.001, score=0.583, total= 2.4min\n",
            "[Parallel(n_jobs=1)]: Done   1 out of   1 | elapsed:  2.4min remaining:    0.0s\n",
            "[CV] C=0.001 .........................................................\n",
            "[CV] ............................. C=0.001, score=0.583, total= 2.5min\n",
            "[Parallel(n_jobs=1)]: Done   2 out of   2 | elapsed:  4.9min remaining:    0.0s\n",
            "[CV] C=0.01 ..........................................................\n",
            "[CV] .............................. C=0.01, score=0.583, total= 2.4min\n",
            "[Parallel(n_jobs=1)]: Done   3 out of   3 | elapsed:  7.3min remaining:    0.0s\n",
            "[CV] C=0.01 ..........................................................\n",
            "[CV] .............................. C=0.01, score=0.582, total= 2.4min\n",
            "[Parallel(n_jobs=1)]: Done   4 out of   4 | elapsed:  9.7min remaining:    0.0s\n",
            "[CV] C=0.1 ...........................................................\n",
            "[CV] ............................... C=0.1, score=0.582, total= 2.4min\n",
            "[Parallel(n_jobs=1)]: Done   5 out of   5 | elapsed: 12.1min remaining:    0.0s\n",
            "[CV] C=0.1 ...........................................................\n",
            "[CV] ............................... C=0.1, score=0.583, total= 2.4min\n",
            "[Parallel(n_jobs=1)]: Done   6 out of   6 | elapsed: 14.5min remaining:    0.0s\n",
            "[CV] C=1 .............................................................\n",
            "[CV] ................................. C=1, score=0.582, total= 2.4min\n",
            "[Parallel(n_jobs=1)]: Done   7 out of   7 | elapsed: 16.9min remaining:    0.0s\n",
            "[CV] C=1 .............................................................\n",
            "[CV] ................................. C=1, score=0.583, total= 2.4min\n",
            "[Parallel(n_jobs=1)]: Done   8 out of   8 | elapsed: 19.3min remaining:    0.0s\n",
            "[CV] C=10 ............................................................\n",
            "[CV] ................................ C=10, score=0.582, total= 2.4min\n",
            "[Parallel(n_jobs=1)]: Done   9 out of   9 | elapsed: 21.7min remaining:    0.0s\n",
            "[CV] C=10 ............................................................\n",
            "[CV] ................................ C=10, score=0.582, total= 2.4min\n",
            "[Parallel(n_jobs=1)]: Done  10 out of  10 | elapsed: 24.1min remaining:    0.0s\n",
            "[Parallel(n_jobs=1)]: Done  10 out of  10 | elapsed: 24.1min finished\n",
            "Tuned Logistic Regression Parameters: {'C': 0.01}\n",
            "Best score is 0.5826544144536531\n"
          ],
          "name": "stdout"
        }
      ]
    },
    {
      "cell_type": "code",
      "metadata": {
        "id": "wZaNQgIzc0hr",
        "colab_type": "code",
        "colab": {
          "base_uri": "https://localhost:8080/",
          "height": 34
        },
        "outputId": "ee843268-3e40-48cf-9198-138982338948"
      },
      "source": [
        "clf = LogisticRegression(multi_class='ovr',C = 0.01)\n",
        "clf = clf.fit(X_train,y_train)\n",
        "pred= clf.predict_proba(X_test)\n",
        "print(log_loss(y_test,pred))"
      ],
      "execution_count": null,
      "outputs": [
        {
          "output_type": "stream",
          "text": [
            "0.9206174913509789\n"
          ],
          "name": "stdout"
        }
      ]
    },
    {
      "cell_type": "markdown",
      "metadata": {
        "id": "hsyWdacIk_75",
        "colab_type": "text"
      },
      "source": [
        "# **Decision Tree**"
      ]
    },
    {
      "cell_type": "markdown",
      "metadata": {
        "id": "_zcY9k2umT7g",
        "colab_type": "text"
      },
      "source": [
        ""
      ]
    },
    {
      "cell_type": "code",
      "metadata": {
        "id": "WDLZ5ymnjpoS",
        "colab_type": "code",
        "colab": {
          "base_uri": "https://localhost:8080/",
          "height": 202,
          "referenced_widgets": [
            "f5ca2d7b57884318a8535416394d87a2",
            "31d10e9efa3a4eadb39b0e1e616749f4",
            "d0b938ea42254c02babce75dd029504a",
            "2330bea13a1c4ed884cc56b075c580a3",
            "13f67a8701fd4a438b1e515b6744a664",
            "711f288b443c48b5b5cb676836afda9b",
            "7eddf78b52af4d40a443b3c68c227eef",
            "583b712e74ef4e0cab72881ea5fe262e"
          ]
        },
        "outputId": "4382f0c1-a658-4e34-df0c-eecae8c36696"
      },
      "source": [
        "from sklearn.tree import DecisionTreeClassifier\n",
        "from tqdm.auto import tqdm\n",
        "max_depth =  [10,100,200,300]\n",
        "for i in tqdm(max_depth):\n",
        "  print('depth is',i)\n",
        "  clf = DecisionTreeClassifier(max_depth=i)\n",
        "  clf.fit(X_train,y_train)\n",
        "  y_pred = clf.predict_proba(X_test)\n",
        "  print(log_loss(y_test,y_pred))"
      ],
      "execution_count": null,
      "outputs": [
        {
          "output_type": "display_data",
          "data": {
            "application/vnd.jupyter.widget-view+json": {
              "model_id": "f5ca2d7b57884318a8535416394d87a2",
              "version_minor": 0,
              "version_major": 2
            },
            "text/plain": [
              "HBox(children=(FloatProgress(value=0.0, max=4.0), HTML(value='')))"
            ]
          },
          "metadata": {
            "tags": []
          }
        },
        {
          "output_type": "stream",
          "text": [
            "depth is 10\n",
            "0.49245480396760244\n",
            "depth is 100\n",
            "0.04200774665411109\n",
            "depth is 200\n",
            "0.04179486955958013\n",
            "depth is 300\n",
            "0.042185144232886884\n",
            "\n"
          ],
          "name": "stdout"
        }
      ]
    },
    {
      "cell_type": "markdown",
      "metadata": {
        "id": "J8FETU0ApBMj",
        "colab_type": "text"
      },
      "source": [
        "Okay so we observed that the optimum depth size is 200 since it gives us least loss\n"
      ]
    },
    {
      "cell_type": "markdown",
      "metadata": {
        "id": "SNA8sXKoqD83",
        "colab_type": "text"
      },
      "source": [
        "I am taking the reference of the hyperparamter tuning form the previous model building notebook and training the data to see which one gives best result"
      ]
    },
    {
      "cell_type": "code",
      "metadata": {
        "id": "-AX7cKVxl1Tw",
        "colab_type": "code",
        "colab": {
          "base_uri": "https://localhost:8080/",
          "height": 428
        },
        "outputId": "76ce70e1-88d3-47f8-ef2c-0e3f859aa5ff"
      },
      "source": [
        "from sklearn.tree import DecisionTreeClassifier\n",
        "from sklearn.model_selection import RandomizedSearchCV \n",
        "param_dist = {\"max_depth\" : [200], \n",
        "              \"criterion\" : ['entropy'],\n",
        "              \"random_state\" : [40],\n",
        "              \"max_features\" : ['auto'],\n",
        "              \"max_leaf_nodes\" : [1500,2000,2500]\n",
        "              } \n",
        "dtc = DecisionTreeClassifier()\n",
        "rsc = RandomizedSearchCV(dtc,param_dist,cv=2,verbose=500)\n",
        "rsc.fit(X_train,y_train)\n",
        "print(\"Tuned Decision Tree Parameters: {}\".format(rsc.best_params_)) \n",
        "print(\"Best score is {}\".format(rsc.best_score_)) "
      ],
      "execution_count": null,
      "outputs": [
        {
          "output_type": "stream",
          "text": [
            "Fitting 2 folds for each of 3 candidates, totalling 6 fits\n",
            "[Parallel(n_jobs=1)]: Using backend SequentialBackend with 1 concurrent workers.\n",
            "[CV] random_state=40, max_leaf_nodes=1500, max_features=auto, max_depth=200, criterion=entropy \n",
            "[CV]  random_state=40, max_leaf_nodes=1500, max_features=auto, max_depth=200, criterion=entropy, score=0.888, total=  22.2s\n",
            "[Parallel(n_jobs=1)]: Done   1 out of   1 | elapsed:   22.2s remaining:    0.0s\n",
            "[CV] random_state=40, max_leaf_nodes=1500, max_features=auto, max_depth=200, criterion=entropy \n",
            "[CV]  random_state=40, max_leaf_nodes=1500, max_features=auto, max_depth=200, criterion=entropy, score=0.873, total=  22.9s\n",
            "[Parallel(n_jobs=1)]: Done   2 out of   2 | elapsed:   45.0s remaining:    0.0s\n",
            "[CV] random_state=40, max_leaf_nodes=2000, max_features=auto, max_depth=200, criterion=entropy \n",
            "[CV]  random_state=40, max_leaf_nodes=2000, max_features=auto, max_depth=200, criterion=entropy, score=0.898, total=  23.2s\n",
            "[Parallel(n_jobs=1)]: Done   3 out of   3 | elapsed:  1.1min remaining:    0.0s\n",
            "[CV] random_state=40, max_leaf_nodes=2000, max_features=auto, max_depth=200, criterion=entropy \n",
            "[CV]  random_state=40, max_leaf_nodes=2000, max_features=auto, max_depth=200, criterion=entropy, score=0.884, total=  23.4s\n",
            "[Parallel(n_jobs=1)]: Done   4 out of   4 | elapsed:  1.5min remaining:    0.0s\n",
            "[CV] random_state=40, max_leaf_nodes=2500, max_features=auto, max_depth=200, criterion=entropy \n",
            "[CV]  random_state=40, max_leaf_nodes=2500, max_features=auto, max_depth=200, criterion=entropy, score=0.905, total=  23.8s\n",
            "[Parallel(n_jobs=1)]: Done   5 out of   5 | elapsed:  1.9min remaining:    0.0s\n",
            "[CV] random_state=40, max_leaf_nodes=2500, max_features=auto, max_depth=200, criterion=entropy \n",
            "[CV]  random_state=40, max_leaf_nodes=2500, max_features=auto, max_depth=200, criterion=entropy, score=0.891, total=  24.2s\n",
            "[Parallel(n_jobs=1)]: Done   6 out of   6 | elapsed:  2.3min remaining:    0.0s\n",
            "[Parallel(n_jobs=1)]: Done   6 out of   6 | elapsed:  2.3min finished\n",
            "Tuned Decision Tree Parameters: {'random_state': 40, 'max_leaf_nodes': 2500, 'max_features': 'auto', 'max_depth': 200, 'criterion': 'entropy'}\n",
            "Best score is 0.8984171799433787\n"
          ],
          "name": "stdout"
        }
      ]
    },
    {
      "cell_type": "code",
      "metadata": {
        "id": "cU908UOBpSPj",
        "colab_type": "code",
        "colab": {
          "base_uri": "https://localhost:8080/",
          "height": 197
        },
        "outputId": "f1b0bbdb-288c-4e96-8640-016a95e75b0c"
      },
      "source": [
        "clf = DecisionTreeClassifier(max_depth = 200, criterion= 'entropy', max_leaf_nodes = None, random_state = 40)\n",
        "clf = clf.fit(X_train,y_train)\n",
        "pred = clf.predict_proba(X_test)\n"
      ],
      "execution_count": null,
      "outputs": [
        {
          "output_type": "error",
          "ename": "NameError",
          "evalue": "ignored",
          "traceback": [
            "\u001b[0;31m---------------------------------------------------------------------------\u001b[0m",
            "\u001b[0;31mNameError\u001b[0m                                 Traceback (most recent call last)",
            "\u001b[0;32m<ipython-input-14-8faef9408baf>\u001b[0m in \u001b[0;36m<module>\u001b[0;34m()\u001b[0m\n\u001b[1;32m      2\u001b[0m \u001b[0mclf\u001b[0m \u001b[0;34m=\u001b[0m \u001b[0mclf\u001b[0m\u001b[0;34m.\u001b[0m\u001b[0mfit\u001b[0m\u001b[0;34m(\u001b[0m\u001b[0mX_train\u001b[0m\u001b[0;34m,\u001b[0m\u001b[0my_train\u001b[0m\u001b[0;34m)\u001b[0m\u001b[0;34m\u001b[0m\u001b[0;34m\u001b[0m\u001b[0m\n\u001b[1;32m      3\u001b[0m \u001b[0mpred\u001b[0m \u001b[0;34m=\u001b[0m \u001b[0mclf\u001b[0m\u001b[0;34m.\u001b[0m\u001b[0mpredict_proba\u001b[0m\u001b[0;34m(\u001b[0m\u001b[0mX_test\u001b[0m\u001b[0;34m)\u001b[0m\u001b[0;34m\u001b[0m\u001b[0;34m\u001b[0m\u001b[0m\n\u001b[0;32m----> 4\u001b[0;31m \u001b[0mprint\u001b[0m\u001b[0;34m(\u001b[0m\u001b[0mlog_loss\u001b[0m\u001b[0;34m(\u001b[0m\u001b[0my_cv\u001b[0m\u001b[0;34m,\u001b[0m\u001b[0mpred\u001b[0m\u001b[0;34m)\u001b[0m\u001b[0;34m)\u001b[0m\u001b[0;34m\u001b[0m\u001b[0;34m\u001b[0m\u001b[0m\n\u001b[0m",
            "\u001b[0;31mNameError\u001b[0m: name 'y_cv' is not defined"
          ]
        }
      ]
    },
    {
      "cell_type": "code",
      "metadata": {
        "id": "Txrw4fY4rXJ_",
        "colab_type": "code",
        "colab": {
          "base_uri": "https://localhost:8080/",
          "height": 34
        },
        "outputId": "8f2baf4c-e708-4fa9-fcdf-781c7b44990d"
      },
      "source": [
        "print(log_loss(y_test,pred))"
      ],
      "execution_count": null,
      "outputs": [
        {
          "output_type": "stream",
          "text": [
            "0.021429627516119047\n"
          ],
          "name": "stdout"
        }
      ]
    },
    {
      "cell_type": "code",
      "metadata": {
        "id": "wUtzbnVX6Cvc",
        "colab_type": "code",
        "colab": {
          "base_uri": "https://localhost:8080/",
          "height": 119
        },
        "outputId": "5043dab9-ef1e-4f39-f166-6477e33594dc"
      },
      "source": [
        "from sklearn.tree import DecisionTreeClassifier\n",
        "clf = DecisionTreeClassifier(max_depth = 200,criterion = 'entropy', random_state=40)\n",
        "clf.fit(X_train,y_train)\n"
      ],
      "execution_count": null,
      "outputs": [
        {
          "output_type": "execute_result",
          "data": {
            "text/plain": [
              "DecisionTreeClassifier(ccp_alpha=0.0, class_weight=None, criterion='entropy',\n",
              "                       max_depth=200, max_features=None, max_leaf_nodes=None,\n",
              "                       min_impurity_decrease=0.0, min_impurity_split=None,\n",
              "                       min_samples_leaf=1, min_samples_split=2,\n",
              "                       min_weight_fraction_leaf=0.0, presort='deprecated',\n",
              "                       random_state=40, splitter='best')"
            ]
          },
          "metadata": {
            "tags": []
          },
          "execution_count": 8
        }
      ]
    },
    {
      "cell_type": "code",
      "metadata": {
        "id": "Iv8jszq56YOX",
        "colab_type": "code",
        "colab": {
          "base_uri": "https://localhost:8080/",
          "height": 34
        },
        "outputId": "1e54203a-73b6-4c28-e8e8-69c823d91577"
      },
      "source": [
        "import joblib\n",
        "# joblib.dump(clf,'decision_tree.pkl')"
      ],
      "execution_count": null,
      "outputs": [
        {
          "output_type": "execute_result",
          "data": {
            "text/plain": [
              "['decision_tree.pkl']"
            ]
          },
          "metadata": {
            "tags": []
          },
          "execution_count": 12
        }
      ]
    },
    {
      "cell_type": "code",
      "metadata": {
        "id": "hSzGW3HQ98KR",
        "colab_type": "code",
        "colab": {}
      },
      "source": [
        "import joblib\n",
        "clf = joblib.load('decision_tree.pkl')\n",
        "# clf.predict_pro"
      ],
      "execution_count": null,
      "outputs": []
    },
    {
      "cell_type": "code",
      "metadata": {
        "id": "pGmytOwh-H_Z",
        "colab_type": "code",
        "colab": {}
      },
      "source": [
        "y_pred = clf.predict_proba(test)"
      ],
      "execution_count": null,
      "outputs": []
    },
    {
      "cell_type": "markdown",
      "metadata": {
        "id": "pjEvd6q6ru86",
        "colab_type": "text"
      },
      "source": [
        "# **LightGBM**"
      ]
    },
    {
      "cell_type": "markdown",
      "metadata": {
        "id": "RfomvVmUSPwJ",
        "colab_type": "text"
      },
      "source": [
        "For Lightgbm I am not dropping the experiment feature since the I tried it by dropping that feature but I didnt get very good result."
      ]
    },
    {
      "cell_type": "code",
      "metadata": {
        "id": "inLWFz8YsCMT",
        "colab_type": "code",
        "colab": {
          "base_uri": "https://localhost:8080/",
          "height": 34
        },
        "outputId": "961dcbf8-1e6d-440c-e0e7-ee5ccd269041"
      },
      "source": [
        "train, train_test, y, y_test = train_test_split(train, y, test_size=0.25, shuffle=False)\n",
        "train = lgb.Dataset(train, label=y,categorical_feature=[1])\n",
        "del y\n",
        "gc.collect()\n",
        "\n",
        "\n",
        "train_test = lgb.Dataset(train_test, label=y_test,categorical_feature=[1])\n",
        "del y_test\n",
        "gc.collect()"
      ],
      "execution_count": null,
      "outputs": [
        {
          "output_type": "execute_result",
          "data": {
            "text/plain": [
              "0"
            ]
          },
          "metadata": {
            "tags": []
          },
          "execution_count": 3
        }
      ]
    },
    {
      "cell_type": "code",
      "metadata": {
        "id": "BR0D5IcZrmmY",
        "colab_type": "code",
        "colab": {
          "base_uri": "https://localhost:8080/",
          "height": 153
        },
        "outputId": "371d855b-4d78-4f95-d876-9bc7a1a5131b"
      },
      "source": [
        "params = {\n",
        "        \"objective\" : \"multiclass\", \n",
        "        \"metric\" : \"multi_error\", \n",
        "        'num_class':4,\n",
        "        \"num_leaves\" : 30, \n",
        "        \"learning_rate\" : 0.01, \n",
        "        \"bagging_fraction\" : 0.9,\n",
        "        \"bagging_seed\" : 0, \n",
        "        \"num_threads\" : 4,\n",
        "        \"colsample_bytree\" : 0.5,\n",
        "        'min_data_in_leaf':100, \n",
        "        'min_split_gain':0.00019\n",
        "}\n",
        "model = lgb.train(  params, \n",
        "                    train_set = train,\n",
        "                    num_boost_round=2000,\n",
        "                    early_stopping_rounds=200,\n",
        "                    verbose_eval=100, \n",
        "                    valid_sets=[train,train_test]\n",
        "                  )"
      ],
      "execution_count": null,
      "outputs": [
        {
          "output_type": "stream",
          "text": [
            "Training until validation scores don't improve for 200 rounds.\n",
            "[100]\ttraining's multi_error: 0.0732298\tvalid_1's multi_error: 0.150007\n",
            "[200]\ttraining's multi_error: 0.0513315\tvalid_1's multi_error: 0.0836788\n",
            "[300]\ttraining's multi_error: 0.0446361\tvalid_1's multi_error: 0.0819834\n",
            "[400]\ttraining's multi_error: 0.0376761\tvalid_1's multi_error: 0.0810803\n",
            "[500]\ttraining's multi_error: 0.0339035\tvalid_1's multi_error: 0.0818256\n",
            "Early stopping, best iteration is:\n",
            "[392]\ttraining's multi_error: 0.0380341\tvalid_1's multi_error: 0.08098\n"
          ],
          "name": "stdout"
        }
      ]
    },
    {
      "cell_type": "code",
      "metadata": {
        "id": "FOpUNQOWqcdn",
        "colab_type": "code",
        "colab": {
          "base_uri": "https://localhost:8080/",
          "height": 316
        },
        "outputId": "992c80bd-3dab-49f3-f5eb-1c923d54b6ca"
      },
      "source": [
        "lgb.plot_importance(model)"
      ],
      "execution_count": null,
      "outputs": [
        {
          "output_type": "execute_result",
          "data": {
            "text/plain": [
              "<matplotlib.axes._subplots.AxesSubplot at 0x7f5ba1e27470>"
            ]
          },
          "metadata": {
            "tags": []
          },
          "execution_count": 5
        },
        {
          "output_type": "display_data",
          "data": {
            "image/png": "[encoded data removed]",
            "text/plain": [
              "<Figure size 432x288 with 1 Axes>"
            ]
          },
          "metadata": {
            "tags": [],
            "needs_background": "light"
          }
        }
      ]
    },
    {
      "cell_type": "code",
      "metadata": {
        "id": "T7rnPeBLsOew",
        "colab_type": "code",
        "colab": {
          "base_uri": "https://localhost:8080/",
          "height": 1000
        },
        "outputId": "2eb5af74-58d8-439f-81be-405283f27b15"
      },
      "source": [
        "lgb.create_tree_digraph(model)"
      ],
      "execution_count": null,
      "outputs": [
        {
          "output_type": "execute_result",
          "data": {
            "text/plain": [
              "<graphviz.dot.Digraph at 0x7f5b9bdc56d8>"
            ],
            "image/svg+xml": "<?xml version=\"1.0\" encoding=\"UTF-8\" standalone=\"no\"?>\n<!DOCTYPE svg PUBLIC \"-//W3C//DTD SVG 1.1//EN\"\n \"http://www.w3.org/Graphics/SVG/1.1/DTD/svg11.dtd\">\n<!-- Generated by graphviz version 2.40.1 (20161225.0304)\n -->\n<!-- Title: %3 Pages: 1 -->\n<svg width=\"4161pt\" height=\"1319pt\"\n viewBox=\"0.00 0.00 4161.30 1318.62\" xmlns=\"http://www.w3.org/2000/svg\" xmlns:xlink=\"http://www.w3.org/1999/xlink\">\n<g id=\"graph0\" class=\"graph\" transform=\"scale(1 1) rotate(0) translate(4 1314.6215)\">\n<title>%3</title>\n<polygon fill=\"#ffffff\" stroke=\"transparent\" points=\"-4,4 -4,-1314.6215 4157.2986,-1314.6215 4157.2986,4 -4,4\"/>\n<!-- split0 -->\n<g id=\"node1\" class=\"node\">\n<title>split0</title>\n<ellipse fill=\"none\" stroke=\"#000000\" cx=\"2539.1493\" cy=\"-1283.7514\" rx=\"150.7276\" ry=\"26.7407\"/>\n<text text-anchor=\"middle\" x=\"2539.1493\" y=\"-1287.5514\" font-family=\"Times,serif\" font-size=\"14.00\" fill=\"#000000\">split_feature_name: ecg</text>\n<text text-anchor=\"middle\" x=\"2539.1493\" y=\"-1272.5514\" font-family=\"Times,serif\" font-size=\"14.00\" fill=\"#000000\">threshold: &#45;17271.999999999996</text>\n</g>\n<!-- leaf0 -->\n<g id=\"node2\" class=\"node\">\n<title>leaf0</title>\n<ellipse fill=\"none\" stroke=\"#000000\" cx=\"2519.1493\" cy=\"-1179.0113\" rx=\"154.2987\" ry=\"26.7407\"/>\n<text text-anchor=\"middle\" x=\"2519.1493\" y=\"-1182.8113\" font-family=\"Times,serif\" font-size=\"14.00\" fill=\"#000000\">leaf_index: 0</text>\n<text text-anchor=\"middle\" x=\"2519.1493\" y=\"-1167.8113\" font-family=\"Times,serif\" font-size=\"14.00\" fill=\"#000000\">leaf_value: &#45;0.5636503261170469</text>\n</g>\n<!-- split0&#45;&gt;leaf0 -->\n<g id=\"edge1\" class=\"edge\">\n<title>split0&#45;&gt;leaf0</title>\n<path fill=\"none\" stroke=\"#000000\" d=\"M2533.9988,-1256.7783C2531.6193,-1244.3166 2528.7564,-1229.3236 2526.182,-1215.8415\"/>\n<polygon fill=\"#000000\" stroke=\"#000000\" points=\"2529.5959,-1215.0591 2524.2823,-1205.8931 2522.7201,-1216.3721 2529.5959,-1215.0591\"/>\n<text text-anchor=\"middle\" x=\"2539.6493\" y=\"-1227.6814\" font-family=\"Times,serif\" font-size=\"14.00\" fill=\"#000000\">&lt;=</text>\n</g>\n<!-- split1 -->\n<g id=\"node3\" class=\"node\">\n<title>split1</title>\n<ellipse fill=\"none\" stroke=\"#000000\" cx=\"2838.1493\" cy=\"-1179.0113\" rx=\"147.1565\" ry=\"26.7407\"/>\n<text text-anchor=\"middle\" x=\"2838.1493\" y=\"-1182.8113\" font-family=\"Times,serif\" font-size=\"14.00\" fill=\"#000000\">split_feature_name: gsr</text>\n<text text-anchor=\"middle\" x=\"2838.1493\" y=\"-1167.8113\" font-family=\"Times,serif\" font-size=\"14.00\" fill=\"#000000\">threshold: 1109.5000000000002</text>\n</g>\n<!-- split0&#45;&gt;split1 -->\n<g id=\"edge58\" class=\"edge\">\n<title>split0&#45;&gt;split1</title>\n<path fill=\"none\" stroke=\"#000000\" d=\"M2607.7459,-1259.7219C2653.3131,-1243.7597 2713.2298,-1222.7708 2760.5401,-1206.1979\"/>\n<polygon fill=\"#000000\" stroke=\"#000000\" points=\"2761.8493,-1209.4479 2770.1299,-1202.8386 2759.5351,-1202.8415 2761.8493,-1209.4479\"/>\n<text text-anchor=\"middle\" x=\"2711.6493\" y=\"-1227.6814\" font-family=\"Times,serif\" font-size=\"14.00\" fill=\"#000000\">&gt;</text>\n</g>\n<!-- split3 -->\n<g id=\"node4\" class=\"node\">\n<title>split3</title>\n<ellipse fill=\"none\" stroke=\"#000000\" cx=\"2644.1493\" cy=\"-1074.2712\" rx=\"147.5709\" ry=\"26.7407\"/>\n<text text-anchor=\"middle\" x=\"2644.1493\" y=\"-1078.0712\" font-family=\"Times,serif\" font-size=\"14.00\" fill=\"#000000\">split_feature_name: ecg</text>\n<text text-anchor=\"middle\" x=\"2644.1493\" y=\"-1063.0712\" font-family=\"Times,serif\" font-size=\"14.00\" fill=\"#000000\">threshold: 18904.000000000004</text>\n</g>\n<!-- split1&#45;&gt;split3 -->\n<g id=\"edge36\" class=\"edge\">\n<title>split1&#45;&gt;split3</title>\n<path fill=\"none\" stroke=\"#000000\" d=\"M2790.6915,-1153.389C2763.4633,-1138.6886 2729.1159,-1120.1445 2700.5192,-1104.7052\"/>\n<polygon fill=\"#000000\" stroke=\"#000000\" points=\"2701.9151,-1101.4814 2691.4529,-1099.8103 2698.5895,-1107.641 2701.9151,-1101.4814\"/>\n<text text-anchor=\"middle\" x=\"2761.6493\" y=\"-1122.9413\" font-family=\"Times,serif\" font-size=\"14.00\" fill=\"#000000\">&lt;=</text>\n</g>\n<!-- split2 -->\n<g id=\"node39\" class=\"node\">\n<title>split2</title>\n<ellipse fill=\"none\" stroke=\"#000000\" cx=\"2968.1493\" cy=\"-1074.2712\" rx=\"147.5709\" ry=\"26.7407\"/>\n<text text-anchor=\"middle\" x=\"2968.1493\" y=\"-1078.0712\" font-family=\"Times,serif\" font-size=\"14.00\" fill=\"#000000\">split_feature_name: ecg</text>\n<text text-anchor=\"middle\" x=\"2968.1493\" y=\"-1063.0712\" font-family=\"Times,serif\" font-size=\"14.00\" fill=\"#000000\">threshold: 29256.000000000004</text>\n</g>\n<!-- split1&#45;&gt;split2 -->\n<g id=\"edge57\" class=\"edge\">\n<title>split1&#45;&gt;split2</title>\n<path fill=\"none\" stroke=\"#000000\" d=\"M2870.9538,-1152.581C2888.0434,-1138.8119 2909.1055,-1121.8424 2927.2491,-1107.2242\"/>\n<polygon fill=\"#000000\" stroke=\"#000000\" points=\"2929.7641,-1109.6926 2935.3553,-1100.6931 2925.3724,-1104.2416 2929.7641,-1109.6926\"/>\n<text text-anchor=\"middle\" x=\"2915.6493\" y=\"-1122.9413\" font-family=\"Times,serif\" font-size=\"14.00\" fill=\"#000000\">&gt;</text>\n</g>\n<!-- split4 -->\n<g id=\"node5\" class=\"node\">\n<title>split4</title>\n<ellipse fill=\"none\" stroke=\"#000000\" cx=\"2328.1493\" cy=\"-969.5311\" rx=\"142.257\" ry=\"26.7407\"/>\n<text text-anchor=\"middle\" x=\"2328.1493\" y=\"-973.3311\" font-family=\"Times,serif\" font-size=\"14.00\" fill=\"#000000\">split_feature_name: crew</text>\n<text text-anchor=\"middle\" x=\"2328.1493\" y=\"-958.3311\" font-family=\"Times,serif\" font-size=\"14.00\" fill=\"#000000\">threshold: 6.500000000000001</text>\n</g>\n<!-- split3&#45;&gt;split4 -->\n<g id=\"edge34\" class=\"edge\">\n<title>split3&#45;&gt;split4</title>\n<path fill=\"none\" stroke=\"#000000\" d=\"M2572.8387,-1050.6349C2523.9294,-1034.4236 2458.9685,-1012.8919 2408.2718,-996.0882\"/>\n<polygon fill=\"#000000\" stroke=\"#000000\" points=\"2409.249,-992.7249 2398.6556,-992.9009 2407.0466,-999.3694 2409.249,-992.7249\"/>\n<text text-anchor=\"middle\" x=\"2513.6493\" y=\"-1018.2012\" font-family=\"Times,serif\" font-size=\"14.00\" fill=\"#000000\">&lt;=</text>\n</g>\n<!-- leaf4 -->\n<g id=\"node38\" class=\"node\">\n<title>leaf4</title>\n<ellipse fill=\"none\" stroke=\"#000000\" cx=\"2644.1493\" cy=\"-969.5311\" rx=\"154.2987\" ry=\"26.7407\"/>\n<text text-anchor=\"middle\" x=\"2644.1493\" y=\"-973.3311\" font-family=\"Times,serif\" font-size=\"14.00\" fill=\"#000000\">leaf_index: 4</text>\n<text text-anchor=\"middle\" x=\"2644.1493\" y=\"-958.3311\" font-family=\"Times,serif\" font-size=\"14.00\" fill=\"#000000\">leaf_value: &#45;0.5460956716203085</text>\n</g>\n<!-- split3&#45;&gt;leaf4 -->\n<g id=\"edge35\" class=\"edge\">\n<title>split3&#45;&gt;leaf4</title>\n<path fill=\"none\" stroke=\"#000000\" d=\"M2644.1493,-1047.298C2644.1493,-1034.9586 2644.1493,-1020.1371 2644.1493,-1006.7582\"/>\n<polygon fill=\"#000000\" stroke=\"#000000\" points=\"2647.6494,-1006.4128 2644.1493,-996.4129 2640.6494,-1006.4129 2647.6494,-1006.4128\"/>\n<text text-anchor=\"middle\" x=\"2648.6493\" y=\"-1018.2012\" font-family=\"Times,serif\" font-size=\"14.00\" fill=\"#000000\">&gt;</text>\n</g>\n<!-- split14 -->\n<g id=\"node6\" class=\"node\">\n<title>split14</title>\n<ellipse fill=\"none\" stroke=\"#000000\" cx=\"2002.1493\" cy=\"-864.791\" rx=\"147.5709\" ry=\"26.7407\"/>\n<text text-anchor=\"middle\" x=\"2002.1493\" y=\"-868.591\" font-family=\"Times,serif\" font-size=\"14.00\" fill=\"#000000\">split_feature_name: ecg</text>\n<text text-anchor=\"middle\" x=\"2002.1493\" y=\"-853.591\" font-family=\"Times,serif\" font-size=\"14.00\" fill=\"#000000\">threshold: 10956.000000000002</text>\n</g>\n<!-- split4&#45;&gt;split14 -->\n<g id=\"edge28\" class=\"edge\">\n<title>split4&#45;&gt;split14</title>\n<path fill=\"none\" stroke=\"#000000\" d=\"M2255.7993,-946.2859C2205.2059,-930.0308 2137.528,-908.2866 2084.805,-891.3473\"/>\n<polygon fill=\"#000000\" stroke=\"#000000\" points=\"2085.7333,-887.9694 2075.1419,-888.2427 2083.592,-894.6339 2085.7333,-887.9694\"/>\n<text text-anchor=\"middle\" x=\"2193.6493\" y=\"-913.461\" font-family=\"Times,serif\" font-size=\"14.00\" fill=\"#000000\">&lt;=</text>\n</g>\n<!-- split13 -->\n<g id=\"node33\" class=\"node\">\n<title>split13</title>\n<ellipse fill=\"none\" stroke=\"#000000\" cx=\"2328.1493\" cy=\"-864.791\" rx=\"142.257\" ry=\"26.7407\"/>\n<text text-anchor=\"middle\" x=\"2328.1493\" y=\"-868.591\" font-family=\"Times,serif\" font-size=\"14.00\" fill=\"#000000\">split_feature_name: gsr</text>\n<text text-anchor=\"middle\" x=\"2328.1493\" y=\"-853.591\" font-family=\"Times,serif\" font-size=\"14.00\" fill=\"#000000\">threshold: 566.7500000000001</text>\n</g>\n<!-- split4&#45;&gt;split13 -->\n<g id=\"edge33\" class=\"edge\">\n<title>split4&#45;&gt;split13</title>\n<path fill=\"none\" stroke=\"#000000\" d=\"M2328.1493,-942.5579C2328.1493,-930.2185 2328.1493,-915.397 2328.1493,-902.0181\"/>\n<polygon fill=\"#000000\" stroke=\"#000000\" points=\"2331.6494,-901.6727 2328.1493,-891.6728 2324.6494,-901.6728 2331.6494,-901.6727\"/>\n<text text-anchor=\"middle\" x=\"2332.6493\" y=\"-913.461\" font-family=\"Times,serif\" font-size=\"14.00\" fill=\"#000000\">&gt;</text>\n</g>\n<!-- split15 -->\n<g id=\"node7\" class=\"node\">\n<title>split15</title>\n<ellipse fill=\"none\" stroke=\"#000000\" cx=\"1686.1493\" cy=\"-760.0509\" rx=\"142.257\" ry=\"26.7407\"/>\n<text text-anchor=\"middle\" x=\"1686.1493\" y=\"-763.8509\" font-family=\"Times,serif\" font-size=\"14.00\" fill=\"#000000\">split_feature_name: crew</text>\n<text text-anchor=\"middle\" x=\"1686.1493\" y=\"-748.8509\" font-family=\"Times,serif\" font-size=\"14.00\" fill=\"#000000\">threshold: 4.500000000000001</text>\n</g>\n<!-- split14&#45;&gt;split15 -->\n<g id=\"edge26\" class=\"edge\">\n<title>split14&#45;&gt;split15</title>\n<path fill=\"none\" stroke=\"#000000\" d=\"M1930.8387,-841.1547C1881.9294,-824.9434 1816.9685,-803.4117 1766.2718,-786.608\"/>\n<polygon fill=\"#000000\" stroke=\"#000000\" points=\"1767.249,-783.2447 1756.6556,-783.4206 1765.0466,-789.8892 1767.249,-783.2447\"/>\n<text text-anchor=\"middle\" x=\"1871.6493\" y=\"-808.7209\" font-family=\"Times,serif\" font-size=\"14.00\" fill=\"#000000\">&lt;=</text>\n</g>\n<!-- leaf15 -->\n<g id=\"node32\" class=\"node\">\n<title>leaf15</title>\n<ellipse fill=\"none\" stroke=\"#000000\" cx=\"2002.1493\" cy=\"-760.0509\" rx=\"154.2987\" ry=\"26.7407\"/>\n<text text-anchor=\"middle\" x=\"2002.1493\" y=\"-763.8509\" font-family=\"Times,serif\" font-size=\"14.00\" fill=\"#000000\">leaf_index: 15</text>\n<text text-anchor=\"middle\" x=\"2002.1493\" y=\"-748.8509\" font-family=\"Times,serif\" font-size=\"14.00\" fill=\"#000000\">leaf_value: &#45;0.5461149528206573</text>\n</g>\n<!-- split14&#45;&gt;leaf15 -->\n<g id=\"edge27\" class=\"edge\">\n<title>split14&#45;&gt;leaf15</title>\n<path fill=\"none\" stroke=\"#000000\" d=\"M2002.1493,-837.8178C2002.1493,-825.4784 2002.1493,-810.6569 2002.1493,-797.278\"/>\n<polygon fill=\"#000000\" stroke=\"#000000\" points=\"2005.6494,-796.9326 2002.1493,-786.9326 1998.6494,-796.9327 2005.6494,-796.9326\"/>\n<text text-anchor=\"middle\" x=\"2006.6493\" y=\"-808.7209\" font-family=\"Times,serif\" font-size=\"14.00\" fill=\"#000000\">&gt;</text>\n</g>\n<!-- split16 -->\n<g id=\"node8\" class=\"node\">\n<title>split16</title>\n<ellipse fill=\"none\" stroke=\"#000000\" cx=\"1377.1493\" cy=\"-655.3107\" rx=\"142.257\" ry=\"26.7407\"/>\n<text text-anchor=\"middle\" x=\"1377.1493\" y=\"-659.1107\" font-family=\"Times,serif\" font-size=\"14.00\" fill=\"#000000\">split_feature_name: ecg</text>\n<text text-anchor=\"middle\" x=\"1377.1493\" y=\"-644.1107\" font-family=\"Times,serif\" font-size=\"14.00\" fill=\"#000000\">threshold: 6250.000000000001</text>\n</g>\n<!-- split15&#45;&gt;split16 -->\n<g id=\"edge24\" class=\"edge\">\n<title>split15&#45;&gt;split16</title>\n<path fill=\"none\" stroke=\"#000000\" d=\"M1616.8036,-736.5451C1569.1778,-720.4017 1505.8525,-698.9366 1456.2575,-682.1256\"/>\n<polygon fill=\"#000000\" stroke=\"#000000\" points=\"1457.1246,-678.724 1446.5302,-678.8285 1454.8774,-685.3535 1457.1246,-678.724\"/>\n<text text-anchor=\"middle\" x=\"1559.6493\" y=\"-703.9808\" font-family=\"Times,serif\" font-size=\"14.00\" fill=\"#000000\">&lt;=</text>\n</g>\n<!-- leaf16 -->\n<g id=\"node31\" class=\"node\">\n<title>leaf16</title>\n<ellipse fill=\"none\" stroke=\"#000000\" cx=\"1686.1493\" cy=\"-655.3107\" rx=\"149.3993\" ry=\"26.7407\"/>\n<text text-anchor=\"middle\" x=\"1686.1493\" y=\"-659.1107\" font-family=\"Times,serif\" font-size=\"14.00\" fill=\"#000000\">leaf_index: 16</text>\n<text text-anchor=\"middle\" x=\"1686.1493\" y=\"-644.1107\" font-family=\"Times,serif\" font-size=\"14.00\" fill=\"#000000\">leaf_value: &#45;0.545940042129283</text>\n</g>\n<!-- split15&#45;&gt;leaf16 -->\n<g id=\"edge25\" class=\"edge\">\n<title>split15&#45;&gt;leaf16</title>\n<path fill=\"none\" stroke=\"#000000\" d=\"M1686.1493,-733.0777C1686.1493,-720.7382 1686.1493,-705.9168 1686.1493,-692.5379\"/>\n<polygon fill=\"#000000\" stroke=\"#000000\" points=\"1689.6494,-692.1925 1686.1493,-682.1925 1682.6494,-692.1926 1689.6494,-692.1925\"/>\n<text text-anchor=\"middle\" x=\"1690.6493\" y=\"-703.9808\" font-family=\"Times,serif\" font-size=\"14.00\" fill=\"#000000\">&gt;</text>\n</g>\n<!-- split20 -->\n<g id=\"node9\" class=\"node\">\n<title>split20</title>\n<ellipse fill=\"none\" stroke=\"#000000\" cx=\"952.1493\" cy=\"-550.5706\" rx=\"142.257\" ry=\"26.7407\"/>\n<text text-anchor=\"middle\" x=\"952.1493\" y=\"-554.3706\" font-family=\"Times,serif\" font-size=\"14.00\" fill=\"#000000\">split_feature_name: gsr</text>\n<text text-anchor=\"middle\" x=\"952.1493\" y=\"-539.3706\" font-family=\"Times,serif\" font-size=\"14.00\" fill=\"#000000\">threshold: 756.7500000000001</text>\n</g>\n<!-- split16&#45;&gt;split20 -->\n<g id=\"edge14\" class=\"edge\">\n<title>split16&#45;&gt;split20</title>\n<path fill=\"none\" stroke=\"#000000\" d=\"M1290.6319,-633.9888C1220.5124,-616.708 1121.7502,-592.3683 1048.9971,-574.4385\"/>\n<polygon fill=\"#000000\" stroke=\"#000000\" points=\"1049.4566,-570.9471 1038.9096,-571.9525 1047.7816,-577.7438 1049.4566,-570.9471\"/>\n<text text-anchor=\"middle\" x=\"1198.6493\" y=\"-599.2407\" font-family=\"Times,serif\" font-size=\"14.00\" fill=\"#000000\">&lt;=</text>\n</g>\n<!-- split17 -->\n<g id=\"node22\" class=\"node\">\n<title>split17</title>\n<ellipse fill=\"none\" stroke=\"#000000\" cx=\"1581.1493\" cy=\"-550.5706\" rx=\"147.5709\" ry=\"26.7407\"/>\n<text text-anchor=\"middle\" x=\"1581.1493\" y=\"-554.3706\" font-family=\"Times,serif\" font-size=\"14.00\" fill=\"#000000\">split_feature_name: gsr</text>\n<text text-anchor=\"middle\" x=\"1581.1493\" y=\"-539.3706\" font-family=\"Times,serif\" font-size=\"14.00\" fill=\"#000000\">threshold: 402.87500000000006</text>\n</g>\n<!-- split16&#45;&gt;split17 -->\n<g id=\"edge23\" class=\"edge\">\n<title>split16&#45;&gt;split17</title>\n<path fill=\"none\" stroke=\"#000000\" d=\"M1426.272,-630.0896C1455.2268,-615.2233 1492.0393,-596.3226 1522.509,-580.6784\"/>\n<polygon fill=\"#000000\" stroke=\"#000000\" points=\"1524.4484,-583.6171 1531.7457,-575.936 1521.2511,-577.3899 1524.4484,-583.6171\"/>\n<text text-anchor=\"middle\" x=\"1496.6493\" y=\"-599.2407\" font-family=\"Times,serif\" font-size=\"14.00\" fill=\"#000000\">&gt;</text>\n</g>\n<!-- split21 -->\n<g id=\"node10\" class=\"node\">\n<title>split21</title>\n<ellipse fill=\"none\" stroke=\"#000000\" cx=\"480.1493\" cy=\"-445.8305\" rx=\"150.7276\" ry=\"26.7407\"/>\n<text text-anchor=\"middle\" x=\"480.1493\" y=\"-449.6305\" font-family=\"Times,serif\" font-size=\"14.00\" fill=\"#000000\">split_feature_name: ecg</text>\n<text text-anchor=\"middle\" x=\"480.1493\" y=\"-434.6305\" font-family=\"Times,serif\" font-size=\"14.00\" fill=\"#000000\">threshold: &#45;4018.9999999999995</text>\n</g>\n<!-- split20&#45;&gt;split21 -->\n<g id=\"edge4\" class=\"edge\">\n<title>split20&#45;&gt;split21</title>\n<path fill=\"none\" stroke=\"#000000\" d=\"M859.7416,-530.0647C780.6966,-512.5241 666.9814,-487.2899 584.6408,-469.0179\"/>\n<polygon fill=\"#000000\" stroke=\"#000000\" points=\"585.28,-465.5747 574.7592,-466.8251 583.7635,-472.4085 585.28,-465.5747\"/>\n<text text-anchor=\"middle\" x=\"753.6493\" y=\"-494.5006\" font-family=\"Times,serif\" font-size=\"14.00\" fill=\"#000000\">&lt;=</text>\n</g>\n<!-- split22 -->\n<g id=\"node13\" class=\"node\">\n<title>split22</title>\n<ellipse fill=\"none\" stroke=\"#000000\" cx=\"952.1493\" cy=\"-445.8305\" rx=\"147.5709\" ry=\"26.7407\"/>\n<text text-anchor=\"middle\" x=\"952.1493\" y=\"-449.6305\" font-family=\"Times,serif\" font-size=\"14.00\" fill=\"#000000\">split_feature_name: ecg</text>\n<text text-anchor=\"middle\" x=\"952.1493\" y=\"-434.6305\" font-family=\"Times,serif\" font-size=\"14.00\" fill=\"#000000\">threshold: 1837.5000000000002</text>\n</g>\n<!-- split20&#45;&gt;split22 -->\n<g id=\"edge13\" class=\"edge\">\n<title>split20&#45;&gt;split22</title>\n<path fill=\"none\" stroke=\"#000000\" d=\"M952.1493,-523.5975C952.1493,-511.258 952.1493,-496.4365 952.1493,-483.0577\"/>\n<polygon fill=\"#000000\" stroke=\"#000000\" points=\"955.6494,-482.7123 952.1493,-472.7123 948.6494,-482.7123 955.6494,-482.7123\"/>\n<text text-anchor=\"middle\" x=\"956.6493\" y=\"-494.5006\" font-family=\"Times,serif\" font-size=\"14.00\" fill=\"#000000\">&gt;</text>\n</g>\n<!-- leaf1 -->\n<g id=\"node11\" class=\"node\">\n<title>leaf1</title>\n<ellipse fill=\"none\" stroke=\"#000000\" cx=\"154.1493\" cy=\"-341.0904\" rx=\"154.2987\" ry=\"26.7407\"/>\n<text text-anchor=\"middle\" x=\"154.1493\" y=\"-344.8904\" font-family=\"Times,serif\" font-size=\"14.00\" fill=\"#000000\">leaf_index: 1</text>\n<text text-anchor=\"middle\" x=\"154.1493\" y=\"-329.8904\" font-family=\"Times,serif\" font-size=\"14.00\" fill=\"#000000\">leaf_value: &#45;0.5571205153910986</text>\n</g>\n<!-- split21&#45;&gt;leaf1 -->\n<g id=\"edge2\" class=\"edge\">\n<title>split21&#45;&gt;leaf1</title>\n<path fill=\"none\" stroke=\"#000000\" d=\"M406.9885,-422.3248C356.7099,-406.1708 289.8465,-384.6884 237.5078,-367.8725\"/>\n<polygon fill=\"#000000\" stroke=\"#000000\" points=\"238.5026,-364.516 227.9113,-364.7893 236.3613,-371.1805 238.5026,-364.516\"/>\n<text text-anchor=\"middle\" x=\"345.6493\" y=\"-389.7605\" font-family=\"Times,serif\" font-size=\"14.00\" fill=\"#000000\">&lt;=</text>\n</g>\n<!-- leaf22 -->\n<g id=\"node12\" class=\"node\">\n<title>leaf22</title>\n<ellipse fill=\"none\" stroke=\"#000000\" cx=\"480.1493\" cy=\"-341.0904\" rx=\"154.2987\" ry=\"26.7407\"/>\n<text text-anchor=\"middle\" x=\"480.1493\" y=\"-344.8904\" font-family=\"Times,serif\" font-size=\"14.00\" fill=\"#000000\">leaf_index: 22</text>\n<text text-anchor=\"middle\" x=\"480.1493\" y=\"-329.8904\" font-family=\"Times,serif\" font-size=\"14.00\" fill=\"#000000\">leaf_value: &#45;0.5462233331494682</text>\n</g>\n<!-- split21&#45;&gt;leaf22 -->\n<g id=\"edge3\" class=\"edge\">\n<title>split21&#45;&gt;leaf22</title>\n<path fill=\"none\" stroke=\"#000000\" d=\"M480.1493,-418.8573C480.1493,-406.5179 480.1493,-391.6964 480.1493,-378.3175\"/>\n<polygon fill=\"#000000\" stroke=\"#000000\" points=\"483.6494,-377.9721 480.1493,-367.9722 476.6494,-377.9722 483.6494,-377.9721\"/>\n<text text-anchor=\"middle\" x=\"484.6493\" y=\"-389.7605\" font-family=\"Times,serif\" font-size=\"14.00\" fill=\"#000000\">&gt;</text>\n</g>\n<!-- split23 -->\n<g id=\"node14\" class=\"node\">\n<title>split23</title>\n<ellipse fill=\"none\" stroke=\"#000000\" cx=\"794.1493\" cy=\"-341.0904\" rx=\"142.257\" ry=\"26.7407\"/>\n<text text-anchor=\"middle\" x=\"794.1493\" y=\"-344.8904\" font-family=\"Times,serif\" font-size=\"14.00\" fill=\"#000000\">split_feature_name: gsr</text>\n<text text-anchor=\"middle\" x=\"794.1493\" y=\"-329.8904\" font-family=\"Times,serif\" font-size=\"14.00\" fill=\"#000000\">threshold: 883.2500000000001</text>\n</g>\n<!-- split22&#45;&gt;split23 -->\n<g id=\"edge11\" class=\"edge\">\n<title>split22&#45;&gt;split23</title>\n<path fill=\"none\" stroke=\"#000000\" d=\"M912.6868,-419.6703C891.2088,-405.4323 864.4775,-387.7119 841.8389,-372.7044\"/>\n<polygon fill=\"#000000\" stroke=\"#000000\" points=\"843.6511,-369.7066 833.3823,-367.0984 839.7833,-375.541 843.6511,-369.7066\"/>\n<text text-anchor=\"middle\" x=\"891.6493\" y=\"-389.7605\" font-family=\"Times,serif\" font-size=\"14.00\" fill=\"#000000\">&lt;=</text>\n</g>\n<!-- leaf23 -->\n<g id=\"node21\" class=\"node\">\n<title>leaf23</title>\n<ellipse fill=\"none\" stroke=\"#000000\" cx=\"1108.1493\" cy=\"-341.0904\" rx=\"154.2987\" ry=\"26.7407\"/>\n<text text-anchor=\"middle\" x=\"1108.1493\" y=\"-344.8904\" font-family=\"Times,serif\" font-size=\"14.00\" fill=\"#000000\">leaf_index: 23</text>\n<text text-anchor=\"middle\" x=\"1108.1493\" y=\"-329.8904\" font-family=\"Times,serif\" font-size=\"14.00\" fill=\"#000000\">leaf_value: &#45;0.5634880539611837</text>\n</g>\n<!-- split22&#45;&gt;leaf23 -->\n<g id=\"edge12\" class=\"edge\">\n<title>split22&#45;&gt;leaf23</title>\n<path fill=\"none\" stroke=\"#000000\" d=\"M991.1123,-419.6703C1012.3184,-405.4323 1038.7113,-387.7119 1061.0633,-372.7044\"/>\n<polygon fill=\"#000000\" stroke=\"#000000\" points=\"1063.0616,-375.5785 1069.4129,-367.0984 1059.1596,-369.7669 1063.0616,-375.5785\"/>\n<text text-anchor=\"middle\" x=\"1044.6493\" y=\"-389.7605\" font-family=\"Times,serif\" font-size=\"14.00\" fill=\"#000000\">&gt;</text>\n</g>\n<!-- leaf21 -->\n<g id=\"node15\" class=\"node\">\n<title>leaf21</title>\n<ellipse fill=\"none\" stroke=\"#000000\" cx=\"704.1493\" cy=\"-236.3503\" rx=\"154.2987\" ry=\"26.7407\"/>\n<text text-anchor=\"middle\" x=\"704.1493\" y=\"-240.1503\" font-family=\"Times,serif\" font-size=\"14.00\" fill=\"#000000\">leaf_index: 21</text>\n<text text-anchor=\"middle\" x=\"704.1493\" y=\"-225.1503\" font-family=\"Times,serif\" font-size=\"14.00\" fill=\"#000000\">leaf_value: &#45;0.5461700002947675</text>\n</g>\n<!-- split23&#45;&gt;leaf21 -->\n<g id=\"edge5\" class=\"edge\">\n<title>split23&#45;&gt;leaf21</title>\n<path fill=\"none\" stroke=\"#000000\" d=\"M771.2056,-314.389C759.7806,-301.0929 745.8357,-284.864 733.6276,-270.6565\"/>\n<polygon fill=\"#000000\" stroke=\"#000000\" points=\"736.2229,-268.3065 727.0511,-263.0029 730.9137,-272.8685 736.2229,-268.3065\"/>\n<text text-anchor=\"middle\" x=\"763.6493\" y=\"-285.0203\" font-family=\"Times,serif\" font-size=\"14.00\" fill=\"#000000\">&lt;=</text>\n</g>\n<!-- split24 -->\n<g id=\"node16\" class=\"node\">\n<title>split24</title>\n<ellipse fill=\"none\" stroke=\"#000000\" cx=\"1024.1493\" cy=\"-236.3503\" rx=\"147.5709\" ry=\"26.7407\"/>\n<text text-anchor=\"middle\" x=\"1024.1493\" y=\"-240.1503\" font-family=\"Times,serif\" font-size=\"14.00\" fill=\"#000000\">split_feature_name: crew</text>\n<text text-anchor=\"middle\" x=\"1024.1493\" y=\"-225.1503\" font-family=\"Times,serif\" font-size=\"14.00\" fill=\"#000000\">threshold: 3.5000000000000004</text>\n</g>\n<!-- split23&#45;&gt;split24 -->\n<g id=\"edge10\" class=\"edge\">\n<title>split23&#45;&gt;split24</title>\n<path fill=\"none\" stroke=\"#000000\" d=\"M848.6561,-316.2685C882.0685,-301.0527 925.0051,-281.4998 960.0447,-265.543\"/>\n<polygon fill=\"#000000\" stroke=\"#000000\" points=\"961.5865,-268.6868 969.2367,-261.357 958.6853,-262.3162 961.5865,-268.6868\"/>\n<text text-anchor=\"middle\" x=\"927.6493\" y=\"-285.0203\" font-family=\"Times,serif\" font-size=\"14.00\" fill=\"#000000\">&gt;</text>\n</g>\n<!-- leaf24 -->\n<g id=\"node17\" class=\"node\">\n<title>leaf24</title>\n<ellipse fill=\"none\" stroke=\"#000000\" cx=\"935.1493\" cy=\"-131.6102\" rx=\"154.2987\" ry=\"26.7407\"/>\n<text text-anchor=\"middle\" x=\"935.1493\" y=\"-135.4102\" font-family=\"Times,serif\" font-size=\"14.00\" fill=\"#000000\">leaf_index: 24</text>\n<text text-anchor=\"middle\" x=\"935.1493\" y=\"-120.4102\" font-family=\"Times,serif\" font-size=\"14.00\" fill=\"#000000\">leaf_value: &#45;0.5462861080202865</text>\n</g>\n<!-- split24&#45;&gt;leaf24 -->\n<g id=\"edge6\" class=\"edge\">\n<title>split24&#45;&gt;leaf24</title>\n<path fill=\"none\" stroke=\"#000000\" d=\"M1001.4605,-209.6489C990.1625,-196.3528 976.3725,-180.1239 964.3001,-165.9164\"/>\n<polygon fill=\"#000000\" stroke=\"#000000\" points=\"966.939,-163.6169 957.7966,-158.2628 961.6047,-168.1496 966.939,-163.6169\"/>\n<text text-anchor=\"middle\" x=\"993.6493\" y=\"-180.2802\" font-family=\"Times,serif\" font-size=\"14.00\" fill=\"#000000\">&lt;=</text>\n</g>\n<!-- split25 -->\n<g id=\"node18\" class=\"node\">\n<title>split25</title>\n<ellipse fill=\"none\" stroke=\"#000000\" cx=\"1249.1493\" cy=\"-131.6102\" rx=\"142.257\" ry=\"26.7407\"/>\n<text text-anchor=\"middle\" x=\"1249.1493\" y=\"-135.4102\" font-family=\"Times,serif\" font-size=\"14.00\" fill=\"#000000\">split_feature_name: gsr</text>\n<text text-anchor=\"middle\" x=\"1249.1493\" y=\"-120.4102\" font-family=\"Times,serif\" font-size=\"14.00\" fill=\"#000000\">threshold: 936.7500000000001</text>\n</g>\n<!-- split24&#45;&gt;split25 -->\n<g id=\"edge9\" class=\"edge\">\n<title>split24&#45;&gt;split25</title>\n<path fill=\"none\" stroke=\"#000000\" d=\"M1078.0424,-211.2624C1110.4845,-196.1602 1151.9481,-176.8585 1185.933,-161.0381\"/>\n<polygon fill=\"#000000\" stroke=\"#000000\" points=\"1187.7177,-164.068 1195.3065,-156.6746 1184.7635,-157.7219 1187.7177,-164.068\"/>\n<text text-anchor=\"middle\" x=\"1154.6493\" y=\"-180.2802\" font-family=\"Times,serif\" font-size=\"14.00\" fill=\"#000000\">&gt;</text>\n</g>\n<!-- leaf25 -->\n<g id=\"node19\" class=\"node\">\n<title>leaf25</title>\n<ellipse fill=\"none\" stroke=\"#000000\" cx=\"1088.1493\" cy=\"-26.8701\" rx=\"149.3993\" ry=\"26.7407\"/>\n<text text-anchor=\"middle\" x=\"1088.1493\" y=\"-30.6701\" font-family=\"Times,serif\" font-size=\"14.00\" fill=\"#000000\">leaf_index: 25</text>\n<text text-anchor=\"middle\" x=\"1088.1493\" y=\"-15.6701\" font-family=\"Times,serif\" font-size=\"14.00\" fill=\"#000000\">leaf_value: &#45;0.551934516887406</text>\n</g>\n<!-- split25&#45;&gt;leaf25 -->\n<g id=\"edge7\" class=\"edge\">\n<title>split25&#45;&gt;leaf25</title>\n<path fill=\"none\" stroke=\"#000000\" d=\"M1209.3515,-105.7194C1187.3879,-91.4307 1159.9385,-73.5733 1136.719,-58.4675\"/>\n<polygon fill=\"#000000\" stroke=\"#000000\" points=\"1138.3381,-55.3455 1128.0472,-52.826 1134.5209,-61.2131 1138.3381,-55.3455\"/>\n<text text-anchor=\"middle\" x=\"1187.6493\" y=\"-75.5401\" font-family=\"Times,serif\" font-size=\"14.00\" fill=\"#000000\">&lt;=</text>\n</g>\n<!-- leaf26 -->\n<g id=\"node20\" class=\"node\">\n<title>leaf26</title>\n<ellipse fill=\"none\" stroke=\"#000000\" cx=\"1409.1493\" cy=\"-26.8701\" rx=\"154.2987\" ry=\"26.7407\"/>\n<text text-anchor=\"middle\" x=\"1409.1493\" y=\"-30.6701\" font-family=\"Times,serif\" font-size=\"14.00\" fill=\"#000000\">leaf_index: 26</text>\n<text text-anchor=\"middle\" x=\"1409.1493\" y=\"-15.6701\" font-family=\"Times,serif\" font-size=\"14.00\" fill=\"#000000\">leaf_value: &#45;0.5605445634402471</text>\n</g>\n<!-- split25&#45;&gt;leaf26 -->\n<g id=\"edge8\" class=\"edge\">\n<title>split25&#45;&gt;leaf26</title>\n<path fill=\"none\" stroke=\"#000000\" d=\"M1288.6998,-105.7194C1310.445,-91.4844 1337.6009,-73.7075 1360.6208,-58.638\"/>\n<polygon fill=\"#000000\" stroke=\"#000000\" points=\"1362.7713,-61.4136 1369.2211,-53.0081 1358.9373,-55.5569 1362.7713,-61.4136\"/>\n<text text-anchor=\"middle\" x=\"1343.6493\" y=\"-75.5401\" font-family=\"Times,serif\" font-size=\"14.00\" fill=\"#000000\">&gt;</text>\n</g>\n<!-- split19 -->\n<g id=\"node23\" class=\"node\">\n<title>split19</title>\n<ellipse fill=\"none\" stroke=\"#000000\" cx=\"1581.1493\" cy=\"-445.8305\" rx=\"142.257\" ry=\"26.7407\"/>\n<text text-anchor=\"middle\" x=\"1581.1493\" y=\"-449.6305\" font-family=\"Times,serif\" font-size=\"14.00\" fill=\"#000000\">split_feature_name: ecg</text>\n<text text-anchor=\"middle\" x=\"1581.1493\" y=\"-434.6305\" font-family=\"Times,serif\" font-size=\"14.00\" fill=\"#000000\">threshold: 9364.000000000002</text>\n</g>\n<!-- split17&#45;&gt;split19 -->\n<g id=\"edge17\" class=\"edge\">\n<title>split17&#45;&gt;split19</title>\n<path fill=\"none\" stroke=\"#000000\" d=\"M1581.1493,-523.5975C1581.1493,-511.258 1581.1493,-496.4365 1581.1493,-483.0577\"/>\n<polygon fill=\"#000000\" stroke=\"#000000\" points=\"1584.6494,-482.7123 1581.1493,-472.7123 1577.6494,-482.7123 1584.6494,-482.7123\"/>\n<text text-anchor=\"middle\" x=\"1589.6493\" y=\"-494.5006\" font-family=\"Times,serif\" font-size=\"14.00\" fill=\"#000000\">&lt;=</text>\n</g>\n<!-- split18 -->\n<g id=\"node26\" class=\"node\">\n<title>split18</title>\n<ellipse fill=\"none\" stroke=\"#000000\" cx=\"2076.1493\" cy=\"-445.8305\" rx=\"142.257\" ry=\"26.7407\"/>\n<text text-anchor=\"middle\" x=\"2076.1493\" y=\"-449.6305\" font-family=\"Times,serif\" font-size=\"14.00\" fill=\"#000000\">split_feature_name: gsr</text>\n<text text-anchor=\"middle\" x=\"2076.1493\" y=\"-434.6305\" font-family=\"Times,serif\" font-size=\"14.00\" fill=\"#000000\">threshold: 596.7500000000001</text>\n</g>\n<!-- split17&#45;&gt;split18 -->\n<g id=\"edge22\" class=\"edge\">\n<title>split17&#45;&gt;split18</title>\n<path fill=\"none\" stroke=\"#000000\" d=\"M1677.4711,-530.1893C1761.9657,-512.3106 1884.5645,-486.3691 1971.4607,-467.9822\"/>\n<polygon fill=\"#000000\" stroke=\"#000000\" points=\"1972.2854,-471.3853 1981.3443,-465.8909 1970.8363,-464.5369 1972.2854,-471.3853\"/>\n<text text-anchor=\"middle\" x=\"1863.6493\" y=\"-494.5006\" font-family=\"Times,serif\" font-size=\"14.00\" fill=\"#000000\">&gt;</text>\n</g>\n<!-- leaf17 -->\n<g id=\"node24\" class=\"node\">\n<title>leaf17</title>\n<ellipse fill=\"none\" stroke=\"#000000\" cx=\"1429.1493\" cy=\"-341.0904\" rx=\"148.4848\" ry=\"26.7407\"/>\n<text text-anchor=\"middle\" x=\"1429.1493\" y=\"-344.8904\" font-family=\"Times,serif\" font-size=\"14.00\" fill=\"#000000\">leaf_index: 17</text>\n<text text-anchor=\"middle\" x=\"1429.1493\" y=\"-329.8904\" font-family=\"Times,serif\" font-size=\"14.00\" fill=\"#000000\">leaf_value: &#45;0.548112279282597</text>\n</g>\n<!-- split19&#45;&gt;leaf17 -->\n<g id=\"edge15\" class=\"edge\">\n<title>split19&#45;&gt;leaf17</title>\n<path fill=\"none\" stroke=\"#000000\" d=\"M1543.1854,-419.6703C1522.614,-405.4951 1497.0333,-387.8679 1475.3159,-372.9029\"/>\n<polygon fill=\"#000000\" stroke=\"#000000\" points=\"1477.1127,-369.8906 1466.8924,-367.0984 1473.1408,-375.6546 1477.1127,-369.8906\"/>\n<text text-anchor=\"middle\" x=\"1523.6493\" y=\"-389.7605\" font-family=\"Times,serif\" font-size=\"14.00\" fill=\"#000000\">&lt;=</text>\n</g>\n<!-- leaf20 -->\n<g id=\"node25\" class=\"node\">\n<title>leaf20</title>\n<ellipse fill=\"none\" stroke=\"#000000\" cx=\"1750.1493\" cy=\"-341.0904\" rx=\"154.2987\" ry=\"26.7407\"/>\n<text text-anchor=\"middle\" x=\"1750.1493\" y=\"-344.8904\" font-family=\"Times,serif\" font-size=\"14.00\" fill=\"#000000\">leaf_index: 20</text>\n<text text-anchor=\"middle\" x=\"1750.1493\" y=\"-329.8904\" font-family=\"Times,serif\" font-size=\"14.00\" fill=\"#000000\">leaf_value: &#45;0.5563968033651824</text>\n</g>\n<!-- split19&#45;&gt;leaf20 -->\n<g id=\"edge16\" class=\"edge\">\n<title>split19&#45;&gt;leaf20</title>\n<path fill=\"none\" stroke=\"#000000\" d=\"M1622.9246,-419.9397C1646.0811,-405.5881 1675.0468,-387.6362 1699.488,-372.4884\"/>\n<polygon fill=\"#000000\" stroke=\"#000000\" points=\"1701.6127,-375.2894 1708.2689,-367.0464 1697.9251,-369.3394 1701.6127,-375.2894\"/>\n<text text-anchor=\"middle\" x=\"1680.6493\" y=\"-389.7605\" font-family=\"Times,serif\" font-size=\"14.00\" fill=\"#000000\">&gt;</text>\n</g>\n<!-- leaf18 -->\n<g id=\"node27\" class=\"node\">\n<title>leaf18</title>\n<ellipse fill=\"none\" stroke=\"#000000\" cx=\"2076.1493\" cy=\"-341.0904\" rx=\"154.2987\" ry=\"26.7407\"/>\n<text text-anchor=\"middle\" x=\"2076.1493\" y=\"-344.8904\" font-family=\"Times,serif\" font-size=\"14.00\" fill=\"#000000\">leaf_index: 18</text>\n<text text-anchor=\"middle\" x=\"2076.1493\" y=\"-329.8904\" font-family=\"Times,serif\" font-size=\"14.00\" fill=\"#000000\">leaf_value: &#45;0.5603811047967605</text>\n</g>\n<!-- split18&#45;&gt;leaf18 -->\n<g id=\"edge18\" class=\"edge\">\n<title>split18&#45;&gt;leaf18</title>\n<path fill=\"none\" stroke=\"#000000\" d=\"M2076.1493,-418.8573C2076.1493,-406.5179 2076.1493,-391.6964 2076.1493,-378.3175\"/>\n<polygon fill=\"#000000\" stroke=\"#000000\" points=\"2079.6494,-377.9721 2076.1493,-367.9722 2072.6494,-377.9722 2079.6494,-377.9721\"/>\n<text text-anchor=\"middle\" x=\"2084.6493\" y=\"-389.7605\" font-family=\"Times,serif\" font-size=\"14.00\" fill=\"#000000\">&lt;=</text>\n</g>\n<!-- split28 -->\n<g id=\"node28\" class=\"node\">\n<title>split28</title>\n<ellipse fill=\"none\" stroke=\"#000000\" cx=\"2390.1493\" cy=\"-341.0904\" rx=\"142.257\" ry=\"26.7407\"/>\n<text text-anchor=\"middle\" x=\"2390.1493\" y=\"-344.8904\" font-family=\"Times,serif\" font-size=\"14.00\" fill=\"#000000\">split_feature_name: gsr</text>\n<text text-anchor=\"middle\" x=\"2390.1493\" y=\"-329.8904\" font-family=\"Times,serif\" font-size=\"14.00\" fill=\"#000000\">threshold: 760.7500000000001</text>\n</g>\n<!-- split18&#45;&gt;split28 -->\n<g id=\"edge21\" class=\"edge\">\n<title>split18&#45;&gt;split28</title>\n<path fill=\"none\" stroke=\"#000000\" d=\"M2146.617,-422.3248C2195.1992,-406.1194 2259.8577,-384.5514 2310.3407,-367.7119\"/>\n<polygon fill=\"#000000\" stroke=\"#000000\" points=\"2311.5381,-371.0022 2319.9167,-364.5177 2309.323,-364.3619 2311.5381,-371.0022\"/>\n<text text-anchor=\"middle\" x=\"2256.6493\" y=\"-389.7605\" font-family=\"Times,serif\" font-size=\"14.00\" fill=\"#000000\">&gt;</text>\n</g>\n<!-- leaf19 -->\n<g id=\"node29\" class=\"node\">\n<title>leaf19</title>\n<ellipse fill=\"none\" stroke=\"#000000\" cx=\"2229.1493\" cy=\"-236.3503\" rx=\"149.3993\" ry=\"26.7407\"/>\n<text text-anchor=\"middle\" x=\"2229.1493\" y=\"-240.1503\" font-family=\"Times,serif\" font-size=\"14.00\" fill=\"#000000\">leaf_index: 19</text>\n<text text-anchor=\"middle\" x=\"2229.1493\" y=\"-225.1503\" font-family=\"Times,serif\" font-size=\"14.00\" fill=\"#000000\">leaf_value: &#45;0.547894694003746</text>\n</g>\n<!-- split28&#45;&gt;leaf19 -->\n<g id=\"edge19\" class=\"edge\">\n<title>split28&#45;&gt;leaf19</title>\n<path fill=\"none\" stroke=\"#000000\" d=\"M2350.3515,-315.1996C2328.3879,-300.9109 2300.9385,-283.0535 2277.719,-267.9478\"/>\n<polygon fill=\"#000000\" stroke=\"#000000\" points=\"2279.3381,-264.8257 2269.0472,-262.3063 2275.5209,-270.6933 2279.3381,-264.8257\"/>\n<text text-anchor=\"middle\" x=\"2328.6493\" y=\"-285.0203\" font-family=\"Times,serif\" font-size=\"14.00\" fill=\"#000000\">&lt;=</text>\n</g>\n<!-- leaf29 -->\n<g id=\"node30\" class=\"node\">\n<title>leaf29</title>\n<ellipse fill=\"none\" stroke=\"#000000\" cx=\"2550.1493\" cy=\"-236.3503\" rx=\"154.2987\" ry=\"26.7407\"/>\n<text text-anchor=\"middle\" x=\"2550.1493\" y=\"-240.1503\" font-family=\"Times,serif\" font-size=\"14.00\" fill=\"#000000\">leaf_index: 29</text>\n<text text-anchor=\"middle\" x=\"2550.1493\" y=\"-225.1503\" font-family=\"Times,serif\" font-size=\"14.00\" fill=\"#000000\">leaf_value: &#45;0.5611580275834022</text>\n</g>\n<!-- split28&#45;&gt;leaf29 -->\n<g id=\"edge20\" class=\"edge\">\n<title>split28&#45;&gt;leaf29</title>\n<path fill=\"none\" stroke=\"#000000\" d=\"M2429.6998,-315.1996C2451.445,-300.9647 2478.6009,-283.1877 2501.6208,-268.1183\"/>\n<polygon fill=\"#000000\" stroke=\"#000000\" points=\"2503.7713,-270.8938 2510.2211,-262.4883 2499.9373,-265.0371 2503.7713,-270.8938\"/>\n<text text-anchor=\"middle\" x=\"2484.6493\" y=\"-285.0203\" font-family=\"Times,serif\" font-size=\"14.00\" fill=\"#000000\">&gt;</text>\n</g>\n<!-- split26 -->\n<g id=\"node34\" class=\"node\">\n<title>split26</title>\n<ellipse fill=\"none\" stroke=\"#000000\" cx=\"2324.1493\" cy=\"-760.0509\" rx=\"147.5709\" ry=\"26.7407\"/>\n<text text-anchor=\"middle\" x=\"2324.1493\" y=\"-763.8509\" font-family=\"Times,serif\" font-size=\"14.00\" fill=\"#000000\">split_feature_name: ecg</text>\n<text text-anchor=\"middle\" x=\"2324.1493\" y=\"-748.8509\" font-family=\"Times,serif\" font-size=\"14.00\" fill=\"#000000\">threshold: 2675.0000000000005</text>\n</g>\n<!-- split13&#45;&gt;split26 -->\n<g id=\"edge31\" class=\"edge\">\n<title>split13&#45;&gt;split26</title>\n<path fill=\"none\" stroke=\"#000000\" d=\"M2327.1192,-837.8178C2326.6479,-825.4784 2326.0819,-810.6569 2325.571,-797.278\"/>\n<polygon fill=\"#000000\" stroke=\"#000000\" points=\"2329.055,-796.7918 2325.1759,-786.9326 2322.0601,-797.059 2329.055,-796.7918\"/>\n<text text-anchor=\"middle\" x=\"2335.6493\" y=\"-808.7209\" font-family=\"Times,serif\" font-size=\"14.00\" fill=\"#000000\">&lt;=</text>\n</g>\n<!-- leaf14 -->\n<g id=\"node37\" class=\"node\">\n<title>leaf14</title>\n<ellipse fill=\"none\" stroke=\"#000000\" cx=\"2644.1493\" cy=\"-760.0509\" rx=\"154.2987\" ry=\"26.7407\"/>\n<text text-anchor=\"middle\" x=\"2644.1493\" y=\"-763.8509\" font-family=\"Times,serif\" font-size=\"14.00\" fill=\"#000000\">leaf_index: 14</text>\n<text text-anchor=\"middle\" x=\"2644.1493\" y=\"-748.8509\" font-family=\"Times,serif\" font-size=\"14.00\" fill=\"#000000\">leaf_value: &#45;0.5635518561595926</text>\n</g>\n<!-- split13&#45;&gt;leaf14 -->\n<g id=\"edge32\" class=\"edge\">\n<title>split13&#45;&gt;leaf14</title>\n<path fill=\"none\" stroke=\"#000000\" d=\"M2398.6725,-841.4156C2447.2041,-825.3295 2511.8146,-803.914 2562.5677,-787.0916\"/>\n<polygon fill=\"#000000\" stroke=\"#000000\" points=\"2563.8091,-790.3674 2572.2,-783.8989 2561.6067,-783.7229 2563.8091,-790.3674\"/>\n<text text-anchor=\"middle\" x=\"2509.6493\" y=\"-808.7209\" font-family=\"Times,serif\" font-size=\"14.00\" fill=\"#000000\">&gt;</text>\n</g>\n<!-- leaf5 -->\n<g id=\"node35\" class=\"node\">\n<title>leaf5</title>\n<ellipse fill=\"none\" stroke=\"#000000\" cx=\"2007.1493\" cy=\"-655.3107\" rx=\"154.2987\" ry=\"26.7407\"/>\n<text text-anchor=\"middle\" x=\"2007.1493\" y=\"-659.1107\" font-family=\"Times,serif\" font-size=\"14.00\" fill=\"#000000\">leaf_index: 5</text>\n<text text-anchor=\"middle\" x=\"2007.1493\" y=\"-644.1107\" font-family=\"Times,serif\" font-size=\"14.00\" fill=\"#000000\">leaf_value: &#45;0.5628870979095254</text>\n</g>\n<!-- split26&#45;&gt;leaf5 -->\n<g id=\"edge29\" class=\"edge\">\n<title>split26&#45;&gt;leaf5</title>\n<path fill=\"none\" stroke=\"#000000\" d=\"M2252.613,-736.4145C2203.9778,-720.345 2139.5205,-699.0476 2088.8623,-682.3096\"/>\n<polygon fill=\"#000000\" stroke=\"#000000\" points=\"2089.8408,-678.9468 2079.2476,-679.1328 2087.6446,-685.5934 2089.8408,-678.9468\"/>\n<text text-anchor=\"middle\" x=\"2193.6493\" y=\"-703.9808\" font-family=\"Times,serif\" font-size=\"14.00\" fill=\"#000000\">&lt;=</text>\n</g>\n<!-- leaf27 -->\n<g id=\"node36\" class=\"node\">\n<title>leaf27</title>\n<ellipse fill=\"none\" stroke=\"#000000\" cx=\"2333.1493\" cy=\"-655.3107\" rx=\"154.2987\" ry=\"26.7407\"/>\n<text text-anchor=\"middle\" x=\"2333.1493\" y=\"-659.1107\" font-family=\"Times,serif\" font-size=\"14.00\" fill=\"#000000\">leaf_index: 27</text>\n<text text-anchor=\"middle\" x=\"2333.1493\" y=\"-644.1107\" font-family=\"Times,serif\" font-size=\"14.00\" fill=\"#000000\">leaf_value: &#45;0.5535078493622395</text>\n</g>\n<!-- split26&#45;&gt;leaf27 -->\n<g id=\"edge30\" class=\"edge\">\n<title>split26&#45;&gt;leaf27</title>\n<path fill=\"none\" stroke=\"#000000\" d=\"M2326.467,-733.0777C2327.5273,-720.7382 2328.8009,-705.9168 2329.9505,-692.5379\"/>\n<polygon fill=\"#000000\" stroke=\"#000000\" points=\"2333.4704,-692.4555 2330.8394,-682.1925 2326.4961,-691.8561 2333.4704,-692.4555\"/>\n<text text-anchor=\"middle\" x=\"2334.6493\" y=\"-703.9808\" font-family=\"Times,serif\" font-size=\"14.00\" fill=\"#000000\">&gt;</text>\n</g>\n<!-- split5 -->\n<g id=\"node40\" class=\"node\">\n<title>split5</title>\n<ellipse fill=\"none\" stroke=\"#000000\" cx=\"2968.1493\" cy=\"-969.5311\" rx=\"147.1565\" ry=\"26.7407\"/>\n<text text-anchor=\"middle\" x=\"2968.1493\" y=\"-973.3311\" font-family=\"Times,serif\" font-size=\"14.00\" fill=\"#000000\">split_feature_name: ecg</text>\n<text text-anchor=\"middle\" x=\"2968.1493\" y=\"-958.3311\" font-family=\"Times,serif\" font-size=\"14.00\" fill=\"#000000\">threshold: 11364.000000000002</text>\n</g>\n<!-- split2&#45;&gt;split5 -->\n<g id=\"edge55\" class=\"edge\">\n<title>split2&#45;&gt;split5</title>\n<path fill=\"none\" stroke=\"#000000\" d=\"M2968.1493,-1047.298C2968.1493,-1034.9586 2968.1493,-1020.1371 2968.1493,-1006.7582\"/>\n<polygon fill=\"#000000\" stroke=\"#000000\" points=\"2971.6494,-1006.4128 2968.1493,-996.4129 2964.6494,-1006.4129 2971.6494,-1006.4128\"/>\n<text text-anchor=\"middle\" x=\"2976.6493\" y=\"-1018.2012\" font-family=\"Times,serif\" font-size=\"14.00\" fill=\"#000000\">&lt;=</text>\n</g>\n<!-- leaf3 -->\n<g id=\"node59\" class=\"node\">\n<title>leaf3</title>\n<ellipse fill=\"none\" stroke=\"#000000\" cx=\"3287.1493\" cy=\"-969.5311\" rx=\"154.2987\" ry=\"26.7407\"/>\n<text text-anchor=\"middle\" x=\"3287.1493\" y=\"-973.3311\" font-family=\"Times,serif\" font-size=\"14.00\" fill=\"#000000\">leaf_index: 3</text>\n<text text-anchor=\"middle\" x=\"3287.1493\" y=\"-958.3311\" font-family=\"Times,serif\" font-size=\"14.00\" fill=\"#000000\">leaf_value: &#45;0.5639477743695419</text>\n</g>\n<!-- split2&#45;&gt;leaf3 -->\n<g id=\"edge56\" class=\"edge\">\n<title>split2&#45;&gt;leaf3</title>\n<path fill=\"none\" stroke=\"#000000\" d=\"M3040.1369,-1050.6349C3089.0789,-1034.5653 3153.9429,-1013.2679 3204.9207,-996.5299\"/>\n<polygon fill=\"#000000\" stroke=\"#000000\" points=\"3206.187,-999.7981 3214.5961,-993.3531 3204.0033,-993.1474 3206.187,-999.7981\"/>\n<text text-anchor=\"middle\" x=\"3151.6493\" y=\"-1018.2012\" font-family=\"Times,serif\" font-size=\"14.00\" fill=\"#000000\">&gt;</text>\n</g>\n<!-- split6 -->\n<g id=\"node41\" class=\"node\">\n<title>split6</title>\n<ellipse fill=\"none\" stroke=\"#000000\" cx=\"2968.1493\" cy=\"-864.791\" rx=\"147.5709\" ry=\"26.7407\"/>\n<text text-anchor=\"middle\" x=\"2968.1493\" y=\"-868.591\" font-family=\"Times,serif\" font-size=\"14.00\" fill=\"#000000\">split_feature_name: gsr</text>\n<text text-anchor=\"middle\" x=\"2968.1493\" y=\"-853.591\" font-family=\"Times,serif\" font-size=\"14.00\" fill=\"#000000\">threshold: 1539.5000000000002</text>\n</g>\n<!-- split5&#45;&gt;split6 -->\n<g id=\"edge53\" class=\"edge\">\n<title>split5&#45;&gt;split6</title>\n<path fill=\"none\" stroke=\"#000000\" d=\"M2968.1493,-942.5579C2968.1493,-930.2185 2968.1493,-915.397 2968.1493,-902.0181\"/>\n<polygon fill=\"#000000\" stroke=\"#000000\" points=\"2971.6494,-901.6727 2968.1493,-891.6728 2964.6494,-901.6728 2971.6494,-901.6727\"/>\n<text text-anchor=\"middle\" x=\"2976.6493\" y=\"-913.461\" font-family=\"Times,serif\" font-size=\"14.00\" fill=\"#000000\">&lt;=</text>\n</g>\n<!-- leaf6 -->\n<g id=\"node58\" class=\"node\">\n<title>leaf6</title>\n<ellipse fill=\"none\" stroke=\"#000000\" cx=\"3287.1493\" cy=\"-864.791\" rx=\"153.3844\" ry=\"26.7407\"/>\n<text text-anchor=\"middle\" x=\"3287.1493\" y=\"-868.591\" font-family=\"Times,serif\" font-size=\"14.00\" fill=\"#000000\">leaf_index: 6</text>\n<text text-anchor=\"middle\" x=\"3287.1493\" y=\"-853.591\" font-family=\"Times,serif\" font-size=\"14.00\" fill=\"#000000\">leaf_value: &#45;0.5464949341110662</text>\n</g>\n<!-- split5&#45;&gt;leaf6 -->\n<g id=\"edge54\" class=\"edge\">\n<title>split5&#45;&gt;leaf6</title>\n<path fill=\"none\" stroke=\"#000000\" d=\"M3039.7391,-946.0254C3088.7498,-929.9333 3153.865,-908.5534 3204.9918,-891.7665\"/>\n<polygon fill=\"#000000\" stroke=\"#000000\" points=\"3206.2856,-895.0256 3214.6947,-888.5806 3204.1018,-888.3749 3206.2856,-895.0256\"/>\n<text text-anchor=\"middle\" x=\"3151.6493\" y=\"-913.461\" font-family=\"Times,serif\" font-size=\"14.00\" fill=\"#000000\">&gt;</text>\n</g>\n<!-- split7 -->\n<g id=\"node42\" class=\"node\">\n<title>split7</title>\n<ellipse fill=\"none\" stroke=\"#000000\" cx=\"2968.1493\" cy=\"-760.0509\" rx=\"150.7276\" ry=\"26.7407\"/>\n<text text-anchor=\"middle\" x=\"2968.1493\" y=\"-763.8509\" font-family=\"Times,serif\" font-size=\"14.00\" fill=\"#000000\">split_feature_name: ecg</text>\n<text text-anchor=\"middle\" x=\"2968.1493\" y=\"-748.8509\" font-family=\"Times,serif\" font-size=\"14.00\" fill=\"#000000\">threshold: &#45;1793.4999999999998</text>\n</g>\n<!-- split6&#45;&gt;split7 -->\n<g id=\"edge43\" class=\"edge\">\n<title>split6&#45;&gt;split7</title>\n<path fill=\"none\" stroke=\"#000000\" d=\"M2968.1493,-837.8178C2968.1493,-825.4784 2968.1493,-810.6569 2968.1493,-797.278\"/>\n<polygon fill=\"#000000\" stroke=\"#000000\" points=\"2971.6494,-796.9326 2968.1493,-786.9326 2964.6494,-796.9327 2971.6494,-796.9326\"/>\n<text text-anchor=\"middle\" x=\"2976.6493\" y=\"-808.7209\" font-family=\"Times,serif\" font-size=\"14.00\" fill=\"#000000\">&lt;=</text>\n</g>\n<!-- split8 -->\n<g id=\"node49\" class=\"node\">\n<title>split8</title>\n<ellipse fill=\"none\" stroke=\"#000000\" cx=\"3299.1493\" cy=\"-760.0509\" rx=\"150.7276\" ry=\"26.7407\"/>\n<text text-anchor=\"middle\" x=\"3299.1493\" y=\"-763.8509\" font-family=\"Times,serif\" font-size=\"14.00\" fill=\"#000000\">split_feature_name: ecg</text>\n<text text-anchor=\"middle\" x=\"3299.1493\" y=\"-748.8509\" font-family=\"Times,serif\" font-size=\"14.00\" fill=\"#000000\">threshold: &#45;2058.9999999999995</text>\n</g>\n<!-- split6&#45;&gt;split8 -->\n<g id=\"edge52\" class=\"edge\">\n<title>split6&#45;&gt;split8</title>\n<path fill=\"none\" stroke=\"#000000\" d=\"M3042.0202,-841.4156C3093.3199,-825.1826 3161.7708,-803.5223 3215.1486,-786.6317\"/>\n<polygon fill=\"#000000\" stroke=\"#000000\" points=\"3216.4543,-789.8896 3224.9324,-783.5357 3214.3424,-783.2158 3216.4543,-789.8896\"/>\n<text text-anchor=\"middle\" x=\"3158.6493\" y=\"-808.7209\" font-family=\"Times,serif\" font-size=\"14.00\" fill=\"#000000\">&gt;</text>\n</g>\n<!-- split9 -->\n<g id=\"node43\" class=\"node\">\n<title>split9</title>\n<ellipse fill=\"none\" stroke=\"#000000\" cx=\"2653.1493\" cy=\"-655.3107\" rx=\"147.5709\" ry=\"26.7407\"/>\n<text text-anchor=\"middle\" x=\"2653.1493\" y=\"-659.1107\" font-family=\"Times,serif\" font-size=\"14.00\" fill=\"#000000\">split_feature_name: gsr</text>\n<text text-anchor=\"middle\" x=\"2653.1493\" y=\"-644.1107\" font-family=\"Times,serif\" font-size=\"14.00\" fill=\"#000000\">threshold: 1316.5000000000002</text>\n</g>\n<!-- split7&#45;&gt;split9 -->\n<g id=\"edge41\" class=\"edge\">\n<title>split7&#45;&gt;split9</title>\n<path fill=\"none\" stroke=\"#000000\" d=\"M2896.6709,-736.2837C2848.1553,-720.1519 2783.931,-698.7968 2733.6193,-682.0677\"/>\n<polygon fill=\"#000000\" stroke=\"#000000\" points=\"2734.6666,-678.7276 2724.073,-678.8935 2732.4578,-685.37 2734.6666,-678.7276\"/>\n<text text-anchor=\"middle\" x=\"2838.6493\" y=\"-703.9808\" font-family=\"Times,serif\" font-size=\"14.00\" fill=\"#000000\">&lt;=</text>\n</g>\n<!-- leaf8 -->\n<g id=\"node48\" class=\"node\">\n<title>leaf8</title>\n<ellipse fill=\"none\" stroke=\"#000000\" cx=\"2973.1493\" cy=\"-655.3107\" rx=\"154.2987\" ry=\"26.7407\"/>\n<text text-anchor=\"middle\" x=\"2973.1493\" y=\"-659.1107\" font-family=\"Times,serif\" font-size=\"14.00\" fill=\"#000000\">leaf_index: 8</text>\n<text text-anchor=\"middle\" x=\"2973.1493\" y=\"-644.1107\" font-family=\"Times,serif\" font-size=\"14.00\" fill=\"#000000\">leaf_value: &#45;0.5451483158298294</text>\n</g>\n<!-- split7&#45;&gt;leaf8 -->\n<g id=\"edge42\" class=\"edge\">\n<title>split7&#45;&gt;leaf8</title>\n<path fill=\"none\" stroke=\"#000000\" d=\"M2969.4369,-733.0777C2970.026,-720.7382 2970.7335,-705.9168 2971.3722,-692.5379\"/>\n<polygon fill=\"#000000\" stroke=\"#000000\" points=\"2974.8851,-692.3481 2971.866,-682.1925 2967.8931,-692.0142 2974.8851,-692.3481\"/>\n<text text-anchor=\"middle\" x=\"2975.6493\" y=\"-703.9808\" font-family=\"Times,serif\" font-size=\"14.00\" fill=\"#000000\">&gt;</text>\n</g>\n<!-- split27 -->\n<g id=\"node44\" class=\"node\">\n<title>split27</title>\n<ellipse fill=\"none\" stroke=\"#000000\" cx=\"2487.1493\" cy=\"-550.5706\" rx=\"142.257\" ry=\"26.7407\"/>\n<text text-anchor=\"middle\" x=\"2487.1493\" y=\"-554.3706\" font-family=\"Times,serif\" font-size=\"14.00\" fill=\"#000000\">split_feature_name: crew</text>\n<text text-anchor=\"middle\" x=\"2487.1493\" y=\"-539.3706\" font-family=\"Times,serif\" font-size=\"14.00\" fill=\"#000000\">threshold: 4.500000000000001</text>\n</g>\n<!-- split9&#45;&gt;split27 -->\n<g id=\"edge39\" class=\"edge\">\n<title>split9&#45;&gt;split27</title>\n<path fill=\"none\" stroke=\"#000000\" d=\"M2612.1156,-629.4199C2589.2846,-615.0144 2560.7045,-596.9814 2536.6406,-581.7979\"/>\n<polygon fill=\"#000000\" stroke=\"#000000\" points=\"2538.3233,-578.7212 2527.9983,-576.3449 2534.5879,-584.6412 2538.3233,-578.7212\"/>\n<text text-anchor=\"middle\" x=\"2588.6493\" y=\"-599.2407\" font-family=\"Times,serif\" font-size=\"14.00\" fill=\"#000000\">&lt;=</text>\n</g>\n<!-- leaf10 -->\n<g id=\"node47\" class=\"node\">\n<title>leaf10</title>\n<ellipse fill=\"none\" stroke=\"#000000\" cx=\"2801.1493\" cy=\"-550.5706\" rx=\"153.3844\" ry=\"26.7407\"/>\n<text text-anchor=\"middle\" x=\"2801.1493\" y=\"-554.3706\" font-family=\"Times,serif\" font-size=\"14.00\" fill=\"#000000\">leaf_index: 10</text>\n<text text-anchor=\"middle\" x=\"2801.1493\" y=\"-539.3706\" font-family=\"Times,serif\" font-size=\"14.00\" fill=\"#000000\">leaf_value: &#45;0.5626595648111723</text>\n</g>\n<!-- split9&#45;&gt;leaf10 -->\n<g id=\"edge40\" class=\"edge\">\n<title>split9&#45;&gt;leaf10</title>\n<path fill=\"none\" stroke=\"#000000\" d=\"M2690.1142,-629.1506C2710.0686,-615.0288 2734.8638,-597.4811 2755.958,-582.5527\"/>\n<polygon fill=\"#000000\" stroke=\"#000000\" points=\"2758.0019,-585.394 2764.1427,-576.7603 2753.9581,-579.6802 2758.0019,-585.394\"/>\n<text text-anchor=\"middle\" x=\"2740.6493\" y=\"-599.2407\" font-family=\"Times,serif\" font-size=\"14.00\" fill=\"#000000\">&gt;</text>\n</g>\n<!-- leaf2 -->\n<g id=\"node45\" class=\"node\">\n<title>leaf2</title>\n<ellipse fill=\"none\" stroke=\"#000000\" cx=\"2459.1493\" cy=\"-445.8305\" rx=\"154.2987\" ry=\"26.7407\"/>\n<text text-anchor=\"middle\" x=\"2459.1493\" y=\"-449.6305\" font-family=\"Times,serif\" font-size=\"14.00\" fill=\"#000000\">leaf_index: 2</text>\n<text text-anchor=\"middle\" x=\"2459.1493\" y=\"-434.6305\" font-family=\"Times,serif\" font-size=\"14.00\" fill=\"#000000\">leaf_value: &#45;0.5521940199143192</text>\n</g>\n<!-- split27&#45;&gt;leaf2 -->\n<g id=\"edge37\" class=\"edge\">\n<title>split27&#45;&gt;leaf2</title>\n<path fill=\"none\" stroke=\"#000000\" d=\"M2479.9386,-523.5975C2476.6072,-511.1358 2472.5992,-496.1428 2468.995,-482.6607\"/>\n<polygon fill=\"#000000\" stroke=\"#000000\" points=\"2472.2995,-481.4691 2466.3355,-472.7123 2465.5369,-483.277 2472.2995,-481.4691\"/>\n<text text-anchor=\"middle\" x=\"2483.6493\" y=\"-494.5006\" font-family=\"Times,serif\" font-size=\"14.00\" fill=\"#000000\">&lt;=</text>\n</g>\n<!-- leaf28 -->\n<g id=\"node46\" class=\"node\">\n<title>leaf28</title>\n<ellipse fill=\"none\" stroke=\"#000000\" cx=\"2785.1493\" cy=\"-445.8305\" rx=\"154.2987\" ry=\"26.7407\"/>\n<text text-anchor=\"middle\" x=\"2785.1493\" y=\"-449.6305\" font-family=\"Times,serif\" font-size=\"14.00\" fill=\"#000000\">leaf_index: 28</text>\n<text text-anchor=\"middle\" x=\"2785.1493\" y=\"-434.6305\" font-family=\"Times,serif\" font-size=\"14.00\" fill=\"#000000\">leaf_value: &#45;0.5632852820840596</text>\n</g>\n<!-- split27&#45;&gt;leaf28 -->\n<g id=\"edge38\" class=\"edge\">\n<title>split27&#45;&gt;leaf28</title>\n<path fill=\"none\" stroke=\"#000000\" d=\"M2554.7701,-526.8035C2599.9946,-510.9081 2659.6475,-489.9415 2706.9205,-473.3261\"/>\n<polygon fill=\"#000000\" stroke=\"#000000\" points=\"2708.2322,-476.5751 2716.5059,-469.9571 2705.911,-469.9711 2708.2322,-476.5751\"/>\n<text text-anchor=\"middle\" x=\"2658.6493\" y=\"-494.5006\" font-family=\"Times,serif\" font-size=\"14.00\" fill=\"#000000\">&gt;</text>\n</g>\n<!-- leaf7 -->\n<g id=\"node50\" class=\"node\">\n<title>leaf7</title>\n<ellipse fill=\"none\" stroke=\"#000000\" cx=\"3299.1493\" cy=\"-655.3107\" rx=\"154.2987\" ry=\"26.7407\"/>\n<text text-anchor=\"middle\" x=\"3299.1493\" y=\"-659.1107\" font-family=\"Times,serif\" font-size=\"14.00\" fill=\"#000000\">leaf_index: 7</text>\n<text text-anchor=\"middle\" x=\"3299.1493\" y=\"-644.1107\" font-family=\"Times,serif\" font-size=\"14.00\" fill=\"#000000\">leaf_value: &#45;0.5479870078121895</text>\n</g>\n<!-- split8&#45;&gt;leaf7 -->\n<g id=\"edge44\" class=\"edge\">\n<title>split8&#45;&gt;leaf7</title>\n<path fill=\"none\" stroke=\"#000000\" d=\"M3299.1493,-733.0777C3299.1493,-720.7382 3299.1493,-705.9168 3299.1493,-692.5379\"/>\n<polygon fill=\"#000000\" stroke=\"#000000\" points=\"3302.6494,-692.1925 3299.1493,-682.1925 3295.6494,-692.1926 3302.6494,-692.1925\"/>\n<text text-anchor=\"middle\" x=\"3307.6493\" y=\"-703.9808\" font-family=\"Times,serif\" font-size=\"14.00\" fill=\"#000000\">&lt;=</text>\n</g>\n<!-- split10 -->\n<g id=\"node51\" class=\"node\">\n<title>split10</title>\n<ellipse fill=\"none\" stroke=\"#000000\" cx=\"3613.1493\" cy=\"-655.3107\" rx=\"142.257\" ry=\"26.7407\"/>\n<text text-anchor=\"middle\" x=\"3613.1493\" y=\"-659.1107\" font-family=\"Times,serif\" font-size=\"14.00\" fill=\"#000000\">split_feature_name: crew</text>\n<text text-anchor=\"middle\" x=\"3613.1493\" y=\"-644.1107\" font-family=\"Times,serif\" font-size=\"14.00\" fill=\"#000000\">threshold: 5.500000000000001</text>\n</g>\n<!-- split8&#45;&gt;split10 -->\n<g id=\"edge51\" class=\"edge\">\n<title>split8&#45;&gt;split10</title>\n<path fill=\"none\" stroke=\"#000000\" d=\"M3370.4007,-736.2837C3418.9323,-720.0952 3483.233,-698.6466 3533.463,-681.8915\"/>\n<polygon fill=\"#000000\" stroke=\"#000000\" points=\"3534.6129,-685.1976 3542.9915,-678.7131 3532.3978,-678.5573 3534.6129,-685.1976\"/>\n<text text-anchor=\"middle\" x=\"3478.6493\" y=\"-703.9808\" font-family=\"Times,serif\" font-size=\"14.00\" fill=\"#000000\">&gt;</text>\n</g>\n<!-- leaf9 -->\n<g id=\"node52\" class=\"node\">\n<title>leaf9</title>\n<ellipse fill=\"none\" stroke=\"#000000\" cx=\"3523.1493\" cy=\"-550.5706\" rx=\"153.3844\" ry=\"26.7407\"/>\n<text text-anchor=\"middle\" x=\"3523.1493\" y=\"-554.3706\" font-family=\"Times,serif\" font-size=\"14.00\" fill=\"#000000\">leaf_index: 9</text>\n<text text-anchor=\"middle\" x=\"3523.1493\" y=\"-539.3706\" font-family=\"Times,serif\" font-size=\"14.00\" fill=\"#000000\">leaf_value: &#45;0.5626611970511589</text>\n</g>\n<!-- split10&#45;&gt;leaf9 -->\n<g id=\"edge45\" class=\"edge\">\n<title>split10&#45;&gt;leaf9</title>\n<path fill=\"none\" stroke=\"#000000\" d=\"M3590.2056,-628.6094C3578.7806,-615.3133 3564.8357,-599.0844 3552.6276,-584.8769\"/>\n<polygon fill=\"#000000\" stroke=\"#000000\" points=\"3555.2229,-582.5268 3546.0511,-577.2232 3549.9137,-587.0889 3555.2229,-582.5268\"/>\n<text text-anchor=\"middle\" x=\"3581.6493\" y=\"-599.2407\" font-family=\"Times,serif\" font-size=\"14.00\" fill=\"#000000\">&lt;=</text>\n</g>\n<!-- split11 -->\n<g id=\"node53\" class=\"node\">\n<title>split11</title>\n<ellipse fill=\"none\" stroke=\"#000000\" cx=\"3842.1493\" cy=\"-550.5706\" rx=\"147.5709\" ry=\"26.7407\"/>\n<text text-anchor=\"middle\" x=\"3842.1493\" y=\"-554.3706\" font-family=\"Times,serif\" font-size=\"14.00\" fill=\"#000000\">split_feature_name: gsr</text>\n<text text-anchor=\"middle\" x=\"3842.1493\" y=\"-539.3706\" font-family=\"Times,serif\" font-size=\"14.00\" fill=\"#000000\">threshold: 1782.5000000000002</text>\n</g>\n<!-- split10&#45;&gt;split11 -->\n<g id=\"edge50\" class=\"edge\">\n<title>split10&#45;&gt;split11</title>\n<path fill=\"none\" stroke=\"#000000\" d=\"M3667.7095,-630.356C3700.8626,-615.1924 3743.3526,-595.7583 3778.0967,-579.867\"/>\n<polygon fill=\"#000000\" stroke=\"#000000\" points=\"3779.5752,-583.0396 3787.2133,-575.6973 3776.6636,-576.6738 3779.5752,-583.0396\"/>\n<text text-anchor=\"middle\" x=\"3745.6493\" y=\"-599.2407\" font-family=\"Times,serif\" font-size=\"14.00\" fill=\"#000000\">&gt;</text>\n</g>\n<!-- split12 -->\n<g id=\"node54\" class=\"node\">\n<title>split12</title>\n<ellipse fill=\"none\" stroke=\"#000000\" cx=\"3685.1493\" cy=\"-445.8305\" rx=\"142.257\" ry=\"26.7407\"/>\n<text text-anchor=\"middle\" x=\"3685.1493\" y=\"-449.6305\" font-family=\"Times,serif\" font-size=\"14.00\" fill=\"#000000\">split_feature_name: ecg</text>\n<text text-anchor=\"middle\" x=\"3685.1493\" y=\"-434.6305\" font-family=\"Times,serif\" font-size=\"14.00\" fill=\"#000000\">threshold: 9844.000000000002</text>\n</g>\n<!-- split11&#45;&gt;split12 -->\n<g id=\"edge48\" class=\"edge\">\n<title>split11&#45;&gt;split12</title>\n<path fill=\"none\" stroke=\"#000000\" d=\"M3802.9365,-524.4105C3781.5945,-510.1724 3755.0324,-492.452 3732.5371,-477.4445\"/>\n<polygon fill=\"#000000\" stroke=\"#000000\" points=\"3734.3951,-474.4767 3724.134,-471.8386 3730.5103,-480.2998 3734.3951,-474.4767\"/>\n<text text-anchor=\"middle\" x=\"3780.6493\" y=\"-494.5006\" font-family=\"Times,serif\" font-size=\"14.00\" fill=\"#000000\">&lt;=</text>\n</g>\n<!-- leaf12 -->\n<g id=\"node57\" class=\"node\">\n<title>leaf12</title>\n<ellipse fill=\"none\" stroke=\"#000000\" cx=\"3999.1493\" cy=\"-445.8305\" rx=\"154.2987\" ry=\"26.7407\"/>\n<text text-anchor=\"middle\" x=\"3999.1493\" y=\"-449.6305\" font-family=\"Times,serif\" font-size=\"14.00\" fill=\"#000000\">leaf_index: 12</text>\n<text text-anchor=\"middle\" x=\"3999.1493\" y=\"-434.6305\" font-family=\"Times,serif\" font-size=\"14.00\" fill=\"#000000\">leaf_value: &#45;0.5460465375022369</text>\n</g>\n<!-- split11&#45;&gt;leaf12 -->\n<g id=\"edge49\" class=\"edge\">\n<title>split11&#45;&gt;leaf12</title>\n<path fill=\"none\" stroke=\"#000000\" d=\"M3881.362,-524.4105C3902.7041,-510.1724 3929.2661,-492.452 3951.7615,-477.4445\"/>\n<polygon fill=\"#000000\" stroke=\"#000000\" points=\"3953.7883,-480.2998 3960.1646,-471.8386 3949.9035,-474.4767 3953.7883,-480.2998\"/>\n<text text-anchor=\"middle\" x=\"3933.6493\" y=\"-494.5006\" font-family=\"Times,serif\" font-size=\"14.00\" fill=\"#000000\">&gt;</text>\n</g>\n<!-- leaf11 -->\n<g id=\"node55\" class=\"node\">\n<title>leaf11</title>\n<ellipse fill=\"none\" stroke=\"#000000\" cx=\"3522.1493\" cy=\"-341.0904\" rx=\"154.2987\" ry=\"26.7407\"/>\n<text text-anchor=\"middle\" x=\"3522.1493\" y=\"-344.8904\" font-family=\"Times,serif\" font-size=\"14.00\" fill=\"#000000\">leaf_index: 11</text>\n<text text-anchor=\"middle\" x=\"3522.1493\" y=\"-329.8904\" font-family=\"Times,serif\" font-size=\"14.00\" fill=\"#000000\">leaf_value: &#45;0.5436674470127829</text>\n</g>\n<!-- split12&#45;&gt;leaf11 -->\n<g id=\"edge46\" class=\"edge\">\n<title>split12&#45;&gt;leaf11</title>\n<path fill=\"none\" stroke=\"#000000\" d=\"M3644.8571,-419.9397C3622.5227,-405.5881 3594.5854,-387.6362 3571.0119,-372.4884\"/>\n<polygon fill=\"#000000\" stroke=\"#000000\" points=\"3572.8478,-369.5078 3562.5428,-367.0464 3569.0636,-375.3968 3572.8478,-369.5078\"/>\n<text text-anchor=\"middle\" x=\"3621.6493\" y=\"-389.7605\" font-family=\"Times,serif\" font-size=\"14.00\" fill=\"#000000\">&lt;=</text>\n</g>\n<!-- leaf13 -->\n<g id=\"node56\" class=\"node\">\n<title>leaf13</title>\n<ellipse fill=\"none\" stroke=\"#000000\" cx=\"3848.1493\" cy=\"-341.0904\" rx=\"154.2987\" ry=\"26.7407\"/>\n<text text-anchor=\"middle\" x=\"3848.1493\" y=\"-344.8904\" font-family=\"Times,serif\" font-size=\"14.00\" fill=\"#000000\">leaf_index: 13</text>\n<text text-anchor=\"middle\" x=\"3848.1493\" y=\"-329.8904\" font-family=\"Times,serif\" font-size=\"14.00\" fill=\"#000000\">leaf_value: &#45;0.5638665869330345</text>\n</g>\n<!-- split12&#45;&gt;leaf13 -->\n<g id=\"edge47\" class=\"edge\">\n<title>split12&#45;&gt;leaf13</title>\n<path fill=\"none\" stroke=\"#000000\" d=\"M3725.4414,-419.9397C3747.7758,-405.5881 3775.7132,-387.6362 3799.2867,-372.4884\"/>\n<polygon fill=\"#000000\" stroke=\"#000000\" points=\"3801.2349,-375.3968 3807.7557,-367.0464 3797.4508,-369.5078 3801.2349,-375.3968\"/>\n<text text-anchor=\"middle\" x=\"3780.6493\" y=\"-389.7605\" font-family=\"Times,serif\" font-size=\"14.00\" fill=\"#000000\">&gt;</text>\n</g>\n</g>\n</svg>\n"
          },
          "metadata": {
            "tags": []
          },
          "execution_count": 6
        }
      ]
    },
    {
      "cell_type": "code",
      "metadata": {
        "id": "sJo4GT4LsPBd",
        "colab_type": "code",
        "colab": {
          "base_uri": "https://localhost:8080/",
          "height": 167
        },
        "outputId": "6aafe807-70cd-4c7c-8289-e3c7fd009c9f"
      },
      "source": [
        "lgb.plot_tree(model)"
      ],
      "execution_count": null,
      "outputs": [
        {
          "output_type": "execute_result",
          "data": {
            "text/plain": [
              "<matplotlib.axes._subplots.AxesSubplot at 0x7f5b9dc9d128>"
            ]
          },
          "metadata": {
            "tags": []
          },
          "execution_count": 7
        },
        {
          "output_type": "display_data",
          "data": {
            "image/png": "[encoded data removed]",
            "text/plain": [
              "<Figure size 432x288 with 1 Axes>"
            ]
          },
          "metadata": {
            "tags": [],
            "needs_background": "light"
          }
        }
      ]
    },
    {
      "cell_type": "code",
      "metadata": {
        "id": "zWwK7cNf3olG",
        "colab_type": "code",
        "colab": {
          "base_uri": "https://localhost:8080/",
          "height": 122
        },
        "outputId": "64643d4b-cb6f-45cd-e69f-2b8e4afb6f80"
      },
      "source": [
        "from google.colab import drive\n",
        "drive.mount('/content/drive')"
      ],
      "execution_count": null,
      "outputs": [
        {
          "output_type": "stream",
          "text": [
            "Go to this URL in a browser: https://accounts.google.com/o/oauth2/auth?client_id=947318989803-6bn6qk8qdgf4n4g3pfee6491hc0brc4i.apps.googleusercontent.com&redirect_uri=urn%3aietf%3awg%3aoauth%3a2.0%3aoob&response_type=code&scope=email%20https%3a%2f%2fwww.googleapis.com%2fauth%2fdocs.test%20https%3a%2f%2fwww.googleapis.com%2fauth%2fdrive%20https%3a%2f%2fwww.googleapis.com%2fauth%2fdrive.photos.readonly%20https%3a%2f%2fwww.googleapis.com%2fauth%2fpeopleapi.readonly\n",
            "\n",
            "Enter your authorization code:\n",
            "··········\n",
            "Mounted at /content/drive\n"
          ],
          "name": "stdout"
        }
      ]
    },
    {
      "cell_type": "code",
      "metadata": {
        "id": "tlCvX3Sb4AtA",
        "colab_type": "code",
        "colab": {}
      },
      "source": [
        "import os\n",
        "os.chdir('/content/drive/My Drive/ML case study/models')"
      ],
      "execution_count": null,
      "outputs": []
    },
    {
      "cell_type": "code",
      "metadata": {
        "id": "CP3k8NeK3wy4",
        "colab_type": "code",
        "colab": {
          "base_uri": "https://localhost:8080/",
          "height": 34
        },
        "outputId": "3399b897-c46b-4b4c-c96d-19b1b68f95e6"
      },
      "source": [
        "import joblib \n",
        "joblib.dump(model,'Model_building_LGB(1).pkl')"
      ],
      "execution_count": null,
      "outputs": [
        {
          "output_type": "execute_result",
          "data": {
            "text/plain": [
              "['Model_building_LGB(1).pkl']"
            ]
          },
          "metadata": {
            "tags": []
          },
          "execution_count": 10
        }
      ]
    },
    {
      "cell_type": "code",
      "metadata": {
        "id": "zVE1l86EvR7o",
        "colab_type": "code",
        "colab": {}
      },
      "source": [
        "import joblib \n",
        "model =joblib.load('Model_building_LGB(1).pkl')"
      ],
      "execution_count": null,
      "outputs": []
    },
    {
      "cell_type": "code",
      "metadata": {
        "id": "5YsKymOA37fg",
        "colab_type": "code",
        "colab": {}
      },
      "source": [
        "os.chdir('/content')"
      ],
      "execution_count": null,
      "outputs": []
    },
    {
      "cell_type": "code",
      "metadata": {
        "id": "cfEzUpxk4S0u",
        "colab_type": "code",
        "colab": {
          "base_uri": "https://localhost:8080/",
          "height": 224
        },
        "outputId": "08922777-f2fb-4fe9-83eb-90fc1cb1cb41"
      },
      "source": [
        "!wget --header=\"Host: storage.googleapis.com\" --header=\"User-Agent: Mozilla/5.0 (X11; Linux x86_64) AppleWebKit/537.36 (KHTML, like Gecko) Chrome/84.0.4147.105 Safari/537.36\" --header=\"Accept: text/html,application/xhtml+xml,application/xml;q=0.9,image/webp,image/apng,*/*;q=0.8,application/signed-exchange;v=b3;q=0.9\" --header=\"Accept-Language: en-GB,en-US;q=0.9,en;q=0.8\" --header=\"Referer: https://www.kaggle.com/\" \"https://storage.googleapis.com/kaggle-competitions-data/kaggle-v2/11835/224935/compressed/test.csv.zip?GoogleAccessId=web-data@kaggle-161607.iam.gserviceaccount.com&Expires=1597062299&Signature=sSEFif%2Bviyz4WtNlQ0YoOIKIdFcDpMHNbPp6WC0PyglcoixHb3mbDv90BDKUgfaGHRdlNL5jZdlYFSKTabezCGvWs2GLuvwjD5b2DyS6lOXgv1zJDoEYiZSaw2P3oCCRjSJKQKv5GZeHEXa4go%2FpMg4jzDFh%2BCnTxCPdFeYntOBu%2F8NgEe7ntcLUDvbtzn%2BwIrBuud1RDDVyBuv2fNTuzoQLgDvM2U%2B6NzaYZVzkEbxvGJRcieT7b0RxegoC3LRpl%2Bk0WPXo6Qy4qq7quVNix%2FjvkjPhXz2txIj27sGcn%2Bg%2FGP8OKCvWitUAPnry7ngQLMxwdhyMASE4iXIkRl4dGA%3D%3D&response-content-disposition=attachment%3B+filename%3Dtest.csv.zip\" -c -O 'test.csv.zip'"
      ],
      "execution_count": null,
      "outputs": [
        {
          "output_type": "stream",
          "text": [
            "--2020-08-08 11:57:06--  https://storage.googleapis.com/kaggle-competitions-data/kaggle-v2/11835/224935/compressed/test.csv.zip?GoogleAccessId=web-data@kaggle-161607.iam.gserviceaccount.com&Expires=1597062299&Signature=sSEFif%2Bviyz4WtNlQ0YoOIKIdFcDpMHNbPp6WC0PyglcoixHb3mbDv90BDKUgfaGHRdlNL5jZdlYFSKTabezCGvWs2GLuvwjD5b2DyS6lOXgv1zJDoEYiZSaw2P3oCCRjSJKQKv5GZeHEXa4go%2FpMg4jzDFh%2BCnTxCPdFeYntOBu%2F8NgEe7ntcLUDvbtzn%2BwIrBuud1RDDVyBuv2fNTuzoQLgDvM2U%2B6NzaYZVzkEbxvGJRcieT7b0RxegoC3LRpl%2Bk0WPXo6Qy4qq7quVNix%2FjvkjPhXz2txIj27sGcn%2Bg%2FGP8OKCvWitUAPnry7ngQLMxwdhyMASE4iXIkRl4dGA%3D%3D&response-content-disposition=attachment%3B+filename%3Dtest.csv.zip\n",
            "Resolving storage.googleapis.com (storage.googleapis.com)... 173.194.214.128, 173.194.215.128, 173.194.216.128, ...\n",
            "Connecting to storage.googleapis.com (storage.googleapis.com)|173.194.214.128|:443... connected.\n",
            "HTTP request sent, awaiting response... 200 OK\n",
            "Length: 1791131386 (1.7G) [application/zip]\n",
            "Saving to: ‘test.csv.zip’\n",
            "\n",
            "test.csv.zip        100%[===================>]   1.67G   135MB/s    in 14s     \n",
            "\n",
            "2020-08-08 11:57:20 (124 MB/s) - ‘test.csv.zip’ saved [1791131386/1791131386]\n",
            "\n"
          ],
          "name": "stdout"
        }
      ]
    },
    {
      "cell_type": "code",
      "metadata": {
        "id": "m9U-MvCP4fer",
        "colab_type": "code",
        "colab": {
          "base_uri": "https://localhost:8080/",
          "height": 51
        },
        "outputId": "20cce1a0-3155-4e05-b32c-472e0ceef308"
      },
      "source": [
        "!unzip test.csv.zip"
      ],
      "execution_count": null,
      "outputs": [
        {
          "output_type": "stream",
          "text": [
            "Archive:  test.csv.zip\n",
            "  inflating: test.csv                \n"
          ],
          "name": "stdout"
        }
      ]
    },
    {
      "cell_type": "code",
      "metadata": {
        "id": "U4nBQcvC4kzl",
        "colab_type": "code",
        "colab": {
          "base_uri": "https://localhost:8080/",
          "height": 85
        },
        "outputId": "4eb50d63-4343-4d1e-d720-d7ed96b25f40"
      },
      "source": [
        "test = featureModify(False, None)\n",
        "print(\"Done test read\")"
      ],
      "execution_count": null,
      "outputs": [
        {
          "output_type": "stream",
          "text": [
            "Memory usage of dataframe is 3974.83 MB\n",
            "Memory usage after optimization is: 1079.37 MB\n",
            "Decreased by 72.8%\n",
            "Done test read\n"
          ],
          "name": "stdout"
        }
      ]
    },
    {
      "cell_type": "code",
      "metadata": {
        "id": "VXI-gGyZ5Fw8",
        "colab_type": "code",
        "colab": {
          "base_uri": "https://localhost:8080/",
          "height": 224
        },
        "outputId": "39eb0c5d-b3bf-4744-e64c-aba60df7c5d7"
      },
      "source": [
        "test.head()"
      ],
      "execution_count": null,
      "outputs": [
        {
          "output_type": "execute_result",
          "data": {
            "text/html": [
              "<div>\n",
              "<style scoped>\n",
              "    .dataframe tbody tr th:only-of-type {\n",
              "        vertical-align: middle;\n",
              "    }\n",
              "\n",
              "    .dataframe tbody tr th {\n",
              "        vertical-align: top;\n",
              "    }\n",
              "\n",
              "    .dataframe thead th {\n",
              "        text-align: right;\n",
              "    }\n",
              "</style>\n",
              "<table border=\"1\" class=\"dataframe\">\n",
              "  <thead>\n",
              "    <tr style=\"text-align: right;\">\n",
              "      <th></th>\n",
              "      <th>id</th>\n",
              "      <th>crew</th>\n",
              "      <th>experiment</th>\n",
              "      <th>time</th>\n",
              "      <th>seat</th>\n",
              "      <th>eeg_fp1</th>\n",
              "      <th>eeg_f7</th>\n",
              "      <th>eeg_f8</th>\n",
              "      <th>eeg_t4</th>\n",
              "      <th>eeg_t6</th>\n",
              "      <th>eeg_t5</th>\n",
              "      <th>eeg_t3</th>\n",
              "      <th>eeg_fp2</th>\n",
              "      <th>eeg_o1</th>\n",
              "      <th>eeg_p3</th>\n",
              "      <th>eeg_pz</th>\n",
              "      <th>eeg_f3</th>\n",
              "      <th>eeg_fz</th>\n",
              "      <th>eeg_f4</th>\n",
              "      <th>eeg_c4</th>\n",
              "      <th>eeg_p4</th>\n",
              "      <th>eeg_poz</th>\n",
              "      <th>eeg_c3</th>\n",
              "      <th>eeg_cz</th>\n",
              "      <th>eeg_o2</th>\n",
              "      <th>ecg</th>\n",
              "      <th>r</th>\n",
              "      <th>gsr</th>\n",
              "    </tr>\n",
              "  </thead>\n",
              "  <tbody>\n",
              "    <tr>\n",
              "      <th>0</th>\n",
              "      <td>0</td>\n",
              "      <td>1</td>\n",
              "      <td>LOFT</td>\n",
              "      <td>0.000000</td>\n",
              "      <td>0</td>\n",
              "      <td>17.906250</td>\n",
              "      <td>6.128906</td>\n",
              "      <td>0.994629</td>\n",
              "      <td>-28.203125</td>\n",
              "      <td>-47.687500</td>\n",
              "      <td>-187.125000</td>\n",
              "      <td>-33.187500</td>\n",
              "      <td>-4.222656</td>\n",
              "      <td>8.179688</td>\n",
              "      <td>33.156250</td>\n",
              "      <td>33.812500</td>\n",
              "      <td>21.750000</td>\n",
              "      <td>16.296875</td>\n",
              "      <td>-7.042969</td>\n",
              "      <td>-14.406250</td>\n",
              "      <td>-4.035156</td>\n",
              "      <td>-0.393799</td>\n",
              "      <td>31.843750</td>\n",
              "      <td>17.078125</td>\n",
              "      <td>-8.140625</td>\n",
              "      <td>-7324.0</td>\n",
              "      <td>643.0</td>\n",
              "      <td>595.00</td>\n",
              "    </tr>\n",
              "    <tr>\n",
              "      <th>1</th>\n",
              "      <td>1</td>\n",
              "      <td>1</td>\n",
              "      <td>LOFT</td>\n",
              "      <td>0.000000</td>\n",
              "      <td>1</td>\n",
              "      <td>45.875000</td>\n",
              "      <td>94.750000</td>\n",
              "      <td>23.296875</td>\n",
              "      <td>1.391602</td>\n",
              "      <td>2.060547</td>\n",
              "      <td>-5.144531</td>\n",
              "      <td>6.394531</td>\n",
              "      <td>33.406250</td>\n",
              "      <td>-295.000000</td>\n",
              "      <td>8.375000</td>\n",
              "      <td>29.640625</td>\n",
              "      <td>16.218750</td>\n",
              "      <td>850.500000</td>\n",
              "      <td>19.890625</td>\n",
              "      <td>-215.125000</td>\n",
              "      <td>2.119141</td>\n",
              "      <td>7.339844</td>\n",
              "      <td>9.664062</td>\n",
              "      <td>1169.000000</td>\n",
              "      <td>-0.024414</td>\n",
              "      <td>-3336.0</td>\n",
              "      <td>826.5</td>\n",
              "      <td>136.25</td>\n",
              "    </tr>\n",
              "    <tr>\n",
              "      <th>2</th>\n",
              "      <td>2</td>\n",
              "      <td>1</td>\n",
              "      <td>LOFT</td>\n",
              "      <td>0.003906</td>\n",
              "      <td>0</td>\n",
              "      <td>33.125000</td>\n",
              "      <td>28.359375</td>\n",
              "      <td>-7.238281</td>\n",
              "      <td>-7.691406</td>\n",
              "      <td>-25.828125</td>\n",
              "      <td>-107.250000</td>\n",
              "      <td>12.843750</td>\n",
              "      <td>1.214844</td>\n",
              "      <td>13.320312</td>\n",
              "      <td>44.437500</td>\n",
              "      <td>37.593750</td>\n",
              "      <td>29.078125</td>\n",
              "      <td>22.312500</td>\n",
              "      <td>-7.640625</td>\n",
              "      <td>-10.367188</td>\n",
              "      <td>10.953125</td>\n",
              "      <td>6.511719</td>\n",
              "      <td>36.031250</td>\n",
              "      <td>24.359375</td>\n",
              "      <td>0.956055</td>\n",
              "      <td>-7324.0</td>\n",
              "      <td>643.0</td>\n",
              "      <td>595.00</td>\n",
              "    </tr>\n",
              "    <tr>\n",
              "      <th>3</th>\n",
              "      <td>3</td>\n",
              "      <td>1</td>\n",
              "      <td>LOFT</td>\n",
              "      <td>0.003906</td>\n",
              "      <td>1</td>\n",
              "      <td>43.281250</td>\n",
              "      <td>95.875000</td>\n",
              "      <td>18.703125</td>\n",
              "      <td>-1.432617</td>\n",
              "      <td>-4.234375</td>\n",
              "      <td>-8.023438</td>\n",
              "      <td>7.425781</td>\n",
              "      <td>27.343750</td>\n",
              "      <td>-310.250000</td>\n",
              "      <td>5.390625</td>\n",
              "      <td>27.734375</td>\n",
              "      <td>7.218750</td>\n",
              "      <td>816.500000</td>\n",
              "      <td>13.828125</td>\n",
              "      <td>-214.250000</td>\n",
              "      <td>-4.914062</td>\n",
              "      <td>3.503906</td>\n",
              "      <td>3.878906</td>\n",
              "      <td>1159.000000</td>\n",
              "      <td>-0.047607</td>\n",
              "      <td>-3336.0</td>\n",
              "      <td>826.5</td>\n",
              "      <td>136.25</td>\n",
              "    </tr>\n",
              "    <tr>\n",
              "      <th>4</th>\n",
              "      <td>4</td>\n",
              "      <td>1</td>\n",
              "      <td>LOFT</td>\n",
              "      <td>0.007812</td>\n",
              "      <td>0</td>\n",
              "      <td>7.929688</td>\n",
              "      <td>3.460938</td>\n",
              "      <td>-10.859375</td>\n",
              "      <td>-26.359375</td>\n",
              "      <td>-25.890625</td>\n",
              "      <td>37.000000</td>\n",
              "      <td>-50.343750</td>\n",
              "      <td>-11.679688</td>\n",
              "      <td>-1.143555</td>\n",
              "      <td>-17.593750</td>\n",
              "      <td>34.062500</td>\n",
              "      <td>22.906250</td>\n",
              "      <td>19.031250</td>\n",
              "      <td>2.044922</td>\n",
              "      <td>-20.781250</td>\n",
              "      <td>-3.613281</td>\n",
              "      <td>-7.539062</td>\n",
              "      <td>3.083984</td>\n",
              "      <td>13.648438</td>\n",
              "      <td>1.473633</td>\n",
              "      <td>-7324.0</td>\n",
              "      <td>643.0</td>\n",
              "      <td>595.00</td>\n",
              "    </tr>\n",
              "  </tbody>\n",
              "</table>\n",
              "</div>"
            ],
            "text/plain": [
              "   id  crew experiment      time  ...    eeg_o2     ecg      r     gsr\n",
              "0   0     1       LOFT  0.000000  ... -8.140625 -7324.0  643.0  595.00\n",
              "1   1     1       LOFT  0.000000  ... -0.024414 -3336.0  826.5  136.25\n",
              "2   2     1       LOFT  0.003906  ...  0.956055 -7324.0  643.0  595.00\n",
              "3   3     1       LOFT  0.003906  ... -0.047607 -3336.0  826.5  136.25\n",
              "4   4     1       LOFT  0.007812  ...  1.473633 -7324.0  643.0  595.00\n",
              "\n",
              "[5 rows x 28 columns]"
            ]
          },
          "metadata": {
            "tags": []
          },
          "execution_count": 4
        }
      ]
    },
    {
      "cell_type": "code",
      "metadata": {
        "id": "iSBb8I4k6iEt",
        "colab_type": "code",
        "colab": {}
      },
      "source": [
        "df_sub = pd.DataFrame()\n",
        "df_sub['id'] = test['id']\n",
        "test = test.drop('id',axis=1)"
      ],
      "execution_count": null,
      "outputs": []
    },
    {
      "cell_type": "code",
      "metadata": {
        "id": "A5_pDCkL6s_5",
        "colab_type": "code",
        "colab": {
          "base_uri": "https://localhost:8080/",
          "height": 224
        },
        "outputId": "af4d13cc-ff5b-4425-863a-a443aa7edff3"
      },
      "source": [
        "test.head()"
      ],
      "execution_count": null,
      "outputs": [
        {
          "output_type": "execute_result",
          "data": {
            "text/html": [
              "<div>\n",
              "<style scoped>\n",
              "    .dataframe tbody tr th:only-of-type {\n",
              "        vertical-align: middle;\n",
              "    }\n",
              "\n",
              "    .dataframe tbody tr th {\n",
              "        vertical-align: top;\n",
              "    }\n",
              "\n",
              "    .dataframe thead th {\n",
              "        text-align: right;\n",
              "    }\n",
              "</style>\n",
              "<table border=\"1\" class=\"dataframe\">\n",
              "  <thead>\n",
              "    <tr style=\"text-align: right;\">\n",
              "      <th></th>\n",
              "      <th>crew</th>\n",
              "      <th>experiment</th>\n",
              "      <th>time</th>\n",
              "      <th>seat</th>\n",
              "      <th>eeg_fp1</th>\n",
              "      <th>eeg_f7</th>\n",
              "      <th>eeg_f8</th>\n",
              "      <th>eeg_t4</th>\n",
              "      <th>eeg_t6</th>\n",
              "      <th>eeg_t5</th>\n",
              "      <th>eeg_t3</th>\n",
              "      <th>eeg_fp2</th>\n",
              "      <th>eeg_o1</th>\n",
              "      <th>eeg_p3</th>\n",
              "      <th>eeg_pz</th>\n",
              "      <th>eeg_f3</th>\n",
              "      <th>eeg_fz</th>\n",
              "      <th>eeg_f4</th>\n",
              "      <th>eeg_c4</th>\n",
              "      <th>eeg_p4</th>\n",
              "      <th>eeg_poz</th>\n",
              "      <th>eeg_c3</th>\n",
              "      <th>eeg_cz</th>\n",
              "      <th>eeg_o2</th>\n",
              "      <th>ecg</th>\n",
              "      <th>r</th>\n",
              "      <th>gsr</th>\n",
              "    </tr>\n",
              "  </thead>\n",
              "  <tbody>\n",
              "    <tr>\n",
              "      <th>0</th>\n",
              "      <td>1</td>\n",
              "      <td>LOFT</td>\n",
              "      <td>0.000000</td>\n",
              "      <td>0</td>\n",
              "      <td>17.906250</td>\n",
              "      <td>6.128906</td>\n",
              "      <td>0.994629</td>\n",
              "      <td>-28.203125</td>\n",
              "      <td>-47.687500</td>\n",
              "      <td>-187.125000</td>\n",
              "      <td>-33.187500</td>\n",
              "      <td>-4.222656</td>\n",
              "      <td>8.179688</td>\n",
              "      <td>33.156250</td>\n",
              "      <td>33.812500</td>\n",
              "      <td>21.750000</td>\n",
              "      <td>16.296875</td>\n",
              "      <td>-7.042969</td>\n",
              "      <td>-14.406250</td>\n",
              "      <td>-4.035156</td>\n",
              "      <td>-0.393799</td>\n",
              "      <td>31.843750</td>\n",
              "      <td>17.078125</td>\n",
              "      <td>-8.140625</td>\n",
              "      <td>-7324.0</td>\n",
              "      <td>643.0</td>\n",
              "      <td>595.00</td>\n",
              "    </tr>\n",
              "    <tr>\n",
              "      <th>1</th>\n",
              "      <td>1</td>\n",
              "      <td>LOFT</td>\n",
              "      <td>0.000000</td>\n",
              "      <td>1</td>\n",
              "      <td>45.875000</td>\n",
              "      <td>94.750000</td>\n",
              "      <td>23.296875</td>\n",
              "      <td>1.391602</td>\n",
              "      <td>2.060547</td>\n",
              "      <td>-5.144531</td>\n",
              "      <td>6.394531</td>\n",
              "      <td>33.406250</td>\n",
              "      <td>-295.000000</td>\n",
              "      <td>8.375000</td>\n",
              "      <td>29.640625</td>\n",
              "      <td>16.218750</td>\n",
              "      <td>850.500000</td>\n",
              "      <td>19.890625</td>\n",
              "      <td>-215.125000</td>\n",
              "      <td>2.119141</td>\n",
              "      <td>7.339844</td>\n",
              "      <td>9.664062</td>\n",
              "      <td>1169.000000</td>\n",
              "      <td>-0.024414</td>\n",
              "      <td>-3336.0</td>\n",
              "      <td>826.5</td>\n",
              "      <td>136.25</td>\n",
              "    </tr>\n",
              "    <tr>\n",
              "      <th>2</th>\n",
              "      <td>1</td>\n",
              "      <td>LOFT</td>\n",
              "      <td>0.003906</td>\n",
              "      <td>0</td>\n",
              "      <td>33.125000</td>\n",
              "      <td>28.359375</td>\n",
              "      <td>-7.238281</td>\n",
              "      <td>-7.691406</td>\n",
              "      <td>-25.828125</td>\n",
              "      <td>-107.250000</td>\n",
              "      <td>12.843750</td>\n",
              "      <td>1.214844</td>\n",
              "      <td>13.320312</td>\n",
              "      <td>44.437500</td>\n",
              "      <td>37.593750</td>\n",
              "      <td>29.078125</td>\n",
              "      <td>22.312500</td>\n",
              "      <td>-7.640625</td>\n",
              "      <td>-10.367188</td>\n",
              "      <td>10.953125</td>\n",
              "      <td>6.511719</td>\n",
              "      <td>36.031250</td>\n",
              "      <td>24.359375</td>\n",
              "      <td>0.956055</td>\n",
              "      <td>-7324.0</td>\n",
              "      <td>643.0</td>\n",
              "      <td>595.00</td>\n",
              "    </tr>\n",
              "    <tr>\n",
              "      <th>3</th>\n",
              "      <td>1</td>\n",
              "      <td>LOFT</td>\n",
              "      <td>0.003906</td>\n",
              "      <td>1</td>\n",
              "      <td>43.281250</td>\n",
              "      <td>95.875000</td>\n",
              "      <td>18.703125</td>\n",
              "      <td>-1.432617</td>\n",
              "      <td>-4.234375</td>\n",
              "      <td>-8.023438</td>\n",
              "      <td>7.425781</td>\n",
              "      <td>27.343750</td>\n",
              "      <td>-310.250000</td>\n",
              "      <td>5.390625</td>\n",
              "      <td>27.734375</td>\n",
              "      <td>7.218750</td>\n",
              "      <td>816.500000</td>\n",
              "      <td>13.828125</td>\n",
              "      <td>-214.250000</td>\n",
              "      <td>-4.914062</td>\n",
              "      <td>3.503906</td>\n",
              "      <td>3.878906</td>\n",
              "      <td>1159.000000</td>\n",
              "      <td>-0.047607</td>\n",
              "      <td>-3336.0</td>\n",
              "      <td>826.5</td>\n",
              "      <td>136.25</td>\n",
              "    </tr>\n",
              "    <tr>\n",
              "      <th>4</th>\n",
              "      <td>1</td>\n",
              "      <td>LOFT</td>\n",
              "      <td>0.007812</td>\n",
              "      <td>0</td>\n",
              "      <td>7.929688</td>\n",
              "      <td>3.460938</td>\n",
              "      <td>-10.859375</td>\n",
              "      <td>-26.359375</td>\n",
              "      <td>-25.890625</td>\n",
              "      <td>37.000000</td>\n",
              "      <td>-50.343750</td>\n",
              "      <td>-11.679688</td>\n",
              "      <td>-1.143555</td>\n",
              "      <td>-17.593750</td>\n",
              "      <td>34.062500</td>\n",
              "      <td>22.906250</td>\n",
              "      <td>19.031250</td>\n",
              "      <td>2.044922</td>\n",
              "      <td>-20.781250</td>\n",
              "      <td>-3.613281</td>\n",
              "      <td>-7.539062</td>\n",
              "      <td>3.083984</td>\n",
              "      <td>13.648438</td>\n",
              "      <td>1.473633</td>\n",
              "      <td>-7324.0</td>\n",
              "      <td>643.0</td>\n",
              "      <td>595.00</td>\n",
              "    </tr>\n",
              "  </tbody>\n",
              "</table>\n",
              "</div>"
            ],
            "text/plain": [
              "   crew experiment      time  seat  ...    eeg_o2     ecg      r     gsr\n",
              "0     1       LOFT  0.000000     0  ... -8.140625 -7324.0  643.0  595.00\n",
              "1     1       LOFT  0.000000     1  ... -0.024414 -3336.0  826.5  136.25\n",
              "2     1       LOFT  0.003906     0  ...  0.956055 -7324.0  643.0  595.00\n",
              "3     1       LOFT  0.003906     1  ... -0.047607 -3336.0  826.5  136.25\n",
              "4     1       LOFT  0.007812     0  ...  1.473633 -7324.0  643.0  595.00\n",
              "\n",
              "[5 rows x 27 columns]"
            ]
          },
          "metadata": {
            "tags": []
          },
          "execution_count": 7
        }
      ]
    },
    {
      "cell_type": "code",
      "metadata": {
        "id": "wG18kPDY6vcp",
        "colab_type": "code",
        "colab": {}
      },
      "source": [
        "import joblib\n",
        "model = joblib.load('/content/drive/My Drive/ML case study/models/Model_building_LGB(1).pkl')"
      ],
      "execution_count": null,
      "outputs": []
    },
    {
      "cell_type": "code",
      "metadata": {
        "id": "C6NMPbMm62fn",
        "colab_type": "code",
        "colab": {}
      },
      "source": [
        "y_pred = model.predict(test,num_iteration=model.best_iteration)"
      ],
      "execution_count": null,
      "outputs": []
    },
    {
      "cell_type": "code",
      "metadata": {
        "id": "8w5qaXFN7Hc0",
        "colab_type": "code",
        "colab": {
          "base_uri": "https://localhost:8080/",
          "height": 136
        },
        "outputId": "cad35b14-293d-497d-f785-296f51072c8c"
      },
      "source": [
        "y_pred"
      ],
      "execution_count": null,
      "outputs": [
        {
          "output_type": "execute_result",
          "data": {
            "text/plain": [
              "array([[0.97357333, 0.00215279, 0.02030727, 0.00396661],\n",
              "       [0.96985874, 0.00287824, 0.02312566, 0.00413735],\n",
              "       [0.97360533, 0.00219119, 0.02011564, 0.00408784],\n",
              "       ...,\n",
              "       [0.88274026, 0.00318973, 0.10606072, 0.00800928],\n",
              "       [0.94154287, 0.00231302, 0.04893579, 0.00720831],\n",
              "       [0.88331155, 0.00313693, 0.10554946, 0.00800207]])"
            ]
          },
          "metadata": {
            "tags": []
          },
          "execution_count": 15
        }
      ]
    },
    {
      "cell_type": "code",
      "metadata": {
        "id": "QMIL5E1A7IDJ",
        "colab_type": "code",
        "colab": {}
      },
      "source": [
        "import os\n",
        "os.chdir('/content/drive/My Drive/ML case study/results')"
      ],
      "execution_count": null,
      "outputs": []
    },
    {
      "cell_type": "code",
      "metadata": {
        "id": "1MLPyPTrB3l2",
        "colab_type": "code",
        "colab": {
          "base_uri": "https://localhost:8080/",
          "height": 34
        },
        "outputId": "e17a857c-74d2-4ae4-c683-05d392840ed1"
      },
      "source": [
        "import joblib\n",
        "joblib.dump(y_pred,'Model_building5_LGB_output(1).pkl')"
      ],
      "execution_count": null,
      "outputs": [
        {
          "output_type": "execute_result",
          "data": {
            "text/plain": [
              "['Model_building5_LGB_output(1).pkl']"
            ]
          },
          "metadata": {
            "tags": []
          },
          "execution_count": 17
        }
      ]
    },
    {
      "cell_type": "code",
      "metadata": {
        "id": "ZqJ72_35_UZF",
        "colab_type": "code",
        "colab": {}
      },
      "source": [
        "import joblib \n",
        "y_pred = joblib.load('/content/drive/My Drive/ML case study/results/Model_building5_LGB_output(1).pkl')"
      ],
      "execution_count": null,
      "outputs": []
    },
    {
      "cell_type": "code",
      "metadata": {
        "id": "pGYlGhKE_bbf",
        "colab_type": "code",
        "colab": {
          "base_uri": "https://localhost:8080/",
          "height": 136
        },
        "outputId": "4f00b63b-55b1-4bf1-dfa8-4220cf31f09a"
      },
      "source": [
        "y_pred"
      ],
      "execution_count": null,
      "outputs": [
        {
          "output_type": "execute_result",
          "data": {
            "text/plain": [
              "array([[0.97357333, 0.00215279, 0.02030727, 0.00396661],\n",
              "       [0.96985874, 0.00287824, 0.02312566, 0.00413735],\n",
              "       [0.97360533, 0.00219119, 0.02011564, 0.00408784],\n",
              "       ...,\n",
              "       [0.88274026, 0.00318973, 0.10606072, 0.00800928],\n",
              "       [0.94154287, 0.00231302, 0.04893579, 0.00720831],\n",
              "       [0.88331155, 0.00313693, 0.10554946, 0.00800207]])"
            ]
          },
          "metadata": {
            "tags": []
          },
          "execution_count": 7
        }
      ]
    },
    {
      "cell_type": "code",
      "metadata": {
        "id": "p_OFcX68BczS",
        "colab_type": "code",
        "colab": {}
      },
      "source": [
        "import os \n",
        "os.chdir('/content/drive/My Drive/ML case study/results/')"
      ],
      "execution_count": null,
      "outputs": []
    },
    {
      "cell_type": "code",
      "metadata": {
        "id": "FEMkSQgaJ7Cq",
        "colab_type": "code",
        "colab": {
          "base_uri": "https://localhost:8080/",
          "height": 255
        },
        "outputId": "6dae8749-6db7-4594-f92e-eff8fa1366d0"
      },
      "source": [
        "df_sub = pd.DataFrame(np.concatenate((np.arange(len(test))[:, np.newaxis], y_pred), axis=1), columns=['id', 'A', 'B', 'C', 'D'])\n",
        "df_sub['id'] = df_sub['id'].astype(int)\n",
        "print(df_sub)\n",
        "df_sub.to_csv(\"Model_building5_LGBop.csv\", index=False)"
      ],
      "execution_count": null,
      "outputs": [
        {
          "output_type": "stream",
          "text": [
            "                id         A         B         C         D\n",
            "0                0  0.973573  0.002153  0.020307  0.003967\n",
            "1                1  0.969859  0.002878  0.023126  0.004137\n",
            "2                2  0.973605  0.002191  0.020116  0.004088\n",
            "3                3  0.969847  0.002912  0.023105  0.004136\n",
            "4                4  0.974038  0.002179  0.019839  0.003944\n",
            "...            ...       ...       ...       ...       ...\n",
            "17965138  17965138  0.882729  0.003132  0.106111  0.008028\n",
            "17965139  17965139  0.941786  0.002305  0.048648  0.007261\n",
            "17965140  17965140  0.882740  0.003190  0.106061  0.008009\n",
            "17965141  17965141  0.941543  0.002313  0.048936  0.007208\n",
            "17965142  17965142  0.883312  0.003137  0.105549  0.008002\n",
            "\n",
            "[17965143 rows x 5 columns]\n"
          ],
          "name": "stdout"
        }
      ]
    },
    {
      "cell_type": "markdown",
      "metadata": {
        "id": "R6tHMQhZKzG9",
        "colab_type": "text"
      },
      "source": [
        "# **Random Forest**"
      ]
    },
    {
      "cell_type": "code",
      "metadata": {
        "id": "7vbWBLjcKMoy",
        "colab_type": "code",
        "colab": {}
      },
      "source": [
        "from sklearn.ensemble import RandomForestClassifier\n",
        "from sklearn.model_selection import RandomizedSearchCV \n",
        "param_dist = {\"n_estimators\":[1,5,10],\n",
        "              \"max_depth\" : [200], \n",
        "              \"criterion\" : ['entropy'],\n",
        "              \"random_state\" : [40],\n",
        "              \"max_features\" : ['auto'],\n",
        "              } \n",
        "rfc = RandomForestClassifier()\n",
        "rsc = RandomizedSearchCV(rfc,param_dist,cv=2,verbose=500)\n",
        "rsc.fit(X_train,y_train)\n",
        "print(\"Tuned Decision Tree Parameters: {}\".format(rsc.best_params_)) \n",
        "print(\"Best score is {}\".format(rsc.best_score_)) "
      ],
      "execution_count": null,
      "outputs": []
    },
    {
      "cell_type": "code",
      "metadata": {
        "id": "ErpSWjGJUeeJ",
        "colab_type": "code",
        "colab": {
          "base_uri": "https://localhost:8080/",
          "height": 168,
          "referenced_widgets": [
            "22abc063b727466ca33630d30366ee10",
            "7dbd6699685d412183752447ba9a060d",
            "ee777e26eed64ff98478db5722ce0695",
            "273d111c5dff4d69ab714c7691f188c0",
            "1a435989ba6c43248d7636b414b6f242",
            "aa0c194b77504bfe921610281323cdc0",
            "a20d17f2c8f24f05916c491e57a578d3",
            "8a66b8cbf1e14b5698f6456d22ce36de"
          ]
        },
        "outputId": "2f8603e3-1857-4ca9-f17e-f7dadc5522e3"
      },
      "source": [
        "from sklearn.ensemble import RandomForestClassifier\n",
        "from tqdm.auto import tqdm\n",
        "n_estimators =  [10,25,50]\n",
        "for i in tqdm(n_estimators):\n",
        "  print('n_estimators are:',i)\n",
        "  clf = RandomForestClassifier(n_estimators=i,max_depth=200,criterion='entropy')\n",
        "  clf.fit(X_train,y_train)\n",
        "  y_pred = clf.predict_proba(X_test)\n",
        "  print('Log_loss is:',(log_loss(y_test,y_pred)))"
      ],
      "execution_count": null,
      "outputs": [
        {
          "output_type": "display_data",
          "data": {
            "application/vnd.jupyter.widget-view+json": {
              "model_id": "22abc063b727466ca33630d30366ee10",
              "version_minor": 0,
              "version_major": 2
            },
            "text/plain": [
              "HBox(children=(FloatProgress(value=0.0, max=3.0), HTML(value='')))"
            ]
          },
          "metadata": {
            "tags": []
          }
        },
        {
          "output_type": "stream",
          "text": [
            "n_estimators are: 10\n",
            "Log_loss is: 0.043098855808167656\n",
            "n_estimators are: 25\n",
            "Log_loss is: 0.033084208336728135\n",
            "n_estimators are: 50\n",
            "Log_loss is: 0.03091853122729293\n",
            "\n"
          ],
          "name": "stdout"
        }
      ]
    },
    {
      "cell_type": "code",
      "metadata": {
        "id": "yQGTP554ctDD",
        "colab_type": "code",
        "colab": {}
      },
      "source": [
        ""
      ],
      "execution_count": null,
      "outputs": []
    }
  ]
}
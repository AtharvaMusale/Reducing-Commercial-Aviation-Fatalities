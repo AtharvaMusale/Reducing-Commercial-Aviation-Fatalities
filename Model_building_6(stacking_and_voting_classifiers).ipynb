{
  "nbformat": 4,
  "nbformat_minor": 0,
  "metadata": {
    "colab": {
      "name": "Model_building_6(stacking_and_voting_classifiers).ipynb",
      "provenance": []
    },
    "kernelspec": {
      "name": "python3",
      "display_name": "Python 3"
    }
  },
  "cells": [
    {
      "cell_type": "markdown",
      "metadata": {
        "id": "cK-uyIDvR8nQ",
        "colab_type": "text"
      },
      "source": [
        "**In this notebook I am trying to implement ensemble models like stacking and voting classifier on the data.**"
      ]
    },
    {
      "cell_type": "code",
      "metadata": {
        "id": "UGf0c_rk1V6C",
        "colab_type": "code",
        "colab": {
          "base_uri": "https://localhost:8080/",
          "height": 224
        },
        "outputId": "4cbcf379-0553-4e79-b8c1-cc01f10fafbc"
      },
      "source": [
        "!wget --header=\"Host: storage.googleapis.com\" --header=\"User-Agent: Mozilla/5.0 (X11; Linux x86_64) AppleWebKit/537.36 (KHTML, like Gecko) Chrome/84.0.4147.105 Safari/537.36\" --header=\"Accept: text/html,application/xhtml+xml,application/xml;q=0.9,image/webp,image/apng,*/*;q=0.8,application/signed-exchange;v=b3;q=0.9\" --header=\"Accept-Language: en-GB,en-US;q=0.9,en;q=0.8\" --header=\"Referer: https://www.kaggle.com/\" \"https://storage.googleapis.com/kaggle-competitions-data/kaggle-v2/11835/224935/compressed/train.csv.zip?GoogleAccessId=web-data@kaggle-161607.iam.gserviceaccount.com&Expires=1597288911&Signature=TnxuH0loGUxP0ci3MkeZAQhfVvvCeUpiKCM%2FSEW2QzpP%2FtNhdZg8TVKC5TIO4YE2FVa3KV5I2sTYC7fr%2FVekk6ZOA%2BF4A2vWp8Ku%2FWyeaVmMEVCRG5ZeYEV%2FZnRcsQrJocFJPwBNt5yfXnyzw2LNuZwX7wYdEWm3mIOqnBivVNj%2BY99uZ7r7jpOmSM1qZw7yuICrpHGIA5ixn6ygb02GmMxSGQsp59UeN222orKRIwmc9lHkMbTtsgH68UJ4hBrfUj927I9oeIynNesooj6Ex41OjOtOJ2iraZShwHqU9A469BPK3rM8JmcbDvIAdCcyFacfpXFWcl8Lit0MVC6fWA%3D%3D&response-content-disposition=attachment%3B+filename%3Dtrain.csv.zip\" -c -O 'train.csv.zip'"
      ],
      "execution_count": null,
      "outputs": [
        {
          "output_type": "stream",
          "text": [
            "--2020-08-11 12:25:28--  https://storage.googleapis.com/kaggle-competitions-data/kaggle-v2/11835/224935/compressed/train.csv.zip?GoogleAccessId=web-data@kaggle-161607.iam.gserviceaccount.com&Expires=1597288911&Signature=TnxuH0loGUxP0ci3MkeZAQhfVvvCeUpiKCM%2FSEW2QzpP%2FtNhdZg8TVKC5TIO4YE2FVa3KV5I2sTYC7fr%2FVekk6ZOA%2BF4A2vWp8Ku%2FWyeaVmMEVCRG5ZeYEV%2FZnRcsQrJocFJPwBNt5yfXnyzw2LNuZwX7wYdEWm3mIOqnBivVNj%2BY99uZ7r7jpOmSM1qZw7yuICrpHGIA5ixn6ygb02GmMxSGQsp59UeN222orKRIwmc9lHkMbTtsgH68UJ4hBrfUj927I9oeIynNesooj6Ex41OjOtOJ2iraZShwHqU9A469BPK3rM8JmcbDvIAdCcyFacfpXFWcl8Lit0MVC6fWA%3D%3D&response-content-disposition=attachment%3B+filename%3Dtrain.csv.zip\n",
            "Resolving storage.googleapis.com (storage.googleapis.com)... 64.233.189.128, 108.177.97.128, 108.177.125.128, ...\n",
            "Connecting to storage.googleapis.com (storage.googleapis.com)|64.233.189.128|:443... connected.\n",
            "HTTP request sent, awaiting response... 200 OK\n",
            "Length: 456337398 (435M) [application/zip]\n",
            "Saving to: ‘train.csv.zip’\n",
            "\n",
            "train.csv.zip       100%[===================>] 435.20M  32.7MB/s    in 12s     \n",
            "\n",
            "2020-08-11 12:25:40 (36.6 MB/s) - ‘train.csv.zip’ saved [456337398/456337398]\n",
            "\n"
          ],
          "name": "stdout"
        }
      ]
    },
    {
      "cell_type": "code",
      "metadata": {
        "id": "_dlfksbWY7Ey",
        "colab_type": "code",
        "colab": {
          "base_uri": "https://localhost:8080/",
          "height": 51
        },
        "outputId": "91d2775f-2af0-4292-dd9b-cb138f2ab8b3"
      },
      "source": [
        "!unzip train.csv.zip"
      ],
      "execution_count": null,
      "outputs": [
        {
          "output_type": "stream",
          "text": [
            "Archive:  train.csv.zip\n",
            "  inflating: train.csv               \n"
          ],
          "name": "stdout"
        }
      ]
    },
    {
      "cell_type": "code",
      "metadata": {
        "id": "4cPauknpY9T8",
        "colab_type": "code",
        "colab": {}
      },
      "source": [
        "import warnings\n",
        "import itertools\n",
        "import numpy as np \n",
        "import pandas as pd\n",
        "import seaborn as sns\n",
        "import lightgbm as lgb\n",
        "import matplotlib.pyplot as plt\n",
        "from tqdm import tqdm_notebook as tqdm\n",
        "from sklearn.preprocessing import MinMaxScaler\n",
        "from sklearn.model_selection import train_test_split\n",
        "from sklearn.metrics import confusion_matrix, log_loss\n",
        "import dask.dataframe as dd\n",
        "import dask\n",
        "import gc\n",
        "\n",
        "from yellowbrick.text import TSNEVisualizer\n",
        "\n",
        "%matplotlib inline\n",
        "plt.style.use(\"fivethirtyeight\")\n",
        "warnings.filterwarnings(action='ignore')\n",
        "sns.set_style('whitegrid')"
      ],
      "execution_count": null,
      "outputs": []
    },
    {
      "cell_type": "code",
      "metadata": {
        "id": "YvqQ630WZG-C",
        "colab_type": "code",
        "colab": {
          "base_uri": "https://localhost:8080/",
          "height": 170
        },
        "outputId": "4e36d807-5675-40a4-c9a8-c930177ef8bb"
      },
      "source": [
        "# This is to be used for memory optimization because the data is very large.\n",
        "def reduce_mem_usage(df):\n",
        "    \"\"\" iterate through all the columns of a dataframe and modify the data type\n",
        "        to reduce memory usage.        \n",
        "    \"\"\"\n",
        "    start_mem = df.memory_usage().sum() / 1024**2\n",
        "    print('Memory usage of dataframe is {:.2f} MB'.format(start_mem))\n",
        "    \n",
        "    for col in df.columns:\n",
        "        col_type = df[col].dtype\n",
        "        \n",
        "        if col_type != object:\n",
        "            c_min = df[col].min()\n",
        "            c_max = df[col].max()\n",
        "            if str(col_type)[:3] == 'int':\n",
        "                if c_min > np.iinfo(np.int8).min and c_max < np.iinfo(np.int8).max:\n",
        "                    df[col] = df[col].astype(np.int8)\n",
        "                elif c_min > np.iinfo(np.int16).min and c_max < np.iinfo(np.int16).max:\n",
        "                    df[col] = df[col].astype(np.int16)\n",
        "                elif c_min > np.iinfo(np.int32).min and c_max < np.iinfo(np.int32).max:\n",
        "                    df[col] = df[col].astype(np.int32)\n",
        "                elif c_min > np.iinfo(np.int64).min and c_max < np.iinfo(np.int64).max:\n",
        "                    df[col] = df[col].astype(np.int64)  \n",
        "            else:\n",
        "                if c_min > np.finfo(np.float16).min and c_max < np.finfo(np.float16).max:\n",
        "                    df[col] = df[col].astype(np.float16)\n",
        "                elif c_min > np.finfo(np.float32).min and c_max < np.finfo(np.float32).max:\n",
        "                    df[col] = df[col].astype(np.float32)\n",
        "                else:\n",
        "                    df[col] = df[col].astype(np.float64)\n",
        "        else:\n",
        "              df[col] = df[col].astype('category')\n",
        "\n",
        "    end_mem = df.memory_usage().sum() / 1024**2\n",
        "    print('Memory usage after optimization is: {:.2f} MB'.format(end_mem))\n",
        "    print('Decreased by {:.1f}%'.format(100 * (start_mem - end_mem) / start_mem))\n",
        "    \n",
        "    return df\n",
        "def featureModify(isTrain, numRows):\n",
        "    if isTrain:\n",
        "        df = dd.read_csv('train.csv',nrows=numRows) \n",
        "        df = df.compute()\n",
        "        # df['pilot'] = 100*df['crew']+df['seat']\n",
        "        df = reduce_mem_usage(df)\n",
        "        df['event'] = df['event'].map({\n",
        "            'A':0,\n",
        "            'B':1,\n",
        "            'C':2,\n",
        "            'D':3\n",
        "        })\n",
        "    else:\n",
        "        df = dd.read_csv('test.csv',nrows=numRows)\n",
        "        df = df.compute()\n",
        "        # df['pilot'] = 100*df['crew']+df['seat']\n",
        "        df = reduce_mem_usage(df)\n",
        "    \n",
        "    return df \n",
        "train = featureModify(True, None)\n",
        "y = train['event']\n",
        "train = train.drop('event',axis=1)\n",
        "print(train.shape)\n",
        "print(train.columns)"
      ],
      "execution_count": null,
      "outputs": [
        {
          "output_type": "stream",
          "text": [
            "Memory usage of dataframe is 1076.93 MB\n",
            "Memory usage after optimization is: 278.52 MB\n",
            "Decreased by 74.1%\n",
            "(4867421, 27)\n",
            "Index(['crew', 'experiment', 'time', 'seat', 'eeg_fp1', 'eeg_f7', 'eeg_f8',\n",
            "       'eeg_t4', 'eeg_t6', 'eeg_t5', 'eeg_t3', 'eeg_fp2', 'eeg_o1', 'eeg_p3',\n",
            "       'eeg_pz', 'eeg_f3', 'eeg_fz', 'eeg_f4', 'eeg_c4', 'eeg_p4', 'eeg_poz',\n",
            "       'eeg_c3', 'eeg_cz', 'eeg_o2', 'ecg', 'r', 'gsr'],\n",
            "      dtype='object')\n"
          ],
          "name": "stdout"
        }
      ]
    },
    {
      "cell_type": "code",
      "metadata": {
        "id": "U0JhnDuhZI9i",
        "colab_type": "code",
        "colab": {
          "base_uri": "https://localhost:8080/",
          "height": 224
        },
        "outputId": "4d8aff62-f083-4049-eb27-c237df1bd902"
      },
      "source": [
        "train.head()"
      ],
      "execution_count": null,
      "outputs": [
        {
          "output_type": "execute_result",
          "data": {
            "text/html": [
              "<div>\n",
              "<style scoped>\n",
              "    .dataframe tbody tr th:only-of-type {\n",
              "        vertical-align: middle;\n",
              "    }\n",
              "\n",
              "    .dataframe tbody tr th {\n",
              "        vertical-align: top;\n",
              "    }\n",
              "\n",
              "    .dataframe thead th {\n",
              "        text-align: right;\n",
              "    }\n",
              "</style>\n",
              "<table border=\"1\" class=\"dataframe\">\n",
              "  <thead>\n",
              "    <tr style=\"text-align: right;\">\n",
              "      <th></th>\n",
              "      <th>crew</th>\n",
              "      <th>experiment</th>\n",
              "      <th>time</th>\n",
              "      <th>seat</th>\n",
              "      <th>eeg_fp1</th>\n",
              "      <th>eeg_f7</th>\n",
              "      <th>eeg_f8</th>\n",
              "      <th>eeg_t4</th>\n",
              "      <th>eeg_t6</th>\n",
              "      <th>eeg_t5</th>\n",
              "      <th>eeg_t3</th>\n",
              "      <th>eeg_fp2</th>\n",
              "      <th>eeg_o1</th>\n",
              "      <th>eeg_p3</th>\n",
              "      <th>eeg_pz</th>\n",
              "      <th>eeg_f3</th>\n",
              "      <th>eeg_fz</th>\n",
              "      <th>eeg_f4</th>\n",
              "      <th>eeg_c4</th>\n",
              "      <th>eeg_p4</th>\n",
              "      <th>eeg_poz</th>\n",
              "      <th>eeg_c3</th>\n",
              "      <th>eeg_cz</th>\n",
              "      <th>eeg_o2</th>\n",
              "      <th>ecg</th>\n",
              "      <th>r</th>\n",
              "      <th>gsr</th>\n",
              "    </tr>\n",
              "  </thead>\n",
              "  <tbody>\n",
              "    <tr>\n",
              "      <th>0</th>\n",
              "      <td>1</td>\n",
              "      <td>CA</td>\n",
              "      <td>0.011719</td>\n",
              "      <td>1</td>\n",
              "      <td>-5.285156</td>\n",
              "      <td>26.781250</td>\n",
              "      <td>-9.523438</td>\n",
              "      <td>-12.796875</td>\n",
              "      <td>16.718750</td>\n",
              "      <td>33.75000</td>\n",
              "      <td>23.718750</td>\n",
              "      <td>-6.695312</td>\n",
              "      <td>29.234375</td>\n",
              "      <td>24.843750</td>\n",
              "      <td>3.921875</td>\n",
              "      <td>18.453125</td>\n",
              "      <td>1.075195</td>\n",
              "      <td>3.089844</td>\n",
              "      <td>37.375000</td>\n",
              "      <td>17.437500</td>\n",
              "      <td>19.203125</td>\n",
              "      <td>20.593750</td>\n",
              "      <td>-3.951172</td>\n",
              "      <td>14.507812</td>\n",
              "      <td>-4520.0</td>\n",
              "      <td>817.5</td>\n",
              "      <td>388.75</td>\n",
              "    </tr>\n",
              "    <tr>\n",
              "      <th>1</th>\n",
              "      <td>1</td>\n",
              "      <td>CA</td>\n",
              "      <td>0.015625</td>\n",
              "      <td>1</td>\n",
              "      <td>-2.427734</td>\n",
              "      <td>28.437500</td>\n",
              "      <td>-9.320312</td>\n",
              "      <td>-3.757812</td>\n",
              "      <td>15.968750</td>\n",
              "      <td>30.43750</td>\n",
              "      <td>21.015625</td>\n",
              "      <td>-6.476562</td>\n",
              "      <td>26.640625</td>\n",
              "      <td>24.140625</td>\n",
              "      <td>5.468750</td>\n",
              "      <td>20.515625</td>\n",
              "      <td>2.833984</td>\n",
              "      <td>7.101562</td>\n",
              "      <td>31.171875</td>\n",
              "      <td>19.406250</td>\n",
              "      <td>19.687500</td>\n",
              "      <td>21.359375</td>\n",
              "      <td>1.332031</td>\n",
              "      <td>17.750000</td>\n",
              "      <td>-4520.0</td>\n",
              "      <td>817.5</td>\n",
              "      <td>388.75</td>\n",
              "    </tr>\n",
              "    <tr>\n",
              "      <th>2</th>\n",
              "      <td>1</td>\n",
              "      <td>CA</td>\n",
              "      <td>0.019531</td>\n",
              "      <td>1</td>\n",
              "      <td>10.671875</td>\n",
              "      <td>30.421875</td>\n",
              "      <td>15.351562</td>\n",
              "      <td>24.718750</td>\n",
              "      <td>16.140625</td>\n",
              "      <td>32.15625</td>\n",
              "      <td>25.437500</td>\n",
              "      <td>-0.088684</td>\n",
              "      <td>28.125000</td>\n",
              "      <td>26.890625</td>\n",
              "      <td>8.578125</td>\n",
              "      <td>23.156250</td>\n",
              "      <td>4.519531</td>\n",
              "      <td>12.703125</td>\n",
              "      <td>-12.015625</td>\n",
              "      <td>19.390625</td>\n",
              "      <td>23.171875</td>\n",
              "      <td>22.406250</td>\n",
              "      <td>1.538086</td>\n",
              "      <td>22.250000</td>\n",
              "      <td>-4520.0</td>\n",
              "      <td>817.5</td>\n",
              "      <td>388.75</td>\n",
              "    </tr>\n",
              "    <tr>\n",
              "      <th>3</th>\n",
              "      <td>1</td>\n",
              "      <td>CA</td>\n",
              "      <td>0.023438</td>\n",
              "      <td>1</td>\n",
              "      <td>11.453125</td>\n",
              "      <td>25.609375</td>\n",
              "      <td>2.433594</td>\n",
              "      <td>12.414062</td>\n",
              "      <td>20.531250</td>\n",
              "      <td>31.50000</td>\n",
              "      <td>19.140625</td>\n",
              "      <td>-0.256592</td>\n",
              "      <td>30.656250</td>\n",
              "      <td>24.250000</td>\n",
              "      <td>8.640625</td>\n",
              "      <td>19.968750</td>\n",
              "      <td>7.277344</td>\n",
              "      <td>11.460938</td>\n",
              "      <td>18.578125</td>\n",
              "      <td>23.156250</td>\n",
              "      <td>22.640625</td>\n",
              "      <td>19.343750</td>\n",
              "      <td>2.544922</td>\n",
              "      <td>19.000000</td>\n",
              "      <td>-4520.0</td>\n",
              "      <td>817.5</td>\n",
              "      <td>388.75</td>\n",
              "    </tr>\n",
              "    <tr>\n",
              "      <th>4</th>\n",
              "      <td>1</td>\n",
              "      <td>CA</td>\n",
              "      <td>0.027344</td>\n",
              "      <td>1</td>\n",
              "      <td>7.285156</td>\n",
              "      <td>25.937500</td>\n",
              "      <td>0.113586</td>\n",
              "      <td>5.746094</td>\n",
              "      <td>19.828125</td>\n",
              "      <td>28.75000</td>\n",
              "      <td>20.578125</td>\n",
              "      <td>-1.953125</td>\n",
              "      <td>31.718750</td>\n",
              "      <td>25.156250</td>\n",
              "      <td>12.500000</td>\n",
              "      <td>18.750000</td>\n",
              "      <td>7.308594</td>\n",
              "      <td>8.007812</td>\n",
              "      <td>6.554688</td>\n",
              "      <td>22.750000</td>\n",
              "      <td>22.671875</td>\n",
              "      <td>20.296875</td>\n",
              "      <td>1.699219</td>\n",
              "      <td>22.812500</td>\n",
              "      <td>-4520.0</td>\n",
              "      <td>817.5</td>\n",
              "      <td>388.75</td>\n",
              "    </tr>\n",
              "  </tbody>\n",
              "</table>\n",
              "</div>"
            ],
            "text/plain": [
              "   crew experiment      time  seat  ...     eeg_o2     ecg      r     gsr\n",
              "0     1         CA  0.011719     1  ...  14.507812 -4520.0  817.5  388.75\n",
              "1     1         CA  0.015625     1  ...  17.750000 -4520.0  817.5  388.75\n",
              "2     1         CA  0.019531     1  ...  22.250000 -4520.0  817.5  388.75\n",
              "3     1         CA  0.023438     1  ...  19.000000 -4520.0  817.5  388.75\n",
              "4     1         CA  0.027344     1  ...  22.812500 -4520.0  817.5  388.75\n",
              "\n",
              "[5 rows x 27 columns]"
            ]
          },
          "metadata": {
            "tags": []
          },
          "execution_count": 32
        }
      ]
    },
    {
      "cell_type": "code",
      "metadata": {
        "id": "u-F5-y5jh6We",
        "colab_type": "code",
        "colab": {
          "base_uri": "https://localhost:8080/",
          "height": 102
        },
        "outputId": "2150396e-35ff-44e5-b3d1-ab9e1fccd3bf"
      },
      "source": [
        "train.columns"
      ],
      "execution_count": null,
      "outputs": [
        {
          "output_type": "execute_result",
          "data": {
            "text/plain": [
              "Index(['crew', 'experiment', 'time', 'seat', 'eeg_fp1', 'eeg_f7', 'eeg_f8',\n",
              "       'eeg_t4', 'eeg_t6', 'eeg_t5', 'eeg_t3', 'eeg_fp2', 'eeg_o1', 'eeg_p3',\n",
              "       'eeg_pz', 'eeg_f3', 'eeg_fz', 'eeg_f4', 'eeg_c4', 'eeg_p4', 'eeg_poz',\n",
              "       'eeg_c3', 'eeg_cz', 'eeg_o2', 'ecg', 'r', 'gsr'],\n",
              "      dtype='object')"
            ]
          },
          "metadata": {
            "tags": []
          },
          "execution_count": 33
        }
      ]
    },
    {
      "cell_type": "code",
      "metadata": {
        "id": "5I1nACVkiB2v",
        "colab_type": "code",
        "colab": {}
      },
      "source": [
        "feature = ['eeg_fp1', 'eeg_f7', 'eeg_f8',\n",
        "       'eeg_t4', 'eeg_t6', 'eeg_t5', 'eeg_t3', 'eeg_fp2', 'eeg_o1', 'eeg_p3',\n",
        "       'eeg_pz', 'eeg_f3', 'eeg_fz', 'eeg_f4', 'eeg_c4', 'eeg_p4', 'eeg_poz',\n",
        "       'eeg_c3', 'eeg_cz', 'eeg_o2', 'ecg', 'r', 'gsr']"
      ],
      "execution_count": null,
      "outputs": []
    },
    {
      "cell_type": "code",
      "metadata": {
        "id": "q3W5WXcIinMG",
        "colab_type": "code",
        "colab": {}
      },
      "source": [
        "from sklearn.preprocessing import MinMaxScaler\n",
        "mn = MinMaxScaler()\n",
        "for i in feature:\n",
        "  train[i] = mn.fit_transform(np.array(train[i]).reshape(-1,1))"
      ],
      "execution_count": null,
      "outputs": []
    },
    {
      "cell_type": "code",
      "metadata": {
        "id": "bPfDG4eEi_fM",
        "colab_type": "code",
        "colab": {
          "base_uri": "https://localhost:8080/",
          "height": 224
        },
        "outputId": "1e6656df-c78e-49de-cf1a-ecc9d17d095d"
      },
      "source": [
        "train.head()"
      ],
      "execution_count": null,
      "outputs": [
        {
          "output_type": "execute_result",
          "data": {
            "text/html": [
              "<div>\n",
              "<style scoped>\n",
              "    .dataframe tbody tr th:only-of-type {\n",
              "        vertical-align: middle;\n",
              "    }\n",
              "\n",
              "    .dataframe tbody tr th {\n",
              "        vertical-align: top;\n",
              "    }\n",
              "\n",
              "    .dataframe thead th {\n",
              "        text-align: right;\n",
              "    }\n",
              "</style>\n",
              "<table border=\"1\" class=\"dataframe\">\n",
              "  <thead>\n",
              "    <tr style=\"text-align: right;\">\n",
              "      <th></th>\n",
              "      <th>crew</th>\n",
              "      <th>experiment</th>\n",
              "      <th>time</th>\n",
              "      <th>seat</th>\n",
              "      <th>eeg_fp1</th>\n",
              "      <th>eeg_f7</th>\n",
              "      <th>eeg_f8</th>\n",
              "      <th>eeg_t4</th>\n",
              "      <th>eeg_t6</th>\n",
              "      <th>eeg_t5</th>\n",
              "      <th>eeg_t3</th>\n",
              "      <th>eeg_fp2</th>\n",
              "      <th>eeg_o1</th>\n",
              "      <th>eeg_p3</th>\n",
              "      <th>eeg_pz</th>\n",
              "      <th>eeg_f3</th>\n",
              "      <th>eeg_fz</th>\n",
              "      <th>eeg_f4</th>\n",
              "      <th>eeg_c4</th>\n",
              "      <th>eeg_p4</th>\n",
              "      <th>eeg_poz</th>\n",
              "      <th>eeg_c3</th>\n",
              "      <th>eeg_cz</th>\n",
              "      <th>eeg_o2</th>\n",
              "      <th>ecg</th>\n",
              "      <th>r</th>\n",
              "      <th>gsr</th>\n",
              "    </tr>\n",
              "  </thead>\n",
              "  <tbody>\n",
              "    <tr>\n",
              "      <th>0</th>\n",
              "      <td>1</td>\n",
              "      <td>CA</td>\n",
              "      <td>0.011719</td>\n",
              "      <td>1</td>\n",
              "      <td>0.406738</td>\n",
              "      <td>0.443115</td>\n",
              "      <td>0.431396</td>\n",
              "      <td>0.463135</td>\n",
              "      <td>0.583496</td>\n",
              "      <td>0.531738</td>\n",
              "      <td>0.466309</td>\n",
              "      <td>0.396484</td>\n",
              "      <td>0.611816</td>\n",
              "      <td>0.580566</td>\n",
              "      <td>0.571289</td>\n",
              "      <td>0.501465</td>\n",
              "      <td>0.510742</td>\n",
              "      <td>0.534668</td>\n",
              "      <td>0.593262</td>\n",
              "      <td>0.583496</td>\n",
              "      <td>0.468506</td>\n",
              "      <td>0.580078</td>\n",
              "      <td>0.528809</td>\n",
              "      <td>0.328857</td>\n",
              "      <td>0.266602</td>\n",
              "      <td>0.9375</td>\n",
              "      <td>0.194458</td>\n",
              "    </tr>\n",
              "    <tr>\n",
              "      <th>1</th>\n",
              "      <td>1</td>\n",
              "      <td>CA</td>\n",
              "      <td>0.015625</td>\n",
              "      <td>1</td>\n",
              "      <td>0.407715</td>\n",
              "      <td>0.443604</td>\n",
              "      <td>0.431396</td>\n",
              "      <td>0.465820</td>\n",
              "      <td>0.583008</td>\n",
              "      <td>0.530273</td>\n",
              "      <td>0.465332</td>\n",
              "      <td>0.396484</td>\n",
              "      <td>0.610840</td>\n",
              "      <td>0.580078</td>\n",
              "      <td>0.571289</td>\n",
              "      <td>0.502441</td>\n",
              "      <td>0.511230</td>\n",
              "      <td>0.535645</td>\n",
              "      <td>0.590332</td>\n",
              "      <td>0.584473</td>\n",
              "      <td>0.468506</td>\n",
              "      <td>0.580078</td>\n",
              "      <td>0.532715</td>\n",
              "      <td>0.329834</td>\n",
              "      <td>0.266602</td>\n",
              "      <td>0.9375</td>\n",
              "      <td>0.194458</td>\n",
              "    </tr>\n",
              "    <tr>\n",
              "      <th>2</th>\n",
              "      <td>1</td>\n",
              "      <td>CA</td>\n",
              "      <td>0.019531</td>\n",
              "      <td>1</td>\n",
              "      <td>0.411621</td>\n",
              "      <td>0.444092</td>\n",
              "      <td>0.437988</td>\n",
              "      <td>0.474609</td>\n",
              "      <td>0.583496</td>\n",
              "      <td>0.531250</td>\n",
              "      <td>0.466797</td>\n",
              "      <td>0.398438</td>\n",
              "      <td>0.611328</td>\n",
              "      <td>0.581543</td>\n",
              "      <td>0.571777</td>\n",
              "      <td>0.503418</td>\n",
              "      <td>0.511230</td>\n",
              "      <td>0.537109</td>\n",
              "      <td>0.569824</td>\n",
              "      <td>0.584473</td>\n",
              "      <td>0.469971</td>\n",
              "      <td>0.580566</td>\n",
              "      <td>0.532715</td>\n",
              "      <td>0.331055</td>\n",
              "      <td>0.266602</td>\n",
              "      <td>0.9375</td>\n",
              "      <td>0.194458</td>\n",
              "    </tr>\n",
              "    <tr>\n",
              "      <th>3</th>\n",
              "      <td>1</td>\n",
              "      <td>CA</td>\n",
              "      <td>0.023438</td>\n",
              "      <td>1</td>\n",
              "      <td>0.411865</td>\n",
              "      <td>0.442871</td>\n",
              "      <td>0.434570</td>\n",
              "      <td>0.470947</td>\n",
              "      <td>0.585449</td>\n",
              "      <td>0.530762</td>\n",
              "      <td>0.464600</td>\n",
              "      <td>0.398438</td>\n",
              "      <td>0.611816</td>\n",
              "      <td>0.580078</td>\n",
              "      <td>0.572266</td>\n",
              "      <td>0.501953</td>\n",
              "      <td>0.511719</td>\n",
              "      <td>0.536621</td>\n",
              "      <td>0.584473</td>\n",
              "      <td>0.585938</td>\n",
              "      <td>0.469727</td>\n",
              "      <td>0.579102</td>\n",
              "      <td>0.533691</td>\n",
              "      <td>0.330078</td>\n",
              "      <td>0.266602</td>\n",
              "      <td>0.9375</td>\n",
              "      <td>0.194458</td>\n",
              "    </tr>\n",
              "    <tr>\n",
              "      <th>4</th>\n",
              "      <td>1</td>\n",
              "      <td>CA</td>\n",
              "      <td>0.027344</td>\n",
              "      <td>1</td>\n",
              "      <td>0.410645</td>\n",
              "      <td>0.442871</td>\n",
              "      <td>0.433838</td>\n",
              "      <td>0.468750</td>\n",
              "      <td>0.584961</td>\n",
              "      <td>0.529785</td>\n",
              "      <td>0.465088</td>\n",
              "      <td>0.397949</td>\n",
              "      <td>0.612305</td>\n",
              "      <td>0.580566</td>\n",
              "      <td>0.572754</td>\n",
              "      <td>0.501953</td>\n",
              "      <td>0.511719</td>\n",
              "      <td>0.536133</td>\n",
              "      <td>0.578613</td>\n",
              "      <td>0.585938</td>\n",
              "      <td>0.469727</td>\n",
              "      <td>0.579590</td>\n",
              "      <td>0.533203</td>\n",
              "      <td>0.331299</td>\n",
              "      <td>0.266602</td>\n",
              "      <td>0.9375</td>\n",
              "      <td>0.194458</td>\n",
              "    </tr>\n",
              "  </tbody>\n",
              "</table>\n",
              "</div>"
            ],
            "text/plain": [
              "   crew experiment      time  seat  ...    eeg_o2       ecg       r       gsr\n",
              "0     1         CA  0.011719     1  ...  0.328857  0.266602  0.9375  0.194458\n",
              "1     1         CA  0.015625     1  ...  0.329834  0.266602  0.9375  0.194458\n",
              "2     1         CA  0.019531     1  ...  0.331055  0.266602  0.9375  0.194458\n",
              "3     1         CA  0.023438     1  ...  0.330078  0.266602  0.9375  0.194458\n",
              "4     1         CA  0.027344     1  ...  0.331299  0.266602  0.9375  0.194458\n",
              "\n",
              "[5 rows x 27 columns]"
            ]
          },
          "metadata": {
            "tags": []
          },
          "execution_count": 36
        }
      ]
    },
    {
      "cell_type": "code",
      "metadata": {
        "id": "m_1J2AVZantA",
        "colab_type": "code",
        "colab": {}
      },
      "source": [
        "dic1 = {'CA':0,'DA':1,'SS':3,'LOFT':4}\n",
        "train['experiment'] = train['experiment'].apply(lambda x: dic1[x])\n",
        "train['experiment'] = train['experiment'].astype('int8')"
      ],
      "execution_count": null,
      "outputs": []
    },
    {
      "cell_type": "code",
      "metadata": {
        "id": "thcWo7kzbC1Z",
        "colab_type": "code",
        "colab": {}
      },
      "source": [
        "from sklearn import model_selection\n",
        "from sklearn.linear_model import LogisticRegression\n",
        "from sklearn.naive_bayes import MultinomialNB \n",
        "from sklearn.ensemble import RandomForestClassifier,VotingClassifier\n",
        "from sklearn.tree import DecisionTreeClassifier\n",
        "from lightgbm import LGBMClassifier\n",
        "from sklearn import model_selection\n",
        "from mlxtend.classifier import EnsembleVoteClassifier\n",
        "from sklearn.metrics import log_loss\n"
      ],
      "execution_count": null,
      "outputs": []
    },
    {
      "cell_type": "markdown",
      "metadata": {
        "id": "rsqMAaKMrIzh",
        "colab_type": "text"
      },
      "source": [
        "# **Voting Classifier**"
      ]
    },
    {
      "cell_type": "markdown",
      "metadata": {
        "id": "OWf7PR7blL_5",
        "colab_type": "text"
      },
      "source": [
        "**A Voting Classifier is a machine learning model that trains on an ensemble of numerous models and predicts an output (class) based on their highest probability of chosen class as the output.**"
      ]
    },
    {
      "cell_type": "code",
      "metadata": {
        "id": "bLz8FdWzcQmP",
        "colab_type": "code",
        "colab": {}
      },
      "source": [
        "clf1 = LogisticRegression(random_state=1, C=0.01)\n",
        "clf2 = RandomForestClassifier(random_state=1,n_estimators = 50, max_depth = 200, criterion = 'entropy')\n",
        "clf3 = MultinomialNB(alpha=1e-07)\n",
        "clf4 = DecisionTreeClassifier(max_depth =200, criterion = 'entropy', random_state =40)\n",
        "clf5 = LGBMClassifier(    objective='multiclass',\n",
        "                          metric='multi_error',\n",
        "                          num_class=4,\n",
        "                          num_leaves=30,\n",
        "                          learning_rate = 0.01,\n",
        "                          num_threads=4,\n",
        "                          colsample_bytree=0.5,\n",
        "                          min_data_in_leaf=100, \n",
        "                          min_split_gain=0.00019,\n",
        "                          bagging_fraction = 0.9,\n",
        "                          bagging_seed=0)"
      ],
      "execution_count": null,
      "outputs": []
    },
    {
      "cell_type": "code",
      "metadata": {
        "id": "xmuy7hasjTXd",
        "colab_type": "code",
        "colab": {}
      },
      "source": [
        "from sklearn.model_selection import train_test_split\n",
        "X_train,X_test,y_train,y_test = train_test_split(train,y,test_size=0.25,random_state=40)"
      ],
      "execution_count": null,
      "outputs": []
    },
    {
      "cell_type": "code",
      "metadata": {
        "id": "U9c_pO27btib",
        "colab_type": "code",
        "colab": {
          "base_uri": "https://localhost:8080/",
          "height": 544
        },
        "outputId": "6bc9ad2a-9a38-4fc8-fc92-cd676c23ce90"
      },
      "source": [
        "eclf1 = VotingClassifier(estimators=[('lgb',clf5), ('mnb', clf3), ('rf', clf2), ('lr', clf1), ('DT',clf4)], voting='soft')\n",
        "eclf1.fit(X_train,y_train)"
      ],
      "execution_count": null,
      "outputs": [
        {
          "output_type": "execute_result",
          "data": {
            "text/plain": [
              "VotingClassifier(estimators=[('lgb',\n",
              "                              LGBMClassifier(bagging_fraction=0.9,\n",
              "                                             bagging_seed=0,\n",
              "                                             boosting_type='gbdt',\n",
              "                                             class_weight=None,\n",
              "                                             colsample_bytree=0.5,\n",
              "                                             importance_type='split',\n",
              "                                             learning_rate=0.01, max_depth=-1,\n",
              "                                             metric='multi_error',\n",
              "                                             min_child_samples=20,\n",
              "                                             min_child_weight=0.001,\n",
              "                                             min_data_in_leaf=100,\n",
              "                                             min_split_gain=0.00019,\n",
              "                                             n_estimators=100, n_jobs=-1,\n",
              "                                             num_class=4...\n",
              "                              DecisionTreeClassifier(ccp_alpha=0.0,\n",
              "                                                     class_weight=None,\n",
              "                                                     criterion='entropy',\n",
              "                                                     max_depth=200,\n",
              "                                                     max_features=None,\n",
              "                                                     max_leaf_nodes=None,\n",
              "                                                     min_impurity_decrease=0.0,\n",
              "                                                     min_impurity_split=None,\n",
              "                                                     min_samples_leaf=1,\n",
              "                                                     min_samples_split=2,\n",
              "                                                     min_weight_fraction_leaf=0.0,\n",
              "                                                     presort='deprecated',\n",
              "                                                     random_state=40,\n",
              "                                                     splitter='best'))],\n",
              "                 flatten_transform=True, n_jobs=None, voting='soft',\n",
              "                 weights=None)"
            ]
          },
          "metadata": {
            "tags": []
          },
          "execution_count": 34
        }
      ]
    },
    {
      "cell_type": "code",
      "metadata": {
        "id": "0ACxP_zCyr3P",
        "colab_type": "code",
        "colab": {}
      },
      "source": [
        "import os\n",
        "os.chdir('/content/drive/My Drive/ML case study/models')"
      ],
      "execution_count": null,
      "outputs": []
    },
    {
      "cell_type": "code",
      "metadata": {
        "id": "m2bHRjcvyrer",
        "colab_type": "code",
        "colab": {
          "base_uri": "https://localhost:8080/",
          "height": 34
        },
        "outputId": "044236bf-dfeb-4ab4-bbfd-2548a8a30413"
      },
      "source": [
        "import joblib\n",
        "joblib.dump(eclf1,'voting_classifier(1).pkl')"
      ],
      "execution_count": null,
      "outputs": [
        {
          "output_type": "execute_result",
          "data": {
            "text/plain": [
              "['voting_classifier(1).pkl']"
            ]
          },
          "metadata": {
            "tags": []
          },
          "execution_count": 36
        }
      ]
    },
    {
      "cell_type": "code",
      "metadata": {
        "id": "YYWXZLJoy-u-",
        "colab_type": "code",
        "colab": {}
      },
      "source": [
        "y_pred = eclf1.predict_proba(X_test)"
      ],
      "execution_count": null,
      "outputs": []
    },
    {
      "cell_type": "code",
      "metadata": {
        "id": "_N3SXniwzKmy",
        "colab_type": "code",
        "colab": {
          "base_uri": "https://localhost:8080/",
          "height": 136
        },
        "outputId": "08949713-07b5-466e-a939-3d356d77a5a5"
      },
      "source": [
        "y_pred"
      ],
      "execution_count": null,
      "outputs": [
        {
          "output_type": "execute_result",
          "data": {
            "text/plain": [
              "array([[0.92994889, 0.03118097, 0.03171215, 0.00715799],\n",
              "       [0.09489309, 0.00410205, 0.88611002, 0.01489484],\n",
              "       [0.07022134, 0.00356289, 0.91097268, 0.01524309],\n",
              "       ...,\n",
              "       [0.86321356, 0.0312255 , 0.04371111, 0.06184983],\n",
              "       [0.08433996, 0.00370177, 0.89485315, 0.01710512],\n",
              "       [0.92420922, 0.02859831, 0.03546824, 0.01172423]])"
            ]
          },
          "metadata": {
            "tags": []
          },
          "execution_count": 38
        }
      ]
    },
    {
      "cell_type": "code",
      "metadata": {
        "id": "7tvtiAOW-XDF",
        "colab_type": "code",
        "colab": {
          "base_uri": "https://localhost:8080/",
          "height": 34
        },
        "outputId": "292d6b9e-c57e-464d-b6be-06df80a94e58"
      },
      "source": [
        "log_loss(y_test,y_pred)"
      ],
      "execution_count": null,
      "outputs": [
        {
          "output_type": "execute_result",
          "data": {
            "text/plain": [
              "0.17574586453615432"
            ]
          },
          "metadata": {
            "tags": []
          },
          "execution_count": 39
        }
      ]
    },
    {
      "cell_type": "code",
      "metadata": {
        "id": "_9tZp7I4BEKP",
        "colab_type": "code",
        "colab": {}
      },
      "source": [
        "import joblib\n",
        "model = joblib.load('/content/drive/My Drive/ML case study/models/voting_classifier(1).pkl')"
      ],
      "execution_count": null,
      "outputs": []
    },
    {
      "cell_type": "code",
      "metadata": {
        "id": "YjIPM-oiDcYI",
        "colab_type": "code",
        "colab": {
          "base_uri": "https://localhost:8080/",
          "height": 544
        },
        "outputId": "52e50bca-6a1f-4373-f496-431ae4eba00e"
      },
      "source": [
        "model"
      ],
      "execution_count": null,
      "outputs": [
        {
          "output_type": "execute_result",
          "data": {
            "text/plain": [
              "VotingClassifier(estimators=[('lgb',\n",
              "                              LGBMClassifier(bagging_fraction=0.9,\n",
              "                                             bagging_seed=0,\n",
              "                                             boosting_type='gbdt',\n",
              "                                             class_weight=None,\n",
              "                                             colsample_bytree=0.5,\n",
              "                                             importance_type='split',\n",
              "                                             learning_rate=0.01, max_depth=-1,\n",
              "                                             metric='multi_error',\n",
              "                                             min_child_samples=20,\n",
              "                                             min_child_weight=0.001,\n",
              "                                             min_data_in_leaf=100,\n",
              "                                             min_split_gain=0.00019,\n",
              "                                             n_estimators=100, n_jobs=-1,\n",
              "                                             num_class=4...\n",
              "                              DecisionTreeClassifier(ccp_alpha=0.0,\n",
              "                                                     class_weight=None,\n",
              "                                                     criterion='entropy',\n",
              "                                                     max_depth=200,\n",
              "                                                     max_features=None,\n",
              "                                                     max_leaf_nodes=None,\n",
              "                                                     min_impurity_decrease=0.0,\n",
              "                                                     min_impurity_split=None,\n",
              "                                                     min_samples_leaf=1,\n",
              "                                                     min_samples_split=2,\n",
              "                                                     min_weight_fraction_leaf=0.0,\n",
              "                                                     presort='deprecated',\n",
              "                                                     random_state=40,\n",
              "                                                     splitter='best'))],\n",
              "                 flatten_transform=True, n_jobs=None, voting='soft',\n",
              "                 weights=None)"
            ]
          },
          "metadata": {
            "tags": []
          },
          "execution_count": 7
        }
      ]
    },
    {
      "cell_type": "code",
      "metadata": {
        "id": "hNlwQr_l_cbH",
        "colab_type": "code",
        "colab": {}
      },
      "source": [
        "os.chdir('/content')"
      ],
      "execution_count": null,
      "outputs": []
    },
    {
      "cell_type": "code",
      "metadata": {
        "id": "0wkZYqUXDsrp",
        "colab_type": "code",
        "colab": {
          "base_uri": "https://localhost:8080/",
          "height": 224
        },
        "outputId": "154f607f-7ef5-48b9-d810-97f1a56ba2e9"
      },
      "source": [
        "!wget --header=\"Host: storage.googleapis.com\" --header=\"User-Agent: Mozilla/5.0 (X11; Linux x86_64) AppleWebKit/537.36 (KHTML, like Gecko) Chrome/84.0.4147.105 Safari/537.36\" --header=\"Accept: text/html,application/xhtml+xml,application/xml;q=0.9,image/webp,image/apng,*/*;q=0.8,application/signed-exchange;v=b3;q=0.9\" --header=\"Accept-Language: en-GB,en-US;q=0.9,en;q=0.8\" --header=\"Referer: https://www.kaggle.com/\" \"https://storage.googleapis.com/kaggle-competitions-data/kaggle-v2/11835/224935/compressed/test.csv.zip?GoogleAccessId=web-data@kaggle-161607.iam.gserviceaccount.com&Expires=1597317006&Signature=RFZIgHU2QfPyXomx2CB0mTu0SAWvD89f1Gjd9tgjN1vLYho2Bstu6SoTu%2BkzFXrPuuuJtfYTQs%2BgQIO2kthGiViz%2BvIKCN02zjTG6VsBCpfIbbMS2csp5LYN3GGOp1XvfpT2FbTVf9HMczleZF%2BIPzD1GEIJi75oWVvUb3BD5o1hHrSsRm0t%2F1fv8c%2FozoRAOOtrN8QxUg9xezjW7TdVTQOey7WZao6SF4IUMNQNwqvz4%2BdOlLcE%2BMiQQN45UV7APiFtlsMpN%2Bz%2F2bFx%2F%2Fb%2FCxt00rmHlIuuQoxzd8znJAfA9SxxOVHaC4Z0eHIATvWGD%2FoyuEqiA1khMz11uwpSOA%3D%3D&response-content-disposition=attachment%3B+filename%3Dtest.csv.zip\" -c -O 'test.csv.zip'"
      ],
      "execution_count": null,
      "outputs": [
        {
          "output_type": "stream",
          "text": [
            "--2020-08-11 12:26:50--  https://storage.googleapis.com/kaggle-competitions-data/kaggle-v2/11835/224935/compressed/test.csv.zip?GoogleAccessId=web-data@kaggle-161607.iam.gserviceaccount.com&Expires=1597317006&Signature=RFZIgHU2QfPyXomx2CB0mTu0SAWvD89f1Gjd9tgjN1vLYho2Bstu6SoTu%2BkzFXrPuuuJtfYTQs%2BgQIO2kthGiViz%2BvIKCN02zjTG6VsBCpfIbbMS2csp5LYN3GGOp1XvfpT2FbTVf9HMczleZF%2BIPzD1GEIJi75oWVvUb3BD5o1hHrSsRm0t%2F1fv8c%2FozoRAOOtrN8QxUg9xezjW7TdVTQOey7WZao6SF4IUMNQNwqvz4%2BdOlLcE%2BMiQQN45UV7APiFtlsMpN%2Bz%2F2bFx%2F%2Fb%2FCxt00rmHlIuuQoxzd8znJAfA9SxxOVHaC4Z0eHIATvWGD%2FoyuEqiA1khMz11uwpSOA%3D%3D&response-content-disposition=attachment%3B+filename%3Dtest.csv.zip\n",
            "Resolving storage.googleapis.com (storage.googleapis.com)... 74.125.203.128, 64.233.188.128, 64.233.189.128, ...\n",
            "Connecting to storage.googleapis.com (storage.googleapis.com)|74.125.203.128|:443... connected.\n",
            "HTTP request sent, awaiting response... 200 OK\n",
            "Length: 1791131386 (1.7G) [application/zip]\n",
            "Saving to: ‘test.csv.zip’\n",
            "\n",
            "test.csv.zip        100%[===================>]   1.67G  93.6MB/s    in 20s     \n",
            "\n",
            "2020-08-11 12:27:10 (87.0 MB/s) - ‘test.csv.zip’ saved [1791131386/1791131386]\n",
            "\n"
          ],
          "name": "stdout"
        }
      ]
    },
    {
      "cell_type": "code",
      "metadata": {
        "id": "94oqEXeBEGEx",
        "colab_type": "code",
        "colab": {
          "base_uri": "https://localhost:8080/",
          "height": 51
        },
        "outputId": "c1bbc5b9-e6e0-436b-bc67-e4235ac4cca0"
      },
      "source": [
        "!unzip test.csv.zip"
      ],
      "execution_count": null,
      "outputs": [
        {
          "output_type": "stream",
          "text": [
            "Archive:  test.csv.zip\n",
            "  inflating: test.csv                \n"
          ],
          "name": "stdout"
        }
      ]
    },
    {
      "cell_type": "code",
      "metadata": {
        "id": "ef7It7YGEHvf",
        "colab_type": "code",
        "colab": {}
      },
      "source": [
        "from sklearn import model_selection\n",
        "from sklearn.linear_model import LogisticRegression\n",
        "from sklearn.naive_bayes import MultinomialNB \n",
        "from sklearn.ensemble import RandomForestClassifier,VotingClassifier\n",
        "from sklearn.tree import DecisionTreeClassifier\n",
        "from lightgbm import LGBMClassifier\n",
        "from sklearn import model_selection\n",
        "from mlxtend.classifier import EnsembleVoteClassifier\n",
        "from sklearn.metrics import log_loss\n"
      ],
      "execution_count": null,
      "outputs": []
    },
    {
      "cell_type": "code",
      "metadata": {
        "id": "aBiPMr7sEMOf",
        "colab_type": "code",
        "colab": {
          "base_uri": "https://localhost:8080/",
          "height": 85
        },
        "outputId": "8e4c2141-965a-40ed-8b1b-d77e88593990"
      },
      "source": [
        "test = featureModify(False,None)\n",
        "print('Done Test Read')"
      ],
      "execution_count": null,
      "outputs": [
        {
          "output_type": "stream",
          "text": [
            "Memory usage of dataframe is 3974.83 MB\n",
            "Memory usage after optimization is: 1079.37 MB\n",
            "Decreased by 72.8%\n",
            "Done Test Read\n"
          ],
          "name": "stdout"
        }
      ]
    },
    {
      "cell_type": "code",
      "metadata": {
        "id": "fffizrHmE1HY",
        "colab_type": "code",
        "colab": {
          "base_uri": "https://localhost:8080/",
          "height": 224
        },
        "outputId": "bb165bc4-1ffd-45d4-c1d1-a9594ba4046a"
      },
      "source": [
        "test.head()"
      ],
      "execution_count": null,
      "outputs": [
        {
          "output_type": "execute_result",
          "data": {
            "text/html": [
              "<div>\n",
              "<style scoped>\n",
              "    .dataframe tbody tr th:only-of-type {\n",
              "        vertical-align: middle;\n",
              "    }\n",
              "\n",
              "    .dataframe tbody tr th {\n",
              "        vertical-align: top;\n",
              "    }\n",
              "\n",
              "    .dataframe thead th {\n",
              "        text-align: right;\n",
              "    }\n",
              "</style>\n",
              "<table border=\"1\" class=\"dataframe\">\n",
              "  <thead>\n",
              "    <tr style=\"text-align: right;\">\n",
              "      <th></th>\n",
              "      <th>id</th>\n",
              "      <th>crew</th>\n",
              "      <th>experiment</th>\n",
              "      <th>time</th>\n",
              "      <th>seat</th>\n",
              "      <th>eeg_fp1</th>\n",
              "      <th>eeg_f7</th>\n",
              "      <th>eeg_f8</th>\n",
              "      <th>eeg_t4</th>\n",
              "      <th>eeg_t6</th>\n",
              "      <th>eeg_t5</th>\n",
              "      <th>eeg_t3</th>\n",
              "      <th>eeg_fp2</th>\n",
              "      <th>eeg_o1</th>\n",
              "      <th>eeg_p3</th>\n",
              "      <th>eeg_pz</th>\n",
              "      <th>eeg_f3</th>\n",
              "      <th>eeg_fz</th>\n",
              "      <th>eeg_f4</th>\n",
              "      <th>eeg_c4</th>\n",
              "      <th>eeg_p4</th>\n",
              "      <th>eeg_poz</th>\n",
              "      <th>eeg_c3</th>\n",
              "      <th>eeg_cz</th>\n",
              "      <th>eeg_o2</th>\n",
              "      <th>ecg</th>\n",
              "      <th>r</th>\n",
              "      <th>gsr</th>\n",
              "    </tr>\n",
              "  </thead>\n",
              "  <tbody>\n",
              "    <tr>\n",
              "      <th>0</th>\n",
              "      <td>0</td>\n",
              "      <td>1</td>\n",
              "      <td>LOFT</td>\n",
              "      <td>0.000000</td>\n",
              "      <td>0</td>\n",
              "      <td>17.906250</td>\n",
              "      <td>6.128906</td>\n",
              "      <td>0.994629</td>\n",
              "      <td>-28.203125</td>\n",
              "      <td>-47.687500</td>\n",
              "      <td>-187.125000</td>\n",
              "      <td>-33.187500</td>\n",
              "      <td>-4.222656</td>\n",
              "      <td>8.179688</td>\n",
              "      <td>33.156250</td>\n",
              "      <td>33.812500</td>\n",
              "      <td>21.750000</td>\n",
              "      <td>16.296875</td>\n",
              "      <td>-7.042969</td>\n",
              "      <td>-14.406250</td>\n",
              "      <td>-4.035156</td>\n",
              "      <td>-0.393799</td>\n",
              "      <td>31.843750</td>\n",
              "      <td>17.078125</td>\n",
              "      <td>-8.140625</td>\n",
              "      <td>-7324.0</td>\n",
              "      <td>643.0</td>\n",
              "      <td>595.00</td>\n",
              "    </tr>\n",
              "    <tr>\n",
              "      <th>1</th>\n",
              "      <td>1</td>\n",
              "      <td>1</td>\n",
              "      <td>LOFT</td>\n",
              "      <td>0.000000</td>\n",
              "      <td>1</td>\n",
              "      <td>45.875000</td>\n",
              "      <td>94.750000</td>\n",
              "      <td>23.296875</td>\n",
              "      <td>1.391602</td>\n",
              "      <td>2.060547</td>\n",
              "      <td>-5.144531</td>\n",
              "      <td>6.394531</td>\n",
              "      <td>33.406250</td>\n",
              "      <td>-295.000000</td>\n",
              "      <td>8.375000</td>\n",
              "      <td>29.640625</td>\n",
              "      <td>16.218750</td>\n",
              "      <td>850.500000</td>\n",
              "      <td>19.890625</td>\n",
              "      <td>-215.125000</td>\n",
              "      <td>2.119141</td>\n",
              "      <td>7.339844</td>\n",
              "      <td>9.664062</td>\n",
              "      <td>1169.000000</td>\n",
              "      <td>-0.024414</td>\n",
              "      <td>-3336.0</td>\n",
              "      <td>826.5</td>\n",
              "      <td>136.25</td>\n",
              "    </tr>\n",
              "    <tr>\n",
              "      <th>2</th>\n",
              "      <td>2</td>\n",
              "      <td>1</td>\n",
              "      <td>LOFT</td>\n",
              "      <td>0.003906</td>\n",
              "      <td>0</td>\n",
              "      <td>33.125000</td>\n",
              "      <td>28.359375</td>\n",
              "      <td>-7.238281</td>\n",
              "      <td>-7.691406</td>\n",
              "      <td>-25.828125</td>\n",
              "      <td>-107.250000</td>\n",
              "      <td>12.843750</td>\n",
              "      <td>1.214844</td>\n",
              "      <td>13.320312</td>\n",
              "      <td>44.437500</td>\n",
              "      <td>37.593750</td>\n",
              "      <td>29.078125</td>\n",
              "      <td>22.312500</td>\n",
              "      <td>-7.640625</td>\n",
              "      <td>-10.367188</td>\n",
              "      <td>10.953125</td>\n",
              "      <td>6.511719</td>\n",
              "      <td>36.031250</td>\n",
              "      <td>24.359375</td>\n",
              "      <td>0.956055</td>\n",
              "      <td>-7324.0</td>\n",
              "      <td>643.0</td>\n",
              "      <td>595.00</td>\n",
              "    </tr>\n",
              "    <tr>\n",
              "      <th>3</th>\n",
              "      <td>3</td>\n",
              "      <td>1</td>\n",
              "      <td>LOFT</td>\n",
              "      <td>0.003906</td>\n",
              "      <td>1</td>\n",
              "      <td>43.281250</td>\n",
              "      <td>95.875000</td>\n",
              "      <td>18.703125</td>\n",
              "      <td>-1.432617</td>\n",
              "      <td>-4.234375</td>\n",
              "      <td>-8.023438</td>\n",
              "      <td>7.425781</td>\n",
              "      <td>27.343750</td>\n",
              "      <td>-310.250000</td>\n",
              "      <td>5.390625</td>\n",
              "      <td>27.734375</td>\n",
              "      <td>7.218750</td>\n",
              "      <td>816.500000</td>\n",
              "      <td>13.828125</td>\n",
              "      <td>-214.250000</td>\n",
              "      <td>-4.914062</td>\n",
              "      <td>3.503906</td>\n",
              "      <td>3.878906</td>\n",
              "      <td>1159.000000</td>\n",
              "      <td>-0.047607</td>\n",
              "      <td>-3336.0</td>\n",
              "      <td>826.5</td>\n",
              "      <td>136.25</td>\n",
              "    </tr>\n",
              "    <tr>\n",
              "      <th>4</th>\n",
              "      <td>4</td>\n",
              "      <td>1</td>\n",
              "      <td>LOFT</td>\n",
              "      <td>0.007812</td>\n",
              "      <td>0</td>\n",
              "      <td>7.929688</td>\n",
              "      <td>3.460938</td>\n",
              "      <td>-10.859375</td>\n",
              "      <td>-26.359375</td>\n",
              "      <td>-25.890625</td>\n",
              "      <td>37.000000</td>\n",
              "      <td>-50.343750</td>\n",
              "      <td>-11.679688</td>\n",
              "      <td>-1.143555</td>\n",
              "      <td>-17.593750</td>\n",
              "      <td>34.062500</td>\n",
              "      <td>22.906250</td>\n",
              "      <td>19.031250</td>\n",
              "      <td>2.044922</td>\n",
              "      <td>-20.781250</td>\n",
              "      <td>-3.613281</td>\n",
              "      <td>-7.539062</td>\n",
              "      <td>3.083984</td>\n",
              "      <td>13.648438</td>\n",
              "      <td>1.473633</td>\n",
              "      <td>-7324.0</td>\n",
              "      <td>643.0</td>\n",
              "      <td>595.00</td>\n",
              "    </tr>\n",
              "  </tbody>\n",
              "</table>\n",
              "</div>"
            ],
            "text/plain": [
              "   id  crew experiment      time  ...    eeg_o2     ecg      r     gsr\n",
              "0   0     1       LOFT  0.000000  ... -8.140625 -7324.0  643.0  595.00\n",
              "1   1     1       LOFT  0.000000  ... -0.024414 -3336.0  826.5  136.25\n",
              "2   2     1       LOFT  0.003906  ...  0.956055 -7324.0  643.0  595.00\n",
              "3   3     1       LOFT  0.003906  ... -0.047607 -3336.0  826.5  136.25\n",
              "4   4     1       LOFT  0.007812  ...  1.473633 -7324.0  643.0  595.00\n",
              "\n",
              "[5 rows x 28 columns]"
            ]
          },
          "metadata": {
            "tags": []
          },
          "execution_count": 16
        }
      ]
    },
    {
      "cell_type": "code",
      "metadata": {
        "id": "mxE4lnE6E3Uy",
        "colab_type": "code",
        "colab": {}
      },
      "source": [
        "df_sub = pd.DataFrame()\n",
        "df_sub['id'] = test['id']\n",
        "test = test.drop('id',axis=1)"
      ],
      "execution_count": null,
      "outputs": []
    },
    {
      "cell_type": "code",
      "metadata": {
        "id": "-1Q498vBFPsA",
        "colab_type": "code",
        "colab": {}
      },
      "source": [
        "feature = ['eeg_fp1', 'eeg_f7', 'eeg_f8',\n",
        "       'eeg_t4', 'eeg_t6', 'eeg_t5', 'eeg_t3', 'eeg_fp2', 'eeg_o1', 'eeg_p3',\n",
        "       'eeg_pz', 'eeg_f3', 'eeg_fz', 'eeg_f4', 'eeg_c4', 'eeg_p4', 'eeg_poz',\n",
        "       'eeg_c3', 'eeg_cz', 'eeg_o2', 'ecg', 'r', 'gsr']"
      ],
      "execution_count": null,
      "outputs": []
    },
    {
      "cell_type": "code",
      "metadata": {
        "id": "W_EZpl-pFWuo",
        "colab_type": "code",
        "colab": {}
      },
      "source": [
        "from sklearn.preprocessing import MinMaxScaler\n",
        "mn = MinMaxScaler()\n",
        "for i in feature:\n",
        "  test[i] = mn.fit_transform(np.array(test[i]).reshape(-1,1))"
      ],
      "execution_count": null,
      "outputs": []
    },
    {
      "cell_type": "code",
      "metadata": {
        "id": "qmwUc5yFFiDx",
        "colab_type": "code",
        "colab": {
          "base_uri": "https://localhost:8080/",
          "height": 224
        },
        "outputId": "a0d050f1-ba4e-4d8a-c973-1e319d645fb9"
      },
      "source": [
        "test.head()"
      ],
      "execution_count": null,
      "outputs": [
        {
          "output_type": "execute_result",
          "data": {
            "text/html": [
              "<div>\n",
              "<style scoped>\n",
              "    .dataframe tbody tr th:only-of-type {\n",
              "        vertical-align: middle;\n",
              "    }\n",
              "\n",
              "    .dataframe tbody tr th {\n",
              "        vertical-align: top;\n",
              "    }\n",
              "\n",
              "    .dataframe thead th {\n",
              "        text-align: right;\n",
              "    }\n",
              "</style>\n",
              "<table border=\"1\" class=\"dataframe\">\n",
              "  <thead>\n",
              "    <tr style=\"text-align: right;\">\n",
              "      <th></th>\n",
              "      <th>crew</th>\n",
              "      <th>experiment</th>\n",
              "      <th>time</th>\n",
              "      <th>seat</th>\n",
              "      <th>eeg_fp1</th>\n",
              "      <th>eeg_f7</th>\n",
              "      <th>eeg_f8</th>\n",
              "      <th>eeg_t4</th>\n",
              "      <th>eeg_t6</th>\n",
              "      <th>eeg_t5</th>\n",
              "      <th>eeg_t3</th>\n",
              "      <th>eeg_fp2</th>\n",
              "      <th>eeg_o1</th>\n",
              "      <th>eeg_p3</th>\n",
              "      <th>eeg_pz</th>\n",
              "      <th>eeg_f3</th>\n",
              "      <th>eeg_fz</th>\n",
              "      <th>eeg_f4</th>\n",
              "      <th>eeg_c4</th>\n",
              "      <th>eeg_p4</th>\n",
              "      <th>eeg_poz</th>\n",
              "      <th>eeg_c3</th>\n",
              "      <th>eeg_cz</th>\n",
              "      <th>eeg_o2</th>\n",
              "      <th>ecg</th>\n",
              "      <th>r</th>\n",
              "      <th>gsr</th>\n",
              "    </tr>\n",
              "  </thead>\n",
              "  <tbody>\n",
              "    <tr>\n",
              "      <th>0</th>\n",
              "      <td>1</td>\n",
              "      <td>LOFT</td>\n",
              "      <td>0.000000</td>\n",
              "      <td>0</td>\n",
              "      <td>0.495361</td>\n",
              "      <td>0.500488</td>\n",
              "      <td>0.493164</td>\n",
              "      <td>0.491699</td>\n",
              "      <td>0.489258</td>\n",
              "      <td>0.475342</td>\n",
              "      <td>0.491455</td>\n",
              "      <td>0.494629</td>\n",
              "      <td>0.501465</td>\n",
              "      <td>0.498291</td>\n",
              "      <td>0.502930</td>\n",
              "      <td>0.498291</td>\n",
              "      <td>0.500488</td>\n",
              "      <td>0.494141</td>\n",
              "      <td>0.507812</td>\n",
              "      <td>0.494873</td>\n",
              "      <td>0.494385</td>\n",
              "      <td>0.498779</td>\n",
              "      <td>0.510254</td>\n",
              "      <td>0.518066</td>\n",
              "      <td>0.0</td>\n",
              "      <td>0.575195</td>\n",
              "      <td>0.297607</td>\n",
              "    </tr>\n",
              "    <tr>\n",
              "      <th>1</th>\n",
              "      <td>1</td>\n",
              "      <td>LOFT</td>\n",
              "      <td>0.000000</td>\n",
              "      <td>1</td>\n",
              "      <td>0.498291</td>\n",
              "      <td>0.509766</td>\n",
              "      <td>0.495605</td>\n",
              "      <td>0.494873</td>\n",
              "      <td>0.494629</td>\n",
              "      <td>0.494873</td>\n",
              "      <td>0.495605</td>\n",
              "      <td>0.498779</td>\n",
              "      <td>0.467285</td>\n",
              "      <td>0.495605</td>\n",
              "      <td>0.502441</td>\n",
              "      <td>0.497559</td>\n",
              "      <td>0.592285</td>\n",
              "      <td>0.497070</td>\n",
              "      <td>0.485596</td>\n",
              "      <td>0.495605</td>\n",
              "      <td>0.495117</td>\n",
              "      <td>0.496338</td>\n",
              "      <td>0.649414</td>\n",
              "      <td>0.519043</td>\n",
              "      <td>0.0</td>\n",
              "      <td>0.991211</td>\n",
              "      <td>0.068176</td>\n",
              "    </tr>\n",
              "    <tr>\n",
              "      <th>2</th>\n",
              "      <td>1</td>\n",
              "      <td>LOFT</td>\n",
              "      <td>0.003906</td>\n",
              "      <td>0</td>\n",
              "      <td>0.496826</td>\n",
              "      <td>0.502930</td>\n",
              "      <td>0.492432</td>\n",
              "      <td>0.493896</td>\n",
              "      <td>0.491699</td>\n",
              "      <td>0.483887</td>\n",
              "      <td>0.496338</td>\n",
              "      <td>0.495361</td>\n",
              "      <td>0.501953</td>\n",
              "      <td>0.499268</td>\n",
              "      <td>0.502930</td>\n",
              "      <td>0.499023</td>\n",
              "      <td>0.501465</td>\n",
              "      <td>0.494141</td>\n",
              "      <td>0.508301</td>\n",
              "      <td>0.496582</td>\n",
              "      <td>0.495117</td>\n",
              "      <td>0.499268</td>\n",
              "      <td>0.511230</td>\n",
              "      <td>0.519043</td>\n",
              "      <td>0.0</td>\n",
              "      <td>0.575195</td>\n",
              "      <td>0.297607</td>\n",
              "    </tr>\n",
              "    <tr>\n",
              "      <th>3</th>\n",
              "      <td>1</td>\n",
              "      <td>LOFT</td>\n",
              "      <td>0.003906</td>\n",
              "      <td>1</td>\n",
              "      <td>0.498047</td>\n",
              "      <td>0.510254</td>\n",
              "      <td>0.495117</td>\n",
              "      <td>0.494385</td>\n",
              "      <td>0.493896</td>\n",
              "      <td>0.494385</td>\n",
              "      <td>0.495605</td>\n",
              "      <td>0.498047</td>\n",
              "      <td>0.465332</td>\n",
              "      <td>0.495117</td>\n",
              "      <td>0.501953</td>\n",
              "      <td>0.496582</td>\n",
              "      <td>0.588379</td>\n",
              "      <td>0.496338</td>\n",
              "      <td>0.485840</td>\n",
              "      <td>0.494873</td>\n",
              "      <td>0.494873</td>\n",
              "      <td>0.495850</td>\n",
              "      <td>0.648438</td>\n",
              "      <td>0.519043</td>\n",
              "      <td>0.0</td>\n",
              "      <td>0.991211</td>\n",
              "      <td>0.068176</td>\n",
              "    </tr>\n",
              "    <tr>\n",
              "      <th>4</th>\n",
              "      <td>1</td>\n",
              "      <td>LOFT</td>\n",
              "      <td>0.007812</td>\n",
              "      <td>0</td>\n",
              "      <td>0.494141</td>\n",
              "      <td>0.500000</td>\n",
              "      <td>0.491943</td>\n",
              "      <td>0.491699</td>\n",
              "      <td>0.491699</td>\n",
              "      <td>0.499268</td>\n",
              "      <td>0.489502</td>\n",
              "      <td>0.493896</td>\n",
              "      <td>0.500488</td>\n",
              "      <td>0.492676</td>\n",
              "      <td>0.502930</td>\n",
              "      <td>0.498291</td>\n",
              "      <td>0.500977</td>\n",
              "      <td>0.495117</td>\n",
              "      <td>0.506836</td>\n",
              "      <td>0.494873</td>\n",
              "      <td>0.493652</td>\n",
              "      <td>0.495605</td>\n",
              "      <td>0.509766</td>\n",
              "      <td>0.519043</td>\n",
              "      <td>0.0</td>\n",
              "      <td>0.575195</td>\n",
              "      <td>0.297607</td>\n",
              "    </tr>\n",
              "  </tbody>\n",
              "</table>\n",
              "</div>"
            ],
            "text/plain": [
              "   crew experiment      time  seat  ...    eeg_o2  ecg         r       gsr\n",
              "0     1       LOFT  0.000000     0  ...  0.518066  0.0  0.575195  0.297607\n",
              "1     1       LOFT  0.000000     1  ...  0.519043  0.0  0.991211  0.068176\n",
              "2     1       LOFT  0.003906     0  ...  0.519043  0.0  0.575195  0.297607\n",
              "3     1       LOFT  0.003906     1  ...  0.519043  0.0  0.991211  0.068176\n",
              "4     1       LOFT  0.007812     0  ...  0.519043  0.0  0.575195  0.297607\n",
              "\n",
              "[5 rows x 27 columns]"
            ]
          },
          "metadata": {
            "tags": []
          },
          "execution_count": 20
        }
      ]
    },
    {
      "cell_type": "code",
      "metadata": {
        "id": "bcD9dnQyF5HA",
        "colab_type": "code",
        "colab": {}
      },
      "source": [
        "dic1 = {'CA':0,'DA':1,'SS':3,'LOFT':4}\n",
        "test['experiment'] = test['experiment'].apply(lambda x: dic1[x])\n",
        "test['experiment'] = test['experiment'].astype('int8')"
      ],
      "execution_count": null,
      "outputs": []
    },
    {
      "cell_type": "code",
      "metadata": {
        "id": "uplMnnIxFjyK",
        "colab_type": "code",
        "colab": {}
      },
      "source": [
        "y_pred = model.predict_proba(test)"
      ],
      "execution_count": null,
      "outputs": []
    },
    {
      "cell_type": "code",
      "metadata": {
        "id": "3sq2g5scFu8T",
        "colab_type": "code",
        "colab": {
          "base_uri": "https://localhost:8080/",
          "height": 136
        },
        "outputId": "72cb3761-656e-449a-a7fe-bb9530c279a5"
      },
      "source": [
        "y_pred"
      ],
      "execution_count": null,
      "outputs": [
        {
          "output_type": "execute_result",
          "data": {
            "text/plain": [
              "array([[0.85903671, 0.05541984, 0.07509567, 0.01044778],\n",
              "       [0.87725464, 0.04538119, 0.05571262, 0.02165154],\n",
              "       [0.85904952, 0.0554075 , 0.07509567, 0.01044731],\n",
              "       ...,\n",
              "       [0.68104471, 0.00780678, 0.07783888, 0.23330963],\n",
              "       [0.72996542, 0.01540105, 0.04099227, 0.21364126],\n",
              "       [0.68104448, 0.00780678, 0.07783888, 0.23330986]])"
            ]
          },
          "metadata": {
            "tags": []
          },
          "execution_count": 22
        }
      ]
    },
    {
      "cell_type": "code",
      "metadata": {
        "id": "KT0BfDQ2HdYC",
        "colab_type": "code",
        "colab": {}
      },
      "source": [
        "import os\n",
        "os.chdir('/content/drive/My Drive/ML case study/results')"
      ],
      "execution_count": null,
      "outputs": []
    },
    {
      "cell_type": "code",
      "metadata": {
        "id": "VCSnBzVjHsoR",
        "colab_type": "code",
        "colab": {
          "base_uri": "https://localhost:8080/",
          "height": 255
        },
        "outputId": "eeb61b55-4435-40ab-cea8-84e7ab1c086f"
      },
      "source": [
        "df_sub = pd.DataFrame(np.concatenate((np.arange(len(test))[:, np.newaxis], y_pred), axis=1), columns=['id', 'A', 'B', 'C', 'D'])\n",
        "df_sub['id'] = df_sub['id'].astype(int)\n",
        "print(df_sub)\n",
        "df_sub.to_csv(\"Model_building5_LGBop.csv\", index=False)"
      ],
      "execution_count": null,
      "outputs": [
        {
          "output_type": "stream",
          "text": [
            "                id         A         B         C         D\n",
            "0                0  0.859037  0.055420  0.075096  0.010448\n",
            "1                1  0.877255  0.045381  0.055713  0.021652\n",
            "2                2  0.859050  0.055408  0.075096  0.010447\n",
            "3                3  0.881251  0.045385  0.055713  0.017652\n",
            "4                4  0.859043  0.055414  0.075096  0.010448\n",
            "...            ...       ...       ...       ...       ...\n",
            "17965138  17965138  0.677046  0.011807  0.077839  0.233308\n",
            "17965139  17965139  0.729966  0.015401  0.040992  0.213640\n",
            "17965140  17965140  0.681045  0.007807  0.077839  0.233310\n",
            "17965141  17965141  0.729965  0.015401  0.040992  0.213641\n",
            "17965142  17965142  0.681044  0.007807  0.077839  0.233310\n",
            "\n",
            "[17965143 rows x 5 columns]\n"
          ],
          "name": "stdout"
        }
      ]
    },
    {
      "cell_type": "markdown",
      "metadata": {
        "id": "DzFJ9S1w1G5j",
        "colab_type": "text"
      },
      "source": [
        "# **Stacking Classifier**"
      ]
    },
    {
      "cell_type": "markdown",
      "metadata": {
        "id": "aQEkD1LmlbMz",
        "colab_type": "text"
      },
      "source": [
        "**Stacked generalization consists in stacking the output of individual estimator and use a classifier to compute the final prediction. Stacking allows to use the strength of each individual estimator by using their output as input of a final estimator.**"
      ]
    },
    {
      "cell_type": "code",
      "metadata": {
        "id": "iu2V5K-c1OrE",
        "colab_type": "code",
        "colab": {}
      },
      "source": [
        "from sklearn.ensemble import StackingClassifier\n",
        "clf1 = LogisticRegression(random_state=1, C=0.01)\n",
        "clf2 = RandomForestClassifier(random_state=1,n_estimators = 10, max_depth = 200, criterion = 'entropy')\n",
        "clf3 = MultinomialNB(alpha=1e-07)\n",
        "clf4 = DecisionTreeClassifier(max_depth =200, criterion = 'entropy', random_state =40)\n",
        "clf5 = LGBMClassifier(    objective='multiclass',\n",
        "                          metric='multi_error',\n",
        "                          num_class=4,\n",
        "                          num_leaves=30,\n",
        "                          learning_rate = 0.01,\n",
        "                          num_threads=4,\n",
        "                          colsample_bytree=0.5,\n",
        "                          min_data_in_leaf=100, \n",
        "                          min_split_gain=0.00019,\n",
        "                          bagging_fraction = 0.9,\n",
        "                          bagging_seed=0)"
      ],
      "execution_count": null,
      "outputs": []
    },
    {
      "cell_type": "code",
      "metadata": {
        "id": "Go-x6J9o2ClJ",
        "colab_type": "code",
        "colab": {}
      },
      "source": [
        "estimators = [\n",
        "     ('dt', clf4),\n",
        "     ('lgb', clf5),\n",
        "     ('rf',clf2)\n",
        "              ]"
      ],
      "execution_count": null,
      "outputs": []
    },
    {
      "cell_type": "code",
      "metadata": {
        "id": "ssInxkKI2gwB",
        "colab_type": "code",
        "colab": {}
      },
      "source": [
        "clf = StackingClassifier(estimators=estimators,stack_method='auto',verbose=500,cv=2)\n",
        "from sklearn.model_selection import train_test_split\n",
        "X_train,X_test,y_train,y_test = train_test_split(train,y,test_size=0.2,random_state=40)"
      ],
      "execution_count": null,
      "outputs": []
    },
    {
      "cell_type": "code",
      "metadata": {
        "id": "RCQniXeFreyE",
        "colab_type": "code",
        "colab": {
          "base_uri": "https://localhost:8080/",
          "height": 816
        },
        "outputId": "a8ba264c-9c91-424d-a023-d117f18b9b38"
      },
      "source": [
        "clf.fit(X_train,y_train)"
      ],
      "execution_count": null,
      "outputs": [
        {
          "output_type": "stream",
          "text": [
            "[Parallel(n_jobs=1)]: Using backend SequentialBackend with 1 concurrent workers.\n",
            "[Parallel(n_jobs=1)]: Done   1 out of   1 | elapsed:   31.7s remaining:    0.0s\n",
            "[Parallel(n_jobs=1)]: Done   2 out of   2 | elapsed:  1.0min remaining:    0.0s\n",
            "[Parallel(n_jobs=1)]: Done   2 out of   2 | elapsed:  1.1min finished\n",
            "[Parallel(n_jobs=1)]: Using backend SequentialBackend with 1 concurrent workers.\n",
            "[Parallel(n_jobs=1)]: Done   1 out of   1 | elapsed:  2.2min remaining:    0.0s\n",
            "[Parallel(n_jobs=1)]: Done   2 out of   2 | elapsed:  4.5min remaining:    0.0s\n",
            "[Parallel(n_jobs=1)]: Done   2 out of   2 | elapsed:  4.5min finished\n",
            "[Parallel(n_jobs=1)]: Using backend SequentialBackend with 1 concurrent workers.\n",
            "[Parallel(n_jobs=1)]: Done   1 out of   1 | elapsed:  3.1min remaining:    0.0s\n",
            "[Parallel(n_jobs=1)]: Done   2 out of   2 | elapsed:  6.1min remaining:    0.0s\n",
            "[Parallel(n_jobs=1)]: Done   2 out of   2 | elapsed:  6.1min finished\n"
          ],
          "name": "stdout"
        },
        {
          "output_type": "execute_result",
          "data": {
            "text/plain": [
              "StackingClassifier(cv=2,\n",
              "                   estimators=[('dt',\n",
              "                                DecisionTreeClassifier(ccp_alpha=0.0,\n",
              "                                                       class_weight=None,\n",
              "                                                       criterion='entropy',\n",
              "                                                       max_depth=200,\n",
              "                                                       max_features=None,\n",
              "                                                       max_leaf_nodes=None,\n",
              "                                                       min_impurity_decrease=0.0,\n",
              "                                                       min_impurity_split=None,\n",
              "                                                       min_samples_leaf=1,\n",
              "                                                       min_samples_split=2,\n",
              "                                                       min_weight_fraction_leaf=0.0,\n",
              "                                                       presort='deprecated',\n",
              "                                                       random_state=40,\n",
              "                                                       splitter='best')),\n",
              "                               ('lgb',\n",
              "                                L...\n",
              "                                                       max_depth=200,\n",
              "                                                       max_features='auto',\n",
              "                                                       max_leaf_nodes=None,\n",
              "                                                       max_samples=None,\n",
              "                                                       min_impurity_decrease=0.0,\n",
              "                                                       min_impurity_split=None,\n",
              "                                                       min_samples_leaf=1,\n",
              "                                                       min_samples_split=2,\n",
              "                                                       min_weight_fraction_leaf=0.0,\n",
              "                                                       n_estimators=10,\n",
              "                                                       n_jobs=None,\n",
              "                                                       oob_score=False,\n",
              "                                                       random_state=1,\n",
              "                                                       verbose=0,\n",
              "                                                       warm_start=False))],\n",
              "                   final_estimator=None, n_jobs=None, passthrough=False,\n",
              "                   stack_method='auto', verbose=500)"
            ]
          },
          "metadata": {
            "tags": []
          },
          "execution_count": 13
        }
      ]
    },
    {
      "cell_type": "code",
      "metadata": {
        "id": "nPxjVqeR3lfC",
        "colab_type": "code",
        "colab": {
          "base_uri": "https://localhost:8080/",
          "height": 214
        },
        "outputId": "97e6278f-4222-4f48-dfbb-69f42bf439b9"
      },
      "source": [
        "y_pred = clf.predict_proba(X_test)\n",
        "print(y_pred)\n",
        "from sklearn.metrics import log_loss\n",
        "print(log_loss(y_test,y_pred))"
      ],
      "execution_count": null,
      "outputs": [
        {
          "output_type": "error",
          "ename": "NameError",
          "evalue": "ignored",
          "traceback": [
            "\u001b[0;31m---------------------------------------------------------------------------\u001b[0m",
            "\u001b[0;31mNameError\u001b[0m                                 Traceback (most recent call last)",
            "\u001b[0;32m<ipython-input-18-91df5320d0c2>\u001b[0m in \u001b[0;36m<module>\u001b[0;34m()\u001b[0m\n\u001b[0;32m----> 1\u001b[0;31m \u001b[0my_pred\u001b[0m \u001b[0;34m=\u001b[0m \u001b[0mclf\u001b[0m\u001b[0;34m.\u001b[0m\u001b[0mpredict_proba\u001b[0m\u001b[0;34m(\u001b[0m\u001b[0mX_test\u001b[0m\u001b[0;34m)\u001b[0m\u001b[0;34m\u001b[0m\u001b[0;34m\u001b[0m\u001b[0m\n\u001b[0m\u001b[1;32m      2\u001b[0m \u001b[0mprint\u001b[0m\u001b[0;34m(\u001b[0m\u001b[0my_pred\u001b[0m\u001b[0;34m)\u001b[0m\u001b[0;34m\u001b[0m\u001b[0;34m\u001b[0m\u001b[0m\n\u001b[1;32m      3\u001b[0m \u001b[0;32mfrom\u001b[0m \u001b[0msklearn\u001b[0m\u001b[0;34m.\u001b[0m\u001b[0mmetrics\u001b[0m \u001b[0;32mimport\u001b[0m \u001b[0mlog_loss\u001b[0m\u001b[0;34m\u001b[0m\u001b[0;34m\u001b[0m\u001b[0m\n\u001b[1;32m      4\u001b[0m \u001b[0mprint\u001b[0m\u001b[0;34m(\u001b[0m\u001b[0mlog_loss\u001b[0m\u001b[0;34m(\u001b[0m\u001b[0my_test\u001b[0m\u001b[0;34m,\u001b[0m\u001b[0my_pred\u001b[0m\u001b[0;34m)\u001b[0m\u001b[0;34m)\u001b[0m\u001b[0;34m\u001b[0m\u001b[0;34m\u001b[0m\u001b[0m\n",
            "\u001b[0;31mNameError\u001b[0m: name 'X_test' is not defined"
          ]
        }
      ]
    },
    {
      "cell_type": "code",
      "metadata": {
        "id": "4Rxb6h8byiyB",
        "colab_type": "code",
        "colab": {
          "base_uri": "https://localhost:8080/",
          "height": 122
        },
        "outputId": "3af416ac-ad7c-483e-ee6d-2cdc9a742eb3"
      },
      "source": [
        "from google.colab import drive\n",
        "drive.mount('/content/drive')"
      ],
      "execution_count": null,
      "outputs": [
        {
          "output_type": "stream",
          "text": [
            "Go to this URL in a browser: https://accounts.google.com/o/oauth2/auth?client_id=947318989803-6bn6qk8qdgf4n4g3pfee6491hc0brc4i.apps.googleusercontent.com&redirect_uri=urn%3aietf%3awg%3aoauth%3a2.0%3aoob&scope=email%20https%3a%2f%2fwww.googleapis.com%2fauth%2fdocs.test%20https%3a%2f%2fwww.googleapis.com%2fauth%2fdrive%20https%3a%2f%2fwww.googleapis.com%2fauth%2fdrive.photos.readonly%20https%3a%2f%2fwww.googleapis.com%2fauth%2fpeopleapi.readonly&response_type=code\n",
            "\n",
            "Enter your authorization code:\n",
            "··········\n",
            "Mounted at /content/drive\n"
          ],
          "name": "stdout"
        }
      ]
    },
    {
      "cell_type": "code",
      "metadata": {
        "id": "tNcaYdV9-HF9",
        "colab_type": "code",
        "colab": {}
      },
      "source": [
        "import os\n",
        "os.chdir('/content/drive/My Drive/ML case study/models')"
      ],
      "execution_count": null,
      "outputs": []
    },
    {
      "cell_type": "code",
      "metadata": {
        "id": "Isv0I9xi-Wgz",
        "colab_type": "code",
        "colab": {
          "base_uri": "https://localhost:8080/",
          "height": 34
        },
        "outputId": "204fafa2-3ee9-42e4-de93-267df20bf668"
      },
      "source": [
        "import joblib\n",
        "joblib.dump(clf,'stacking_classifer(1).pkl')"
      ],
      "execution_count": null,
      "outputs": [
        {
          "output_type": "execute_result",
          "data": {
            "text/plain": [
              "['stacking_classifer(1).pkl']"
            ]
          },
          "metadata": {
            "tags": []
          },
          "execution_count": 17
        }
      ]
    },
    {
      "cell_type": "code",
      "metadata": {
        "id": "RbzicxP53ybr",
        "colab_type": "code",
        "colab": {}
      },
      "source": [
        "import joblib\n",
        "clf = joblib.load('stacking_classifer(1).pkl')"
      ],
      "execution_count": null,
      "outputs": []
    },
    {
      "cell_type": "code",
      "metadata": {
        "id": "boDI1tBM-io3",
        "colab_type": "code",
        "colab": {}
      },
      "source": [
        "y_pred = clf.predict_proba(test)"
      ],
      "execution_count": null,
      "outputs": []
    },
    {
      "cell_type": "code",
      "metadata": {
        "id": "5dzcC6AXBARe",
        "colab_type": "code",
        "colab": {
          "base_uri": "https://localhost:8080/",
          "height": 136
        },
        "outputId": "1e836140-5073-4097-803c-2af5de1633c2"
      },
      "source": [
        "y_pred"
      ],
      "execution_count": null,
      "outputs": [
        {
          "output_type": "execute_result",
          "data": {
            "text/plain": [
              "array([[9.99599839e-01, 8.83706626e-05, 2.31596274e-05, 2.88630510e-04],\n",
              "       [9.99805754e-01, 3.91820473e-05, 2.99227209e-06, 1.52071679e-04],\n",
              "       [9.99599839e-01, 8.83706626e-05, 2.31596274e-05, 2.88630510e-04],\n",
              "       ...,\n",
              "       [9.98276114e-01, 6.54340388e-04, 3.15275662e-04, 7.54269753e-04],\n",
              "       [9.99062115e-01, 5.57535162e-04, 1.59893688e-05, 3.64360467e-04],\n",
              "       [9.98276114e-01, 6.54340388e-04, 3.15275662e-04, 7.54269753e-04]])"
            ]
          },
          "metadata": {
            "tags": []
          },
          "execution_count": 26
        }
      ]
    },
    {
      "cell_type": "code",
      "metadata": {
        "id": "6gxWFUJNBY6d",
        "colab_type": "code",
        "colab": {}
      },
      "source": [
        "os.chdir('/content/drive/My Drive/ML case study/results')"
      ],
      "execution_count": null,
      "outputs": []
    },
    {
      "cell_type": "code",
      "metadata": {
        "id": "6HMtBCQkBBLn",
        "colab_type": "code",
        "colab": {
          "base_uri": "https://localhost:8080/",
          "height": 255
        },
        "outputId": "76cff85c-c90d-47a0-94d4-75eddce8140e"
      },
      "source": [
        "df_sub = pd.DataFrame(np.concatenate((np.arange(len(test))[:, np.newaxis], y_pred), axis=1), columns=['id', 'A', 'B', 'C', 'D'])\n",
        "df_sub['id'] = df_sub['id'].astype(int)\n",
        "print(df_sub)\n",
        "df_sub.to_csv(\"stacking_op(1).csv\", index=False)"
      ],
      "execution_count": null,
      "outputs": [
        {
          "output_type": "stream",
          "text": [
            "                id         A         B         C         D\n",
            "0                0  0.999600  0.000088  0.000023  0.000289\n",
            "1                1  0.999806  0.000039  0.000003  0.000152\n",
            "2                2  0.999600  0.000088  0.000023  0.000289\n",
            "3                3  0.999806  0.000039  0.000003  0.000152\n",
            "4                4  0.999600  0.000088  0.000023  0.000289\n",
            "...            ...       ...       ...       ...       ...\n",
            "17965138  17965138  0.998276  0.000654  0.000315  0.000754\n",
            "17965139  17965139  0.999062  0.000558  0.000016  0.000364\n",
            "17965140  17965140  0.998276  0.000654  0.000315  0.000754\n",
            "17965141  17965141  0.999062  0.000558  0.000016  0.000364\n",
            "17965142  17965142  0.998276  0.000654  0.000315  0.000754\n",
            "\n",
            "[17965143 rows x 5 columns]\n"
          ],
          "name": "stdout"
        }
      ]
    },
    {
      "cell_type": "code",
      "metadata": {
        "id": "WeNuV5B7BhrM",
        "colab_type": "code",
        "colab": {
          "base_uri": "https://localhost:8080/",
          "height": 34
        },
        "outputId": "2aa8bdd5-fd0e-4c68-d02c-44597d01d4d1"
      },
      "source": [
        "y_pred.shape"
      ],
      "execution_count": null,
      "outputs": [
        {
          "output_type": "execute_result",
          "data": {
            "text/plain": [
              "(17965143, 4)"
            ]
          },
          "metadata": {
            "tags": []
          },
          "execution_count": 29
        }
      ]
    },
    {
      "cell_type": "markdown",
      "metadata": {
        "id": "XpuwHWEgl-mS",
        "colab_type": "text"
      },
      "source": [
        "The results on kaggle submission are as follows \n",
        "For voting classifier I got public scre of 0.463 and private score of 0.73.\n",
        "For stacking classifier I got the public score of 0.63 and private score of 1.408."
      ]
    },
    {
      "cell_type": "markdown",
      "metadata": {
        "id": "T0EX03VEmMeG",
        "colab_type": "text"
      },
      "source": [
        "![image.png](data:image/png;base64,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)"
      ]
    },
    {
      "cell_type": "markdown",
      "metadata": {
        "id": "kb66ShpemLAs",
        "colab_type": "text"
      },
      "source": [
        "![image.png](data:image/png;base64,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)"
      ]
    },
    {
      "cell_type": "code",
      "metadata": {
        "id": "KiC3OJPll9wf",
        "colab_type": "code",
        "colab": {}
      },
      "source": [
        ""
      ],
      "execution_count": null,
      "outputs": []
    }
  ]
}